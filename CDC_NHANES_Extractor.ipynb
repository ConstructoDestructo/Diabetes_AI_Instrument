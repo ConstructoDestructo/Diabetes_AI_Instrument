{
  "nbformat": 4,
  "nbformat_minor": 0,
  "metadata": {
    "colab": {
      "provenance": [],
      "mount_file_id": "1VSfK_SOb1vTpytUsJt9_81-EQuGAjsGW",
      "authorship_tag": "ABX9TyMpmZXetTbz2RPUWWnOfZyM",
      "include_colab_link": true
    },
    "kernelspec": {
      "name": "python3",
      "display_name": "Python 3"
    },
    "language_info": {
      "name": "python"
    },
    "widgets": {
      "application/vnd.jupyter.widget-state+json": {
        "730226a4efa24c74a8983137322bd046": {
          "model_module": "@jupyter-widgets/controls",
          "model_name": "HBoxModel",
          "model_module_version": "1.5.0",
          "state": {
            "_dom_classes": [],
            "_model_module": "@jupyter-widgets/controls",
            "_model_module_version": "1.5.0",
            "_model_name": "HBoxModel",
            "_view_count": null,
            "_view_module": "@jupyter-widgets/controls",
            "_view_module_version": "1.5.0",
            "_view_name": "HBoxView",
            "box_style": "",
            "children": [
              "IPY_MODEL_6aab3a600f474af99dceb03098511442",
              "IPY_MODEL_899cae54a20949348e98c8267f09c92b",
              "IPY_MODEL_d70b7d9627734edda09c107cd33a8ec7"
            ],
            "layout": "IPY_MODEL_1fdccdb9eff54e2da1c4650dc30592ae"
          }
        },
        "6aab3a600f474af99dceb03098511442": {
          "model_module": "@jupyter-widgets/controls",
          "model_name": "HTMLModel",
          "model_module_version": "1.5.0",
          "state": {
            "_dom_classes": [],
            "_model_module": "@jupyter-widgets/controls",
            "_model_module_version": "1.5.0",
            "_model_name": "HTMLModel",
            "_view_count": null,
            "_view_module": "@jupyter-widgets/controls",
            "_view_module_version": "1.5.0",
            "_view_name": "HTMLView",
            "description": "",
            "description_tooltip": null,
            "layout": "IPY_MODEL_fd8b7688dbc8487c93a733e3c61f0ce2",
            "placeholder": "​",
            "style": "IPY_MODEL_3c69918a97dc44fd95409d68349c4bee",
            "value": "modules.json: 100%"
          }
        },
        "899cae54a20949348e98c8267f09c92b": {
          "model_module": "@jupyter-widgets/controls",
          "model_name": "FloatProgressModel",
          "model_module_version": "1.5.0",
          "state": {
            "_dom_classes": [],
            "_model_module": "@jupyter-widgets/controls",
            "_model_module_version": "1.5.0",
            "_model_name": "FloatProgressModel",
            "_view_count": null,
            "_view_module": "@jupyter-widgets/controls",
            "_view_module_version": "1.5.0",
            "_view_name": "ProgressView",
            "bar_style": "success",
            "description": "",
            "description_tooltip": null,
            "layout": "IPY_MODEL_1e56a781a52849519a04b1ad7501922f",
            "max": 349,
            "min": 0,
            "orientation": "horizontal",
            "style": "IPY_MODEL_723a904fcad54a33814f0d3b8ec09200",
            "value": 349
          }
        },
        "d70b7d9627734edda09c107cd33a8ec7": {
          "model_module": "@jupyter-widgets/controls",
          "model_name": "HTMLModel",
          "model_module_version": "1.5.0",
          "state": {
            "_dom_classes": [],
            "_model_module": "@jupyter-widgets/controls",
            "_model_module_version": "1.5.0",
            "_model_name": "HTMLModel",
            "_view_count": null,
            "_view_module": "@jupyter-widgets/controls",
            "_view_module_version": "1.5.0",
            "_view_name": "HTMLView",
            "description": "",
            "description_tooltip": null,
            "layout": "IPY_MODEL_03bd5a5757294a68861ec10f33633a09",
            "placeholder": "​",
            "style": "IPY_MODEL_2df81273217a4fa6811d2050e296fbe6",
            "value": " 349/349 [00:00&lt;00:00, 28.3kB/s]"
          }
        },
        "1fdccdb9eff54e2da1c4650dc30592ae": {
          "model_module": "@jupyter-widgets/base",
          "model_name": "LayoutModel",
          "model_module_version": "1.2.0",
          "state": {
            "_model_module": "@jupyter-widgets/base",
            "_model_module_version": "1.2.0",
            "_model_name": "LayoutModel",
            "_view_count": null,
            "_view_module": "@jupyter-widgets/base",
            "_view_module_version": "1.2.0",
            "_view_name": "LayoutView",
            "align_content": null,
            "align_items": null,
            "align_self": null,
            "border": null,
            "bottom": null,
            "display": null,
            "flex": null,
            "flex_flow": null,
            "grid_area": null,
            "grid_auto_columns": null,
            "grid_auto_flow": null,
            "grid_auto_rows": null,
            "grid_column": null,
            "grid_gap": null,
            "grid_row": null,
            "grid_template_areas": null,
            "grid_template_columns": null,
            "grid_template_rows": null,
            "height": null,
            "justify_content": null,
            "justify_items": null,
            "left": null,
            "margin": null,
            "max_height": null,
            "max_width": null,
            "min_height": null,
            "min_width": null,
            "object_fit": null,
            "object_position": null,
            "order": null,
            "overflow": null,
            "overflow_x": null,
            "overflow_y": null,
            "padding": null,
            "right": null,
            "top": null,
            "visibility": null,
            "width": null
          }
        },
        "fd8b7688dbc8487c93a733e3c61f0ce2": {
          "model_module": "@jupyter-widgets/base",
          "model_name": "LayoutModel",
          "model_module_version": "1.2.0",
          "state": {
            "_model_module": "@jupyter-widgets/base",
            "_model_module_version": "1.2.0",
            "_model_name": "LayoutModel",
            "_view_count": null,
            "_view_module": "@jupyter-widgets/base",
            "_view_module_version": "1.2.0",
            "_view_name": "LayoutView",
            "align_content": null,
            "align_items": null,
            "align_self": null,
            "border": null,
            "bottom": null,
            "display": null,
            "flex": null,
            "flex_flow": null,
            "grid_area": null,
            "grid_auto_columns": null,
            "grid_auto_flow": null,
            "grid_auto_rows": null,
            "grid_column": null,
            "grid_gap": null,
            "grid_row": null,
            "grid_template_areas": null,
            "grid_template_columns": null,
            "grid_template_rows": null,
            "height": null,
            "justify_content": null,
            "justify_items": null,
            "left": null,
            "margin": null,
            "max_height": null,
            "max_width": null,
            "min_height": null,
            "min_width": null,
            "object_fit": null,
            "object_position": null,
            "order": null,
            "overflow": null,
            "overflow_x": null,
            "overflow_y": null,
            "padding": null,
            "right": null,
            "top": null,
            "visibility": null,
            "width": null
          }
        },
        "3c69918a97dc44fd95409d68349c4bee": {
          "model_module": "@jupyter-widgets/controls",
          "model_name": "DescriptionStyleModel",
          "model_module_version": "1.5.0",
          "state": {
            "_model_module": "@jupyter-widgets/controls",
            "_model_module_version": "1.5.0",
            "_model_name": "DescriptionStyleModel",
            "_view_count": null,
            "_view_module": "@jupyter-widgets/base",
            "_view_module_version": "1.2.0",
            "_view_name": "StyleView",
            "description_width": ""
          }
        },
        "1e56a781a52849519a04b1ad7501922f": {
          "model_module": "@jupyter-widgets/base",
          "model_name": "LayoutModel",
          "model_module_version": "1.2.0",
          "state": {
            "_model_module": "@jupyter-widgets/base",
            "_model_module_version": "1.2.0",
            "_model_name": "LayoutModel",
            "_view_count": null,
            "_view_module": "@jupyter-widgets/base",
            "_view_module_version": "1.2.0",
            "_view_name": "LayoutView",
            "align_content": null,
            "align_items": null,
            "align_self": null,
            "border": null,
            "bottom": null,
            "display": null,
            "flex": null,
            "flex_flow": null,
            "grid_area": null,
            "grid_auto_columns": null,
            "grid_auto_flow": null,
            "grid_auto_rows": null,
            "grid_column": null,
            "grid_gap": null,
            "grid_row": null,
            "grid_template_areas": null,
            "grid_template_columns": null,
            "grid_template_rows": null,
            "height": null,
            "justify_content": null,
            "justify_items": null,
            "left": null,
            "margin": null,
            "max_height": null,
            "max_width": null,
            "min_height": null,
            "min_width": null,
            "object_fit": null,
            "object_position": null,
            "order": null,
            "overflow": null,
            "overflow_x": null,
            "overflow_y": null,
            "padding": null,
            "right": null,
            "top": null,
            "visibility": null,
            "width": null
          }
        },
        "723a904fcad54a33814f0d3b8ec09200": {
          "model_module": "@jupyter-widgets/controls",
          "model_name": "ProgressStyleModel",
          "model_module_version": "1.5.0",
          "state": {
            "_model_module": "@jupyter-widgets/controls",
            "_model_module_version": "1.5.0",
            "_model_name": "ProgressStyleModel",
            "_view_count": null,
            "_view_module": "@jupyter-widgets/base",
            "_view_module_version": "1.2.0",
            "_view_name": "StyleView",
            "bar_color": null,
            "description_width": ""
          }
        },
        "03bd5a5757294a68861ec10f33633a09": {
          "model_module": "@jupyter-widgets/base",
          "model_name": "LayoutModel",
          "model_module_version": "1.2.0",
          "state": {
            "_model_module": "@jupyter-widgets/base",
            "_model_module_version": "1.2.0",
            "_model_name": "LayoutModel",
            "_view_count": null,
            "_view_module": "@jupyter-widgets/base",
            "_view_module_version": "1.2.0",
            "_view_name": "LayoutView",
            "align_content": null,
            "align_items": null,
            "align_self": null,
            "border": null,
            "bottom": null,
            "display": null,
            "flex": null,
            "flex_flow": null,
            "grid_area": null,
            "grid_auto_columns": null,
            "grid_auto_flow": null,
            "grid_auto_rows": null,
            "grid_column": null,
            "grid_gap": null,
            "grid_row": null,
            "grid_template_areas": null,
            "grid_template_columns": null,
            "grid_template_rows": null,
            "height": null,
            "justify_content": null,
            "justify_items": null,
            "left": null,
            "margin": null,
            "max_height": null,
            "max_width": null,
            "min_height": null,
            "min_width": null,
            "object_fit": null,
            "object_position": null,
            "order": null,
            "overflow": null,
            "overflow_x": null,
            "overflow_y": null,
            "padding": null,
            "right": null,
            "top": null,
            "visibility": null,
            "width": null
          }
        },
        "2df81273217a4fa6811d2050e296fbe6": {
          "model_module": "@jupyter-widgets/controls",
          "model_name": "DescriptionStyleModel",
          "model_module_version": "1.5.0",
          "state": {
            "_model_module": "@jupyter-widgets/controls",
            "_model_module_version": "1.5.0",
            "_model_name": "DescriptionStyleModel",
            "_view_count": null,
            "_view_module": "@jupyter-widgets/base",
            "_view_module_version": "1.2.0",
            "_view_name": "StyleView",
            "description_width": ""
          }
        },
        "fc414d376b29432c9358c4fdbe303bb5": {
          "model_module": "@jupyter-widgets/controls",
          "model_name": "HBoxModel",
          "model_module_version": "1.5.0",
          "state": {
            "_dom_classes": [],
            "_model_module": "@jupyter-widgets/controls",
            "_model_module_version": "1.5.0",
            "_model_name": "HBoxModel",
            "_view_count": null,
            "_view_module": "@jupyter-widgets/controls",
            "_view_module_version": "1.5.0",
            "_view_name": "HBoxView",
            "box_style": "",
            "children": [
              "IPY_MODEL_f9b98534aba0446683c78e52cf83bb03",
              "IPY_MODEL_8f0d2f5318c24761bedc306ff6168e60",
              "IPY_MODEL_966a48d59998470183d3875bd7c49029"
            ],
            "layout": "IPY_MODEL_111fea5271d8426dbaf9394e9c02d97a"
          }
        },
        "f9b98534aba0446683c78e52cf83bb03": {
          "model_module": "@jupyter-widgets/controls",
          "model_name": "HTMLModel",
          "model_module_version": "1.5.0",
          "state": {
            "_dom_classes": [],
            "_model_module": "@jupyter-widgets/controls",
            "_model_module_version": "1.5.0",
            "_model_name": "HTMLModel",
            "_view_count": null,
            "_view_module": "@jupyter-widgets/controls",
            "_view_module_version": "1.5.0",
            "_view_name": "HTMLView",
            "description": "",
            "description_tooltip": null,
            "layout": "IPY_MODEL_4725baa0aab0428ebc211005e6c3c0b2",
            "placeholder": "​",
            "style": "IPY_MODEL_92a44f748ee748a3bab26c08df43eb02",
            "value": "config_sentence_transformers.json: 100%"
          }
        },
        "8f0d2f5318c24761bedc306ff6168e60": {
          "model_module": "@jupyter-widgets/controls",
          "model_name": "FloatProgressModel",
          "model_module_version": "1.5.0",
          "state": {
            "_dom_classes": [],
            "_model_module": "@jupyter-widgets/controls",
            "_model_module_version": "1.5.0",
            "_model_name": "FloatProgressModel",
            "_view_count": null,
            "_view_module": "@jupyter-widgets/controls",
            "_view_module_version": "1.5.0",
            "_view_name": "ProgressView",
            "bar_style": "success",
            "description": "",
            "description_tooltip": null,
            "layout": "IPY_MODEL_b7aea7cb7d0447d8b853d09937124c8e",
            "max": 116,
            "min": 0,
            "orientation": "horizontal",
            "style": "IPY_MODEL_fdb478a7eb3443fa8aaa69d38b174583",
            "value": 116
          }
        },
        "966a48d59998470183d3875bd7c49029": {
          "model_module": "@jupyter-widgets/controls",
          "model_name": "HTMLModel",
          "model_module_version": "1.5.0",
          "state": {
            "_dom_classes": [],
            "_model_module": "@jupyter-widgets/controls",
            "_model_module_version": "1.5.0",
            "_model_name": "HTMLModel",
            "_view_count": null,
            "_view_module": "@jupyter-widgets/controls",
            "_view_module_version": "1.5.0",
            "_view_name": "HTMLView",
            "description": "",
            "description_tooltip": null,
            "layout": "IPY_MODEL_a8b6bbad731c4cb691b8d172007e9286",
            "placeholder": "​",
            "style": "IPY_MODEL_61b805d6ff0342c59a0b562b7c67f9a5",
            "value": " 116/116 [00:00&lt;00:00, 2.08kB/s]"
          }
        },
        "111fea5271d8426dbaf9394e9c02d97a": {
          "model_module": "@jupyter-widgets/base",
          "model_name": "LayoutModel",
          "model_module_version": "1.2.0",
          "state": {
            "_model_module": "@jupyter-widgets/base",
            "_model_module_version": "1.2.0",
            "_model_name": "LayoutModel",
            "_view_count": null,
            "_view_module": "@jupyter-widgets/base",
            "_view_module_version": "1.2.0",
            "_view_name": "LayoutView",
            "align_content": null,
            "align_items": null,
            "align_self": null,
            "border": null,
            "bottom": null,
            "display": null,
            "flex": null,
            "flex_flow": null,
            "grid_area": null,
            "grid_auto_columns": null,
            "grid_auto_flow": null,
            "grid_auto_rows": null,
            "grid_column": null,
            "grid_gap": null,
            "grid_row": null,
            "grid_template_areas": null,
            "grid_template_columns": null,
            "grid_template_rows": null,
            "height": null,
            "justify_content": null,
            "justify_items": null,
            "left": null,
            "margin": null,
            "max_height": null,
            "max_width": null,
            "min_height": null,
            "min_width": null,
            "object_fit": null,
            "object_position": null,
            "order": null,
            "overflow": null,
            "overflow_x": null,
            "overflow_y": null,
            "padding": null,
            "right": null,
            "top": null,
            "visibility": null,
            "width": null
          }
        },
        "4725baa0aab0428ebc211005e6c3c0b2": {
          "model_module": "@jupyter-widgets/base",
          "model_name": "LayoutModel",
          "model_module_version": "1.2.0",
          "state": {
            "_model_module": "@jupyter-widgets/base",
            "_model_module_version": "1.2.0",
            "_model_name": "LayoutModel",
            "_view_count": null,
            "_view_module": "@jupyter-widgets/base",
            "_view_module_version": "1.2.0",
            "_view_name": "LayoutView",
            "align_content": null,
            "align_items": null,
            "align_self": null,
            "border": null,
            "bottom": null,
            "display": null,
            "flex": null,
            "flex_flow": null,
            "grid_area": null,
            "grid_auto_columns": null,
            "grid_auto_flow": null,
            "grid_auto_rows": null,
            "grid_column": null,
            "grid_gap": null,
            "grid_row": null,
            "grid_template_areas": null,
            "grid_template_columns": null,
            "grid_template_rows": null,
            "height": null,
            "justify_content": null,
            "justify_items": null,
            "left": null,
            "margin": null,
            "max_height": null,
            "max_width": null,
            "min_height": null,
            "min_width": null,
            "object_fit": null,
            "object_position": null,
            "order": null,
            "overflow": null,
            "overflow_x": null,
            "overflow_y": null,
            "padding": null,
            "right": null,
            "top": null,
            "visibility": null,
            "width": null
          }
        },
        "92a44f748ee748a3bab26c08df43eb02": {
          "model_module": "@jupyter-widgets/controls",
          "model_name": "DescriptionStyleModel",
          "model_module_version": "1.5.0",
          "state": {
            "_model_module": "@jupyter-widgets/controls",
            "_model_module_version": "1.5.0",
            "_model_name": "DescriptionStyleModel",
            "_view_count": null,
            "_view_module": "@jupyter-widgets/base",
            "_view_module_version": "1.2.0",
            "_view_name": "StyleView",
            "description_width": ""
          }
        },
        "b7aea7cb7d0447d8b853d09937124c8e": {
          "model_module": "@jupyter-widgets/base",
          "model_name": "LayoutModel",
          "model_module_version": "1.2.0",
          "state": {
            "_model_module": "@jupyter-widgets/base",
            "_model_module_version": "1.2.0",
            "_model_name": "LayoutModel",
            "_view_count": null,
            "_view_module": "@jupyter-widgets/base",
            "_view_module_version": "1.2.0",
            "_view_name": "LayoutView",
            "align_content": null,
            "align_items": null,
            "align_self": null,
            "border": null,
            "bottom": null,
            "display": null,
            "flex": null,
            "flex_flow": null,
            "grid_area": null,
            "grid_auto_columns": null,
            "grid_auto_flow": null,
            "grid_auto_rows": null,
            "grid_column": null,
            "grid_gap": null,
            "grid_row": null,
            "grid_template_areas": null,
            "grid_template_columns": null,
            "grid_template_rows": null,
            "height": null,
            "justify_content": null,
            "justify_items": null,
            "left": null,
            "margin": null,
            "max_height": null,
            "max_width": null,
            "min_height": null,
            "min_width": null,
            "object_fit": null,
            "object_position": null,
            "order": null,
            "overflow": null,
            "overflow_x": null,
            "overflow_y": null,
            "padding": null,
            "right": null,
            "top": null,
            "visibility": null,
            "width": null
          }
        },
        "fdb478a7eb3443fa8aaa69d38b174583": {
          "model_module": "@jupyter-widgets/controls",
          "model_name": "ProgressStyleModel",
          "model_module_version": "1.5.0",
          "state": {
            "_model_module": "@jupyter-widgets/controls",
            "_model_module_version": "1.5.0",
            "_model_name": "ProgressStyleModel",
            "_view_count": null,
            "_view_module": "@jupyter-widgets/base",
            "_view_module_version": "1.2.0",
            "_view_name": "StyleView",
            "bar_color": null,
            "description_width": ""
          }
        },
        "a8b6bbad731c4cb691b8d172007e9286": {
          "model_module": "@jupyter-widgets/base",
          "model_name": "LayoutModel",
          "model_module_version": "1.2.0",
          "state": {
            "_model_module": "@jupyter-widgets/base",
            "_model_module_version": "1.2.0",
            "_model_name": "LayoutModel",
            "_view_count": null,
            "_view_module": "@jupyter-widgets/base",
            "_view_module_version": "1.2.0",
            "_view_name": "LayoutView",
            "align_content": null,
            "align_items": null,
            "align_self": null,
            "border": null,
            "bottom": null,
            "display": null,
            "flex": null,
            "flex_flow": null,
            "grid_area": null,
            "grid_auto_columns": null,
            "grid_auto_flow": null,
            "grid_auto_rows": null,
            "grid_column": null,
            "grid_gap": null,
            "grid_row": null,
            "grid_template_areas": null,
            "grid_template_columns": null,
            "grid_template_rows": null,
            "height": null,
            "justify_content": null,
            "justify_items": null,
            "left": null,
            "margin": null,
            "max_height": null,
            "max_width": null,
            "min_height": null,
            "min_width": null,
            "object_fit": null,
            "object_position": null,
            "order": null,
            "overflow": null,
            "overflow_x": null,
            "overflow_y": null,
            "padding": null,
            "right": null,
            "top": null,
            "visibility": null,
            "width": null
          }
        },
        "61b805d6ff0342c59a0b562b7c67f9a5": {
          "model_module": "@jupyter-widgets/controls",
          "model_name": "DescriptionStyleModel",
          "model_module_version": "1.5.0",
          "state": {
            "_model_module": "@jupyter-widgets/controls",
            "_model_module_version": "1.5.0",
            "_model_name": "DescriptionStyleModel",
            "_view_count": null,
            "_view_module": "@jupyter-widgets/base",
            "_view_module_version": "1.2.0",
            "_view_name": "StyleView",
            "description_width": ""
          }
        },
        "9565a59fefca40348cb92662d95fd3c1": {
          "model_module": "@jupyter-widgets/controls",
          "model_name": "HBoxModel",
          "model_module_version": "1.5.0",
          "state": {
            "_dom_classes": [],
            "_model_module": "@jupyter-widgets/controls",
            "_model_module_version": "1.5.0",
            "_model_name": "HBoxModel",
            "_view_count": null,
            "_view_module": "@jupyter-widgets/controls",
            "_view_module_version": "1.5.0",
            "_view_name": "HBoxView",
            "box_style": "",
            "children": [
              "IPY_MODEL_0ac9fcaeeba6463eab3d9c91deba5f99",
              "IPY_MODEL_082eb931b08c43cbbbda52035fbfa0f5",
              "IPY_MODEL_dc844f969f1549dbbb3172f0052a50f8"
            ],
            "layout": "IPY_MODEL_b4f07094e6664d48a3b3e3551c5d0a1f"
          }
        },
        "0ac9fcaeeba6463eab3d9c91deba5f99": {
          "model_module": "@jupyter-widgets/controls",
          "model_name": "HTMLModel",
          "model_module_version": "1.5.0",
          "state": {
            "_dom_classes": [],
            "_model_module": "@jupyter-widgets/controls",
            "_model_module_version": "1.5.0",
            "_model_name": "HTMLModel",
            "_view_count": null,
            "_view_module": "@jupyter-widgets/controls",
            "_view_module_version": "1.5.0",
            "_view_name": "HTMLView",
            "description": "",
            "description_tooltip": null,
            "layout": "IPY_MODEL_0fb5411e68bc4efb9d502c769bcff2d3",
            "placeholder": "​",
            "style": "IPY_MODEL_af1a0061033e42a7a73a274fa4656887",
            "value": "README.md: "
          }
        },
        "082eb931b08c43cbbbda52035fbfa0f5": {
          "model_module": "@jupyter-widgets/controls",
          "model_name": "FloatProgressModel",
          "model_module_version": "1.5.0",
          "state": {
            "_dom_classes": [],
            "_model_module": "@jupyter-widgets/controls",
            "_model_module_version": "1.5.0",
            "_model_name": "FloatProgressModel",
            "_view_count": null,
            "_view_module": "@jupyter-widgets/controls",
            "_view_module_version": "1.5.0",
            "_view_name": "ProgressView",
            "bar_style": "success",
            "description": "",
            "description_tooltip": null,
            "layout": "IPY_MODEL_7411619f53b945e9beeb75edb292d337",
            "max": 1,
            "min": 0,
            "orientation": "horizontal",
            "style": "IPY_MODEL_d23598d118c646eba0ea473e8495dc8d",
            "value": 1
          }
        },
        "dc844f969f1549dbbb3172f0052a50f8": {
          "model_module": "@jupyter-widgets/controls",
          "model_name": "HTMLModel",
          "model_module_version": "1.5.0",
          "state": {
            "_dom_classes": [],
            "_model_module": "@jupyter-widgets/controls",
            "_model_module_version": "1.5.0",
            "_model_name": "HTMLModel",
            "_view_count": null,
            "_view_module": "@jupyter-widgets/controls",
            "_view_module_version": "1.5.0",
            "_view_name": "HTMLView",
            "description": "",
            "description_tooltip": null,
            "layout": "IPY_MODEL_bb301e17cce54a6b8117ec1c5c7530ea",
            "placeholder": "​",
            "style": "IPY_MODEL_2d26bb540e884dc39673725d204bac4e",
            "value": " 10.5k/? [00:00&lt;00:00, 867kB/s]"
          }
        },
        "b4f07094e6664d48a3b3e3551c5d0a1f": {
          "model_module": "@jupyter-widgets/base",
          "model_name": "LayoutModel",
          "model_module_version": "1.2.0",
          "state": {
            "_model_module": "@jupyter-widgets/base",
            "_model_module_version": "1.2.0",
            "_model_name": "LayoutModel",
            "_view_count": null,
            "_view_module": "@jupyter-widgets/base",
            "_view_module_version": "1.2.0",
            "_view_name": "LayoutView",
            "align_content": null,
            "align_items": null,
            "align_self": null,
            "border": null,
            "bottom": null,
            "display": null,
            "flex": null,
            "flex_flow": null,
            "grid_area": null,
            "grid_auto_columns": null,
            "grid_auto_flow": null,
            "grid_auto_rows": null,
            "grid_column": null,
            "grid_gap": null,
            "grid_row": null,
            "grid_template_areas": null,
            "grid_template_columns": null,
            "grid_template_rows": null,
            "height": null,
            "justify_content": null,
            "justify_items": null,
            "left": null,
            "margin": null,
            "max_height": null,
            "max_width": null,
            "min_height": null,
            "min_width": null,
            "object_fit": null,
            "object_position": null,
            "order": null,
            "overflow": null,
            "overflow_x": null,
            "overflow_y": null,
            "padding": null,
            "right": null,
            "top": null,
            "visibility": null,
            "width": null
          }
        },
        "0fb5411e68bc4efb9d502c769bcff2d3": {
          "model_module": "@jupyter-widgets/base",
          "model_name": "LayoutModel",
          "model_module_version": "1.2.0",
          "state": {
            "_model_module": "@jupyter-widgets/base",
            "_model_module_version": "1.2.0",
            "_model_name": "LayoutModel",
            "_view_count": null,
            "_view_module": "@jupyter-widgets/base",
            "_view_module_version": "1.2.0",
            "_view_name": "LayoutView",
            "align_content": null,
            "align_items": null,
            "align_self": null,
            "border": null,
            "bottom": null,
            "display": null,
            "flex": null,
            "flex_flow": null,
            "grid_area": null,
            "grid_auto_columns": null,
            "grid_auto_flow": null,
            "grid_auto_rows": null,
            "grid_column": null,
            "grid_gap": null,
            "grid_row": null,
            "grid_template_areas": null,
            "grid_template_columns": null,
            "grid_template_rows": null,
            "height": null,
            "justify_content": null,
            "justify_items": null,
            "left": null,
            "margin": null,
            "max_height": null,
            "max_width": null,
            "min_height": null,
            "min_width": null,
            "object_fit": null,
            "object_position": null,
            "order": null,
            "overflow": null,
            "overflow_x": null,
            "overflow_y": null,
            "padding": null,
            "right": null,
            "top": null,
            "visibility": null,
            "width": null
          }
        },
        "af1a0061033e42a7a73a274fa4656887": {
          "model_module": "@jupyter-widgets/controls",
          "model_name": "DescriptionStyleModel",
          "model_module_version": "1.5.0",
          "state": {
            "_model_module": "@jupyter-widgets/controls",
            "_model_module_version": "1.5.0",
            "_model_name": "DescriptionStyleModel",
            "_view_count": null,
            "_view_module": "@jupyter-widgets/base",
            "_view_module_version": "1.2.0",
            "_view_name": "StyleView",
            "description_width": ""
          }
        },
        "7411619f53b945e9beeb75edb292d337": {
          "model_module": "@jupyter-widgets/base",
          "model_name": "LayoutModel",
          "model_module_version": "1.2.0",
          "state": {
            "_model_module": "@jupyter-widgets/base",
            "_model_module_version": "1.2.0",
            "_model_name": "LayoutModel",
            "_view_count": null,
            "_view_module": "@jupyter-widgets/base",
            "_view_module_version": "1.2.0",
            "_view_name": "LayoutView",
            "align_content": null,
            "align_items": null,
            "align_self": null,
            "border": null,
            "bottom": null,
            "display": null,
            "flex": null,
            "flex_flow": null,
            "grid_area": null,
            "grid_auto_columns": null,
            "grid_auto_flow": null,
            "grid_auto_rows": null,
            "grid_column": null,
            "grid_gap": null,
            "grid_row": null,
            "grid_template_areas": null,
            "grid_template_columns": null,
            "grid_template_rows": null,
            "height": null,
            "justify_content": null,
            "justify_items": null,
            "left": null,
            "margin": null,
            "max_height": null,
            "max_width": null,
            "min_height": null,
            "min_width": null,
            "object_fit": null,
            "object_position": null,
            "order": null,
            "overflow": null,
            "overflow_x": null,
            "overflow_y": null,
            "padding": null,
            "right": null,
            "top": null,
            "visibility": null,
            "width": "20px"
          }
        },
        "d23598d118c646eba0ea473e8495dc8d": {
          "model_module": "@jupyter-widgets/controls",
          "model_name": "ProgressStyleModel",
          "model_module_version": "1.5.0",
          "state": {
            "_model_module": "@jupyter-widgets/controls",
            "_model_module_version": "1.5.0",
            "_model_name": "ProgressStyleModel",
            "_view_count": null,
            "_view_module": "@jupyter-widgets/base",
            "_view_module_version": "1.2.0",
            "_view_name": "StyleView",
            "bar_color": null,
            "description_width": ""
          }
        },
        "bb301e17cce54a6b8117ec1c5c7530ea": {
          "model_module": "@jupyter-widgets/base",
          "model_name": "LayoutModel",
          "model_module_version": "1.2.0",
          "state": {
            "_model_module": "@jupyter-widgets/base",
            "_model_module_version": "1.2.0",
            "_model_name": "LayoutModel",
            "_view_count": null,
            "_view_module": "@jupyter-widgets/base",
            "_view_module_version": "1.2.0",
            "_view_name": "LayoutView",
            "align_content": null,
            "align_items": null,
            "align_self": null,
            "border": null,
            "bottom": null,
            "display": null,
            "flex": null,
            "flex_flow": null,
            "grid_area": null,
            "grid_auto_columns": null,
            "grid_auto_flow": null,
            "grid_auto_rows": null,
            "grid_column": null,
            "grid_gap": null,
            "grid_row": null,
            "grid_template_areas": null,
            "grid_template_columns": null,
            "grid_template_rows": null,
            "height": null,
            "justify_content": null,
            "justify_items": null,
            "left": null,
            "margin": null,
            "max_height": null,
            "max_width": null,
            "min_height": null,
            "min_width": null,
            "object_fit": null,
            "object_position": null,
            "order": null,
            "overflow": null,
            "overflow_x": null,
            "overflow_y": null,
            "padding": null,
            "right": null,
            "top": null,
            "visibility": null,
            "width": null
          }
        },
        "2d26bb540e884dc39673725d204bac4e": {
          "model_module": "@jupyter-widgets/controls",
          "model_name": "DescriptionStyleModel",
          "model_module_version": "1.5.0",
          "state": {
            "_model_module": "@jupyter-widgets/controls",
            "_model_module_version": "1.5.0",
            "_model_name": "DescriptionStyleModel",
            "_view_count": null,
            "_view_module": "@jupyter-widgets/base",
            "_view_module_version": "1.2.0",
            "_view_name": "StyleView",
            "description_width": ""
          }
        },
        "08cf20f58e7b44de8b050529f7dc907b": {
          "model_module": "@jupyter-widgets/controls",
          "model_name": "HBoxModel",
          "model_module_version": "1.5.0",
          "state": {
            "_dom_classes": [],
            "_model_module": "@jupyter-widgets/controls",
            "_model_module_version": "1.5.0",
            "_model_name": "HBoxModel",
            "_view_count": null,
            "_view_module": "@jupyter-widgets/controls",
            "_view_module_version": "1.5.0",
            "_view_name": "HBoxView",
            "box_style": "",
            "children": [
              "IPY_MODEL_14b9eec8507b4d368b5f65de83d7556e",
              "IPY_MODEL_426e195417784872b9285942289b9730",
              "IPY_MODEL_5bb61fbe71d647e49a7642a902bde5b7"
            ],
            "layout": "IPY_MODEL_a784e71b93904282bea79c288d5e9dc2"
          }
        },
        "14b9eec8507b4d368b5f65de83d7556e": {
          "model_module": "@jupyter-widgets/controls",
          "model_name": "HTMLModel",
          "model_module_version": "1.5.0",
          "state": {
            "_dom_classes": [],
            "_model_module": "@jupyter-widgets/controls",
            "_model_module_version": "1.5.0",
            "_model_name": "HTMLModel",
            "_view_count": null,
            "_view_module": "@jupyter-widgets/controls",
            "_view_module_version": "1.5.0",
            "_view_name": "HTMLView",
            "description": "",
            "description_tooltip": null,
            "layout": "IPY_MODEL_c275612ff13146e3a37a04a8a2c4133a",
            "placeholder": "​",
            "style": "IPY_MODEL_8fcba23def2c45578206054531890f74",
            "value": "sentence_bert_config.json: 100%"
          }
        },
        "426e195417784872b9285942289b9730": {
          "model_module": "@jupyter-widgets/controls",
          "model_name": "FloatProgressModel",
          "model_module_version": "1.5.0",
          "state": {
            "_dom_classes": [],
            "_model_module": "@jupyter-widgets/controls",
            "_model_module_version": "1.5.0",
            "_model_name": "FloatProgressModel",
            "_view_count": null,
            "_view_module": "@jupyter-widgets/controls",
            "_view_module_version": "1.5.0",
            "_view_name": "ProgressView",
            "bar_style": "success",
            "description": "",
            "description_tooltip": null,
            "layout": "IPY_MODEL_adfbfca9fac544a9b0594531048ed4ea",
            "max": 53,
            "min": 0,
            "orientation": "horizontal",
            "style": "IPY_MODEL_954d19af46704351b9c72de98210de50",
            "value": 53
          }
        },
        "5bb61fbe71d647e49a7642a902bde5b7": {
          "model_module": "@jupyter-widgets/controls",
          "model_name": "HTMLModel",
          "model_module_version": "1.5.0",
          "state": {
            "_dom_classes": [],
            "_model_module": "@jupyter-widgets/controls",
            "_model_module_version": "1.5.0",
            "_model_name": "HTMLModel",
            "_view_count": null,
            "_view_module": "@jupyter-widgets/controls",
            "_view_module_version": "1.5.0",
            "_view_name": "HTMLView",
            "description": "",
            "description_tooltip": null,
            "layout": "IPY_MODEL_ece5910e1eb44c858393dfaf2c2d98df",
            "placeholder": "​",
            "style": "IPY_MODEL_d6dac9c8a9d14ed28334e4fb5290eaeb",
            "value": " 53.0/53.0 [00:00&lt;00:00, 5.04kB/s]"
          }
        },
        "a784e71b93904282bea79c288d5e9dc2": {
          "model_module": "@jupyter-widgets/base",
          "model_name": "LayoutModel",
          "model_module_version": "1.2.0",
          "state": {
            "_model_module": "@jupyter-widgets/base",
            "_model_module_version": "1.2.0",
            "_model_name": "LayoutModel",
            "_view_count": null,
            "_view_module": "@jupyter-widgets/base",
            "_view_module_version": "1.2.0",
            "_view_name": "LayoutView",
            "align_content": null,
            "align_items": null,
            "align_self": null,
            "border": null,
            "bottom": null,
            "display": null,
            "flex": null,
            "flex_flow": null,
            "grid_area": null,
            "grid_auto_columns": null,
            "grid_auto_flow": null,
            "grid_auto_rows": null,
            "grid_column": null,
            "grid_gap": null,
            "grid_row": null,
            "grid_template_areas": null,
            "grid_template_columns": null,
            "grid_template_rows": null,
            "height": null,
            "justify_content": null,
            "justify_items": null,
            "left": null,
            "margin": null,
            "max_height": null,
            "max_width": null,
            "min_height": null,
            "min_width": null,
            "object_fit": null,
            "object_position": null,
            "order": null,
            "overflow": null,
            "overflow_x": null,
            "overflow_y": null,
            "padding": null,
            "right": null,
            "top": null,
            "visibility": null,
            "width": null
          }
        },
        "c275612ff13146e3a37a04a8a2c4133a": {
          "model_module": "@jupyter-widgets/base",
          "model_name": "LayoutModel",
          "model_module_version": "1.2.0",
          "state": {
            "_model_module": "@jupyter-widgets/base",
            "_model_module_version": "1.2.0",
            "_model_name": "LayoutModel",
            "_view_count": null,
            "_view_module": "@jupyter-widgets/base",
            "_view_module_version": "1.2.0",
            "_view_name": "LayoutView",
            "align_content": null,
            "align_items": null,
            "align_self": null,
            "border": null,
            "bottom": null,
            "display": null,
            "flex": null,
            "flex_flow": null,
            "grid_area": null,
            "grid_auto_columns": null,
            "grid_auto_flow": null,
            "grid_auto_rows": null,
            "grid_column": null,
            "grid_gap": null,
            "grid_row": null,
            "grid_template_areas": null,
            "grid_template_columns": null,
            "grid_template_rows": null,
            "height": null,
            "justify_content": null,
            "justify_items": null,
            "left": null,
            "margin": null,
            "max_height": null,
            "max_width": null,
            "min_height": null,
            "min_width": null,
            "object_fit": null,
            "object_position": null,
            "order": null,
            "overflow": null,
            "overflow_x": null,
            "overflow_y": null,
            "padding": null,
            "right": null,
            "top": null,
            "visibility": null,
            "width": null
          }
        },
        "8fcba23def2c45578206054531890f74": {
          "model_module": "@jupyter-widgets/controls",
          "model_name": "DescriptionStyleModel",
          "model_module_version": "1.5.0",
          "state": {
            "_model_module": "@jupyter-widgets/controls",
            "_model_module_version": "1.5.0",
            "_model_name": "DescriptionStyleModel",
            "_view_count": null,
            "_view_module": "@jupyter-widgets/base",
            "_view_module_version": "1.2.0",
            "_view_name": "StyleView",
            "description_width": ""
          }
        },
        "adfbfca9fac544a9b0594531048ed4ea": {
          "model_module": "@jupyter-widgets/base",
          "model_name": "LayoutModel",
          "model_module_version": "1.2.0",
          "state": {
            "_model_module": "@jupyter-widgets/base",
            "_model_module_version": "1.2.0",
            "_model_name": "LayoutModel",
            "_view_count": null,
            "_view_module": "@jupyter-widgets/base",
            "_view_module_version": "1.2.0",
            "_view_name": "LayoutView",
            "align_content": null,
            "align_items": null,
            "align_self": null,
            "border": null,
            "bottom": null,
            "display": null,
            "flex": null,
            "flex_flow": null,
            "grid_area": null,
            "grid_auto_columns": null,
            "grid_auto_flow": null,
            "grid_auto_rows": null,
            "grid_column": null,
            "grid_gap": null,
            "grid_row": null,
            "grid_template_areas": null,
            "grid_template_columns": null,
            "grid_template_rows": null,
            "height": null,
            "justify_content": null,
            "justify_items": null,
            "left": null,
            "margin": null,
            "max_height": null,
            "max_width": null,
            "min_height": null,
            "min_width": null,
            "object_fit": null,
            "object_position": null,
            "order": null,
            "overflow": null,
            "overflow_x": null,
            "overflow_y": null,
            "padding": null,
            "right": null,
            "top": null,
            "visibility": null,
            "width": null
          }
        },
        "954d19af46704351b9c72de98210de50": {
          "model_module": "@jupyter-widgets/controls",
          "model_name": "ProgressStyleModel",
          "model_module_version": "1.5.0",
          "state": {
            "_model_module": "@jupyter-widgets/controls",
            "_model_module_version": "1.5.0",
            "_model_name": "ProgressStyleModel",
            "_view_count": null,
            "_view_module": "@jupyter-widgets/base",
            "_view_module_version": "1.2.0",
            "_view_name": "StyleView",
            "bar_color": null,
            "description_width": ""
          }
        },
        "ece5910e1eb44c858393dfaf2c2d98df": {
          "model_module": "@jupyter-widgets/base",
          "model_name": "LayoutModel",
          "model_module_version": "1.2.0",
          "state": {
            "_model_module": "@jupyter-widgets/base",
            "_model_module_version": "1.2.0",
            "_model_name": "LayoutModel",
            "_view_count": null,
            "_view_module": "@jupyter-widgets/base",
            "_view_module_version": "1.2.0",
            "_view_name": "LayoutView",
            "align_content": null,
            "align_items": null,
            "align_self": null,
            "border": null,
            "bottom": null,
            "display": null,
            "flex": null,
            "flex_flow": null,
            "grid_area": null,
            "grid_auto_columns": null,
            "grid_auto_flow": null,
            "grid_auto_rows": null,
            "grid_column": null,
            "grid_gap": null,
            "grid_row": null,
            "grid_template_areas": null,
            "grid_template_columns": null,
            "grid_template_rows": null,
            "height": null,
            "justify_content": null,
            "justify_items": null,
            "left": null,
            "margin": null,
            "max_height": null,
            "max_width": null,
            "min_height": null,
            "min_width": null,
            "object_fit": null,
            "object_position": null,
            "order": null,
            "overflow": null,
            "overflow_x": null,
            "overflow_y": null,
            "padding": null,
            "right": null,
            "top": null,
            "visibility": null,
            "width": null
          }
        },
        "d6dac9c8a9d14ed28334e4fb5290eaeb": {
          "model_module": "@jupyter-widgets/controls",
          "model_name": "DescriptionStyleModel",
          "model_module_version": "1.5.0",
          "state": {
            "_model_module": "@jupyter-widgets/controls",
            "_model_module_version": "1.5.0",
            "_model_name": "DescriptionStyleModel",
            "_view_count": null,
            "_view_module": "@jupyter-widgets/base",
            "_view_module_version": "1.2.0",
            "_view_name": "StyleView",
            "description_width": ""
          }
        },
        "4fb90fe41bef423da1181d30d799889d": {
          "model_module": "@jupyter-widgets/controls",
          "model_name": "HBoxModel",
          "model_module_version": "1.5.0",
          "state": {
            "_dom_classes": [],
            "_model_module": "@jupyter-widgets/controls",
            "_model_module_version": "1.5.0",
            "_model_name": "HBoxModel",
            "_view_count": null,
            "_view_module": "@jupyter-widgets/controls",
            "_view_module_version": "1.5.0",
            "_view_name": "HBoxView",
            "box_style": "",
            "children": [
              "IPY_MODEL_a9fea605fe7e4c5e8b884944a4f44dff",
              "IPY_MODEL_4acf8bc59b75437986739b7e28a8a77e",
              "IPY_MODEL_d174e6fdbf00408fabe591368264dea4"
            ],
            "layout": "IPY_MODEL_82d378896909432d8070f4b2dddf0a57"
          }
        },
        "a9fea605fe7e4c5e8b884944a4f44dff": {
          "model_module": "@jupyter-widgets/controls",
          "model_name": "HTMLModel",
          "model_module_version": "1.5.0",
          "state": {
            "_dom_classes": [],
            "_model_module": "@jupyter-widgets/controls",
            "_model_module_version": "1.5.0",
            "_model_name": "HTMLModel",
            "_view_count": null,
            "_view_module": "@jupyter-widgets/controls",
            "_view_module_version": "1.5.0",
            "_view_name": "HTMLView",
            "description": "",
            "description_tooltip": null,
            "layout": "IPY_MODEL_d1b9959427bc422c92f160bfbe97a21d",
            "placeholder": "​",
            "style": "IPY_MODEL_3b58e758abcc4b1ca58738910862c76d",
            "value": "config.json: 100%"
          }
        },
        "4acf8bc59b75437986739b7e28a8a77e": {
          "model_module": "@jupyter-widgets/controls",
          "model_name": "FloatProgressModel",
          "model_module_version": "1.5.0",
          "state": {
            "_dom_classes": [],
            "_model_module": "@jupyter-widgets/controls",
            "_model_module_version": "1.5.0",
            "_model_name": "FloatProgressModel",
            "_view_count": null,
            "_view_module": "@jupyter-widgets/controls",
            "_view_module_version": "1.5.0",
            "_view_name": "ProgressView",
            "bar_style": "success",
            "description": "",
            "description_tooltip": null,
            "layout": "IPY_MODEL_da5bf31120854e5da6339db2ed4e625f",
            "max": 612,
            "min": 0,
            "orientation": "horizontal",
            "style": "IPY_MODEL_16d5bc2444064e38bddfe848f56db62a",
            "value": 612
          }
        },
        "d174e6fdbf00408fabe591368264dea4": {
          "model_module": "@jupyter-widgets/controls",
          "model_name": "HTMLModel",
          "model_module_version": "1.5.0",
          "state": {
            "_dom_classes": [],
            "_model_module": "@jupyter-widgets/controls",
            "_model_module_version": "1.5.0",
            "_model_name": "HTMLModel",
            "_view_count": null,
            "_view_module": "@jupyter-widgets/controls",
            "_view_module_version": "1.5.0",
            "_view_name": "HTMLView",
            "description": "",
            "description_tooltip": null,
            "layout": "IPY_MODEL_caf09dae96a74e05b4b5fe2fd04108d6",
            "placeholder": "​",
            "style": "IPY_MODEL_8e479aa8ba834f5e868da77b845a2132",
            "value": " 612/612 [00:00&lt;00:00, 44.8kB/s]"
          }
        },
        "82d378896909432d8070f4b2dddf0a57": {
          "model_module": "@jupyter-widgets/base",
          "model_name": "LayoutModel",
          "model_module_version": "1.2.0",
          "state": {
            "_model_module": "@jupyter-widgets/base",
            "_model_module_version": "1.2.0",
            "_model_name": "LayoutModel",
            "_view_count": null,
            "_view_module": "@jupyter-widgets/base",
            "_view_module_version": "1.2.0",
            "_view_name": "LayoutView",
            "align_content": null,
            "align_items": null,
            "align_self": null,
            "border": null,
            "bottom": null,
            "display": null,
            "flex": null,
            "flex_flow": null,
            "grid_area": null,
            "grid_auto_columns": null,
            "grid_auto_flow": null,
            "grid_auto_rows": null,
            "grid_column": null,
            "grid_gap": null,
            "grid_row": null,
            "grid_template_areas": null,
            "grid_template_columns": null,
            "grid_template_rows": null,
            "height": null,
            "justify_content": null,
            "justify_items": null,
            "left": null,
            "margin": null,
            "max_height": null,
            "max_width": null,
            "min_height": null,
            "min_width": null,
            "object_fit": null,
            "object_position": null,
            "order": null,
            "overflow": null,
            "overflow_x": null,
            "overflow_y": null,
            "padding": null,
            "right": null,
            "top": null,
            "visibility": null,
            "width": null
          }
        },
        "d1b9959427bc422c92f160bfbe97a21d": {
          "model_module": "@jupyter-widgets/base",
          "model_name": "LayoutModel",
          "model_module_version": "1.2.0",
          "state": {
            "_model_module": "@jupyter-widgets/base",
            "_model_module_version": "1.2.0",
            "_model_name": "LayoutModel",
            "_view_count": null,
            "_view_module": "@jupyter-widgets/base",
            "_view_module_version": "1.2.0",
            "_view_name": "LayoutView",
            "align_content": null,
            "align_items": null,
            "align_self": null,
            "border": null,
            "bottom": null,
            "display": null,
            "flex": null,
            "flex_flow": null,
            "grid_area": null,
            "grid_auto_columns": null,
            "grid_auto_flow": null,
            "grid_auto_rows": null,
            "grid_column": null,
            "grid_gap": null,
            "grid_row": null,
            "grid_template_areas": null,
            "grid_template_columns": null,
            "grid_template_rows": null,
            "height": null,
            "justify_content": null,
            "justify_items": null,
            "left": null,
            "margin": null,
            "max_height": null,
            "max_width": null,
            "min_height": null,
            "min_width": null,
            "object_fit": null,
            "object_position": null,
            "order": null,
            "overflow": null,
            "overflow_x": null,
            "overflow_y": null,
            "padding": null,
            "right": null,
            "top": null,
            "visibility": null,
            "width": null
          }
        },
        "3b58e758abcc4b1ca58738910862c76d": {
          "model_module": "@jupyter-widgets/controls",
          "model_name": "DescriptionStyleModel",
          "model_module_version": "1.5.0",
          "state": {
            "_model_module": "@jupyter-widgets/controls",
            "_model_module_version": "1.5.0",
            "_model_name": "DescriptionStyleModel",
            "_view_count": null,
            "_view_module": "@jupyter-widgets/base",
            "_view_module_version": "1.2.0",
            "_view_name": "StyleView",
            "description_width": ""
          }
        },
        "da5bf31120854e5da6339db2ed4e625f": {
          "model_module": "@jupyter-widgets/base",
          "model_name": "LayoutModel",
          "model_module_version": "1.2.0",
          "state": {
            "_model_module": "@jupyter-widgets/base",
            "_model_module_version": "1.2.0",
            "_model_name": "LayoutModel",
            "_view_count": null,
            "_view_module": "@jupyter-widgets/base",
            "_view_module_version": "1.2.0",
            "_view_name": "LayoutView",
            "align_content": null,
            "align_items": null,
            "align_self": null,
            "border": null,
            "bottom": null,
            "display": null,
            "flex": null,
            "flex_flow": null,
            "grid_area": null,
            "grid_auto_columns": null,
            "grid_auto_flow": null,
            "grid_auto_rows": null,
            "grid_column": null,
            "grid_gap": null,
            "grid_row": null,
            "grid_template_areas": null,
            "grid_template_columns": null,
            "grid_template_rows": null,
            "height": null,
            "justify_content": null,
            "justify_items": null,
            "left": null,
            "margin": null,
            "max_height": null,
            "max_width": null,
            "min_height": null,
            "min_width": null,
            "object_fit": null,
            "object_position": null,
            "order": null,
            "overflow": null,
            "overflow_x": null,
            "overflow_y": null,
            "padding": null,
            "right": null,
            "top": null,
            "visibility": null,
            "width": null
          }
        },
        "16d5bc2444064e38bddfe848f56db62a": {
          "model_module": "@jupyter-widgets/controls",
          "model_name": "ProgressStyleModel",
          "model_module_version": "1.5.0",
          "state": {
            "_model_module": "@jupyter-widgets/controls",
            "_model_module_version": "1.5.0",
            "_model_name": "ProgressStyleModel",
            "_view_count": null,
            "_view_module": "@jupyter-widgets/base",
            "_view_module_version": "1.2.0",
            "_view_name": "StyleView",
            "bar_color": null,
            "description_width": ""
          }
        },
        "caf09dae96a74e05b4b5fe2fd04108d6": {
          "model_module": "@jupyter-widgets/base",
          "model_name": "LayoutModel",
          "model_module_version": "1.2.0",
          "state": {
            "_model_module": "@jupyter-widgets/base",
            "_model_module_version": "1.2.0",
            "_model_name": "LayoutModel",
            "_view_count": null,
            "_view_module": "@jupyter-widgets/base",
            "_view_module_version": "1.2.0",
            "_view_name": "LayoutView",
            "align_content": null,
            "align_items": null,
            "align_self": null,
            "border": null,
            "bottom": null,
            "display": null,
            "flex": null,
            "flex_flow": null,
            "grid_area": null,
            "grid_auto_columns": null,
            "grid_auto_flow": null,
            "grid_auto_rows": null,
            "grid_column": null,
            "grid_gap": null,
            "grid_row": null,
            "grid_template_areas": null,
            "grid_template_columns": null,
            "grid_template_rows": null,
            "height": null,
            "justify_content": null,
            "justify_items": null,
            "left": null,
            "margin": null,
            "max_height": null,
            "max_width": null,
            "min_height": null,
            "min_width": null,
            "object_fit": null,
            "object_position": null,
            "order": null,
            "overflow": null,
            "overflow_x": null,
            "overflow_y": null,
            "padding": null,
            "right": null,
            "top": null,
            "visibility": null,
            "width": null
          }
        },
        "8e479aa8ba834f5e868da77b845a2132": {
          "model_module": "@jupyter-widgets/controls",
          "model_name": "DescriptionStyleModel",
          "model_module_version": "1.5.0",
          "state": {
            "_model_module": "@jupyter-widgets/controls",
            "_model_module_version": "1.5.0",
            "_model_name": "DescriptionStyleModel",
            "_view_count": null,
            "_view_module": "@jupyter-widgets/base",
            "_view_module_version": "1.2.0",
            "_view_name": "StyleView",
            "description_width": ""
          }
        },
        "b45d2499b7654ecbb741021c410dd732": {
          "model_module": "@jupyter-widgets/controls",
          "model_name": "HBoxModel",
          "model_module_version": "1.5.0",
          "state": {
            "_dom_classes": [],
            "_model_module": "@jupyter-widgets/controls",
            "_model_module_version": "1.5.0",
            "_model_name": "HBoxModel",
            "_view_count": null,
            "_view_module": "@jupyter-widgets/controls",
            "_view_module_version": "1.5.0",
            "_view_name": "HBoxView",
            "box_style": "",
            "children": [
              "IPY_MODEL_7a68775ee50946eea9a09f2bd8f51dd3",
              "IPY_MODEL_5fac318fdffb4a91806a22febe5d6ea1",
              "IPY_MODEL_7bcf9e1f7f3d4a0284cc539d84fa9fec"
            ],
            "layout": "IPY_MODEL_de8f6cd07be44ab7a22adb3407cd117b"
          }
        },
        "7a68775ee50946eea9a09f2bd8f51dd3": {
          "model_module": "@jupyter-widgets/controls",
          "model_name": "HTMLModel",
          "model_module_version": "1.5.0",
          "state": {
            "_dom_classes": [],
            "_model_module": "@jupyter-widgets/controls",
            "_model_module_version": "1.5.0",
            "_model_name": "HTMLModel",
            "_view_count": null,
            "_view_module": "@jupyter-widgets/controls",
            "_view_module_version": "1.5.0",
            "_view_name": "HTMLView",
            "description": "",
            "description_tooltip": null,
            "layout": "IPY_MODEL_738fc53716924b13a9372c25d16b057a",
            "placeholder": "​",
            "style": "IPY_MODEL_21e0e31a62654291b0370ef429f050ba",
            "value": "model.safetensors: 100%"
          }
        },
        "5fac318fdffb4a91806a22febe5d6ea1": {
          "model_module": "@jupyter-widgets/controls",
          "model_name": "FloatProgressModel",
          "model_module_version": "1.5.0",
          "state": {
            "_dom_classes": [],
            "_model_module": "@jupyter-widgets/controls",
            "_model_module_version": "1.5.0",
            "_model_name": "FloatProgressModel",
            "_view_count": null,
            "_view_module": "@jupyter-widgets/controls",
            "_view_module_version": "1.5.0",
            "_view_name": "ProgressView",
            "bar_style": "success",
            "description": "",
            "description_tooltip": null,
            "layout": "IPY_MODEL_f93ff83ade444eb38854dcd664f5834f",
            "max": 90868376,
            "min": 0,
            "orientation": "horizontal",
            "style": "IPY_MODEL_ed7c927c872548b3adbc2d470d6e33fd",
            "value": 90868376
          }
        },
        "7bcf9e1f7f3d4a0284cc539d84fa9fec": {
          "model_module": "@jupyter-widgets/controls",
          "model_name": "HTMLModel",
          "model_module_version": "1.5.0",
          "state": {
            "_dom_classes": [],
            "_model_module": "@jupyter-widgets/controls",
            "_model_module_version": "1.5.0",
            "_model_name": "HTMLModel",
            "_view_count": null,
            "_view_module": "@jupyter-widgets/controls",
            "_view_module_version": "1.5.0",
            "_view_name": "HTMLView",
            "description": "",
            "description_tooltip": null,
            "layout": "IPY_MODEL_9950ffde8bea468e86cd1c79817f1ada",
            "placeholder": "​",
            "style": "IPY_MODEL_2d238a646b1f4089b54c2022f971400b",
            "value": " 90.9M/90.9M [00:03&lt;00:00, 35.6MB/s]"
          }
        },
        "de8f6cd07be44ab7a22adb3407cd117b": {
          "model_module": "@jupyter-widgets/base",
          "model_name": "LayoutModel",
          "model_module_version": "1.2.0",
          "state": {
            "_model_module": "@jupyter-widgets/base",
            "_model_module_version": "1.2.0",
            "_model_name": "LayoutModel",
            "_view_count": null,
            "_view_module": "@jupyter-widgets/base",
            "_view_module_version": "1.2.0",
            "_view_name": "LayoutView",
            "align_content": null,
            "align_items": null,
            "align_self": null,
            "border": null,
            "bottom": null,
            "display": null,
            "flex": null,
            "flex_flow": null,
            "grid_area": null,
            "grid_auto_columns": null,
            "grid_auto_flow": null,
            "grid_auto_rows": null,
            "grid_column": null,
            "grid_gap": null,
            "grid_row": null,
            "grid_template_areas": null,
            "grid_template_columns": null,
            "grid_template_rows": null,
            "height": null,
            "justify_content": null,
            "justify_items": null,
            "left": null,
            "margin": null,
            "max_height": null,
            "max_width": null,
            "min_height": null,
            "min_width": null,
            "object_fit": null,
            "object_position": null,
            "order": null,
            "overflow": null,
            "overflow_x": null,
            "overflow_y": null,
            "padding": null,
            "right": null,
            "top": null,
            "visibility": null,
            "width": null
          }
        },
        "738fc53716924b13a9372c25d16b057a": {
          "model_module": "@jupyter-widgets/base",
          "model_name": "LayoutModel",
          "model_module_version": "1.2.0",
          "state": {
            "_model_module": "@jupyter-widgets/base",
            "_model_module_version": "1.2.0",
            "_model_name": "LayoutModel",
            "_view_count": null,
            "_view_module": "@jupyter-widgets/base",
            "_view_module_version": "1.2.0",
            "_view_name": "LayoutView",
            "align_content": null,
            "align_items": null,
            "align_self": null,
            "border": null,
            "bottom": null,
            "display": null,
            "flex": null,
            "flex_flow": null,
            "grid_area": null,
            "grid_auto_columns": null,
            "grid_auto_flow": null,
            "grid_auto_rows": null,
            "grid_column": null,
            "grid_gap": null,
            "grid_row": null,
            "grid_template_areas": null,
            "grid_template_columns": null,
            "grid_template_rows": null,
            "height": null,
            "justify_content": null,
            "justify_items": null,
            "left": null,
            "margin": null,
            "max_height": null,
            "max_width": null,
            "min_height": null,
            "min_width": null,
            "object_fit": null,
            "object_position": null,
            "order": null,
            "overflow": null,
            "overflow_x": null,
            "overflow_y": null,
            "padding": null,
            "right": null,
            "top": null,
            "visibility": null,
            "width": null
          }
        },
        "21e0e31a62654291b0370ef429f050ba": {
          "model_module": "@jupyter-widgets/controls",
          "model_name": "DescriptionStyleModel",
          "model_module_version": "1.5.0",
          "state": {
            "_model_module": "@jupyter-widgets/controls",
            "_model_module_version": "1.5.0",
            "_model_name": "DescriptionStyleModel",
            "_view_count": null,
            "_view_module": "@jupyter-widgets/base",
            "_view_module_version": "1.2.0",
            "_view_name": "StyleView",
            "description_width": ""
          }
        },
        "f93ff83ade444eb38854dcd664f5834f": {
          "model_module": "@jupyter-widgets/base",
          "model_name": "LayoutModel",
          "model_module_version": "1.2.0",
          "state": {
            "_model_module": "@jupyter-widgets/base",
            "_model_module_version": "1.2.0",
            "_model_name": "LayoutModel",
            "_view_count": null,
            "_view_module": "@jupyter-widgets/base",
            "_view_module_version": "1.2.0",
            "_view_name": "LayoutView",
            "align_content": null,
            "align_items": null,
            "align_self": null,
            "border": null,
            "bottom": null,
            "display": null,
            "flex": null,
            "flex_flow": null,
            "grid_area": null,
            "grid_auto_columns": null,
            "grid_auto_flow": null,
            "grid_auto_rows": null,
            "grid_column": null,
            "grid_gap": null,
            "grid_row": null,
            "grid_template_areas": null,
            "grid_template_columns": null,
            "grid_template_rows": null,
            "height": null,
            "justify_content": null,
            "justify_items": null,
            "left": null,
            "margin": null,
            "max_height": null,
            "max_width": null,
            "min_height": null,
            "min_width": null,
            "object_fit": null,
            "object_position": null,
            "order": null,
            "overflow": null,
            "overflow_x": null,
            "overflow_y": null,
            "padding": null,
            "right": null,
            "top": null,
            "visibility": null,
            "width": null
          }
        },
        "ed7c927c872548b3adbc2d470d6e33fd": {
          "model_module": "@jupyter-widgets/controls",
          "model_name": "ProgressStyleModel",
          "model_module_version": "1.5.0",
          "state": {
            "_model_module": "@jupyter-widgets/controls",
            "_model_module_version": "1.5.0",
            "_model_name": "ProgressStyleModel",
            "_view_count": null,
            "_view_module": "@jupyter-widgets/base",
            "_view_module_version": "1.2.0",
            "_view_name": "StyleView",
            "bar_color": null,
            "description_width": ""
          }
        },
        "9950ffde8bea468e86cd1c79817f1ada": {
          "model_module": "@jupyter-widgets/base",
          "model_name": "LayoutModel",
          "model_module_version": "1.2.0",
          "state": {
            "_model_module": "@jupyter-widgets/base",
            "_model_module_version": "1.2.0",
            "_model_name": "LayoutModel",
            "_view_count": null,
            "_view_module": "@jupyter-widgets/base",
            "_view_module_version": "1.2.0",
            "_view_name": "LayoutView",
            "align_content": null,
            "align_items": null,
            "align_self": null,
            "border": null,
            "bottom": null,
            "display": null,
            "flex": null,
            "flex_flow": null,
            "grid_area": null,
            "grid_auto_columns": null,
            "grid_auto_flow": null,
            "grid_auto_rows": null,
            "grid_column": null,
            "grid_gap": null,
            "grid_row": null,
            "grid_template_areas": null,
            "grid_template_columns": null,
            "grid_template_rows": null,
            "height": null,
            "justify_content": null,
            "justify_items": null,
            "left": null,
            "margin": null,
            "max_height": null,
            "max_width": null,
            "min_height": null,
            "min_width": null,
            "object_fit": null,
            "object_position": null,
            "order": null,
            "overflow": null,
            "overflow_x": null,
            "overflow_y": null,
            "padding": null,
            "right": null,
            "top": null,
            "visibility": null,
            "width": null
          }
        },
        "2d238a646b1f4089b54c2022f971400b": {
          "model_module": "@jupyter-widgets/controls",
          "model_name": "DescriptionStyleModel",
          "model_module_version": "1.5.0",
          "state": {
            "_model_module": "@jupyter-widgets/controls",
            "_model_module_version": "1.5.0",
            "_model_name": "DescriptionStyleModel",
            "_view_count": null,
            "_view_module": "@jupyter-widgets/base",
            "_view_module_version": "1.2.0",
            "_view_name": "StyleView",
            "description_width": ""
          }
        },
        "2090c2ef98b943728a507699cfbfb8cd": {
          "model_module": "@jupyter-widgets/controls",
          "model_name": "HBoxModel",
          "model_module_version": "1.5.0",
          "state": {
            "_dom_classes": [],
            "_model_module": "@jupyter-widgets/controls",
            "_model_module_version": "1.5.0",
            "_model_name": "HBoxModel",
            "_view_count": null,
            "_view_module": "@jupyter-widgets/controls",
            "_view_module_version": "1.5.0",
            "_view_name": "HBoxView",
            "box_style": "",
            "children": [
              "IPY_MODEL_6042214b9a574e6b83aff652ea2c650a",
              "IPY_MODEL_15e61ef7bd7849ecb776054058dfbeb8",
              "IPY_MODEL_e6fb163710d8481a93378cc6b633c7e4"
            ],
            "layout": "IPY_MODEL_b732c9b7619b4579b18b5b9b0400cf13"
          }
        },
        "6042214b9a574e6b83aff652ea2c650a": {
          "model_module": "@jupyter-widgets/controls",
          "model_name": "HTMLModel",
          "model_module_version": "1.5.0",
          "state": {
            "_dom_classes": [],
            "_model_module": "@jupyter-widgets/controls",
            "_model_module_version": "1.5.0",
            "_model_name": "HTMLModel",
            "_view_count": null,
            "_view_module": "@jupyter-widgets/controls",
            "_view_module_version": "1.5.0",
            "_view_name": "HTMLView",
            "description": "",
            "description_tooltip": null,
            "layout": "IPY_MODEL_429b065b84f84a0f8a6d89761efad798",
            "placeholder": "​",
            "style": "IPY_MODEL_7464217203984d228f5e9996ed33cc2d",
            "value": "tokenizer_config.json: 100%"
          }
        },
        "15e61ef7bd7849ecb776054058dfbeb8": {
          "model_module": "@jupyter-widgets/controls",
          "model_name": "FloatProgressModel",
          "model_module_version": "1.5.0",
          "state": {
            "_dom_classes": [],
            "_model_module": "@jupyter-widgets/controls",
            "_model_module_version": "1.5.0",
            "_model_name": "FloatProgressModel",
            "_view_count": null,
            "_view_module": "@jupyter-widgets/controls",
            "_view_module_version": "1.5.0",
            "_view_name": "ProgressView",
            "bar_style": "success",
            "description": "",
            "description_tooltip": null,
            "layout": "IPY_MODEL_6f4fcac4c27f4dc9b0517258ea27bfcf",
            "max": 350,
            "min": 0,
            "orientation": "horizontal",
            "style": "IPY_MODEL_1df7d5d12c4e4637807d8df946d07b0c",
            "value": 350
          }
        },
        "e6fb163710d8481a93378cc6b633c7e4": {
          "model_module": "@jupyter-widgets/controls",
          "model_name": "HTMLModel",
          "model_module_version": "1.5.0",
          "state": {
            "_dom_classes": [],
            "_model_module": "@jupyter-widgets/controls",
            "_model_module_version": "1.5.0",
            "_model_name": "HTMLModel",
            "_view_count": null,
            "_view_module": "@jupyter-widgets/controls",
            "_view_module_version": "1.5.0",
            "_view_name": "HTMLView",
            "description": "",
            "description_tooltip": null,
            "layout": "IPY_MODEL_b39f92bc0be345f2ae3f5eac6ea1c641",
            "placeholder": "​",
            "style": "IPY_MODEL_cb8d1d35678047b59584f4747e73769f",
            "value": " 350/350 [00:00&lt;00:00, 34.3kB/s]"
          }
        },
        "b732c9b7619b4579b18b5b9b0400cf13": {
          "model_module": "@jupyter-widgets/base",
          "model_name": "LayoutModel",
          "model_module_version": "1.2.0",
          "state": {
            "_model_module": "@jupyter-widgets/base",
            "_model_module_version": "1.2.0",
            "_model_name": "LayoutModel",
            "_view_count": null,
            "_view_module": "@jupyter-widgets/base",
            "_view_module_version": "1.2.0",
            "_view_name": "LayoutView",
            "align_content": null,
            "align_items": null,
            "align_self": null,
            "border": null,
            "bottom": null,
            "display": null,
            "flex": null,
            "flex_flow": null,
            "grid_area": null,
            "grid_auto_columns": null,
            "grid_auto_flow": null,
            "grid_auto_rows": null,
            "grid_column": null,
            "grid_gap": null,
            "grid_row": null,
            "grid_template_areas": null,
            "grid_template_columns": null,
            "grid_template_rows": null,
            "height": null,
            "justify_content": null,
            "justify_items": null,
            "left": null,
            "margin": null,
            "max_height": null,
            "max_width": null,
            "min_height": null,
            "min_width": null,
            "object_fit": null,
            "object_position": null,
            "order": null,
            "overflow": null,
            "overflow_x": null,
            "overflow_y": null,
            "padding": null,
            "right": null,
            "top": null,
            "visibility": null,
            "width": null
          }
        },
        "429b065b84f84a0f8a6d89761efad798": {
          "model_module": "@jupyter-widgets/base",
          "model_name": "LayoutModel",
          "model_module_version": "1.2.0",
          "state": {
            "_model_module": "@jupyter-widgets/base",
            "_model_module_version": "1.2.0",
            "_model_name": "LayoutModel",
            "_view_count": null,
            "_view_module": "@jupyter-widgets/base",
            "_view_module_version": "1.2.0",
            "_view_name": "LayoutView",
            "align_content": null,
            "align_items": null,
            "align_self": null,
            "border": null,
            "bottom": null,
            "display": null,
            "flex": null,
            "flex_flow": null,
            "grid_area": null,
            "grid_auto_columns": null,
            "grid_auto_flow": null,
            "grid_auto_rows": null,
            "grid_column": null,
            "grid_gap": null,
            "grid_row": null,
            "grid_template_areas": null,
            "grid_template_columns": null,
            "grid_template_rows": null,
            "height": null,
            "justify_content": null,
            "justify_items": null,
            "left": null,
            "margin": null,
            "max_height": null,
            "max_width": null,
            "min_height": null,
            "min_width": null,
            "object_fit": null,
            "object_position": null,
            "order": null,
            "overflow": null,
            "overflow_x": null,
            "overflow_y": null,
            "padding": null,
            "right": null,
            "top": null,
            "visibility": null,
            "width": null
          }
        },
        "7464217203984d228f5e9996ed33cc2d": {
          "model_module": "@jupyter-widgets/controls",
          "model_name": "DescriptionStyleModel",
          "model_module_version": "1.5.0",
          "state": {
            "_model_module": "@jupyter-widgets/controls",
            "_model_module_version": "1.5.0",
            "_model_name": "DescriptionStyleModel",
            "_view_count": null,
            "_view_module": "@jupyter-widgets/base",
            "_view_module_version": "1.2.0",
            "_view_name": "StyleView",
            "description_width": ""
          }
        },
        "6f4fcac4c27f4dc9b0517258ea27bfcf": {
          "model_module": "@jupyter-widgets/base",
          "model_name": "LayoutModel",
          "model_module_version": "1.2.0",
          "state": {
            "_model_module": "@jupyter-widgets/base",
            "_model_module_version": "1.2.0",
            "_model_name": "LayoutModel",
            "_view_count": null,
            "_view_module": "@jupyter-widgets/base",
            "_view_module_version": "1.2.0",
            "_view_name": "LayoutView",
            "align_content": null,
            "align_items": null,
            "align_self": null,
            "border": null,
            "bottom": null,
            "display": null,
            "flex": null,
            "flex_flow": null,
            "grid_area": null,
            "grid_auto_columns": null,
            "grid_auto_flow": null,
            "grid_auto_rows": null,
            "grid_column": null,
            "grid_gap": null,
            "grid_row": null,
            "grid_template_areas": null,
            "grid_template_columns": null,
            "grid_template_rows": null,
            "height": null,
            "justify_content": null,
            "justify_items": null,
            "left": null,
            "margin": null,
            "max_height": null,
            "max_width": null,
            "min_height": null,
            "min_width": null,
            "object_fit": null,
            "object_position": null,
            "order": null,
            "overflow": null,
            "overflow_x": null,
            "overflow_y": null,
            "padding": null,
            "right": null,
            "top": null,
            "visibility": null,
            "width": null
          }
        },
        "1df7d5d12c4e4637807d8df946d07b0c": {
          "model_module": "@jupyter-widgets/controls",
          "model_name": "ProgressStyleModel",
          "model_module_version": "1.5.0",
          "state": {
            "_model_module": "@jupyter-widgets/controls",
            "_model_module_version": "1.5.0",
            "_model_name": "ProgressStyleModel",
            "_view_count": null,
            "_view_module": "@jupyter-widgets/base",
            "_view_module_version": "1.2.0",
            "_view_name": "StyleView",
            "bar_color": null,
            "description_width": ""
          }
        },
        "b39f92bc0be345f2ae3f5eac6ea1c641": {
          "model_module": "@jupyter-widgets/base",
          "model_name": "LayoutModel",
          "model_module_version": "1.2.0",
          "state": {
            "_model_module": "@jupyter-widgets/base",
            "_model_module_version": "1.2.0",
            "_model_name": "LayoutModel",
            "_view_count": null,
            "_view_module": "@jupyter-widgets/base",
            "_view_module_version": "1.2.0",
            "_view_name": "LayoutView",
            "align_content": null,
            "align_items": null,
            "align_self": null,
            "border": null,
            "bottom": null,
            "display": null,
            "flex": null,
            "flex_flow": null,
            "grid_area": null,
            "grid_auto_columns": null,
            "grid_auto_flow": null,
            "grid_auto_rows": null,
            "grid_column": null,
            "grid_gap": null,
            "grid_row": null,
            "grid_template_areas": null,
            "grid_template_columns": null,
            "grid_template_rows": null,
            "height": null,
            "justify_content": null,
            "justify_items": null,
            "left": null,
            "margin": null,
            "max_height": null,
            "max_width": null,
            "min_height": null,
            "min_width": null,
            "object_fit": null,
            "object_position": null,
            "order": null,
            "overflow": null,
            "overflow_x": null,
            "overflow_y": null,
            "padding": null,
            "right": null,
            "top": null,
            "visibility": null,
            "width": null
          }
        },
        "cb8d1d35678047b59584f4747e73769f": {
          "model_module": "@jupyter-widgets/controls",
          "model_name": "DescriptionStyleModel",
          "model_module_version": "1.5.0",
          "state": {
            "_model_module": "@jupyter-widgets/controls",
            "_model_module_version": "1.5.0",
            "_model_name": "DescriptionStyleModel",
            "_view_count": null,
            "_view_module": "@jupyter-widgets/base",
            "_view_module_version": "1.2.0",
            "_view_name": "StyleView",
            "description_width": ""
          }
        },
        "34d8ea4bbbf649f2872e5326b1b032f7": {
          "model_module": "@jupyter-widgets/controls",
          "model_name": "HBoxModel",
          "model_module_version": "1.5.0",
          "state": {
            "_dom_classes": [],
            "_model_module": "@jupyter-widgets/controls",
            "_model_module_version": "1.5.0",
            "_model_name": "HBoxModel",
            "_view_count": null,
            "_view_module": "@jupyter-widgets/controls",
            "_view_module_version": "1.5.0",
            "_view_name": "HBoxView",
            "box_style": "",
            "children": [
              "IPY_MODEL_fe1708388bdb481c9baa78d809144aa6",
              "IPY_MODEL_e37f86294c394ccb8556398b8d57c8a1",
              "IPY_MODEL_669c4c1ddc0c4b68b6dca47e192eca7b"
            ],
            "layout": "IPY_MODEL_c44bb2c66dcc42b4be0f0994eaf2c737"
          }
        },
        "fe1708388bdb481c9baa78d809144aa6": {
          "model_module": "@jupyter-widgets/controls",
          "model_name": "HTMLModel",
          "model_module_version": "1.5.0",
          "state": {
            "_dom_classes": [],
            "_model_module": "@jupyter-widgets/controls",
            "_model_module_version": "1.5.0",
            "_model_name": "HTMLModel",
            "_view_count": null,
            "_view_module": "@jupyter-widgets/controls",
            "_view_module_version": "1.5.0",
            "_view_name": "HTMLView",
            "description": "",
            "description_tooltip": null,
            "layout": "IPY_MODEL_397b936eebc34bdf8de6fd71d571b39c",
            "placeholder": "​",
            "style": "IPY_MODEL_9fbe39f85cd34d3787cfbf7505447684",
            "value": "vocab.txt: "
          }
        },
        "e37f86294c394ccb8556398b8d57c8a1": {
          "model_module": "@jupyter-widgets/controls",
          "model_name": "FloatProgressModel",
          "model_module_version": "1.5.0",
          "state": {
            "_dom_classes": [],
            "_model_module": "@jupyter-widgets/controls",
            "_model_module_version": "1.5.0",
            "_model_name": "FloatProgressModel",
            "_view_count": null,
            "_view_module": "@jupyter-widgets/controls",
            "_view_module_version": "1.5.0",
            "_view_name": "ProgressView",
            "bar_style": "success",
            "description": "",
            "description_tooltip": null,
            "layout": "IPY_MODEL_0afbdd9dd02d4814b0161bd040030902",
            "max": 1,
            "min": 0,
            "orientation": "horizontal",
            "style": "IPY_MODEL_f931f9c81f9e4d459c426afd745f280c",
            "value": 1
          }
        },
        "669c4c1ddc0c4b68b6dca47e192eca7b": {
          "model_module": "@jupyter-widgets/controls",
          "model_name": "HTMLModel",
          "model_module_version": "1.5.0",
          "state": {
            "_dom_classes": [],
            "_model_module": "@jupyter-widgets/controls",
            "_model_module_version": "1.5.0",
            "_model_name": "HTMLModel",
            "_view_count": null,
            "_view_module": "@jupyter-widgets/controls",
            "_view_module_version": "1.5.0",
            "_view_name": "HTMLView",
            "description": "",
            "description_tooltip": null,
            "layout": "IPY_MODEL_8f019a457237464fad164721bc97bced",
            "placeholder": "​",
            "style": "IPY_MODEL_488082ccbba848c7a6447d81be04857d",
            "value": " 232k/? [00:00&lt;00:00, 1.79MB/s]"
          }
        },
        "c44bb2c66dcc42b4be0f0994eaf2c737": {
          "model_module": "@jupyter-widgets/base",
          "model_name": "LayoutModel",
          "model_module_version": "1.2.0",
          "state": {
            "_model_module": "@jupyter-widgets/base",
            "_model_module_version": "1.2.0",
            "_model_name": "LayoutModel",
            "_view_count": null,
            "_view_module": "@jupyter-widgets/base",
            "_view_module_version": "1.2.0",
            "_view_name": "LayoutView",
            "align_content": null,
            "align_items": null,
            "align_self": null,
            "border": null,
            "bottom": null,
            "display": null,
            "flex": null,
            "flex_flow": null,
            "grid_area": null,
            "grid_auto_columns": null,
            "grid_auto_flow": null,
            "grid_auto_rows": null,
            "grid_column": null,
            "grid_gap": null,
            "grid_row": null,
            "grid_template_areas": null,
            "grid_template_columns": null,
            "grid_template_rows": null,
            "height": null,
            "justify_content": null,
            "justify_items": null,
            "left": null,
            "margin": null,
            "max_height": null,
            "max_width": null,
            "min_height": null,
            "min_width": null,
            "object_fit": null,
            "object_position": null,
            "order": null,
            "overflow": null,
            "overflow_x": null,
            "overflow_y": null,
            "padding": null,
            "right": null,
            "top": null,
            "visibility": null,
            "width": null
          }
        },
        "397b936eebc34bdf8de6fd71d571b39c": {
          "model_module": "@jupyter-widgets/base",
          "model_name": "LayoutModel",
          "model_module_version": "1.2.0",
          "state": {
            "_model_module": "@jupyter-widgets/base",
            "_model_module_version": "1.2.0",
            "_model_name": "LayoutModel",
            "_view_count": null,
            "_view_module": "@jupyter-widgets/base",
            "_view_module_version": "1.2.0",
            "_view_name": "LayoutView",
            "align_content": null,
            "align_items": null,
            "align_self": null,
            "border": null,
            "bottom": null,
            "display": null,
            "flex": null,
            "flex_flow": null,
            "grid_area": null,
            "grid_auto_columns": null,
            "grid_auto_flow": null,
            "grid_auto_rows": null,
            "grid_column": null,
            "grid_gap": null,
            "grid_row": null,
            "grid_template_areas": null,
            "grid_template_columns": null,
            "grid_template_rows": null,
            "height": null,
            "justify_content": null,
            "justify_items": null,
            "left": null,
            "margin": null,
            "max_height": null,
            "max_width": null,
            "min_height": null,
            "min_width": null,
            "object_fit": null,
            "object_position": null,
            "order": null,
            "overflow": null,
            "overflow_x": null,
            "overflow_y": null,
            "padding": null,
            "right": null,
            "top": null,
            "visibility": null,
            "width": null
          }
        },
        "9fbe39f85cd34d3787cfbf7505447684": {
          "model_module": "@jupyter-widgets/controls",
          "model_name": "DescriptionStyleModel",
          "model_module_version": "1.5.0",
          "state": {
            "_model_module": "@jupyter-widgets/controls",
            "_model_module_version": "1.5.0",
            "_model_name": "DescriptionStyleModel",
            "_view_count": null,
            "_view_module": "@jupyter-widgets/base",
            "_view_module_version": "1.2.0",
            "_view_name": "StyleView",
            "description_width": ""
          }
        },
        "0afbdd9dd02d4814b0161bd040030902": {
          "model_module": "@jupyter-widgets/base",
          "model_name": "LayoutModel",
          "model_module_version": "1.2.0",
          "state": {
            "_model_module": "@jupyter-widgets/base",
            "_model_module_version": "1.2.0",
            "_model_name": "LayoutModel",
            "_view_count": null,
            "_view_module": "@jupyter-widgets/base",
            "_view_module_version": "1.2.0",
            "_view_name": "LayoutView",
            "align_content": null,
            "align_items": null,
            "align_self": null,
            "border": null,
            "bottom": null,
            "display": null,
            "flex": null,
            "flex_flow": null,
            "grid_area": null,
            "grid_auto_columns": null,
            "grid_auto_flow": null,
            "grid_auto_rows": null,
            "grid_column": null,
            "grid_gap": null,
            "grid_row": null,
            "grid_template_areas": null,
            "grid_template_columns": null,
            "grid_template_rows": null,
            "height": null,
            "justify_content": null,
            "justify_items": null,
            "left": null,
            "margin": null,
            "max_height": null,
            "max_width": null,
            "min_height": null,
            "min_width": null,
            "object_fit": null,
            "object_position": null,
            "order": null,
            "overflow": null,
            "overflow_x": null,
            "overflow_y": null,
            "padding": null,
            "right": null,
            "top": null,
            "visibility": null,
            "width": "20px"
          }
        },
        "f931f9c81f9e4d459c426afd745f280c": {
          "model_module": "@jupyter-widgets/controls",
          "model_name": "ProgressStyleModel",
          "model_module_version": "1.5.0",
          "state": {
            "_model_module": "@jupyter-widgets/controls",
            "_model_module_version": "1.5.0",
            "_model_name": "ProgressStyleModel",
            "_view_count": null,
            "_view_module": "@jupyter-widgets/base",
            "_view_module_version": "1.2.0",
            "_view_name": "StyleView",
            "bar_color": null,
            "description_width": ""
          }
        },
        "8f019a457237464fad164721bc97bced": {
          "model_module": "@jupyter-widgets/base",
          "model_name": "LayoutModel",
          "model_module_version": "1.2.0",
          "state": {
            "_model_module": "@jupyter-widgets/base",
            "_model_module_version": "1.2.0",
            "_model_name": "LayoutModel",
            "_view_count": null,
            "_view_module": "@jupyter-widgets/base",
            "_view_module_version": "1.2.0",
            "_view_name": "LayoutView",
            "align_content": null,
            "align_items": null,
            "align_self": null,
            "border": null,
            "bottom": null,
            "display": null,
            "flex": null,
            "flex_flow": null,
            "grid_area": null,
            "grid_auto_columns": null,
            "grid_auto_flow": null,
            "grid_auto_rows": null,
            "grid_column": null,
            "grid_gap": null,
            "grid_row": null,
            "grid_template_areas": null,
            "grid_template_columns": null,
            "grid_template_rows": null,
            "height": null,
            "justify_content": null,
            "justify_items": null,
            "left": null,
            "margin": null,
            "max_height": null,
            "max_width": null,
            "min_height": null,
            "min_width": null,
            "object_fit": null,
            "object_position": null,
            "order": null,
            "overflow": null,
            "overflow_x": null,
            "overflow_y": null,
            "padding": null,
            "right": null,
            "top": null,
            "visibility": null,
            "width": null
          }
        },
        "488082ccbba848c7a6447d81be04857d": {
          "model_module": "@jupyter-widgets/controls",
          "model_name": "DescriptionStyleModel",
          "model_module_version": "1.5.0",
          "state": {
            "_model_module": "@jupyter-widgets/controls",
            "_model_module_version": "1.5.0",
            "_model_name": "DescriptionStyleModel",
            "_view_count": null,
            "_view_module": "@jupyter-widgets/base",
            "_view_module_version": "1.2.0",
            "_view_name": "StyleView",
            "description_width": ""
          }
        },
        "6fcd4eb23b0e43ce91cfbc6806bb5c71": {
          "model_module": "@jupyter-widgets/controls",
          "model_name": "HBoxModel",
          "model_module_version": "1.5.0",
          "state": {
            "_dom_classes": [],
            "_model_module": "@jupyter-widgets/controls",
            "_model_module_version": "1.5.0",
            "_model_name": "HBoxModel",
            "_view_count": null,
            "_view_module": "@jupyter-widgets/controls",
            "_view_module_version": "1.5.0",
            "_view_name": "HBoxView",
            "box_style": "",
            "children": [
              "IPY_MODEL_e79e02e90bd4472e9b10bcca1ceb3e0f",
              "IPY_MODEL_c4e69cf659c94de283ddca59c128c121",
              "IPY_MODEL_406a709e82134621ba4c0fc15ee5fa7c"
            ],
            "layout": "IPY_MODEL_1384a19038ba43ab94a4b01e81dc2701"
          }
        },
        "e79e02e90bd4472e9b10bcca1ceb3e0f": {
          "model_module": "@jupyter-widgets/controls",
          "model_name": "HTMLModel",
          "model_module_version": "1.5.0",
          "state": {
            "_dom_classes": [],
            "_model_module": "@jupyter-widgets/controls",
            "_model_module_version": "1.5.0",
            "_model_name": "HTMLModel",
            "_view_count": null,
            "_view_module": "@jupyter-widgets/controls",
            "_view_module_version": "1.5.0",
            "_view_name": "HTMLView",
            "description": "",
            "description_tooltip": null,
            "layout": "IPY_MODEL_7f0a3b0639934458b762d42352fdb7d7",
            "placeholder": "​",
            "style": "IPY_MODEL_9b016836de034c169f0bdaf561f048d1",
            "value": "tokenizer.json: "
          }
        },
        "c4e69cf659c94de283ddca59c128c121": {
          "model_module": "@jupyter-widgets/controls",
          "model_name": "FloatProgressModel",
          "model_module_version": "1.5.0",
          "state": {
            "_dom_classes": [],
            "_model_module": "@jupyter-widgets/controls",
            "_model_module_version": "1.5.0",
            "_model_name": "FloatProgressModel",
            "_view_count": null,
            "_view_module": "@jupyter-widgets/controls",
            "_view_module_version": "1.5.0",
            "_view_name": "ProgressView",
            "bar_style": "success",
            "description": "",
            "description_tooltip": null,
            "layout": "IPY_MODEL_1d8df24f994d4a8a99e023b2a9f5c0c1",
            "max": 1,
            "min": 0,
            "orientation": "horizontal",
            "style": "IPY_MODEL_6aba7d027d08485390f15e553a86bbee",
            "value": 1
          }
        },
        "406a709e82134621ba4c0fc15ee5fa7c": {
          "model_module": "@jupyter-widgets/controls",
          "model_name": "HTMLModel",
          "model_module_version": "1.5.0",
          "state": {
            "_dom_classes": [],
            "_model_module": "@jupyter-widgets/controls",
            "_model_module_version": "1.5.0",
            "_model_name": "HTMLModel",
            "_view_count": null,
            "_view_module": "@jupyter-widgets/controls",
            "_view_module_version": "1.5.0",
            "_view_name": "HTMLView",
            "description": "",
            "description_tooltip": null,
            "layout": "IPY_MODEL_3f0aad7039a3469daf4e0dcd4855e873",
            "placeholder": "​",
            "style": "IPY_MODEL_fdb7e377c9f94992a00d0273ca0a1f89",
            "value": " 466k/? [00:00&lt;00:00, 4.64MB/s]"
          }
        },
        "1384a19038ba43ab94a4b01e81dc2701": {
          "model_module": "@jupyter-widgets/base",
          "model_name": "LayoutModel",
          "model_module_version": "1.2.0",
          "state": {
            "_model_module": "@jupyter-widgets/base",
            "_model_module_version": "1.2.0",
            "_model_name": "LayoutModel",
            "_view_count": null,
            "_view_module": "@jupyter-widgets/base",
            "_view_module_version": "1.2.0",
            "_view_name": "LayoutView",
            "align_content": null,
            "align_items": null,
            "align_self": null,
            "border": null,
            "bottom": null,
            "display": null,
            "flex": null,
            "flex_flow": null,
            "grid_area": null,
            "grid_auto_columns": null,
            "grid_auto_flow": null,
            "grid_auto_rows": null,
            "grid_column": null,
            "grid_gap": null,
            "grid_row": null,
            "grid_template_areas": null,
            "grid_template_columns": null,
            "grid_template_rows": null,
            "height": null,
            "justify_content": null,
            "justify_items": null,
            "left": null,
            "margin": null,
            "max_height": null,
            "max_width": null,
            "min_height": null,
            "min_width": null,
            "object_fit": null,
            "object_position": null,
            "order": null,
            "overflow": null,
            "overflow_x": null,
            "overflow_y": null,
            "padding": null,
            "right": null,
            "top": null,
            "visibility": null,
            "width": null
          }
        },
        "7f0a3b0639934458b762d42352fdb7d7": {
          "model_module": "@jupyter-widgets/base",
          "model_name": "LayoutModel",
          "model_module_version": "1.2.0",
          "state": {
            "_model_module": "@jupyter-widgets/base",
            "_model_module_version": "1.2.0",
            "_model_name": "LayoutModel",
            "_view_count": null,
            "_view_module": "@jupyter-widgets/base",
            "_view_module_version": "1.2.0",
            "_view_name": "LayoutView",
            "align_content": null,
            "align_items": null,
            "align_self": null,
            "border": null,
            "bottom": null,
            "display": null,
            "flex": null,
            "flex_flow": null,
            "grid_area": null,
            "grid_auto_columns": null,
            "grid_auto_flow": null,
            "grid_auto_rows": null,
            "grid_column": null,
            "grid_gap": null,
            "grid_row": null,
            "grid_template_areas": null,
            "grid_template_columns": null,
            "grid_template_rows": null,
            "height": null,
            "justify_content": null,
            "justify_items": null,
            "left": null,
            "margin": null,
            "max_height": null,
            "max_width": null,
            "min_height": null,
            "min_width": null,
            "object_fit": null,
            "object_position": null,
            "order": null,
            "overflow": null,
            "overflow_x": null,
            "overflow_y": null,
            "padding": null,
            "right": null,
            "top": null,
            "visibility": null,
            "width": null
          }
        },
        "9b016836de034c169f0bdaf561f048d1": {
          "model_module": "@jupyter-widgets/controls",
          "model_name": "DescriptionStyleModel",
          "model_module_version": "1.5.0",
          "state": {
            "_model_module": "@jupyter-widgets/controls",
            "_model_module_version": "1.5.0",
            "_model_name": "DescriptionStyleModel",
            "_view_count": null,
            "_view_module": "@jupyter-widgets/base",
            "_view_module_version": "1.2.0",
            "_view_name": "StyleView",
            "description_width": ""
          }
        },
        "1d8df24f994d4a8a99e023b2a9f5c0c1": {
          "model_module": "@jupyter-widgets/base",
          "model_name": "LayoutModel",
          "model_module_version": "1.2.0",
          "state": {
            "_model_module": "@jupyter-widgets/base",
            "_model_module_version": "1.2.0",
            "_model_name": "LayoutModel",
            "_view_count": null,
            "_view_module": "@jupyter-widgets/base",
            "_view_module_version": "1.2.0",
            "_view_name": "LayoutView",
            "align_content": null,
            "align_items": null,
            "align_self": null,
            "border": null,
            "bottom": null,
            "display": null,
            "flex": null,
            "flex_flow": null,
            "grid_area": null,
            "grid_auto_columns": null,
            "grid_auto_flow": null,
            "grid_auto_rows": null,
            "grid_column": null,
            "grid_gap": null,
            "grid_row": null,
            "grid_template_areas": null,
            "grid_template_columns": null,
            "grid_template_rows": null,
            "height": null,
            "justify_content": null,
            "justify_items": null,
            "left": null,
            "margin": null,
            "max_height": null,
            "max_width": null,
            "min_height": null,
            "min_width": null,
            "object_fit": null,
            "object_position": null,
            "order": null,
            "overflow": null,
            "overflow_x": null,
            "overflow_y": null,
            "padding": null,
            "right": null,
            "top": null,
            "visibility": null,
            "width": "20px"
          }
        },
        "6aba7d027d08485390f15e553a86bbee": {
          "model_module": "@jupyter-widgets/controls",
          "model_name": "ProgressStyleModel",
          "model_module_version": "1.5.0",
          "state": {
            "_model_module": "@jupyter-widgets/controls",
            "_model_module_version": "1.5.0",
            "_model_name": "ProgressStyleModel",
            "_view_count": null,
            "_view_module": "@jupyter-widgets/base",
            "_view_module_version": "1.2.0",
            "_view_name": "StyleView",
            "bar_color": null,
            "description_width": ""
          }
        },
        "3f0aad7039a3469daf4e0dcd4855e873": {
          "model_module": "@jupyter-widgets/base",
          "model_name": "LayoutModel",
          "model_module_version": "1.2.0",
          "state": {
            "_model_module": "@jupyter-widgets/base",
            "_model_module_version": "1.2.0",
            "_model_name": "LayoutModel",
            "_view_count": null,
            "_view_module": "@jupyter-widgets/base",
            "_view_module_version": "1.2.0",
            "_view_name": "LayoutView",
            "align_content": null,
            "align_items": null,
            "align_self": null,
            "border": null,
            "bottom": null,
            "display": null,
            "flex": null,
            "flex_flow": null,
            "grid_area": null,
            "grid_auto_columns": null,
            "grid_auto_flow": null,
            "grid_auto_rows": null,
            "grid_column": null,
            "grid_gap": null,
            "grid_row": null,
            "grid_template_areas": null,
            "grid_template_columns": null,
            "grid_template_rows": null,
            "height": null,
            "justify_content": null,
            "justify_items": null,
            "left": null,
            "margin": null,
            "max_height": null,
            "max_width": null,
            "min_height": null,
            "min_width": null,
            "object_fit": null,
            "object_position": null,
            "order": null,
            "overflow": null,
            "overflow_x": null,
            "overflow_y": null,
            "padding": null,
            "right": null,
            "top": null,
            "visibility": null,
            "width": null
          }
        },
        "fdb7e377c9f94992a00d0273ca0a1f89": {
          "model_module": "@jupyter-widgets/controls",
          "model_name": "DescriptionStyleModel",
          "model_module_version": "1.5.0",
          "state": {
            "_model_module": "@jupyter-widgets/controls",
            "_model_module_version": "1.5.0",
            "_model_name": "DescriptionStyleModel",
            "_view_count": null,
            "_view_module": "@jupyter-widgets/base",
            "_view_module_version": "1.2.0",
            "_view_name": "StyleView",
            "description_width": ""
          }
        },
        "a9206d7676a44acca94bc2b1936f9696": {
          "model_module": "@jupyter-widgets/controls",
          "model_name": "HBoxModel",
          "model_module_version": "1.5.0",
          "state": {
            "_dom_classes": [],
            "_model_module": "@jupyter-widgets/controls",
            "_model_module_version": "1.5.0",
            "_model_name": "HBoxModel",
            "_view_count": null,
            "_view_module": "@jupyter-widgets/controls",
            "_view_module_version": "1.5.0",
            "_view_name": "HBoxView",
            "box_style": "",
            "children": [
              "IPY_MODEL_6afddd803ebc4814be88dca1264ce12e",
              "IPY_MODEL_786eb2e31b8040c197e3d4829ba8e22a",
              "IPY_MODEL_033257d266e0405abd6e68e0bf74b103"
            ],
            "layout": "IPY_MODEL_f0540a4d336c4ab79955f869d49b11a0"
          }
        },
        "6afddd803ebc4814be88dca1264ce12e": {
          "model_module": "@jupyter-widgets/controls",
          "model_name": "HTMLModel",
          "model_module_version": "1.5.0",
          "state": {
            "_dom_classes": [],
            "_model_module": "@jupyter-widgets/controls",
            "_model_module_version": "1.5.0",
            "_model_name": "HTMLModel",
            "_view_count": null,
            "_view_module": "@jupyter-widgets/controls",
            "_view_module_version": "1.5.0",
            "_view_name": "HTMLView",
            "description": "",
            "description_tooltip": null,
            "layout": "IPY_MODEL_a34a5a9c7eed42a397a60c1ccc6ba708",
            "placeholder": "​",
            "style": "IPY_MODEL_35e14e8c040844cfa44d8b80d3abd81b",
            "value": "special_tokens_map.json: 100%"
          }
        },
        "786eb2e31b8040c197e3d4829ba8e22a": {
          "model_module": "@jupyter-widgets/controls",
          "model_name": "FloatProgressModel",
          "model_module_version": "1.5.0",
          "state": {
            "_dom_classes": [],
            "_model_module": "@jupyter-widgets/controls",
            "_model_module_version": "1.5.0",
            "_model_name": "FloatProgressModel",
            "_view_count": null,
            "_view_module": "@jupyter-widgets/controls",
            "_view_module_version": "1.5.0",
            "_view_name": "ProgressView",
            "bar_style": "success",
            "description": "",
            "description_tooltip": null,
            "layout": "IPY_MODEL_f236a2d55fb948c1a70389a658c49f38",
            "max": 112,
            "min": 0,
            "orientation": "horizontal",
            "style": "IPY_MODEL_e8298982778549349a751d444d11c2d3",
            "value": 112
          }
        },
        "033257d266e0405abd6e68e0bf74b103": {
          "model_module": "@jupyter-widgets/controls",
          "model_name": "HTMLModel",
          "model_module_version": "1.5.0",
          "state": {
            "_dom_classes": [],
            "_model_module": "@jupyter-widgets/controls",
            "_model_module_version": "1.5.0",
            "_model_name": "HTMLModel",
            "_view_count": null,
            "_view_module": "@jupyter-widgets/controls",
            "_view_module_version": "1.5.0",
            "_view_name": "HTMLView",
            "description": "",
            "description_tooltip": null,
            "layout": "IPY_MODEL_60f5d1eb87864d2583f6502e63d278eb",
            "placeholder": "​",
            "style": "IPY_MODEL_df5476fdf2dd434ab78b1510c85408a8",
            "value": " 112/112 [00:00&lt;00:00, 4.77kB/s]"
          }
        },
        "f0540a4d336c4ab79955f869d49b11a0": {
          "model_module": "@jupyter-widgets/base",
          "model_name": "LayoutModel",
          "model_module_version": "1.2.0",
          "state": {
            "_model_module": "@jupyter-widgets/base",
            "_model_module_version": "1.2.0",
            "_model_name": "LayoutModel",
            "_view_count": null,
            "_view_module": "@jupyter-widgets/base",
            "_view_module_version": "1.2.0",
            "_view_name": "LayoutView",
            "align_content": null,
            "align_items": null,
            "align_self": null,
            "border": null,
            "bottom": null,
            "display": null,
            "flex": null,
            "flex_flow": null,
            "grid_area": null,
            "grid_auto_columns": null,
            "grid_auto_flow": null,
            "grid_auto_rows": null,
            "grid_column": null,
            "grid_gap": null,
            "grid_row": null,
            "grid_template_areas": null,
            "grid_template_columns": null,
            "grid_template_rows": null,
            "height": null,
            "justify_content": null,
            "justify_items": null,
            "left": null,
            "margin": null,
            "max_height": null,
            "max_width": null,
            "min_height": null,
            "min_width": null,
            "object_fit": null,
            "object_position": null,
            "order": null,
            "overflow": null,
            "overflow_x": null,
            "overflow_y": null,
            "padding": null,
            "right": null,
            "top": null,
            "visibility": null,
            "width": null
          }
        },
        "a34a5a9c7eed42a397a60c1ccc6ba708": {
          "model_module": "@jupyter-widgets/base",
          "model_name": "LayoutModel",
          "model_module_version": "1.2.0",
          "state": {
            "_model_module": "@jupyter-widgets/base",
            "_model_module_version": "1.2.0",
            "_model_name": "LayoutModel",
            "_view_count": null,
            "_view_module": "@jupyter-widgets/base",
            "_view_module_version": "1.2.0",
            "_view_name": "LayoutView",
            "align_content": null,
            "align_items": null,
            "align_self": null,
            "border": null,
            "bottom": null,
            "display": null,
            "flex": null,
            "flex_flow": null,
            "grid_area": null,
            "grid_auto_columns": null,
            "grid_auto_flow": null,
            "grid_auto_rows": null,
            "grid_column": null,
            "grid_gap": null,
            "grid_row": null,
            "grid_template_areas": null,
            "grid_template_columns": null,
            "grid_template_rows": null,
            "height": null,
            "justify_content": null,
            "justify_items": null,
            "left": null,
            "margin": null,
            "max_height": null,
            "max_width": null,
            "min_height": null,
            "min_width": null,
            "object_fit": null,
            "object_position": null,
            "order": null,
            "overflow": null,
            "overflow_x": null,
            "overflow_y": null,
            "padding": null,
            "right": null,
            "top": null,
            "visibility": null,
            "width": null
          }
        },
        "35e14e8c040844cfa44d8b80d3abd81b": {
          "model_module": "@jupyter-widgets/controls",
          "model_name": "DescriptionStyleModel",
          "model_module_version": "1.5.0",
          "state": {
            "_model_module": "@jupyter-widgets/controls",
            "_model_module_version": "1.5.0",
            "_model_name": "DescriptionStyleModel",
            "_view_count": null,
            "_view_module": "@jupyter-widgets/base",
            "_view_module_version": "1.2.0",
            "_view_name": "StyleView",
            "description_width": ""
          }
        },
        "f236a2d55fb948c1a70389a658c49f38": {
          "model_module": "@jupyter-widgets/base",
          "model_name": "LayoutModel",
          "model_module_version": "1.2.0",
          "state": {
            "_model_module": "@jupyter-widgets/base",
            "_model_module_version": "1.2.0",
            "_model_name": "LayoutModel",
            "_view_count": null,
            "_view_module": "@jupyter-widgets/base",
            "_view_module_version": "1.2.0",
            "_view_name": "LayoutView",
            "align_content": null,
            "align_items": null,
            "align_self": null,
            "border": null,
            "bottom": null,
            "display": null,
            "flex": null,
            "flex_flow": null,
            "grid_area": null,
            "grid_auto_columns": null,
            "grid_auto_flow": null,
            "grid_auto_rows": null,
            "grid_column": null,
            "grid_gap": null,
            "grid_row": null,
            "grid_template_areas": null,
            "grid_template_columns": null,
            "grid_template_rows": null,
            "height": null,
            "justify_content": null,
            "justify_items": null,
            "left": null,
            "margin": null,
            "max_height": null,
            "max_width": null,
            "min_height": null,
            "min_width": null,
            "object_fit": null,
            "object_position": null,
            "order": null,
            "overflow": null,
            "overflow_x": null,
            "overflow_y": null,
            "padding": null,
            "right": null,
            "top": null,
            "visibility": null,
            "width": null
          }
        },
        "e8298982778549349a751d444d11c2d3": {
          "model_module": "@jupyter-widgets/controls",
          "model_name": "ProgressStyleModel",
          "model_module_version": "1.5.0",
          "state": {
            "_model_module": "@jupyter-widgets/controls",
            "_model_module_version": "1.5.0",
            "_model_name": "ProgressStyleModel",
            "_view_count": null,
            "_view_module": "@jupyter-widgets/base",
            "_view_module_version": "1.2.0",
            "_view_name": "StyleView",
            "bar_color": null,
            "description_width": ""
          }
        },
        "60f5d1eb87864d2583f6502e63d278eb": {
          "model_module": "@jupyter-widgets/base",
          "model_name": "LayoutModel",
          "model_module_version": "1.2.0",
          "state": {
            "_model_module": "@jupyter-widgets/base",
            "_model_module_version": "1.2.0",
            "_model_name": "LayoutModel",
            "_view_count": null,
            "_view_module": "@jupyter-widgets/base",
            "_view_module_version": "1.2.0",
            "_view_name": "LayoutView",
            "align_content": null,
            "align_items": null,
            "align_self": null,
            "border": null,
            "bottom": null,
            "display": null,
            "flex": null,
            "flex_flow": null,
            "grid_area": null,
            "grid_auto_columns": null,
            "grid_auto_flow": null,
            "grid_auto_rows": null,
            "grid_column": null,
            "grid_gap": null,
            "grid_row": null,
            "grid_template_areas": null,
            "grid_template_columns": null,
            "grid_template_rows": null,
            "height": null,
            "justify_content": null,
            "justify_items": null,
            "left": null,
            "margin": null,
            "max_height": null,
            "max_width": null,
            "min_height": null,
            "min_width": null,
            "object_fit": null,
            "object_position": null,
            "order": null,
            "overflow": null,
            "overflow_x": null,
            "overflow_y": null,
            "padding": null,
            "right": null,
            "top": null,
            "visibility": null,
            "width": null
          }
        },
        "df5476fdf2dd434ab78b1510c85408a8": {
          "model_module": "@jupyter-widgets/controls",
          "model_name": "DescriptionStyleModel",
          "model_module_version": "1.5.0",
          "state": {
            "_model_module": "@jupyter-widgets/controls",
            "_model_module_version": "1.5.0",
            "_model_name": "DescriptionStyleModel",
            "_view_count": null,
            "_view_module": "@jupyter-widgets/base",
            "_view_module_version": "1.2.0",
            "_view_name": "StyleView",
            "description_width": ""
          }
        },
        "1451edb901aa4eacbd92401c535274d3": {
          "model_module": "@jupyter-widgets/controls",
          "model_name": "HBoxModel",
          "model_module_version": "1.5.0",
          "state": {
            "_dom_classes": [],
            "_model_module": "@jupyter-widgets/controls",
            "_model_module_version": "1.5.0",
            "_model_name": "HBoxModel",
            "_view_count": null,
            "_view_module": "@jupyter-widgets/controls",
            "_view_module_version": "1.5.0",
            "_view_name": "HBoxView",
            "box_style": "",
            "children": [
              "IPY_MODEL_a80e3746ccd34a26a979c8701dbd5da2",
              "IPY_MODEL_fcfddb51b2c142b284b09dedaf691e2a",
              "IPY_MODEL_9d79dfb905a54dde98a50a6804e4f95a"
            ],
            "layout": "IPY_MODEL_71bf6fd601744bc0a4a65a57187a9149"
          }
        },
        "a80e3746ccd34a26a979c8701dbd5da2": {
          "model_module": "@jupyter-widgets/controls",
          "model_name": "HTMLModel",
          "model_module_version": "1.5.0",
          "state": {
            "_dom_classes": [],
            "_model_module": "@jupyter-widgets/controls",
            "_model_module_version": "1.5.0",
            "_model_name": "HTMLModel",
            "_view_count": null,
            "_view_module": "@jupyter-widgets/controls",
            "_view_module_version": "1.5.0",
            "_view_name": "HTMLView",
            "description": "",
            "description_tooltip": null,
            "layout": "IPY_MODEL_fbdeed6fd73a4277876474adaae5f3cc",
            "placeholder": "​",
            "style": "IPY_MODEL_8a2ed8c24f7340988c36e6a9a9df7160",
            "value": "config.json: 100%"
          }
        },
        "fcfddb51b2c142b284b09dedaf691e2a": {
          "model_module": "@jupyter-widgets/controls",
          "model_name": "FloatProgressModel",
          "model_module_version": "1.5.0",
          "state": {
            "_dom_classes": [],
            "_model_module": "@jupyter-widgets/controls",
            "_model_module_version": "1.5.0",
            "_model_name": "FloatProgressModel",
            "_view_count": null,
            "_view_module": "@jupyter-widgets/controls",
            "_view_module_version": "1.5.0",
            "_view_name": "ProgressView",
            "bar_style": "success",
            "description": "",
            "description_tooltip": null,
            "layout": "IPY_MODEL_1fe2c1f995894c669f4b6ee76c0952e9",
            "max": 190,
            "min": 0,
            "orientation": "horizontal",
            "style": "IPY_MODEL_04b40cec844f46fd9644bbc0754f695e",
            "value": 190
          }
        },
        "9d79dfb905a54dde98a50a6804e4f95a": {
          "model_module": "@jupyter-widgets/controls",
          "model_name": "HTMLModel",
          "model_module_version": "1.5.0",
          "state": {
            "_dom_classes": [],
            "_model_module": "@jupyter-widgets/controls",
            "_model_module_version": "1.5.0",
            "_model_name": "HTMLModel",
            "_view_count": null,
            "_view_module": "@jupyter-widgets/controls",
            "_view_module_version": "1.5.0",
            "_view_name": "HTMLView",
            "description": "",
            "description_tooltip": null,
            "layout": "IPY_MODEL_d7f84b6b9deb43f0b183d15ca899b2e7",
            "placeholder": "​",
            "style": "IPY_MODEL_0aa33bc640104a85bacfeb9fa92662c3",
            "value": " 190/190 [00:00&lt;00:00, 17.0kB/s]"
          }
        },
        "71bf6fd601744bc0a4a65a57187a9149": {
          "model_module": "@jupyter-widgets/base",
          "model_name": "LayoutModel",
          "model_module_version": "1.2.0",
          "state": {
            "_model_module": "@jupyter-widgets/base",
            "_model_module_version": "1.2.0",
            "_model_name": "LayoutModel",
            "_view_count": null,
            "_view_module": "@jupyter-widgets/base",
            "_view_module_version": "1.2.0",
            "_view_name": "LayoutView",
            "align_content": null,
            "align_items": null,
            "align_self": null,
            "border": null,
            "bottom": null,
            "display": null,
            "flex": null,
            "flex_flow": null,
            "grid_area": null,
            "grid_auto_columns": null,
            "grid_auto_flow": null,
            "grid_auto_rows": null,
            "grid_column": null,
            "grid_gap": null,
            "grid_row": null,
            "grid_template_areas": null,
            "grid_template_columns": null,
            "grid_template_rows": null,
            "height": null,
            "justify_content": null,
            "justify_items": null,
            "left": null,
            "margin": null,
            "max_height": null,
            "max_width": null,
            "min_height": null,
            "min_width": null,
            "object_fit": null,
            "object_position": null,
            "order": null,
            "overflow": null,
            "overflow_x": null,
            "overflow_y": null,
            "padding": null,
            "right": null,
            "top": null,
            "visibility": null,
            "width": null
          }
        },
        "fbdeed6fd73a4277876474adaae5f3cc": {
          "model_module": "@jupyter-widgets/base",
          "model_name": "LayoutModel",
          "model_module_version": "1.2.0",
          "state": {
            "_model_module": "@jupyter-widgets/base",
            "_model_module_version": "1.2.0",
            "_model_name": "LayoutModel",
            "_view_count": null,
            "_view_module": "@jupyter-widgets/base",
            "_view_module_version": "1.2.0",
            "_view_name": "LayoutView",
            "align_content": null,
            "align_items": null,
            "align_self": null,
            "border": null,
            "bottom": null,
            "display": null,
            "flex": null,
            "flex_flow": null,
            "grid_area": null,
            "grid_auto_columns": null,
            "grid_auto_flow": null,
            "grid_auto_rows": null,
            "grid_column": null,
            "grid_gap": null,
            "grid_row": null,
            "grid_template_areas": null,
            "grid_template_columns": null,
            "grid_template_rows": null,
            "height": null,
            "justify_content": null,
            "justify_items": null,
            "left": null,
            "margin": null,
            "max_height": null,
            "max_width": null,
            "min_height": null,
            "min_width": null,
            "object_fit": null,
            "object_position": null,
            "order": null,
            "overflow": null,
            "overflow_x": null,
            "overflow_y": null,
            "padding": null,
            "right": null,
            "top": null,
            "visibility": null,
            "width": null
          }
        },
        "8a2ed8c24f7340988c36e6a9a9df7160": {
          "model_module": "@jupyter-widgets/controls",
          "model_name": "DescriptionStyleModel",
          "model_module_version": "1.5.0",
          "state": {
            "_model_module": "@jupyter-widgets/controls",
            "_model_module_version": "1.5.0",
            "_model_name": "DescriptionStyleModel",
            "_view_count": null,
            "_view_module": "@jupyter-widgets/base",
            "_view_module_version": "1.2.0",
            "_view_name": "StyleView",
            "description_width": ""
          }
        },
        "1fe2c1f995894c669f4b6ee76c0952e9": {
          "model_module": "@jupyter-widgets/base",
          "model_name": "LayoutModel",
          "model_module_version": "1.2.0",
          "state": {
            "_model_module": "@jupyter-widgets/base",
            "_model_module_version": "1.2.0",
            "_model_name": "LayoutModel",
            "_view_count": null,
            "_view_module": "@jupyter-widgets/base",
            "_view_module_version": "1.2.0",
            "_view_name": "LayoutView",
            "align_content": null,
            "align_items": null,
            "align_self": null,
            "border": null,
            "bottom": null,
            "display": null,
            "flex": null,
            "flex_flow": null,
            "grid_area": null,
            "grid_auto_columns": null,
            "grid_auto_flow": null,
            "grid_auto_rows": null,
            "grid_column": null,
            "grid_gap": null,
            "grid_row": null,
            "grid_template_areas": null,
            "grid_template_columns": null,
            "grid_template_rows": null,
            "height": null,
            "justify_content": null,
            "justify_items": null,
            "left": null,
            "margin": null,
            "max_height": null,
            "max_width": null,
            "min_height": null,
            "min_width": null,
            "object_fit": null,
            "object_position": null,
            "order": null,
            "overflow": null,
            "overflow_x": null,
            "overflow_y": null,
            "padding": null,
            "right": null,
            "top": null,
            "visibility": null,
            "width": null
          }
        },
        "04b40cec844f46fd9644bbc0754f695e": {
          "model_module": "@jupyter-widgets/controls",
          "model_name": "ProgressStyleModel",
          "model_module_version": "1.5.0",
          "state": {
            "_model_module": "@jupyter-widgets/controls",
            "_model_module_version": "1.5.0",
            "_model_name": "ProgressStyleModel",
            "_view_count": null,
            "_view_module": "@jupyter-widgets/base",
            "_view_module_version": "1.2.0",
            "_view_name": "StyleView",
            "bar_color": null,
            "description_width": ""
          }
        },
        "d7f84b6b9deb43f0b183d15ca899b2e7": {
          "model_module": "@jupyter-widgets/base",
          "model_name": "LayoutModel",
          "model_module_version": "1.2.0",
          "state": {
            "_model_module": "@jupyter-widgets/base",
            "_model_module_version": "1.2.0",
            "_model_name": "LayoutModel",
            "_view_count": null,
            "_view_module": "@jupyter-widgets/base",
            "_view_module_version": "1.2.0",
            "_view_name": "LayoutView",
            "align_content": null,
            "align_items": null,
            "align_self": null,
            "border": null,
            "bottom": null,
            "display": null,
            "flex": null,
            "flex_flow": null,
            "grid_area": null,
            "grid_auto_columns": null,
            "grid_auto_flow": null,
            "grid_auto_rows": null,
            "grid_column": null,
            "grid_gap": null,
            "grid_row": null,
            "grid_template_areas": null,
            "grid_template_columns": null,
            "grid_template_rows": null,
            "height": null,
            "justify_content": null,
            "justify_items": null,
            "left": null,
            "margin": null,
            "max_height": null,
            "max_width": null,
            "min_height": null,
            "min_width": null,
            "object_fit": null,
            "object_position": null,
            "order": null,
            "overflow": null,
            "overflow_x": null,
            "overflow_y": null,
            "padding": null,
            "right": null,
            "top": null,
            "visibility": null,
            "width": null
          }
        },
        "0aa33bc640104a85bacfeb9fa92662c3": {
          "model_module": "@jupyter-widgets/controls",
          "model_name": "DescriptionStyleModel",
          "model_module_version": "1.5.0",
          "state": {
            "_model_module": "@jupyter-widgets/controls",
            "_model_module_version": "1.5.0",
            "_model_name": "DescriptionStyleModel",
            "_view_count": null,
            "_view_module": "@jupyter-widgets/base",
            "_view_module_version": "1.2.0",
            "_view_name": "StyleView",
            "description_width": ""
          }
        },
        "de1807eda2e84e99b444064dc625dc97": {
          "model_module": "@jupyter-widgets/controls",
          "model_name": "HBoxModel",
          "model_module_version": "1.5.0",
          "state": {
            "_dom_classes": [],
            "_model_module": "@jupyter-widgets/controls",
            "_model_module_version": "1.5.0",
            "_model_name": "HBoxModel",
            "_view_count": null,
            "_view_module": "@jupyter-widgets/controls",
            "_view_module_version": "1.5.0",
            "_view_name": "HBoxView",
            "box_style": "",
            "children": [
              "IPY_MODEL_1cdf0e780cb84486915abb5e7b87fcf4",
              "IPY_MODEL_80c877c5b5974def99d0a1c0724c18ec",
              "IPY_MODEL_2996fed85b99492fa5e1fb260c3575e9"
            ],
            "layout": "IPY_MODEL_fd17daba8373486d8c5d1d600725e1e3"
          }
        },
        "1cdf0e780cb84486915abb5e7b87fcf4": {
          "model_module": "@jupyter-widgets/controls",
          "model_name": "HTMLModel",
          "model_module_version": "1.5.0",
          "state": {
            "_dom_classes": [],
            "_model_module": "@jupyter-widgets/controls",
            "_model_module_version": "1.5.0",
            "_model_name": "HTMLModel",
            "_view_count": null,
            "_view_module": "@jupyter-widgets/controls",
            "_view_module_version": "1.5.0",
            "_view_name": "HTMLView",
            "description": "",
            "description_tooltip": null,
            "layout": "IPY_MODEL_55dd4275c03a4ee0a847f5bf8ffadccd",
            "placeholder": "​",
            "style": "IPY_MODEL_15f6476ae915426682134171cf2ad5da",
            "value": "Batches: 100%"
          }
        },
        "80c877c5b5974def99d0a1c0724c18ec": {
          "model_module": "@jupyter-widgets/controls",
          "model_name": "FloatProgressModel",
          "model_module_version": "1.5.0",
          "state": {
            "_dom_classes": [],
            "_model_module": "@jupyter-widgets/controls",
            "_model_module_version": "1.5.0",
            "_model_name": "FloatProgressModel",
            "_view_count": null,
            "_view_module": "@jupyter-widgets/controls",
            "_view_module_version": "1.5.0",
            "_view_name": "ProgressView",
            "bar_style": "success",
            "description": "",
            "description_tooltip": null,
            "layout": "IPY_MODEL_55bd6d18d0994395ad83a0dc53a232f9",
            "max": 6,
            "min": 0,
            "orientation": "horizontal",
            "style": "IPY_MODEL_809ad1e41de24a488d401dc947fe5b78",
            "value": 6
          }
        },
        "2996fed85b99492fa5e1fb260c3575e9": {
          "model_module": "@jupyter-widgets/controls",
          "model_name": "HTMLModel",
          "model_module_version": "1.5.0",
          "state": {
            "_dom_classes": [],
            "_model_module": "@jupyter-widgets/controls",
            "_model_module_version": "1.5.0",
            "_model_name": "HTMLModel",
            "_view_count": null,
            "_view_module": "@jupyter-widgets/controls",
            "_view_module_version": "1.5.0",
            "_view_name": "HTMLView",
            "description": "",
            "description_tooltip": null,
            "layout": "IPY_MODEL_367c77bfbe9a48bf98572b8125f72d3f",
            "placeholder": "​",
            "style": "IPY_MODEL_3fb76b5caa5f4d61983e080856528a04",
            "value": " 6/6 [00:01&lt;00:00,  4.55it/s]"
          }
        },
        "fd17daba8373486d8c5d1d600725e1e3": {
          "model_module": "@jupyter-widgets/base",
          "model_name": "LayoutModel",
          "model_module_version": "1.2.0",
          "state": {
            "_model_module": "@jupyter-widgets/base",
            "_model_module_version": "1.2.0",
            "_model_name": "LayoutModel",
            "_view_count": null,
            "_view_module": "@jupyter-widgets/base",
            "_view_module_version": "1.2.0",
            "_view_name": "LayoutView",
            "align_content": null,
            "align_items": null,
            "align_self": null,
            "border": null,
            "bottom": null,
            "display": null,
            "flex": null,
            "flex_flow": null,
            "grid_area": null,
            "grid_auto_columns": null,
            "grid_auto_flow": null,
            "grid_auto_rows": null,
            "grid_column": null,
            "grid_gap": null,
            "grid_row": null,
            "grid_template_areas": null,
            "grid_template_columns": null,
            "grid_template_rows": null,
            "height": null,
            "justify_content": null,
            "justify_items": null,
            "left": null,
            "margin": null,
            "max_height": null,
            "max_width": null,
            "min_height": null,
            "min_width": null,
            "object_fit": null,
            "object_position": null,
            "order": null,
            "overflow": null,
            "overflow_x": null,
            "overflow_y": null,
            "padding": null,
            "right": null,
            "top": null,
            "visibility": null,
            "width": null
          }
        },
        "55dd4275c03a4ee0a847f5bf8ffadccd": {
          "model_module": "@jupyter-widgets/base",
          "model_name": "LayoutModel",
          "model_module_version": "1.2.0",
          "state": {
            "_model_module": "@jupyter-widgets/base",
            "_model_module_version": "1.2.0",
            "_model_name": "LayoutModel",
            "_view_count": null,
            "_view_module": "@jupyter-widgets/base",
            "_view_module_version": "1.2.0",
            "_view_name": "LayoutView",
            "align_content": null,
            "align_items": null,
            "align_self": null,
            "border": null,
            "bottom": null,
            "display": null,
            "flex": null,
            "flex_flow": null,
            "grid_area": null,
            "grid_auto_columns": null,
            "grid_auto_flow": null,
            "grid_auto_rows": null,
            "grid_column": null,
            "grid_gap": null,
            "grid_row": null,
            "grid_template_areas": null,
            "grid_template_columns": null,
            "grid_template_rows": null,
            "height": null,
            "justify_content": null,
            "justify_items": null,
            "left": null,
            "margin": null,
            "max_height": null,
            "max_width": null,
            "min_height": null,
            "min_width": null,
            "object_fit": null,
            "object_position": null,
            "order": null,
            "overflow": null,
            "overflow_x": null,
            "overflow_y": null,
            "padding": null,
            "right": null,
            "top": null,
            "visibility": null,
            "width": null
          }
        },
        "15f6476ae915426682134171cf2ad5da": {
          "model_module": "@jupyter-widgets/controls",
          "model_name": "DescriptionStyleModel",
          "model_module_version": "1.5.0",
          "state": {
            "_model_module": "@jupyter-widgets/controls",
            "_model_module_version": "1.5.0",
            "_model_name": "DescriptionStyleModel",
            "_view_count": null,
            "_view_module": "@jupyter-widgets/base",
            "_view_module_version": "1.2.0",
            "_view_name": "StyleView",
            "description_width": ""
          }
        },
        "55bd6d18d0994395ad83a0dc53a232f9": {
          "model_module": "@jupyter-widgets/base",
          "model_name": "LayoutModel",
          "model_module_version": "1.2.0",
          "state": {
            "_model_module": "@jupyter-widgets/base",
            "_model_module_version": "1.2.0",
            "_model_name": "LayoutModel",
            "_view_count": null,
            "_view_module": "@jupyter-widgets/base",
            "_view_module_version": "1.2.0",
            "_view_name": "LayoutView",
            "align_content": null,
            "align_items": null,
            "align_self": null,
            "border": null,
            "bottom": null,
            "display": null,
            "flex": null,
            "flex_flow": null,
            "grid_area": null,
            "grid_auto_columns": null,
            "grid_auto_flow": null,
            "grid_auto_rows": null,
            "grid_column": null,
            "grid_gap": null,
            "grid_row": null,
            "grid_template_areas": null,
            "grid_template_columns": null,
            "grid_template_rows": null,
            "height": null,
            "justify_content": null,
            "justify_items": null,
            "left": null,
            "margin": null,
            "max_height": null,
            "max_width": null,
            "min_height": null,
            "min_width": null,
            "object_fit": null,
            "object_position": null,
            "order": null,
            "overflow": null,
            "overflow_x": null,
            "overflow_y": null,
            "padding": null,
            "right": null,
            "top": null,
            "visibility": null,
            "width": null
          }
        },
        "809ad1e41de24a488d401dc947fe5b78": {
          "model_module": "@jupyter-widgets/controls",
          "model_name": "ProgressStyleModel",
          "model_module_version": "1.5.0",
          "state": {
            "_model_module": "@jupyter-widgets/controls",
            "_model_module_version": "1.5.0",
            "_model_name": "ProgressStyleModel",
            "_view_count": null,
            "_view_module": "@jupyter-widgets/base",
            "_view_module_version": "1.2.0",
            "_view_name": "StyleView",
            "bar_color": null,
            "description_width": ""
          }
        },
        "367c77bfbe9a48bf98572b8125f72d3f": {
          "model_module": "@jupyter-widgets/base",
          "model_name": "LayoutModel",
          "model_module_version": "1.2.0",
          "state": {
            "_model_module": "@jupyter-widgets/base",
            "_model_module_version": "1.2.0",
            "_model_name": "LayoutModel",
            "_view_count": null,
            "_view_module": "@jupyter-widgets/base",
            "_view_module_version": "1.2.0",
            "_view_name": "LayoutView",
            "align_content": null,
            "align_items": null,
            "align_self": null,
            "border": null,
            "bottom": null,
            "display": null,
            "flex": null,
            "flex_flow": null,
            "grid_area": null,
            "grid_auto_columns": null,
            "grid_auto_flow": null,
            "grid_auto_rows": null,
            "grid_column": null,
            "grid_gap": null,
            "grid_row": null,
            "grid_template_areas": null,
            "grid_template_columns": null,
            "grid_template_rows": null,
            "height": null,
            "justify_content": null,
            "justify_items": null,
            "left": null,
            "margin": null,
            "max_height": null,
            "max_width": null,
            "min_height": null,
            "min_width": null,
            "object_fit": null,
            "object_position": null,
            "order": null,
            "overflow": null,
            "overflow_x": null,
            "overflow_y": null,
            "padding": null,
            "right": null,
            "top": null,
            "visibility": null,
            "width": null
          }
        },
        "3fb76b5caa5f4d61983e080856528a04": {
          "model_module": "@jupyter-widgets/controls",
          "model_name": "DescriptionStyleModel",
          "model_module_version": "1.5.0",
          "state": {
            "_model_module": "@jupyter-widgets/controls",
            "_model_module_version": "1.5.0",
            "_model_name": "DescriptionStyleModel",
            "_view_count": null,
            "_view_module": "@jupyter-widgets/base",
            "_view_module_version": "1.2.0",
            "_view_name": "StyleView",
            "description_width": ""
          }
        },
        "de62263201594bb9aabcdf9d41a3800b": {
          "model_module": "@jupyter-widgets/controls",
          "model_name": "FloatProgressModel",
          "model_module_version": "1.5.0",
          "state": {
            "_dom_classes": [],
            "_model_module": "@jupyter-widgets/controls",
            "_model_module_version": "1.5.0",
            "_model_name": "FloatProgressModel",
            "_view_count": null,
            "_view_module": "@jupyter-widgets/controls",
            "_view_module_version": "1.5.0",
            "_view_name": "ProgressView",
            "bar_style": "",
            "description": "",
            "description_tooltip": null,
            "layout": "IPY_MODEL_9ff8b40c17d34a7684b22c3279d7c70a",
            "max": 100,
            "min": 0,
            "orientation": "horizontal",
            "style": "IPY_MODEL_1c45071a4bc843c49f85934063df8bd0",
            "value": 100
          }
        },
        "9ff8b40c17d34a7684b22c3279d7c70a": {
          "model_module": "@jupyter-widgets/base",
          "model_name": "LayoutModel",
          "model_module_version": "1.2.0",
          "state": {
            "_model_module": "@jupyter-widgets/base",
            "_model_module_version": "1.2.0",
            "_model_name": "LayoutModel",
            "_view_count": null,
            "_view_module": "@jupyter-widgets/base",
            "_view_module_version": "1.2.0",
            "_view_name": "LayoutView",
            "align_content": null,
            "align_items": null,
            "align_self": null,
            "border": null,
            "bottom": null,
            "display": null,
            "flex": null,
            "flex_flow": null,
            "grid_area": null,
            "grid_auto_columns": null,
            "grid_auto_flow": null,
            "grid_auto_rows": null,
            "grid_column": null,
            "grid_gap": null,
            "grid_row": null,
            "grid_template_areas": null,
            "grid_template_columns": null,
            "grid_template_rows": null,
            "height": null,
            "justify_content": null,
            "justify_items": null,
            "left": null,
            "margin": null,
            "max_height": null,
            "max_width": null,
            "min_height": null,
            "min_width": null,
            "object_fit": null,
            "object_position": null,
            "order": null,
            "overflow": null,
            "overflow_x": null,
            "overflow_y": null,
            "padding": null,
            "right": null,
            "top": null,
            "visibility": null,
            "width": "auto"
          }
        },
        "1c45071a4bc843c49f85934063df8bd0": {
          "model_module": "@jupyter-widgets/controls",
          "model_name": "ProgressStyleModel",
          "model_module_version": "1.5.0",
          "state": {
            "_model_module": "@jupyter-widgets/controls",
            "_model_module_version": "1.5.0",
            "_model_name": "ProgressStyleModel",
            "_view_count": null,
            "_view_module": "@jupyter-widgets/base",
            "_view_module_version": "1.2.0",
            "_view_name": "StyleView",
            "bar_color": "black",
            "description_width": ""
          }
        },
        "512e6b91ab564a08b50bce71c0fb2f86": {
          "model_module": "@jupyter-widgets/controls",
          "model_name": "FloatProgressModel",
          "model_module_version": "1.5.0",
          "state": {
            "_dom_classes": [],
            "_model_module": "@jupyter-widgets/controls",
            "_model_module_version": "1.5.0",
            "_model_name": "FloatProgressModel",
            "_view_count": null,
            "_view_module": "@jupyter-widgets/controls",
            "_view_module_version": "1.5.0",
            "_view_name": "ProgressView",
            "bar_style": "",
            "description": "",
            "description_tooltip": null,
            "layout": "IPY_MODEL_2fc63c7e6c5e402ab0019f7943d85070",
            "max": 100,
            "min": 0,
            "orientation": "horizontal",
            "style": "IPY_MODEL_dc20ac61142d4c9ca9c94303d79c3f73",
            "value": 100
          }
        },
        "2fc63c7e6c5e402ab0019f7943d85070": {
          "model_module": "@jupyter-widgets/base",
          "model_name": "LayoutModel",
          "model_module_version": "1.2.0",
          "state": {
            "_model_module": "@jupyter-widgets/base",
            "_model_module_version": "1.2.0",
            "_model_name": "LayoutModel",
            "_view_count": null,
            "_view_module": "@jupyter-widgets/base",
            "_view_module_version": "1.2.0",
            "_view_name": "LayoutView",
            "align_content": null,
            "align_items": null,
            "align_self": null,
            "border": null,
            "bottom": null,
            "display": null,
            "flex": null,
            "flex_flow": null,
            "grid_area": null,
            "grid_auto_columns": null,
            "grid_auto_flow": null,
            "grid_auto_rows": null,
            "grid_column": null,
            "grid_gap": null,
            "grid_row": null,
            "grid_template_areas": null,
            "grid_template_columns": null,
            "grid_template_rows": null,
            "height": null,
            "justify_content": null,
            "justify_items": null,
            "left": null,
            "margin": null,
            "max_height": null,
            "max_width": null,
            "min_height": null,
            "min_width": null,
            "object_fit": null,
            "object_position": null,
            "order": null,
            "overflow": null,
            "overflow_x": null,
            "overflow_y": null,
            "padding": null,
            "right": null,
            "top": null,
            "visibility": null,
            "width": "auto"
          }
        },
        "dc20ac61142d4c9ca9c94303d79c3f73": {
          "model_module": "@jupyter-widgets/controls",
          "model_name": "ProgressStyleModel",
          "model_module_version": "1.5.0",
          "state": {
            "_model_module": "@jupyter-widgets/controls",
            "_model_module_version": "1.5.0",
            "_model_name": "ProgressStyleModel",
            "_view_count": null,
            "_view_module": "@jupyter-widgets/base",
            "_view_module_version": "1.2.0",
            "_view_name": "StyleView",
            "bar_color": "black",
            "description_width": ""
          }
        }
      }
    }
  },
  "cells": [
    {
      "cell_type": "markdown",
      "metadata": {
        "id": "view-in-github",
        "colab_type": "text"
      },
      "source": [
        "<a href=\"https://colab.research.google.com/github/ConstructoDestructo/Diabetes_AI_Instrument/blob/main/CDC_NHANES_Extractor.ipynb\" target=\"_parent\"><img src=\"https://colab.research.google.com/assets/colab-badge.svg\" alt=\"Open In Colab\"/></a>"
      ]
    },
    {
      "cell_type": "code",
      "source": [
        "import requests\n",
        "!pip install kneed\n",
        "from bs4 import BeautifulSoup\n",
        "import pandas as pd\n",
        "import time\n",
        "from tqdm import tqdm\n",
        "import re\n",
        "from sklearn.feature_extraction.text import TfidfVectorizer\n",
        "from sklearn.metrics.pairwise import cosine_similarity\n",
        "from sentence_transformers import SentenceTransformer\n",
        "from kneed import KneeLocator\n",
        "import numpy as np\n",
        "import matplotlib.pyplot as plt\n",
        "\n",
        "# --- CONFIG ---\n",
        "BASE_CYCLE_INDEX = \"https://wwwn.cdc.gov/nchs/nhanes/continuousnhanes/default.aspx\"\n",
        "COMPONENTS = [\"Demographics\", \"Dietary\", \"Examination\", \"Laboratory\", \"Questionnaire\"]\n",
        "OUTPUT_JSON = \"nhanes_catalog.json\"\n",
        "OUTPUT_CSV = \"nhanes_catalog.csv\"\n",
        "HEADERS = {\"User-Agent\": \"Mozilla/5.0 (Data Research Bot; +https://example.com)\"}\n",
        "EXCLUDE = [\"What We Eat in America\", \"Notice to Users\"]\n",
        "\n",
        "# --- Helper functions ---\n",
        "def get_available_cycles():\n",
        "    res = requests.get(BASE_CYCLE_INDEX, headers=HEADERS)\n",
        "    soup = BeautifulSoup(res.text, \"html.parser\")\n",
        "    cycles = []\n",
        "    for link in soup.find_all(\"a\", href=True):\n",
        "        href = link[\"href\"]\n",
        "        link_text = link.text.strip()\n",
        "        if (\"BeginYear=\" in href or \"Cycle=\" in href) and \"NHANES\" in link_text:\n",
        "            if any(exclude in link_text for exclude in EXCLUDE):\n",
        "                continue\n",
        "            if link_text not in cycles:\n",
        "                cycles.append(link_text)\n",
        "    return cycles\n",
        "\n",
        "def get_component_datasets(cycle, component):\n",
        "    url = f\"https://wwwn.cdc.gov/nchs/nhanes/search/datapage.aspx?Component={component}&Cycle={cycle}\"\n",
        "    res = requests.get(url, headers=HEADERS)\n",
        "    if res.status_code != 200:\n",
        "        print(f\"⚠️ Failed to fetch {component} data for {cycle} (status {res.status_code})\")\n",
        "        return []\n",
        "\n",
        "    soup = BeautifulSoup(res.text, \"html.parser\")\n",
        "    table = soup.find(\"table\", {\"id\": \"GridView1\"})\n",
        "    if not table:\n",
        "        return []\n",
        "\n",
        "    cycle_years_match = re.findall(r'\\d{4}', cycle)\n",
        "    if len(cycle_years_match) == 2:\n",
        "        cycle_start_year = int(cycle_years_match[0])\n",
        "        cycle_end_year = int(cycle_years_match[1])\n",
        "    elif len(cycle_years_match) == 1:\n",
        "        cycle_start_year = cycle_end_year = int(cycle_years_match[0])\n",
        "    else:\n",
        "        cycle_start_year = cycle_end_year = None\n",
        "\n",
        "    records = []\n",
        "    rows = table.find_all(\"tr\")[1:]  # skip header\n",
        "    for row in rows:\n",
        "        cols = row.find_all(\"td\")\n",
        "        if len(cols) < 4:\n",
        "            continue\n",
        "        dataset_name = cols[0].text.strip()\n",
        "        years = cols[1].text.strip()\n",
        "        data_link = cols[2].find(\"a\")[\"href\"] if cols[2].find(\"a\") else None\n",
        "        doc_link = cols[3].find(\"a\")[\"href\"] if cols[3].find(\"a\") else None\n",
        "\n",
        "        if re.match(r'\\d{4}-\\d{4}', dataset_name):\n",
        "            dataset_name, years = years, dataset_name\n",
        "\n",
        "        if data_link and data_link.startswith(\"/\"):\n",
        "            data_link = \"https://wwwn.cdc.gov\" + data_link\n",
        "        if doc_link and doc_link.startswith(\"/\"):\n",
        "            doc_link = \"https://wwwn.cdc.gov\" + doc_link\n",
        "\n",
        "        dataset_years_match = re.search(r'(\\d{4})-(\\d{4})', years)\n",
        "        if dataset_years_match:\n",
        "            dataset_start_year = int(dataset_years_match.group(1))\n",
        "            dataset_end_year = int(dataset_years_match.group(2))\n",
        "            if cycle_start_year and cycle_end_year:\n",
        "                if dataset_start_year < cycle_start_year or dataset_end_year > cycle_end_year:\n",
        "                    continue\n",
        "\n",
        "        print(f\"   [Found] {dataset_name} ({years})\")\n",
        "        records.append({\n",
        "            \"cycle\": cycle,\n",
        "            \"component\": component,\n",
        "            \"dataset_name\": dataset_name,\n",
        "            \"years\": years,\n",
        "            \"data_url\": doc_link,  # swapped on purpose\n",
        "            \"doc_url\": data_link\n",
        "        })\n",
        "    return records\n",
        "\n",
        "# --- Crawl NHANES ---\n",
        "def crawl_nhanes():\n",
        "    all_records = []\n",
        "    cycles = get_available_cycles()\n",
        "    print(f\"✅ Found {len(cycles)} valid NHANES cycles: {cycles}\")\n",
        "\n",
        "    for cycle in tqdm(cycles, desc=\"Crawling NHANES cycles\"):\n",
        "        print(f\"\\n🔹 Scanning cycle: {cycle}\")\n",
        "\n",
        "        # Always include Demographics first\n",
        "        try:\n",
        "            demographics_datasets = get_component_datasets(cycle, \"Demographics\")\n",
        "            if demographics_datasets:\n",
        "                all_records.extend(demographics_datasets)\n",
        "                print(f\"   [Added] Demographics dataset for {cycle}\")\n",
        "            time.sleep(1)\n",
        "        except Exception as e:\n",
        "            print(f\"⚠️ Error fetching demographics for {cycle}: {e}\")\n",
        "\n",
        "        # Add the rest\n",
        "        for component in COMPONENTS:\n",
        "            if component == \"Demographics\":\n",
        "                continue\n",
        "            try:\n",
        "                datasets = get_component_datasets(cycle, component)\n",
        "                all_records.extend(datasets)\n",
        "                time.sleep(1)\n",
        "            except Exception as e:\n",
        "                print(f\"⚠️ Error on {cycle} - {component}: {e}\")\n",
        "\n",
        "    df = pd.DataFrame(all_records)\n",
        "    df.to_json(OUTPUT_JSON, orient=\"records\", indent=2)\n",
        "    df.to_csv(OUTPUT_CSV, index=False)\n",
        "    print(f\"\\n✅ Crawling complete! Saved {len(df)} records to {OUTPUT_JSON} and {OUTPUT_CSV}.\")\n",
        "    return df\n",
        "\n",
        "# --- Run crawler ---\n",
        "if __name__ == \"__main__\":\n",
        "    df_catalog = crawl_nhanes()\n",
        "\n",
        "   # --- Separate demographics first ---\n",
        "df_demographics = df_catalog[df_catalog[\"component\"] == \"Demographics\"].copy()\n",
        "df_non_demographics = df_catalog[df_catalog[\"component\"] != \"Demographics\"].copy()\n",
        "\n",
        "print(f\"🔹 Demographics datasets preserved: {len(df_demographics)}\")\n",
        "print(f\"🔹 Non-demographics datasets to filter: {len(df_non_demographics)}\")\n",
        "\n",
        "# --- Step 1: AI Filter: Biomedical Expansion on non-demographics datasets ---\n",
        "SEED_KEYWORDS = [\n",
        "    \"diabetes\", \"prediabetes\", \"glucose\", \"fasting glucose\", \"hba1c\",\n",
        "    \"hemoglobin a1c\", \"insulin\", \"c-peptide\", \"triglyceride\", \"cholesterol\",\n",
        "    \"hdl\", \"ldl\", \"body mass index\", \"bmi\", \"waist\", \"weight\", \"obesity\",\n",
        "    \"hypertension\"\n",
        "]\n",
        "\n",
        "BIOMED_SYNONYMS = {\n",
        "    \"diabetes\": [\"type 2 diabetes\", \"type 1 diabetes\", \"hyperglycemia\", \"impaired glucose tolerance\", \"diabetic\", \"glucose intolerance\"],\n",
        "    \"prediabetes\": [\"impaired fasting glucose\", \"impaired glucose tolerance\", \"borderline diabetes\"],\n",
        "    \"glucose\": [\"blood sugar\", \"serum glucose\", \"fasting glucose\", \"plasma glucose\"],\n",
        "    \"hba1c\": [\"hemoglobin a1c\", \"glycated hemoglobin\", \"glycohemoglobin\", \"a1c\"],\n",
        "    \"insulin\": [\"fasting insulin\", \"serum insulin\", \"insulin resistance\", \"c-peptide\"],\n",
        "    \"cholesterol\": [\"hdl\", \"ldl\", \"triglyceride\", \"lipids\", \"total cholesterol\"],\n",
        "    \"obesity\": [\"overweight\", \"adiposity\", \"body mass index\", \"bmi\", \"waist circumference\"],\n",
        "    \"hypertension\": [\"high blood pressure\", \"systolic\", \"diastolic\"],\n",
        "    \"bmi\": [\"body mass index\", \"obesity indicator\"],\n",
        "    \"triglyceride\": [\"blood lipids\", \"fatty acids\", \"serum triglycerides\"],\n",
        "    \"hdl\": [\"good cholesterol\"],\n",
        "    \"ldl\": [\"bad cholesterol\"],\n",
        "}\n",
        "\n",
        "def expand_biomedical_keywords(seed_keywords, synonym_map):\n",
        "    expanded = set(seed_keywords)\n",
        "    for kw in seed_keywords:\n",
        "        if kw.lower() in synonym_map:\n",
        "            expanded.update(synonym_map[kw.lower()])\n",
        "    return list(expanded)\n",
        "\n",
        "expanded_keywords = expand_biomedical_keywords(SEED_KEYWORDS, BIOMED_SYNONYMS)\n",
        "print(f\"✅ Biomedical expansion complete: {len(expanded_keywords)} keywords\")\n",
        "\n",
        "NOISE_WORDS = set([\n",
        "    \"exam\", \"second\", \"file\", \"test\", \"data\", \"sheet\", \"survey\",\n",
        "    \"questionnaire\", \"study\", \"participant\", \"demographics\", \"sample\",\n",
        "    \"component\"\n",
        "])\n",
        "dataset_texts = (df_non_demographics[\"dataset_name\"] + \" \" + df_non_demographics[\"years\"]).tolist()\n",
        "\n",
        "# --- First-pass TF-IDF ---\n",
        "from sklearn.feature_extraction.text import TfidfVectorizer\n",
        "from sklearn.metrics.pairwise import cosine_similarity\n",
        "\n",
        "vectorizer = TfidfVectorizer(ngram_range=(1,1))\n",
        "tfidf_matrix = vectorizer.fit_transform(dataset_texts + [\" \".join(expanded_keywords)])\n",
        "seed_vector = tfidf_matrix[-1].toarray().flatten()\n",
        "vocab = vectorizer.get_feature_names_out()\n",
        "top_indices = seed_vector.argsort()[-50:][::-1]\n",
        "first_pass_candidates = [vocab[i] for i in top_indices if vocab[i].lower() not in NOISE_WORDS]\n",
        "first_pass_candidates = list(dict.fromkeys(first_pass_candidates))\n",
        "\n",
        "# --- Second-pass TF-IDF ---\n",
        "second_pass_doc = \" \".join(expanded_keywords + first_pass_candidates)\n",
        "vectorizer2 = TfidfVectorizer(ngram_range=(1,1))\n",
        "tfidf_matrix2 = vectorizer2.fit_transform(dataset_texts + [second_pass_doc])\n",
        "second_vector = tfidf_matrix2[-1].toarray().flatten()\n",
        "vocab2 = vectorizer2.get_feature_names_out()\n",
        "top_indices2 = second_vector.argsort()[-50:][::-1]\n",
        "second_pass_candidates = [vocab2[i] for i in top_indices2 if vocab2[i].lower() not in NOISE_WORDS]\n",
        "second_pass_candidates = list(dict.fromkeys(second_pass_candidates))\n",
        "\n",
        "# --- Combine candidates with expanded keywords ---\n",
        "final_keywords = list(dict.fromkeys(expanded_keywords + first_pass_candidates + second_pass_candidates))\n",
        "keyword_doc = \" \".join(expanded_keywords * 3 + first_pass_candidates + second_pass_candidates)\n",
        "vectorizer_final = TfidfVectorizer(ngram_range=(1,1))\n",
        "tfidf_final = vectorizer_final.fit_transform(dataset_texts + [keyword_doc])\n",
        "dataset_matrix_final = tfidf_final[:-1]\n",
        "keyword_vector_final = tfidf_final[-1]\n",
        "similarities = cosine_similarity(dataset_matrix_final, keyword_vector_final)\n",
        "df_non_demographics[\"relevance_score\"] = similarities.flatten()\n",
        "\n",
        "# --- Filter datasets using a threshold ---\n",
        "threshold = 0.05\n",
        "df_ai_filtered = df_non_demographics[df_non_demographics[\"relevance_score\"] >= threshold].sort_values(by=\"relevance_score\", ascending=False)\n",
        "print(f\"\\n✅ AI filter applied: {len(df_ai_filtered)} datasets selected (excluding demographics)\")\n",
        "\n",
        "# --- Step 2: Semantic Refinement ---\n",
        "from sentence_transformers import SentenceTransformer\n",
        "from kneed import KneeLocator\n",
        "import matplotlib.pyplot as plt\n",
        "import numpy as np\n",
        "\n",
        "apply_semantic_refinement = True\n",
        "min_datasets = 145\n",
        "plot_threshold = True\n",
        "\n",
        "if apply_semantic_refinement:\n",
        "    df_step2 = df_ai_filtered.copy()\n",
        "\n",
        "    print(\"🧠 Computing sentence embeddings...\")\n",
        "    model = SentenceTransformer('sentence-transformers/all-MiniLM-L6-v2')\n",
        "    dataset_texts_step2 = (df_step2[\"dataset_name\"] + \" \" + df_step2[\"years\"]).tolist()\n",
        "    embeddings = model.encode(dataset_texts_step2, batch_size=32, show_progress_bar=True)\n",
        "    keyword_embedding = model.encode(\" \".join(final_keywords))\n",
        "\n",
        "    cosine_similarities = np.dot(embeddings, keyword_embedding) / (\n",
        "        np.linalg.norm(embeddings, axis=1) * np.linalg.norm(keyword_embedding)\n",
        "    )\n",
        "    df_step2[\"semantic_score\"] = cosine_similarities\n",
        "\n",
        "    # Dynamic threshold via KneeLocator\n",
        "    scores_sorted = np.sort(df_step2[\"semantic_score\"].values)[::-1]\n",
        "    x = np.arange(len(scores_sorted))\n",
        "    y = scores_sorted\n",
        "    knee = KneeLocator(x, y, curve='convex', direction='decreasing')\n",
        "\n",
        "    if knee.knee is not None:\n",
        "        dynamic_threshold = y[knee.knee]\n",
        "    else:\n",
        "        dynamic_threshold = 0.0\n",
        "\n",
        "    df_dynamic_filtered = df_step2[df_step2[\"semantic_score\"] >= dynamic_threshold]\n",
        "\n",
        "    if len(df_dynamic_filtered) < min_datasets:\n",
        "        df_dynamic_filtered = df_step2.sort_values(by=\"semantic_score\", ascending=False).iloc[:min_datasets]\n",
        "\n",
        "    df_dynamic_filtered = df_dynamic_filtered.sort_values(by=\"semantic_score\", ascending=False)\n",
        "\n",
        "# --- Merge demographics back ---\n",
        "df_final = pd.concat([df_dynamic_filtered, df_demographics], ignore_index=True)\n",
        "df_final.to_csv(\"nhanes_ai_semantic_dynamic.csv\", index=False)\n",
        "print(f\"✅ Dynamic semantic refinement complete: {len(df_final)} datasets saved → nhanes_ai_semantic_dynamic.csv\")\n",
        "\n",
        "\n",
        "\n",
        "\n",
        "\n",
        "\n",
        "\n",
        "\n",
        "\n",
        "\n",
        "\n",
        "\n",
        "\n",
        "\n",
        "\n",
        "\n",
        "\n",
        "\n",
        "\n"
      ],
      "metadata": {
        "colab": {
          "base_uri": "https://localhost:8080/",
          "height": 1000,
          "referenced_widgets": [
            "730226a4efa24c74a8983137322bd046",
            "6aab3a600f474af99dceb03098511442",
            "899cae54a20949348e98c8267f09c92b",
            "d70b7d9627734edda09c107cd33a8ec7",
            "1fdccdb9eff54e2da1c4650dc30592ae",
            "fd8b7688dbc8487c93a733e3c61f0ce2",
            "3c69918a97dc44fd95409d68349c4bee",
            "1e56a781a52849519a04b1ad7501922f",
            "723a904fcad54a33814f0d3b8ec09200",
            "03bd5a5757294a68861ec10f33633a09",
            "2df81273217a4fa6811d2050e296fbe6",
            "fc414d376b29432c9358c4fdbe303bb5",
            "f9b98534aba0446683c78e52cf83bb03",
            "8f0d2f5318c24761bedc306ff6168e60",
            "966a48d59998470183d3875bd7c49029",
            "111fea5271d8426dbaf9394e9c02d97a",
            "4725baa0aab0428ebc211005e6c3c0b2",
            "92a44f748ee748a3bab26c08df43eb02",
            "b7aea7cb7d0447d8b853d09937124c8e",
            "fdb478a7eb3443fa8aaa69d38b174583",
            "a8b6bbad731c4cb691b8d172007e9286",
            "61b805d6ff0342c59a0b562b7c67f9a5",
            "9565a59fefca40348cb92662d95fd3c1",
            "0ac9fcaeeba6463eab3d9c91deba5f99",
            "082eb931b08c43cbbbda52035fbfa0f5",
            "dc844f969f1549dbbb3172f0052a50f8",
            "b4f07094e6664d48a3b3e3551c5d0a1f",
            "0fb5411e68bc4efb9d502c769bcff2d3",
            "af1a0061033e42a7a73a274fa4656887",
            "7411619f53b945e9beeb75edb292d337",
            "d23598d118c646eba0ea473e8495dc8d",
            "bb301e17cce54a6b8117ec1c5c7530ea",
            "2d26bb540e884dc39673725d204bac4e",
            "08cf20f58e7b44de8b050529f7dc907b",
            "14b9eec8507b4d368b5f65de83d7556e",
            "426e195417784872b9285942289b9730",
            "5bb61fbe71d647e49a7642a902bde5b7",
            "a784e71b93904282bea79c288d5e9dc2",
            "c275612ff13146e3a37a04a8a2c4133a",
            "8fcba23def2c45578206054531890f74",
            "adfbfca9fac544a9b0594531048ed4ea",
            "954d19af46704351b9c72de98210de50",
            "ece5910e1eb44c858393dfaf2c2d98df",
            "d6dac9c8a9d14ed28334e4fb5290eaeb",
            "4fb90fe41bef423da1181d30d799889d",
            "a9fea605fe7e4c5e8b884944a4f44dff",
            "4acf8bc59b75437986739b7e28a8a77e",
            "d174e6fdbf00408fabe591368264dea4",
            "82d378896909432d8070f4b2dddf0a57",
            "d1b9959427bc422c92f160bfbe97a21d",
            "3b58e758abcc4b1ca58738910862c76d",
            "da5bf31120854e5da6339db2ed4e625f",
            "16d5bc2444064e38bddfe848f56db62a",
            "caf09dae96a74e05b4b5fe2fd04108d6",
            "8e479aa8ba834f5e868da77b845a2132",
            "b45d2499b7654ecbb741021c410dd732",
            "7a68775ee50946eea9a09f2bd8f51dd3",
            "5fac318fdffb4a91806a22febe5d6ea1",
            "7bcf9e1f7f3d4a0284cc539d84fa9fec",
            "de8f6cd07be44ab7a22adb3407cd117b",
            "738fc53716924b13a9372c25d16b057a",
            "21e0e31a62654291b0370ef429f050ba",
            "f93ff83ade444eb38854dcd664f5834f",
            "ed7c927c872548b3adbc2d470d6e33fd",
            "9950ffde8bea468e86cd1c79817f1ada",
            "2d238a646b1f4089b54c2022f971400b",
            "2090c2ef98b943728a507699cfbfb8cd",
            "6042214b9a574e6b83aff652ea2c650a",
            "15e61ef7bd7849ecb776054058dfbeb8",
            "e6fb163710d8481a93378cc6b633c7e4",
            "b732c9b7619b4579b18b5b9b0400cf13",
            "429b065b84f84a0f8a6d89761efad798",
            "7464217203984d228f5e9996ed33cc2d",
            "6f4fcac4c27f4dc9b0517258ea27bfcf",
            "1df7d5d12c4e4637807d8df946d07b0c",
            "b39f92bc0be345f2ae3f5eac6ea1c641",
            "cb8d1d35678047b59584f4747e73769f",
            "34d8ea4bbbf649f2872e5326b1b032f7",
            "fe1708388bdb481c9baa78d809144aa6",
            "e37f86294c394ccb8556398b8d57c8a1",
            "669c4c1ddc0c4b68b6dca47e192eca7b",
            "c44bb2c66dcc42b4be0f0994eaf2c737",
            "397b936eebc34bdf8de6fd71d571b39c",
            "9fbe39f85cd34d3787cfbf7505447684",
            "0afbdd9dd02d4814b0161bd040030902",
            "f931f9c81f9e4d459c426afd745f280c",
            "8f019a457237464fad164721bc97bced",
            "488082ccbba848c7a6447d81be04857d",
            "6fcd4eb23b0e43ce91cfbc6806bb5c71",
            "e79e02e90bd4472e9b10bcca1ceb3e0f",
            "c4e69cf659c94de283ddca59c128c121",
            "406a709e82134621ba4c0fc15ee5fa7c",
            "1384a19038ba43ab94a4b01e81dc2701",
            "7f0a3b0639934458b762d42352fdb7d7",
            "9b016836de034c169f0bdaf561f048d1",
            "1d8df24f994d4a8a99e023b2a9f5c0c1",
            "6aba7d027d08485390f15e553a86bbee",
            "3f0aad7039a3469daf4e0dcd4855e873",
            "fdb7e377c9f94992a00d0273ca0a1f89",
            "a9206d7676a44acca94bc2b1936f9696",
            "6afddd803ebc4814be88dca1264ce12e",
            "786eb2e31b8040c197e3d4829ba8e22a",
            "033257d266e0405abd6e68e0bf74b103",
            "f0540a4d336c4ab79955f869d49b11a0",
            "a34a5a9c7eed42a397a60c1ccc6ba708",
            "35e14e8c040844cfa44d8b80d3abd81b",
            "f236a2d55fb948c1a70389a658c49f38",
            "e8298982778549349a751d444d11c2d3",
            "60f5d1eb87864d2583f6502e63d278eb",
            "df5476fdf2dd434ab78b1510c85408a8",
            "1451edb901aa4eacbd92401c535274d3",
            "a80e3746ccd34a26a979c8701dbd5da2",
            "fcfddb51b2c142b284b09dedaf691e2a",
            "9d79dfb905a54dde98a50a6804e4f95a",
            "71bf6fd601744bc0a4a65a57187a9149",
            "fbdeed6fd73a4277876474adaae5f3cc",
            "8a2ed8c24f7340988c36e6a9a9df7160",
            "1fe2c1f995894c669f4b6ee76c0952e9",
            "04b40cec844f46fd9644bbc0754f695e",
            "d7f84b6b9deb43f0b183d15ca899b2e7",
            "0aa33bc640104a85bacfeb9fa92662c3",
            "de1807eda2e84e99b444064dc625dc97",
            "1cdf0e780cb84486915abb5e7b87fcf4",
            "80c877c5b5974def99d0a1c0724c18ec",
            "2996fed85b99492fa5e1fb260c3575e9",
            "fd17daba8373486d8c5d1d600725e1e3",
            "55dd4275c03a4ee0a847f5bf8ffadccd",
            "15f6476ae915426682134171cf2ad5da",
            "55bd6d18d0994395ad83a0dc53a232f9",
            "809ad1e41de24a488d401dc947fe5b78",
            "367c77bfbe9a48bf98572b8125f72d3f",
            "3fb76b5caa5f4d61983e080856528a04"
          ]
        },
        "id": "YC8_pE-jbyia",
        "outputId": "73bb8039-d65c-4482-dbfa-3b93d583dd8c"
      },
      "execution_count": 1,
      "outputs": [
        {
          "output_type": "stream",
          "name": "stdout",
          "text": [
            "Collecting kneed\n",
            "  Downloading kneed-0.8.5-py3-none-any.whl.metadata (5.5 kB)\n",
            "Requirement already satisfied: numpy>=1.14.2 in /usr/local/lib/python3.12/dist-packages (from kneed) (2.0.2)\n",
            "Requirement already satisfied: scipy>=1.0.0 in /usr/local/lib/python3.12/dist-packages (from kneed) (1.16.2)\n",
            "Downloading kneed-0.8.5-py3-none-any.whl (10 kB)\n",
            "Installing collected packages: kneed\n",
            "Successfully installed kneed-0.8.5\n",
            "✅ Found 13 valid NHANES cycles: ['NHANES 08/2021-08/2023', 'NHANES 2017-March 2020', 'NHANES 2019-2020', 'NHANES 2017-2018', 'NHANES 2015-2016', 'NHANES 2013-2014', 'NHANES 2011-2012', 'NHANES 2009-2010', 'NHANES 2007-2008', 'NHANES 2005-2006', 'NHANES 2003-2004', 'NHANES 2001-2002', 'NHANES 1999-2000']\n"
          ]
        },
        {
          "output_type": "stream",
          "name": "stderr",
          "text": [
            "\rCrawling NHANES cycles:   0%|          | 0/13 [00:00<?, ?it/s]"
          ]
        },
        {
          "output_type": "stream",
          "name": "stdout",
          "text": [
            "\n",
            "🔹 Scanning cycle: NHANES 08/2021-08/2023\n",
            "   [Found] Demographic Variables and Sample Weights (2021-2023)\n",
            "   [Added] Demographics dataset for NHANES 08/2021-08/2023\n",
            "   [Found] Dietary Interview - Individual Foods, First Day (2021-2023)\n",
            "   [Found] Dietary Interview - Individual Foods, Second Day (2021-2023)\n",
            "   [Found] Dietary Interview - Total Nutrient Intakes, First Day (2021-2023)\n",
            "   [Found] Dietary Interview - Total Nutrient Intakes, Second Day (2021-2023)\n",
            "   [Found] Dietary Interview Technical Support File - Food Codes (2021-2023)\n",
            "   [Found] Dietary Supplement Use 30-Day - Individual Dietary Supplements (2021-2023)\n",
            "   [Found] Dietary Supplement Use 30-Day - Total Dietary Supplements (2021-2023)\n",
            "   [Found] Balance (2021-2023)\n",
            "   [Found] Blood Pressure - Oscillometric Measurements (2021-2023)\n",
            "   [Found] Body Measures (2021-2023)\n",
            "   [Found] Liver Ultrasound Transient Elastography (2021-2023)\n",
            "   [Found] Albumin & Creatinine - Urine (2021-2023)\n",
            "   [Found] alpha-1-Acid Glycoprotein (2021-2023)\n",
            "   [Found] Cholesterol – High-Density Lipoprotein (2021-2023)\n",
            "   [Found] Cholesterol - Low-Density Lipoproteins (LDL) & Triglycerides (2021-2023)\n",
            "   [Found] Cholesterol - Total (2021-2023)\n",
            "   [Found] Complete Blood Count with 5-Part Differential in Whole Blood (2021-2023)\n",
            "   [Found] Fasting Questionnaire (2021-2023)\n",
            "   [Found] Ferritin (2021-2023)\n",
            "   [Found] Folate - RBC (2021-2023)\n",
            "   [Found] Glycohemoglobin (2021-2023)\n",
            "   [Found] Hepatitis A (2021-2023)\n",
            "   [Found] Hepatitis B Surface Antibody (2021-2023)\n",
            "   [Found] High-Sensitivity C-Reactive Protein (2021-2023)\n",
            "   [Found] Insulin (2021-2023)\n",
            "   [Found] Lead, Cadmium, Total Mercury, Selenium, & Manganese – Blood (2021-2023)\n",
            "   [Found] Mercury:  Inorganic, Ethyl, and Methyl - Blood (2021-2023)\n",
            "   [Found] Plasma Fasting Glucose (2021-2023)\n",
            "   [Found] Serum Folate Forms - Total & Individual - Serum (2021-2023)\n",
            "   [Found] Sex Steroid Hormone Panel - Serum (2021-2023)\n",
            "   [Found] Standard Biochemistry Profile (2021-2023)\n",
            "   [Found] Transferrin Receptor (2021-2023)\n",
            "   [Found] Urine Pregnancy Test (2021-2023)\n",
            "   [Found] Vitamin D (2021-2023)\n",
            "   [Found] Volatile Organic Compounds and Trihalomethanes/MTBE - Blood (2021-2023)\n",
            "   [Found] Audiometry (2021-2023)\n",
            "   [Found] Acculturation (2021-2023)\n",
            "   [Found] Alcohol Use (2021-2023)\n",
            "   [Found] Balance (2021-2023)\n",
            "   [Found] Blood Pressure & Cholesterol (2021-2023)\n",
            "   [Found] Current Health Status (2021-2023)\n",
            "   [Found] Dermatology (2021-2023)\n",
            "   [Found] Diabetes (2021-2023)\n",
            "   [Found] Diet Behavior & Nutrition (2021-2023)\n",
            "   [Found] Early Childhood (2021-2023)\n",
            "   [Found] Functioning (2021-2023)\n",
            "   [Found] Health Insurance (2021-2023)\n",
            "   [Found] Hepatitis (2021-2023)\n",
            "   [Found] Hospital Utilization & Access to Care (2021-2023)\n",
            "   [Found] Housing Characteristics (2021-2023)\n",
            "   [Found] Immunization (2021-2023)\n",
            "   [Found] Income (2021-2023)\n",
            "   [Found] Kidney Conditions - Urology (2021-2023)\n",
            "   [Found] Medical Conditions (2021-2023)\n",
            "   [Found] Mental Health - Depression Screener (2021-2023)\n",
            "   [Found] Occupation (2021-2023)\n",
            "   [Found] Oral Health (2021-2023)\n",
            "   [Found] Pesticide Use (2021-2023)\n",
            "   [Found] Physical Activity (2021-2023)\n",
            "   [Found] Physical Activity - Youth (2021-2023)\n",
            "   [Found] Prescription Medications (2021-2023)\n",
            "   [Found] Preventive Aspirin Use (2021-2023)\n",
            "   [Found] Reproductive Health (2021-2023)\n",
            "   [Found] Sleep Disorders (2021-2023)\n",
            "   [Found] Smoking - Cigarette Use (2021-2023)\n",
            "   [Found] Smoking - Household Smokers (2021-2023)\n",
            "   [Found] Smoking - Recent Tobacco Use (2021-2023)\n",
            "   [Found] Weight History (2021-2023)\n"
          ]
        },
        {
          "output_type": "stream",
          "name": "stderr",
          "text": [
            "\rCrawling NHANES cycles:   8%|▊         | 1/13 [00:09<01:53,  9.42s/it]"
          ]
        },
        {
          "output_type": "stream",
          "name": "stdout",
          "text": [
            "\n",
            "🔹 Scanning cycle: NHANES 2017-March 2020\n",
            "   [Found] Demographic Variables and Sample Weights (2017-2018)\n",
            "   [Found] Demographic Variables and Sample Weights (2017-2020)\n",
            "   [Added] Demographics dataset for NHANES 2017-March 2020\n",
            "   [Found] Dietary Interview - Individual Foods, First Day (2017-2018)\n",
            "   [Found] Dietary Interview - Individual Foods, First Day (2017-2020)\n",
            "   [Found] Dietary Interview - Individual Foods, Second Day (2017-2018)\n",
            "   [Found] Dietary Interview - Individual Foods, Second Day (2017-2020)\n",
            "   [Found] Dietary Interview - Total Nutrient Intakes, First Day (2017-2018)\n",
            "   [Found] Dietary Interview - Total Nutrient Intakes, First Day (2017-2020)\n",
            "   [Found] Dietary Interview - Total Nutrient Intakes, Second Day (2017-2018)\n",
            "   [Found] Dietary Interview - Total Nutrient Intakes, Second Day (2017-2020)\n",
            "   [Found] Dietary Interview Technical Support File - Food Codes (2017-2018)\n",
            "   [Found] Dietary Interview Technical Support File - Food Codes (2017-2020)\n",
            "   [Found] Dietary Supplement Use 24-Hour - Individual Dietary Supplements, First Day (2017-2018)\n",
            "   [Found] Dietary Supplement Use 24-Hour - Individual Dietary Supplements, First Day (2017-2020)\n",
            "   [Found] Dietary Supplement Use 24-Hour - Individual Dietary Supplements, Second Day (2017-2018)\n",
            "   [Found] Dietary Supplement Use 24-Hour - Individual Dietary Supplements, Second Day (2017-2020)\n",
            "   [Found] Dietary Supplement Use 24-Hour - Total Dietary Supplements, First Day (2017-2018)\n",
            "   [Found] Dietary Supplement Use 24-Hour - Total Dietary Supplements, First Day (2017-2020)\n",
            "   [Found] Dietary Supplement Use 24-Hour - Total Dietary Supplements, Second Day (2017-2018)\n",
            "   [Found] Dietary Supplement Use 24-Hour - Total Dietary Supplements, Second Day (2017-2020)\n",
            "   [Found] Dietary Supplement Use 30-Day - Individual Dietary Supplements (2017-2018)\n",
            "   [Found] Dietary Supplement Use 30-Day - Individual Dietary Supplements (2017-2020)\n",
            "   [Found] Dietary Supplement Use 30-Day - Total Dietary Supplements (2017-2018)\n",
            "   [Found] Dietary Supplement Use 30-Day - Total Dietary Supplements (2017-2020)\n",
            "   [Found] Audiometry (2017-2018)\n",
            "   [Found] Audiometry (2017-2020)\n",
            "   [Found] Audiometry - Acoustic Reflex (2017-2018)\n",
            "   [Found] Audiometry - Acoustic Reflex (2017-2020)\n",
            "   [Found] Audiometry - Tympanometry (2017-2018)\n",
            "   [Found] Audiometry - Tympanometry (2017-2020)\n",
            "   [Found] Audiometry - Wideband Reflectance (2017-2018)\n",
            "   [Found] Audiometry - Wideband Reflectance (2017-2020)\n",
            "   [Found] Blood Pressure (2017-2018)\n",
            "   [Found] Blood Pressure - Oscillometric Measurement (2017-2020)\n",
            "   [Found] Blood Pressure - Oscillometric Measurements (2017-2018)\n",
            "   [Found] Body Measures (2017-2018)\n",
            "   [Found] Body Measures (2017-2020)\n",
            "   [Found] Dual-Energy X-ray Absorptiometry - Android/Gynoid Measurements (2017-2018)\n",
            "   [Found] Dual-Energy X-ray Absorptiometry - Femur (2017-2018)\n",
            "   [Found] Dual-Energy X-ray Absorptiometry - Femur (2017-2020)\n",
            "   [Found] Dual-Energy X-ray Absorptiometry - Spine (2017-2018)\n",
            "   [Found] Dual-Energy X-ray Absorptiometry - Spine (2017-2020)\n",
            "   [Found] Dual-Energy X-ray Absorptiometry - Whole Body (2017-2018)\n",
            "   [Found] Liver Ultrasound Transient Elastography (2017-2018)\n",
            "   [Found] Liver Ultrasound Transient Elastography (2017-2020)\n",
            "   [Found] Oral Health - Dentition (2017-2018)\n",
            "   [Found] Oral Health - Dentition (2017-2020)\n",
            "   [Found] Oral Health - Recommendation of Care (2017-2018)\n",
            "   [Found] Oral Health - Recommendation of Care (2017-2020)\n",
            "   [Found] Albumin & Creatinine - Urine (2017-2018)\n",
            "   [Found] Albumin & Creatinine - Urine (2017-2020)\n",
            "   [Found] Alpha-1-Acid Glycoprotein - Serum (Surplus) (2017-2018)\n",
            "   [Found] Alpha-1-Acid Glycoprotein - Serum (Surplus) (2017-2020)\n",
            "   [Found] Arsenic - Total - Urine (2017-2018)\n",
            "   [Found] Arsenic - Total - Urine (2017-2020)\n",
            "   [Found] Arsenics - Speciated - Urine (2017-2018)\n",
            "   [Found] Arsenics - Speciated - Urine (2017-2020)\n",
            "   [Found] Cholesterol - High - Density Lipoprotein (HDL) (2017-2018)\n",
            "   [Found] Cholesterol - High - Density Lipoprotein (HDL) (2017-2020)\n",
            "   [Found] Cholesterol - Low-Density Lipoproteins (LDL) & Triglycerides (2017-2018)\n",
            "   [Found] Cholesterol - Low-Density Lipoproteins (LDL) & Triglycerides (2017-2020)\n",
            "   [Found] Cholesterol - Total (2017-2018)\n",
            "   [Found] Cholesterol - Total (2017-2020)\n",
            "   [Found] Chromium - Urine (2017-2018)\n",
            "   [Found] Chromium - Urine (2017-2020)\n",
            "   [Found] Chromium & Cobalt (2017-2018)\n",
            "   [Found] Chromium & Cobalt (2017-2020)\n",
            "   [Found] Complete Blood Count with 5-Part Differential (2017-2018)\n",
            "   [Found] Complete Blood Count with 5-Part Differential in Whole Blood (2017-2020)\n",
            "   [Found] Cotinine and Hydroxycotinine - Serum (2017-2018)\n",
            "   [Found] Cotinine and Hydroxycotinine - Serum (2017-2020)\n",
            "   [Found] Cotinine, Hydroxycotinine, & Other Nicotine Metabolites and Analogs - Urine (2017-2018)\n",
            "   [Found] Cytomegalovirus IgG & IgM Antibodies - Serum (2017-2018)\n",
            "   [Found] Cytomegalovirus IgG & IgM Antibodies - Serum (2017-2020)\n",
            "   [Found] Enterovirus D68 (EV-D68) - Serum (Surplus) (2017-2018)\n",
            "   [Found] Ethylene Oxide (2017-2018)\n",
            "   [Found] Ethylene Oxide (2017-2020)\n",
            "   [Found] Fasting Questionnaire (2017-2018)\n",
            "   [Found] Fasting Questionnaire (2017-2020)\n",
            "   [Found] Ferritin (2017-2018)\n",
            "   [Found] Ferritin (2017-2020)\n",
            "   [Found] Flame Retardants - Urine (2017-2018)\n",
            "   [Found] Flame Retardants - Urine (2017-2020)\n",
            "   [Found] Flame Retardants - Urine (Surplus) (2017-2018)\n",
            "   [Found] Flame Retardants - Urine (Surplus) (2017-2020)\n",
            "   [Found] Folate - RBC (2017-2018)\n",
            "   [Found] Folate - RBC (2017-2020)\n",
            "   [Found] Folate Forms - Total & Individual - Serum (2017-2018)\n",
            "   [Found] Folate Forms - Total & Individual - Serum (2017-2020)\n",
            "   [Found] Glycohemoglobin (2017-2018)\n",
            "   [Found] Glycohemoglobin (2017-2020)\n",
            "   [Found] Glyphosate (GLYP) - Urine (Surplus) (2017-2018)\n",
            "   [Found] Hepatitis A (2017-2018)\n",
            "   [Found] Hepatitis A (2017-2020)\n",
            "   [Found] Hepatitis B Surface Antibody (2017-2020)\n",
            "   [Found] Hepatitis B: Core antibody, Surface antigen, and Hepatitis D antibody (2017-2018)\n",
            "   [Found] Hepatitis B: Core antibody, Surface antigen, and Hepatitis D antibody (2017-2020)\n",
            "   [Found] Hepatitis B: Surface Antibody (2017-2018)\n",
            "   [Found] Hepatitis C: RNA (HCV-RNA), Confirmed Antibody (INNO-LIA), & Genotype (2017-2018)\n",
            "   [Found] Hepatitis C: RNA (HCV-RNA), Confirmed Antibody (INNO-LIA), & Genotype (2017-2020)\n",
            "   [Found] Hepatitis E: IgG & IgM Antibodies (2017-2018)\n",
            "   [Found] Hepatitis E: IgG & IgM Antibodies (2017-2020)\n",
            "   [Found] High-Sensitivity C-Reactive Protein (2017-2018)\n",
            "   [Found] High-Sensitivity C-Reactive Protein (2017-2020)\n",
            "   [Found] HIV Antibody Test (2017-2018)\n",
            "   [Found] Inorganic, Ethyl and Methyl - Blood (2017-2020)\n",
            "   [Found] Insulin (2017-2018)\n",
            "   [Found] Insulin (2017-2020)\n",
            "   [Found] Iodine - Urine (2017-2018)\n",
            "   [Found] Iodine - Urine (2017-2020)\n",
            "   [Found] Iron Status - Serum (2017-2018)\n",
            "   [Found] Iron Status - Serum (2017-2020)\n",
            "   [Found] Lead, Cadmium, Total Mercury, Selenium, & Manganese - Blood (2017-2018)\n",
            "   [Found] Lead, Cadmium, Total Mercury, Selenium, & Manganese - Blood (2017-2020)\n",
            "   [Found] Mercury: Inorganic - Urine (2017-2018)\n",
            "   [Found] Mercury: Inorganic - Urine (2017-2020)\n",
            "   [Found] Mercury: Inorganic, Ethyl and Methyl - Blood (2017-2018)\n",
            "   [Found] Metals - Urine (2017-2018)\n",
            "   [Found] Metals - Urine (2017-2020)\n",
            "   [Found] Neonicotinoids - Urine (Surplus) (2017-2018)\n",
            "   [Found] Nickel - Urine (2017-2018)\n",
            "   [Found] Nickel - Urine (2017-2020)\n",
            "   [Found] Organophosphate Insecticides - Dialkyl Phosphate Metabolites - Urine (2017-2018)\n",
            "   [Found] Organophosphate Insecticides - Dialkyl Phosphate Metabolites - Urine (2017-2020)\n",
            "   [Found] Perchlorate, Nitrate & Thiocyanate - Urine (2017-2018)\n",
            "   [Found] Perchlorate, Nitrate & Thiocyanate - Urine (2017-2020)\n",
            "   [Found] Perfluoroalkyl and Polyfluoroalkyl Substances (2017-2018)\n",
            "   [Found] Perfluoroalkyl and Polyfluoroalkyl Substances (2017-2020)\n",
            "   [Found] Perfluoroalkyl and Polyfluoroalkyl Substances (Surplus) (2017-2018)\n",
            "   [Found] Phthalates and Plasticizers Metabolites - Urine (2017-2018)\n",
            "   [Found] Plasma Fasting Glucose (2017-2018)\n",
            "   [Found] Plasma Fasting Glucose (2017-2020)\n",
            "   [Found] Pyrethroids, Herbicides, & Organophosphorus Metabolites – Urine (2017-2018)\n",
            "   [Found] Sex Steroid Hormone Panel - Serum (2017-2020)\n",
            "   [Found] Sex Steroid Hormone Panel - Serum (Surplus) (2017-2018)\n",
            "   [Found] Standard Biochemistry Profile (2017-2018)\n",
            "   [Found] Standard Biochemistry Profile (2017-2020)\n",
            "   [Found] Transferrin Receptor (2017-2018)\n",
            "   [Found] Transferrin Receptor (2017-2020)\n",
            "   [Found] Urine Flow Rate (2017-2018)\n",
            "   [Found] Urine Flow Rate (2017-2020)\n",
            "   [Found] Urine Pregnancy Test (2017-2018)\n",
            "   [Found] Urine Pregnancy Test (2017-2020)\n",
            "   [Found] Vitamin A, Vitamin E & Carotenoids (2017-2018)\n",
            "   [Found] Vitamin C (2017-2018)\n",
            "   [Found] Vitamin D (2017-2018)\n",
            "   [Found] Volatile Organic Compound (VOC) Metabolites - Urine (2017-2018)\n",
            "   [Found] Volatile Organic Compound (VOC) Metabolites - Urine (2017-2020)\n",
            "   [Found] Volatile Organic Compound (VOC) Metabolites II - Urine (2017-2020)\n",
            "   [Found] Volatile Organic Compound (VOC) Metabolites II - Urine (Surplus) (2017-2018)\n",
            "   [Found] Volatile Organic Compounds and Trihalomethanes/MTBE - Blood (2017-2018)\n",
            "   [Found] Volatile Organic Compounds and Trihalomethanes/MTBE - Blood (2017-2020)\n",
            "   [Found] Acculturation (2017-2018)\n",
            "   [Found] Acculturation (2017-2020)\n",
            "   [Found] Alcohol Use (2017-2018)\n",
            "   [Found] Alcohol Use (2017-2020)\n",
            "   [Found] Audiometry (2017-2018)\n",
            "   [Found] Audiometry (2017-2020)\n",
            "   [Found] Blood Pressure & Cholesterol (2017-2018)\n",
            "   [Found] Blood Pressure & Cholesterol (2017-2020)\n",
            "   [Found] Cardiovascular Health (2017-2018)\n",
            "   [Found] Cardiovascular Health (2017-2020)\n",
            "   [Found] Consumer Behavior (2017-2018)\n",
            "   [Found] Consumer Behavior Phone Follow-up Module - Adult (2017-2018)\n",
            "   [Found] Consumer Behavior Phone Follow-up Module - Adult (2017-2020)\n",
            "   [Found] Consumer Behavior Phone Follow-up Module - Child (2017-2018)\n",
            "   [Found] Consumer Behavior Phone Follow-up Module – Child (2017-2020)\n",
            "   [Found] Current Health Status (2017-2018)\n",
            "   [Found] Current Health Status (2017-2020)\n",
            "   [Found] Dermatology (2017-2018)\n",
            "   [Found] Dermatology (2017-2020)\n",
            "   [Found] Diabetes (2017-2018)\n",
            "   [Found] Diabetes (2017-2020)\n",
            "   [Found] Diet Behavior & Nutrition (2017-2018)\n",
            "   [Found] Diet Behavior & Nutrition (2017-2020)\n",
            "   [Found] Disability (2017-2018)\n",
            "   [Found] Drug Use (2017-2018)\n",
            "   [Found] Early Childhood (2017-2018)\n",
            "   [Found] Early Childhood (2017-2020)\n",
            "   [Found] Food Security (2017-2018)\n",
            "   [Found] Food Security (2017-2020)\n",
            "   [Found] Health Insurance (2017-2018)\n",
            "   [Found] Health Insurance (2017-2020)\n",
            "   [Found] Hepatitis (2017-2018)\n",
            "   [Found] Hepatitis (2017-2020)\n",
            "   [Found] Hospital Utilization & Access to Care (2017-2018)\n",
            "   [Found] Hospital Utilization & Access to Care (2017-2020)\n",
            "   [Found] Housing Characteristics (2017-2018)\n",
            "   [Found] Immunization (2017-2018)\n",
            "   [Found] Immunization (2017-2020)\n",
            "   [Found] Income (2017-2018)\n",
            "   [Found] Income (2017-2020)\n",
            "   [Found] Kidney Conditions - Urology (2017-2018)\n",
            "   [Found] Kidney Conditions - Urology (2017-2020)\n",
            "   [Found] Medical Conditions (2017-2018)\n",
            "   [Found] Medical Conditions (2017-2020)\n",
            "   [Found] Mental Health - Depression Screener (2017-2018)\n",
            "   [Found] Mental Health - Depression Screener (2017-2020)\n",
            "   [Found] Occupation (2017-2018)\n",
            "   [Found] Occupation (2017-2020)\n",
            "   [Found] Oral Health (2017-2018)\n",
            "   [Found] Oral Health (2017-2020)\n",
            "   [Found] Osteoporosis (2017-2018)\n",
            "   [Found] Osteoporosis (2017-2020)\n",
            "   [Found] Pesticide Use (2017-2018)\n",
            "   [Found] Pesticide Use (2017-2020)\n",
            "   [Found] Physical Activity (2017-2018)\n",
            "   [Found] Physical Activity (2017-2020)\n",
            "   [Found] Physical Activity - Youth (2017-2018)\n",
            "   [Found] Physical Activity - Youth (2017-2020)\n",
            "   [Found] Physical Functioning (2017-2018)\n",
            "   [Found] Prescription Medications (2017-2018)\n",
            "   [Found] Prescription Medications (2017-2020)\n",
            "   [Found] Preventive Aspirin Use (2017-2018)\n",
            "   [Found] Preventive Aspirin Use (2017-2020)\n",
            "   [Found] Reproductive Health (2017-2018)\n",
            "   [Found] Reproductive Health (2017-2020)\n",
            "   [Found] Sleep Disorders (2017-2018)\n",
            "   [Found] Sleep Disorders (2017-2020)\n",
            "   [Found] Smoking - Cigarette Use (2017-2018)\n",
            "   [Found] Smoking - Cigarette Use (2017-2020)\n",
            "   [Found] Smoking - Household Smokers (2017-2018)\n",
            "   [Found] Smoking - Household Smokers (2017-2020)\n",
            "   [Found] Smoking - Recent Tobacco Use (2017-2018)\n",
            "   [Found] Smoking - Recent Tobacco Use (2017-2020)\n",
            "   [Found] Smoking - Secondhand Smoke Exposure (2017-2018)\n",
            "   [Found] Smoking - Secondhand Smoke Exposure (2017-2020)\n",
            "   [Found] Volatile Toxicant (2017-2018)\n",
            "   [Found] Volatile Toxicant (2017-2020)\n",
            "   [Found] Weight History (2017-2018)\n",
            "   [Found] Weight History (2017-2020)\n",
            "   [Found] Weight History - Youth (2017-2018)\n",
            "   [Found] Weight History - Youth (2017-2020)\n"
          ]
        },
        {
          "output_type": "stream",
          "name": "stderr",
          "text": [
            "\rCrawling NHANES cycles:  15%|█▌        | 2/13 [00:20<01:54, 10.43s/it]"
          ]
        },
        {
          "output_type": "stream",
          "name": "stdout",
          "text": [
            "\n",
            "🔹 Scanning cycle: NHANES 2019-2020\n"
          ]
        },
        {
          "output_type": "stream",
          "name": "stderr",
          "text": [
            "\rCrawling NHANES cycles:  23%|██▎       | 3/13 [00:29<01:37,  9.77s/it]"
          ]
        },
        {
          "output_type": "stream",
          "name": "stdout",
          "text": [
            "\n",
            "🔹 Scanning cycle: NHANES 2017-2018\n",
            "   [Found] Demographic Variables and Sample Weights (2017-2018)\n",
            "   [Added] Demographics dataset for NHANES 2017-2018\n",
            "   [Found] Dietary Interview - Individual Foods, First Day (2017-2018)\n",
            "   [Found] Dietary Interview - Individual Foods, Second Day (2017-2018)\n",
            "   [Found] Dietary Interview - Total Nutrient Intakes, First Day (2017-2018)\n",
            "   [Found] Dietary Interview - Total Nutrient Intakes, Second Day (2017-2018)\n",
            "   [Found] Dietary Interview Technical Support File - Food Codes (2017-2018)\n",
            "   [Found] Dietary Supplement Use 24-Hour - Individual Dietary Supplements, First Day (2017-2018)\n",
            "   [Found] Dietary Supplement Use 24-Hour - Individual Dietary Supplements, Second Day (2017-2018)\n",
            "   [Found] Dietary Supplement Use 24-Hour - Total Dietary Supplements, First Day (2017-2018)\n",
            "   [Found] Dietary Supplement Use 24-Hour - Total Dietary Supplements, Second Day (2017-2018)\n",
            "   [Found] Dietary Supplement Use 30-Day - Individual Dietary Supplements (2017-2018)\n",
            "   [Found] Dietary Supplement Use 30-Day - Total Dietary Supplements (2017-2018)\n",
            "   [Found] Audiometry (2017-2018)\n",
            "   [Found] Audiometry - Acoustic Reflex (2017-2018)\n",
            "   [Found] Audiometry - Tympanometry (2017-2018)\n",
            "   [Found] Audiometry - Wideband Reflectance (2017-2018)\n",
            "   [Found] Blood Pressure (2017-2018)\n",
            "   [Found] Blood Pressure - Oscillometric Measurements (2017-2018)\n",
            "   [Found] Body Measures (2017-2018)\n",
            "   [Found] Dual-Energy X-ray Absorptiometry - Android/Gynoid Measurements (2017-2018)\n",
            "   [Found] Dual-Energy X-ray Absorptiometry - Femur (2017-2018)\n",
            "   [Found] Dual-Energy X-ray Absorptiometry - Spine (2017-2018)\n",
            "   [Found] Dual-Energy X-ray Absorptiometry - Whole Body (2017-2018)\n",
            "   [Found] Liver Ultrasound Transient Elastography (2017-2018)\n",
            "   [Found] Oral Health - Dentition (2017-2018)\n",
            "   [Found] Oral Health - Recommendation of Care (2017-2018)\n",
            "   [Found] Albumin & Creatinine - Urine (2017-2018)\n",
            "   [Found] Alpha-1-Acid Glycoprotein - Serum (Surplus) (2017-2018)\n",
            "   [Found] Arsenic - Total - Urine (2017-2018)\n",
            "   [Found] Arsenics - Speciated - Urine (2017-2018)\n",
            "   [Found] Cholesterol - High - Density Lipoprotein (HDL) (2017-2018)\n",
            "   [Found] Cholesterol - Low-Density Lipoproteins (LDL) & Triglycerides (2017-2018)\n",
            "   [Found] Cholesterol - Total (2017-2018)\n",
            "   [Found] Chromium - Urine (2017-2018)\n",
            "   [Found] Chromium & Cobalt (2017-2018)\n",
            "   [Found] Complete Blood Count with 5-Part Differential (2017-2018)\n",
            "   [Found] Cotinine and Hydroxycotinine - Serum (2017-2018)\n",
            "   [Found] Cotinine, Hydroxycotinine, & Other Nicotine Metabolites and Analogs - Urine (2017-2018)\n",
            "   [Found] Cytomegalovirus IgG & IgM Antibodies - Serum (2017-2018)\n",
            "   [Found] Enterovirus D68 (EV-D68) - Serum (Surplus) (2017-2018)\n",
            "   [Found] Ethylene Oxide (2017-2018)\n",
            "   [Found] Fasting Questionnaire (2017-2018)\n",
            "   [Found] Ferritin (2017-2018)\n",
            "   [Found] Flame Retardants - Urine (2017-2018)\n",
            "   [Found] Flame Retardants - Urine (Surplus) (2017-2018)\n",
            "   [Found] Folate - RBC (2017-2018)\n",
            "   [Found] Folate Forms - Total & Individual - Serum (2017-2018)\n",
            "   [Found] Glycohemoglobin (2017-2018)\n",
            "   [Found] Glyphosate (GLYP) - Urine (Surplus) (2017-2018)\n",
            "   [Found] Hepatitis A (2017-2018)\n",
            "   [Found] Hepatitis B: Core antibody, Surface antigen, and Hepatitis D antibody (2017-2018)\n",
            "   [Found] Hepatitis B: Surface Antibody (2017-2018)\n",
            "   [Found] Hepatitis C: RNA (HCV-RNA), Confirmed Antibody (INNO-LIA), & Genotype (2017-2018)\n",
            "   [Found] Hepatitis E: IgG & IgM Antibodies (2017-2018)\n",
            "   [Found] High-Sensitivity C-Reactive Protein (2017-2018)\n",
            "   [Found] HIV Antibody Test (2017-2018)\n",
            "   [Found] Insulin (2017-2018)\n",
            "   [Found] Iodine - Urine (2017-2018)\n",
            "   [Found] Iron Status - Serum (2017-2018)\n",
            "   [Found] Lead, Cadmium, Total Mercury, Selenium, & Manganese - Blood (2017-2018)\n",
            "   [Found] Mercury: Inorganic - Urine (2017-2018)\n",
            "   [Found] Mercury: Inorganic, Ethyl and Methyl - Blood (2017-2018)\n",
            "   [Found] Metals - Urine (2017-2018)\n",
            "   [Found] Neonicotinoids - Urine (Surplus) (2017-2018)\n",
            "   [Found] Nickel - Urine (2017-2018)\n",
            "   [Found] Organophosphate Insecticides - Dialkyl Phosphate Metabolites - Urine (2017-2018)\n",
            "   [Found] Perchlorate, Nitrate & Thiocyanate - Urine (2017-2018)\n",
            "   [Found] Perfluoroalkyl and Polyfluoroalkyl Substances (2017-2018)\n",
            "   [Found] Perfluoroalkyl and Polyfluoroalkyl Substances (Surplus) (2017-2018)\n",
            "   [Found] Phthalates and Plasticizers Metabolites - Urine (2017-2018)\n",
            "   [Found] Plasma Fasting Glucose (2017-2018)\n",
            "   [Found] Pyrethroids, Herbicides, & Organophosphorus Metabolites – Urine (2017-2018)\n",
            "   [Found] Sex Steroid Hormone Panel - Serum (Surplus) (2017-2018)\n",
            "   [Found] Standard Biochemistry Profile (2017-2018)\n",
            "   [Found] Transferrin Receptor (2017-2018)\n",
            "   [Found] Urine Flow Rate (2017-2018)\n",
            "   [Found] Urine Pregnancy Test (2017-2018)\n",
            "   [Found] Vitamin A, Vitamin E & Carotenoids (2017-2018)\n",
            "   [Found] Vitamin C (2017-2018)\n",
            "   [Found] Vitamin D (2017-2018)\n",
            "   [Found] Volatile Organic Compound (VOC) Metabolites - Urine (2017-2018)\n",
            "   [Found] Volatile Organic Compound (VOC) Metabolites II - Urine (Surplus) (2017-2018)\n",
            "   [Found] Volatile Organic Compounds and Trihalomethanes/MTBE - Blood (2017-2018)\n",
            "   [Found] Acculturation (2017-2018)\n",
            "   [Found] Alcohol Use (2017-2018)\n",
            "   [Found] Audiometry (2017-2018)\n",
            "   [Found] Blood Pressure & Cholesterol (2017-2018)\n",
            "   [Found] Cardiovascular Health (2017-2018)\n",
            "   [Found] Consumer Behavior (2017-2018)\n",
            "   [Found] Consumer Behavior Phone Follow-up Module - Adult (2017-2018)\n",
            "   [Found] Consumer Behavior Phone Follow-up Module - Child (2017-2018)\n",
            "   [Found] Current Health Status (2017-2018)\n",
            "   [Found] Dermatology (2017-2018)\n",
            "   [Found] Diabetes (2017-2018)\n",
            "   [Found] Diet Behavior & Nutrition (2017-2018)\n",
            "   [Found] Disability (2017-2018)\n",
            "   [Found] Drug Use (2017-2018)\n",
            "   [Found] Early Childhood (2017-2018)\n",
            "   [Found] Food Security (2017-2018)\n",
            "   [Found] Health Insurance (2017-2018)\n",
            "   [Found] Hepatitis (2017-2018)\n",
            "   [Found] Hospital Utilization & Access to Care (2017-2018)\n",
            "   [Found] Housing Characteristics (2017-2018)\n",
            "   [Found] Immunization (2017-2018)\n",
            "   [Found] Income (2017-2018)\n",
            "   [Found] Kidney Conditions - Urology (2017-2018)\n",
            "   [Found] Medical Conditions (2017-2018)\n",
            "   [Found] Mental Health - Depression Screener (2017-2018)\n",
            "   [Found] Occupation (2017-2018)\n",
            "   [Found] Oral Health (2017-2018)\n",
            "   [Found] Osteoporosis (2017-2018)\n",
            "   [Found] Pesticide Use (2017-2018)\n",
            "   [Found] Physical Activity (2017-2018)\n",
            "   [Found] Physical Activity - Youth (2017-2018)\n",
            "   [Found] Physical Functioning (2017-2018)\n",
            "   [Found] Prescription Medications (2017-2018)\n",
            "   [Found] Preventive Aspirin Use (2017-2018)\n",
            "   [Found] Reproductive Health (2017-2018)\n",
            "   [Found] Sleep Disorders (2017-2018)\n",
            "   [Found] Smoking - Cigarette Use (2017-2018)\n",
            "   [Found] Smoking - Household Smokers (2017-2018)\n",
            "   [Found] Smoking - Recent Tobacco Use (2017-2018)\n",
            "   [Found] Smoking - Secondhand Smoke Exposure (2017-2018)\n",
            "   [Found] Volatile Toxicant (2017-2018)\n",
            "   [Found] Weight History (2017-2018)\n",
            "   [Found] Weight History - Youth (2017-2018)\n"
          ]
        },
        {
          "output_type": "stream",
          "name": "stderr",
          "text": [
            "\rCrawling NHANES cycles:  31%|███       | 4/13 [00:38<01:24,  9.33s/it]"
          ]
        },
        {
          "output_type": "stream",
          "name": "stdout",
          "text": [
            "\n",
            "🔹 Scanning cycle: NHANES 2015-2016\n",
            "   [Found] Demographic Variables and Sample Weights (2015-2016)\n",
            "   [Added] Demographics dataset for NHANES 2015-2016\n",
            "   [Found] Dietary Interview - Individual Foods, First Day (2015-2016)\n",
            "   [Found] Dietary Interview - Individual Foods, Second Day (2015-2016)\n",
            "   [Found] Dietary Interview - Total Nutrient Intakes, First Day (2015-2016)\n",
            "   [Found] Dietary Interview - Total Nutrient Intakes, Second Day (2015-2016)\n",
            "   [Found] Dietary Interview Technical Support File - Food Codes (2015-2016)\n",
            "   [Found] Dietary Supplement Use 24-Hour - Individual Dietary Supplements, First Day (2015-2016)\n",
            "   [Found] Dietary Supplement Use 24-Hour - Individual Dietary Supplements, Second Day (2015-2016)\n",
            "   [Found] Dietary Supplement Use 24-Hour - Total Dietary Supplements, First Day (2015-2016)\n",
            "   [Found] Dietary Supplement Use 24-Hour - Total Dietary Supplements, Second Day (2015-2016)\n",
            "   [Found] Dietary Supplement Use 30-Day - Individual Dietary Supplements (2015-2016)\n",
            "   [Found] Dietary Supplement Use 30-Day - Total Dietary Supplements (2015-2016)\n",
            "   [Found] Audiometry (2015-2016)\n",
            "   [Found] Audiometry - Acoustic Reflex (2015-2016)\n",
            "   [Found] Audiometry - Tympanometry (2015-2016)\n",
            "   [Found] Audiometry – Wideband Reflectance (2015-2016)\n",
            "   [Found] Blood Pressure (2015-2016)\n",
            "   [Found] Body Measures (2015-2016)\n",
            "   [Found] Dual-Energy X-ray Absorptiometry - Android/Gynoid Measurements (2015-2016)\n",
            "   [Found] Dual-Energy X-ray Absorptiometry - Whole Body (2015-2016)\n",
            "   [Found] Fluorosis - Clinical (2015-2016)\n",
            "   [Found] Oral Health - Dentition (2015-2016)\n",
            "   [Found] Oral Health - Recommendation of Care (2015-2016)\n",
            "   [Found] Acrylamide & Glycidamide (2015-2016)\n",
            "   [Found] Albumin & Creatinine - Urine (2015-2016)\n",
            "   [Found] Alpha-1-Acid Glycoprotein - Serum (Surplus) (2015-2016)\n",
            "   [Found] Apolipoprotein B (2015-2016)\n",
            "   [Found] Aromatic Diamines - Urine (2015-2016)\n",
            "   [Found] Arsenic - Total - Urine (2015-2016)\n",
            "   [Found] Arsenic - Total - Urine - Special Sample (2015-2016)\n",
            "   [Found] Brominated Flame Retardants (BFRs) - Pooled Samples (2015-2016)\n",
            "   [Found] Chlamydia - Urine (2015-2016)\n",
            "   [Found] Chlamydia Pgp3 (plasmid gene product 3) ELISA (enzyme linked immunosorbent assay) and multiplex bead array (MBA) results (2015-2016)\n",
            "   [Found] Chlorinated Tyrosine – Serum (Surplus) (2015-2016)\n",
            "   [Found] Cholesterol - High-Density Lipoprotein (HDL) (2015-2016)\n",
            "   [Found] Cholesterol - Low - Density Lipoprotein (LDL) & Triglycerides (2015-2016)\n",
            "   [Found] Cholesterol - Total (2015-2016)\n",
            "   [Found] Chromium & Cobalt (2015-2016)\n",
            "   [Found] Complete Blood Count with 5-Part Differential - Whole Blood (2015-2016)\n",
            "   [Found] Copper, Selenium & Zinc - Serum (2015-2016)\n",
            "   [Found] Cotinine and Hydroxycotinine - Serum (2015-2016)\n",
            "   [Found] Cotinine, Hydroxycotinine, & Other Nicotine Metabolites and Analogs - Urine (2015-2016)\n",
            "   [Found] Cotinine, Hydroxycotinine, & Other Nicotine Metabolites and Analogs - Urine - Special Sample (2015-2016)\n",
            "   [Found] DEET Metabolite - Urine (2015-2016)\n",
            "   [Found] DEET Metabolites - Urine - Surplus (2015-2016)\n",
            "   [Found] Enterovirus D68 (EV-D68) - Serum (Surplus) (2015-2016)\n",
            "   [Found] Ethylene Oxide (2015-2016)\n",
            "   [Found] Fasting Questionnaire (2015-2016)\n",
            "   [Found] Ferritin (2015-2016)\n",
            "   [Found] Flame Retardants - Urine (Surplus) (2015-2016)\n",
            "   [Found] Fluoride - Plasma (2015-2016)\n",
            "   [Found] Fluoride - Urine (2015-2016)\n",
            "   [Found] Fluoride - Water (2015-2016)\n",
            "   [Found] Folate - RBC (2015-2016)\n",
            "   [Found] Folate Forms - Total & Individual - Serum (2015-2016)\n",
            "   [Found] Formaldehyde (2015-2016)\n",
            "   [Found] Glycohemoglobin (2015-2016)\n",
            "   [Found] Glyphosate (GLYP) - Urine (Surplus) (2015-2016)\n",
            "   [Found] Hepatitis A (2015-2016)\n",
            "   [Found] Hepatitis B: Core antibody, Surface antigen, and Hepatitis D antibody (2015-2016)\n",
            "   [Found] Hepatitis B: Surface Antibody (2015-2016)\n",
            "   [Found] Hepatitis C: RNA (HCV-RNA) and Hepatitis C Genotype (2015-2016)\n",
            "   [Found] Hepatitis E: IgG & IgM Antibodies (2015-2016)\n",
            "   [Found] Herpes Simplex Virus Type-1 & Type-2 (2015-2016)\n",
            "   [Found] High-Sensitivity C-Reactive Protein (hs-CRP) (2015-2016)\n",
            "   [Found] HIV Antibody Test (2015-2016)\n",
            "   [Found] Human Papillomavirus (HPV) - Oral Rinse (2015-2016)\n",
            "   [Found] Human Papillomavirus (HPV) DNA - Penile Swabs: Roche Linear Array (2015-2016)\n",
            "   [Found] Human Papillomavirus (HPV) DNA - Vaginal Swab: Roche Cobas High-Risk (2015-2016)\n",
            "   [Found] Human Papillomavirus (HPV) DNA - Vaginal Swab: Roche Linear Array (2015-2016)\n",
            "   [Found] Insulin (2015-2016)\n",
            "   [Found] Iodine - Urine (2015-2016)\n",
            "   [Found] Klotho - Serum (Surplus) (2015-2016)\n",
            "   [Found] Lead, Cadmium, Total Mercury, Selenium & Manganese - Blood (2015-2016)\n",
            "   [Found] Mercury: Inorganic - Urine (2015-2016)\n",
            "   [Found] Mercury: Inorganic, Ethyl and Methyl - Blood (2015-2016)\n",
            "   [Found] Metals - Urine (2015-2016)\n",
            "   [Found] Metals - Urine - Special Sample (2015-2016)\n",
            "   [Found] Mono-2-ethyl-5-hydroxyhexyl terephthalate, mono-2-ethyl-5-carboxypentyl terephthalate, and monooxoisononyl phthalate - Urine (Surplus) (2015-2016)\n",
            "   [Found] Neonicotinoids - Urine - Surplus (2015-2016)\n",
            "   [Found] Non-dioxin-like Polychlorinated Biphenyls & Mono-ortho-substituted Polychlorinated Biphenyls - Pooled Samples (2015-2016)\n",
            "   [Found] Oral Glucose Tolerance Test (2015-2016)\n",
            "   [Found] Organophosphate Insecticides - Dialkyl Phosphate Metabolites - Urine (2015-2016)\n",
            "   [Found] Perchlorate, Nitrate & Thiocyanate - Urine (2015-2016)\n",
            "   [Found] Perchlorate, Nitrate & Thiocyanate - Urine - Special Sample (2015-2016)\n",
            "   [Found] Perfluoroalkyl and Polyfluoroalkyl (2015-2016)\n",
            "   [Found] Personal Care and Consumer Product Chemicals and Metabolites (2015-2016)\n",
            "   [Found] Pertussis and tetanus – Serum (Surplus) (2015-2016)\n",
            "   [Found] Pesticides - Organochlorine Pesticides - Pooled Samples (2015-2016)\n",
            "   [Found] Phthalates and Plasticizers Metabolites - Urine (2015-2016)\n",
            "   [Found] Plasma Fasting Glucose (2015-2016)\n",
            "   [Found] Polychlorinated dibenzo-p-dioxins (PCDDs), Dibenzofurans (PCDFs) & Coplanar Polychlorinated Biphenyls (cPCBs) - Pooled Samples (2015-2016)\n",
            "   [Found] Polycyclic Aromatic Hydrocarbons (PAH) - Urine (2015-2016)\n",
            "   [Found] Polycyclic Aromatic Hydrocarbons (PAH) - Urine - Special Sample (2015-2016)\n",
            "   [Found] Pooled-Sample Technical Support File (2015-2016)\n",
            "   [Found] Pregnancy Test - Urine (2015-2016)\n",
            "   [Found] Pyrethroids, Herbicides, & Organophosphorus Metabolites - Urine (2015-2016)\n",
            "   [Found] Sex Steroid Hormone - Serum (2015-2016)\n",
            "   [Found] Speciated Arsenics - Urine (2015-2016)\n",
            "   [Found] Speciated Arsenics - Urine - Special Sample (2015-2016)\n",
            "   [Found] Standard Biochemistry Profile (2015-2016)\n",
            "   [Found] Transferrin Receptor (2015-2016)\n",
            "   [Found] Trichomonas - Urine (2015-2016)\n",
            "   [Found] Urine Flow Rate (2015-2016)\n",
            "   [Found] Vitamin D (2015-2016)\n",
            "   [Found] Volatile Organic Compound (VOC) Metabolites - Urine (2015-2016)\n",
            "   [Found] Volatile Organic Compound (VOC) Metabolites - Urine - Special Sample (2015-2016)\n",
            "   [Found] Volatile Organic Compounds and Trihalomethanes/MTBE - Blood (2015-2016)\n",
            "   [Found] Volatile Organic Compounds and Trihalomethanes/MTBE – Blood – Special Sample (2015-2016)\n",
            "   [Found] Acculturation (2015-2016)\n",
            "   [Found] Alcohol Use (2015-2016)\n",
            "   [Found] Audiometry (2015-2016)\n",
            "   [Found] Blood Pressure & Cholesterol (2015-2016)\n",
            "   [Found] Cardiovascular Health (2015-2016)\n",
            "   [Found] Consumer Behavior (2015-2016)\n",
            "   [Found] Current Health Status (2015-2016)\n",
            "   [Found] Dermatology (2015-2016)\n",
            "   [Found] Diabetes (2015-2016)\n",
            "   [Found] Diet Behavior & Nutrition (2015-2016)\n",
            "   [Found] Disability (2015-2016)\n",
            "   [Found] Drug Use (2015-2016)\n",
            "   [Found] Early Childhood (2015-2016)\n",
            "   [Found] Food Security (2015-2016)\n",
            "   [Found] Health Insurance (2015-2016)\n",
            "   [Found] Hepatitis (2015-2016)\n",
            "   [Found] Hospital Utilization & Access to Care (2015-2016)\n",
            "   [Found] Housing Characteristics (2015-2016)\n",
            "   [Found] Immunization (2015-2016)\n",
            "   [Found] Income (2015-2016)\n",
            "   [Found] Kidney Conditions - Urology (2015-2016)\n",
            "   [Found] Medical Conditions (2015-2016)\n",
            "   [Found] Mental Health - Depression Screener (2015-2016)\n",
            "   [Found] Occupation (2015-2016)\n",
            "   [Found] Oral Health (2015-2016)\n",
            "   [Found] Pesticide Use (2015-2016)\n",
            "   [Found] Physical Activity (2015-2016)\n",
            "   [Found] Physical Functioning (2015-2016)\n",
            "   [Found] Prescription Medications (2015-2016)\n",
            "   [Found] Preventive Aspirin Use (2015-2016)\n",
            "   [Found] Reproductive Health (2015-2016)\n",
            "   [Found] Sexual Behavior (2015-2016)\n",
            "   [Found] Sleep Disorders (2015-2016)\n",
            "   [Found] Smoking - Cigarette Use (2015-2016)\n",
            "   [Found] Smoking - Household Smokers (2015-2016)\n",
            "   [Found] Smoking - Recent Tobacco Use (2015-2016)\n",
            "   [Found] Smoking - Secondhand Smoke Exposure (2015-2016)\n",
            "   [Found] Volatile Toxicant (2015-2016)\n",
            "   [Found] Weight History (2015-2016)\n",
            "   [Found] Weight History - Youth (2015-2016)\n"
          ]
        },
        {
          "output_type": "stream",
          "name": "stderr",
          "text": [
            "\rCrawling NHANES cycles:  38%|███▊      | 5/13 [00:46<01:12,  9.03s/it]"
          ]
        },
        {
          "output_type": "stream",
          "name": "stdout",
          "text": [
            "\n",
            "🔹 Scanning cycle: NHANES 2013-2014\n",
            "   [Found] Demographic Variables and Sample Weights (2013-2014)\n",
            "   [Added] Demographics dataset for NHANES 2013-2014\n",
            "   [Found] Dietary Interview - Individual Foods, First Day (2013-2014)\n",
            "   [Found] Dietary Interview - Individual Foods, Second Day (2013-2014)\n",
            "   [Found] Dietary Interview - Total Nutrient Intakes, First Day (2013-2014)\n",
            "   [Found] Dietary Interview - Total Nutrient Intakes, Second Day (2013-2014)\n",
            "   [Found] Dietary Interview Technical Support File - Food Codes (2013-2014)\n",
            "   [Found] Dietary Supplement Use 24-Hour - Individual Dietary Supplements, First Day (2013-2014)\n",
            "   [Found] Dietary Supplement Use 24-Hour - Individual Dietary Supplements, Second Day (2013-2014)\n",
            "   [Found] Dietary Supplement Use 24-Hour - Total Dietary Supplements, First Day (2013-2014)\n",
            "   [Found] Dietary Supplement Use 24-Hour - Total Dietary Supplements, Second Day (2013-2014)\n",
            "   [Found] Dietary Supplement Use 30-Day - Individual Dietary Supplements (2013-2014)\n",
            "   [Found] Dietary Supplement Use 30-Day - Total Dietary Supplements (2013-2014)\n",
            "   [Found] Blood Pressure (2013-2014)\n",
            "   [Found] Body Measures (2013-2014)\n",
            "   [Found] Dual-Energy X-ray Absorptiometry - Abdominal Aortic Calcification (2013-2014)\n",
            "   [Found] Dual-Energy X-ray Absorptiometry - Android/Gynoid Measurements (2013-2014)\n",
            "   [Found] Dual-Energy X-ray Absorptiometry - Femur (2013-2014)\n",
            "   [Found] Dual-Energy X-ray Absorptiometry - FRAX Score (2013-2014)\n",
            "   [Found] Dual-Energy X-ray Absorptiometry - L1 Vertebrae Morphology (2013-2014)\n",
            "   [Found] Dual-Energy X-ray Absorptiometry - L2 Vertebrae Morphology (2013-2014)\n",
            "   [Found] Dual-Energy X-ray Absorptiometry - L3 Vertebrae Morphology (2013-2014)\n",
            "   [Found] Dual-Energy X-ray Absorptiometry - L4 Vertebrae Morphology (2013-2014)\n",
            "   [Found] Dual-Energy X-ray Absorptiometry - Spine (2013-2014)\n",
            "   [Found] Dual-Energy X-ray Absorptiometry - T10 Vertebrae Morphology (2013-2014)\n",
            "   [Found] Dual-Energy X-ray Absorptiometry - T11 Vertebrae Morphology (2013-2014)\n",
            "   [Found] Dual-Energy X-ray Absorptiometry - T12 Vertebrae Morphology (2013-2014)\n",
            "   [Found] Dual-Energy X-ray Absorptiometry - T4 Vertebrae Morphology (2013-2014)\n",
            "   [Found] Dual-Energy X-ray Absorptiometry - T5 Vertebrae Morphology (2013-2014)\n",
            "   [Found] Dual-Energy X-ray Absorptiometry - T6 Vertebrae Morphology (2013-2014)\n",
            "   [Found] Dual-Energy X-ray Absorptiometry - T7 Vertebrae Morphology (2013-2014)\n",
            "   [Found] Dual-Energy X-ray Absorptiometry - T8 Vertebrae Morphology (2013-2014)\n",
            "   [Found] Dual-Energy X-ray Absorptiometry - T9 Vertebrae Morphology (2013-2014)\n",
            "   [Found] Dual-Energy X-ray Absorptiometry - Vertebral Fracture Assessment (2013-2014)\n",
            "   [Found] Dual-Energy X-ray Absorptiometry - Whole Body (2013-2014)\n",
            "   [Found] Fluorosis - Clinical (2013-2014)\n",
            "   [Found] Muscle Strength - Grip Test (2013-2014)\n",
            "   [Found] Oral Health - Dentition (2013-2014)\n",
            "   [Found] Oral Health - Periodontal (2013-2014)\n",
            "   [Found] Oral Health - Recommendation of Care (2013-2014)\n",
            "   [Found] Physical Activity Monitor - Ambient Light Raw Data (2013-2014)\n",
            "   [Found] Physical Activity Monitor - Day (2013-2014)\n",
            "   [Found] Physical Activity Monitor - Header (2013-2014)\n",
            "   [Found] Physical Activity Monitor - Hour (2013-2014)\n",
            "   [Found] Physical Activity Monitor - Minute (2013-2014)\n",
            "   [Found] Physical Activity Monitor - Raw Data 80hz (2013-2014)\n",
            "   [Found] Taste & Smell (2013-2014)\n",
            "   [Found] Acrylamide & Glycidamide (2013-2014)\n",
            "   [Found] Acrylamide & Glycidamide - Special Sample (2013-2014)\n",
            "   [Found] Albumin & Creatinine - Urine (2013-2014)\n",
            "   [Found] Aldehydes - Serum (2013-2014)\n",
            "   [Found] Aldehydes - Serum - Special Sample (2013-2014)\n",
            "   [Found] Antibody to Toxocara spp. (Surplus) (2013-2014)\n",
            "   [Found] Apolipoprotein B (2013-2014)\n",
            "   [Found] Aromatic Amines - Urine (2013-2014)\n",
            "   [Found] Aromatic Amines - Urine - Special Sample (2013-2014)\n",
            "   [Found] Arsenic - Total - Urine (2013-2014)\n",
            "   [Found] Arsenic - Total - Urine - Special Sample (2013-2014)\n",
            "   [Found] Arsenics - Speciated - Urine (2013-2014)\n",
            "   [Found] Arsenics - Speciated - Urine - Special Sample (2013-2014)\n",
            "   [Found] Brominated Flame Retardants (BFRs) - Pooled Samples (2013-2014)\n",
            "   [Found] Caffeine & Caffeine Metabolites - Urine (2013-2014)\n",
            "   [Found] Chlamydia - Urine (2013-2014)\n",
            "   [Found] Chlamydia Pgp3 (plasmid gene product 3) ELISA (enzyme linked immunosorbent assay) and multiplex bead array (MBA) results (2013-2014)\n",
            "   [Found] Cholesterol - HDL (2013-2014)\n",
            "   [Found] Cholesterol - LDL & Triglycerides (2013-2014)\n",
            "   [Found] Cholesterol - Total (2013-2014)\n",
            "   [Found] Complete Blood Count with 5-part Differential - Whole Blood (2013-2014)\n",
            "   [Found] Copper, Selenium & Zinc - Serum (2013-2014)\n",
            "   [Found] Cotinine and Hydroxycotinine - Serum (2013-2014)\n",
            "   [Found] Cotinine, Hydroxycotinine, & Other Nicotine Metabolites and Analogs - Urine (2013-2014)\n",
            "   [Found] Cotinine, Hydroxycotinine, & Other Nicotine Metabolites and Analogs - Urine - Special Sample (2013-2014)\n",
            "   [Found] DEET and Metabolites (2013-2014)\n",
            "   [Found] Enterovirus D68 (EV-D68) - Serum (Surplus) (2013-2014)\n",
            "   [Found] Ethylene Oxide (2013-2014)\n",
            "   [Found] Ethylene Oxide - Special Sample (2013-2014)\n",
            "   [Found] Fasting Questionnaire (2013-2014)\n",
            "   [Found] Fatty Acids - Serum (2013-2014)\n",
            "   [Found] Flame Retardant Metabolites - Urine (Surplus) (2013-2014)\n",
            "   [Found] Fluoride - Plasma (2013-2014)\n",
            "   [Found] Fluoride - Water (2013-2014)\n",
            "   [Found] Folate - RBC (2013-2014)\n",
            "   [Found] Folate Forms - Total & Individual - Serum (2013-2014)\n",
            "   [Found] Formaldehyde (2013-2014)\n",
            "   [Found] Formaldehyde - Special Sample (2013-2014)\n",
            "   [Found] Glycohemoglobin (2013-2014)\n",
            "   [Found] Glyphosate (GLYP) - Urine (2013-2014)\n",
            "   [Found] Hepatitis A (2013-2014)\n",
            "   [Found] Hepatitis B: core antibody, surface antigen, and Hepatitis D antibody (2013-2014)\n",
            "   [Found] Hepatitis B: Surface Antibody (2013-2014)\n",
            "   [Found] Hepatitis C: Confirmed Antibody (INNO-LIA) (2013-2014)\n",
            "   [Found] Hepatitis C: RNA (HCV-RNA) and Hepatitis C Genotype (2013-2014)\n",
            "   [Found] Hepatitis E: IgG & IgM Antibodies (2013-2014)\n",
            "   [Found] Herpes Simplex Virus Type-1 & Type-2 (2013-2014)\n",
            "   [Found] Heterocyclic Aromatic Amines - Urine (2013-2014)\n",
            "   [Found] Heterocyclic Aromatic Amines (HCAA) - Urine - Special Sample (2013-2014)\n",
            "   [Found] HIV Antibody Test (2013-2014)\n",
            "   [Found] Human Papillomavirus (HPV) - Oral Rinse (2013-2014)\n",
            "   [Found] Human Papillomavirus (HPV) DNA - Vaginal Swab: Roche Cobas & Roche Linear Array (2013-2014)\n",
            "   [Found] Human Papillomavirus (HPV) DNA Results from Penile Swab Samples: Roche Linear Array (2013-2014)\n",
            "   [Found] Insulin (2013-2014)\n",
            "   [Found] Iodine - Urine (2013-2014)\n",
            "   [Found] Klotho - Serum (Surplus) (2013-2014)\n",
            "   [Found] Lead, Cadmium, Total Mercury, Selenium, and Manganese - Blood (2013-2014)\n",
            "   [Found] Mercury: Inorganic - Urine (2013-2014)\n",
            "   [Found] Mercury: Inorganic, Ethyl and Methyl - Blood (2013-2014)\n",
            "   [Found] Metals - Urine (2013-2014)\n",
            "   [Found] Metals - Urine - Special Sample (2013-2014)\n",
            "   [Found] Methylmalonic Acid (2013-2014)\n",
            "   [Found] Non-dioxin-like Polychlorinated Biphenyls & Mono-ortho-substituted Polychlorinated Biphenyls - Serum - Pooled Samples (2013-2014)\n",
            "   [Found] Oral Glucose Tolerance Test (2013-2014)\n",
            "   [Found] Perchlorate, Nitrate & Thiocyanate - Urine (2013-2014)\n",
            "   [Found] Perchlorate, Nitrate & Thiocyanate - Urine - Special Sample (2013-2014)\n",
            "   [Found] Perfluoroalkyl and Polyfluoroalkyl Substances (2013-2014)\n",
            "   [Found] Perfluoroalkyl and Polyfluoroalkyl Substances - Linear and Branched PFOS and PFOA Isomers (Surplus) (2013-2014)\n",
            "   [Found] Perfluoroalkyl and Polyfluoroalkyl Substances (formerly Polyfluoroalkyl Chemicals - PFC) (2013-2014)\n",
            "   [Found] Perfluoroalkyl and Polyfluoroalkyl Substances in US children 3-11 Years of Age (2013-2014)\n",
            "   [Found] Personal Care and Consumer Product Chemicals and Metabolites (2013-2014)\n",
            "   [Found] Pesticides - Organochlorine Pesticides - Pooled Samples (2013-2014)\n",
            "   [Found] Phthalates and Plasticizers Metabolites - Urine (2013-2014)\n",
            "   [Found] Phthalates and Plasticizers Metabolites - Urine (Surplus) (2013-2014)\n",
            "   [Found] Plasma Fasting Glucose (2013-2014)\n",
            "   [Found] Polychlorinated dibenzo-p-dioxins (PCDDs), Dibenzofurans (PCDFs) & Coplanar Polychlorinated Biphenyls (cPCBs) - Pooled Samples (2013-2014)\n",
            "   [Found] Polycyclic Aromatic Hydrocarbons (PAH) - Urine (2013-2014)\n",
            "   [Found] Polycyclic Aromatic Hydrocarbons (PAH) - Urine - Special Sample (2013-2014)\n",
            "   [Found] Pooled-Sample Technical Support File (2013-2014)\n",
            "   [Found] Pregnancy Test - Urine (2013-2014)\n",
            "   [Found] Pyrethroids, Herbicides, & Organophosphorus Metabolites - Urine (2013-2014)\n",
            "   [Found] Serum Neurofilament Light Chain - Serum (2013-2014)\n",
            "   [Found] Sex Steroid Hormone - Serum (2013-2014)\n",
            "   [Found] Standard Biochemistry Profile (2013-2014)\n",
            "   [Found] Terpenes – Serum (Surplus) (2013-2014)\n",
            "   [Found] Tissue Transglutaminase Assay (IgA-TTG) & IgA Endomyseal Antibody Assay (IgA EMA) (2013-2014)\n",
            "   [Found] Tobacco-specific Nitrosamines (TSNAs) - Urine (2013-2014)\n",
            "   [Found] Toxoplasma gondii Antibody - Serum (Surplus) (2013-2014)\n",
            "   [Found] Trichomonas - Urine (2013-2014)\n",
            "   [Found] Urine Flow Rate (2013-2014)\n",
            "   [Found] Vitamin B12 (2013-2014)\n",
            "   [Found] Vitamin D (2013-2014)\n",
            "   [Found] Volatile N-Nitrosamine Compounds (VNAs) - Urine (2013-2014)\n",
            "   [Found] Volatile N-Nitrosamine Compounds (VNAs) - Urine - Special Sample (2013-2014)\n",
            "   [Found] Volatile Organic Compound (VOC) Metabolites - Urine (2013-2014)\n",
            "   [Found] Volatile Organic Compound (VOC) Metabolites - Urine - Special Sample (2013-2014)\n",
            "   [Found] Volatile Organic Compounds (VOCs) and Trihalomethanes/MTBE - Blood - Special Sample (2013-2014)\n",
            "   [Found] Volatile Organic Compounds and Trihalomethanes/MTBE - Blood (2013-2014)\n",
            "   [Found] Acculturation (2013-2014)\n",
            "   [Found] Alcohol Use (2013-2014)\n",
            "   [Found] Blood Pressure & Cholesterol (2013-2014)\n",
            "   [Found] Cardiovascular Health (2013-2014)\n",
            "   [Found] Cognitive Functioning (2013-2014)\n",
            "   [Found] Consumer Behavior (2013-2014)\n",
            "   [Found] Creatine Kinase (2013-2014)\n",
            "   [Found] Current Health Status (2013-2014)\n",
            "   [Found] Dermatology (2013-2014)\n",
            "   [Found] Diabetes (2013-2014)\n",
            "   [Found] Diet Behavior & Nutrition (2013-2014)\n",
            "   [Found] Disability (2013-2014)\n",
            "   [Found] Drug Use (2013-2014)\n",
            "   [Found] Early Childhood (2013-2014)\n",
            "   [Found] Food Security (2013-2014)\n",
            "   [Found] Health Insurance (2013-2014)\n",
            "   [Found] Hepatitis (2013-2014)\n",
            "   [Found] Hospital Utilization & Access to Care (2013-2014)\n",
            "   [Found] Housing Characteristics (2013-2014)\n",
            "   [Found] Immunization (2013-2014)\n",
            "   [Found] Income (2013-2014)\n",
            "   [Found] Kidney Conditions - Urology (2013-2014)\n",
            "   [Found] Medical Conditions (2013-2014)\n",
            "   [Found] Mental Health - Depression Screener (2013-2014)\n",
            "   [Found] Occupation (2013-2014)\n",
            "   [Found] Oral Health (2013-2014)\n",
            "   [Found] Osteoporosis (2013-2014)\n",
            "   [Found] Pesticide Use (2013-2014)\n",
            "   [Found] Physical Activity (2013-2014)\n",
            "   [Found] Physical Functioning (2013-2014)\n",
            "   [Found] Prescription Medications (2013-2014)\n",
            "   [Found] Preventive Aspirin Use (2013-2014)\n",
            "   [Found] Reproductive Health (2013-2014)\n",
            "   [Found] Sexual Behavior (2013-2014)\n",
            "   [Found] Sleep Disorders (2013-2014)\n",
            "   [Found] Smoking - Cigarette Use (2013-2014)\n",
            "   [Found] Smoking - Household Smokers (2013-2014)\n",
            "   [Found] Smoking - Recent Tobacco Use (2013-2014)\n",
            "   [Found] Smoking - Secondhand Smoke Exposure (2013-2014)\n",
            "   [Found] Taste & Smell (2013-2014)\n",
            "   [Found] Volatile Toxicant (2013-2014)\n",
            "   [Found] Weight History (2013-2014)\n",
            "   [Found] Weight History - Youth (2013-2014)\n"
          ]
        },
        {
          "output_type": "stream",
          "name": "stderr",
          "text": [
            "\rCrawling NHANES cycles:  46%|████▌     | 6/13 [00:55<01:02,  8.98s/it]"
          ]
        },
        {
          "output_type": "stream",
          "name": "stdout",
          "text": [
            "\n",
            "🔹 Scanning cycle: NHANES 2011-2012\n",
            "   [Found] Demographic Variables & Sample Weights (2011-2012)\n",
            "   [Added] Demographics dataset for NHANES 2011-2012\n",
            "   [Found] Dietary Interview - Individual Foods, First Day (2011-2012)\n",
            "   [Found] Dietary Interview - Individual Foods, Second Day (2011-2012)\n",
            "   [Found] Dietary Interview - Total Nutrient Intakes, First Day (2011-2012)\n",
            "   [Found] Dietary Interview - Total Nutrient Intakes, Second Day (2011-2012)\n",
            "   [Found] Dietary Interview Technical Support File - Food Codes (2011-2012)\n",
            "   [Found] Dietary Interview Technical Support File - Modification Codes (2011-2012)\n",
            "   [Found] Dietary Supplement Use 24-Hour - Individual Dietary Supplements, First Day (2011-2012)\n",
            "   [Found] Dietary Supplement Use 24-Hour - Individual Dietary Supplements, Second Day (2011-2012)\n",
            "   [Found] Dietary Supplement Use 24-Hour - Total Dietary Supplements, First Day (2011-2012)\n",
            "   [Found] Dietary Supplement Use 24-Hour - Total Dietary Supplements, Second Day (2011-2012)\n",
            "   [Found] Dietary Supplement Use 30 Day - Individual Dietary Supplements (2011-2012)\n",
            "   [Found] Dietary Supplement Use 30-Day - Total Dietary Supplements (2011-2012)\n",
            "   [Found] Audiometry (2011-2012)\n",
            "   [Found] Audiometry - Acoustic Reflex (2011-2012)\n",
            "   [Found] Audiometry - Tympanometry (2011-2012)\n",
            "   [Found] Blood Pressure (2011-2012)\n",
            "   [Found] Body Measures (2011-2012)\n",
            "   [Found] Dual-Energy X-ray Absorptiometry - Android/Gynoid Measurements (2011-2012)\n",
            "   [Found] Dual-Energy X-ray Absorptiometry - Whole Body (2011-2012)\n",
            "   [Found] Exhaled Nitric Oxide (2011-2012)\n",
            "   [Found] Fluorosis - Clinical (2011-2012)\n",
            "   [Found] Muscle Strength - Grip Test (2011-2012)\n",
            "   [Found] Oral Health - Dentition (2011-2012)\n",
            "   [Found] Oral Health - Periodontal (2011-2012)\n",
            "   [Found] Oral Health - Recommendation of Care (2011-2012)\n",
            "   [Found] Physical Activity Monitor - Ambient Light Raw Data (2011-2012)\n",
            "   [Found] Physical Activity Monitor - Day (2011-2012)\n",
            "   [Found] Physical Activity Monitor - Header (2011-2012)\n",
            "   [Found] Physical Activity Monitor - Hour (2011-2012)\n",
            "   [Found] Physical Activity Monitor - Minute (2011-2012)\n",
            "   [Found] Physical Activity Monitor - Raw Data 80hz (2011-2012)\n",
            "   [Found] Spirometry - Pre and Post-Bronchodilator (2011-2012)\n",
            "   [Found] Spirometry - Raw Curve Data (2011-2012)\n",
            "   [Found] Tuberculosis (2011-2012)\n",
            "   [Found] Albumin & Creatinine - Urine (2011-2012)\n",
            "   [Found] Antibody to Toxocara spp. (Surplus) (2011-2012)\n",
            "   [Found] Apolipoprotein B (2011-2012)\n",
            "   [Found] Arsenics - Total & Speciated - Urine (2011-2012)\n",
            "   [Found] Arsenics - Total & Speciated - Urine - Special Sample (2011-2012)\n",
            "   [Found] Autoantibodies - Anti-DFS70 Autoantibody Analyses (Surplus) (2011-2012)\n",
            "   [Found] Autoantibodies - Immunofluorescence Analyses (Surplus) (2011-2012)\n",
            "   [Found] Brominated Flame Retardants (BFRs) - Pooled Samples (2011-2012)\n",
            "   [Found] Cadmium, Lead, Total Mercury, Selenium, & Manganese - Blood (2011-2012)\n",
            "   [Found] Caffeine & Caffeine Metabolites - Urine (2011-2012)\n",
            "   [Found] Chlamydia - Urine (2011-2012)\n",
            "   [Found] Cholesterol - HDL (2011-2012)\n",
            "   [Found] Cholesterol - LDL & Triglycerides (2011-2012)\n",
            "   [Found] Cholesterol - Total (2011-2012)\n",
            "   [Found] Complete Blood Count with 5-part Differential - Whole Blood (2011-2012)\n",
            "   [Found] Copper, Selenium & Zinc - Serum (2011-2012)\n",
            "   [Found] Cotinine - Serum & Total NNAL - Urine (2011-2012)\n",
            "   [Found] Cytomegalovirus IgG & IgM Antibodies - Serum (2011-2012)\n",
            "   [Found] DEET and Metabolites (2011-2012)\n",
            "   [Found] Enterovirus D68 (EV-D68) - Serum (Surplus) (2011-2012)\n",
            "   [Found] Environmental Phenols & Parabens (2011-2012)\n",
            "   [Found] Fasting Questionnaire (2011-2012)\n",
            "   [Found] Fatty Acids - Serum (2011-2012)\n",
            "   [Found] Flame Retardants - Urine  (Surplus) (2011-2012)\n",
            "   [Found] Folate - RBC (2011-2012)\n",
            "   [Found] Folate Forms - Total & Individual - Serum (2011-2012)\n",
            "   [Found] Glycohemoglobin (2011-2012)\n",
            "   [Found] Hepatitis A Antibody (2011-2012)\n",
            "   [Found] Hepatitis B Surface Antibody (2011-2012)\n",
            "   [Found] Hepatitis B: Core Antibody, Surface Antigen; Hepatitis D Antibody (2011-2012)\n",
            "   [Found] Hepatitis C: Confirmed Antibody, RNA (HCV-RNA), & Genotype (2011-2012)\n",
            "   [Found] Hepatitis E : IgG & IgM Antibodies (2011-2012)\n",
            "   [Found] Herpes Simplex Virus Type-1 & Type-2 (2011-2012)\n",
            "   [Found] HIV Antibody Test (2011-2012)\n",
            "   [Found] Human Papillomavirus (HPV) - Oral Rinse (2011-2012)\n",
            "   [Found] Human Papillomavirus (HPV) DNA - Vaginal Swab: Digene Hybrid Capture & Roche Linear Array (2011-2012)\n",
            "   [Found] Iodine - Urine (2011-2012)\n",
            "   [Found] Klotho - Serum (Surplus) (2011-2012)\n",
            "   [Found] Mercury: Inorganic - Urine (2011-2012)\n",
            "   [Found] Mercury: Inorganic, Ethyl and Methyl - Blood (2011-2012)\n",
            "   [Found] Metals - Urine (2011-2012)\n",
            "   [Found] Metals - Urine - Special Sample (2011-2012)\n",
            "   [Found] Methylmalonic Acid (2011-2012)\n",
            "   [Found] Non-dioxin-like Polychlorinated Biphenyls & Mono-ortho-substituted Polychlorinated Biphenyls - Pooled Samples (2011-2012)\n",
            "   [Found] Oral Glucose Tolerance Test (2011-2012)\n",
            "   [Found] Organophosphate Insecticides - Dialkyl Phosphate Metabolites - Urine (2011-2012)\n",
            "   [Found] Osmolality - Urine (2011-2012)\n",
            "   [Found] Perchlorate, Nitrate & Thiocyanate - Urine (2011-2012)\n",
            "   [Found] Perchlorate, Nitrate & Thiocyanate - Urine - Special Sample (2011-2012)\n",
            "   [Found] Pesticides - Environmental - Urine (2011-2012)\n",
            "   [Found] Pesticides - Organochlorine Pesticides - Pooled Samples (2011-2012)\n",
            "   [Found] Phthalates & Plasticizers Metabolites - Urine (2011-2012)\n",
            "   [Found] Plasma Fasting Glucose & Insulin (2011-2012)\n",
            "   [Found] Polyaromatic Hydrocarbons (PAHs) - Urine (2011-2012)\n",
            "   [Found] Polyaromatic Hydrocarbons (PAHs)- Urine - Special Sample (2011-2012)\n",
            "   [Found] Polychlorinated dibenzo-p-dioxins (PCDDs), Dibenzofurans (PCDFs) & Coplanar Polychlorinated Biphenyls (cPCBs) - Pooled Samples (2011-2012)\n",
            "   [Found] Polyfluoroalkyl Chemicals (2011-2012)\n",
            "   [Found] Pooled-Sample Technical Support File (2011-2012)\n",
            "   [Found] Pregnancy Test - Urine (2011-2012)\n",
            "   [Found] Pyrethroids, Herbicides, & Organophosphorus Metabolites - Urine (2011-2012)\n",
            "   [Found] Standard Biochemistry Profile (2011-2012)\n",
            "   [Found] Thyroid Profile (2011-2012)\n",
            "   [Found] Tissue Transglutaminase Assay (IgA-TTG) & IgA Endomyseal Antibody Assay (IgA EMA) (2011-2012)\n",
            "   [Found] Total Testosterone (2011-2012)\n",
            "   [Found] Toxoplasma gondii Antibody - Serum (Surplus) (2011-2012)\n",
            "   [Found] Tuberculosis - Quantiferon_In_Gold (2011-2012)\n",
            "   [Found] Urine Flow Rate (2011-2012)\n",
            "   [Found] Vitamin B12 (2011-2012)\n",
            "   [Found] Vitamin D (2011-2012)\n",
            "   [Found] Volatile Organic Compound (VOC) Metabolites - Urine (2011-2012)\n",
            "   [Found] Volatile Organic Compound (VOC) Metabolites - Urine - Special Sample (2011-2012)\n",
            "   [Found] Volatile Organic Compounds (VOCs) - Blood (2011-2012)\n",
            "   [Found] Volatile Organic Compounds (VOCs) - Trihalomethanes/MTBE/Nitromethane - Blood (2011-2012)\n",
            "   [Found] Acculturation (2011-2012)\n",
            "   [Found] Alcohol Use (2011-2012)\n",
            "   [Found] Audiometry (2011-2012)\n",
            "   [Found] Blood Pressure & Cholesterol (2011-2012)\n",
            "   [Found] Cardiovascular Health (2011-2012)\n",
            "   [Found] Cognitive Functioning (2011-2012)\n",
            "   [Found] Consumer Behavior (2011-2012)\n",
            "   [Found] Creatine Kinase (2011-2012)\n",
            "   [Found] Current Health Status (2011-2012)\n",
            "   [Found] Dermatology (2011-2012)\n",
            "   [Found] Diabetes (2011-2012)\n",
            "   [Found] Diet Behavior & Nutrition (2011-2012)\n",
            "   [Found] Drug Use (2011-2012)\n",
            "   [Found] Early Childhood (2011-2012)\n",
            "   [Found] Food Security (2011-2012)\n",
            "   [Found] Health Insurance (2011-2012)\n",
            "   [Found] Hepatitis C Follow Up (2011-2012)\n",
            "   [Found] Hospital Utilization & Access to Care (2011-2012)\n",
            "   [Found] Housing Characteristics (2011-2012)\n",
            "   [Found] Immunization (2011-2012)\n",
            "   [Found] Income (2011-2012)\n",
            "   [Found] Kidney Conditions - Urology (2011-2012)\n",
            "   [Found] Medical Conditions (2011-2012)\n",
            "   [Found] Mental Health - Depression Screener (2011-2012)\n",
            "   [Found] Occupation (2011-2012)\n",
            "   [Found] Oral Health (2011-2012)\n",
            "   [Found] Pesticide Use (2011-2012)\n",
            "   [Found] Physical Activity (2011-2012)\n",
            "   [Found] Physical Functioning (2011-2012)\n",
            "   [Found] Prescription Medications (2011-2012)\n",
            "   [Found] Preventive Aspirin Use (2011-2012)\n",
            "   [Found] Reproductive Health (2011-2012)\n",
            "   [Found] Respiratory Health (2011-2012)\n",
            "   [Found] Sexual Behavior (2011-2012)\n",
            "   [Found] Sleep Disorders (2011-2012)\n",
            "   [Found] Smoking - Cigarette Use (2011-2012)\n",
            "   [Found] Smoking - Household Smokers (2011-2012)\n",
            "   [Found] Smoking - Recent Tobacco Use (2011-2012)\n",
            "   [Found] Taste & Smell (2011-2012)\n",
            "   [Found] Tuberculosis (2011-2012)\n",
            "   [Found] Volatile Toxicant (2011-2012)\n",
            "   [Found] Weight History (2011-2012)\n",
            "   [Found] Weight History - Youth (2011-2012)\n"
          ]
        },
        {
          "output_type": "stream",
          "name": "stderr",
          "text": [
            "\rCrawling NHANES cycles:  54%|█████▍    | 7/13 [01:04<00:54,  9.06s/it]"
          ]
        },
        {
          "output_type": "stream",
          "name": "stdout",
          "text": [
            "\n",
            "🔹 Scanning cycle: NHANES 2009-2010\n",
            "   [Found] Demographic Variables & Sample Weights (2009-2010)\n",
            "   [Added] Demographics dataset for NHANES 2009-2010\n",
            "   [Found] Dietary Interview - Individual Foods, First Day (2009-2010)\n",
            "   [Found] Dietary Interview - Individual Foods, Second Day (2009-2010)\n",
            "   [Found] Dietary Interview - Total Nutrient Intakes, First Day (2009-2010)\n",
            "   [Found] Dietary Interview - Total Nutrient Intakes, Second Day (2009-2010)\n",
            "   [Found] Dietary Interview Technical Support File - Food Codes (2009-2010)\n",
            "   [Found] Dietary Interview Technical Support File - Modification Codes (2009-2010)\n",
            "   [Found] Dietary Screener Questionnaire (2009-2010)\n",
            "   [Found] Dietary Supplement Use 24-Hour - Individual Dietary Supplements, First Day (2009-2010)\n",
            "   [Found] Dietary Supplement Use 24-Hour - Individual Dietary Supplements, Second Day (2009-2010)\n",
            "   [Found] Dietary Supplement Use 24-Hour - Total Dietary Supplements, First Day (2009-2010)\n",
            "   [Found] Dietary Supplement Use 24-Hour - Total Dietary Supplements, Second Day (2009-2010)\n",
            "   [Found] Dietary Supplement Use 30 Day - Individual Dietary Supplements (2009-2010)\n",
            "   [Found] Dietary Supplement Use 30-Day - Total Dietary Supplements (2009-2010)\n",
            "   [Found] Arthritis Body Measures (2009-2010)\n",
            "   [Found] Audiometry (2009-2010)\n",
            "   [Found] Audiometry - Acoustic Reflex (2009-2010)\n",
            "   [Found] Audiometry - Tympanometry (2009-2010)\n",
            "   [Found] Blood Pressure (2009-2010)\n",
            "   [Found] Body Measures (2009-2010)\n",
            "   [Found] Dual Energy X-ray Absorptiometry - Femur (2009-2010)\n",
            "   [Found] Dual Energy X-ray Absorptiometry - Spine (2009-2010)\n",
            "   [Found] Exhaled Nitric Oxide (2009-2010)\n",
            "   [Found] Fluorosis - Clinical (2009-2010)\n",
            "   [Found] Oral Health - Dentition (2009-2010)\n",
            "   [Found] Oral Health - Periodontal (2009-2010)\n",
            "   [Found] Oral Health - Recommendation of Care (2009-2010)\n",
            "   [Found] Spirometry - Pre and Post-Bronchodilator (2009-2010)\n",
            "   [Found] Spirometry - Raw Curve Data (2009-2010)\n",
            "   [Found] Albumin & Creatinine - Urine (2009-2010)\n",
            "   [Found] Apolipoprotein B (2009-2010)\n",
            "   [Found] Arsenics - Total & Speciated - Urine (2009-2010)\n",
            "   [Found] Brominated Flame Retardants (BFRs) - Pooled Samples (2009-2010)\n",
            "   [Found] Cadmium, Lead, & Total Mercury - Blood (2009-2010)\n",
            "   [Found] Caffeine & Caffeine Metabolites - Urine (2009-2010)\n",
            "   [Found] Chlamydia - Urine (2009-2010)\n",
            "   [Found] Cholesterol - HDL (2009-2010)\n",
            "   [Found] Cholesterol - LDL & Triglycerides (2009-2010)\n",
            "   [Found] Cholesterol - Total (2009-2010)\n",
            "   [Found] Complete Blood Count with 5-part Differential - Whole Blood (2009-2010)\n",
            "   [Found] Cotinine - Serum & Total NNAL - Urine (2009-2010)\n",
            "   [Found] C-Reactive Protein (CRP) (2009-2010)\n",
            "   [Found] DEET and Metabolites (2009-2010)\n",
            "   [Found] Enterovirus D68 (EV-D68) - Serum (Surplus) (2009-2010)\n",
            "   [Found] Environmental Phenols (2009-2010)\n",
            "   [Found] Epstein-Barr Virus (VCA IgG) - Serum (Surplus) (2009-2010)\n",
            "   [Found] Fasting Questionnaire (2009-2010)\n",
            "   [Found] Ferritin (2009-2010)\n",
            "   [Found] Folate - RBC & Serum (2009-2010)\n",
            "   [Found] Glycohemoglobin (2009-2010)\n",
            "   [Found] Hepatitis A Antibody (2009-2010)\n",
            "   [Found] Hepatitis B Surface Antibody (2009-2010)\n",
            "   [Found] Hepatitis B: Core Antibody, Surface Antigen; Hepatitis D Antibody (2009-2010)\n",
            "   [Found] Hepatitis C: Confirmed Antibody, RNA (HCV-RNA), & Genotype (2009-2010)\n",
            "   [Found] Hepatitis E : IgG & IgM Antibodies (2009-2010)\n",
            "   [Found] Herpes Simplex Virus Type-1 & Type-2 (2009-2010)\n",
            "   [Found] HIV Antibody Test (2009-2010)\n",
            "   [Found] Human Papillomavirus (HPV) - 6, 11, 16 & 18 Antibody - Serum (2009-2010)\n",
            "   [Found] Human Papillomavirus (HPV) - Oral Rinse (2009-2010)\n",
            "   [Found] Human Papillomavirus (HPV) DNA - Vaginal Swab: Digene Hybrid Capture & Roche Linear Array (2009-2010)\n",
            "   [Found] Human Papillomavirus (HPV) Viral Load - Oral Rinse - Oral High-Risk HPV Infections (Surplus) (2009-2010)\n",
            "   [Found] Iodine - Urine (2009-2010)\n",
            "   [Found] Klotho - Serum (Surplus) (2009-2010)\n",
            "   [Found] Measles, Mumps, Rubella & Varicella (2009-2010)\n",
            "   [Found] Mercury: Inorganic - Blood (2009-2010)\n",
            "   [Found] Mercury: Inorganic - Urine (2009-2010)\n",
            "   [Found] Metals - Urine (2009-2010)\n",
            "   [Found] Non-dioxin-like Polychlorinated Biphenyls & Mono-ortho-substituted Polychlorinated Biphenyls - Pooled Samples (2009-2010)\n",
            "   [Found] Oral Glucose Tolerance Test (2009-2010)\n",
            "   [Found] Osmolality - Urine (2009-2010)\n",
            "   [Found] Perchlorate, Nitrate & Thiocyanate - Urine (2009-2010)\n",
            "   [Found] Pesticides - Environmental - Urine (2009-2010)\n",
            "   [Found] Pesticides - Organochlorine Pesticides - Pooled Samples (2009-2010)\n",
            "   [Found] Phthalates - Urine (2009-2010)\n",
            "   [Found] Phytoestrogens - Urine (2009-2010)\n",
            "   [Found] Plasma Fasting Glucose & Insulin (2009-2010)\n",
            "   [Found] Poliovirus Serotypes 1, 2, & 3 Antibodies - Serum (Surplus) (2009-2010)\n",
            "   [Found] Polyaromatic Hydrocarbons -Urine (2009-2010)\n",
            "   [Found] Polychlorinated dibenzo-p-dioxins (PCDDs), Dibenzofurans (PCDFs) & Coplanar Polychlorinated Biphenyls (cPCBs) - Pooled Samples (2009-2010)\n",
            "   [Found] Polyfluoroalkyl Chemicals (2009-2010)\n",
            "   [Found] Pooled-Sample Technical Support File (2009-2010)\n",
            "   [Found] Pregnancy Test - Urine (2009-2010)\n",
            "   [Found] Prostate Specific Antigen (PSA) (2009-2010)\n",
            "   [Found] Pyrethroids, Herbicides, & OP Metabolites - Urine (2009-2010)\n",
            "   [Found] Standard Biochemistry Profile (2009-2010)\n",
            "   [Found] Thyroid Profile (2009-2010)\n",
            "   [Found] Tissue Transglutaminase Assay (IgA-TTG) & IgA Endomyseal Antibody Assay (IgA EMA) (2009-2010)\n",
            "   [Found] Toxoplasma Gondii Antibody - Serum (Surplus) (2009-2010)\n",
            "   [Found] Trans Fatty Acids (2009-2010)\n",
            "   [Found] Transferrin Receptor (2009-2010)\n",
            "   [Found] Urine Flow Rate (2009-2010)\n",
            "   [Found] Vitamin B6 (2009-2010)\n",
            "   [Found] Vitamin D (2009-2010)\n",
            "   [Found] Volatile Organic Compounds (VOCs) - Blood (2009-2010)\n",
            "   [Found] Volatile Organic Compounds (VOCs) - Trihalomethanes/MTBE/Nitromethane - Blood (2009-2010)\n",
            "   [Found] Volatile Organic Compounds (VOCs) - Water (2009-2010)\n",
            "   [Found] Acculturation (2009-2010)\n",
            "   [Found] Air Quality (2009-2010)\n",
            "   [Found] Alcohol Use (2009-2010)\n",
            "   [Found] Alcohol Use (Ages 18-19) (2009-2010)\n",
            "   [Found] Arthritis (2009-2010)\n",
            "   [Found] Audiometry (2009-2010)\n",
            "   [Found] Blood Pressure & Cholesterol (2009-2010)\n",
            "   [Found] Bowel Health (2009-2010)\n",
            "   [Found] Cardiovascular Health (2009-2010)\n",
            "   [Found] Consumer Behavior (2009-2010)\n",
            "   [Found] Consumer Behavior Phone Follow-up Module - Adult (2009-2010)\n",
            "   [Found] Consumer Behavior Phone Follow-up Module - Child (2009-2010)\n",
            "   [Found] Current Health Status (2009-2010)\n",
            "   [Found] Dermatology (2009-2010)\n",
            "   [Found] Diabetes (2009-2010)\n",
            "   [Found] Diet Behavior & Nutrition (2009-2010)\n",
            "   [Found] Drug Use (2009-2010)\n",
            "   [Found] Early Childhood (2009-2010)\n",
            "   [Found] Food Security (2009-2010)\n",
            "   [Found] Health Insurance (2009-2010)\n",
            "   [Found] Hepatitis C Follow Up (2009-2010)\n",
            "   [Found] Hospital Utilization & Access to Care (2009-2010)\n",
            "   [Found] Housing Characteristics (2009-2010)\n",
            "   [Found] Immunization (2009-2010)\n",
            "   [Found] Income (2009-2010)\n",
            "   [Found] Kidney Conditions - Urology (2009-2010)\n",
            "   [Found] Medical Conditions (2009-2010)\n",
            "   [Found] Mental Health - Depression Screener (2009-2010)\n",
            "   [Found] Occupation (2009-2010)\n",
            "   [Found] Oral Health (2009-2010)\n",
            "   [Found] Osteoporosis (2009-2010)\n",
            "   [Found] Pesticide Use (2009-2010)\n",
            "   [Found] Physical Activity (2009-2010)\n",
            "   [Found] Physical Functioning (2009-2010)\n",
            "   [Found] Prescription Medications (2009-2010)\n",
            "   [Found] Reproductive Health (2009-2010)\n",
            "   [Found] Respiratory Health (2009-2010)\n",
            "   [Found] Sexual Behavior (2009-2010)\n",
            "   [Found] Sleep Disorders (2009-2010)\n",
            "   [Found] Smoking - Cigarette Use (2009-2010)\n",
            "   [Found] Smoking - Household Smokers (2009-2010)\n",
            "   [Found] Smoking - Recent Tobacco Use (2009-2010)\n",
            "   [Found] Volatile Toxicant (2009-2010)\n",
            "   [Found] Weight History (2009-2010)\n",
            "   [Found] Weight History - Youth (2009-2010)\n"
          ]
        },
        {
          "output_type": "stream",
          "name": "stderr",
          "text": [
            "\rCrawling NHANES cycles:  62%|██████▏   | 8/13 [01:13<00:43,  8.79s/it]"
          ]
        },
        {
          "output_type": "stream",
          "name": "stdout",
          "text": [
            "\n",
            "🔹 Scanning cycle: NHANES 2007-2008\n",
            "   [Found] Demographic Variables & Sample Weights (2007-2008)\n",
            "   [Added] Demographics dataset for NHANES 2007-2008\n",
            "   [Found] Dietary Interview - Individual Foods, First Day (2007-2008)\n",
            "   [Found] Dietary Interview - Individual Foods, Second Day (2007-2008)\n",
            "   [Found] Dietary Interview - Total Nutrient Intakes, First Day (2007-2008)\n",
            "   [Found] Dietary Interview - Total Nutrient Intakes, Second Day (2007-2008)\n",
            "   [Found] Dietary Interview Technical Support File - Food Codes (2007-2008)\n",
            "   [Found] Dietary Interview Technical Support File - Modification Codes (2007-2008)\n",
            "   [Found] Dietary Supplement Use 24-Hour - Individual Dietary Supplements, First Day (2007-2008)\n",
            "   [Found] Dietary Supplement Use 24-Hour - Individual Dietary Supplements, Second Day (2007-2008)\n",
            "   [Found] Dietary Supplement Use 24-Hour - Total Dietary Supplements, First Day (2007-2008)\n",
            "   [Found] Dietary Supplement Use 24-Hour - Total Dietary Supplements, Second Day (2007-2008)\n",
            "   [Found] Dietary Supplement Use 30 Day - Individual Dietary Supplements (2007-2008)\n",
            "   [Found] Dietary Supplement Use 30-Day - Total Dietary Supplements (2007-2008)\n",
            "   [Found] Audiometry (2007-2008)\n",
            "   [Found] Audiometry - Acoustic Reflex (2007-2008)\n",
            "   [Found] Audiometry - Tympanometry (2007-2008)\n",
            "   [Found] Blood Pressure (2007-2008)\n",
            "   [Found] Body Measures (2007-2008)\n",
            "   [Found] Dual Energy X-ray Absorptiometry - Femur (2007-2008)\n",
            "   [Found] Dual Energy X-ray Absorptiometry - Spine (2007-2008)\n",
            "   [Found] Exhaled Nitric Oxide (2007-2008)\n",
            "   [Found] Ophthalmology - Frequency Doubling Technology (2007-2008)\n",
            "   [Found] Ophthalmology - Retinal Imaging (2007-2008)\n",
            "   [Found] Oral Health (2007-2008)\n",
            "   [Found] Spirometry - Pre and Post-Bronchodilator (2007-2008)\n",
            "   [Found] Spirometry - Raw Curve Data (2007-2008)\n",
            "   [Found] Vision (2007-2008)\n",
            "   [Found] Albumin & Creatinine - Urine (2007-2008)\n",
            "   [Found] Apolipoprotein B (2007-2008)\n",
            "   [Found] Arsenics - Total & Speciated - Urine (2007-2008)\n",
            "   [Found] Atrazine and Metabolites (2007-2008)\n",
            "   [Found] Brominated Flame Retardants (BFRs) - Pooled Samples (2007-2008)\n",
            "   [Found] Cadmium, Lead, & Total Mercury - Blood (2007-2008)\n",
            "   [Found] Chlamydia & Gonorrhea - Urine (2007-2008)\n",
            "   [Found] Cholesterol - HDL (2007-2008)\n",
            "   [Found] Cholesterol - LDL & Triglycerides (2007-2008)\n",
            "   [Found] Cholesterol - Total (2007-2008)\n",
            "   [Found] Complete Blood Count with 5-part Differential - Whole Blood (2007-2008)\n",
            "   [Found] Cotinine - Serum & Total NNAL - Urine (2007-2008)\n",
            "   [Found] C-Reactive Protein (CRP) (2007-2008)\n",
            "   [Found] DEET and Metabolites (2007-2008)\n",
            "   [Found] Enterovirus D68 (EV-D68) - Serum (Surplus) (2007-2008)\n",
            "   [Found] Environmental Phenols (2007-2008)\n",
            "   [Found] Epstein-Barr Virus (VCA IgG) - Serum (Surplus) (2007-2008)\n",
            "   [Found] Fasting Questionnaire (2007-2008)\n",
            "   [Found] Ferritin (2007-2008)\n",
            "   [Found] Folate - RBC & Serum (2007-2008)\n",
            "   [Found] Folate Forms - Individual - Serum (2007-2008)\n",
            "   [Found] Glycohemoglobin (2007-2008)\n",
            "   [Found] Hepatitis A Antibody (2007-2008)\n",
            "   [Found] Hepatitis B Surface Antibody (2007-2008)\n",
            "   [Found] Hepatitis B: Core Antibody, Surface Antigen; Hepatitis D Antibody (2007-2008)\n",
            "   [Found] Hepatitis C: Confirmed Antibody, RNA (HCV-RNA), & Genotype (2007-2008)\n",
            "   [Found] Herpes Simplex Virus Type-1 & Type-2 (2007-2008)\n",
            "   [Found] HIV Antibody Test (2007-2008)\n",
            "   [Found] Human Papillomavirus (HPV) - 6, 11, 16 & 18 Antibody – Serum: 4-plex CLIA (2007-2008)\n",
            "   [Found] Human Papillomavirus (HPV) DNA - Vaginal Swab: Digene Hybrid Capture & Roche Linear Array (2007-2008)\n",
            "   [Found] Iodine - Urine (2007-2008)\n",
            "   [Found] Klotho - Serum (Surplus) (2007-2008)\n",
            "   [Found] Mercury: Inorganic - Blood (2007-2008)\n",
            "   [Found] Mercury: Inorganic - Urine (2007-2008)\n",
            "   [Found] Metals - Urine (2007-2008)\n",
            "   [Found] Non-dioxin-like Polychlorinated Biphenyls & Mono-ortho-substituted Polychlorinated Biphenyls - Pooled Samples (2007-2008)\n",
            "   [Found] Oral Glucose Tolerance Test (2007-2008)\n",
            "   [Found] Organophosphate Insecticides - Diakyl Phosphate Metabolites - Urine (2007-2008)\n",
            "   [Found] Perchlorate, Nitrate & Thiocyanate - Urine (2007-2008)\n",
            "   [Found] Pesticides - Carbamates & Organophosphorus Metabolites - Urine (2007-2008)\n",
            "   [Found] Pesticides - Current Use - Urine (Formerly Priority Pesticides, Non-persistent Pesticide Metabolites) (2007-2008)\n",
            "   [Found] Pesticides - Environmental - Urine (2007-2008)\n",
            "   [Found] Pesticides - Organochlorine Pesticides - Pooled Samples (2007-2008)\n",
            "   [Found] Phthalates - Urine (2007-2008)\n",
            "   [Found] Phytoestrogens - Urine (2007-2008)\n",
            "   [Found] Plasma Fasting Glucose & Insulin (2007-2008)\n",
            "   [Found] Polyaromatic Hydrocarbons (PAHs) - Urine (2007-2008)\n",
            "   [Found] Polychlorinated dibenzo-p-dioxins (PCDDs), Dibenzofurans (PCDFs) & Coplanar Polychlorinated Biphenyls (cPCBs) - Pooled Samples (2007-2008)\n",
            "   [Found] Polyfluoroalkyl Chemicals (2007-2008)\n",
            "   [Found] Pooled-Sample Technical Support File (2007-2008)\n",
            "   [Found] Pregnancy Test - Urine (2007-2008)\n",
            "   [Found] Prostate Specific Antigen (PSA) (2007-2008)\n",
            "   [Found] Pyrethroids, Herbicides, & OP Metabolites - Urine (2007-2008)\n",
            "   [Found] Standard Biochemistry Profile (2007-2008)\n",
            "   [Found] Thyroid Profile (2007-2008)\n",
            "   [Found] Transferrin Receptor (2007-2008)\n",
            "   [Found] Urine Specific Gravity Measurement (Surplus) (2007-2008)\n",
            "   [Found] Vitamin B6 (2007-2008)\n",
            "   [Found] Vitamin D (2007-2008)\n",
            "   [Found] Volatile Organic Compounds - Blood & Related Questionnaire Items (2007-2008)\n",
            "   [Found] Volatile Organic Compounds - Trihalomethanes/MTBE/Nitromethane - Blood (2007-2008)\n",
            "   [Found] Volatile Organic Compounds - Water & Related Questionnaire Items (2007-2008)\n",
            "   [Found] Acculturation (2007-2008)\n",
            "   [Found] Air Quality (2007-2008)\n",
            "   [Found] Alcohol Use (2007-2008)\n",
            "   [Found] Audiometry (2007-2008)\n",
            "   [Found] Blood Pressure & Cholesterol (2007-2008)\n",
            "   [Found] Bowel Health (2007-2008)\n",
            "   [Found] Cardiovascular Health (2007-2008)\n",
            "   [Found] Consumer Behavior (2007-2008)\n",
            "   [Found] Consumer Behavior Phone Follow-up Module - Adult (2007-2008)\n",
            "   [Found] Consumer Behavior Phone Follow-up Module - Child (2007-2008)\n",
            "   [Found] Current Health Status (2007-2008)\n",
            "   [Found] Diabetes (2007-2008)\n",
            "   [Found] Diet Behavior & Nutrition (2007-2008)\n",
            "   [Found] Drug Use (2007-2008)\n",
            "   [Found] Early Childhood (2007-2008)\n",
            "   [Found] Food Security (2007-2008)\n",
            "   [Found] Health Insurance (2007-2008)\n",
            "   [Found] Hepatitis C Follow Up (2007-2008)\n",
            "   [Found] Hospital Utilization & Access to Care (2007-2008)\n",
            "   [Found] Housing Characteristics (2007-2008)\n",
            "   [Found] Immunization (2007-2008)\n",
            "   [Found] Income (2007-2008)\n",
            "   [Found] Kidney Conditions - Urology (2007-2008)\n",
            "   [Found] Medical Conditions (2007-2008)\n",
            "   [Found] Mental Health - Depression Screener (2007-2008)\n",
            "   [Found] Occupation (2007-2008)\n",
            "   [Found] Oral Health (2007-2008)\n",
            "   [Found] Osteoporosis (2007-2008)\n",
            "   [Found] Pesticide Use (2007-2008)\n",
            "   [Found] Physical Activity (2007-2008)\n",
            "   [Found] Physical Functioning (2007-2008)\n",
            "   [Found] Prescription Medications (2007-2008)\n",
            "   [Found] Prostate Conditions (2007-2008)\n",
            "   [Found] Reproductive Health (2007-2008)\n",
            "   [Found] Respiratory Health (2007-2008)\n",
            "   [Found] Sexual Behavior (2007-2008)\n",
            "   [Found] Sleep Disorders (2007-2008)\n",
            "   [Found] Smoking - Cigarette Use (2007-2008)\n",
            "   [Found] Smoking - Household Smokers (2007-2008)\n",
            "   [Found] Smoking - Recent Tobacco Use (2007-2008)\n",
            "   [Found] Social Support (2007-2008)\n",
            "   [Found] Vision (2007-2008)\n",
            "   [Found] Weight History (2007-2008)\n",
            "   [Found] Weight History - Youth (2007-2008)\n"
          ]
        },
        {
          "output_type": "stream",
          "name": "stderr",
          "text": [
            "\rCrawling NHANES cycles:  69%|██████▉   | 9/13 [01:21<00:35,  8.85s/it]"
          ]
        },
        {
          "output_type": "stream",
          "name": "stdout",
          "text": [
            "\n",
            "🔹 Scanning cycle: NHANES 2005-2006\n",
            "   [Found] Demographic Variables & Sample Weights (2005-2006)\n",
            "   [Added] Demographics dataset for NHANES 2005-2006\n",
            "   [Found] Dietary Interview - Individual Foods, First Day (2005-2006)\n",
            "   [Found] Dietary Interview - Individual Foods, Second Day (2005-2006)\n",
            "   [Found] Dietary Interview - Total Nutrient Intakes, First Day (2005-2006)\n",
            "   [Found] Dietary Interview - Total Nutrient Intakes, Second Day (2005-2006)\n",
            "   [Found] Dietary Interview Technical Support File - Food Codes (2005-2006)\n",
            "   [Found] Dietary Interview Technical Support File - Modification Codes (2005-2006)\n",
            "   [Found] Dietary Supplement Use 30-Day - File 1, Supplement Counts (2005-2006)\n",
            "   [Found] Dietary Supplement Use 30-Day - File 2, Participant's Use of Supplements (2005-2006)\n",
            "   [Found] Food Frequency Questionnaire - Look-Up Table FOODLOOK (2005-2006)\n",
            "   [Found] Food Frequency Questionnaire - Look-Up Table VARLOOK (2005-2006)\n",
            "   [Found] Food Frequency Questionnaire - Output from DietCalc Software (2005-2006)\n",
            "   [Found] Food Frequency Questionnaire - Raw Questionnaire Responses (2005-2006)\n",
            "   [Found] Audiometry (2005-2006)\n",
            "   [Found] Audiometry - Acoustic Reflex (2005-2006)\n",
            "   [Found] Audiometry - Tympanometry (2005-2006)\n",
            "   [Found] Blood Pressure (2005-2006)\n",
            "   [Found] Body Measures (2005-2006)\n",
            "   [Found] Dual Energy X-ray Absorptiometry - Android/Gynoid (2005-2006)\n",
            "   [Found] Dual Energy X-ray Absorptiometry - Femur (2005-2006)\n",
            "   [Found] Dual Energy X-ray Absorptiometry - Spine (2005-2006)\n",
            "   [Found] Ophthalmology - Frequency Doubling Technology (2005-2006)\n",
            "   [Found] Ophthalmology - Retinal Imaging (2005-2006)\n",
            "   [Found] Oral Health (2005-2006)\n",
            "   [Found] Physical Activity Monitor (2005-2006)\n",
            "   [Found] Vision (2005-2006)\n",
            "   [Found] Acrylamide & Glycidamide (2005-2006)\n",
            "   [Found] Albumin & Creatinine - Urine (2005-2006)\n",
            "   [Found] Allergen Specific IgE(s) & Total IgE - Serum (2005-2006)\n",
            "   [Found] Allergens - Household Dust (2005-2006)\n",
            "   [Found] Arsenics - Total & Speciated - Urine (2005-2006)\n",
            "   [Found] Brominated Flame Retardants (BFRs) - Pooled Samples (2005-2006)\n",
            "   [Found] Cadmium, Lead, & Total Mercury - Blood (2005-2006)\n",
            "   [Found] Chlamydia & Gonorrhea - Urine (2005-2006)\n",
            "   [Found] Cholesterol - HDL (2005-2006)\n",
            "   [Found] Cholesterol - LDL, Triglyceride & Apoliprotein (ApoB) (2005-2006)\n",
            "   [Found] Cholesterol - Total (2005-2006)\n",
            "   [Found] Complete Blood Count with 5-Part Differential - Whole Blood (2005-2006)\n",
            "   [Found] Cotinine - Serum (2005-2006)\n",
            "   [Found] C-Reactive Protein (CRP) (2005-2006)\n",
            "   [Found] Enterovirus D68 (EV-D68) - Serum (Surplus) (2005-2006)\n",
            "   [Found] Environmental Phenols & Parabens (2005-2006)\n",
            "   [Found] Epstein-Barr Virus (VCA IgG) - Serum (Surplus) (2005-2006)\n",
            "   [Found] Erythrocyte Protoporphyrin (2005-2006)\n",
            "   [Found] Fasting Questionnaire (2005-2006)\n",
            "   [Found] Ferritin (2005-2006)\n",
            "   [Found] Folate - RBC & Serum (2005-2006)\n",
            "   [Found] Glycohemoglobin (2005-2006)\n",
            "   [Found] Hepatitis A Antibody (2005-2006)\n",
            "   [Found] Hepatitis B Surface Antibody (2005-2006)\n",
            "   [Found] Hepatitis B: Core Antibody, Surface Antigen; Hepatitis D Antibody (2005-2006)\n",
            "   [Found] Hepatitis C: Confirmed Antibody, RNA (HCV-RNA), & Genotype (2005-2006)\n",
            "   [Found] Herpes Simplex Virus Type-1 & Type-2 (2005-2006)\n",
            "   [Found] HIV Antibody Test, CD4+ T Lymphocytes & CD8+ T Cells (2005-2006)\n",
            "   [Found] Homocysteine (2005-2006)\n",
            "   [Found] Human Papillomavirus (HPV) - 6, 11, 16 & 18 Antibody – Serum: 4-plex CLIA (2005-2006)\n",
            "   [Found] Human Papillomavirus (HPV) - Multiplexed 6, 11, 16, 18, 31, 33, 45, 52 & 58 Antibody – Serum: 9-plex CLIA (2005-2006)\n",
            "   [Found] Human Papillomavirus (HPV) DNA - Vaginal Swab: Digene Hybrid Capture & Roche Linear Array (2005-2006)\n",
            "   [Found] Iodine - Urine (2005-2006)\n",
            "   [Found] Iron, Total Iron Binding Capacity (TIBC), & Transferrin Saturation (2005-2006)\n",
            "   [Found] Mercury: Inorganic - Blood (2005-2006)\n",
            "   [Found] Mercury: Inorganic - Urine (2005-2006)\n",
            "   [Found] Metals - Urine (2005-2006)\n",
            "   [Found] Non-dioxin-like Polychlorinated Biphenyls & Mono-ortho-substituted Polychlorinated Biphenyls - Pooled Samples (2005-2006)\n",
            "   [Found] Oral Glucose Tolerance Test (2005-2006)\n",
            "   [Found] Organophosphate Insecticides - Diakyl Phosphate Metabolites - Urine (2005-2006)\n",
            "   [Found] Parathyroid Hormone (2005-2006)\n",
            "   [Found] Perchlorate, Nitrate & Iodide - Tap Water (2005-2006)\n",
            "   [Found] Perchlorate, Nitrate & Thiocyanate - Urine (2005-2006)\n",
            "   [Found] Pesticides - Carbamates & Organophosphorus Metabolites - Urine (2005-2006)\n",
            "   [Found] Pesticides - Current Use - Urine (Formerly Priority Pesticides, Non-persistent Pesticide Metabolites) (2005-2006)\n",
            "   [Found] Pesticides - Environmental - Urine (2005-2006)\n",
            "   [Found] Pesticides - Organochlorine Pesticides - Pooled Samples (2005-2006)\n",
            "   [Found] Phthalates - Urine (2005-2006)\n",
            "   [Found] Phytoestrogens - Urine (2005-2006)\n",
            "   [Found] Plasma Fasting Glucose & Insulin (2005-2006)\n",
            "   [Found] Polyaromatic Hydrocarbons (PAHs) - Urine (2005-2006)\n",
            "   [Found] Polychlorinated dibenzo-p-dioxins (PCDDs), Dibenzofurans (PCDFs) & Coplanar Polychlorinated Biphenyls (cPCBs)  - Pooled Samples (2005-2006)\n",
            "   [Found] Polyfluoroalkyl Chemicals (2005-2006)\n",
            "   [Found] Pooled-Sample Technical Support File (2005-2006)\n",
            "   [Found] Pregnancy Test - Urine (2005-2006)\n",
            "   [Found] Prostate Specific Antigen (PSA) (2005-2006)\n",
            "   [Found] Salmonella & Campylobacter Antibodies (Surplus) (2005-2006)\n",
            "   [Found] Standard Biochemistry Profile (2005-2006)\n",
            "   [Found] Transferrin Receptor (2005-2006)\n",
            "   [Found] Vitamin A, Vitamin E & Carotenoids (2005-2006)\n",
            "   [Found] Vitamin B12 (2005-2006)\n",
            "   [Found] Vitamin B6 (2005-2006)\n",
            "   [Found] Vitamin C (2005-2006)\n",
            "   [Found] Vitamin D (2005-2006)\n",
            "   [Found] Volatile Organic Compound (VOC) Metabolites - Urine (Surplus) (2005-2006)\n",
            "   [Found] Volatile Organic Compounds - Blood & Related Questionnaire Items (2005-2006)\n",
            "   [Found] Volatile Organic Compounds - Water & Related Questionnaire Items (2005-2006)\n",
            "   [Found] Acculturation (2005-2006)\n",
            "   [Found] Alcohol Use (2005-2006)\n",
            "   [Found] Allergy (2005-2006)\n",
            "   [Found] Audiometry (2005-2006)\n",
            "   [Found] Blood Pressure & Cholesterol (2005-2006)\n",
            "   [Found] Bowel Health (2005-2006)\n",
            "   [Found] Cardiovascular Health (2005-2006)\n",
            "   [Found] Current Health Status (2005-2006)\n",
            "   [Found] Dermatology (2005-2006)\n",
            "   [Found] Diabetes (2005-2006)\n",
            "   [Found] Diet Behavior & Nutrition (2005-2006)\n",
            "   [Found] Drug Use (2005-2006)\n",
            "   [Found] Early Childhood (2005-2006)\n",
            "   [Found] Food Security (2005-2006)\n",
            "   [Found] Health Insurance (2005-2006)\n",
            "   [Found] Hepatitis C Follow Up (2005-2006)\n",
            "   [Found] Hospital Utilization & Access to Care (2005-2006)\n",
            "   [Found] Housing Characteristics (2005-2006)\n",
            "   [Found] Immunization (2005-2006)\n",
            "   [Found] Kidney Conditions - Urology (2005-2006)\n",
            "   [Found] Medical Conditions (2005-2006)\n",
            "   [Found] Mental Health - Depression Screener (2005-2006)\n",
            "   [Found] Occupation (2005-2006)\n",
            "   [Found] Oral Health (2005-2006)\n",
            "   [Found] Osteoporosis (2005-2006)\n",
            "   [Found] Pesticide Use (2005-2006)\n",
            "   [Found] Physical Activity (2005-2006)\n",
            "   [Found] Physical Activity - Individual Activities (2005-2006)\n",
            "   [Found] Physical Functioning (2005-2006)\n",
            "   [Found] Prescription Medications (2005-2006)\n",
            "   [Found] Prostate Conditions (2005-2006)\n",
            "   [Found] Prostate Specific Antigen Follow-up (2005-2006)\n",
            "   [Found] Reproductive Health (2005-2006)\n",
            "   [Found] Respiratory Health (2005-2006)\n",
            "   [Found] Sexual Behavior (2005-2006)\n",
            "   [Found] Sleep Disorders (2005-2006)\n",
            "   [Found] Smoking - Cigarette Use (2005-2006)\n",
            "   [Found] Smoking - Household Smokers (2005-2006)\n",
            "   [Found] Smoking - Recent Tobacco Use (2005-2006)\n",
            "   [Found] Social Support (2005-2006)\n",
            "   [Found] Vision (2005-2006)\n",
            "   [Found] Weight History (2005-2006)\n",
            "   [Found] Weight History - Youth (2005-2006)\n"
          ]
        },
        {
          "output_type": "stream",
          "name": "stderr",
          "text": [
            "\rCrawling NHANES cycles:  77%|███████▋  | 10/13 [01:30<00:26,  8.83s/it]"
          ]
        },
        {
          "output_type": "stream",
          "name": "stdout",
          "text": [
            "\n",
            "🔹 Scanning cycle: NHANES 2003-2004\n",
            "   [Found] Demographic Variables & Sample Weights (2003-2004)\n",
            "   [Added] Demographics dataset for NHANES 2003-2004\n",
            "   [Found] Dietary Interview - Individual Foods, First Day (2003-2004)\n",
            "   [Found] Dietary Interview - Individual Foods, Second Day (2003-2004)\n",
            "   [Found] Dietary Interview - Total Nutrient Intakes, First Day (2003-2004)\n",
            "   [Found] Dietary Interview - Total Nutrient Intakes, Second Day (2003-2004)\n",
            "   [Found] Dietary Interview Technical Support File - Food Codes (2003-2004)\n",
            "   [Found] Dietary Interview Technical Support File - Modification Codes (2003-2004)\n",
            "   [Found] Dietary Supplement Use 30-Day - File 1, Supplement Counts (2003-2004)\n",
            "   [Found] Dietary Supplement Use 30-Day - File 2, Participant's Use of Supplements (2003-2004)\n",
            "   [Found] Food Frequency Questionnaire - Look-Up Table FOODLOOK (2003-2004)\n",
            "   [Found] Food Frequency Questionnaire - Look-Up Table VARLOOK (2003-2004)\n",
            "   [Found] Food Frequency Questionnaire - Output from DietCalc Software (2003-2004)\n",
            "   [Found] Food Frequency Questionnaire - Raw Questionnaire Responses (2003-2004)\n",
            "   [Found] Audiometry (2003-2004)\n",
            "   [Found] Audiometry - Acoustic Reflex (2003-2004)\n",
            "   [Found] Audiometry - Tympanometry (2003-2004)\n",
            "   [Found] Balance (2003-2004)\n",
            "   [Found] Bioelectrical Impedance Analysis (2003-2004)\n",
            "   [Found] Blood Pressure (2003-2004)\n",
            "   [Found] Body Measures (2003-2004)\n",
            "   [Found] Cardiovascular Fitness (2003-2004)\n",
            "   [Found] Dermatology (2003-2004)\n",
            "   [Found] Dual Energy X-ray Absorptiometry - Android/Gynoid (2003-2004)\n",
            "   [Found] Lower Extremity Disease - Ankle Brachial Blood Pressure Index (2003-2004)\n",
            "   [Found] Lower Extremity Disease - Peripheral Neuropathy (2003-2004)\n",
            "   [Found] Oral Health - Addendum (2003-2004)\n",
            "   [Found] Oral Health - Dentition (2003-2004)\n",
            "   [Found] Oral Health - Periodontal/Lower (2003-2004)\n",
            "   [Found] Oral Health - Periodontal/Upper (2003-2004)\n",
            "   [Found] Oral Health - Recommendation of Care (2003-2004)\n",
            "   [Found] Physical Activity Monitor (2003-2004)\n",
            "   [Found] Vision (2003-2004)\n",
            "   [Found] Acrylamide & Glycidamide (2003-2004)\n",
            "   [Found] Albumin & Creatinine - Urine (2003-2004)\n",
            "   [Found] Anti-Mullerian Hormone (AMH) & Inhibin-B (Surplus) (2003-2004)\n",
            "   [Found] Arsenics - Total & Speciated - Urine (2003-2004)\n",
            "   [Found] Bacterial vaginosis (BV) & Trichomonas vaginalis (2003-2004)\n",
            "   [Found] Brominated Flame Retardants (BFRs) (2003-2004)\n",
            "   [Found] Cadmium, Lead, & Total Mercury - Blood (2003-2004)\n",
            "   [Found] Chlamydia & Gonorrhea - Urine (2003-2004)\n",
            "   [Found] Cholesterol - LDL & Triglycerides (2003-2004)\n",
            "   [Found] Cholesterol - Total & HDL (2003-2004)\n",
            "   [Found] Complete Blood Count with 5-part Differential - Whole Blood (2003-2004)\n",
            "   [Found] Cotinine - Serum (2003-2004)\n",
            "   [Found] Coxiella Burnetii (Q Fever) Antibodies - Serum (Surplus) (2003-2004)\n",
            "   [Found] C-Reactive Protein (CRP), Bone Alkaline Phosphatase (BAP) & Parathyroid Hormone (PTH) (2003-2004)\n",
            "   [Found] Cytomegalovirus Antibodies - Serum (Surplus) (2003-2004)\n",
            "   [Found] Dioxins, Furans, & Coplanar PCBs (2003-2004)\n",
            "   [Found] Enterovirus D68 (EV-D68) - Serum (Surplus) (2003-2004)\n",
            "   [Found] Environmental Phenols (2003-2004)\n",
            "   [Found] Epstein-Barr Virus (VCA IgG) - Serum (Surplus) (2003-2004)\n",
            "   [Found] Erythrocyte Protoporphyrin & Selenium (2003-2004)\n",
            "   [Found] Fasting Questionnaire (2003-2004)\n",
            "   [Found] Fatty Acids - Plasma (Surplus) (2003-2004)\n",
            "   [Found] Ferritin & Transferrin Receptor (2003-2004)\n",
            "   [Found] Folate - RBC & Serum, and Vitamin B12 (2003-2004)\n",
            "   [Found] Glycohemoglobin (2003-2004)\n",
            "   [Found] Hepatitis A Antibody (2003-2004)\n",
            "   [Found] Hepatitis B Surface Antibody (2003-2004)\n",
            "   [Found] Hepatitis B: Core Antibody & Surface Antigen; Hepatitis C: Confirmed Antibody & RNA (HCV-RNA); Hepatitis D Antibody (2003-2004)\n",
            "   [Found] Hepatitis C RNA (HCV-RNA) & HCV Genotype (Surplus) (2003-2004)\n",
            "   [Found] Herpes Simplex Virus Type-1 & Type-2 (2003-2004)\n",
            "   [Found] HIV Antibody Test, CD4+ T Lymphocytes & CD8+ T Cells (2003-2004)\n",
            "   [Found] Human Papillomavirus (HPV) - 6, 11, 16 & 18 Antibody - Serum: 4-plex CLIA (2003-2004)\n",
            "   [Found] Human Papillomavirus (HPV) DNA - Vaginal Swab: Digene Hybrid Capture & Prototype Line Blot Assay (2003-2004)\n",
            "   [Found] Human Papillomavirus (HPV) DNA - Vaginal Swab: Roche Linear Array (2003-2004)\n",
            "   [Found] Iodine - Urine (2003-2004)\n",
            "   [Found] Iron, Total Iron Binding Capacity (TIBC), & Transferrin Saturation (2003-2004)\n",
            "   [Found] Lead - Dust (2003-2004)\n",
            "   [Found] Measles, Rubella, & Varicella (2003-2004)\n",
            "   [Found] Melamine - Urine (Surplus) (2003-2004)\n",
            "   [Found] Mercury: Inorganic - Urine (2003-2004)\n",
            "   [Found] Metals - Urine (2003-2004)\n",
            "   [Found] Methicillin - Resistant Staphylococcus aureus (MRSA) (2003-2004)\n",
            "   [Found] Methylmalonic acid & Homocysteine (2003-2004)\n",
            "   [Found] Monoclonal gammopathy of undetermined significance (MGUS) (Surplus) (2003-2004)\n",
            "   [Found] Mumps Antibody - Serum (Surplus) (2003-2004)\n",
            "   [Found] Non-dioxin-like Polychlorinated Biphenyls (2003-2004)\n",
            "   [Found] Norovirus antibody - Serum (2003-2004)\n",
            "   [Found] Organophosphate Insecticides - Diakyl Phosphate Metabolites - Urine (2003-2004)\n",
            "   [Found] Perchlorate - Urine (2003-2004)\n",
            "   [Found] Pesticides - Current Use - Urine (Formerly Priority Pesticides, Non-persistent Pesticide Metabolites) (2003-2004)\n",
            "   [Found] Pesticides - Environmental - Urine (2003-2004)\n",
            "   [Found] Pesticides - Organochlorine Metabolites - Serum (Surplus) (2003-2004)\n",
            "   [Found] Phthalates - Urine (2003-2004)\n",
            "   [Found] Phytoestrogens - Urine (2003-2004)\n",
            "   [Found] Plasma Fasting Glucose, Serum C-peptide & Insulin (2003-2004)\n",
            "   [Found] Polyaromatic Hydrocarbons (PAHs) - Urine (2003-2004)\n",
            "   [Found] Polyfluoroalkyl Chemicals (2003-2004)\n",
            "   [Found] Pregnancy Test - Urine (2003-2004)\n",
            "   [Found] Prostate Specific Antigen (PSA) (2003-2004)\n",
            "   [Found] Sex Steroid Hormone - Men (Surplus) (2003-2004)\n",
            "   [Found] Standard Biochemistry Profile (2003-2004)\n",
            "   [Found] Syphilis-IgG, Syphilis Rapid Plasma Reagin (RPR) & Treponema pallidum Particle Agglutination (TP-PA) (2003-2004)\n",
            "   [Found] Toxoplasma (IgG) & Toxoplasma (IgM) (2003-2004)\n",
            "   [Found] Varicella-Zoster Virus Antibody (Surplus) (2003-2004)\n",
            "   [Found] Vitamin A, Vitamin E & Carotenoids (2003-2004)\n",
            "   [Found] Vitamin B6 (2003-2004)\n",
            "   [Found] Vitamin C (2003-2004)\n",
            "   [Found] Vitamin D (2003-2004)\n",
            "   [Found] Volatile Organic Compounds - Blood, Water, & Related Questionnaire Items (2003-2004)\n",
            "   [Found] Acculturation (2003-2004)\n",
            "   [Found] Alcohol Use (2003-2004)\n",
            "   [Found] Analgesic Pain Relievers (2003-2004)\n",
            "   [Found] Audiometry (2003-2004)\n",
            "   [Found] Balance (2003-2004)\n",
            "   [Found] Blood Pressure & Cholesterol (2003-2004)\n",
            "   [Found] Cardiovascular Health (2003-2004)\n",
            "   [Found] Current Health Status (2003-2004)\n",
            "   [Found] Dermatology (2003-2004)\n",
            "   [Found] Diabetes (2003-2004)\n",
            "   [Found] Diet Behavior & Nutrition (2003-2004)\n",
            "   [Found] Drug Use (2003-2004)\n",
            "   [Found] Early Childhood (2003-2004)\n",
            "   [Found] Food Security (2003-2004)\n",
            "   [Found] Health Insurance (2003-2004)\n",
            "   [Found] Hepatitis C Follow Up (2003-2004)\n",
            "   [Found] Hospital Utilization & Access to Care (2003-2004)\n",
            "   [Found] Housing Characteristics (2003-2004)\n",
            "   [Found] Immunization (2003-2004)\n",
            "   [Found] Kidney Conditions - Urology (2003-2004)\n",
            "   [Found] Medical Conditions (2003-2004)\n",
            "   [Found] Mental Health - Depression (2003-2004)\n",
            "   [Found] Mental Health - Generalized Anxiety Disorder (2003-2004)\n",
            "   [Found] Mental Health - Panic Disorder (2003-2004)\n",
            "   [Found] Miscellaneous Pain (2003-2004)\n",
            "   [Found] Occupation (2003-2004)\n",
            "   [Found] Oral Health (2003-2004)\n",
            "   [Found] Osteoporosis (2003-2004)\n",
            "   [Found] Pesticide Use (2003-2004)\n",
            "   [Found] Physical Activity (2003-2004)\n",
            "   [Found] Physical Activity - Individual Activities (2003-2004)\n",
            "   [Found] Physical Functioning (2003-2004)\n",
            "   [Found] Prescription Medications (2003-2004)\n",
            "   [Found] Prostate Conditions (2003-2004)\n",
            "   [Found] Prostate Specific Antigen Follow-up (2003-2004)\n",
            "   [Found] Reproductive Health (2003-2004)\n",
            "   [Found] Respiratory Health (2003-2004)\n",
            "   [Found] Sexual Behavior (2003-2004)\n",
            "   [Found] Smoking - Adult Recent Tobacco Use & Youth Cigarette/Tobacco Use (2003-2004)\n",
            "   [Found] Smoking - Cigarette/Tobacco Use - Adult (2003-2004)\n",
            "   [Found] Smoking - Household Smokers (2003-2004)\n",
            "   [Found] Social Support (2003-2004)\n",
            "   [Found] Vision (2003-2004)\n",
            "   [Found] Weight History (2003-2004)\n"
          ]
        },
        {
          "output_type": "stream",
          "name": "stderr",
          "text": [
            "\rCrawling NHANES cycles:  85%|████████▍ | 11/13 [01:39<00:17,  8.88s/it]"
          ]
        },
        {
          "output_type": "stream",
          "name": "stdout",
          "text": [
            "\n",
            "🔹 Scanning cycle: NHANES 2001-2002\n",
            "   [Found] Demographic Variables & Sample Weights (2001-2002)\n",
            "   [Added] Demographics dataset for NHANES 2001-2002\n",
            "   [Found] Dietary Interview - Individual Foods (2001-2002)\n",
            "   [Found] Dietary Interview - Total Nutrient Intakes (2001-2002)\n",
            "   [Found] Dietary Interview Technical Support File - Food Code Format File (2001-2002)\n",
            "   [Found] Dietary Supplement Use 30-Day - File 1, Supplement Counts (2001-2002)\n",
            "   [Found] Dietary Supplement Use 30-Day - File 2, Participant's Use of Supplements (2001-2002)\n",
            "   [Found] Audiometry (2001-2002)\n",
            "   [Found] Audiometry - Acoustic Reflex (2001-2002)\n",
            "   [Found] Audiometry - Tympanometry (2001-2002)\n",
            "   [Found] Balance (2001-2002)\n",
            "   [Found] Bioelectrical Impedance Analysis (2001-2002)\n",
            "   [Found] Blood Pressure (2001-2002)\n",
            "   [Found] Body Measures (2001-2002)\n",
            "   [Found] Cardiovascular Fitness (2001-2002)\n",
            "   [Found] Dual-Energy X-ray Absorptiometry - Whole Body, Second Exam (2001-2002)\n",
            "   [Found] Lower Extremity Disease - Ankle Brachial Blood Pressure Index (2001-2002)\n",
            "   [Found] Lower Extremity Disease - Peripheral Neuropathy (2001-2002)\n",
            "   [Found] Muscle Strength (2001-2002)\n",
            "   [Found] Oral Health - Dentition (2001-2002)\n",
            "   [Found] Oral Health - Periodontal/Lower (2001-2002)\n",
            "   [Found] Oral Health - Periodontal/Upper (2001-2002)\n",
            "   [Found] Oral Health - Recommendation of Care (2001-2002)\n",
            "   [Found] Vision (2001-2002)\n",
            "   [Found] Albumin & Creatinine - Urine (2001-2002)\n",
            "   [Found] Anti-Mullerian Hormone (AMH) & Inhibin-B (Surplus) (2001-2002)\n",
            "   [Found] Bacterial vaginosis (BV) & Trichomonas vaginalis (2001-2002)\n",
            "   [Found] Brominated Flame Retardants (BFRs) - Pooled Samples (Surplus) (2001-2002)\n",
            "   [Found] Cadmium, Lead, Mercury, Cotinine & Nutritional Biochemistries (2001-2002)\n",
            "   [Found] Cadmium, Lead, Total Mercury, Ferritin, Serum Folate, RBC Folate, Vitamin B12, Homocysteine, Methylmalonic acid, Cotinine - Blood, Second Exam (2001-2002)\n",
            "   [Found] Caffeine & Caffeine Metabolites - Urine (Surplus) (2001-2002)\n",
            "   [Found] Cancer antigen CA125 and CA15.3 - Serum (Surplus) (2001-2002)\n",
            "   [Found] Cancer antigen CA125, CA15.3 and HE4 IgG antibodies - Serum (Surplus) (2001-2002)\n",
            "   [Found] Chlamydia & Gonorrhea - Urine (2001-2002)\n",
            "   [Found] Cholesterol - LDL & Triglycerides (2001-2002)\n",
            "   [Found] Cholesterol - Total & HDL (2001-2002)\n",
            "   [Found] Cholesterol - Total, HDL, LDL  & Triglycerides, Second Exam (2001-2002)\n",
            "   [Found] Complete Blood Count with 5-part Differential - Whole Blood (2001-2002)\n",
            "   [Found] Complete Blood Count with 5-part Differential - Whole Blood, Second Exam (2001-2002)\n",
            "   [Found] C-Reactive Protein & Others, Second Exam (2001-2002)\n",
            "   [Found] C-Reactive protein (CRP), Fibrinogen, Bone Alkaline Phosphatase & Urinary N-telopeptides (2001-2002)\n",
            "   [Found] Creatinine & Albumin - Urine, Second Exam (2001-2002)\n",
            "   [Found] Cystatin C (Surplus) (2001-2002)\n",
            "   [Found] Cytomegalovirus Antibodies - Serum (Surplus) (2001-2002)\n",
            "   [Found] Dioxins, Furans, & Coplanar PCBs (2001-2002)\n",
            "   [Found] Enterovirus D68 (EV-D68) - Serum (Surplus) (2001-2002)\n",
            "   [Found] Erythrocyte Protoporphyrin (2001-2002)\n",
            "   [Found] Erythrocyte Protoporphyrin (2001-2002)\n",
            "   [Found] Fasting Questionnaire (2001-2002)\n",
            "   [Found] Glycohemoglobin (2001-2002)\n",
            "   [Found] Glycohemoglobin, Plasma Glucose, Serum C-peptide, & Insulin, Second Exam (2001-2002)\n",
            "   [Found] Hepatitis A Antibody (2001-2002)\n",
            "   [Found] Hepatitis B Surface Antibody (2001-2002)\n",
            "   [Found] Hepatitis B: Core Antibody & Surface Antigen; Hepatitis C: Confirmed Antibody & RNA (HCV-RNA); Hepatitis D Antibody (2001-2002)\n",
            "   [Found] Herpes Simplex Virus Type-1 & Type-2 (2001-2002)\n",
            "   [Found] Herpes Simplex Virus Type-1 (Surplus) (2001-2002)\n",
            "   [Found] HIV Antibody Test, CD4+ T Lymphocytes & CD8+ T Cells (2001-2002)\n",
            "   [Found] Human epididymal secretory protein E4 (HE4) - Serum (Surplus) (2001-2002)\n",
            "   [Found] Iodine - Urine (2001-2002)\n",
            "   [Found] Iron, Total Iron Binding Capacity (TIBC), & Transferrin Saturation (2001-2002)\n",
            "   [Found] Lead - Dust (2001-2002)\n",
            "   [Found] Measles, Rubella, & Varicella (2001-2002)\n",
            "   [Found] Measles, Rubella, & Varicella, Second Exam (2001-2002)\n",
            "   [Found] Metals - Urine (2001-2002)\n",
            "   [Found] Methicillin - Resistant Staphylococcus aureus (MRSA) (2001-2002)\n",
            "   [Found] Monoclonal gammopathy of undetermined significance (MGUS) (Surplus) (2001-2002)\n",
            "   [Found] Mumps Antibody - Serum (Surplus) (2001-2002)\n",
            "   [Found] Non-dioxin-like Polychlorinated Biphenyls - Pooled Samples (Surplus Sera) (2001-2002)\n",
            "   [Found] Perchlorate, Nitrate & Thiocyanate - Urine (Surplus) (2001-2002)\n",
            "   [Found] Pesticides - Current Use - Urine (Formerly Priority Pesticides, Non-persistent Pesticide Metabolites) (2001-2002)\n",
            "   [Found] Pesticides - Organochlorine Metabolites - Serum - Pooled Samples (Surplus) (2001-2002)\n",
            "   [Found] Phthalates, Phytoestrogens & PAHs - Urine (2001-2002)\n",
            "   [Found] Plasma Fasting Glucose, Serum C-peptide & Insulin (2001-2002)\n",
            "   [Found] Polyfluoroalkyl Chemicals - Pooled Samples (Surplus) (2001-2002)\n",
            "   [Found] Pregnancy Test - Urine (2001-2002)\n",
            "   [Found] Prostate specific antigen (PSA) (2001-2002)\n",
            "   [Found] Prostate-specific Antigen (PSA), Second Exam (2001-2002)\n",
            "   [Found] Sex Steroid Hormone - Men (Surplus) (2001-2002)\n",
            "   [Found] Standard Biochemistry Profile (2001-2002)\n",
            "   [Found] Standard Biochemistry Profile, Follicle Stimulating Hormone & Luteinizing Hormone, Second Exam (2001-2002)\n",
            "   [Found] Syphilis-IgG, Syphilis Rapid Plasma Reagin (RPR) & Treponema pallidum Particle Agglutination (TP-PA) (2001-2002)\n",
            "   [Found] Telomere Mean and Standard Deviation (Surplus) (2001-2002)\n",
            "   [Found] Thyroid - Stimulating Hormone & Thyroxine (TSH & T4) (2001-2002)\n",
            "   [Found] Thyroid Profile (Surplus) (2001-2002)\n",
            "   [Found] Toxoplasma (IgG), Toxoplasma (IgM),Toxoplasma (Dye),Toxoplasma Differential Agglutination, & Toxoplasma (Avidity) (2001-2002)\n",
            "   [Found] Transferrin Receptor - Pregnant Women (Surplus) (2001-2002)\n",
            "   [Found] Varicella-Zoster Virus Antibody (Surplus) (2001-2002)\n",
            "   [Found] Vitamin A, Vitamin E & Carotenoids (2001-2002)\n",
            "   [Found] Vitamin A, Vitamin E, & Carotenoids, Second Exam (2001-2002)\n",
            "   [Found] Vitamin D (2001-2002)\n",
            "   [Found] Volatile Organic Compounds - Blood & Water (2001-2002)\n",
            "   [Found] Acculturation (2001-2002)\n",
            "   [Found] Alcohol Use (2001-2002)\n",
            "   [Found] Analgesic Pain Relievers (2001-2002)\n",
            "   [Found] Audiometry (2001-2002)\n",
            "   [Found] Balance (2001-2002)\n",
            "   [Found] Blood Pressure & Cholesterol (2001-2002)\n",
            "   [Found] Cardiovascular Health (2001-2002)\n",
            "   [Found] Cognitive Functioning (2001-2002)\n",
            "   [Found] Current Health Status (2001-2002)\n",
            "   [Found] Dermatology (2001-2002)\n",
            "   [Found] Diabetes (2001-2002)\n",
            "   [Found] Diet Behavior & Nutrition (2001-2002)\n",
            "   [Found] Drug Use (2001-2002)\n",
            "   [Found] Early Childhood (2001-2002)\n",
            "   [Found] Food Security (2001-2002)\n",
            "   [Found] Health Insurance (2001-2002)\n",
            "   [Found] Hepatitis C Follow Up (2001-2002)\n",
            "   [Found] Hospital Utilization & Access to Care (2001-2002)\n",
            "   [Found] Housing Characteristics (2001-2002)\n",
            "   [Found] Immunization (2001-2002)\n",
            "   [Found] Kidney Conditions - Urology (2001-2002)\n",
            "   [Found] Medical Conditions (2001-2002)\n",
            "   [Found] Mental Health - Depression (2001-2002)\n",
            "   [Found] Mental Health - Generalized Anxiety Disorder (2001-2002)\n",
            "   [Found] Mental Health - Panic Disorder (2001-2002)\n",
            "   [Found] Miscellaneous Pain (2001-2002)\n",
            "   [Found] Occupation (2001-2002)\n",
            "   [Found] Oral Health (2001-2002)\n",
            "   [Found] Osteoporosis (2001-2002)\n",
            "   [Found] Pesticide Use (2001-2002)\n",
            "   [Found] Physical Activity (2001-2002)\n",
            "   [Found] Physical Activity - Individual Activities (2001-2002)\n",
            "   [Found] Physical Functioning (2001-2002)\n",
            "   [Found] Prescription Medications (2001-2002)\n",
            "   [Found] Prostate Conditions (2001-2002)\n",
            "   [Found] Reproductive Health (2001-2002)\n",
            "   [Found] Respiratory Health (2001-2002)\n",
            "   [Found] Sexual Behavior (2001-2002)\n",
            "   [Found] Smoking - Adult Recent Tobacco Use & Youth Cigarette/Tobacco Use (2001-2002)\n",
            "   [Found] Smoking - Cigarette/Tobacco Use - Adult (2001-2002)\n",
            "   [Found] Smoking - Household Smokers (2001-2002)\n",
            "   [Found] Social Support (2001-2002)\n",
            "   [Found] Vision (2001-2002)\n",
            "   [Found] Weight History (2001-2002)\n"
          ]
        },
        {
          "output_type": "stream",
          "name": "stderr",
          "text": [
            "\rCrawling NHANES cycles:  92%|█████████▏| 12/13 [01:48<00:08,  8.71s/it]"
          ]
        },
        {
          "output_type": "stream",
          "name": "stdout",
          "text": [
            "\n",
            "🔹 Scanning cycle: NHANES 1999-2000\n",
            "   [Found] Demographic Variables & Sample Weights (1999-2000)\n",
            "   [Added] Demographics dataset for NHANES 1999-2000\n",
            "   [Found] Dietary Interview - Individual Foods (1999-2000)\n",
            "   [Found] Dietary Interview - Total Nutrient Intakes (1999-2000)\n",
            "   [Found] Dietary Interview Technical Support File - Food Code Format File (1999-2000)\n",
            "   [Found] Dietary Supplement Use 30-Day - File 1, Supplement Counts (1999-2000)\n",
            "   [Found] Dietary Supplement Use 30-Day - File 2, Participant's Use of Supplements (1999-2000)\n",
            "   [Found] Audiometry (1999-2000)\n",
            "   [Found] Audiometry - Acoustic Reflex (1999-2000)\n",
            "   [Found] Audiometry - Tympanometry (1999-2000)\n",
            "   [Found] Balance (1999-2000)\n",
            "   [Found] Bioelectrical Impedance Analysis (1999-2000)\n",
            "   [Found] Blood Pressure (1999-2000)\n",
            "   [Found] Body Measures (1999-2000)\n",
            "   [Found] Cardiovascular Fitness (1999-2000)\n",
            "   [Found] Lower Extremity Disease - Ankle Brachial Blood Pressure Index (1999-2000)\n",
            "   [Found] Lower Extremity Disease - Peripheral Neuropathy (1999-2000)\n",
            "   [Found] Muscle Strength (1999-2000)\n",
            "   [Found] Oral Health - Dentition (1999-2000)\n",
            "   [Found] Oral Health - Periodontal (1999-2000)\n",
            "   [Found] Oral Health - Recommendation of Care (1999-2000)\n",
            "   [Found] Shared Exclusion Questions (1999-2000)\n",
            "   [Found] Tuberculosis (1999-2000)\n",
            "   [Found] Vision (1999-2000)\n",
            "   [Found] Aflatoxin B1-lysine - Serum (Surplus) (1999-2000)\n",
            "   [Found] Albumin & Creatinine - Urine (1999-2000)\n",
            "   [Found] Anti-Mullerian Hormone (AMH) & Inhibin-B (Surplus) (1999-2000)\n",
            "   [Found] Cadmium, Lead, Mercury, Cotinine & Nutritional Biochemistries (1999-2000)\n",
            "   [Found] Caffeine & Caffeine Metabolites - Urine (Surplus) (1999-2000)\n",
            "   [Found] Chlamydia & Gonorrhea - Urine (1999-2000)\n",
            "   [Found] Cholesterol - LDL & Triglycerides (1999-2000)\n",
            "   [Found] Cholesterol - Total & HDL (1999-2000)\n",
            "   [Found] Complete Blood Count with 5-part Differential - Whole Blood (1999-2000)\n",
            "   [Found] C-Reactive Protein (CRP) (1999-2000)\n",
            "   [Found] Cryptosporidum & Toxoplasma (1999-2000)\n",
            "   [Found] Cystatin C - Serum (Surplus) (1999-2000)\n",
            "   [Found] Cytomegalovirus Antibodies - Serum (Surplus) (1999-2000)\n",
            "   [Found] Dioxins, Furans, & Coplanar PCBs (1999-2000)\n",
            "   [Found] Enterovirus D68 (EV-D68) - Serum (Surplus) (1999-2000)\n",
            "   [Found] Fasting Questionnaire (1999-2000)\n",
            "   [Found] Folic Acid - Unmetabolized (Surplus) (1999-2000)\n",
            "   [Found] Glycohemoglobin (1999-2000)\n",
            "   [Found] Hepatitis A Antibody (1999-2000)\n",
            "   [Found] Hepatitis B Surface Antibody (1999-2000)\n",
            "   [Found] Hepatitis B: Core Antibody & Surface Antigen; Hepatitis C: Confirmed Antibody & RNA (HCV-RNA); Hepatitis D Antibody (1999-2000)\n",
            "   [Found] Herpes Simplex Virus Type-1 & Type-2 (1999-2000)\n",
            "   [Found] Herpes Simplex Virus Type-1 (Surplus) (1999-2000)\n",
            "   [Found] HIV Antibody Test, CD4+ T Lymphocytes & CD8+ T Cells (1999-2000)\n",
            "   [Found] Latex (1999-2000)\n",
            "   [Found] Lead - Dust (1999-2000)\n",
            "   [Found] Measles, Rubella, & Varicella (1999-2000)\n",
            "   [Found] Mercury - Hair (1999-2000)\n",
            "   [Found] Metals - Urine (1999-2000)\n",
            "   [Found] Monoclonal gammopathy of undetermined significance (MGUS) (Surplus) (1999-2000)\n",
            "   [Found] Mumps Antibody - Serum (Surplus) (1999-2000)\n",
            "   [Found] Norovirus antibody - Serum (1999-2000)\n",
            "   [Found] Perfluoroalkyl Chemicals - Serum (Surplus) (1999-2000)\n",
            "   [Found] Pesticides - Current Use - Urine (Formerly Priority Pesticides, Non-persistent Pesticide Metabolites) (1999-2000)\n",
            "   [Found] Phthalates, Phytoestrogens & PAHs - Urine PHPYPA Urinary Phthalates (1999-2000)\n",
            "   [Found] Plasma Fasting Glucose, Serum C-peptide & Insulin (1999-2000)\n",
            "   [Found] Pregnancy Test - Urine (1999-2000)\n",
            "   [Found] Sex Steroid Hormone - Men (Surplus) (1999-2000)\n",
            "   [Found] Standard Biochemistry Profile & Hormones (1999-2000)\n",
            "   [Found] Telomere Mean and Standard Deviation (Surplus) (1999-2000)\n",
            "   [Found] Thyroid - Stimulating Hormone & Thyroxine (TSH & T4) (1999-2000)\n",
            "   [Found] Trans Fatty Acids (1999-2000)\n",
            "   [Found] Transferrin Receptor - Pregnant Women (Surplus) (1999-2000)\n",
            "   [Found] Varicella-Zoster Virus Antibody (Surplus) (1999-2000)\n",
            "   [Found] Volatile Organic Compounds - Blood & Water (1999-2000)\n",
            "   [Found] Volatile Organic Compounds (VOC) - Personal Exposure Badge (1999-2000)\n",
            "   [Found] Acculturation (1999-2000)\n",
            "   [Found] Alcohol Use (1999-2000)\n",
            "   [Found] Analgesic Pain Relievers (1999-2000)\n",
            "   [Found] Audiometry (1999-2000)\n",
            "   [Found] Balance (1999-2000)\n",
            "   [Found] Blood Pressure & Cholesterol (1999-2000)\n",
            "   [Found] Cardiovascular Health (1999-2000)\n",
            "   [Found] Cognitive Functioning (1999-2000)\n",
            "   [Found] Current Health Status (1999-2000)\n",
            "   [Found] Dermatology (1999-2000)\n",
            "   [Found] Diabetes (1999-2000)\n",
            "   [Found] Diet Behavior & Nutrition (1999-2000)\n",
            "   [Found] Drug Use (1999-2000)\n",
            "   [Found] Early Childhood (1999-2000)\n",
            "   [Found] Food Security (1999-2000)\n",
            "   [Found] Health Insurance (1999-2000)\n",
            "   [Found] Hospital Utilization & Access to Care (1999-2000)\n",
            "   [Found] Housing Characteristics (1999-2000)\n",
            "   [Found] Immunization (1999-2000)\n",
            "   [Found] Kidney Conditions (1999-2000)\n",
            "   [Found] Medical Conditions (1999-2000)\n",
            "   [Found] Mental Health - Depression (1999-2000)\n",
            "   [Found] Mental Health - Generalized Anxiety Disorder (1999-2000)\n",
            "   [Found] Mental Health - Panic Disorder (1999-2000)\n",
            "   [Found] Miscellaneous Pain (1999-2000)\n",
            "   [Found] Occupation (1999-2000)\n",
            "   [Found] Oral Health (1999-2000)\n",
            "   [Found] Osteoporosis (1999-2000)\n",
            "   [Found] Pesticide Use (1999-2000)\n",
            "   [Found] Physical Activity (1999-2000)\n",
            "   [Found] Physical Activity - Individual Activities (1999-2000)\n",
            "   [Found] Physical Functioning (1999-2000)\n",
            "   [Found] Prescription Medications (1999-2000)\n",
            "   [Found] Reproductive Health (1999-2000)\n",
            "   [Found] Respiratory Health (1999-2000)\n",
            "   [Found] Sexual Behavior (1999-2000)\n",
            "   [Found] Smoking - Adult Recent Tobacco Use & Youth Cigarette/Tobacco Use (1999-2000)\n",
            "   [Found] Smoking - Cigarette/Tobacco Use - Adult (1999-2000)\n",
            "   [Found] Smoking - Household Smokers (1999-2000)\n",
            "   [Found] Social Support (1999-2000)\n",
            "   [Found] Tuberculosis (1999-2000)\n",
            "   [Found] Vision (1999-2000)\n",
            "   [Found] Weight History (1999-2000)\n"
          ]
        },
        {
          "output_type": "stream",
          "name": "stderr",
          "text": [
            "Crawling NHANES cycles: 100%|██████████| 13/13 [01:57<00:00,  9.02s/it]\n"
          ]
        },
        {
          "output_type": "stream",
          "name": "stdout",
          "text": [
            "\n",
            "✅ Crawling complete! Saved 1716 records to nhanes_catalog.json and nhanes_catalog.csv.\n",
            "🔹 Demographics datasets preserved: 13\n",
            "🔹 Non-demographics datasets to filter: 1703\n",
            "✅ Biomedical expansion complete: 49 keywords\n",
            "\n",
            "✅ AI filter applied: 189 datasets selected (excluding demographics)\n",
            "🧠 Computing sentence embeddings...\n"
          ]
        },
        {
          "output_type": "stream",
          "name": "stderr",
          "text": [
            "/usr/local/lib/python3.12/dist-packages/huggingface_hub/utils/_auth.py:94: UserWarning: \n",
            "The secret `HF_TOKEN` does not exist in your Colab secrets.\n",
            "To authenticate with the Hugging Face Hub, create a token in your settings tab (https://huggingface.co/settings/tokens), set it as secret in your Google Colab and restart your session.\n",
            "You will be able to reuse this secret in all of your notebooks.\n",
            "Please note that authentication is recommended but still optional to access public models or datasets.\n",
            "  warnings.warn(\n"
          ]
        },
        {
          "output_type": "display_data",
          "data": {
            "text/plain": [
              "modules.json:   0%|          | 0.00/349 [00:00<?, ?B/s]"
            ],
            "application/vnd.jupyter.widget-view+json": {
              "version_major": 2,
              "version_minor": 0,
              "model_id": "730226a4efa24c74a8983137322bd046"
            }
          },
          "metadata": {}
        },
        {
          "output_type": "display_data",
          "data": {
            "text/plain": [
              "config_sentence_transformers.json:   0%|          | 0.00/116 [00:00<?, ?B/s]"
            ],
            "application/vnd.jupyter.widget-view+json": {
              "version_major": 2,
              "version_minor": 0,
              "model_id": "fc414d376b29432c9358c4fdbe303bb5"
            }
          },
          "metadata": {}
        },
        {
          "output_type": "display_data",
          "data": {
            "text/plain": [
              "README.md: 0.00B [00:00, ?B/s]"
            ],
            "application/vnd.jupyter.widget-view+json": {
              "version_major": 2,
              "version_minor": 0,
              "model_id": "9565a59fefca40348cb92662d95fd3c1"
            }
          },
          "metadata": {}
        },
        {
          "output_type": "display_data",
          "data": {
            "text/plain": [
              "sentence_bert_config.json:   0%|          | 0.00/53.0 [00:00<?, ?B/s]"
            ],
            "application/vnd.jupyter.widget-view+json": {
              "version_major": 2,
              "version_minor": 0,
              "model_id": "08cf20f58e7b44de8b050529f7dc907b"
            }
          },
          "metadata": {}
        },
        {
          "output_type": "display_data",
          "data": {
            "text/plain": [
              "config.json:   0%|          | 0.00/612 [00:00<?, ?B/s]"
            ],
            "application/vnd.jupyter.widget-view+json": {
              "version_major": 2,
              "version_minor": 0,
              "model_id": "4fb90fe41bef423da1181d30d799889d"
            }
          },
          "metadata": {}
        },
        {
          "output_type": "display_data",
          "data": {
            "text/plain": [
              "model.safetensors:   0%|          | 0.00/90.9M [00:00<?, ?B/s]"
            ],
            "application/vnd.jupyter.widget-view+json": {
              "version_major": 2,
              "version_minor": 0,
              "model_id": "b45d2499b7654ecbb741021c410dd732"
            }
          },
          "metadata": {}
        },
        {
          "output_type": "display_data",
          "data": {
            "text/plain": [
              "tokenizer_config.json:   0%|          | 0.00/350 [00:00<?, ?B/s]"
            ],
            "application/vnd.jupyter.widget-view+json": {
              "version_major": 2,
              "version_minor": 0,
              "model_id": "2090c2ef98b943728a507699cfbfb8cd"
            }
          },
          "metadata": {}
        },
        {
          "output_type": "display_data",
          "data": {
            "text/plain": [
              "vocab.txt: 0.00B [00:00, ?B/s]"
            ],
            "application/vnd.jupyter.widget-view+json": {
              "version_major": 2,
              "version_minor": 0,
              "model_id": "34d8ea4bbbf649f2872e5326b1b032f7"
            }
          },
          "metadata": {}
        },
        {
          "output_type": "display_data",
          "data": {
            "text/plain": [
              "tokenizer.json: 0.00B [00:00, ?B/s]"
            ],
            "application/vnd.jupyter.widget-view+json": {
              "version_major": 2,
              "version_minor": 0,
              "model_id": "6fcd4eb23b0e43ce91cfbc6806bb5c71"
            }
          },
          "metadata": {}
        },
        {
          "output_type": "display_data",
          "data": {
            "text/plain": [
              "special_tokens_map.json:   0%|          | 0.00/112 [00:00<?, ?B/s]"
            ],
            "application/vnd.jupyter.widget-view+json": {
              "version_major": 2,
              "version_minor": 0,
              "model_id": "a9206d7676a44acca94bc2b1936f9696"
            }
          },
          "metadata": {}
        },
        {
          "output_type": "display_data",
          "data": {
            "text/plain": [
              "config.json:   0%|          | 0.00/190 [00:00<?, ?B/s]"
            ],
            "application/vnd.jupyter.widget-view+json": {
              "version_major": 2,
              "version_minor": 0,
              "model_id": "1451edb901aa4eacbd92401c535274d3"
            }
          },
          "metadata": {}
        },
        {
          "output_type": "display_data",
          "data": {
            "text/plain": [
              "Batches:   0%|          | 0/6 [00:00<?, ?it/s]"
            ],
            "application/vnd.jupyter.widget-view+json": {
              "version_major": 2,
              "version_minor": 0,
              "model_id": "de1807eda2e84e99b444064dc625dc97"
            }
          },
          "metadata": {}
        },
        {
          "output_type": "stream",
          "name": "stdout",
          "text": [
            "✅ Dynamic semantic refinement complete: 158 datasets saved → nhanes_ai_semantic_dynamic.csv\n"
          ]
        }
      ]
    },
    {
      "cell_type": "code",
      "source": [
        "import os\n",
        "!pip install pyreadstat\n",
        "import requests\n",
        "import pyreadstat\n",
        "import pandas as pd\n",
        "from tqdm import tqdm\n",
        "import time\n",
        "\n",
        "OUTPUT_DIR = \"nhanes_data\"\n",
        "os.makedirs(OUTPUT_DIR, exist_ok=True)\n",
        "\n",
        "df_filtered = pd.read_csv(\"nhanes_ai_semantic_dynamic.csv\")\n",
        "\n",
        "MAX_RETRIES = 5\n",
        "RETRY_DELAY = 2\n",
        "\n",
        "for idx, row in tqdm(df_filtered.iterrows(), total=len(df_filtered), desc=\"Downloading NHANES datasets\"):\n",
        "    dataset_name = row[\"dataset_name\"]\n",
        "    xpt_url = row[\"data_url\"]\n",
        "\n",
        "    if not isinstance(xpt_url, str) or not xpt_url.strip():\n",
        "        print(f\"⚠️ Skipping {dataset_name}: No URL provided\")\n",
        "        continue\n",
        "\n",
        "    # Clean URL thoroughly\n",
        "    xpt_url = xpt_url.strip().replace(\"\\n\", \"\").replace(\"\\r\", \"\")\n",
        "    if xpt_url.startswith(\"/\"):\n",
        "        xpt_url = \"https://wwwn.cdc.gov\" + xpt_url\n",
        "\n",
        "    # Use cycle/component in filename to prevent collisions\n",
        "    cycle = row.get(\"cycle\", \"UnknownCycle\")\n",
        "    component = row.get(\"component\", \"UnknownComponent\")\n",
        "    filename = f\"{cycle}_{component}_{dataset_name}\".replace(\"/\", \"_\").replace(\" \", \"_\") + \".csv\"\n",
        "    filepath = os.path.join(OUTPUT_DIR, filename)\n",
        "\n",
        "    if os.path.exists(filepath):\n",
        "        continue\n",
        "\n",
        "    success = False\n",
        "    for attempt in range(1, MAX_RETRIES + 1):\n",
        "        try:\n",
        "            resp = requests.get(xpt_url, timeout=30, allow_redirects=True)\n",
        "            resp.raise_for_status()\n",
        "\n",
        "            # Save temp .XPT\n",
        "            with open(\"temp.xpt\", \"wb\") as f:\n",
        "                f.write(resp.content)\n",
        "\n",
        "                # Convert to CSV\n",
        "                df_xpt, meta = pyreadstat.read_xport(\"temp.xpt\", encoding=\"latin1\")\n",
        "\n",
        "            # Add metadata\n",
        "            df_xpt[\"NHANES_Cycle\"] = cycle\n",
        "            df_xpt[\"Component\"] = component\n",
        "            df_xpt[\"Dataset_Name\"] = dataset_name\n",
        "            df_xpt[\"Doc_URL\"] = row.get(\"doc_url\", \"\")\n",
        "\n",
        "            df_xpt.to_csv(filepath, index=False)\n",
        "            os.remove(\"temp.xpt\")\n",
        "\n",
        "            print(f\"✅ Saved {filename}\")\n",
        "            success = True\n",
        "            time.sleep(0.2)\n",
        "            break\n",
        "\n",
        "        except Exception as e:\n",
        "            print(f\"⚠️ Attempt {attempt} failed for {dataset_name}: {e}\")\n",
        "            time.sleep(RETRY_DELAY)\n",
        "\n",
        "    if not success:\n",
        "        print(f\"❌ Failed to download {dataset_name}\")\n",
        "\n",
        "print(f\"\\n✅ Download complete. Files saved in '{OUTPUT_DIR}'\")\n",
        "\n",
        "\n",
        "\n",
        "\n",
        "\n",
        "\n"
      ],
      "metadata": {
        "colab": {
          "base_uri": "https://localhost:8080/"
        },
        "id": "hXcDTeXnRanN",
        "outputId": "794274ab-3c3f-43ad-91a2-2ba43faf987b"
      },
      "execution_count": 2,
      "outputs": [
        {
          "output_type": "stream",
          "name": "stdout",
          "text": [
            "Collecting pyreadstat\n",
            "  Downloading pyreadstat-1.3.1-cp312-cp312-manylinux2014_x86_64.manylinux_2_17_x86_64.whl.metadata (1.2 kB)\n",
            "Requirement already satisfied: narwhals>=1.47 in /usr/local/lib/python3.12/dist-packages (from pyreadstat) (2.8.0)\n",
            "Requirement already satisfied: numpy in /usr/local/lib/python3.12/dist-packages (from pyreadstat) (2.0.2)\n",
            "Downloading pyreadstat-1.3.1-cp312-cp312-manylinux2014_x86_64.manylinux_2_17_x86_64.whl (666 kB)\n",
            "\u001b[2K   \u001b[90m━━━━━━━━━━━━━━━━━━━━━━━━━━━━━━━━━━━━━━━━\u001b[0m \u001b[32m666.4/666.4 kB\u001b[0m \u001b[31m7.7 MB/s\u001b[0m eta \u001b[36m0:00:00\u001b[0m\n",
            "\u001b[?25hInstalling collected packages: pyreadstat\n",
            "Successfully installed pyreadstat-1.3.1\n"
          ]
        },
        {
          "output_type": "stream",
          "name": "stderr",
          "text": [
            "\rDownloading NHANES datasets:   0%|          | 0/158 [00:00<?, ?it/s]"
          ]
        },
        {
          "output_type": "stream",
          "name": "stdout",
          "text": [
            "✅ Saved NHANES_2001-2002_Laboratory_Glycohemoglobin,_Plasma_Glucose,_Serum_C-peptide,_&_Insulin,_Second_Exam.csv\n"
          ]
        },
        {
          "output_type": "stream",
          "name": "stderr",
          "text": [
            "Downloading NHANES datasets:   1%|▏         | 2/158 [00:01<01:34,  1.64it/s]"
          ]
        },
        {
          "output_type": "stream",
          "name": "stdout",
          "text": [
            "✅ Saved NHANES_2001-2002_Laboratory_Plasma_Fasting_Glucose,_Serum_C-peptide_&_Insulin.csv\n"
          ]
        },
        {
          "output_type": "stream",
          "name": "stderr",
          "text": [
            "\rDownloading NHANES datasets:   2%|▏         | 3/158 [00:01<01:35,  1.62it/s]"
          ]
        },
        {
          "output_type": "stream",
          "name": "stdout",
          "text": [
            "✅ Saved NHANES_2003-2004_Laboratory_Plasma_Fasting_Glucose,_Serum_C-peptide_&_Insulin.csv\n"
          ]
        },
        {
          "output_type": "stream",
          "name": "stderr",
          "text": [
            "\rDownloading NHANES datasets:   3%|▎         | 4/158 [00:02<01:36,  1.60it/s]"
          ]
        },
        {
          "output_type": "stream",
          "name": "stdout",
          "text": [
            "✅ Saved NHANES_1999-2000_Laboratory_Plasma_Fasting_Glucose,_Serum_C-peptide_&_Insulin.csv\n"
          ]
        },
        {
          "output_type": "stream",
          "name": "stderr",
          "text": [
            "\rDownloading NHANES datasets:   3%|▎         | 5/158 [00:03<01:31,  1.68it/s]"
          ]
        },
        {
          "output_type": "stream",
          "name": "stdout",
          "text": [
            "✅ Saved NHANES_2001-2002_Laboratory_Cholesterol_-_Total,_HDL,_LDL__&_Triglycerides,_Second_Exam.csv\n"
          ]
        },
        {
          "output_type": "stream",
          "name": "stderr",
          "text": [
            "\rDownloading NHANES datasets:   4%|▍         | 6/158 [00:03<01:32,  1.65it/s]"
          ]
        },
        {
          "output_type": "stream",
          "name": "stdout",
          "text": [
            "✅ Saved NHANES_2011-2012_Laboratory_Plasma_Fasting_Glucose_&_Insulin.csv\n"
          ]
        },
        {
          "output_type": "stream",
          "name": "stderr",
          "text": [
            "\rDownloading NHANES datasets:   4%|▍         | 7/158 [00:04<01:33,  1.61it/s]"
          ]
        },
        {
          "output_type": "stream",
          "name": "stdout",
          "text": [
            "✅ Saved NHANES_2009-2010_Laboratory_Plasma_Fasting_Glucose_&_Insulin.csv\n"
          ]
        },
        {
          "output_type": "stream",
          "name": "stderr",
          "text": [
            "\rDownloading NHANES datasets:   5%|▌         | 8/158 [00:04<01:31,  1.64it/s]"
          ]
        },
        {
          "output_type": "stream",
          "name": "stdout",
          "text": [
            "✅ Saved NHANES_2007-2008_Laboratory_Plasma_Fasting_Glucose_&_Insulin.csv\n"
          ]
        },
        {
          "output_type": "stream",
          "name": "stderr",
          "text": [
            "\rDownloading NHANES datasets:   6%|▌         | 9/158 [00:05<01:30,  1.65it/s]"
          ]
        },
        {
          "output_type": "stream",
          "name": "stdout",
          "text": [
            "✅ Saved NHANES_2005-2006_Laboratory_Plasma_Fasting_Glucose_&_Insulin.csv\n"
          ]
        },
        {
          "output_type": "stream",
          "name": "stderr",
          "text": [
            "\rDownloading NHANES datasets:   6%|▋         | 10/158 [00:06<01:28,  1.68it/s]"
          ]
        },
        {
          "output_type": "stream",
          "name": "stdout",
          "text": [
            "✅ Saved NHANES_2013-2014_Laboratory_Cholesterol_-_LDL_&_Triglycerides.csv\n"
          ]
        },
        {
          "output_type": "stream",
          "name": "stderr",
          "text": [
            "\rDownloading NHANES datasets:   7%|▋         | 11/158 [00:06<01:27,  1.68it/s]"
          ]
        },
        {
          "output_type": "stream",
          "name": "stdout",
          "text": [
            "✅ Saved NHANES_2009-2010_Laboratory_Cholesterol_-_LDL_&_Triglycerides.csv\n",
            "✅ Saved NHANES_2011-2012_Laboratory_Cholesterol_-_LDL_&_Triglycerides.csv\n"
          ]
        },
        {
          "output_type": "stream",
          "name": "stderr",
          "text": [
            "Downloading NHANES datasets:   8%|▊         | 13/158 [00:07<01:31,  1.59it/s]"
          ]
        },
        {
          "output_type": "stream",
          "name": "stdout",
          "text": [
            "✅ Saved NHANES_2007-2008_Laboratory_Cholesterol_-_LDL_&_Triglycerides.csv\n"
          ]
        },
        {
          "output_type": "stream",
          "name": "stderr",
          "text": [
            "\rDownloading NHANES datasets:   9%|▉         | 14/158 [00:09<01:52,  1.28it/s]"
          ]
        },
        {
          "output_type": "stream",
          "name": "stdout",
          "text": [
            "✅ Saved NHANES_2007-2008_Questionnaire_Diabetes.csv\n"
          ]
        },
        {
          "output_type": "stream",
          "name": "stderr",
          "text": [
            "\rDownloading NHANES datasets:   9%|▉         | 15/158 [00:10<02:09,  1.10it/s]"
          ]
        },
        {
          "output_type": "stream",
          "name": "stdout",
          "text": [
            "✅ Saved NHANES_2013-2014_Questionnaire_Diabetes.csv\n",
            "✅ Saved NHANES_2005-2006_Laboratory_Cholesterol_-_LDL,_Triglyceride_&_Apoliprotein_(ApoB).csv\n"
          ]
        },
        {
          "output_type": "stream",
          "name": "stderr",
          "text": [
            "Downloading NHANES datasets:  11%|█         | 17/158 [00:11<01:44,  1.35it/s]"
          ]
        },
        {
          "output_type": "stream",
          "name": "stdout",
          "text": [
            "✅ Saved NHANES_2013-2014_Laboratory_Plasma_Fasting_Glucose.csv\n"
          ]
        },
        {
          "output_type": "stream",
          "name": "stderr",
          "text": [
            "\rDownloading NHANES datasets:  11%|█▏        | 18/158 [00:13<02:40,  1.15s/it]"
          ]
        },
        {
          "output_type": "stream",
          "name": "stdout",
          "text": [
            "✅ Saved NHANES_2011-2012_Questionnaire_Diabetes.csv\n",
            "✅ Saved NHANES_2005-2006_Questionnaire_Diabetes.csv\n"
          ]
        },
        {
          "output_type": "stream",
          "name": "stderr",
          "text": [
            "Downloading NHANES datasets:  13%|█▎        | 20/158 [00:15<02:38,  1.15s/it]"
          ]
        },
        {
          "output_type": "stream",
          "name": "stdout",
          "text": [
            "✅ Saved NHANES_2009-2010_Questionnaire_Diabetes.csv\n"
          ]
        },
        {
          "output_type": "stream",
          "name": "stderr",
          "text": [
            "\rDownloading NHANES datasets:  13%|█▎        | 21/158 [00:17<02:42,  1.19s/it]"
          ]
        },
        {
          "output_type": "stream",
          "name": "stdout",
          "text": [
            "✅ Saved NHANES_2001-2002_Laboratory_Cholesterol_-_LDL_&_Triglycerides.csv\n"
          ]
        },
        {
          "output_type": "stream",
          "name": "stderr",
          "text": [
            "\rDownloading NHANES datasets:  14%|█▍        | 22/158 [00:18<02:25,  1.07s/it]"
          ]
        },
        {
          "output_type": "stream",
          "name": "stdout",
          "text": [
            "✅ Saved NHANES_1999-2000_Laboratory_Cholesterol_-_LDL_&_Triglycerides.csv\n"
          ]
        },
        {
          "output_type": "stream",
          "name": "stderr",
          "text": [
            "\rDownloading NHANES datasets:  15%|█▍        | 23/158 [00:18<02:03,  1.09it/s]"
          ]
        },
        {
          "output_type": "stream",
          "name": "stdout",
          "text": [
            "✅ Saved NHANES_2017-March_2020_Laboratory_Plasma_Fasting_Glucose.csv\n"
          ]
        },
        {
          "output_type": "stream",
          "name": "stderr",
          "text": [
            "\rDownloading NHANES datasets:  15%|█▌        | 24/158 [00:19<01:49,  1.22it/s]"
          ]
        },
        {
          "output_type": "stream",
          "name": "stdout",
          "text": [
            "✅ Saved NHANES_2017-2018_Laboratory_Plasma_Fasting_Glucose.csv\n"
          ]
        },
        {
          "output_type": "stream",
          "name": "stderr",
          "text": [
            "\rDownloading NHANES datasets:  16%|█▌        | 25/158 [00:19<01:40,  1.32it/s]"
          ]
        },
        {
          "output_type": "stream",
          "name": "stdout",
          "text": [
            "✅ Saved NHANES_2003-2004_Laboratory_Cholesterol_-_LDL_&_Triglycerides.csv\n"
          ]
        },
        {
          "output_type": "stream",
          "name": "stderr",
          "text": [
            "\rDownloading NHANES datasets:  16%|█▋        | 26/158 [00:20<01:36,  1.37it/s]"
          ]
        },
        {
          "output_type": "stream",
          "name": "stdout",
          "text": [
            "✅ Saved NHANES_08_2021-08_2023_Laboratory_Plasma_Fasting_Glucose.csv\n",
            "✅ Saved NHANES_2015-2016_Laboratory_Plasma_Fasting_Glucose.csv\n"
          ]
        },
        {
          "output_type": "stream",
          "name": "stderr",
          "text": [
            "Downloading NHANES datasets:  18%|█▊        | 28/158 [00:22<01:45,  1.23it/s]"
          ]
        },
        {
          "output_type": "stream",
          "name": "stdout",
          "text": [
            "✅ Saved NHANES_2017-2018_Questionnaire_Diabetes.csv\n"
          ]
        },
        {
          "output_type": "stream",
          "name": "stderr",
          "text": [
            "\rDownloading NHANES datasets:  18%|█▊        | 29/158 [00:23<01:55,  1.11it/s]"
          ]
        },
        {
          "output_type": "stream",
          "name": "stdout",
          "text": [
            "✅ Saved NHANES_2017-March_2020_Questionnaire_Diabetes.csv\n"
          ]
        },
        {
          "output_type": "stream",
          "name": "stderr",
          "text": [
            "\rDownloading NHANES datasets:  20%|█▉        | 31/158 [00:23<01:19,  1.59it/s]"
          ]
        },
        {
          "output_type": "stream",
          "name": "stdout",
          "text": [
            "✅ Saved NHANES_08_2021-08_2023_Laboratory_Cholesterol_-_Low-Density_Lipoproteins_(LDL)_&_Triglycerides.csv\n",
            "✅ Saved NHANES_2017-March_2020_Laboratory_Fasting_Questionnaire.csv\n"
          ]
        },
        {
          "output_type": "stream",
          "name": "stderr",
          "text": [
            "Downloading NHANES datasets:  22%|██▏       | 34/158 [00:25<01:21,  1.53it/s]"
          ]
        },
        {
          "output_type": "stream",
          "name": "stdout",
          "text": [
            "✅ Saved NHANES_2017-2018_Laboratory_Fasting_Questionnaire.csv\n"
          ]
        },
        {
          "output_type": "stream",
          "name": "stderr",
          "text": [
            "\rDownloading NHANES datasets:  22%|██▏       | 35/158 [00:26<01:18,  1.57it/s]"
          ]
        },
        {
          "output_type": "stream",
          "name": "stdout",
          "text": [
            "✅ Saved NHANES_2015-2016_Laboratory_Cholesterol_-_Low_-_Density_Lipoprotein_(LDL)_&_Triglycerides.csv\n"
          ]
        },
        {
          "output_type": "stream",
          "name": "stderr",
          "text": [
            "\rDownloading NHANES datasets:  23%|██▎       | 36/158 [00:27<01:25,  1.43it/s]"
          ]
        },
        {
          "output_type": "stream",
          "name": "stdout",
          "text": [
            "✅ Saved NHANES_2005-2006_Laboratory_Fasting_Questionnaire.csv\n",
            "✅ Saved NHANES_2015-2016_Questionnaire_Diabetes.csv\n"
          ]
        },
        {
          "output_type": "stream",
          "name": "stderr",
          "text": [
            "Downloading NHANES datasets:  24%|██▍       | 38/158 [00:29<01:44,  1.14it/s]"
          ]
        },
        {
          "output_type": "stream",
          "name": "stdout",
          "text": [
            "✅ Saved NHANES_2013-2014_Questionnaire_Blood_Pressure_&_Cholesterol.csv\n",
            "✅ Saved NHANES_08_2021-08_2023_Laboratory_Fasting_Questionnaire.csv\n"
          ]
        },
        {
          "output_type": "stream",
          "name": "stderr",
          "text": [
            "Downloading NHANES datasets:  25%|██▌       | 40/158 [00:31<01:39,  1.19it/s]"
          ]
        },
        {
          "output_type": "stream",
          "name": "stdout",
          "text": [
            "✅ Saved NHANES_2007-2008_Laboratory_Fasting_Questionnaire.csv\n"
          ]
        },
        {
          "output_type": "stream",
          "name": "stderr",
          "text": [
            "\rDownloading NHANES datasets:  26%|██▌       | 41/158 [00:31<01:30,  1.30it/s]"
          ]
        },
        {
          "output_type": "stream",
          "name": "stdout",
          "text": [
            "✅ Saved NHANES_2017-2018_Laboratory_Cholesterol_-_Low-Density_Lipoproteins_(LDL)_&_Triglycerides.csv\n"
          ]
        },
        {
          "output_type": "stream",
          "name": "stderr",
          "text": [
            "\rDownloading NHANES datasets:  27%|██▋       | 42/158 [00:32<01:23,  1.39it/s]"
          ]
        },
        {
          "output_type": "stream",
          "name": "stdout",
          "text": [
            "✅ Saved NHANES_2017-March_2020_Laboratory_Cholesterol_-_Low-Density_Lipoproteins_(LDL)_&_Triglycerides.csv\n"
          ]
        },
        {
          "output_type": "stream",
          "name": "stderr",
          "text": [
            "\rDownloading NHANES datasets:  27%|██▋       | 43/158 [00:33<01:24,  1.36it/s]"
          ]
        },
        {
          "output_type": "stream",
          "name": "stdout",
          "text": [
            "✅ Saved NHANES_2011-2012_Laboratory_Fasting_Questionnaire.csv\n"
          ]
        },
        {
          "output_type": "stream",
          "name": "stderr",
          "text": [
            "\rDownloading NHANES datasets:  28%|██▊       | 44/158 [00:33<01:26,  1.32it/s]"
          ]
        },
        {
          "output_type": "stream",
          "name": "stdout",
          "text": [
            "✅ Saved NHANES_2015-2016_Laboratory_Fasting_Questionnaire.csv\n"
          ]
        },
        {
          "output_type": "stream",
          "name": "stderr",
          "text": [
            "\rDownloading NHANES datasets:  28%|██▊       | 45/158 [00:34<01:18,  1.43it/s]"
          ]
        },
        {
          "output_type": "stream",
          "name": "stdout",
          "text": [
            "✅ Saved NHANES_2013-2014_Laboratory_Insulin.csv\n"
          ]
        },
        {
          "output_type": "stream",
          "name": "stderr",
          "text": [
            "\rDownloading NHANES datasets:  29%|██▉       | 46/158 [00:35<01:15,  1.49it/s]"
          ]
        },
        {
          "output_type": "stream",
          "name": "stdout",
          "text": [
            "✅ Saved NHANES_2007-2008_Laboratory_Oral_Glucose_Tolerance_Test.csv\n"
          ]
        },
        {
          "output_type": "stream",
          "name": "stderr",
          "text": [
            "\rDownloading NHANES datasets:  30%|██▉       | 47/158 [00:35<01:19,  1.39it/s]"
          ]
        },
        {
          "output_type": "stream",
          "name": "stdout",
          "text": [
            "✅ Saved NHANES_1999-2000_Laboratory_Fasting_Questionnaire.csv\n",
            "✅ Saved NHANES_2013-2014_Laboratory_Fasting_Questionnaire.csv\n"
          ]
        },
        {
          "output_type": "stream",
          "name": "stderr",
          "text": [
            "Downloading NHANES datasets:  31%|███       | 49/158 [00:38<01:36,  1.13it/s]"
          ]
        },
        {
          "output_type": "stream",
          "name": "stdout",
          "text": [
            "✅ Saved NHANES_2009-2010_Laboratory_Fasting_Questionnaire.csv\n"
          ]
        },
        {
          "output_type": "stream",
          "name": "stderr",
          "text": [
            "\rDownloading NHANES datasets:  32%|███▏      | 50/158 [00:38<01:28,  1.22it/s]"
          ]
        },
        {
          "output_type": "stream",
          "name": "stdout",
          "text": [
            "✅ Saved NHANES_2011-2012_Questionnaire_Blood_Pressure_&_Cholesterol.csv\n"
          ]
        },
        {
          "output_type": "stream",
          "name": "stderr",
          "text": [
            "\rDownloading NHANES datasets:  32%|███▏      | 51/158 [00:39<01:24,  1.26it/s]"
          ]
        },
        {
          "output_type": "stream",
          "name": "stdout",
          "text": [
            "✅ Saved NHANES_1999-2000_Questionnaire_Diabetes.csv\n",
            "✅ Saved NHANES_2013-2014_Laboratory_Oral_Glucose_Tolerance_Test.csv\n"
          ]
        },
        {
          "output_type": "stream",
          "name": "stderr",
          "text": [
            "Downloading NHANES datasets:  34%|███▍      | 54/158 [00:41<01:13,  1.42it/s]"
          ]
        },
        {
          "output_type": "stream",
          "name": "stdout",
          "text": [
            "✅ Saved NHANES_2001-2002_Laboratory_Fasting_Questionnaire.csv\n"
          ]
        },
        {
          "output_type": "stream",
          "name": "stderr",
          "text": [
            "\rDownloading NHANES datasets:  35%|███▍      | 55/158 [00:42<01:17,  1.33it/s]"
          ]
        },
        {
          "output_type": "stream",
          "name": "stdout",
          "text": [
            "✅ Saved NHANES_2009-2010_Questionnaire_Blood_Pressure_&_Cholesterol.csv\n"
          ]
        },
        {
          "output_type": "stream",
          "name": "stderr",
          "text": [
            "\rDownloading NHANES datasets:  36%|███▌      | 57/158 [00:42<01:01,  1.64it/s]"
          ]
        },
        {
          "output_type": "stream",
          "name": "stdout",
          "text": [
            "✅ Saved NHANES_2007-2008_Questionnaire_Blood_Pressure_&_Cholesterol.csv\n",
            "✅ Saved NHANES_2001-2002_Questionnaire_Diabetes.csv\n"
          ]
        },
        {
          "output_type": "stream",
          "name": "stderr",
          "text": [
            "Downloading NHANES datasets:  37%|███▋      | 59/158 [00:44<01:02,  1.58it/s]"
          ]
        },
        {
          "output_type": "stream",
          "name": "stdout",
          "text": [
            "✅ Saved NHANES_2009-2010_Laboratory_Oral_Glucose_Tolerance_Test.csv\n"
          ]
        },
        {
          "output_type": "stream",
          "name": "stderr",
          "text": [
            "\rDownloading NHANES datasets:  38%|███▊      | 60/158 [00:45<01:12,  1.35it/s]"
          ]
        },
        {
          "output_type": "stream",
          "name": "stdout",
          "text": [
            "✅ Saved NHANES_2003-2004_Laboratory_Fasting_Questionnaire.csv\n"
          ]
        },
        {
          "output_type": "stream",
          "name": "stderr",
          "text": [
            "\rDownloading NHANES datasets:  39%|███▊      | 61/158 [00:45<01:07,  1.44it/s]"
          ]
        },
        {
          "output_type": "stream",
          "name": "stdout",
          "text": [
            "✅ Saved NHANES_2005-2006_Laboratory_Oral_Glucose_Tolerance_Test.csv\n"
          ]
        },
        {
          "output_type": "stream",
          "name": "stderr",
          "text": [
            "\rDownloading NHANES datasets:  39%|███▉      | 62/158 [00:46<01:04,  1.48it/s]"
          ]
        },
        {
          "output_type": "stream",
          "name": "stdout",
          "text": [
            "✅ Saved NHANES_2011-2012_Laboratory_Oral_Glucose_Tolerance_Test.csv\n"
          ]
        },
        {
          "output_type": "stream",
          "name": "stderr",
          "text": [
            "\rDownloading NHANES datasets:  40%|███▉      | 63/158 [00:47<01:03,  1.49it/s]"
          ]
        },
        {
          "output_type": "stream",
          "name": "stdout",
          "text": [
            "✅ Saved NHANES_2005-2006_Questionnaire_Blood_Pressure_&_Cholesterol.csv\n"
          ]
        },
        {
          "output_type": "stream",
          "name": "stderr",
          "text": [
            "\rDownloading NHANES datasets:  41%|████      | 64/158 [00:47<01:04,  1.47it/s]"
          ]
        },
        {
          "output_type": "stream",
          "name": "stdout",
          "text": [
            "✅ Saved NHANES_08_2021-08_2023_Questionnaire_Diabetes.csv\n"
          ]
        },
        {
          "output_type": "stream",
          "name": "stderr",
          "text": [
            "\rDownloading NHANES datasets:  41%|████      | 65/158 [00:48<01:05,  1.43it/s]"
          ]
        },
        {
          "output_type": "stream",
          "name": "stdout",
          "text": [
            "✅ Saved NHANES_2003-2004_Questionnaire_Diabetes.csv\n"
          ]
        },
        {
          "output_type": "stream",
          "name": "stderr",
          "text": [
            "\rDownloading NHANES datasets:  42%|████▏     | 66/158 [00:50<01:29,  1.02it/s]"
          ]
        },
        {
          "output_type": "stream",
          "name": "stdout",
          "text": [
            "✅ Saved NHANES_1999-2000_Questionnaire_Blood_Pressure_&_Cholesterol.csv\n"
          ]
        },
        {
          "output_type": "stream",
          "name": "stderr",
          "text": [
            "\rDownloading NHANES datasets:  42%|████▏     | 67/158 [00:50<01:19,  1.15it/s]"
          ]
        },
        {
          "output_type": "stream",
          "name": "stdout",
          "text": [
            "✅ Saved NHANES_2015-2016_Laboratory_Oral_Glucose_Tolerance_Test.csv\n"
          ]
        },
        {
          "output_type": "stream",
          "name": "stderr",
          "text": [
            "\rDownloading NHANES datasets:  43%|████▎     | 68/158 [00:51<01:17,  1.16it/s]"
          ]
        },
        {
          "output_type": "stream",
          "name": "stdout",
          "text": [
            "✅ Saved NHANES_2001-2002_Questionnaire_Blood_Pressure_&_Cholesterol.csv\n",
            "✅ Saved NHANES_2013-2014_Laboratory_Cholesterol_-_Total.csv\n"
          ]
        },
        {
          "output_type": "stream",
          "name": "stderr",
          "text": [
            "Downloading NHANES datasets:  44%|████▍     | 70/158 [00:53<01:29,  1.01s/it]"
          ]
        },
        {
          "output_type": "stream",
          "name": "stdout",
          "text": [
            "✅ Saved NHANES_2013-2014_Laboratory_Fatty_Acids_-_Serum.csv\n"
          ]
        },
        {
          "output_type": "stream",
          "name": "stderr",
          "text": [
            "\rDownloading NHANES datasets:  45%|████▍     | 71/158 [00:54<01:20,  1.07it/s]"
          ]
        },
        {
          "output_type": "stream",
          "name": "stdout",
          "text": [
            "✅ Saved NHANES_2015-2016_Questionnaire_Blood_Pressure_&_Cholesterol.csv\n"
          ]
        },
        {
          "output_type": "stream",
          "name": "stderr",
          "text": [
            "\rDownloading NHANES datasets:  46%|████▌     | 72/158 [00:55<01:13,  1.17it/s]"
          ]
        },
        {
          "output_type": "stream",
          "name": "stdout",
          "text": [
            "✅ Saved NHANES_2011-2012_Laboratory_Cholesterol_-_Total.csv\n"
          ]
        },
        {
          "output_type": "stream",
          "name": "stderr",
          "text": [
            "\rDownloading NHANES datasets:  46%|████▌     | 73/158 [00:55<01:08,  1.24it/s]"
          ]
        },
        {
          "output_type": "stream",
          "name": "stdout",
          "text": [
            "✅ Saved NHANES_2003-2004_Laboratory_Fatty_Acids_-_Plasma_(Surplus).csv\n"
          ]
        },
        {
          "output_type": "stream",
          "name": "stderr",
          "text": [
            "\rDownloading NHANES datasets:  47%|████▋     | 74/158 [00:56<01:03,  1.32it/s]"
          ]
        },
        {
          "output_type": "stream",
          "name": "stdout",
          "text": [
            "✅ Saved NHANES_08_2021-08_2023_Questionnaire_Blood_Pressure_&_Cholesterol.csv\n"
          ]
        },
        {
          "output_type": "stream",
          "name": "stderr",
          "text": [
            "\rDownloading NHANES datasets:  47%|████▋     | 75/158 [00:57<00:59,  1.41it/s]"
          ]
        },
        {
          "output_type": "stream",
          "name": "stdout",
          "text": [
            "✅ Saved NHANES_2009-2010_Laboratory_Cholesterol_-_Total.csv\n"
          ]
        },
        {
          "output_type": "stream",
          "name": "stderr",
          "text": [
            "\rDownloading NHANES datasets:  48%|████▊     | 76/158 [00:58<01:14,  1.11it/s]"
          ]
        },
        {
          "output_type": "stream",
          "name": "stdout",
          "text": [
            "✅ Saved NHANES_2003-2004_Questionnaire_Blood_Pressure_&_Cholesterol.csv\n"
          ]
        },
        {
          "output_type": "stream",
          "name": "stderr",
          "text": [
            "\rDownloading NHANES datasets:  49%|████▊     | 77/158 [00:59<01:06,  1.22it/s]"
          ]
        },
        {
          "output_type": "stream",
          "name": "stdout",
          "text": [
            "✅ Saved NHANES_1999-2000_Laboratory_Cholesterol_-_Total_&_HDL.csv\n"
          ]
        },
        {
          "output_type": "stream",
          "name": "stderr",
          "text": [
            "\rDownloading NHANES datasets:  49%|████▉     | 78/158 [00:59<01:00,  1.33it/s]"
          ]
        },
        {
          "output_type": "stream",
          "name": "stdout",
          "text": [
            "✅ Saved NHANES_2007-2008_Laboratory_Cholesterol_-_Total.csv\n"
          ]
        },
        {
          "output_type": "stream",
          "name": "stderr",
          "text": [
            "\rDownloading NHANES datasets:  50%|█████     | 79/158 [01:00<00:55,  1.43it/s]"
          ]
        },
        {
          "output_type": "stream",
          "name": "stdout",
          "text": [
            "✅ Saved NHANES_2017-March_2020_Laboratory_Insulin.csv\n"
          ]
        },
        {
          "output_type": "stream",
          "name": "stderr",
          "text": [
            "\rDownloading NHANES datasets:  51%|█████     | 80/158 [01:00<00:51,  1.50it/s]"
          ]
        },
        {
          "output_type": "stream",
          "name": "stdout",
          "text": [
            "✅ Saved NHANES_2017-2018_Laboratory_Insulin.csv\n"
          ]
        },
        {
          "output_type": "stream",
          "name": "stderr",
          "text": [
            "\rDownloading NHANES datasets:  51%|█████▏    | 81/158 [01:01<00:50,  1.51it/s]"
          ]
        },
        {
          "output_type": "stream",
          "name": "stdout",
          "text": [
            "✅ Saved NHANES_2017-March_2020_Questionnaire_Blood_Pressure_&_Cholesterol.csv\n"
          ]
        },
        {
          "output_type": "stream",
          "name": "stderr",
          "text": [
            "\rDownloading NHANES datasets:  52%|█████▏    | 82/158 [01:02<00:49,  1.53it/s]"
          ]
        },
        {
          "output_type": "stream",
          "name": "stdout",
          "text": [
            "✅ Saved NHANES_2017-2018_Questionnaire_Blood_Pressure_&_Cholesterol.csv\n",
            "✅ Saved NHANES_2005-2006_Laboratory_Cholesterol_-_Total.csv\n"
          ]
        },
        {
          "output_type": "stream",
          "name": "stderr",
          "text": [
            "Downloading NHANES datasets:  53%|█████▎    | 84/158 [01:03<00:46,  1.60it/s]"
          ]
        },
        {
          "output_type": "stream",
          "name": "stdout",
          "text": [
            "✅ Saved NHANES_2015-2016_Laboratory_Insulin.csv\n"
          ]
        },
        {
          "output_type": "stream",
          "name": "stderr",
          "text": [
            "\rDownloading NHANES datasets:  54%|█████▍    | 86/158 [01:04<00:48,  1.48it/s]"
          ]
        },
        {
          "output_type": "stream",
          "name": "stdout",
          "text": [
            "✅ Saved NHANES_2011-2012_Laboratory_Fatty_Acids_-_Serum.csv\n"
          ]
        },
        {
          "output_type": "stream",
          "name": "stderr",
          "text": [
            "\rDownloading NHANES datasets:  55%|█████▌    | 87/158 [01:05<00:46,  1.52it/s]"
          ]
        },
        {
          "output_type": "stream",
          "name": "stdout",
          "text": [
            "✅ Saved NHANES_2013-2014_Laboratory_Cholesterol_-_HDL.csv\n"
          ]
        },
        {
          "output_type": "stream",
          "name": "stderr",
          "text": [
            "\rDownloading NHANES datasets:  56%|█████▋    | 89/158 [01:06<00:37,  1.85it/s]"
          ]
        },
        {
          "output_type": "stream",
          "name": "stdout",
          "text": [
            "✅ Saved NHANES_2001-2002_Laboratory_Cholesterol_-_Total_&_HDL.csv\n"
          ]
        },
        {
          "output_type": "stream",
          "name": "stderr",
          "text": [
            "\rDownloading NHANES datasets:  57%|█████▋    | 90/158 [01:06<00:38,  1.76it/s]"
          ]
        },
        {
          "output_type": "stream",
          "name": "stdout",
          "text": [
            "✅ Saved NHANES_2011-2012_Laboratory_Cholesterol_-_HDL.csv\n"
          ]
        },
        {
          "output_type": "stream",
          "name": "stderr",
          "text": [
            "\rDownloading NHANES datasets:  58%|█████▊    | 91/158 [01:07<00:41,  1.62it/s]"
          ]
        },
        {
          "output_type": "stream",
          "name": "stdout",
          "text": [
            "✅ Saved NHANES_08_2021-08_2023_Laboratory_Cholesterol_–_High-Density_Lipoprotein.csv\n"
          ]
        },
        {
          "output_type": "stream",
          "name": "stderr",
          "text": [
            "\rDownloading NHANES datasets:  58%|█████▊    | 92/158 [01:08<00:42,  1.56it/s]"
          ]
        },
        {
          "output_type": "stream",
          "name": "stdout",
          "text": [
            "✅ Saved NHANES_2009-2010_Laboratory_Cholesterol_-_HDL.csv\n"
          ]
        },
        {
          "output_type": "stream",
          "name": "stderr",
          "text": [
            "\rDownloading NHANES datasets:  59%|█████▉    | 93/158 [01:08<00:41,  1.58it/s]"
          ]
        },
        {
          "output_type": "stream",
          "name": "stdout",
          "text": [
            "✅ Saved NHANES_2007-2008_Laboratory_Cholesterol_-_HDL.csv\n"
          ]
        },
        {
          "output_type": "stream",
          "name": "stderr",
          "text": [
            "\rDownloading NHANES datasets:  59%|█████▉    | 94/158 [01:09<00:40,  1.57it/s]"
          ]
        },
        {
          "output_type": "stream",
          "name": "stdout",
          "text": [
            "✅ Saved NHANES_2003-2004_Laboratory_Cholesterol_-_Total_&_HDL.csv\n"
          ]
        },
        {
          "output_type": "stream",
          "name": "stderr",
          "text": [
            "\rDownloading NHANES datasets:  60%|██████    | 95/158 [01:10<00:39,  1.58it/s]"
          ]
        },
        {
          "output_type": "stream",
          "name": "stdout",
          "text": [
            "✅ Saved NHANES_2005-2006_Laboratory_Cholesterol_-_HDL.csv\n"
          ]
        },
        {
          "output_type": "stream",
          "name": "stderr",
          "text": [
            "\rDownloading NHANES datasets:  61%|██████    | 96/158 [01:10<00:38,  1.62it/s]"
          ]
        },
        {
          "output_type": "stream",
          "name": "stdout",
          "text": [
            "✅ Saved NHANES_08_2021-08_2023_Laboratory_Insulin.csv\n"
          ]
        },
        {
          "output_type": "stream",
          "name": "stderr",
          "text": [
            "\rDownloading NHANES datasets:  61%|██████▏   | 97/158 [01:11<00:41,  1.48it/s]"
          ]
        },
        {
          "output_type": "stream",
          "name": "stdout",
          "text": [
            "✅ Saved NHANES_2015-2016_Laboratory_Cholesterol_-_Total.csv\n"
          ]
        },
        {
          "output_type": "stream",
          "name": "stderr",
          "text": [
            "\rDownloading NHANES datasets:  62%|██████▏   | 98/158 [01:12<00:39,  1.53it/s]"
          ]
        },
        {
          "output_type": "stream",
          "name": "stdout",
          "text": [
            "✅ Saved NHANES_2015-2016_Laboratory_Cholesterol_-_High-Density_Lipoprotein_(HDL).csv\n"
          ]
        },
        {
          "output_type": "stream",
          "name": "stderr",
          "text": [
            "\rDownloading NHANES datasets:  63%|██████▎   | 99/158 [01:12<00:37,  1.55it/s]"
          ]
        },
        {
          "output_type": "stream",
          "name": "stdout",
          "text": [
            "✅ Saved NHANES_08_2021-08_2023_Laboratory_Cholesterol_-_Total.csv\n"
          ]
        },
        {
          "output_type": "stream",
          "name": "stderr",
          "text": [
            "\rDownloading NHANES datasets:  63%|██████▎   | 100/158 [01:13<00:40,  1.44it/s]"
          ]
        },
        {
          "output_type": "stream",
          "name": "stdout",
          "text": [
            "✅ Saved NHANES_2013-2014_Laboratory_Folate_Forms_-_Total_&_Individual_-_Serum.csv\n"
          ]
        },
        {
          "output_type": "stream",
          "name": "stderr",
          "text": [
            "\rDownloading NHANES datasets:  64%|██████▍   | 101/158 [01:14<00:37,  1.50it/s]"
          ]
        },
        {
          "output_type": "stream",
          "name": "stdout",
          "text": [
            "✅ Saved NHANES_2017-2018_Laboratory_Cholesterol_-_Total.csv\n"
          ]
        },
        {
          "output_type": "stream",
          "name": "stderr",
          "text": [
            "\rDownloading NHANES datasets:  65%|██████▍   | 102/158 [01:14<00:36,  1.54it/s]"
          ]
        },
        {
          "output_type": "stream",
          "name": "stdout",
          "text": [
            "✅ Saved NHANES_2017-March_2020_Laboratory_Cholesterol_-_Total.csv\n"
          ]
        },
        {
          "output_type": "stream",
          "name": "stderr",
          "text": [
            "\rDownloading NHANES datasets:  66%|██████▌   | 104/158 [01:15<00:26,  2.04it/s]"
          ]
        },
        {
          "output_type": "stream",
          "name": "stdout",
          "text": [
            "✅ Saved NHANES_2017-March_2020_Laboratory_Cholesterol_-_High_-_Density_Lipoprotein_(HDL).csv\n"
          ]
        },
        {
          "output_type": "stream",
          "name": "stderr",
          "text": [
            "\rDownloading NHANES datasets:  66%|██████▋   | 105/158 [01:16<00:27,  1.93it/s]"
          ]
        },
        {
          "output_type": "stream",
          "name": "stdout",
          "text": [
            "✅ Saved NHANES_2017-2018_Laboratory_Cholesterol_-_High_-_Density_Lipoprotein_(HDL).csv\n"
          ]
        },
        {
          "output_type": "stream",
          "name": "stderr",
          "text": [
            "\rDownloading NHANES datasets:  67%|██████▋   | 106/158 [01:16<00:27,  1.88it/s]"
          ]
        },
        {
          "output_type": "stream",
          "name": "stdout",
          "text": [
            "✅ Saved NHANES_2007-2008_Laboratory_Glycohemoglobin.csv\n"
          ]
        },
        {
          "output_type": "stream",
          "name": "stderr",
          "text": [
            "\rDownloading NHANES datasets:  68%|██████▊   | 107/158 [01:17<00:27,  1.82it/s]"
          ]
        },
        {
          "output_type": "stream",
          "name": "stdout",
          "text": [
            "✅ Saved NHANES_2005-2006_Laboratory_Glycohemoglobin.csv\n",
            "✅ Saved NHANES_08_2021-08_2023_Examination_Blood_Pressure_-_Oscillometric_Measurements.csv\n"
          ]
        },
        {
          "output_type": "stream",
          "name": "stderr",
          "text": [
            "Downloading NHANES datasets:  69%|██████▉   | 109/158 [01:19<00:41,  1.17it/s]"
          ]
        },
        {
          "output_type": "stream",
          "name": "stdout",
          "text": [
            "✅ Saved NHANES_08_2021-08_2023_Laboratory_Serum_Folate_Forms_-_Total_&_Individual_-_Serum.csv\n"
          ]
        },
        {
          "output_type": "stream",
          "name": "stderr",
          "text": [
            "\rDownloading NHANES datasets:  70%|██████▉   | 110/158 [01:20<00:37,  1.27it/s]"
          ]
        },
        {
          "output_type": "stream",
          "name": "stdout",
          "text": [
            "✅ Saved NHANES_2013-2014_Laboratory_Glycohemoglobin.csv\n"
          ]
        },
        {
          "output_type": "stream",
          "name": "stderr",
          "text": [
            "\rDownloading NHANES datasets:  71%|███████   | 112/158 [01:21<00:30,  1.51it/s]"
          ]
        },
        {
          "output_type": "stream",
          "name": "stdout",
          "text": [
            "✅ Saved NHANES_2011-2012_Laboratory_Folate_Forms_-_Total_&_Individual_-_Serum.csv\n"
          ]
        },
        {
          "output_type": "stream",
          "name": "stderr",
          "text": [
            "\rDownloading NHANES datasets:  72%|███████▏  | 113/158 [01:21<00:30,  1.47it/s]"
          ]
        },
        {
          "output_type": "stream",
          "name": "stdout",
          "text": [
            "✅ Saved NHANES_2017-March_2020_Examination_Blood_Pressure_-_Oscillometric_Measurements.csv\n"
          ]
        },
        {
          "output_type": "stream",
          "name": "stderr",
          "text": [
            "\rDownloading NHANES datasets:  72%|███████▏  | 114/158 [01:22<00:30,  1.44it/s]"
          ]
        },
        {
          "output_type": "stream",
          "name": "stdout",
          "text": [
            "✅ Saved NHANES_2017-2018_Examination_Blood_Pressure_-_Oscillometric_Measurements.csv\n"
          ]
        },
        {
          "output_type": "stream",
          "name": "stderr",
          "text": [
            "\rDownloading NHANES datasets:  73%|███████▎  | 115/158 [01:23<00:33,  1.29it/s]"
          ]
        },
        {
          "output_type": "stream",
          "name": "stdout",
          "text": [
            "✅ Saved NHANES_2013-2014_Examination_Blood_Pressure.csv\n"
          ]
        },
        {
          "output_type": "stream",
          "name": "stderr",
          "text": [
            "\rDownloading NHANES datasets:  73%|███████▎  | 116/158 [01:24<00:35,  1.17it/s]"
          ]
        },
        {
          "output_type": "stream",
          "name": "stdout",
          "text": [
            "✅ Saved NHANES_2007-2008_Examination_Blood_Pressure.csv\n"
          ]
        },
        {
          "output_type": "stream",
          "name": "stderr",
          "text": [
            "\rDownloading NHANES datasets:  74%|███████▍  | 117/158 [01:25<00:31,  1.29it/s]"
          ]
        },
        {
          "output_type": "stream",
          "name": "stdout",
          "text": [
            "✅ Saved NHANES_2009-2010_Laboratory_Glycohemoglobin.csv\n"
          ]
        },
        {
          "output_type": "stream",
          "name": "stderr",
          "text": [
            "\rDownloading NHANES datasets:  75%|███████▍  | 118/158 [01:25<00:29,  1.37it/s]"
          ]
        },
        {
          "output_type": "stream",
          "name": "stdout",
          "text": [
            "✅ Saved NHANES_08_2021-08_2023_Laboratory_Glycohemoglobin.csv\n"
          ]
        },
        {
          "output_type": "stream",
          "name": "stderr",
          "text": [
            "\rDownloading NHANES datasets:  75%|███████▌  | 119/158 [01:26<00:32,  1.22it/s]"
          ]
        },
        {
          "output_type": "stream",
          "name": "stdout",
          "text": [
            "✅ Saved NHANES_2011-2012_Examination_Blood_Pressure.csv\n"
          ]
        },
        {
          "output_type": "stream",
          "name": "stderr",
          "text": [
            "\rDownloading NHANES datasets:  76%|███████▌  | 120/158 [01:27<00:28,  1.34it/s]"
          ]
        },
        {
          "output_type": "stream",
          "name": "stdout",
          "text": [
            "✅ Saved NHANES_2011-2012_Laboratory_Glycohemoglobin.csv\n"
          ]
        },
        {
          "output_type": "stream",
          "name": "stderr",
          "text": [
            "\rDownloading NHANES datasets:  77%|███████▋  | 121/158 [01:28<00:28,  1.30it/s]"
          ]
        },
        {
          "output_type": "stream",
          "name": "stdout",
          "text": [
            "✅ Saved NHANES_2015-2016_Laboratory_Folate_Forms_-_Total_&_Individual_-_Serum.csv\n"
          ]
        },
        {
          "output_type": "stream",
          "name": "stderr",
          "text": [
            "\rDownloading NHANES datasets:  77%|███████▋  | 122/158 [01:29<00:27,  1.33it/s]"
          ]
        },
        {
          "output_type": "stream",
          "name": "stdout",
          "text": [
            "✅ Saved NHANES_2009-2010_Laboratory_Trans_Fatty_Acids.csv\n"
          ]
        },
        {
          "output_type": "stream",
          "name": "stderr",
          "text": [
            "\rDownloading NHANES datasets:  78%|███████▊  | 123/158 [01:29<00:24,  1.43it/s]"
          ]
        },
        {
          "output_type": "stream",
          "name": "stdout",
          "text": [
            "✅ Saved NHANES_2015-2016_Laboratory_Glycohemoglobin.csv\n"
          ]
        },
        {
          "output_type": "stream",
          "name": "stderr",
          "text": [
            "\rDownloading NHANES datasets:  78%|███████▊  | 124/158 [01:30<00:23,  1.47it/s]"
          ]
        },
        {
          "output_type": "stream",
          "name": "stdout",
          "text": [
            "✅ Saved NHANES_2017-March_2020_Laboratory_Glycohemoglobin.csv\n"
          ]
        },
        {
          "output_type": "stream",
          "name": "stderr",
          "text": [
            "\rDownloading NHANES datasets:  79%|███████▉  | 125/158 [01:30<00:21,  1.53it/s]"
          ]
        },
        {
          "output_type": "stream",
          "name": "stdout",
          "text": [
            "✅ Saved NHANES_2017-2018_Laboratory_Glycohemoglobin.csv\n"
          ]
        },
        {
          "output_type": "stream",
          "name": "stderr",
          "text": [
            "\rDownloading NHANES datasets:  80%|████████  | 127/158 [01:31<00:17,  1.80it/s]"
          ]
        },
        {
          "output_type": "stream",
          "name": "stdout",
          "text": [
            "✅ Saved NHANES_2017-March_2020_Questionnaire_Weight_History.csv\n"
          ]
        },
        {
          "output_type": "stream",
          "name": "stderr",
          "text": [
            "\rDownloading NHANES datasets:  81%|████████  | 128/158 [01:32<00:20,  1.48it/s]"
          ]
        },
        {
          "output_type": "stream",
          "name": "stdout",
          "text": [
            "✅ Saved NHANES_2017-2018_Questionnaire_Weight_History.csv\n",
            "✅ Saved NHANES_1999-2000_Laboratory_Trans_Fatty_Acids.csv\n"
          ]
        },
        {
          "output_type": "stream",
          "name": "stderr",
          "text": [
            "Downloading NHANES datasets:  82%|████████▏ | 130/158 [01:34<00:23,  1.17it/s]"
          ]
        },
        {
          "output_type": "stream",
          "name": "stdout",
          "text": [
            "✅ Saved NHANES_2009-2010_Examination_Blood_Pressure.csv\n"
          ]
        },
        {
          "output_type": "stream",
          "name": "stderr",
          "text": [
            "\rDownloading NHANES datasets:  83%|████████▎ | 131/158 [01:36<00:26,  1.03it/s]"
          ]
        },
        {
          "output_type": "stream",
          "name": "stdout",
          "text": [
            "✅ Saved NHANES_2005-2006_Examination_Blood_Pressure.csv\n"
          ]
        },
        {
          "output_type": "stream",
          "name": "stderr",
          "text": [
            "\rDownloading NHANES datasets:  84%|████████▎ | 132/158 [01:36<00:23,  1.11it/s]"
          ]
        },
        {
          "output_type": "stream",
          "name": "stdout",
          "text": [
            "✅ Saved NHANES_2017-March_2020_Laboratory_Folate_Forms_-_Total_&_Individual_-_Serum.csv\n"
          ]
        },
        {
          "output_type": "stream",
          "name": "stderr",
          "text": [
            "\rDownloading NHANES datasets:  84%|████████▍ | 133/158 [01:37<00:21,  1.17it/s]"
          ]
        },
        {
          "output_type": "stream",
          "name": "stdout",
          "text": [
            "✅ Saved NHANES_2017-2018_Laboratory_Folate_Forms_-_Total_&_Individual_-_Serum.csv\n"
          ]
        },
        {
          "output_type": "stream",
          "name": "stderr",
          "text": [
            "\rDownloading NHANES datasets:  85%|████████▍ | 134/158 [01:38<00:18,  1.29it/s]"
          ]
        },
        {
          "output_type": "stream",
          "name": "stdout",
          "text": [
            "✅ Saved NHANES_2003-2004_Laboratory_Glycohemoglobin.csv\n"
          ]
        },
        {
          "output_type": "stream",
          "name": "stderr",
          "text": [
            "\rDownloading NHANES datasets:  86%|████████▌ | 136/158 [01:38<00:12,  1.80it/s]"
          ]
        },
        {
          "output_type": "stream",
          "name": "stdout",
          "text": [
            "✅ Saved NHANES_1999-2000_Laboratory_Glycohemoglobin.csv\n"
          ]
        },
        {
          "output_type": "stream",
          "name": "stderr",
          "text": [
            "\rDownloading NHANES datasets:  87%|████████▋ | 137/158 [01:39<00:11,  1.77it/s]"
          ]
        },
        {
          "output_type": "stream",
          "name": "stdout",
          "text": [
            "✅ Saved NHANES_2001-2002_Laboratory_Glycohemoglobin.csv\n"
          ]
        },
        {
          "output_type": "stream",
          "name": "stderr",
          "text": [
            "\rDownloading NHANES datasets:  87%|████████▋ | 138/158 [01:40<00:12,  1.55it/s]"
          ]
        },
        {
          "output_type": "stream",
          "name": "stdout",
          "text": [
            "✅ Saved NHANES_2017-March_2020_Examination_Blood_Pressure_-_Oscillometric_Measurement.csv\n"
          ]
        },
        {
          "output_type": "stream",
          "name": "stderr",
          "text": [
            "\rDownloading NHANES datasets:  88%|████████▊ | 139/158 [01:41<00:14,  1.33it/s]"
          ]
        },
        {
          "output_type": "stream",
          "name": "stdout",
          "text": [
            "✅ Saved NHANES_1999-2000_Examination_Blood_Pressure.csv\n"
          ]
        },
        {
          "output_type": "stream",
          "name": "stderr",
          "text": [
            "\rDownloading NHANES datasets:  89%|████████▊ | 140/158 [01:42<00:15,  1.20it/s]"
          ]
        },
        {
          "output_type": "stream",
          "name": "stdout",
          "text": [
            "✅ Saved NHANES_2001-2002_Examination_Blood_Pressure.csv\n"
          ]
        },
        {
          "output_type": "stream",
          "name": "stderr",
          "text": [
            "\rDownloading NHANES datasets:  89%|████████▉ | 141/158 [01:43<00:14,  1.17it/s]"
          ]
        },
        {
          "output_type": "stream",
          "name": "stdout",
          "text": [
            "✅ Saved NHANES_2015-2016_Examination_Blood_Pressure.csv\n",
            "✅ Saved NHANES_2017-2018_Examination_Blood_Pressure.csv\n"
          ]
        },
        {
          "output_type": "stream",
          "name": "stderr",
          "text": [
            "Downloading NHANES datasets:  91%|█████████ | 143/158 [01:44<00:12,  1.16it/s]"
          ]
        },
        {
          "output_type": "stream",
          "name": "stdout",
          "text": [
            "✅ Saved NHANES_2017-March_2020_Examination_Blood_Pressure.csv\n"
          ]
        },
        {
          "output_type": "stream",
          "name": "stderr",
          "text": [
            "\rDownloading NHANES datasets:  91%|█████████ | 144/158 [01:46<00:13,  1.03it/s]"
          ]
        },
        {
          "output_type": "stream",
          "name": "stdout",
          "text": [
            "✅ Saved NHANES_2013-2014_Laboratory_Complete_Blood_Count_with_5-part_Differential_-_Whole_Blood.csv\n"
          ]
        },
        {
          "output_type": "stream",
          "name": "stderr",
          "text": [
            "\rDownloading NHANES datasets:  92%|█████████▏| 145/158 [01:46<00:11,  1.17it/s]"
          ]
        },
        {
          "output_type": "stream",
          "name": "stdout",
          "text": [
            "✅ Saved NHANES_2001-2002_Laboratory_Complete_Blood_Count_with_5-part_Differential_-_Whole_Blood,_Second_Exam.csv\n"
          ]
        },
        {
          "output_type": "stream",
          "name": "stderr",
          "text": [
            "\rDownloading NHANES datasets:  92%|█████████▏| 146/158 [01:48<00:12,  1.01s/it]"
          ]
        },
        {
          "output_type": "stream",
          "name": "stdout",
          "text": [
            "✅ Saved NHANES_08_2021-08_2023_Demographics_Demographic_Variables_and_Sample_Weights.csv\n"
          ]
        },
        {
          "output_type": "stream",
          "name": "stderr",
          "text": [
            "\rDownloading NHANES datasets:  93%|█████████▎| 147/158 [01:49<00:12,  1.11s/it]"
          ]
        },
        {
          "output_type": "stream",
          "name": "stdout",
          "text": [
            "✅ Saved NHANES_2017-March_2020_Demographics_Demographic_Variables_and_Sample_Weights.csv\n"
          ]
        },
        {
          "output_type": "stream",
          "name": "stderr",
          "text": [
            "\rDownloading NHANES datasets:  94%|█████████▍| 149/158 [01:51<00:08,  1.03it/s]"
          ]
        },
        {
          "output_type": "stream",
          "name": "stdout",
          "text": [
            "✅ Saved NHANES_2017-2018_Demographics_Demographic_Variables_and_Sample_Weights.csv\n"
          ]
        },
        {
          "output_type": "stream",
          "name": "stderr",
          "text": [
            "\rDownloading NHANES datasets:  95%|█████████▍| 150/158 [01:52<00:08,  1.08s/it]"
          ]
        },
        {
          "output_type": "stream",
          "name": "stdout",
          "text": [
            "✅ Saved NHANES_2015-2016_Demographics_Demographic_Variables_and_Sample_Weights.csv\n"
          ]
        },
        {
          "output_type": "stream",
          "name": "stderr",
          "text": [
            "\rDownloading NHANES datasets:  96%|█████████▌| 151/158 [01:53<00:08,  1.18s/it]"
          ]
        },
        {
          "output_type": "stream",
          "name": "stdout",
          "text": [
            "✅ Saved NHANES_2013-2014_Demographics_Demographic_Variables_and_Sample_Weights.csv\n",
            "✅ Saved NHANES_2011-2012_Demographics_Demographic_Variables_&_Sample_Weights.csv\n"
          ]
        },
        {
          "output_type": "stream",
          "name": "stderr",
          "text": [
            "Downloading NHANES datasets:  97%|█████████▋| 153/158 [01:56<00:06,  1.30s/it]"
          ]
        },
        {
          "output_type": "stream",
          "name": "stdout",
          "text": [
            "✅ Saved NHANES_2009-2010_Demographics_Demographic_Variables_&_Sample_Weights.csv\n"
          ]
        },
        {
          "output_type": "stream",
          "name": "stderr",
          "text": [
            "\rDownloading NHANES datasets:  97%|█████████▋| 154/158 [01:58<00:05,  1.40s/it]"
          ]
        },
        {
          "output_type": "stream",
          "name": "stdout",
          "text": [
            "✅ Saved NHANES_2007-2008_Demographics_Demographic_Variables_&_Sample_Weights.csv\n"
          ]
        },
        {
          "output_type": "stream",
          "name": "stderr",
          "text": [
            "\rDownloading NHANES datasets:  98%|█████████▊| 155/158 [02:00<00:04,  1.52s/it]"
          ]
        },
        {
          "output_type": "stream",
          "name": "stdout",
          "text": [
            "✅ Saved NHANES_2005-2006_Demographics_Demographic_Variables_&_Sample_Weights.csv\n"
          ]
        },
        {
          "output_type": "stream",
          "name": "stderr",
          "text": [
            "\rDownloading NHANES datasets:  99%|█████████▊| 156/158 [02:01<00:03,  1.52s/it]"
          ]
        },
        {
          "output_type": "stream",
          "name": "stdout",
          "text": [
            "✅ Saved NHANES_2003-2004_Demographics_Demographic_Variables_&_Sample_Weights.csv\n"
          ]
        },
        {
          "output_type": "stream",
          "name": "stderr",
          "text": [
            "\rDownloading NHANES datasets:  99%|█████████▉| 157/158 [02:03<00:01,  1.46s/it]"
          ]
        },
        {
          "output_type": "stream",
          "name": "stdout",
          "text": [
            "✅ Saved NHANES_2001-2002_Demographics_Demographic_Variables_&_Sample_Weights.csv\n"
          ]
        },
        {
          "output_type": "stream",
          "name": "stderr",
          "text": [
            "\rDownloading NHANES datasets: 100%|██████████| 158/158 [02:07<00:00,  2.43s/it]"
          ]
        },
        {
          "output_type": "stream",
          "name": "stdout",
          "text": [
            "✅ Saved NHANES_1999-2000_Demographics_Demographic_Variables_&_Sample_Weights.csv\n"
          ]
        },
        {
          "output_type": "stream",
          "name": "stderr",
          "text": [
            "\rDownloading NHANES datasets: 100%|██████████| 158/158 [02:07<00:00,  1.24it/s]"
          ]
        },
        {
          "output_type": "stream",
          "name": "stdout",
          "text": [
            "\n",
            "✅ Download complete. Files saved in 'nhanes_data'\n"
          ]
        },
        {
          "output_type": "stream",
          "name": "stderr",
          "text": [
            "\n"
          ]
        }
      ]
    },
    {
      "cell_type": "code",
      "source": [
        "import pandas as pd\n",
        "import os\n",
        "import re\n",
        "from tqdm import tqdm\n",
        "\n",
        "DATA_DIR = \"nhanes_data\"\n",
        "OUTPUT_FILE = \"nhanes_patient_flattened.csv\"\n",
        "SUMMARY_FILE = \"nhanes_column_summary.csv\"\n",
        "\n",
        "# Columns to drop before merging (metadata)\n",
        "METADATA_COLS = ['Dataset_Name', 'Doc_URL', 'Component', 'NHANES_Cycle']\n",
        "\n",
        "# Track files missing SEQN\n",
        "missing_seqn_files = []\n",
        "\n",
        "# Function to extract NHANES cycle from filename\n",
        "def extract_cycle(filename):\n",
        "    match = re.search(r'(\\d{4})[-_](\\d{4})', filename)\n",
        "    if match:\n",
        "        return f\"{match.group(1)}-{match.group(2)}\"\n",
        "    numbers = re.findall(r'\\d{4}', filename)\n",
        "    if len(numbers) >= 2:\n",
        "        return f\"{numbers[0]}-{numbers[1]}\"\n",
        "    return \"unknown\"\n",
        "\n",
        "# 1️⃣ Group datasets by NHANES cycle\n",
        "cycle_files = {}\n",
        "for file in os.listdir(DATA_DIR):\n",
        "    if file.endswith(\".csv\"):\n",
        "        cycle = extract_cycle(file)\n",
        "        cycle_files.setdefault(cycle, []).append(file)\n",
        "\n",
        "# 2️⃣ Process each cycle\n",
        "flattened_dfs = []\n",
        "missing_datasets = {}\n",
        "column_sources = []  # Track each column's origin\n",
        "\n",
        "for cycle, files in tqdm(cycle_files.items(), desc=\"Processing NHANES cycles\"):\n",
        "    missing_datasets[cycle] = []\n",
        "\n",
        "    # Find demographics file\n",
        "    demog_file = [f for f in files if \"Demographics\" in f]\n",
        "    if not demog_file:\n",
        "        print(f\"⚠️ No demographics file found for cycle {cycle}. Skipping cycle.\")\n",
        "        missing_datasets[cycle].append(\"Demographics\")\n",
        "        continue\n",
        "\n",
        "    # Read demographics\n",
        "    df_cycle = pd.read_csv(os.path.join(DATA_DIR, demog_file[0]), low_memory=False)\n",
        "    print(f\"✅ Demographics loaded for {cycle}: {len(df_cycle)} patients, {len(df_cycle.columns)} columns\")\n",
        "\n",
        "    # Track column origins for demographics\n",
        "    for col in df_cycle.columns:\n",
        "        column_sources.append({\n",
        "            \"Column\": col,\n",
        "            \"Cycle\": cycle,\n",
        "            \"Source_File\": demog_file[0]\n",
        "        })\n",
        "\n",
        "    # Merge all other datasets\n",
        "    for f in files:\n",
        "        if f == demog_file[0]:\n",
        "            continue\n",
        "\n",
        "        df_other = pd.read_csv(os.path.join(DATA_DIR, f), low_memory=False)\n",
        "\n",
        "        if 'SEQN' not in df_other.columns:\n",
        "            print(f\"⚠️ {f} has no SEQN. Skipping merge.\")\n",
        "            missing_datasets[cycle].append(f)\n",
        "            missing_seqn_files.append(f\"{cycle}: {f}\")\n",
        "            continue\n",
        "\n",
        "        # Drop metadata columns\n",
        "        df_other_clean = df_other.drop(columns=[c for c in METADATA_COLS if c in df_other.columns])\n",
        "\n",
        "        # Rename columns to avoid collisions\n",
        "        rename_map = {col: f\"{col}_{os.path.splitext(f)[0]}\" for col in df_other_clean.columns if col != 'SEQN'}\n",
        "        df_other_clean = df_other_clean.rename(columns=rename_map)\n",
        "\n",
        "        # Track column origins\n",
        "        for col in df_other_clean.columns:\n",
        "            if col != 'SEQN':\n",
        "                column_sources.append({\n",
        "                    \"Column\": col,\n",
        "                    \"Cycle\": cycle,\n",
        "                    \"Source_File\": f\n",
        "                })\n",
        "\n",
        "        try:\n",
        "            df_cycle = df_cycle.merge(df_other_clean, on=\"SEQN\", how=\"left\")\n",
        "            print(f\"🔹 Merged {f} into {cycle}: +{len(rename_map)} columns\")\n",
        "        except Exception as e:\n",
        "            print(f\"⚠️ Failed to merge {f} into {cycle}: {e}\")\n",
        "            missing_datasets[cycle].append(f)\n",
        "\n",
        "    flattened_dfs.append(df_cycle)\n",
        "\n",
        "# 3️⃣ Combine all cycles\n",
        "all_patients_df = pd.concat(flattened_dfs, ignore_index=True, sort=False)\n",
        "\n",
        "# 4️⃣ Save flattened dataset\n",
        "all_patients_df.to_csv(OUTPUT_FILE, index=False)\n",
        "print(f\"\\n✅ Flattened dataset ready: {OUTPUT_FILE}\")\n",
        "print(f\"Shape: {all_patients_df.shape[0]} patients, {all_patients_df.shape[1]} variables\")\n",
        "\n",
        "# 5️⃣ Save column summary\n",
        "df_summary = pd.DataFrame(column_sources)\n",
        "df_summary.to_csv(SUMMARY_FILE, index=False)\n",
        "print(f\"📊 Column summary saved: {SUMMARY_FILE}\")\n",
        "\n",
        "# 6️⃣ Report missing datasets\n",
        "print(\"\\n📋 Missing datasets per cycle:\")\n",
        "for cycle, missing in missing_datasets.items():\n",
        "    if missing:\n",
        "        print(f\"- {cycle}: {missing}\")\n",
        "\n",
        "# 7️⃣ Report files skipped due to missing SEQN\n",
        "if missing_seqn_files:\n",
        "    print(\"\\n⚠️ Files skipped due to missing SEQN:\")\n",
        "    for f in missing_seqn_files:\n",
        "        print(f\"  - {f}\")\n",
        "\n",
        "\n",
        "\n",
        "\n",
        "\n"
      ],
      "metadata": {
        "colab": {
          "base_uri": "https://localhost:8080/"
        },
        "id": "j6PkrxnG5f_K",
        "outputId": "a3462624-a6e6-4f0a-851c-3df32c486600"
      },
      "execution_count": 3,
      "outputs": [
        {
          "output_type": "stream",
          "name": "stderr",
          "text": [
            "\rProcessing NHANES cycles:   0%|          | 0/12 [00:00<?, ?it/s]"
          ]
        },
        {
          "output_type": "stream",
          "name": "stdout",
          "text": [
            "✅ Demographics loaded for 2017-2020: 9254 patients, 50 columns\n",
            "🔹 Merged NHANES_2017-March_2020_Examination_Blood_Pressure_-_Oscillometric_Measurements.csv into 2017-2020: +12 columns\n",
            "🔹 Merged NHANES_2017-March_2020_Laboratory_Cholesterol_-_Low-Density_Lipoproteins_(LDL)_&_Triglycerides.csv into 2017-2020: +9 columns\n",
            "🔹 Merged NHANES_2017-March_2020_Laboratory_Fasting_Questionnaire.csv into 2017-2020: +18 columns\n",
            "🔹 Merged NHANES_2017-March_2020_Laboratory_Plasma_Fasting_Glucose.csv into 2017-2020: +3 columns\n",
            "🔹 Merged NHANES_2017-March_2020_Examination_Blood_Pressure_-_Oscillometric_Measurement.csv into 2017-2020: +11 columns\n",
            "🔹 Merged NHANES_2017-March_2020_Questionnaire_Weight_History.csv into 2017-2020: +36 columns\n",
            "🔹 Merged NHANES_2017-March_2020_Questionnaire_Blood_Pressure_&_Cholesterol.csv into 2017-2020: +10 columns\n",
            "🔹 Merged NHANES_2017-March_2020_Laboratory_Cholesterol_-_High_-_Density_Lipoprotein_(HDL).csv into 2017-2020: +2 columns\n",
            "🔹 Merged NHANES_2017-March_2020_Examination_Blood_Pressure.csv into 2017-2020: +20 columns\n",
            "🔹 Merged NHANES_2017-March_2020_Laboratory_Glycohemoglobin.csv into 2017-2020: +1 columns\n",
            "🔹 Merged NHANES_2017-March_2020_Questionnaire_Diabetes.csv into 2017-2020: +53 columns\n",
            "🔹 Merged NHANES_2017-March_2020_Laboratory_Insulin.csv into 2017-2020: +4 columns\n"
          ]
        },
        {
          "output_type": "stream",
          "name": "stderr",
          "text": [
            "\rProcessing NHANES cycles:   8%|▊         | 1/12 [00:00<00:05,  1.92it/s]"
          ]
        },
        {
          "output_type": "stream",
          "name": "stdout",
          "text": [
            "🔹 Merged NHANES_2017-March_2020_Laboratory_Folate_Forms_-_Total_&_Individual_-_Serum.csv into 2017-2020: +15 columns\n",
            "🔹 Merged NHANES_2017-March_2020_Laboratory_Cholesterol_-_Total.csv into 2017-2020: +2 columns\n",
            "✅ Demographics loaded for 2017-2018: 9254 patients, 50 columns\n",
            "🔹 Merged NHANES_2017-2018_Questionnaire_Diabetes.csv into 2017-2018: +53 columns\n",
            "🔹 Merged NHANES_2017-2018_Laboratory_Plasma_Fasting_Glucose.csv into 2017-2018: +3 columns\n",
            "🔹 Merged NHANES_2017-2018_Laboratory_Fasting_Questionnaire.csv into 2017-2018: +18 columns\n",
            "🔹 Merged NHANES_2017-2018_Examination_Blood_Pressure_-_Oscillometric_Measurements.csv into 2017-2018: +12 columns\n",
            "🔹 Merged NHANES_2017-2018_Laboratory_Cholesterol_-_Low-Density_Lipoproteins_(LDL)_&_Triglycerides.csv into 2017-2018: +9 columns\n",
            "🔹 Merged NHANES_2017-2018_Laboratory_Insulin.csv into 2017-2018: +4 columns\n",
            "🔹 Merged NHANES_2017-2018_Laboratory_Cholesterol_-_Total.csv into 2017-2018: +2 columns\n",
            "🔹 Merged NHANES_2017-2018_Laboratory_Cholesterol_-_High_-_Density_Lipoprotein_(HDL).csv into 2017-2018: +2 columns\n",
            "🔹 Merged NHANES_2017-2018_Laboratory_Folate_Forms_-_Total_&_Individual_-_Serum.csv into 2017-2018: +15 columns\n",
            "🔹 Merged NHANES_2017-2018_Questionnaire_Blood_Pressure_&_Cholesterol.csv into 2017-2018: +10 columns\n",
            "🔹 Merged NHANES_2017-2018_Examination_Blood_Pressure.csv into 2017-2018: +20 columns\n"
          ]
        },
        {
          "output_type": "stream",
          "name": "stderr",
          "text": [
            "\rProcessing NHANES cycles:  17%|█▋        | 2/12 [00:00<00:04,  2.08it/s]"
          ]
        },
        {
          "output_type": "stream",
          "name": "stdout",
          "text": [
            "🔹 Merged NHANES_2017-2018_Questionnaire_Weight_History.csv into 2017-2018: +36 columns\n",
            "🔹 Merged NHANES_2017-2018_Laboratory_Glycohemoglobin.csv into 2017-2018: +1 columns\n",
            "✅ Demographics loaded for 2005-2006: 10348 patients, 47 columns\n",
            "🔹 Merged NHANES_2005-2006_Examination_Blood_Pressure.csv into 2005-2006: +27 columns\n",
            "🔹 Merged NHANES_2005-2006_Laboratory_Oral_Glucose_Tolerance_Test.csv into 2005-2006: +5 columns\n",
            "🔹 Merged NHANES_2005-2006_Laboratory_Plasma_Fasting_Glucose_&_Insulin.csv into 2005-2006: +7 columns\n",
            "🔹 Merged NHANES_2005-2006_Laboratory_Glycohemoglobin.csv into 2005-2006: +1 columns\n"
          ]
        },
        {
          "output_type": "stream",
          "name": "stderr",
          "text": [
            "\rProcessing NHANES cycles:  25%|██▌       | 3/12 [00:01<00:03,  2.41it/s]"
          ]
        },
        {
          "output_type": "stream",
          "name": "stdout",
          "text": [
            "🔹 Merged NHANES_2005-2006_Laboratory_Cholesterol_-_LDL,_Triglyceride_&_Apoliprotein_(ApoB).csv into 2005-2006: +7 columns\n",
            "🔹 Merged NHANES_2005-2006_Questionnaire_Blood_Pressure_&_Cholesterol.csv into 2005-2006: +15 columns\n",
            "🔹 Merged NHANES_2005-2006_Laboratory_Cholesterol_-_HDL.csv into 2005-2006: +2 columns\n",
            "🔹 Merged NHANES_2005-2006_Questionnaire_Diabetes.csv into 2005-2006: +35 columns\n",
            "🔹 Merged NHANES_2005-2006_Laboratory_Cholesterol_-_Total.csv into 2005-2006: +2 columns\n",
            "🔹 Merged NHANES_2005-2006_Laboratory_Fasting_Questionnaire.csv into 2005-2006: +18 columns\n",
            "✅ Demographics loaded for 2011-2012: 9756 patients, 52 columns\n",
            "🔹 Merged NHANES_2011-2012_Laboratory_Cholesterol_-_LDL_&_Triglycerides.csv into 2011-2012: +5 columns\n",
            "🔹 Merged NHANES_2011-2012_Laboratory_Fatty_Acids_-_Serum.csv into 2011-2012: +61 columns\n",
            "🔹 Merged NHANES_2011-2012_Laboratory_Plasma_Fasting_Glucose_&_Insulin.csv into 2011-2012: +7 columns\n",
            "🔹 Merged NHANES_2011-2012_Laboratory_Oral_Glucose_Tolerance_Test.csv into 2011-2012: +11 columns\n",
            "🔹 Merged NHANES_2011-2012_Laboratory_Glycohemoglobin.csv into 2011-2012: +1 columns\n",
            "🔹 Merged NHANES_2011-2012_Examination_Blood_Pressure.csv into 2011-2012: +26 columns\n",
            "🔹 Merged NHANES_2011-2012_Questionnaire_Blood_Pressure_&_Cholesterol.csv into 2011-2012: +14 columns\n",
            "🔹 Merged NHANES_2011-2012_Laboratory_Cholesterol_-_HDL.csv into 2011-2012: +2 columns\n",
            "🔹 Merged NHANES_2011-2012_Laboratory_Fasting_Questionnaire.csv into 2011-2012: +18 columns\n",
            "🔹 Merged NHANES_2011-2012_Laboratory_Folate_Forms_-_Total_&_Individual_-_Serum.csv into 2011-2012: +14 columns\n",
            "🔹 Merged NHANES_2011-2012_Questionnaire_Diabetes.csv into 2011-2012: +52 columns\n"
          ]
        },
        {
          "output_type": "stream",
          "name": "stderr",
          "text": [
            "\rProcessing NHANES cycles:  33%|███▎      | 4/12 [00:01<00:03,  2.26it/s]"
          ]
        },
        {
          "output_type": "stream",
          "name": "stdout",
          "text": [
            "🔹 Merged NHANES_2011-2012_Laboratory_Cholesterol_-_Total.csv into 2011-2012: +2 columns\n",
            "✅ Demographics loaded for 2001-2002: 11039 patients, 41 columns\n",
            "🔹 Merged NHANES_2001-2002_Examination_Blood_Pressure.csv into 2001-2002: +29 columns\n",
            "🔹 Merged NHANES_2001-2002_Laboratory_Cholesterol_-_Total_&_HDL.csv into 2001-2002: +4 columns\n",
            "🔹 Merged NHANES_2001-2002_Laboratory_Cholesterol_-_Total,_HDL,_LDL__&_Triglycerides,_Second_Exam.csv into 2001-2002: +9 columns\n",
            "🔹 Merged NHANES_2001-2002_Laboratory_Cholesterol_-_LDL_&_Triglycerides.csv into 2001-2002: +6 columns\n",
            "🔹 Merged NHANES_2001-2002_Laboratory_Fasting_Questionnaire.csv into 2001-2002: +18 columns\n",
            "🔹 Merged NHANES_2001-2002_Questionnaire_Diabetes.csv into 2001-2002: +16 columns\n",
            "🔹 Merged NHANES_2001-2002_Laboratory_Complete_Blood_Count_with_5-part_Differential_-_Whole_Blood,_Second_Exam.csv into 2001-2002: +21 columns\n",
            "🔹 Merged NHANES_2001-2002_Laboratory_Plasma_Fasting_Glucose,_Serum_C-peptide_&_Insulin.csv into 2001-2002: +7 columns\n",
            "🔹 Merged NHANES_2001-2002_Questionnaire_Blood_Pressure_&_Cholesterol.csv into 2001-2002: +35 columns\n"
          ]
        },
        {
          "output_type": "stream",
          "name": "stderr",
          "text": [
            "\rProcessing NHANES cycles:  42%|████▏     | 5/12 [00:02<00:03,  2.20it/s]"
          ]
        },
        {
          "output_type": "stream",
          "name": "stdout",
          "text": [
            "🔹 Merged NHANES_2001-2002_Laboratory_Glycohemoglobin.csv into 2001-2002: +1 columns\n",
            "🔹 Merged NHANES_2001-2002_Laboratory_Glycohemoglobin,_Plasma_Glucose,_Serum_C-peptide,_&_Insulin,_Second_Exam.csv into 2001-2002: +8 columns\n",
            "✅ Demographics loaded for 2015-2016: 9971 patients, 51 columns\n",
            "🔹 Merged NHANES_2015-2016_Laboratory_Plasma_Fasting_Glucose.csv into 2015-2016: +3 columns\n",
            "🔹 Merged NHANES_2015-2016_Laboratory_Fasting_Questionnaire.csv into 2015-2016: +18 columns\n",
            "🔹 Merged NHANES_2015-2016_Questionnaire_Blood_Pressure_&_Cholesterol.csv into 2015-2016: +10 columns\n",
            "🔹 Merged NHANES_2015-2016_Laboratory_Cholesterol_-_Total.csv into 2015-2016: +2 columns\n",
            "🔹 Merged NHANES_2015-2016_Laboratory_Oral_Glucose_Tolerance_Test.csv into 2015-2016: +9 columns\n",
            "🔹 Merged NHANES_2015-2016_Questionnaire_Diabetes.csv into 2015-2016: +53 columns\n"
          ]
        },
        {
          "output_type": "stream",
          "name": "stderr",
          "text": [
            "\rProcessing NHANES cycles:  50%|█████     | 6/12 [00:02<00:03,  1.98it/s]"
          ]
        },
        {
          "output_type": "stream",
          "name": "stdout",
          "text": [
            "🔹 Merged NHANES_2015-2016_Examination_Blood_Pressure.csv into 2015-2016: +20 columns\n",
            "🔹 Merged NHANES_2015-2016_Laboratory_Folate_Forms_-_Total_&_Individual_-_Serum.csv into 2015-2016: +14 columns\n",
            "🔹 Merged NHANES_2015-2016_Laboratory_Cholesterol_-_High-Density_Lipoprotein_(HDL).csv into 2015-2016: +2 columns\n",
            "🔹 Merged NHANES_2015-2016_Laboratory_Glycohemoglobin.csv into 2015-2016: +1 columns\n",
            "🔹 Merged NHANES_2015-2016_Laboratory_Insulin.csv into 2015-2016: +6 columns\n",
            "🔹 Merged NHANES_2015-2016_Laboratory_Cholesterol_-_Low_-_Density_Lipoprotein_(LDL)_&_Triglycerides.csv into 2015-2016: +5 columns\n",
            "✅ Demographics loaded for 2003-2004: 10122 patients, 48 columns\n",
            "🔹 Merged NHANES_2003-2004_Questionnaire_Blood_Pressure_&_Cholesterol.csv into 2003-2004: +35 columns\n",
            "🔹 Merged NHANES_2003-2004_Questionnaire_Diabetes.csv into 2003-2004: +16 columns\n",
            "🔹 Merged NHANES_2003-2004_Laboratory_Cholesterol_-_LDL_&_Triglycerides.csv into 2003-2004: +5 columns\n",
            "🔹 Merged NHANES_2003-2004_Laboratory_Glycohemoglobin.csv into 2003-2004: +1 columns\n",
            "🔹 Merged NHANES_2003-2004_Laboratory_Cholesterol_-_Total_&_HDL.csv into 2003-2004: +4 columns\n"
          ]
        },
        {
          "output_type": "stream",
          "name": "stderr",
          "text": [
            "\rProcessing NHANES cycles:  58%|█████▊    | 7/12 [00:03<00:02,  2.11it/s]"
          ]
        },
        {
          "output_type": "stream",
          "name": "stdout",
          "text": [
            "🔹 Merged NHANES_2003-2004_Laboratory_Fatty_Acids_-_Plasma_(Surplus).csv into 2003-2004: +25 columns\n",
            "🔹 Merged NHANES_2003-2004_Laboratory_Fasting_Questionnaire.csv into 2003-2004: +18 columns\n",
            "🔹 Merged NHANES_2003-2004_Laboratory_Plasma_Fasting_Glucose,_Serum_C-peptide_&_Insulin.csv into 2003-2004: +6 columns\n",
            "✅ Demographics loaded for 1999-2000: 9965 patients, 148 columns\n",
            "🔹 Merged NHANES_1999-2000_Laboratory_Cholesterol_-_LDL_&_Triglycerides.csv into 1999-2000: +6 columns\n",
            "🔹 Merged NHANES_1999-2000_Questionnaire_Blood_Pressure_&_Cholesterol.csv into 1999-2000: +35 columns\n",
            "🔹 Merged NHANES_1999-2000_Laboratory_Trans_Fatty_Acids.csv into 1999-2000: +9 columns\n",
            "🔹 Merged NHANES_1999-2000_Laboratory_Fasting_Questionnaire.csv into 1999-2000: +18 columns\n",
            "🔹 Merged NHANES_1999-2000_Laboratory_Plasma_Fasting_Glucose,_Serum_C-peptide_&_Insulin.csv into 1999-2000: +7 columns\n",
            "🔹 Merged NHANES_1999-2000_Examination_Blood_Pressure.csv into 1999-2000: +29 columns\n",
            "🔹 Merged NHANES_1999-2000_Laboratory_Glycohemoglobin.csv into 1999-2000: +1 columns\n"
          ]
        },
        {
          "output_type": "stream",
          "name": "stderr",
          "text": [
            "\rProcessing NHANES cycles:  67%|██████▋   | 8/12 [00:04<00:03,  1.32it/s]"
          ]
        },
        {
          "output_type": "stream",
          "name": "stdout",
          "text": [
            "🔹 Merged NHANES_1999-2000_Laboratory_Cholesterol_-_Total_&_HDL.csv into 1999-2000: +4 columns\n",
            "🔹 Merged NHANES_1999-2000_Questionnaire_Diabetes.csv into 1999-2000: +16 columns\n",
            "✅ Demographics loaded for 2021-2023: 11933 patients, 31 columns\n",
            "🔹 Merged NHANES_08_2021-08_2023_Questionnaire_Diabetes.csv into 2021-2023: +8 columns\n",
            "🔹 Merged NHANES_08_2021-08_2023_Questionnaire_Blood_Pressure_&_Cholesterol.csv into 2021-2023: +5 columns\n",
            "🔹 Merged NHANES_08_2021-08_2023_Laboratory_Serum_Folate_Forms_-_Total_&_Individual_-_Serum.csv into 2021-2023: +15 columns\n",
            "🔹 Merged NHANES_08_2021-08_2023_Laboratory_Plasma_Fasting_Glucose.csv into 2021-2023: +3 columns\n",
            "🔹 Merged NHANES_08_2021-08_2023_Laboratory_Cholesterol_–_High-Density_Lipoprotein.csv into 2021-2023: +3 columns\n",
            "🔹 Merged NHANES_08_2021-08_2023_Laboratory_Cholesterol_-_Total.csv into 2021-2023: +3 columns\n",
            "🔹 Merged NHANES_08_2021-08_2023_Laboratory_Glycohemoglobin.csv into 2021-2023: +2 columns\n",
            "🔹 Merged NHANES_08_2021-08_2023_Laboratory_Cholesterol_-_Low-Density_Lipoproteins_(LDL)_&_Triglycerides.csv into 2021-2023: +9 columns\n",
            "🔹 Merged NHANES_08_2021-08_2023_Examination_Blood_Pressure_-_Oscillometric_Measurements.csv into 2021-2023: +11 columns\n",
            "🔹 Merged NHANES_08_2021-08_2023_Laboratory_Fasting_Questionnaire.csv into 2021-2023: +18 columns\n"
          ]
        },
        {
          "output_type": "stream",
          "name": "stderr",
          "text": [
            "\rProcessing NHANES cycles:  75%|███████▌  | 9/12 [00:05<00:02,  1.40it/s]"
          ]
        },
        {
          "output_type": "stream",
          "name": "stdout",
          "text": [
            "🔹 Merged NHANES_08_2021-08_2023_Laboratory_Insulin.csv into 2021-2023: +4 columns\n",
            "✅ Demographics loaded for 2013-2014: 10175 patients, 51 columns\n",
            "🔹 Merged NHANES_2013-2014_Laboratory_Cholesterol_-_HDL.csv into 2013-2014: +2 columns\n",
            "🔹 Merged NHANES_2013-2014_Laboratory_Fasting_Questionnaire.csv into 2013-2014: +18 columns\n",
            "🔹 Merged NHANES_2013-2014_Laboratory_Folate_Forms_-_Total_&_Individual_-_Serum.csv into 2013-2014: +14 columns\n",
            "🔹 Merged NHANES_2013-2014_Examination_Blood_Pressure.csv into 2013-2014: +22 columns\n",
            "🔹 Merged NHANES_2013-2014_Laboratory_Complete_Blood_Count_with_5-part_Differential_-_Whole_Blood.csv into 2013-2014: +20 columns\n",
            "🔹 Merged NHANES_2013-2014_Laboratory_Fatty_Acids_-_Serum.csv into 2013-2014: +61 columns\n",
            "🔹 Merged NHANES_2013-2014_Laboratory_Oral_Glucose_Tolerance_Test.csv into 2013-2014: +11 columns\n",
            "🔹 Merged NHANES_2013-2014_Laboratory_Cholesterol_-_LDL_&_Triglycerides.csv into 2013-2014: +5 columns\n",
            "🔹 Merged NHANES_2013-2014_Laboratory_Cholesterol_-_Total.csv into 2013-2014: +2 columns\n",
            "🔹 Merged NHANES_2013-2014_Laboratory_Insulin.csv into 2013-2014: +5 columns\n",
            "🔹 Merged NHANES_2013-2014_Questionnaire_Blood_Pressure_&_Cholesterol.csv into 2013-2014: +13 columns\n",
            "🔹 Merged NHANES_2013-2014_Laboratory_Plasma_Fasting_Glucose.csv into 2013-2014: +5 columns\n",
            "🔹 Merged NHANES_2013-2014_Questionnaire_Diabetes.csv into 2013-2014: +53 columns\n"
          ]
        },
        {
          "output_type": "stream",
          "name": "stderr",
          "text": [
            "\rProcessing NHANES cycles:  83%|████████▎ | 10/12 [00:06<00:01,  1.31it/s]"
          ]
        },
        {
          "output_type": "stream",
          "name": "stdout",
          "text": [
            "🔹 Merged NHANES_2013-2014_Laboratory_Glycohemoglobin.csv into 2013-2014: +1 columns\n",
            "✅ Demographics loaded for 2009-2010: 10537 patients, 47 columns\n",
            "🔹 Merged NHANES_2009-2010_Laboratory_Cholesterol_-_Total.csv into 2009-2010: +2 columns\n",
            "🔹 Merged NHANES_2009-2010_Questionnaire_Diabetes.csv into 2009-2010: +19 columns\n",
            "🔹 Merged NHANES_2009-2010_Laboratory_Glycohemoglobin.csv into 2009-2010: +1 columns\n",
            "🔹 Merged NHANES_2009-2010_Laboratory_Cholesterol_-_HDL.csv into 2009-2010: +2 columns\n",
            "🔹 Merged NHANES_2009-2010_Laboratory_Oral_Glucose_Tolerance_Test.csv into 2009-2010: +11 columns\n",
            "🔹 Merged NHANES_2009-2010_Questionnaire_Blood_Pressure_&_Cholesterol.csv into 2009-2010: +20 columns\n",
            "🔹 Merged NHANES_2009-2010_Laboratory_Trans_Fatty_Acids.csv into 2009-2010: +9 columns\n"
          ]
        },
        {
          "output_type": "stream",
          "name": "stderr",
          "text": [
            "\rProcessing NHANES cycles:  92%|█████████▏| 11/12 [00:06<00:00,  1.43it/s]"
          ]
        },
        {
          "output_type": "stream",
          "name": "stdout",
          "text": [
            "🔹 Merged NHANES_2009-2010_Examination_Blood_Pressure.csv into 2009-2010: +26 columns\n",
            "🔹 Merged NHANES_2009-2010_Laboratory_Plasma_Fasting_Glucose_&_Insulin.csv into 2009-2010: +7 columns\n",
            "🔹 Merged NHANES_2009-2010_Laboratory_Cholesterol_-_LDL_&_Triglycerides.csv into 2009-2010: +5 columns\n",
            "🔹 Merged NHANES_2009-2010_Laboratory_Fasting_Questionnaire.csv into 2009-2010: +18 columns\n",
            "✅ Demographics loaded for 2007-2008: 10149 patients, 47 columns\n",
            "🔹 Merged NHANES_2007-2008_Questionnaire_Diabetes.csv into 2007-2008: +35 columns\n",
            "🔹 Merged NHANES_2007-2008_Laboratory_Cholesterol_-_Total.csv into 2007-2008: +2 columns\n",
            "🔹 Merged NHANES_2007-2008_Laboratory_Cholesterol_-_LDL_&_Triglycerides.csv into 2007-2008: +5 columns\n",
            "🔹 Merged NHANES_2007-2008_Laboratory_Glycohemoglobin.csv into 2007-2008: +1 columns\n",
            "🔹 Merged NHANES_2007-2008_Questionnaire_Blood_Pressure_&_Cholesterol.csv into 2007-2008: +18 columns\n",
            "🔹 Merged NHANES_2007-2008_Laboratory_Plasma_Fasting_Glucose_&_Insulin.csv into 2007-2008: +7 columns\n",
            "🔹 Merged NHANES_2007-2008_Laboratory_Oral_Glucose_Tolerance_Test.csv into 2007-2008: +11 columns\n",
            "🔹 Merged NHANES_2007-2008_Laboratory_Cholesterol_-_HDL.csv into 2007-2008: +2 columns\n",
            "🔹 Merged NHANES_2007-2008_Examination_Blood_Pressure.csv into 2007-2008: +26 columns\n"
          ]
        },
        {
          "output_type": "stream",
          "name": "stderr",
          "text": [
            "Processing NHANES cycles: 100%|██████████| 12/12 [00:07<00:00,  1.66it/s]"
          ]
        },
        {
          "output_type": "stream",
          "name": "stdout",
          "text": [
            "🔹 Merged NHANES_2007-2008_Laboratory_Fasting_Questionnaire.csv into 2007-2008: +18 columns\n"
          ]
        },
        {
          "output_type": "stream",
          "name": "stderr",
          "text": [
            "\n"
          ]
        },
        {
          "output_type": "stream",
          "name": "stdout",
          "text": [
            "\n",
            "✅ Flattened dataset ready: nhanes_patient_flattened.csv\n",
            "Shape: 122503 patients, 1983 variables\n",
            "📊 Column summary saved: nhanes_column_summary.csv\n",
            "\n",
            "📋 Missing datasets per cycle:\n"
          ]
        }
      ]
    },
    {
      "cell_type": "code",
      "source": [
        "!pip install duckdb psutil\n",
        "import duckdb\n",
        "import pandas as pd\n",
        "import time\n",
        "import os\n",
        "import re\n",
        "from datetime import datetime\n",
        "\n",
        "# ========== CONFIGURATION ==========\n",
        "INPUT_FILE = \"nhanes_patient_flattened.csv\"\n",
        "OUTPUT_FILE = \"nhanes_wide_aggregated.csv\"\n",
        "\n",
        "# ========== SETUP ==========\n",
        "print(\"=\" * 60)\n",
        "print(\"🚀 NHANES Wide Format Aggregation (One Row Per Patient)\")\n",
        "print(\"=\" * 60)\n",
        "print(f\"Input:  {INPUT_FILE}\")\n",
        "print(f\"Output: {OUTPUT_FILE}\")\n",
        "print(f\"Started: {datetime.now().strftime('%Y-%m-%d %H:%M:%S')}\\n\")\n",
        "\n",
        "start_time = time.time()\n",
        "\n",
        "# ========== STEP 1: Check Input File ==========\n",
        "if not os.path.exists(INPUT_FILE):\n",
        "    raise FileNotFoundError(f\"❌ Input file not found: {INPUT_FILE}\")\n",
        "\n",
        "file_size_mb = os.path.getsize(INPUT_FILE) / (1024 ** 2)\n",
        "print(f\"📁 Input file size: {file_size_mb:.2f} MB\\n\")\n",
        "\n",
        "# ========== STEP 2: Analyze Column Structure ==========\n",
        "print(\"🔍 Analyzing column structure...\")\n",
        "con = duckdb.connect()\n",
        "\n",
        "# Load first row to understand structure\n",
        "sample = con.execute(f\"\"\"\n",
        "    SELECT * FROM read_csv('{INPUT_FILE}', AUTO_DETECT=TRUE, SAMPLE_SIZE=1000)\n",
        "    LIMIT 1\n",
        "\"\"\").df()\n",
        "\n",
        "print(f\"✅ Found {len(sample.columns)} total columns\\n\")\n",
        "\n",
        "# ========== STEP 3: Extract Cycle and Base Variable from Column Names ==========\n",
        "print(\"🔨 Extracting base variables and cycle information...\")\n",
        "\n",
        "def parse_column_name(col):\n",
        "    \"\"\"\n",
        "    Parse column like: LBXGLU_NHANES_2017-2018_Laboratory_Glucose\n",
        "    Returns: (base_variable, cycle, full_name)\n",
        "    \"\"\"\n",
        "    if col == 'SEQN':\n",
        "        return ('SEQN', None, 'SEQN')\n",
        "\n",
        "    # Try to extract cycle (e.g., 2017-2018)\n",
        "    cycle_match = re.search(r'(\\d{4})[-_](\\d{4})', col)\n",
        "    cycle = f\"{cycle_match.group(1)}-{cycle_match.group(2)}\" if cycle_match else 'unknown'\n",
        "\n",
        "    # Base variable is the first part before underscore\n",
        "    parts = col.split('_')\n",
        "    base_var = parts[0] if parts else col\n",
        "\n",
        "    return (base_var, cycle, col)\n",
        "\n",
        "# Parse all columns\n",
        "column_info = {}\n",
        "for col in sample.columns:\n",
        "    if col == 'SEQN':\n",
        "        continue\n",
        "    base_var, cycle, full_name = parse_column_name(col)\n",
        "\n",
        "    if base_var not in column_info:\n",
        "        column_info[base_var] = []\n",
        "    column_info[base_var].append({\n",
        "        'full_name': full_name,\n",
        "        'cycle': cycle\n",
        "    })\n",
        "\n",
        "print(f\"✅ Identified {len(column_info)} unique base variables\")\n",
        "print(f\"   Example: {list(column_info.keys())[:5]}\\n\")\n",
        "\n",
        "# ========== STEP 4: Build Aggregation Query ==========\n",
        "print(\"⚙️  Building aggregation query...\")\n",
        "print(\"   Strategy: Group by SEQN, concatenate values with cycle info\\n\")\n",
        "\n",
        "# Build COALESCE statements for each base variable\n",
        "# Format: \"value1 [cycle1], value2 [cycle2]\"\n",
        "agg_statements = []\n",
        "\n",
        "for base_var, columns in column_info.items():\n",
        "    if len(columns) == 1:\n",
        "        # Only one column for this variable - just select it\n",
        "        col = columns[0]['full_name']\n",
        "        agg_statements.append(f'\"{col}\" AS \"{base_var}\"')\n",
        "    else:\n",
        "        # Multiple columns - concatenate with cycle info\n",
        "        # Build: CONCAT_WS(', ',\n",
        "        #          CASE WHEN col1 IS NOT NULL THEN col1 || ' [cycle1]' END,\n",
        "        #          CASE WHEN col2 IS NOT NULL THEN col2 || ' [cycle2]' END)\n",
        "        concat_parts = []\n",
        "        for col_info in columns:\n",
        "            col = col_info['full_name']\n",
        "            cycle = col_info['cycle']\n",
        "            concat_parts.append(\n",
        "                f'CASE WHEN \"{col}\" IS NOT NULL THEN CAST(\"{col}\" AS VARCHAR) || \\' [{cycle}]\\' END'\n",
        "            )\n",
        "\n",
        "        concat_expr = f\"CONCAT_WS(', ', {', '.join(concat_parts)})\"\n",
        "        agg_statements.append(f'{concat_expr} AS \"{base_var}\"')\n",
        "\n",
        "# Build final SELECT statement\n",
        "select_clause = \"SEQN, \" + \", \".join(agg_statements)\n",
        "\n",
        "query = f\"\"\"\n",
        "    COPY (\n",
        "        SELECT {select_clause}\n",
        "        FROM read_csv('{INPUT_FILE}',\n",
        "                     AUTO_DETECT=TRUE,\n",
        "                     SAMPLE_SIZE=50000,\n",
        "                     IGNORE_ERRORS=TRUE)\n",
        "        ORDER BY SEQN\n",
        "    ) TO '{OUTPUT_FILE}' (HEADER, DELIMITER ',')\n",
        "\"\"\"\n",
        "\n",
        "# ========== STEP 5: Execute Transformation ==========\n",
        "print(\"⚙️  Executing transformation...\")\n",
        "print(\"    (This may take 10-30 minutes depending on dataset size)\")\n",
        "print(\"    Processing all patients into single-row format...\\n\")\n",
        "\n",
        "try:\n",
        "    con.execute(query)\n",
        "    transform_time = time.time() - start_time\n",
        "    print(f\"✅ Transformation complete in {transform_time/60:.2f} minutes\\n\")\n",
        "\n",
        "    # ========== STEP 6: Get Statistics ==========\n",
        "    print(\"📊 Analyzing results...\")\n",
        "\n",
        "    result_df = pd.read_csv(OUTPUT_FILE, nrows=5)\n",
        "\n",
        "    print(f\"   Output columns: {len(result_df.columns)}\")\n",
        "    print(f\"   (One column per unique base variable)\\n\")\n",
        "\n",
        "    output_size_mb = os.path.getsize(OUTPUT_FILE) / (1024 ** 2)\n",
        "    print(f\"💾 Output file size: {output_size_mb:.2f} MB\\n\")\n",
        "\n",
        "    # ========== STEP 7: Show Sample Data ==========\n",
        "    print(\"🔬 Sample of first patient (first 5 columns):\")\n",
        "    print(result_df.iloc[0, :5].to_string())\n",
        "    print(\"\\n📋 Example of multi-cycle values:\")\n",
        "    # Find a column with commas (multiple values)\n",
        "    for col in result_df.columns[1:20]:  # Check first 20 columns\n",
        "        val = result_df.iloc[0][col]\n",
        "        if isinstance(val, str) and ',' in val:\n",
        "            print(f\"   {col}: {val[:100]}...\")\n",
        "            break\n",
        "    print()\n",
        "\n",
        "    # ========== STEP 8: Memory Usage Report ==========\n",
        "    import psutil\n",
        "    process = psutil.Process()\n",
        "    memory_mb = process.memory_info().rss / (1024 ** 2)\n",
        "    print(f\"💾 Peak memory usage: {memory_mb:.2f} MB\")\n",
        "\n",
        "except Exception as e:\n",
        "    print(f\"❌ Error during transformation: {e}\")\n",
        "    import traceback\n",
        "    traceback.print_exc()\n",
        "    raise\n",
        "\n",
        "finally:\n",
        "    con.close()\n",
        "\n",
        "# ========== SUMMARY ==========\n",
        "total_time = time.time() - start_time\n",
        "print(\"\\n\" + \"=\" * 60)\n",
        "print(\"✅ TRANSFORMATION COMPLETE!\")\n",
        "print(\"=\" * 60)\n",
        "print(f\"⏱️  Total time: {total_time/60:.2f} minutes\")\n",
        "print(f\"📁 Output file: {OUTPUT_FILE}\")\n",
        "print(f\"📊 Format: One row per patient (SEQN)\")\n",
        "print(f\"📋 Columns: {len(result_df.columns)} unique variables\")\n",
        "print(f\"💡 Multi-cycle values formatted as: value1 [2017-2018], value2 [2019-2020]\")\n",
        "print(\"=\" * 60)\n",
        "\n",
        "print(\"\\n💡 Excel Tips:\")\n",
        "print(\"   - This format is Excel-friendly (manageable column count)\")\n",
        "print(\"   - Each cell contains all values for that patient/variable\")\n",
        "print(\"   - Cycle info preserved in brackets: [2017-2018]\")\n",
        "print(\"   - AI can parse: 'value [cycle], value [cycle]' format\")\n",
        "\n",
        "\n",
        "\n",
        "\n"
      ],
      "metadata": {
        "colab": {
          "base_uri": "https://localhost:8080/",
          "height": 1000,
          "referenced_widgets": [
            "de62263201594bb9aabcdf9d41a3800b",
            "9ff8b40c17d34a7684b22c3279d7c70a",
            "1c45071a4bc843c49f85934063df8bd0"
          ]
        },
        "id": "0DulDQd5FCGB",
        "outputId": "121c1d59-c246-4a67-ce97-9b0464f03a9d"
      },
      "execution_count": 4,
      "outputs": [
        {
          "output_type": "stream",
          "name": "stdout",
          "text": [
            "Requirement already satisfied: duckdb in /usr/local/lib/python3.12/dist-packages (1.3.2)\n",
            "Requirement already satisfied: psutil in /usr/local/lib/python3.12/dist-packages (5.9.5)\n",
            "============================================================\n",
            "🚀 NHANES Wide Format Aggregation (One Row Per Patient)\n",
            "============================================================\n",
            "Input:  nhanes_patient_flattened.csv\n",
            "Output: nhanes_wide_aggregated.csv\n",
            "Started: 2025-10-21 21:34:35\n",
            "\n",
            "📁 Input file size: 304.39 MB\n",
            "\n",
            "🔍 Analyzing column structure...\n",
            "✅ Found 1983 total columns\n",
            "\n",
            "🔨 Extracting base variables and cycle information...\n",
            "✅ Identified 607 unique base variables\n",
            "   Example: ['SDDSRVYR', 'RIDSTATR', 'RIAGENDR', 'RIDAGEYR', 'RIDAGEMN']\n",
            "\n",
            "⚙️  Building aggregation query...\n",
            "   Strategy: Group by SEQN, concatenate values with cycle info\n",
            "\n",
            "⚙️  Executing transformation...\n",
            "    (This may take 10-30 minutes depending on dataset size)\n",
            "    Processing all patients into single-row format...\n",
            "\n"
          ]
        },
        {
          "output_type": "display_data",
          "data": {
            "text/plain": [
              "FloatProgress(value=0.0, layout=Layout(width='auto'), style=ProgressStyle(bar_color='black'))"
            ],
            "application/vnd.jupyter.widget-view+json": {
              "version_major": 2,
              "version_minor": 0,
              "model_id": "de62263201594bb9aabcdf9d41a3800b"
            }
          },
          "metadata": {}
        },
        {
          "output_type": "stream",
          "name": "stdout",
          "text": [
            "✅ Transformation complete in 0.62 minutes\n",
            "\n",
            "📊 Analyzing results...\n",
            "   Output columns: 608\n",
            "   (One column per unique base variable)\n",
            "\n",
            "💾 Output file size: 279.89 MB\n",
            "\n",
            "🔬 Sample of first patient (first 5 columns):\n",
            "SEQN        1.0\n",
            "SDDSRVYR    1.0\n",
            "RIDSTATR    2.0\n",
            "RIAGENDR    2.0\n",
            "RIDAGEYR    2.0\n",
            "\n",
            "📋 Example of multi-cycle values:\n",
            "\n",
            "💾 Peak memory usage: 5047.58 MB\n",
            "\n",
            "============================================================\n",
            "✅ TRANSFORMATION COMPLETE!\n",
            "============================================================\n",
            "⏱️  Total time: 0.62 minutes\n",
            "📁 Output file: nhanes_wide_aggregated.csv\n",
            "📊 Format: One row per patient (SEQN)\n",
            "📋 Columns: 608 unique variables\n",
            "💡 Multi-cycle values formatted as: value1 [2017-2018], value2 [2019-2020]\n",
            "============================================================\n",
            "\n",
            "💡 Excel Tips:\n",
            "   - This format is Excel-friendly (manageable column count)\n",
            "   - Each cell contains all values for that patient/variable\n",
            "   - Cycle info preserved in brackets: [2017-2018]\n",
            "   - AI can parse: 'value [cycle], value [cycle]' format\n"
          ]
        }
      ]
    },
    {
      "cell_type": "code",
      "source": [
        "\"\"\"\n",
        "CHUNK 8: WIDE FORMAT AGGREGATION\n",
        "=================================\n",
        "Transforms flattened patient data into wide format (ONE row per patient)\n",
        "\n",
        "Input:  nhanes_patient_flattened.csv (from Chunk 7)\n",
        "Output: nhanes_wide_aggregated.csv\n",
        "\n",
        "What it does:\n",
        "- Takes data where patients appear multiple times across different cycles\n",
        "- Combines into ONE row per patient\n",
        "- Preserves cycle information like: \"120 [2017-2018], 115 [2019-2020]\"\n",
        "\n",
        "Author: Claude\n",
        "\"\"\"\n",
        "\n",
        "import pandas as pd\n",
        "import duckdb\n",
        "import time\n",
        "import os\n",
        "import re\n",
        "from datetime import datetime\n",
        "\n",
        "# ============================================================================\n",
        "# CONFIGURATION\n",
        "# ============================================================================\n",
        "\n",
        "INPUT_FILE = \"nhanes_patient_flattened.csv\"\n",
        "OUTPUT_FILE = \"nhanes_wide_aggregated.csv\"\n",
        "\n",
        "# ============================================================================\n",
        "# MAIN TRANSFORMATION\n",
        "# ============================================================================\n",
        "\n",
        "print(\"=\" * 70)\n",
        "print(\"🚀 CHUNK 8: WIDE FORMAT AGGREGATION\")\n",
        "print(\"=\" * 70)\n",
        "print(f\"Input:  {INPUT_FILE}\")\n",
        "print(f\"Output: {OUTPUT_FILE}\")\n",
        "print(f\"Started: {datetime.now().strftime('%Y-%m-%d %H:%M:%S')}\\n\")\n",
        "\n",
        "start_time = time.time()\n",
        "\n",
        "# Step 1: Check input file exists\n",
        "if not os.path.exists(INPUT_FILE):\n",
        "    raise FileNotFoundError(f\"❌ Input file not found: {INPUT_FILE}\")\n",
        "\n",
        "file_size_mb = os.path.getsize(INPUT_FILE) / (1024 ** 2)\n",
        "print(f\"📁 Input file size: {file_size_mb:.2f} MB\\n\")\n",
        "\n",
        "# Step 2: Analyze column structure\n",
        "print(\"🔍 Analyzing column structure...\")\n",
        "con = duckdb.connect()\n",
        "\n",
        "sample = con.execute(f\"\"\"\n",
        "    SELECT * FROM read_csv('{INPUT_FILE}', AUTO_DETECT=TRUE, SAMPLE_SIZE=1000)\n",
        "    LIMIT 1\n",
        "\"\"\").df()\n",
        "\n",
        "print(f\"✅ Found {len(sample.columns)} total columns\\n\")\n",
        "\n",
        "# Step 3: Parse column names to extract base variables and cycles\n",
        "print(\"🔨 Extracting base variables and cycle information...\")\n",
        "\n",
        "def parse_column_name(col):\n",
        "    \"\"\"\n",
        "    Parse column like: LBXGLU_NHANES_2017-2018_Laboratory_Glucose\n",
        "    Returns: (base_variable, cycle, full_name)\n",
        "    \"\"\"\n",
        "    if col == 'SEQN':\n",
        "        return ('SEQN', None, 'SEQN')\n",
        "\n",
        "    # Extract cycle (e.g., 2017-2018)\n",
        "    cycle_match = re.search(r'(\\d{4})[-_](\\d{4})', col)\n",
        "    cycle = f\"{cycle_match.group(1)}-{cycle_match.group(2)}\" if cycle_match else 'unknown'\n",
        "\n",
        "    # Base variable is the first part before underscore\n",
        "    parts = col.split('_')\n",
        "    base_var = parts[0] if parts else col\n",
        "\n",
        "    return (base_var, cycle, col)\n",
        "\n",
        "# Parse all columns\n",
        "column_info = {}\n",
        "for col in sample.columns:\n",
        "    if col == 'SEQN':\n",
        "        continue\n",
        "    base_var, cycle, full_name = parse_column_name(col)\n",
        "\n",
        "    if base_var not in column_info:\n",
        "        column_info[base_var] = []\n",
        "    column_info[base_var].append({\n",
        "        'full_name': full_name,\n",
        "        'cycle': cycle\n",
        "    })\n",
        "\n",
        "print(f\"✅ Identified {len(column_info)} unique base variables\")\n",
        "print(f\"   Example: {list(column_info.keys())[:5]}\\n\")\n",
        "\n",
        "# Step 4: Build aggregation query\n",
        "print(\"⚙️  Building aggregation query...\")\n",
        "print(\"   Strategy: Group by SEQN, concatenate values with cycle info\\n\")\n",
        "\n",
        "agg_statements = []\n",
        "\n",
        "for base_var, columns in column_info.items():\n",
        "    if len(columns) == 1:\n",
        "        # Only one column for this variable - just select it\n",
        "        col = columns[0]['full_name']\n",
        "        agg_statements.append(f'\"{col}\" AS \"{base_var}\"')\n",
        "    else:\n",
        "        # Multiple columns - concatenate with cycle info\n",
        "        # Format: \"value1 [cycle1], value2 [cycle2]\"\n",
        "        concat_parts = []\n",
        "        for col_info in columns:\n",
        "            col = col_info['full_name']\n",
        "            cycle = col_info['cycle']\n",
        "            concat_parts.append(\n",
        "                f'CASE WHEN \"{col}\" IS NOT NULL THEN CAST(\"{col}\" AS VARCHAR) || \\' [{cycle}]\\' END'\n",
        "            )\n",
        "\n",
        "        concat_expr = f\"CONCAT_WS(', ', {', '.join(concat_parts)})\"\n",
        "        agg_statements.append(f'{concat_expr} AS \"{base_var}\"')\n",
        "\n",
        "# Build final SELECT statement\n",
        "select_clause = \"SEQN, \" + \", \".join(agg_statements)\n",
        "\n",
        "query = f\"\"\"\n",
        "    COPY (\n",
        "        SELECT {select_clause}\n",
        "        FROM read_csv('{INPUT_FILE}',\n",
        "                     AUTO_DETECT=TRUE,\n",
        "                     SAMPLE_SIZE=50000,\n",
        "                     IGNORE_ERRORS=TRUE)\n",
        "        ORDER BY SEQN\n",
        "    ) TO '{OUTPUT_FILE}' (HEADER, DELIMITER ',')\n",
        "\"\"\"\n",
        "\n",
        "# Step 5: Execute transformation\n",
        "print(\"⚙️  Executing transformation...\")\n",
        "print(\"    (This may take 10-30 minutes depending on dataset size)\")\n",
        "print(\"    Processing all patients into single-row format...\\n\")\n",
        "\n",
        "try:\n",
        "    con.execute(query)\n",
        "    transform_time = time.time() - start_time\n",
        "    print(f\"✅ Transformation complete in {transform_time/60:.2f} minutes\\n\")\n",
        "\n",
        "    # Step 6: Get statistics\n",
        "    print(\"📊 Analyzing results...\")\n",
        "\n",
        "    result_df = pd.read_csv(OUTPUT_FILE, nrows=5)\n",
        "\n",
        "    print(f\"   Output columns: {len(result_df.columns)}\")\n",
        "    print(f\"   (One column per unique base variable)\\n\")\n",
        "\n",
        "    output_size_mb = os.path.getsize(OUTPUT_FILE) / (1024 ** 2)\n",
        "    print(f\"💾 Output file size: {output_size_mb:.2f} MB\\n\")\n",
        "\n",
        "    # Step 7: Show sample data\n",
        "    print(\"🔬 Sample of first patient (first 5 columns):\")\n",
        "    print(result_df.iloc[0, :5].to_string())\n",
        "    print(\"\\n📋 Example of multi-cycle values:\")\n",
        "\n",
        "    # Find a column with commas (multiple values)\n",
        "    for col in result_df.columns[1:20]:  # Check first 20 columns\n",
        "        val = result_df.iloc[0][col]\n",
        "        if isinstance(val, str) and ',' in val:\n",
        "            print(f\"   {col}: {val[:100]}...\")\n",
        "            break\n",
        "    print()\n",
        "\n",
        "    # Step 8: Memory usage report\n",
        "    import psutil\n",
        "    process = psutil.Process()\n",
        "    memory_mb = process.memory_info().rss / (1024 ** 2)\n",
        "    print(f\"💾 Peak memory usage: {memory_mb:.2f} MB\")\n",
        "\n",
        "except Exception as e:\n",
        "    print(f\"❌ Error during transformation: {e}\")\n",
        "    import traceback\n",
        "    traceback.print_exc()\n",
        "    raise\n",
        "\n",
        "finally:\n",
        "    con.close()\n",
        "\n",
        "# Summary\n",
        "total_time = time.time() - start_time\n",
        "print(\"\\n\" + \"=\" * 70)\n",
        "print(\"✅ TRANSFORMATION COMPLETE!\")\n",
        "print(\"=\" * 70)\n",
        "print(f\"⏱️  Total time: {total_time/60:.2f} minutes\")\n",
        "print(f\"📁 Output file: {OUTPUT_FILE}\")\n",
        "print(f\"📊 Format: One row per patient (SEQN)\")\n",
        "print(f\"📋 Columns: {len(result_df.columns)} unique variables\")\n",
        "print(f\"💡 Multi-cycle values formatted as: value1 [2017-2018], value2 [2019-2020]\")\n",
        "print(\"=\" * 70)\n",
        "print()\n",
        "print(\"💡 Excel Tips:\")\n",
        "print(\"   - This format is Excel-friendly (manageable column count)\")\n",
        "print(\"   - Each cell contains all values for that patient/variable\")\n",
        "print(\"   - Cycle info preserved in brackets: [2017-2018]\")\n",
        "print(\"   - AI can parse: 'value [cycle], value [cycle]' format\")\n"
      ],
      "metadata": {
        "colab": {
          "base_uri": "https://localhost:8080/",
          "height": 1000,
          "referenced_widgets": [
            "512e6b91ab564a08b50bce71c0fb2f86",
            "2fc63c7e6c5e402ab0019f7943d85070",
            "dc20ac61142d4c9ca9c94303d79c3f73"
          ]
        },
        "id": "RAwD1ghhR3Ic",
        "outputId": "c59ef0f8-c2a2-4667-8d8c-76b074c2ff6a"
      },
      "execution_count": 9,
      "outputs": [
        {
          "output_type": "stream",
          "name": "stdout",
          "text": [
            "======================================================================\n",
            "🚀 CHUNK 8: WIDE FORMAT AGGREGATION\n",
            "======================================================================\n",
            "Input:  nhanes_patient_flattened.csv\n",
            "Output: nhanes_wide_aggregated.csv\n",
            "Started: 2025-10-21 21:58:01\n",
            "\n",
            "📁 Input file size: 304.39 MB\n",
            "\n",
            "🔍 Analyzing column structure...\n",
            "✅ Found 1983 total columns\n",
            "\n",
            "🔨 Extracting base variables and cycle information...\n",
            "✅ Identified 607 unique base variables\n",
            "   Example: ['SDDSRVYR', 'RIDSTATR', 'RIAGENDR', 'RIDAGEYR', 'RIDAGEMN']\n",
            "\n",
            "⚙️  Building aggregation query...\n",
            "   Strategy: Group by SEQN, concatenate values with cycle info\n",
            "\n",
            "⚙️  Executing transformation...\n",
            "    (This may take 10-30 minutes depending on dataset size)\n",
            "    Processing all patients into single-row format...\n",
            "\n"
          ]
        },
        {
          "output_type": "display_data",
          "data": {
            "text/plain": [
              "FloatProgress(value=0.0, layout=Layout(width='auto'), style=ProgressStyle(bar_color='black'))"
            ],
            "application/vnd.jupyter.widget-view+json": {
              "version_major": 2,
              "version_minor": 0,
              "model_id": "512e6b91ab564a08b50bce71c0fb2f86"
            }
          },
          "metadata": {}
        },
        {
          "output_type": "stream",
          "name": "stdout",
          "text": [
            "✅ Transformation complete in 0.72 minutes\n",
            "\n",
            "📊 Analyzing results...\n",
            "   Output columns: 608\n",
            "   (One column per unique base variable)\n",
            "\n",
            "💾 Output file size: 279.89 MB\n",
            "\n",
            "🔬 Sample of first patient (first 5 columns):\n",
            "SEQN        1.0\n",
            "SDDSRVYR    1.0\n",
            "RIDSTATR    2.0\n",
            "RIAGENDR    2.0\n",
            "RIDAGEYR    2.0\n",
            "\n",
            "📋 Example of multi-cycle values:\n",
            "\n",
            "💾 Peak memory usage: 4876.62 MB\n",
            "\n",
            "======================================================================\n",
            "✅ TRANSFORMATION COMPLETE!\n",
            "======================================================================\n",
            "⏱️  Total time: 0.73 minutes\n",
            "📁 Output file: nhanes_wide_aggregated.csv\n",
            "📊 Format: One row per patient (SEQN)\n",
            "📋 Columns: 608 unique variables\n",
            "💡 Multi-cycle values formatted as: value1 [2017-2018], value2 [2019-2020]\n",
            "======================================================================\n",
            "\n",
            "💡 Excel Tips:\n",
            "   - This format is Excel-friendly (manageable column count)\n",
            "   - Each cell contains all values for that patient/variable\n",
            "   - Cycle info preserved in brackets: [2017-2018]\n",
            "   - AI can parse: 'value [cycle], value [cycle]' format\n"
          ]
        }
      ]
    },
    {
      "cell_type": "code",
      "source": [
        "\"\"\"\n",
        "CHUNK 9: OPTIMIZED DATA DICTIONARY GENERATOR\n",
        "============================================\n",
        "MUCH FASTER version using parallel processing and smart caching\n",
        "\n",
        "Optimizations:\n",
        "- Parallel URL processing (check multiple URLs at once)\n",
        "- Early termination (stop checking URLs once all variables found)\n",
        "- Timeout protection (skip slow/broken URLs)\n",
        "- Progress tracking per variable, not per URL\n",
        "\n",
        "Expected time: 15-30 minutes (vs 11+ hours for old version!)\n",
        "\n",
        "Author: Claude\n",
        "\"\"\"\n",
        "\n",
        "import pandas as pd\n",
        "import requests\n",
        "from bs4 import BeautifulSoup\n",
        "import time\n",
        "import os\n",
        "import re\n",
        "import json\n",
        "from tqdm import tqdm\n",
        "from concurrent.futures import ThreadPoolExecutor, as_completed\n",
        "import threading\n",
        "\n",
        "# ============================================================================\n",
        "# CONFIGURATION\n",
        "# ============================================================================\n",
        "\n",
        "WIDE_FILE = \"nhanes_wide_aggregated.csv\"\n",
        "DICT_OUTPUT = \"nhanes_complete_dictionary.csv\"\n",
        "VALUE_CODES_OUTPUT = \"nhanes_value_codes.csv\"\n",
        "CACHE_FILE = \"nhanes_scrape_cache.json\"\n",
        "DATA_DIR = \"nhanes_data\"\n",
        "\n",
        "HEADERS = {\n",
        "    'User-Agent': 'Mozilla/5.0 (Windows NT 10.0; Win64; x64) AppleWebKit/537.36'\n",
        "}\n",
        "\n",
        "# Optimization settings\n",
        "MAX_WORKERS = 10  # Process 10 URLs simultaneously\n",
        "URL_TIMEOUT = 15  # Skip URLs that take longer than 15 seconds\n",
        "MAX_URLS_TO_CHECK = None  # Check ALL URLs for maximum completeness\n",
        "\n",
        "# ============================================================================\n",
        "# HELPER FUNCTIONS\n",
        "# ============================================================================\n",
        "\n",
        "def load_cache():\n",
        "    \"\"\"Load cached scraped data\"\"\"\n",
        "    if os.path.exists(CACHE_FILE):\n",
        "        try:\n",
        "            with open(CACHE_FILE, 'r') as f:\n",
        "                return json.load(f)\n",
        "        except:\n",
        "            return {}\n",
        "    return {}\n",
        "\n",
        "def save_cache(cache):\n",
        "    \"\"\"Save cache to file\"\"\"\n",
        "    with open(CACHE_FILE, 'w') as f:\n",
        "        json.dump(cache, f, indent=2)\n",
        "\n",
        "def clean_text(text):\n",
        "    \"\"\"Clean up extracted text\"\"\"\n",
        "    if not text:\n",
        "        return \"\"\n",
        "    text = re.sub(r'\\s+', ' ', text)\n",
        "    text = text.strip(' .-:;')\n",
        "    return text\n",
        "\n",
        "# ============================================================================\n",
        "# STREAMLINED EXTRACTION (Faster, focused strategies)\n",
        "# ============================================================================\n",
        "\n",
        "def extract_from_tables(soup):\n",
        "    \"\"\"Extract from HTML tables\"\"\"\n",
        "    variables = {}\n",
        "\n",
        "    for table in soup.find_all('table', limit=20):  # Limit to first 20 tables\n",
        "        rows = table.find_all('tr')\n",
        "        for row in rows[:100]:  # Limit rows per table\n",
        "            cells = row.find_all(['td', 'th'])\n",
        "            if len(cells) >= 2:\n",
        "                cell_texts = [clean_text(cell.get_text()) for cell in cells]\n",
        "                potential_var = cell_texts[0]\n",
        "\n",
        "                if re.match(r'^[A-Z][A-Z0-9_]{1,14}$', potential_var):\n",
        "                    description = ' '.join(cell_texts[1:])\n",
        "                    if len(description) > 5:\n",
        "                        variables[potential_var] = clean_text(description)\n",
        "\n",
        "    return variables\n",
        "\n",
        "def extract_from_text_patterns(soup):\n",
        "    \"\"\"Extract using text patterns (faster than line-by-line)\"\"\"\n",
        "    variables = {}\n",
        "    page_text = soup.get_text()\n",
        "\n",
        "    # Find all patterns like \"VARNAME - Description\" or \"Variable Name: VARNAME\"\n",
        "    patterns = [\n",
        "        r'([A-Z][A-Z0-9_]{2,14})\\s*[-–—:]\\s*([^\\n]{10,200})',\n",
        "        r'Variable Name:\\s*([A-Z][A-Z0-9_]+)[^\\n]*\\n[^\\n]*(?:English Text|Description|Label):\\s*([^\\n]+)',\n",
        "    ]\n",
        "\n",
        "    for pattern in patterns:\n",
        "        matches = re.finditer(pattern, page_text, re.IGNORECASE | re.MULTILINE)\n",
        "        for match in matches:\n",
        "            var_name = match.group(1).strip()\n",
        "            description = clean_text(match.group(2) if len(match.groups()) > 1 else match.group(1))\n",
        "            if len(description) > 5:\n",
        "                variables[var_name] = description[:500]\n",
        "\n",
        "    return variables\n",
        "\n",
        "def extract_value_codes_from_tables(soup):\n",
        "    \"\"\"Extract value codes from tables (optimized)\"\"\"\n",
        "    value_codes = {}\n",
        "\n",
        "    for table in soup.find_all('table', limit=20):\n",
        "        rows = table.find_all('tr')\n",
        "        if not rows:\n",
        "            continue\n",
        "\n",
        "        header_text = clean_text(rows[0].get_text()).lower()\n",
        "\n",
        "        # Quick check if this is a code table\n",
        "        if not any(word in header_text for word in ['code', 'value', 'count']):\n",
        "            continue\n",
        "\n",
        "        # Extract codes\n",
        "        for row in rows[1:50]:  # Limit to first 50 rows\n",
        "            cells = row.find_all(['td', 'th'])\n",
        "            if len(cells) >= 2:\n",
        "                code_text = clean_text(cells[0].get_text())\n",
        "                desc_text = clean_text(cells[1].get_text())\n",
        "\n",
        "                try:\n",
        "                    code = int(float(code_text))\n",
        "                except:\n",
        "                    code = code_text\n",
        "\n",
        "                if code_text and desc_text and 1 < len(desc_text) < 100:\n",
        "                    skip_words = ['range', 'mean', 'minimum', 'maximum', 'missing', 'refused']\n",
        "                    if not any(word in desc_text.lower() for word in skip_words):\n",
        "                        # Store by variable name (extracted from nearby context)\n",
        "                        value_codes[code] = desc_text\n",
        "\n",
        "    return value_codes\n",
        "\n",
        "def extract_value_codes_from_text(soup):\n",
        "    \"\"\"Extract value codes from text patterns\"\"\"\n",
        "    value_codes = {}\n",
        "    page_text = soup.get_text()\n",
        "\n",
        "    # Pattern: \"1 = Male\" or \"Code 1: Male\"\n",
        "    pattern = r'(?:^|\\n)(?:code\\s+)?(\\d+)\\s*[=:]\\s*([^\\n]{2,80})'\n",
        "    matches = re.finditer(pattern, page_text, re.IGNORECASE | re.MULTILINE)\n",
        "\n",
        "    for match in matches:\n",
        "        try:\n",
        "            code = int(match.group(1))\n",
        "            description = clean_text(match.group(2))\n",
        "            if 1 < len(description) < 100:\n",
        "                value_codes[code] = description\n",
        "        except:\n",
        "            pass\n",
        "\n",
        "    return value_codes\n",
        "\n",
        "# ============================================================================\n",
        "# MAIN SCRAPING FUNCTION (Optimized)\n",
        "# ============================================================================\n",
        "\n",
        "def scrape_url_fast(url, needed_variables, cache, lock):\n",
        "    \"\"\"\n",
        "    Scrape a single URL for multiple variables\n",
        "    OPTIMIZED: Returns as soon as it finds something useful\n",
        "    \"\"\"\n",
        "\n",
        "    # Check if we already have this URL cached\n",
        "    if url in cache:\n",
        "        return cache[url]\n",
        "\n",
        "    try:\n",
        "        response = requests.get(url, headers=HEADERS, timeout=URL_TIMEOUT)\n",
        "        response.raise_for_status()\n",
        "        soup = BeautifulSoup(response.content, 'html.parser')\n",
        "\n",
        "        results = {}\n",
        "\n",
        "        # Extract descriptions (fast strategies only)\n",
        "        var_descriptions = {}\n",
        "        var_descriptions.update(extract_from_tables(soup))\n",
        "        var_descriptions.update(extract_from_text_patterns(soup))\n",
        "\n",
        "        # Extract value codes (for all variables on this page)\n",
        "        all_value_codes = {}\n",
        "        all_value_codes.update(extract_value_codes_from_tables(soup))\n",
        "        all_value_codes.update(extract_value_codes_from_text(soup))\n",
        "\n",
        "        # Match variables we need\n",
        "        for var_name in needed_variables:\n",
        "            if var_name in var_descriptions:\n",
        "                results[var_name] = {\n",
        "                    'description': var_descriptions[var_name],\n",
        "                    'value_codes': dict(all_value_codes),  # Make a copy\n",
        "                    'source_url': url\n",
        "                }\n",
        "\n",
        "        # Cache with lock (thread-safe)\n",
        "        with lock:\n",
        "            cache[url] = results\n",
        "\n",
        "        return results\n",
        "\n",
        "    except Exception as e:\n",
        "        # Just skip problematic URLs\n",
        "        return {}\n",
        "\n",
        "# ============================================================================\n",
        "# PARALLEL PROCESSING\n",
        "# ============================================================================\n",
        "\n",
        "def scrape_all_parallel(doc_urls, needed_vars, cache):\n",
        "    \"\"\"\n",
        "    Scrape multiple URLs in parallel\n",
        "    Returns when all variables found OR all URLs checked\n",
        "    \"\"\"\n",
        "\n",
        "    lock = threading.Lock()\n",
        "    found_variables = {}\n",
        "    all_value_codes = []\n",
        "\n",
        "    # Progress tracking\n",
        "    pbar = tqdm(total=len(needed_vars), desc=\"Finding variables\", unit=\"var\")\n",
        "\n",
        "    def process_url(url):\n",
        "        results = scrape_url_fast(url, needed_vars, cache, lock)\n",
        "\n",
        "        found_count = 0\n",
        "        with lock:\n",
        "            for var_name, info in results.items():\n",
        "                if var_name not in found_variables:\n",
        "                    found_variables[var_name] = info\n",
        "                    found_count += 1\n",
        "\n",
        "                    # Store value codes\n",
        "                    for code, desc in info.get('value_codes', {}).items():\n",
        "                        all_value_codes.append({\n",
        "                            'variable': var_name,\n",
        "                            'code': code,\n",
        "                            'description': desc,\n",
        "                            'source_url': url\n",
        "                        })\n",
        "\n",
        "        pbar.update(found_count)\n",
        "\n",
        "        # Return True if we found everything\n",
        "        return len(found_variables) >= len(needed_vars)\n",
        "\n",
        "    # Process URLs in parallel\n",
        "    with ThreadPoolExecutor(max_workers=MAX_WORKERS) as executor:\n",
        "        futures = {executor.submit(process_url, url): url for url in doc_urls}\n",
        "\n",
        "        for future in as_completed(futures):\n",
        "            try:\n",
        "                future.result()\n",
        "            except Exception as e:\n",
        "                continue\n",
        "\n",
        "    pbar.close()\n",
        "\n",
        "    return found_variables, all_value_codes\n",
        "\n",
        "# ============================================================================\n",
        "# MAIN EXECUTION\n",
        "# ============================================================================\n",
        "\n",
        "print(\"=\" * 70)\n",
        "print(\"🚀 CHUNK 9: OPTIMIZED DATA DICTIONARY GENERATOR\")\n",
        "print(\"=\" * 70)\n",
        "print(\"⚡ Using parallel processing for 10-20x speedup!\")\n",
        "print()\n",
        "\n",
        "start_time = time.time()\n",
        "\n",
        "# Step 1: Load variables\n",
        "print(\"Step 1: Loading variable list...\")\n",
        "\n",
        "if not os.path.exists(WIDE_FILE):\n",
        "    raise FileNotFoundError(f\"❌ Wide format file not found: {WIDE_FILE}\")\n",
        "\n",
        "wide_df = pd.read_csv(WIDE_FILE, nrows=0)\n",
        "needed_vars = set()\n",
        "\n",
        "for col in wide_df.columns:\n",
        "    base_var = col.split('_')[0] if '_' in col else col\n",
        "    needed_vars.add(base_var)\n",
        "\n",
        "print(f\"   → Need definitions for {len(needed_vars)} variables\\n\")\n",
        "\n",
        "# Step 2: Find URLs\n",
        "print(\"Step 2: Finding documentation URLs...\")\n",
        "doc_urls = set()\n",
        "\n",
        "if os.path.exists(DATA_DIR):\n",
        "    for csv_file in os.listdir(DATA_DIR):\n",
        "        if csv_file.endswith('.csv'):\n",
        "            try:\n",
        "                df = pd.read_csv(os.path.join(DATA_DIR, csv_file), nrows=1)\n",
        "                for col in df.columns:\n",
        "                    if 'url' in col.lower() or 'doc' in col.lower():\n",
        "                        if not df[col].isna().all():\n",
        "                            url = str(df[col].iloc[0])\n",
        "                            if url.startswith('http'):\n",
        "                                doc_urls.add(url)\n",
        "            except:\n",
        "                continue\n",
        "\n",
        "doc_urls = sorted(list(doc_urls))\n",
        "urls_to_check = doc_urls if MAX_URLS_TO_CHECK is None else doc_urls[:MAX_URLS_TO_CHECK]\n",
        "print(f\"   → Found {len(doc_urls)} documentation URLs\")\n",
        "print(f\"   → Will check ALL {len(urls_to_check)} URLs for maximum completeness\\n\")\n",
        "\n",
        "# Step 3: Load cache\n",
        "print(\"Step 3: Loading cache...\")\n",
        "cache = load_cache()\n",
        "cached_vars = sum(1 for url_results in cache.values() for _ in url_results)\n",
        "print(f\"   → Cache contains {len(cache)} URLs with {cached_vars} variables\\n\")\n",
        "\n",
        "# Step 4: Parallel scraping\n",
        "print(\"Step 4: Scraping with parallel processing...\")\n",
        "print(f\"   → Using {MAX_WORKERS} parallel workers\")\n",
        "print(f\"   → Timeout per URL: {URL_TIMEOUT} seconds\")\n",
        "print(\"-\" * 70)\n",
        "\n",
        "found_variables, all_value_codes = scrape_all_parallel(urls_to_check, needed_vars, cache)\n",
        "\n",
        "scrape_time = time.time() - start_time\n",
        "\n",
        "print(f\"\\n✓ Scraping complete in {scrape_time/60:.1f} minutes!\")\n",
        "print(f\"   Variables found: {len(found_variables)}/{len(needed_vars)}\")\n",
        "print(f\"   Value codes found: {len(all_value_codes)}\\n\")\n",
        "\n",
        "# Save cache\n",
        "save_cache(cache)\n",
        "print(f\"✓ Cache saved: {CACHE_FILE}\\n\")\n",
        "\n",
        "# Step 5: Create dictionary\n",
        "print(\"Step 5: Creating data dictionary...\")\n",
        "\n",
        "dict_records = []\n",
        "\n",
        "for col in wide_df.columns:\n",
        "    base_var = col.split('_')[0] if '_' in col else col\n",
        "\n",
        "    if base_var in found_variables:\n",
        "        info = found_variables[base_var]\n",
        "\n",
        "        # Handle both old and new cache formats\n",
        "        if isinstance(info, str):\n",
        "            # Old cache format - just a description string\n",
        "            dict_records.append({\n",
        "                'column_name': col,\n",
        "                'base_variable': base_var,\n",
        "                'description': info,\n",
        "                'value_codes': '',\n",
        "                'has_codes': 'No',\n",
        "                'source': 'Scraped (cached)'\n",
        "            })\n",
        "            continue\n",
        "\n",
        "        # Get value codes for this specific variable\n",
        "        var_codes = [vc for vc in all_value_codes if vc['variable'] == base_var]\n",
        "\n",
        "        if var_codes:\n",
        "            # Format as \"1=Male; 2=Female\"\n",
        "            unique_codes = {}\n",
        "            for vc in var_codes:\n",
        "                if vc['code'] not in unique_codes:\n",
        "                    unique_codes[vc['code']] = vc['description']\n",
        "\n",
        "            try:\n",
        "                sorted_codes=sorted(unique_codes.items())\n",
        "            except TypeError:\n",
        "                sorted_codes=sorted(unique_codes.items(), key=lambda x: str(x[0]))\n",
        "\n",
        "            value_codes_str = '; '.join([\n",
        "                f\"{code}={desc}\" for code, desc in sorted_codes\n",
        "            ])\n",
        "        else:\n",
        "            value_codes_str = \"\"\n",
        "\n",
        "        dict_records.append({\n",
        "            'column_name': col,\n",
        "            'base_variable': base_var,\n",
        "            'description': info.get('description', f'Variable {base_var}'),\n",
        "            'value_codes': value_codes_str,\n",
        "            'has_codes': 'Yes' if value_codes_str else 'No',\n",
        "            'source': 'Scraped'\n",
        "        })\n",
        "    else:\n",
        "        dict_records.append({\n",
        "            'column_name': col,\n",
        "            'base_variable': base_var,\n",
        "            'description': f'Variable {base_var}',\n",
        "            'value_codes': '',\n",
        "            'has_codes': 'Unknown',\n",
        "            'source': 'Not found'\n",
        "        })\n",
        "\n",
        "dict_df = pd.DataFrame(dict_records)\n",
        "dict_df.to_csv(DICT_OUTPUT, index=False)\n",
        "print(f\"✓ Dictionary saved: {DICT_OUTPUT}\\n\")\n",
        "\n",
        "# Step 6: Value codes file\n",
        "print(\"Step 6: Creating value codes reference...\")\n",
        "\n",
        "value_codes_df = pd.DataFrame(all_value_codes)\n",
        "if not value_codes_df.empty:\n",
        "    # Remove duplicates\n",
        "    value_codes_df = value_codes_df.drop_duplicates(subset=['variable', 'code'])\n",
        "    value_codes_df = value_codes_df.sort_values(['variable', 'code'])\n",
        "    value_codes_df.to_csv(VALUE_CODES_OUTPUT, index=False)\n",
        "    print(f\"✓ Value codes saved: {VALUE_CODES_OUTPUT}\\n\")\n",
        "else:\n",
        "    print(\"⚠ No value codes found\\n\")\n",
        "\n",
        "# Step 7: Statistics\n",
        "total_time = time.time() - start_time\n",
        "\n",
        "print(\"=\" * 70)\n",
        "print(\"RESULTS SUMMARY\")\n",
        "print(\"=\" * 70)\n",
        "print(f\"⏱️  Total time: {total_time/60:.1f} minutes\")\n",
        "print(f\"📊 Total columns: {len(dict_df)}\")\n",
        "print(f\"✓  Descriptions found: {len(dict_df[dict_df['source']=='Scraped'])}\")\n",
        "print(f\"🏷️  Variables with codes: {len(dict_df[dict_df['has_codes']=='Yes'])}\")\n",
        "print(f\"📝 Total value codes: {len(value_codes_df) if not value_codes_df.empty else 0}\")\n",
        "coverage = len(dict_df[dict_df['source']=='Scraped']) / len(dict_df) * 100\n",
        "print(f\"📈 Coverage: {coverage:.1f}%\")\n",
        "print()\n",
        "\n",
        "# Step 8: Show samples\n",
        "print(\"Sample variables with value codes:\")\n",
        "print(\"-\" * 70)\n",
        "samples = dict_df[dict_df['has_codes'] == 'Yes'].head(5)\n",
        "\n",
        "if not samples.empty:\n",
        "    for _, row in samples.iterrows():\n",
        "        desc = row['description'][:60] + \"...\" if len(row['description']) > 60 else row['description']\n",
        "        print(f\"\\n{row['base_variable']}: {desc}\")\n",
        "        if row['value_codes']:\n",
        "            codes = row['value_codes'].split('; ')[:3]\n",
        "            for code in codes:\n",
        "                print(f\"  • {code}\")\n",
        "            remaining = len(row['value_codes'].split('; ')) - 3\n",
        "            if remaining > 0:\n",
        "                print(f\"  • ... and {remaining} more\")\n",
        "\n",
        "print(\"\\n\" + \"=\" * 70)\n",
        "print(\"✅ CHUNK 9 COMPLETE!\")\n",
        "print(\"=\" * 70)\n",
        "print()\n",
        "print(\"💡 Speed improvements:\")\n",
        "print(f\"   • Parallel processing: {MAX_WORKERS} workers\")\n",
        "print(f\"   • Early termination when all variables found\")\n",
        "print(f\"   • Timeout protection for slow URLs\")\n",
        "print(f\"   • Smart caching for re-runs\")"
      ],
      "metadata": {
        "colab": {
          "base_uri": "https://localhost:8080/"
        },
        "id": "3uP0pkDV3cia",
        "outputId": "759ec421-de29-46b8-fe9b-f2ad77043f11"
      },
      "execution_count": 25,
      "outputs": [
        {
          "output_type": "stream",
          "name": "stdout",
          "text": [
            "======================================================================\n",
            "🚀 CHUNK 9: OPTIMIZED DATA DICTIONARY GENERATOR\n",
            "======================================================================\n",
            "⚡ Using parallel processing for 10-20x speedup!\n",
            "\n",
            "Step 1: Loading variable list...\n",
            "   → Need definitions for 608 variables\n",
            "\n",
            "Step 2: Finding documentation URLs...\n",
            "   → Found 134 documentation URLs\n",
            "   → Will check ALL 134 URLs for maximum completeness\n",
            "\n",
            "Step 3: Loading cache...\n",
            "   → Cache contains 0 URLs with 0 variables\n",
            "\n",
            "Step 4: Scraping with parallel processing...\n",
            "   → Using 10 parallel workers\n",
            "   → Timeout per URL: 15 seconds\n",
            "----------------------------------------------------------------------\n"
          ]
        },
        {
          "output_type": "stream",
          "name": "stderr",
          "text": [
            "Finding variables:  95%|█████████▍| 577/608 [00:14<00:00, 40.80var/s]\n"
          ]
        },
        {
          "output_type": "stream",
          "name": "stdout",
          "text": [
            "\n",
            "✓ Scraping complete in 0.2 minutes!\n",
            "   Variables found: 577/608\n",
            "   Value codes found: 6269\n",
            "\n",
            "✓ Cache saved: nhanes_scrape_cache.json\n",
            "\n",
            "Step 5: Creating data dictionary...\n",
            "✓ Dictionary saved: nhanes_complete_dictionary.csv\n",
            "\n",
            "Step 6: Creating value codes reference...\n",
            "✓ Value codes saved: nhanes_value_codes.csv\n",
            "\n",
            "======================================================================\n",
            "RESULTS SUMMARY\n",
            "======================================================================\n",
            "⏱️  Total time: 0.3 minutes\n",
            "📊 Total columns: 608\n",
            "✓  Descriptions found: 577\n",
            "🏷️  Variables with codes: 495\n",
            "📝 Total value codes: 6269\n",
            "📈 Coverage: 94.9%\n",
            "\n",
            "Sample variables with value codes:\n",
            "----------------------------------------------------------------------\n",
            "\n",
            "SDDSRVYR: Data Release Number\n",
            "  • 0=Never Attended / Kindergarten Only\n",
            "  • 1=$ 0 to $ 4,999\n",
            "  • 2=$ 5,000 to $ 9,999\n",
            "  • ... and 18 more\n",
            "\n",
            "RIDSTATR: Interview/Examination Status\n",
            "  • 0=Never Attended / Kindergarten Only\n",
            "  • 1=$ 0 to $ 4,999\n",
            "  • 2=$ 5,000 to $ 9,999\n",
            "  • ... and 18 more\n",
            "\n",
            "RIAGENDR: Gender\n",
            "  • 0=Never Attended / Kindergarten Only\n",
            "  • 1=$ 0 to $ 4,999\n",
            "  • 2=$ 5,000 to $ 9,999\n",
            "  • ... and 18 more\n",
            "\n",
            "RIDAGEYR: Age at Screening Adjudicated - Recode\n",
            "  • 0=Never Attended / Kindergarten Only\n",
            "  • 1=$ 0 to $ 4,999\n",
            "  • 2=$ 5,000 to $ 9,999\n",
            "  • ... and 18 more\n",
            "\n",
            "RIDAGEMN: Age in Months - Recode\n",
            "  • 0=Never Attended / Kindergarten Only\n",
            "  • 1=$ 0 to $ 4,999\n",
            "  • 2=$ 5,000 to $ 9,999\n",
            "  • ... and 18 more\n",
            "\n",
            "======================================================================\n",
            "✅ CHUNK 9 COMPLETE!\n",
            "======================================================================\n",
            "\n",
            "💡 Speed improvements:\n",
            "   • Parallel processing: 10 workers\n",
            "   • Early termination when all variables found\n",
            "   • Timeout protection for slow URLs\n",
            "   • Smart caching for re-runs\n"
          ]
        }
      ]
    },
    {
      "cell_type": "code",
      "source": [
        "import os\n",
        "\n",
        "if os.path.exists(\"nhanes_scrape_cache.json\"):\n",
        "    os.remove(\"nhanes_scrape_cache.json\")\n",
        "    print(\"✓ Deleted old cache\")"
      ],
      "metadata": {
        "colab": {
          "base_uri": "https://localhost:8080/"
        },
        "id": "8EYTfnjL30Rq",
        "outputId": "ae5aa3be-ef19-44b1-aca1-29fe925ad49f"
      },
      "execution_count": 24,
      "outputs": [
        {
          "output_type": "stream",
          "name": "stdout",
          "text": [
            "✓ Deleted old cache\n"
          ]
        }
      ]
    }
  ]
}