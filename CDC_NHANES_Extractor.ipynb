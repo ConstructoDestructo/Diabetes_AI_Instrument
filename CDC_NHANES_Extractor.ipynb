{
  "nbformat": 4,
  "nbformat_minor": 0,
  "metadata": {
    "colab": {
      "provenance": [],
      "mount_file_id": "1VSfK_SOb1vTpytUsJt9_81-EQuGAjsGW",
      "authorship_tag": "ABX9TyNlnTplZrySyQjL1Q3S/UcM",
      "include_colab_link": true
    },
    "kernelspec": {
      "name": "python3",
      "display_name": "Python 3"
    },
    "language_info": {
      "name": "python"
    },
    "widgets": {
      "application/vnd.jupyter.widget-state+json": {
        "5816654c47934b6a9616d07eee23b30b": {
          "model_module": "@jupyter-widgets/controls",
          "model_name": "HBoxModel",
          "model_module_version": "1.5.0",
          "state": {
            "_dom_classes": [],
            "_model_module": "@jupyter-widgets/controls",
            "_model_module_version": "1.5.0",
            "_model_name": "HBoxModel",
            "_view_count": null,
            "_view_module": "@jupyter-widgets/controls",
            "_view_module_version": "1.5.0",
            "_view_name": "HBoxView",
            "box_style": "",
            "children": [
              "IPY_MODEL_db052536361a4c1d95415ab9fc3880c1",
              "IPY_MODEL_5b41b86a2df24956ae3de4da27027a7a",
              "IPY_MODEL_6053630fd3fe4566813e79fdec1819cd"
            ],
            "layout": "IPY_MODEL_c8a388e527124228ab55b8e0f6e0492d"
          }
        },
        "db052536361a4c1d95415ab9fc3880c1": {
          "model_module": "@jupyter-widgets/controls",
          "model_name": "HTMLModel",
          "model_module_version": "1.5.0",
          "state": {
            "_dom_classes": [],
            "_model_module": "@jupyter-widgets/controls",
            "_model_module_version": "1.5.0",
            "_model_name": "HTMLModel",
            "_view_count": null,
            "_view_module": "@jupyter-widgets/controls",
            "_view_module_version": "1.5.0",
            "_view_name": "HTMLView",
            "description": "",
            "description_tooltip": null,
            "layout": "IPY_MODEL_e6305282b9204e44a20d2e61a3dbde5b",
            "placeholder": "​",
            "style": "IPY_MODEL_e8accdccfed54c3c9766584d7c5e6373",
            "value": "modules.json: 100%"
          }
        },
        "5b41b86a2df24956ae3de4da27027a7a": {
          "model_module": "@jupyter-widgets/controls",
          "model_name": "FloatProgressModel",
          "model_module_version": "1.5.0",
          "state": {
            "_dom_classes": [],
            "_model_module": "@jupyter-widgets/controls",
            "_model_module_version": "1.5.0",
            "_model_name": "FloatProgressModel",
            "_view_count": null,
            "_view_module": "@jupyter-widgets/controls",
            "_view_module_version": "1.5.0",
            "_view_name": "ProgressView",
            "bar_style": "success",
            "description": "",
            "description_tooltip": null,
            "layout": "IPY_MODEL_b6d4ddea09da44b48d0a6bd1dc7e0e7f",
            "max": 349,
            "min": 0,
            "orientation": "horizontal",
            "style": "IPY_MODEL_71ba217f88c04f0aa2d90c12a2557c56",
            "value": 349
          }
        },
        "6053630fd3fe4566813e79fdec1819cd": {
          "model_module": "@jupyter-widgets/controls",
          "model_name": "HTMLModel",
          "model_module_version": "1.5.0",
          "state": {
            "_dom_classes": [],
            "_model_module": "@jupyter-widgets/controls",
            "_model_module_version": "1.5.0",
            "_model_name": "HTMLModel",
            "_view_count": null,
            "_view_module": "@jupyter-widgets/controls",
            "_view_module_version": "1.5.0",
            "_view_name": "HTMLView",
            "description": "",
            "description_tooltip": null,
            "layout": "IPY_MODEL_a3f8cafe9ecc4661acc3ddfc50c34315",
            "placeholder": "​",
            "style": "IPY_MODEL_527025e98ae34352b83339da4c192945",
            "value": " 349/349 [00:00&lt;00:00, 25.5kB/s]"
          }
        },
        "c8a388e527124228ab55b8e0f6e0492d": {
          "model_module": "@jupyter-widgets/base",
          "model_name": "LayoutModel",
          "model_module_version": "1.2.0",
          "state": {
            "_model_module": "@jupyter-widgets/base",
            "_model_module_version": "1.2.0",
            "_model_name": "LayoutModel",
            "_view_count": null,
            "_view_module": "@jupyter-widgets/base",
            "_view_module_version": "1.2.0",
            "_view_name": "LayoutView",
            "align_content": null,
            "align_items": null,
            "align_self": null,
            "border": null,
            "bottom": null,
            "display": null,
            "flex": null,
            "flex_flow": null,
            "grid_area": null,
            "grid_auto_columns": null,
            "grid_auto_flow": null,
            "grid_auto_rows": null,
            "grid_column": null,
            "grid_gap": null,
            "grid_row": null,
            "grid_template_areas": null,
            "grid_template_columns": null,
            "grid_template_rows": null,
            "height": null,
            "justify_content": null,
            "justify_items": null,
            "left": null,
            "margin": null,
            "max_height": null,
            "max_width": null,
            "min_height": null,
            "min_width": null,
            "object_fit": null,
            "object_position": null,
            "order": null,
            "overflow": null,
            "overflow_x": null,
            "overflow_y": null,
            "padding": null,
            "right": null,
            "top": null,
            "visibility": null,
            "width": null
          }
        },
        "e6305282b9204e44a20d2e61a3dbde5b": {
          "model_module": "@jupyter-widgets/base",
          "model_name": "LayoutModel",
          "model_module_version": "1.2.0",
          "state": {
            "_model_module": "@jupyter-widgets/base",
            "_model_module_version": "1.2.0",
            "_model_name": "LayoutModel",
            "_view_count": null,
            "_view_module": "@jupyter-widgets/base",
            "_view_module_version": "1.2.0",
            "_view_name": "LayoutView",
            "align_content": null,
            "align_items": null,
            "align_self": null,
            "border": null,
            "bottom": null,
            "display": null,
            "flex": null,
            "flex_flow": null,
            "grid_area": null,
            "grid_auto_columns": null,
            "grid_auto_flow": null,
            "grid_auto_rows": null,
            "grid_column": null,
            "grid_gap": null,
            "grid_row": null,
            "grid_template_areas": null,
            "grid_template_columns": null,
            "grid_template_rows": null,
            "height": null,
            "justify_content": null,
            "justify_items": null,
            "left": null,
            "margin": null,
            "max_height": null,
            "max_width": null,
            "min_height": null,
            "min_width": null,
            "object_fit": null,
            "object_position": null,
            "order": null,
            "overflow": null,
            "overflow_x": null,
            "overflow_y": null,
            "padding": null,
            "right": null,
            "top": null,
            "visibility": null,
            "width": null
          }
        },
        "e8accdccfed54c3c9766584d7c5e6373": {
          "model_module": "@jupyter-widgets/controls",
          "model_name": "DescriptionStyleModel",
          "model_module_version": "1.5.0",
          "state": {
            "_model_module": "@jupyter-widgets/controls",
            "_model_module_version": "1.5.0",
            "_model_name": "DescriptionStyleModel",
            "_view_count": null,
            "_view_module": "@jupyter-widgets/base",
            "_view_module_version": "1.2.0",
            "_view_name": "StyleView",
            "description_width": ""
          }
        },
        "b6d4ddea09da44b48d0a6bd1dc7e0e7f": {
          "model_module": "@jupyter-widgets/base",
          "model_name": "LayoutModel",
          "model_module_version": "1.2.0",
          "state": {
            "_model_module": "@jupyter-widgets/base",
            "_model_module_version": "1.2.0",
            "_model_name": "LayoutModel",
            "_view_count": null,
            "_view_module": "@jupyter-widgets/base",
            "_view_module_version": "1.2.0",
            "_view_name": "LayoutView",
            "align_content": null,
            "align_items": null,
            "align_self": null,
            "border": null,
            "bottom": null,
            "display": null,
            "flex": null,
            "flex_flow": null,
            "grid_area": null,
            "grid_auto_columns": null,
            "grid_auto_flow": null,
            "grid_auto_rows": null,
            "grid_column": null,
            "grid_gap": null,
            "grid_row": null,
            "grid_template_areas": null,
            "grid_template_columns": null,
            "grid_template_rows": null,
            "height": null,
            "justify_content": null,
            "justify_items": null,
            "left": null,
            "margin": null,
            "max_height": null,
            "max_width": null,
            "min_height": null,
            "min_width": null,
            "object_fit": null,
            "object_position": null,
            "order": null,
            "overflow": null,
            "overflow_x": null,
            "overflow_y": null,
            "padding": null,
            "right": null,
            "top": null,
            "visibility": null,
            "width": null
          }
        },
        "71ba217f88c04f0aa2d90c12a2557c56": {
          "model_module": "@jupyter-widgets/controls",
          "model_name": "ProgressStyleModel",
          "model_module_version": "1.5.0",
          "state": {
            "_model_module": "@jupyter-widgets/controls",
            "_model_module_version": "1.5.0",
            "_model_name": "ProgressStyleModel",
            "_view_count": null,
            "_view_module": "@jupyter-widgets/base",
            "_view_module_version": "1.2.0",
            "_view_name": "StyleView",
            "bar_color": null,
            "description_width": ""
          }
        },
        "a3f8cafe9ecc4661acc3ddfc50c34315": {
          "model_module": "@jupyter-widgets/base",
          "model_name": "LayoutModel",
          "model_module_version": "1.2.0",
          "state": {
            "_model_module": "@jupyter-widgets/base",
            "_model_module_version": "1.2.0",
            "_model_name": "LayoutModel",
            "_view_count": null,
            "_view_module": "@jupyter-widgets/base",
            "_view_module_version": "1.2.0",
            "_view_name": "LayoutView",
            "align_content": null,
            "align_items": null,
            "align_self": null,
            "border": null,
            "bottom": null,
            "display": null,
            "flex": null,
            "flex_flow": null,
            "grid_area": null,
            "grid_auto_columns": null,
            "grid_auto_flow": null,
            "grid_auto_rows": null,
            "grid_column": null,
            "grid_gap": null,
            "grid_row": null,
            "grid_template_areas": null,
            "grid_template_columns": null,
            "grid_template_rows": null,
            "height": null,
            "justify_content": null,
            "justify_items": null,
            "left": null,
            "margin": null,
            "max_height": null,
            "max_width": null,
            "min_height": null,
            "min_width": null,
            "object_fit": null,
            "object_position": null,
            "order": null,
            "overflow": null,
            "overflow_x": null,
            "overflow_y": null,
            "padding": null,
            "right": null,
            "top": null,
            "visibility": null,
            "width": null
          }
        },
        "527025e98ae34352b83339da4c192945": {
          "model_module": "@jupyter-widgets/controls",
          "model_name": "DescriptionStyleModel",
          "model_module_version": "1.5.0",
          "state": {
            "_model_module": "@jupyter-widgets/controls",
            "_model_module_version": "1.5.0",
            "_model_name": "DescriptionStyleModel",
            "_view_count": null,
            "_view_module": "@jupyter-widgets/base",
            "_view_module_version": "1.2.0",
            "_view_name": "StyleView",
            "description_width": ""
          }
        },
        "906bdd9e6b2c4178a5ee7748a6d9eebf": {
          "model_module": "@jupyter-widgets/controls",
          "model_name": "HBoxModel",
          "model_module_version": "1.5.0",
          "state": {
            "_dom_classes": [],
            "_model_module": "@jupyter-widgets/controls",
            "_model_module_version": "1.5.0",
            "_model_name": "HBoxModel",
            "_view_count": null,
            "_view_module": "@jupyter-widgets/controls",
            "_view_module_version": "1.5.0",
            "_view_name": "HBoxView",
            "box_style": "",
            "children": [
              "IPY_MODEL_6b7c495ef9724cfaa6d422eb308c2029",
              "IPY_MODEL_afe38ccfda98443392794bad0cdc041c",
              "IPY_MODEL_b9911e88c37e45008ca46026dc9ca028"
            ],
            "layout": "IPY_MODEL_3a54a47d408b488c920aec676d35986c"
          }
        },
        "6b7c495ef9724cfaa6d422eb308c2029": {
          "model_module": "@jupyter-widgets/controls",
          "model_name": "HTMLModel",
          "model_module_version": "1.5.0",
          "state": {
            "_dom_classes": [],
            "_model_module": "@jupyter-widgets/controls",
            "_model_module_version": "1.5.0",
            "_model_name": "HTMLModel",
            "_view_count": null,
            "_view_module": "@jupyter-widgets/controls",
            "_view_module_version": "1.5.0",
            "_view_name": "HTMLView",
            "description": "",
            "description_tooltip": null,
            "layout": "IPY_MODEL_2f81130c56534c41bbd5eee498362f61",
            "placeholder": "​",
            "style": "IPY_MODEL_181b855f01684e5e8846ba9b9c563cda",
            "value": "config_sentence_transformers.json: 100%"
          }
        },
        "afe38ccfda98443392794bad0cdc041c": {
          "model_module": "@jupyter-widgets/controls",
          "model_name": "FloatProgressModel",
          "model_module_version": "1.5.0",
          "state": {
            "_dom_classes": [],
            "_model_module": "@jupyter-widgets/controls",
            "_model_module_version": "1.5.0",
            "_model_name": "FloatProgressModel",
            "_view_count": null,
            "_view_module": "@jupyter-widgets/controls",
            "_view_module_version": "1.5.0",
            "_view_name": "ProgressView",
            "bar_style": "success",
            "description": "",
            "description_tooltip": null,
            "layout": "IPY_MODEL_eca9d28c62584d9bbe090b51c8d137bd",
            "max": 116,
            "min": 0,
            "orientation": "horizontal",
            "style": "IPY_MODEL_b89636b85fb94a349a632b1c2afd462e",
            "value": 116
          }
        },
        "b9911e88c37e45008ca46026dc9ca028": {
          "model_module": "@jupyter-widgets/controls",
          "model_name": "HTMLModel",
          "model_module_version": "1.5.0",
          "state": {
            "_dom_classes": [],
            "_model_module": "@jupyter-widgets/controls",
            "_model_module_version": "1.5.0",
            "_model_name": "HTMLModel",
            "_view_count": null,
            "_view_module": "@jupyter-widgets/controls",
            "_view_module_version": "1.5.0",
            "_view_name": "HTMLView",
            "description": "",
            "description_tooltip": null,
            "layout": "IPY_MODEL_0b72652ee60b4353b4d3057726783132",
            "placeholder": "​",
            "style": "IPY_MODEL_31a1a31f5577441ead2bacd71bb88456",
            "value": " 116/116 [00:00&lt;00:00, 9.94kB/s]"
          }
        },
        "3a54a47d408b488c920aec676d35986c": {
          "model_module": "@jupyter-widgets/base",
          "model_name": "LayoutModel",
          "model_module_version": "1.2.0",
          "state": {
            "_model_module": "@jupyter-widgets/base",
            "_model_module_version": "1.2.0",
            "_model_name": "LayoutModel",
            "_view_count": null,
            "_view_module": "@jupyter-widgets/base",
            "_view_module_version": "1.2.0",
            "_view_name": "LayoutView",
            "align_content": null,
            "align_items": null,
            "align_self": null,
            "border": null,
            "bottom": null,
            "display": null,
            "flex": null,
            "flex_flow": null,
            "grid_area": null,
            "grid_auto_columns": null,
            "grid_auto_flow": null,
            "grid_auto_rows": null,
            "grid_column": null,
            "grid_gap": null,
            "grid_row": null,
            "grid_template_areas": null,
            "grid_template_columns": null,
            "grid_template_rows": null,
            "height": null,
            "justify_content": null,
            "justify_items": null,
            "left": null,
            "margin": null,
            "max_height": null,
            "max_width": null,
            "min_height": null,
            "min_width": null,
            "object_fit": null,
            "object_position": null,
            "order": null,
            "overflow": null,
            "overflow_x": null,
            "overflow_y": null,
            "padding": null,
            "right": null,
            "top": null,
            "visibility": null,
            "width": null
          }
        },
        "2f81130c56534c41bbd5eee498362f61": {
          "model_module": "@jupyter-widgets/base",
          "model_name": "LayoutModel",
          "model_module_version": "1.2.0",
          "state": {
            "_model_module": "@jupyter-widgets/base",
            "_model_module_version": "1.2.0",
            "_model_name": "LayoutModel",
            "_view_count": null,
            "_view_module": "@jupyter-widgets/base",
            "_view_module_version": "1.2.0",
            "_view_name": "LayoutView",
            "align_content": null,
            "align_items": null,
            "align_self": null,
            "border": null,
            "bottom": null,
            "display": null,
            "flex": null,
            "flex_flow": null,
            "grid_area": null,
            "grid_auto_columns": null,
            "grid_auto_flow": null,
            "grid_auto_rows": null,
            "grid_column": null,
            "grid_gap": null,
            "grid_row": null,
            "grid_template_areas": null,
            "grid_template_columns": null,
            "grid_template_rows": null,
            "height": null,
            "justify_content": null,
            "justify_items": null,
            "left": null,
            "margin": null,
            "max_height": null,
            "max_width": null,
            "min_height": null,
            "min_width": null,
            "object_fit": null,
            "object_position": null,
            "order": null,
            "overflow": null,
            "overflow_x": null,
            "overflow_y": null,
            "padding": null,
            "right": null,
            "top": null,
            "visibility": null,
            "width": null
          }
        },
        "181b855f01684e5e8846ba9b9c563cda": {
          "model_module": "@jupyter-widgets/controls",
          "model_name": "DescriptionStyleModel",
          "model_module_version": "1.5.0",
          "state": {
            "_model_module": "@jupyter-widgets/controls",
            "_model_module_version": "1.5.0",
            "_model_name": "DescriptionStyleModel",
            "_view_count": null,
            "_view_module": "@jupyter-widgets/base",
            "_view_module_version": "1.2.0",
            "_view_name": "StyleView",
            "description_width": ""
          }
        },
        "eca9d28c62584d9bbe090b51c8d137bd": {
          "model_module": "@jupyter-widgets/base",
          "model_name": "LayoutModel",
          "model_module_version": "1.2.0",
          "state": {
            "_model_module": "@jupyter-widgets/base",
            "_model_module_version": "1.2.0",
            "_model_name": "LayoutModel",
            "_view_count": null,
            "_view_module": "@jupyter-widgets/base",
            "_view_module_version": "1.2.0",
            "_view_name": "LayoutView",
            "align_content": null,
            "align_items": null,
            "align_self": null,
            "border": null,
            "bottom": null,
            "display": null,
            "flex": null,
            "flex_flow": null,
            "grid_area": null,
            "grid_auto_columns": null,
            "grid_auto_flow": null,
            "grid_auto_rows": null,
            "grid_column": null,
            "grid_gap": null,
            "grid_row": null,
            "grid_template_areas": null,
            "grid_template_columns": null,
            "grid_template_rows": null,
            "height": null,
            "justify_content": null,
            "justify_items": null,
            "left": null,
            "margin": null,
            "max_height": null,
            "max_width": null,
            "min_height": null,
            "min_width": null,
            "object_fit": null,
            "object_position": null,
            "order": null,
            "overflow": null,
            "overflow_x": null,
            "overflow_y": null,
            "padding": null,
            "right": null,
            "top": null,
            "visibility": null,
            "width": null
          }
        },
        "b89636b85fb94a349a632b1c2afd462e": {
          "model_module": "@jupyter-widgets/controls",
          "model_name": "ProgressStyleModel",
          "model_module_version": "1.5.0",
          "state": {
            "_model_module": "@jupyter-widgets/controls",
            "_model_module_version": "1.5.0",
            "_model_name": "ProgressStyleModel",
            "_view_count": null,
            "_view_module": "@jupyter-widgets/base",
            "_view_module_version": "1.2.0",
            "_view_name": "StyleView",
            "bar_color": null,
            "description_width": ""
          }
        },
        "0b72652ee60b4353b4d3057726783132": {
          "model_module": "@jupyter-widgets/base",
          "model_name": "LayoutModel",
          "model_module_version": "1.2.0",
          "state": {
            "_model_module": "@jupyter-widgets/base",
            "_model_module_version": "1.2.0",
            "_model_name": "LayoutModel",
            "_view_count": null,
            "_view_module": "@jupyter-widgets/base",
            "_view_module_version": "1.2.0",
            "_view_name": "LayoutView",
            "align_content": null,
            "align_items": null,
            "align_self": null,
            "border": null,
            "bottom": null,
            "display": null,
            "flex": null,
            "flex_flow": null,
            "grid_area": null,
            "grid_auto_columns": null,
            "grid_auto_flow": null,
            "grid_auto_rows": null,
            "grid_column": null,
            "grid_gap": null,
            "grid_row": null,
            "grid_template_areas": null,
            "grid_template_columns": null,
            "grid_template_rows": null,
            "height": null,
            "justify_content": null,
            "justify_items": null,
            "left": null,
            "margin": null,
            "max_height": null,
            "max_width": null,
            "min_height": null,
            "min_width": null,
            "object_fit": null,
            "object_position": null,
            "order": null,
            "overflow": null,
            "overflow_x": null,
            "overflow_y": null,
            "padding": null,
            "right": null,
            "top": null,
            "visibility": null,
            "width": null
          }
        },
        "31a1a31f5577441ead2bacd71bb88456": {
          "model_module": "@jupyter-widgets/controls",
          "model_name": "DescriptionStyleModel",
          "model_module_version": "1.5.0",
          "state": {
            "_model_module": "@jupyter-widgets/controls",
            "_model_module_version": "1.5.0",
            "_model_name": "DescriptionStyleModel",
            "_view_count": null,
            "_view_module": "@jupyter-widgets/base",
            "_view_module_version": "1.2.0",
            "_view_name": "StyleView",
            "description_width": ""
          }
        },
        "97402c8c75714f13ae04b9a1fbf1bcfa": {
          "model_module": "@jupyter-widgets/controls",
          "model_name": "HBoxModel",
          "model_module_version": "1.5.0",
          "state": {
            "_dom_classes": [],
            "_model_module": "@jupyter-widgets/controls",
            "_model_module_version": "1.5.0",
            "_model_name": "HBoxModel",
            "_view_count": null,
            "_view_module": "@jupyter-widgets/controls",
            "_view_module_version": "1.5.0",
            "_view_name": "HBoxView",
            "box_style": "",
            "children": [
              "IPY_MODEL_556e436ab3684ec588a8219bee624638",
              "IPY_MODEL_b6e220009b834fda84a2aafb9f81713b",
              "IPY_MODEL_1f4c5a7e3fea46c680e88023e4013191"
            ],
            "layout": "IPY_MODEL_49acca2247f3439fa729316ed8b2953b"
          }
        },
        "556e436ab3684ec588a8219bee624638": {
          "model_module": "@jupyter-widgets/controls",
          "model_name": "HTMLModel",
          "model_module_version": "1.5.0",
          "state": {
            "_dom_classes": [],
            "_model_module": "@jupyter-widgets/controls",
            "_model_module_version": "1.5.0",
            "_model_name": "HTMLModel",
            "_view_count": null,
            "_view_module": "@jupyter-widgets/controls",
            "_view_module_version": "1.5.0",
            "_view_name": "HTMLView",
            "description": "",
            "description_tooltip": null,
            "layout": "IPY_MODEL_f4374ccd42024d93b00f68c50d6f2b0f",
            "placeholder": "​",
            "style": "IPY_MODEL_7000c5e3b8104cc8a5209532fdcd3162",
            "value": "README.md: "
          }
        },
        "b6e220009b834fda84a2aafb9f81713b": {
          "model_module": "@jupyter-widgets/controls",
          "model_name": "FloatProgressModel",
          "model_module_version": "1.5.0",
          "state": {
            "_dom_classes": [],
            "_model_module": "@jupyter-widgets/controls",
            "_model_module_version": "1.5.0",
            "_model_name": "FloatProgressModel",
            "_view_count": null,
            "_view_module": "@jupyter-widgets/controls",
            "_view_module_version": "1.5.0",
            "_view_name": "ProgressView",
            "bar_style": "success",
            "description": "",
            "description_tooltip": null,
            "layout": "IPY_MODEL_56f7a5621b734dfbbfb7c86fb56b9a38",
            "max": 1,
            "min": 0,
            "orientation": "horizontal",
            "style": "IPY_MODEL_5520193926804a45aa18d06a8184aa48",
            "value": 1
          }
        },
        "1f4c5a7e3fea46c680e88023e4013191": {
          "model_module": "@jupyter-widgets/controls",
          "model_name": "HTMLModel",
          "model_module_version": "1.5.0",
          "state": {
            "_dom_classes": [],
            "_model_module": "@jupyter-widgets/controls",
            "_model_module_version": "1.5.0",
            "_model_name": "HTMLModel",
            "_view_count": null,
            "_view_module": "@jupyter-widgets/controls",
            "_view_module_version": "1.5.0",
            "_view_name": "HTMLView",
            "description": "",
            "description_tooltip": null,
            "layout": "IPY_MODEL_afcd7777a24d425b91b4c6c224673255",
            "placeholder": "​",
            "style": "IPY_MODEL_20d69d281f294ba082f5c3ad444c2545",
            "value": " 10.5k/? [00:00&lt;00:00, 837kB/s]"
          }
        },
        "49acca2247f3439fa729316ed8b2953b": {
          "model_module": "@jupyter-widgets/base",
          "model_name": "LayoutModel",
          "model_module_version": "1.2.0",
          "state": {
            "_model_module": "@jupyter-widgets/base",
            "_model_module_version": "1.2.0",
            "_model_name": "LayoutModel",
            "_view_count": null,
            "_view_module": "@jupyter-widgets/base",
            "_view_module_version": "1.2.0",
            "_view_name": "LayoutView",
            "align_content": null,
            "align_items": null,
            "align_self": null,
            "border": null,
            "bottom": null,
            "display": null,
            "flex": null,
            "flex_flow": null,
            "grid_area": null,
            "grid_auto_columns": null,
            "grid_auto_flow": null,
            "grid_auto_rows": null,
            "grid_column": null,
            "grid_gap": null,
            "grid_row": null,
            "grid_template_areas": null,
            "grid_template_columns": null,
            "grid_template_rows": null,
            "height": null,
            "justify_content": null,
            "justify_items": null,
            "left": null,
            "margin": null,
            "max_height": null,
            "max_width": null,
            "min_height": null,
            "min_width": null,
            "object_fit": null,
            "object_position": null,
            "order": null,
            "overflow": null,
            "overflow_x": null,
            "overflow_y": null,
            "padding": null,
            "right": null,
            "top": null,
            "visibility": null,
            "width": null
          }
        },
        "f4374ccd42024d93b00f68c50d6f2b0f": {
          "model_module": "@jupyter-widgets/base",
          "model_name": "LayoutModel",
          "model_module_version": "1.2.0",
          "state": {
            "_model_module": "@jupyter-widgets/base",
            "_model_module_version": "1.2.0",
            "_model_name": "LayoutModel",
            "_view_count": null,
            "_view_module": "@jupyter-widgets/base",
            "_view_module_version": "1.2.0",
            "_view_name": "LayoutView",
            "align_content": null,
            "align_items": null,
            "align_self": null,
            "border": null,
            "bottom": null,
            "display": null,
            "flex": null,
            "flex_flow": null,
            "grid_area": null,
            "grid_auto_columns": null,
            "grid_auto_flow": null,
            "grid_auto_rows": null,
            "grid_column": null,
            "grid_gap": null,
            "grid_row": null,
            "grid_template_areas": null,
            "grid_template_columns": null,
            "grid_template_rows": null,
            "height": null,
            "justify_content": null,
            "justify_items": null,
            "left": null,
            "margin": null,
            "max_height": null,
            "max_width": null,
            "min_height": null,
            "min_width": null,
            "object_fit": null,
            "object_position": null,
            "order": null,
            "overflow": null,
            "overflow_x": null,
            "overflow_y": null,
            "padding": null,
            "right": null,
            "top": null,
            "visibility": null,
            "width": null
          }
        },
        "7000c5e3b8104cc8a5209532fdcd3162": {
          "model_module": "@jupyter-widgets/controls",
          "model_name": "DescriptionStyleModel",
          "model_module_version": "1.5.0",
          "state": {
            "_model_module": "@jupyter-widgets/controls",
            "_model_module_version": "1.5.0",
            "_model_name": "DescriptionStyleModel",
            "_view_count": null,
            "_view_module": "@jupyter-widgets/base",
            "_view_module_version": "1.2.0",
            "_view_name": "StyleView",
            "description_width": ""
          }
        },
        "56f7a5621b734dfbbfb7c86fb56b9a38": {
          "model_module": "@jupyter-widgets/base",
          "model_name": "LayoutModel",
          "model_module_version": "1.2.0",
          "state": {
            "_model_module": "@jupyter-widgets/base",
            "_model_module_version": "1.2.0",
            "_model_name": "LayoutModel",
            "_view_count": null,
            "_view_module": "@jupyter-widgets/base",
            "_view_module_version": "1.2.0",
            "_view_name": "LayoutView",
            "align_content": null,
            "align_items": null,
            "align_self": null,
            "border": null,
            "bottom": null,
            "display": null,
            "flex": null,
            "flex_flow": null,
            "grid_area": null,
            "grid_auto_columns": null,
            "grid_auto_flow": null,
            "grid_auto_rows": null,
            "grid_column": null,
            "grid_gap": null,
            "grid_row": null,
            "grid_template_areas": null,
            "grid_template_columns": null,
            "grid_template_rows": null,
            "height": null,
            "justify_content": null,
            "justify_items": null,
            "left": null,
            "margin": null,
            "max_height": null,
            "max_width": null,
            "min_height": null,
            "min_width": null,
            "object_fit": null,
            "object_position": null,
            "order": null,
            "overflow": null,
            "overflow_x": null,
            "overflow_y": null,
            "padding": null,
            "right": null,
            "top": null,
            "visibility": null,
            "width": "20px"
          }
        },
        "5520193926804a45aa18d06a8184aa48": {
          "model_module": "@jupyter-widgets/controls",
          "model_name": "ProgressStyleModel",
          "model_module_version": "1.5.0",
          "state": {
            "_model_module": "@jupyter-widgets/controls",
            "_model_module_version": "1.5.0",
            "_model_name": "ProgressStyleModel",
            "_view_count": null,
            "_view_module": "@jupyter-widgets/base",
            "_view_module_version": "1.2.0",
            "_view_name": "StyleView",
            "bar_color": null,
            "description_width": ""
          }
        },
        "afcd7777a24d425b91b4c6c224673255": {
          "model_module": "@jupyter-widgets/base",
          "model_name": "LayoutModel",
          "model_module_version": "1.2.0",
          "state": {
            "_model_module": "@jupyter-widgets/base",
            "_model_module_version": "1.2.0",
            "_model_name": "LayoutModel",
            "_view_count": null,
            "_view_module": "@jupyter-widgets/base",
            "_view_module_version": "1.2.0",
            "_view_name": "LayoutView",
            "align_content": null,
            "align_items": null,
            "align_self": null,
            "border": null,
            "bottom": null,
            "display": null,
            "flex": null,
            "flex_flow": null,
            "grid_area": null,
            "grid_auto_columns": null,
            "grid_auto_flow": null,
            "grid_auto_rows": null,
            "grid_column": null,
            "grid_gap": null,
            "grid_row": null,
            "grid_template_areas": null,
            "grid_template_columns": null,
            "grid_template_rows": null,
            "height": null,
            "justify_content": null,
            "justify_items": null,
            "left": null,
            "margin": null,
            "max_height": null,
            "max_width": null,
            "min_height": null,
            "min_width": null,
            "object_fit": null,
            "object_position": null,
            "order": null,
            "overflow": null,
            "overflow_x": null,
            "overflow_y": null,
            "padding": null,
            "right": null,
            "top": null,
            "visibility": null,
            "width": null
          }
        },
        "20d69d281f294ba082f5c3ad444c2545": {
          "model_module": "@jupyter-widgets/controls",
          "model_name": "DescriptionStyleModel",
          "model_module_version": "1.5.0",
          "state": {
            "_model_module": "@jupyter-widgets/controls",
            "_model_module_version": "1.5.0",
            "_model_name": "DescriptionStyleModel",
            "_view_count": null,
            "_view_module": "@jupyter-widgets/base",
            "_view_module_version": "1.2.0",
            "_view_name": "StyleView",
            "description_width": ""
          }
        },
        "3a4934a9306745478396fe85972e0a4c": {
          "model_module": "@jupyter-widgets/controls",
          "model_name": "HBoxModel",
          "model_module_version": "1.5.0",
          "state": {
            "_dom_classes": [],
            "_model_module": "@jupyter-widgets/controls",
            "_model_module_version": "1.5.0",
            "_model_name": "HBoxModel",
            "_view_count": null,
            "_view_module": "@jupyter-widgets/controls",
            "_view_module_version": "1.5.0",
            "_view_name": "HBoxView",
            "box_style": "",
            "children": [
              "IPY_MODEL_119182c3884e44fda64882d17ac2f106",
              "IPY_MODEL_ec6a6d29507b425483014b8e177f2841",
              "IPY_MODEL_0dd87fb2683f4e8c8f04e3eef1505f6d"
            ],
            "layout": "IPY_MODEL_24466217da604257b7821aebface6a41"
          }
        },
        "119182c3884e44fda64882d17ac2f106": {
          "model_module": "@jupyter-widgets/controls",
          "model_name": "HTMLModel",
          "model_module_version": "1.5.0",
          "state": {
            "_dom_classes": [],
            "_model_module": "@jupyter-widgets/controls",
            "_model_module_version": "1.5.0",
            "_model_name": "HTMLModel",
            "_view_count": null,
            "_view_module": "@jupyter-widgets/controls",
            "_view_module_version": "1.5.0",
            "_view_name": "HTMLView",
            "description": "",
            "description_tooltip": null,
            "layout": "IPY_MODEL_819b8249847e487caa97bc87c40b9018",
            "placeholder": "​",
            "style": "IPY_MODEL_447c089012b641f8aa9ed46d56a0cb0f",
            "value": "sentence_bert_config.json: 100%"
          }
        },
        "ec6a6d29507b425483014b8e177f2841": {
          "model_module": "@jupyter-widgets/controls",
          "model_name": "FloatProgressModel",
          "model_module_version": "1.5.0",
          "state": {
            "_dom_classes": [],
            "_model_module": "@jupyter-widgets/controls",
            "_model_module_version": "1.5.0",
            "_model_name": "FloatProgressModel",
            "_view_count": null,
            "_view_module": "@jupyter-widgets/controls",
            "_view_module_version": "1.5.0",
            "_view_name": "ProgressView",
            "bar_style": "success",
            "description": "",
            "description_tooltip": null,
            "layout": "IPY_MODEL_7d6764cbbe0c45988f37dcd4b78e2720",
            "max": 53,
            "min": 0,
            "orientation": "horizontal",
            "style": "IPY_MODEL_649d9e6590ee410eafb6bcd8160d16e7",
            "value": 53
          }
        },
        "0dd87fb2683f4e8c8f04e3eef1505f6d": {
          "model_module": "@jupyter-widgets/controls",
          "model_name": "HTMLModel",
          "model_module_version": "1.5.0",
          "state": {
            "_dom_classes": [],
            "_model_module": "@jupyter-widgets/controls",
            "_model_module_version": "1.5.0",
            "_model_name": "HTMLModel",
            "_view_count": null,
            "_view_module": "@jupyter-widgets/controls",
            "_view_module_version": "1.5.0",
            "_view_name": "HTMLView",
            "description": "",
            "description_tooltip": null,
            "layout": "IPY_MODEL_754a84d7d90f4bc594576c9e5942919b",
            "placeholder": "​",
            "style": "IPY_MODEL_90432d72e9b14d568b8b22881baaab54",
            "value": " 53.0/53.0 [00:00&lt;00:00, 5.09kB/s]"
          }
        },
        "24466217da604257b7821aebface6a41": {
          "model_module": "@jupyter-widgets/base",
          "model_name": "LayoutModel",
          "model_module_version": "1.2.0",
          "state": {
            "_model_module": "@jupyter-widgets/base",
            "_model_module_version": "1.2.0",
            "_model_name": "LayoutModel",
            "_view_count": null,
            "_view_module": "@jupyter-widgets/base",
            "_view_module_version": "1.2.0",
            "_view_name": "LayoutView",
            "align_content": null,
            "align_items": null,
            "align_self": null,
            "border": null,
            "bottom": null,
            "display": null,
            "flex": null,
            "flex_flow": null,
            "grid_area": null,
            "grid_auto_columns": null,
            "grid_auto_flow": null,
            "grid_auto_rows": null,
            "grid_column": null,
            "grid_gap": null,
            "grid_row": null,
            "grid_template_areas": null,
            "grid_template_columns": null,
            "grid_template_rows": null,
            "height": null,
            "justify_content": null,
            "justify_items": null,
            "left": null,
            "margin": null,
            "max_height": null,
            "max_width": null,
            "min_height": null,
            "min_width": null,
            "object_fit": null,
            "object_position": null,
            "order": null,
            "overflow": null,
            "overflow_x": null,
            "overflow_y": null,
            "padding": null,
            "right": null,
            "top": null,
            "visibility": null,
            "width": null
          }
        },
        "819b8249847e487caa97bc87c40b9018": {
          "model_module": "@jupyter-widgets/base",
          "model_name": "LayoutModel",
          "model_module_version": "1.2.0",
          "state": {
            "_model_module": "@jupyter-widgets/base",
            "_model_module_version": "1.2.0",
            "_model_name": "LayoutModel",
            "_view_count": null,
            "_view_module": "@jupyter-widgets/base",
            "_view_module_version": "1.2.0",
            "_view_name": "LayoutView",
            "align_content": null,
            "align_items": null,
            "align_self": null,
            "border": null,
            "bottom": null,
            "display": null,
            "flex": null,
            "flex_flow": null,
            "grid_area": null,
            "grid_auto_columns": null,
            "grid_auto_flow": null,
            "grid_auto_rows": null,
            "grid_column": null,
            "grid_gap": null,
            "grid_row": null,
            "grid_template_areas": null,
            "grid_template_columns": null,
            "grid_template_rows": null,
            "height": null,
            "justify_content": null,
            "justify_items": null,
            "left": null,
            "margin": null,
            "max_height": null,
            "max_width": null,
            "min_height": null,
            "min_width": null,
            "object_fit": null,
            "object_position": null,
            "order": null,
            "overflow": null,
            "overflow_x": null,
            "overflow_y": null,
            "padding": null,
            "right": null,
            "top": null,
            "visibility": null,
            "width": null
          }
        },
        "447c089012b641f8aa9ed46d56a0cb0f": {
          "model_module": "@jupyter-widgets/controls",
          "model_name": "DescriptionStyleModel",
          "model_module_version": "1.5.0",
          "state": {
            "_model_module": "@jupyter-widgets/controls",
            "_model_module_version": "1.5.0",
            "_model_name": "DescriptionStyleModel",
            "_view_count": null,
            "_view_module": "@jupyter-widgets/base",
            "_view_module_version": "1.2.0",
            "_view_name": "StyleView",
            "description_width": ""
          }
        },
        "7d6764cbbe0c45988f37dcd4b78e2720": {
          "model_module": "@jupyter-widgets/base",
          "model_name": "LayoutModel",
          "model_module_version": "1.2.0",
          "state": {
            "_model_module": "@jupyter-widgets/base",
            "_model_module_version": "1.2.0",
            "_model_name": "LayoutModel",
            "_view_count": null,
            "_view_module": "@jupyter-widgets/base",
            "_view_module_version": "1.2.0",
            "_view_name": "LayoutView",
            "align_content": null,
            "align_items": null,
            "align_self": null,
            "border": null,
            "bottom": null,
            "display": null,
            "flex": null,
            "flex_flow": null,
            "grid_area": null,
            "grid_auto_columns": null,
            "grid_auto_flow": null,
            "grid_auto_rows": null,
            "grid_column": null,
            "grid_gap": null,
            "grid_row": null,
            "grid_template_areas": null,
            "grid_template_columns": null,
            "grid_template_rows": null,
            "height": null,
            "justify_content": null,
            "justify_items": null,
            "left": null,
            "margin": null,
            "max_height": null,
            "max_width": null,
            "min_height": null,
            "min_width": null,
            "object_fit": null,
            "object_position": null,
            "order": null,
            "overflow": null,
            "overflow_x": null,
            "overflow_y": null,
            "padding": null,
            "right": null,
            "top": null,
            "visibility": null,
            "width": null
          }
        },
        "649d9e6590ee410eafb6bcd8160d16e7": {
          "model_module": "@jupyter-widgets/controls",
          "model_name": "ProgressStyleModel",
          "model_module_version": "1.5.0",
          "state": {
            "_model_module": "@jupyter-widgets/controls",
            "_model_module_version": "1.5.0",
            "_model_name": "ProgressStyleModel",
            "_view_count": null,
            "_view_module": "@jupyter-widgets/base",
            "_view_module_version": "1.2.0",
            "_view_name": "StyleView",
            "bar_color": null,
            "description_width": ""
          }
        },
        "754a84d7d90f4bc594576c9e5942919b": {
          "model_module": "@jupyter-widgets/base",
          "model_name": "LayoutModel",
          "model_module_version": "1.2.0",
          "state": {
            "_model_module": "@jupyter-widgets/base",
            "_model_module_version": "1.2.0",
            "_model_name": "LayoutModel",
            "_view_count": null,
            "_view_module": "@jupyter-widgets/base",
            "_view_module_version": "1.2.0",
            "_view_name": "LayoutView",
            "align_content": null,
            "align_items": null,
            "align_self": null,
            "border": null,
            "bottom": null,
            "display": null,
            "flex": null,
            "flex_flow": null,
            "grid_area": null,
            "grid_auto_columns": null,
            "grid_auto_flow": null,
            "grid_auto_rows": null,
            "grid_column": null,
            "grid_gap": null,
            "grid_row": null,
            "grid_template_areas": null,
            "grid_template_columns": null,
            "grid_template_rows": null,
            "height": null,
            "justify_content": null,
            "justify_items": null,
            "left": null,
            "margin": null,
            "max_height": null,
            "max_width": null,
            "min_height": null,
            "min_width": null,
            "object_fit": null,
            "object_position": null,
            "order": null,
            "overflow": null,
            "overflow_x": null,
            "overflow_y": null,
            "padding": null,
            "right": null,
            "top": null,
            "visibility": null,
            "width": null
          }
        },
        "90432d72e9b14d568b8b22881baaab54": {
          "model_module": "@jupyter-widgets/controls",
          "model_name": "DescriptionStyleModel",
          "model_module_version": "1.5.0",
          "state": {
            "_model_module": "@jupyter-widgets/controls",
            "_model_module_version": "1.5.0",
            "_model_name": "DescriptionStyleModel",
            "_view_count": null,
            "_view_module": "@jupyter-widgets/base",
            "_view_module_version": "1.2.0",
            "_view_name": "StyleView",
            "description_width": ""
          }
        },
        "8d1c17941e454f27aede720246f4ef80": {
          "model_module": "@jupyter-widgets/controls",
          "model_name": "HBoxModel",
          "model_module_version": "1.5.0",
          "state": {
            "_dom_classes": [],
            "_model_module": "@jupyter-widgets/controls",
            "_model_module_version": "1.5.0",
            "_model_name": "HBoxModel",
            "_view_count": null,
            "_view_module": "@jupyter-widgets/controls",
            "_view_module_version": "1.5.0",
            "_view_name": "HBoxView",
            "box_style": "",
            "children": [
              "IPY_MODEL_bd675430a014401fb7b7049d150188d8",
              "IPY_MODEL_e250459c0a1b48c1b839567333c61a8d",
              "IPY_MODEL_27b7e909978a49cf9825f5eb9505b5ee"
            ],
            "layout": "IPY_MODEL_ee08fdc57923461184cc343ad3f30c67"
          }
        },
        "bd675430a014401fb7b7049d150188d8": {
          "model_module": "@jupyter-widgets/controls",
          "model_name": "HTMLModel",
          "model_module_version": "1.5.0",
          "state": {
            "_dom_classes": [],
            "_model_module": "@jupyter-widgets/controls",
            "_model_module_version": "1.5.0",
            "_model_name": "HTMLModel",
            "_view_count": null,
            "_view_module": "@jupyter-widgets/controls",
            "_view_module_version": "1.5.0",
            "_view_name": "HTMLView",
            "description": "",
            "description_tooltip": null,
            "layout": "IPY_MODEL_740a45ca6dae4a1da066d05957afd7f5",
            "placeholder": "​",
            "style": "IPY_MODEL_18b151a3e53c4a32866069d9ba4bb157",
            "value": "config.json: 100%"
          }
        },
        "e250459c0a1b48c1b839567333c61a8d": {
          "model_module": "@jupyter-widgets/controls",
          "model_name": "FloatProgressModel",
          "model_module_version": "1.5.0",
          "state": {
            "_dom_classes": [],
            "_model_module": "@jupyter-widgets/controls",
            "_model_module_version": "1.5.0",
            "_model_name": "FloatProgressModel",
            "_view_count": null,
            "_view_module": "@jupyter-widgets/controls",
            "_view_module_version": "1.5.0",
            "_view_name": "ProgressView",
            "bar_style": "success",
            "description": "",
            "description_tooltip": null,
            "layout": "IPY_MODEL_fc935ad61dbd4f8abc8b0eb42990f318",
            "max": 612,
            "min": 0,
            "orientation": "horizontal",
            "style": "IPY_MODEL_60c9eb39f0ca4c1cab52e20b18bef448",
            "value": 612
          }
        },
        "27b7e909978a49cf9825f5eb9505b5ee": {
          "model_module": "@jupyter-widgets/controls",
          "model_name": "HTMLModel",
          "model_module_version": "1.5.0",
          "state": {
            "_dom_classes": [],
            "_model_module": "@jupyter-widgets/controls",
            "_model_module_version": "1.5.0",
            "_model_name": "HTMLModel",
            "_view_count": null,
            "_view_module": "@jupyter-widgets/controls",
            "_view_module_version": "1.5.0",
            "_view_name": "HTMLView",
            "description": "",
            "description_tooltip": null,
            "layout": "IPY_MODEL_3ea770e4d0fa4a9a982bc69b83e6478c",
            "placeholder": "​",
            "style": "IPY_MODEL_33b923007ec849678e19dd864212a3ba",
            "value": " 612/612 [00:00&lt;00:00, 48.7kB/s]"
          }
        },
        "ee08fdc57923461184cc343ad3f30c67": {
          "model_module": "@jupyter-widgets/base",
          "model_name": "LayoutModel",
          "model_module_version": "1.2.0",
          "state": {
            "_model_module": "@jupyter-widgets/base",
            "_model_module_version": "1.2.0",
            "_model_name": "LayoutModel",
            "_view_count": null,
            "_view_module": "@jupyter-widgets/base",
            "_view_module_version": "1.2.0",
            "_view_name": "LayoutView",
            "align_content": null,
            "align_items": null,
            "align_self": null,
            "border": null,
            "bottom": null,
            "display": null,
            "flex": null,
            "flex_flow": null,
            "grid_area": null,
            "grid_auto_columns": null,
            "grid_auto_flow": null,
            "grid_auto_rows": null,
            "grid_column": null,
            "grid_gap": null,
            "grid_row": null,
            "grid_template_areas": null,
            "grid_template_columns": null,
            "grid_template_rows": null,
            "height": null,
            "justify_content": null,
            "justify_items": null,
            "left": null,
            "margin": null,
            "max_height": null,
            "max_width": null,
            "min_height": null,
            "min_width": null,
            "object_fit": null,
            "object_position": null,
            "order": null,
            "overflow": null,
            "overflow_x": null,
            "overflow_y": null,
            "padding": null,
            "right": null,
            "top": null,
            "visibility": null,
            "width": null
          }
        },
        "740a45ca6dae4a1da066d05957afd7f5": {
          "model_module": "@jupyter-widgets/base",
          "model_name": "LayoutModel",
          "model_module_version": "1.2.0",
          "state": {
            "_model_module": "@jupyter-widgets/base",
            "_model_module_version": "1.2.0",
            "_model_name": "LayoutModel",
            "_view_count": null,
            "_view_module": "@jupyter-widgets/base",
            "_view_module_version": "1.2.0",
            "_view_name": "LayoutView",
            "align_content": null,
            "align_items": null,
            "align_self": null,
            "border": null,
            "bottom": null,
            "display": null,
            "flex": null,
            "flex_flow": null,
            "grid_area": null,
            "grid_auto_columns": null,
            "grid_auto_flow": null,
            "grid_auto_rows": null,
            "grid_column": null,
            "grid_gap": null,
            "grid_row": null,
            "grid_template_areas": null,
            "grid_template_columns": null,
            "grid_template_rows": null,
            "height": null,
            "justify_content": null,
            "justify_items": null,
            "left": null,
            "margin": null,
            "max_height": null,
            "max_width": null,
            "min_height": null,
            "min_width": null,
            "object_fit": null,
            "object_position": null,
            "order": null,
            "overflow": null,
            "overflow_x": null,
            "overflow_y": null,
            "padding": null,
            "right": null,
            "top": null,
            "visibility": null,
            "width": null
          }
        },
        "18b151a3e53c4a32866069d9ba4bb157": {
          "model_module": "@jupyter-widgets/controls",
          "model_name": "DescriptionStyleModel",
          "model_module_version": "1.5.0",
          "state": {
            "_model_module": "@jupyter-widgets/controls",
            "_model_module_version": "1.5.0",
            "_model_name": "DescriptionStyleModel",
            "_view_count": null,
            "_view_module": "@jupyter-widgets/base",
            "_view_module_version": "1.2.0",
            "_view_name": "StyleView",
            "description_width": ""
          }
        },
        "fc935ad61dbd4f8abc8b0eb42990f318": {
          "model_module": "@jupyter-widgets/base",
          "model_name": "LayoutModel",
          "model_module_version": "1.2.0",
          "state": {
            "_model_module": "@jupyter-widgets/base",
            "_model_module_version": "1.2.0",
            "_model_name": "LayoutModel",
            "_view_count": null,
            "_view_module": "@jupyter-widgets/base",
            "_view_module_version": "1.2.0",
            "_view_name": "LayoutView",
            "align_content": null,
            "align_items": null,
            "align_self": null,
            "border": null,
            "bottom": null,
            "display": null,
            "flex": null,
            "flex_flow": null,
            "grid_area": null,
            "grid_auto_columns": null,
            "grid_auto_flow": null,
            "grid_auto_rows": null,
            "grid_column": null,
            "grid_gap": null,
            "grid_row": null,
            "grid_template_areas": null,
            "grid_template_columns": null,
            "grid_template_rows": null,
            "height": null,
            "justify_content": null,
            "justify_items": null,
            "left": null,
            "margin": null,
            "max_height": null,
            "max_width": null,
            "min_height": null,
            "min_width": null,
            "object_fit": null,
            "object_position": null,
            "order": null,
            "overflow": null,
            "overflow_x": null,
            "overflow_y": null,
            "padding": null,
            "right": null,
            "top": null,
            "visibility": null,
            "width": null
          }
        },
        "60c9eb39f0ca4c1cab52e20b18bef448": {
          "model_module": "@jupyter-widgets/controls",
          "model_name": "ProgressStyleModel",
          "model_module_version": "1.5.0",
          "state": {
            "_model_module": "@jupyter-widgets/controls",
            "_model_module_version": "1.5.0",
            "_model_name": "ProgressStyleModel",
            "_view_count": null,
            "_view_module": "@jupyter-widgets/base",
            "_view_module_version": "1.2.0",
            "_view_name": "StyleView",
            "bar_color": null,
            "description_width": ""
          }
        },
        "3ea770e4d0fa4a9a982bc69b83e6478c": {
          "model_module": "@jupyter-widgets/base",
          "model_name": "LayoutModel",
          "model_module_version": "1.2.0",
          "state": {
            "_model_module": "@jupyter-widgets/base",
            "_model_module_version": "1.2.0",
            "_model_name": "LayoutModel",
            "_view_count": null,
            "_view_module": "@jupyter-widgets/base",
            "_view_module_version": "1.2.0",
            "_view_name": "LayoutView",
            "align_content": null,
            "align_items": null,
            "align_self": null,
            "border": null,
            "bottom": null,
            "display": null,
            "flex": null,
            "flex_flow": null,
            "grid_area": null,
            "grid_auto_columns": null,
            "grid_auto_flow": null,
            "grid_auto_rows": null,
            "grid_column": null,
            "grid_gap": null,
            "grid_row": null,
            "grid_template_areas": null,
            "grid_template_columns": null,
            "grid_template_rows": null,
            "height": null,
            "justify_content": null,
            "justify_items": null,
            "left": null,
            "margin": null,
            "max_height": null,
            "max_width": null,
            "min_height": null,
            "min_width": null,
            "object_fit": null,
            "object_position": null,
            "order": null,
            "overflow": null,
            "overflow_x": null,
            "overflow_y": null,
            "padding": null,
            "right": null,
            "top": null,
            "visibility": null,
            "width": null
          }
        },
        "33b923007ec849678e19dd864212a3ba": {
          "model_module": "@jupyter-widgets/controls",
          "model_name": "DescriptionStyleModel",
          "model_module_version": "1.5.0",
          "state": {
            "_model_module": "@jupyter-widgets/controls",
            "_model_module_version": "1.5.0",
            "_model_name": "DescriptionStyleModel",
            "_view_count": null,
            "_view_module": "@jupyter-widgets/base",
            "_view_module_version": "1.2.0",
            "_view_name": "StyleView",
            "description_width": ""
          }
        },
        "d8e89f101730436e9a6f64bcfa285c8f": {
          "model_module": "@jupyter-widgets/controls",
          "model_name": "HBoxModel",
          "model_module_version": "1.5.0",
          "state": {
            "_dom_classes": [],
            "_model_module": "@jupyter-widgets/controls",
            "_model_module_version": "1.5.0",
            "_model_name": "HBoxModel",
            "_view_count": null,
            "_view_module": "@jupyter-widgets/controls",
            "_view_module_version": "1.5.0",
            "_view_name": "HBoxView",
            "box_style": "",
            "children": [
              "IPY_MODEL_e6d24a17caca40b09dbb100ee6f5bda6",
              "IPY_MODEL_4dc708ff0c244e319728ef4332fa7188",
              "IPY_MODEL_e1a5190f11b341c38f2f5a92f30ca4f2"
            ],
            "layout": "IPY_MODEL_d6654c59a3ce4fb78ac1b1a7230c7406"
          }
        },
        "e6d24a17caca40b09dbb100ee6f5bda6": {
          "model_module": "@jupyter-widgets/controls",
          "model_name": "HTMLModel",
          "model_module_version": "1.5.0",
          "state": {
            "_dom_classes": [],
            "_model_module": "@jupyter-widgets/controls",
            "_model_module_version": "1.5.0",
            "_model_name": "HTMLModel",
            "_view_count": null,
            "_view_module": "@jupyter-widgets/controls",
            "_view_module_version": "1.5.0",
            "_view_name": "HTMLView",
            "description": "",
            "description_tooltip": null,
            "layout": "IPY_MODEL_d9c0de7cb9a349328ba0e629e9bb714b",
            "placeholder": "​",
            "style": "IPY_MODEL_91029761ed2449fdb5b70ed5a862214e",
            "value": "model.safetensors: 100%"
          }
        },
        "4dc708ff0c244e319728ef4332fa7188": {
          "model_module": "@jupyter-widgets/controls",
          "model_name": "FloatProgressModel",
          "model_module_version": "1.5.0",
          "state": {
            "_dom_classes": [],
            "_model_module": "@jupyter-widgets/controls",
            "_model_module_version": "1.5.0",
            "_model_name": "FloatProgressModel",
            "_view_count": null,
            "_view_module": "@jupyter-widgets/controls",
            "_view_module_version": "1.5.0",
            "_view_name": "ProgressView",
            "bar_style": "success",
            "description": "",
            "description_tooltip": null,
            "layout": "IPY_MODEL_77e65fa3393842d9a880497b450afe13",
            "max": 90868376,
            "min": 0,
            "orientation": "horizontal",
            "style": "IPY_MODEL_e55b6fd101f144f59d9e09fb426ee46d",
            "value": 90868376
          }
        },
        "e1a5190f11b341c38f2f5a92f30ca4f2": {
          "model_module": "@jupyter-widgets/controls",
          "model_name": "HTMLModel",
          "model_module_version": "1.5.0",
          "state": {
            "_dom_classes": [],
            "_model_module": "@jupyter-widgets/controls",
            "_model_module_version": "1.5.0",
            "_model_name": "HTMLModel",
            "_view_count": null,
            "_view_module": "@jupyter-widgets/controls",
            "_view_module_version": "1.5.0",
            "_view_name": "HTMLView",
            "description": "",
            "description_tooltip": null,
            "layout": "IPY_MODEL_7b8cb0aecb4748069cae450f513bc864",
            "placeholder": "​",
            "style": "IPY_MODEL_9bd0a498503144bcbaa4e1c60c6b1fda",
            "value": " 90.9M/90.9M [00:01&lt;00:00, 115MB/s]"
          }
        },
        "d6654c59a3ce4fb78ac1b1a7230c7406": {
          "model_module": "@jupyter-widgets/base",
          "model_name": "LayoutModel",
          "model_module_version": "1.2.0",
          "state": {
            "_model_module": "@jupyter-widgets/base",
            "_model_module_version": "1.2.0",
            "_model_name": "LayoutModel",
            "_view_count": null,
            "_view_module": "@jupyter-widgets/base",
            "_view_module_version": "1.2.0",
            "_view_name": "LayoutView",
            "align_content": null,
            "align_items": null,
            "align_self": null,
            "border": null,
            "bottom": null,
            "display": null,
            "flex": null,
            "flex_flow": null,
            "grid_area": null,
            "grid_auto_columns": null,
            "grid_auto_flow": null,
            "grid_auto_rows": null,
            "grid_column": null,
            "grid_gap": null,
            "grid_row": null,
            "grid_template_areas": null,
            "grid_template_columns": null,
            "grid_template_rows": null,
            "height": null,
            "justify_content": null,
            "justify_items": null,
            "left": null,
            "margin": null,
            "max_height": null,
            "max_width": null,
            "min_height": null,
            "min_width": null,
            "object_fit": null,
            "object_position": null,
            "order": null,
            "overflow": null,
            "overflow_x": null,
            "overflow_y": null,
            "padding": null,
            "right": null,
            "top": null,
            "visibility": null,
            "width": null
          }
        },
        "d9c0de7cb9a349328ba0e629e9bb714b": {
          "model_module": "@jupyter-widgets/base",
          "model_name": "LayoutModel",
          "model_module_version": "1.2.0",
          "state": {
            "_model_module": "@jupyter-widgets/base",
            "_model_module_version": "1.2.0",
            "_model_name": "LayoutModel",
            "_view_count": null,
            "_view_module": "@jupyter-widgets/base",
            "_view_module_version": "1.2.0",
            "_view_name": "LayoutView",
            "align_content": null,
            "align_items": null,
            "align_self": null,
            "border": null,
            "bottom": null,
            "display": null,
            "flex": null,
            "flex_flow": null,
            "grid_area": null,
            "grid_auto_columns": null,
            "grid_auto_flow": null,
            "grid_auto_rows": null,
            "grid_column": null,
            "grid_gap": null,
            "grid_row": null,
            "grid_template_areas": null,
            "grid_template_columns": null,
            "grid_template_rows": null,
            "height": null,
            "justify_content": null,
            "justify_items": null,
            "left": null,
            "margin": null,
            "max_height": null,
            "max_width": null,
            "min_height": null,
            "min_width": null,
            "object_fit": null,
            "object_position": null,
            "order": null,
            "overflow": null,
            "overflow_x": null,
            "overflow_y": null,
            "padding": null,
            "right": null,
            "top": null,
            "visibility": null,
            "width": null
          }
        },
        "91029761ed2449fdb5b70ed5a862214e": {
          "model_module": "@jupyter-widgets/controls",
          "model_name": "DescriptionStyleModel",
          "model_module_version": "1.5.0",
          "state": {
            "_model_module": "@jupyter-widgets/controls",
            "_model_module_version": "1.5.0",
            "_model_name": "DescriptionStyleModel",
            "_view_count": null,
            "_view_module": "@jupyter-widgets/base",
            "_view_module_version": "1.2.0",
            "_view_name": "StyleView",
            "description_width": ""
          }
        },
        "77e65fa3393842d9a880497b450afe13": {
          "model_module": "@jupyter-widgets/base",
          "model_name": "LayoutModel",
          "model_module_version": "1.2.0",
          "state": {
            "_model_module": "@jupyter-widgets/base",
            "_model_module_version": "1.2.0",
            "_model_name": "LayoutModel",
            "_view_count": null,
            "_view_module": "@jupyter-widgets/base",
            "_view_module_version": "1.2.0",
            "_view_name": "LayoutView",
            "align_content": null,
            "align_items": null,
            "align_self": null,
            "border": null,
            "bottom": null,
            "display": null,
            "flex": null,
            "flex_flow": null,
            "grid_area": null,
            "grid_auto_columns": null,
            "grid_auto_flow": null,
            "grid_auto_rows": null,
            "grid_column": null,
            "grid_gap": null,
            "grid_row": null,
            "grid_template_areas": null,
            "grid_template_columns": null,
            "grid_template_rows": null,
            "height": null,
            "justify_content": null,
            "justify_items": null,
            "left": null,
            "margin": null,
            "max_height": null,
            "max_width": null,
            "min_height": null,
            "min_width": null,
            "object_fit": null,
            "object_position": null,
            "order": null,
            "overflow": null,
            "overflow_x": null,
            "overflow_y": null,
            "padding": null,
            "right": null,
            "top": null,
            "visibility": null,
            "width": null
          }
        },
        "e55b6fd101f144f59d9e09fb426ee46d": {
          "model_module": "@jupyter-widgets/controls",
          "model_name": "ProgressStyleModel",
          "model_module_version": "1.5.0",
          "state": {
            "_model_module": "@jupyter-widgets/controls",
            "_model_module_version": "1.5.0",
            "_model_name": "ProgressStyleModel",
            "_view_count": null,
            "_view_module": "@jupyter-widgets/base",
            "_view_module_version": "1.2.0",
            "_view_name": "StyleView",
            "bar_color": null,
            "description_width": ""
          }
        },
        "7b8cb0aecb4748069cae450f513bc864": {
          "model_module": "@jupyter-widgets/base",
          "model_name": "LayoutModel",
          "model_module_version": "1.2.0",
          "state": {
            "_model_module": "@jupyter-widgets/base",
            "_model_module_version": "1.2.0",
            "_model_name": "LayoutModel",
            "_view_count": null,
            "_view_module": "@jupyter-widgets/base",
            "_view_module_version": "1.2.0",
            "_view_name": "LayoutView",
            "align_content": null,
            "align_items": null,
            "align_self": null,
            "border": null,
            "bottom": null,
            "display": null,
            "flex": null,
            "flex_flow": null,
            "grid_area": null,
            "grid_auto_columns": null,
            "grid_auto_flow": null,
            "grid_auto_rows": null,
            "grid_column": null,
            "grid_gap": null,
            "grid_row": null,
            "grid_template_areas": null,
            "grid_template_columns": null,
            "grid_template_rows": null,
            "height": null,
            "justify_content": null,
            "justify_items": null,
            "left": null,
            "margin": null,
            "max_height": null,
            "max_width": null,
            "min_height": null,
            "min_width": null,
            "object_fit": null,
            "object_position": null,
            "order": null,
            "overflow": null,
            "overflow_x": null,
            "overflow_y": null,
            "padding": null,
            "right": null,
            "top": null,
            "visibility": null,
            "width": null
          }
        },
        "9bd0a498503144bcbaa4e1c60c6b1fda": {
          "model_module": "@jupyter-widgets/controls",
          "model_name": "DescriptionStyleModel",
          "model_module_version": "1.5.0",
          "state": {
            "_model_module": "@jupyter-widgets/controls",
            "_model_module_version": "1.5.0",
            "_model_name": "DescriptionStyleModel",
            "_view_count": null,
            "_view_module": "@jupyter-widgets/base",
            "_view_module_version": "1.2.0",
            "_view_name": "StyleView",
            "description_width": ""
          }
        },
        "2227edef3f3547d694c2dc8c89550973": {
          "model_module": "@jupyter-widgets/controls",
          "model_name": "HBoxModel",
          "model_module_version": "1.5.0",
          "state": {
            "_dom_classes": [],
            "_model_module": "@jupyter-widgets/controls",
            "_model_module_version": "1.5.0",
            "_model_name": "HBoxModel",
            "_view_count": null,
            "_view_module": "@jupyter-widgets/controls",
            "_view_module_version": "1.5.0",
            "_view_name": "HBoxView",
            "box_style": "",
            "children": [
              "IPY_MODEL_0ae41d10ae6741c2b8550ae4457d176f",
              "IPY_MODEL_f96381dad2b94e1e9e59ffaca7a8bf6c",
              "IPY_MODEL_44d98863676e44df873a8e8389aa4a19"
            ],
            "layout": "IPY_MODEL_a9a7ffedfbfd471b9fec3cc84d6d1902"
          }
        },
        "0ae41d10ae6741c2b8550ae4457d176f": {
          "model_module": "@jupyter-widgets/controls",
          "model_name": "HTMLModel",
          "model_module_version": "1.5.0",
          "state": {
            "_dom_classes": [],
            "_model_module": "@jupyter-widgets/controls",
            "_model_module_version": "1.5.0",
            "_model_name": "HTMLModel",
            "_view_count": null,
            "_view_module": "@jupyter-widgets/controls",
            "_view_module_version": "1.5.0",
            "_view_name": "HTMLView",
            "description": "",
            "description_tooltip": null,
            "layout": "IPY_MODEL_e8e4d48f29df40219558ac0155c5f47f",
            "placeholder": "​",
            "style": "IPY_MODEL_6248ec7644a842ad9c0dc0083e295b23",
            "value": "tokenizer_config.json: 100%"
          }
        },
        "f96381dad2b94e1e9e59ffaca7a8bf6c": {
          "model_module": "@jupyter-widgets/controls",
          "model_name": "FloatProgressModel",
          "model_module_version": "1.5.0",
          "state": {
            "_dom_classes": [],
            "_model_module": "@jupyter-widgets/controls",
            "_model_module_version": "1.5.0",
            "_model_name": "FloatProgressModel",
            "_view_count": null,
            "_view_module": "@jupyter-widgets/controls",
            "_view_module_version": "1.5.0",
            "_view_name": "ProgressView",
            "bar_style": "success",
            "description": "",
            "description_tooltip": null,
            "layout": "IPY_MODEL_849e09d4d5e448b99120150c335aadee",
            "max": 350,
            "min": 0,
            "orientation": "horizontal",
            "style": "IPY_MODEL_396cb87b6e94495a9658ebc4a13d849b",
            "value": 350
          }
        },
        "44d98863676e44df873a8e8389aa4a19": {
          "model_module": "@jupyter-widgets/controls",
          "model_name": "HTMLModel",
          "model_module_version": "1.5.0",
          "state": {
            "_dom_classes": [],
            "_model_module": "@jupyter-widgets/controls",
            "_model_module_version": "1.5.0",
            "_model_name": "HTMLModel",
            "_view_count": null,
            "_view_module": "@jupyter-widgets/controls",
            "_view_module_version": "1.5.0",
            "_view_name": "HTMLView",
            "description": "",
            "description_tooltip": null,
            "layout": "IPY_MODEL_e265f2a019cf4201a356c16dbf56d0bb",
            "placeholder": "​",
            "style": "IPY_MODEL_2db1b02192444bf9964fe12fc2813f27",
            "value": " 350/350 [00:00&lt;00:00, 33.2kB/s]"
          }
        },
        "a9a7ffedfbfd471b9fec3cc84d6d1902": {
          "model_module": "@jupyter-widgets/base",
          "model_name": "LayoutModel",
          "model_module_version": "1.2.0",
          "state": {
            "_model_module": "@jupyter-widgets/base",
            "_model_module_version": "1.2.0",
            "_model_name": "LayoutModel",
            "_view_count": null,
            "_view_module": "@jupyter-widgets/base",
            "_view_module_version": "1.2.0",
            "_view_name": "LayoutView",
            "align_content": null,
            "align_items": null,
            "align_self": null,
            "border": null,
            "bottom": null,
            "display": null,
            "flex": null,
            "flex_flow": null,
            "grid_area": null,
            "grid_auto_columns": null,
            "grid_auto_flow": null,
            "grid_auto_rows": null,
            "grid_column": null,
            "grid_gap": null,
            "grid_row": null,
            "grid_template_areas": null,
            "grid_template_columns": null,
            "grid_template_rows": null,
            "height": null,
            "justify_content": null,
            "justify_items": null,
            "left": null,
            "margin": null,
            "max_height": null,
            "max_width": null,
            "min_height": null,
            "min_width": null,
            "object_fit": null,
            "object_position": null,
            "order": null,
            "overflow": null,
            "overflow_x": null,
            "overflow_y": null,
            "padding": null,
            "right": null,
            "top": null,
            "visibility": null,
            "width": null
          }
        },
        "e8e4d48f29df40219558ac0155c5f47f": {
          "model_module": "@jupyter-widgets/base",
          "model_name": "LayoutModel",
          "model_module_version": "1.2.0",
          "state": {
            "_model_module": "@jupyter-widgets/base",
            "_model_module_version": "1.2.0",
            "_model_name": "LayoutModel",
            "_view_count": null,
            "_view_module": "@jupyter-widgets/base",
            "_view_module_version": "1.2.0",
            "_view_name": "LayoutView",
            "align_content": null,
            "align_items": null,
            "align_self": null,
            "border": null,
            "bottom": null,
            "display": null,
            "flex": null,
            "flex_flow": null,
            "grid_area": null,
            "grid_auto_columns": null,
            "grid_auto_flow": null,
            "grid_auto_rows": null,
            "grid_column": null,
            "grid_gap": null,
            "grid_row": null,
            "grid_template_areas": null,
            "grid_template_columns": null,
            "grid_template_rows": null,
            "height": null,
            "justify_content": null,
            "justify_items": null,
            "left": null,
            "margin": null,
            "max_height": null,
            "max_width": null,
            "min_height": null,
            "min_width": null,
            "object_fit": null,
            "object_position": null,
            "order": null,
            "overflow": null,
            "overflow_x": null,
            "overflow_y": null,
            "padding": null,
            "right": null,
            "top": null,
            "visibility": null,
            "width": null
          }
        },
        "6248ec7644a842ad9c0dc0083e295b23": {
          "model_module": "@jupyter-widgets/controls",
          "model_name": "DescriptionStyleModel",
          "model_module_version": "1.5.0",
          "state": {
            "_model_module": "@jupyter-widgets/controls",
            "_model_module_version": "1.5.0",
            "_model_name": "DescriptionStyleModel",
            "_view_count": null,
            "_view_module": "@jupyter-widgets/base",
            "_view_module_version": "1.2.0",
            "_view_name": "StyleView",
            "description_width": ""
          }
        },
        "849e09d4d5e448b99120150c335aadee": {
          "model_module": "@jupyter-widgets/base",
          "model_name": "LayoutModel",
          "model_module_version": "1.2.0",
          "state": {
            "_model_module": "@jupyter-widgets/base",
            "_model_module_version": "1.2.0",
            "_model_name": "LayoutModel",
            "_view_count": null,
            "_view_module": "@jupyter-widgets/base",
            "_view_module_version": "1.2.0",
            "_view_name": "LayoutView",
            "align_content": null,
            "align_items": null,
            "align_self": null,
            "border": null,
            "bottom": null,
            "display": null,
            "flex": null,
            "flex_flow": null,
            "grid_area": null,
            "grid_auto_columns": null,
            "grid_auto_flow": null,
            "grid_auto_rows": null,
            "grid_column": null,
            "grid_gap": null,
            "grid_row": null,
            "grid_template_areas": null,
            "grid_template_columns": null,
            "grid_template_rows": null,
            "height": null,
            "justify_content": null,
            "justify_items": null,
            "left": null,
            "margin": null,
            "max_height": null,
            "max_width": null,
            "min_height": null,
            "min_width": null,
            "object_fit": null,
            "object_position": null,
            "order": null,
            "overflow": null,
            "overflow_x": null,
            "overflow_y": null,
            "padding": null,
            "right": null,
            "top": null,
            "visibility": null,
            "width": null
          }
        },
        "396cb87b6e94495a9658ebc4a13d849b": {
          "model_module": "@jupyter-widgets/controls",
          "model_name": "ProgressStyleModel",
          "model_module_version": "1.5.0",
          "state": {
            "_model_module": "@jupyter-widgets/controls",
            "_model_module_version": "1.5.0",
            "_model_name": "ProgressStyleModel",
            "_view_count": null,
            "_view_module": "@jupyter-widgets/base",
            "_view_module_version": "1.2.0",
            "_view_name": "StyleView",
            "bar_color": null,
            "description_width": ""
          }
        },
        "e265f2a019cf4201a356c16dbf56d0bb": {
          "model_module": "@jupyter-widgets/base",
          "model_name": "LayoutModel",
          "model_module_version": "1.2.0",
          "state": {
            "_model_module": "@jupyter-widgets/base",
            "_model_module_version": "1.2.0",
            "_model_name": "LayoutModel",
            "_view_count": null,
            "_view_module": "@jupyter-widgets/base",
            "_view_module_version": "1.2.0",
            "_view_name": "LayoutView",
            "align_content": null,
            "align_items": null,
            "align_self": null,
            "border": null,
            "bottom": null,
            "display": null,
            "flex": null,
            "flex_flow": null,
            "grid_area": null,
            "grid_auto_columns": null,
            "grid_auto_flow": null,
            "grid_auto_rows": null,
            "grid_column": null,
            "grid_gap": null,
            "grid_row": null,
            "grid_template_areas": null,
            "grid_template_columns": null,
            "grid_template_rows": null,
            "height": null,
            "justify_content": null,
            "justify_items": null,
            "left": null,
            "margin": null,
            "max_height": null,
            "max_width": null,
            "min_height": null,
            "min_width": null,
            "object_fit": null,
            "object_position": null,
            "order": null,
            "overflow": null,
            "overflow_x": null,
            "overflow_y": null,
            "padding": null,
            "right": null,
            "top": null,
            "visibility": null,
            "width": null
          }
        },
        "2db1b02192444bf9964fe12fc2813f27": {
          "model_module": "@jupyter-widgets/controls",
          "model_name": "DescriptionStyleModel",
          "model_module_version": "1.5.0",
          "state": {
            "_model_module": "@jupyter-widgets/controls",
            "_model_module_version": "1.5.0",
            "_model_name": "DescriptionStyleModel",
            "_view_count": null,
            "_view_module": "@jupyter-widgets/base",
            "_view_module_version": "1.2.0",
            "_view_name": "StyleView",
            "description_width": ""
          }
        },
        "63541c37faae4942a7b34b9bd677c50c": {
          "model_module": "@jupyter-widgets/controls",
          "model_name": "HBoxModel",
          "model_module_version": "1.5.0",
          "state": {
            "_dom_classes": [],
            "_model_module": "@jupyter-widgets/controls",
            "_model_module_version": "1.5.0",
            "_model_name": "HBoxModel",
            "_view_count": null,
            "_view_module": "@jupyter-widgets/controls",
            "_view_module_version": "1.5.0",
            "_view_name": "HBoxView",
            "box_style": "",
            "children": [
              "IPY_MODEL_1fc36ff46acf41d6a608c7d0f1ea9e2f",
              "IPY_MODEL_7d286b570ccf4e84a407cb67db767472",
              "IPY_MODEL_c38547b9b3f146e0a84fa631300dbcdb"
            ],
            "layout": "IPY_MODEL_730507583fc249ad820b77de272aede7"
          }
        },
        "1fc36ff46acf41d6a608c7d0f1ea9e2f": {
          "model_module": "@jupyter-widgets/controls",
          "model_name": "HTMLModel",
          "model_module_version": "1.5.0",
          "state": {
            "_dom_classes": [],
            "_model_module": "@jupyter-widgets/controls",
            "_model_module_version": "1.5.0",
            "_model_name": "HTMLModel",
            "_view_count": null,
            "_view_module": "@jupyter-widgets/controls",
            "_view_module_version": "1.5.0",
            "_view_name": "HTMLView",
            "description": "",
            "description_tooltip": null,
            "layout": "IPY_MODEL_bcc85b82e2b7437791f0683021ce00a9",
            "placeholder": "​",
            "style": "IPY_MODEL_b87b029a6c71402cbf44bc19dd32758f",
            "value": "vocab.txt: "
          }
        },
        "7d286b570ccf4e84a407cb67db767472": {
          "model_module": "@jupyter-widgets/controls",
          "model_name": "FloatProgressModel",
          "model_module_version": "1.5.0",
          "state": {
            "_dom_classes": [],
            "_model_module": "@jupyter-widgets/controls",
            "_model_module_version": "1.5.0",
            "_model_name": "FloatProgressModel",
            "_view_count": null,
            "_view_module": "@jupyter-widgets/controls",
            "_view_module_version": "1.5.0",
            "_view_name": "ProgressView",
            "bar_style": "success",
            "description": "",
            "description_tooltip": null,
            "layout": "IPY_MODEL_a4a2c4ae3c574a56ab405544e479a5d8",
            "max": 1,
            "min": 0,
            "orientation": "horizontal",
            "style": "IPY_MODEL_1c4847b2324b495783ff71c3cdc909f7",
            "value": 1
          }
        },
        "c38547b9b3f146e0a84fa631300dbcdb": {
          "model_module": "@jupyter-widgets/controls",
          "model_name": "HTMLModel",
          "model_module_version": "1.5.0",
          "state": {
            "_dom_classes": [],
            "_model_module": "@jupyter-widgets/controls",
            "_model_module_version": "1.5.0",
            "_model_name": "HTMLModel",
            "_view_count": null,
            "_view_module": "@jupyter-widgets/controls",
            "_view_module_version": "1.5.0",
            "_view_name": "HTMLView",
            "description": "",
            "description_tooltip": null,
            "layout": "IPY_MODEL_efb64e969caf42aba341371b43a8a5ed",
            "placeholder": "​",
            "style": "IPY_MODEL_1c9f062ac713471f9b8c5135b744f94f",
            "value": " 232k/? [00:00&lt;00:00, 9.57MB/s]"
          }
        },
        "730507583fc249ad820b77de272aede7": {
          "model_module": "@jupyter-widgets/base",
          "model_name": "LayoutModel",
          "model_module_version": "1.2.0",
          "state": {
            "_model_module": "@jupyter-widgets/base",
            "_model_module_version": "1.2.0",
            "_model_name": "LayoutModel",
            "_view_count": null,
            "_view_module": "@jupyter-widgets/base",
            "_view_module_version": "1.2.0",
            "_view_name": "LayoutView",
            "align_content": null,
            "align_items": null,
            "align_self": null,
            "border": null,
            "bottom": null,
            "display": null,
            "flex": null,
            "flex_flow": null,
            "grid_area": null,
            "grid_auto_columns": null,
            "grid_auto_flow": null,
            "grid_auto_rows": null,
            "grid_column": null,
            "grid_gap": null,
            "grid_row": null,
            "grid_template_areas": null,
            "grid_template_columns": null,
            "grid_template_rows": null,
            "height": null,
            "justify_content": null,
            "justify_items": null,
            "left": null,
            "margin": null,
            "max_height": null,
            "max_width": null,
            "min_height": null,
            "min_width": null,
            "object_fit": null,
            "object_position": null,
            "order": null,
            "overflow": null,
            "overflow_x": null,
            "overflow_y": null,
            "padding": null,
            "right": null,
            "top": null,
            "visibility": null,
            "width": null
          }
        },
        "bcc85b82e2b7437791f0683021ce00a9": {
          "model_module": "@jupyter-widgets/base",
          "model_name": "LayoutModel",
          "model_module_version": "1.2.0",
          "state": {
            "_model_module": "@jupyter-widgets/base",
            "_model_module_version": "1.2.0",
            "_model_name": "LayoutModel",
            "_view_count": null,
            "_view_module": "@jupyter-widgets/base",
            "_view_module_version": "1.2.0",
            "_view_name": "LayoutView",
            "align_content": null,
            "align_items": null,
            "align_self": null,
            "border": null,
            "bottom": null,
            "display": null,
            "flex": null,
            "flex_flow": null,
            "grid_area": null,
            "grid_auto_columns": null,
            "grid_auto_flow": null,
            "grid_auto_rows": null,
            "grid_column": null,
            "grid_gap": null,
            "grid_row": null,
            "grid_template_areas": null,
            "grid_template_columns": null,
            "grid_template_rows": null,
            "height": null,
            "justify_content": null,
            "justify_items": null,
            "left": null,
            "margin": null,
            "max_height": null,
            "max_width": null,
            "min_height": null,
            "min_width": null,
            "object_fit": null,
            "object_position": null,
            "order": null,
            "overflow": null,
            "overflow_x": null,
            "overflow_y": null,
            "padding": null,
            "right": null,
            "top": null,
            "visibility": null,
            "width": null
          }
        },
        "b87b029a6c71402cbf44bc19dd32758f": {
          "model_module": "@jupyter-widgets/controls",
          "model_name": "DescriptionStyleModel",
          "model_module_version": "1.5.0",
          "state": {
            "_model_module": "@jupyter-widgets/controls",
            "_model_module_version": "1.5.0",
            "_model_name": "DescriptionStyleModel",
            "_view_count": null,
            "_view_module": "@jupyter-widgets/base",
            "_view_module_version": "1.2.0",
            "_view_name": "StyleView",
            "description_width": ""
          }
        },
        "a4a2c4ae3c574a56ab405544e479a5d8": {
          "model_module": "@jupyter-widgets/base",
          "model_name": "LayoutModel",
          "model_module_version": "1.2.0",
          "state": {
            "_model_module": "@jupyter-widgets/base",
            "_model_module_version": "1.2.0",
            "_model_name": "LayoutModel",
            "_view_count": null,
            "_view_module": "@jupyter-widgets/base",
            "_view_module_version": "1.2.0",
            "_view_name": "LayoutView",
            "align_content": null,
            "align_items": null,
            "align_self": null,
            "border": null,
            "bottom": null,
            "display": null,
            "flex": null,
            "flex_flow": null,
            "grid_area": null,
            "grid_auto_columns": null,
            "grid_auto_flow": null,
            "grid_auto_rows": null,
            "grid_column": null,
            "grid_gap": null,
            "grid_row": null,
            "grid_template_areas": null,
            "grid_template_columns": null,
            "grid_template_rows": null,
            "height": null,
            "justify_content": null,
            "justify_items": null,
            "left": null,
            "margin": null,
            "max_height": null,
            "max_width": null,
            "min_height": null,
            "min_width": null,
            "object_fit": null,
            "object_position": null,
            "order": null,
            "overflow": null,
            "overflow_x": null,
            "overflow_y": null,
            "padding": null,
            "right": null,
            "top": null,
            "visibility": null,
            "width": "20px"
          }
        },
        "1c4847b2324b495783ff71c3cdc909f7": {
          "model_module": "@jupyter-widgets/controls",
          "model_name": "ProgressStyleModel",
          "model_module_version": "1.5.0",
          "state": {
            "_model_module": "@jupyter-widgets/controls",
            "_model_module_version": "1.5.0",
            "_model_name": "ProgressStyleModel",
            "_view_count": null,
            "_view_module": "@jupyter-widgets/base",
            "_view_module_version": "1.2.0",
            "_view_name": "StyleView",
            "bar_color": null,
            "description_width": ""
          }
        },
        "efb64e969caf42aba341371b43a8a5ed": {
          "model_module": "@jupyter-widgets/base",
          "model_name": "LayoutModel",
          "model_module_version": "1.2.0",
          "state": {
            "_model_module": "@jupyter-widgets/base",
            "_model_module_version": "1.2.0",
            "_model_name": "LayoutModel",
            "_view_count": null,
            "_view_module": "@jupyter-widgets/base",
            "_view_module_version": "1.2.0",
            "_view_name": "LayoutView",
            "align_content": null,
            "align_items": null,
            "align_self": null,
            "border": null,
            "bottom": null,
            "display": null,
            "flex": null,
            "flex_flow": null,
            "grid_area": null,
            "grid_auto_columns": null,
            "grid_auto_flow": null,
            "grid_auto_rows": null,
            "grid_column": null,
            "grid_gap": null,
            "grid_row": null,
            "grid_template_areas": null,
            "grid_template_columns": null,
            "grid_template_rows": null,
            "height": null,
            "justify_content": null,
            "justify_items": null,
            "left": null,
            "margin": null,
            "max_height": null,
            "max_width": null,
            "min_height": null,
            "min_width": null,
            "object_fit": null,
            "object_position": null,
            "order": null,
            "overflow": null,
            "overflow_x": null,
            "overflow_y": null,
            "padding": null,
            "right": null,
            "top": null,
            "visibility": null,
            "width": null
          }
        },
        "1c9f062ac713471f9b8c5135b744f94f": {
          "model_module": "@jupyter-widgets/controls",
          "model_name": "DescriptionStyleModel",
          "model_module_version": "1.5.0",
          "state": {
            "_model_module": "@jupyter-widgets/controls",
            "_model_module_version": "1.5.0",
            "_model_name": "DescriptionStyleModel",
            "_view_count": null,
            "_view_module": "@jupyter-widgets/base",
            "_view_module_version": "1.2.0",
            "_view_name": "StyleView",
            "description_width": ""
          }
        },
        "a3336edc7a8f429987a9be8c3b40f447": {
          "model_module": "@jupyter-widgets/controls",
          "model_name": "HBoxModel",
          "model_module_version": "1.5.0",
          "state": {
            "_dom_classes": [],
            "_model_module": "@jupyter-widgets/controls",
            "_model_module_version": "1.5.0",
            "_model_name": "HBoxModel",
            "_view_count": null,
            "_view_module": "@jupyter-widgets/controls",
            "_view_module_version": "1.5.0",
            "_view_name": "HBoxView",
            "box_style": "",
            "children": [
              "IPY_MODEL_f854c49407a3496282b55ec91ea50113",
              "IPY_MODEL_e715e24a6422426da1514c49aa459911",
              "IPY_MODEL_833e46936fb94ab8a114df08f0c86377"
            ],
            "layout": "IPY_MODEL_32c129db863548cab2d5e71da7d9181b"
          }
        },
        "f854c49407a3496282b55ec91ea50113": {
          "model_module": "@jupyter-widgets/controls",
          "model_name": "HTMLModel",
          "model_module_version": "1.5.0",
          "state": {
            "_dom_classes": [],
            "_model_module": "@jupyter-widgets/controls",
            "_model_module_version": "1.5.0",
            "_model_name": "HTMLModel",
            "_view_count": null,
            "_view_module": "@jupyter-widgets/controls",
            "_view_module_version": "1.5.0",
            "_view_name": "HTMLView",
            "description": "",
            "description_tooltip": null,
            "layout": "IPY_MODEL_8027ff64ba6747a5b32391bcaaaa1172",
            "placeholder": "​",
            "style": "IPY_MODEL_e99010c9e7bc424fbb396ffc96bf4790",
            "value": "tokenizer.json: "
          }
        },
        "e715e24a6422426da1514c49aa459911": {
          "model_module": "@jupyter-widgets/controls",
          "model_name": "FloatProgressModel",
          "model_module_version": "1.5.0",
          "state": {
            "_dom_classes": [],
            "_model_module": "@jupyter-widgets/controls",
            "_model_module_version": "1.5.0",
            "_model_name": "FloatProgressModel",
            "_view_count": null,
            "_view_module": "@jupyter-widgets/controls",
            "_view_module_version": "1.5.0",
            "_view_name": "ProgressView",
            "bar_style": "success",
            "description": "",
            "description_tooltip": null,
            "layout": "IPY_MODEL_64b492d37fc24ecdbc100585f801ba39",
            "max": 1,
            "min": 0,
            "orientation": "horizontal",
            "style": "IPY_MODEL_e47f808362674fb3b77757cca4dd1efc",
            "value": 1
          }
        },
        "833e46936fb94ab8a114df08f0c86377": {
          "model_module": "@jupyter-widgets/controls",
          "model_name": "HTMLModel",
          "model_module_version": "1.5.0",
          "state": {
            "_dom_classes": [],
            "_model_module": "@jupyter-widgets/controls",
            "_model_module_version": "1.5.0",
            "_model_name": "HTMLModel",
            "_view_count": null,
            "_view_module": "@jupyter-widgets/controls",
            "_view_module_version": "1.5.0",
            "_view_name": "HTMLView",
            "description": "",
            "description_tooltip": null,
            "layout": "IPY_MODEL_47aa2b00f275420f89af32ca952ab4b8",
            "placeholder": "​",
            "style": "IPY_MODEL_4ec1fe9fff5f4d07adcd6a164af6ec3e",
            "value": " 466k/? [00:00&lt;00:00, 18.9MB/s]"
          }
        },
        "32c129db863548cab2d5e71da7d9181b": {
          "model_module": "@jupyter-widgets/base",
          "model_name": "LayoutModel",
          "model_module_version": "1.2.0",
          "state": {
            "_model_module": "@jupyter-widgets/base",
            "_model_module_version": "1.2.0",
            "_model_name": "LayoutModel",
            "_view_count": null,
            "_view_module": "@jupyter-widgets/base",
            "_view_module_version": "1.2.0",
            "_view_name": "LayoutView",
            "align_content": null,
            "align_items": null,
            "align_self": null,
            "border": null,
            "bottom": null,
            "display": null,
            "flex": null,
            "flex_flow": null,
            "grid_area": null,
            "grid_auto_columns": null,
            "grid_auto_flow": null,
            "grid_auto_rows": null,
            "grid_column": null,
            "grid_gap": null,
            "grid_row": null,
            "grid_template_areas": null,
            "grid_template_columns": null,
            "grid_template_rows": null,
            "height": null,
            "justify_content": null,
            "justify_items": null,
            "left": null,
            "margin": null,
            "max_height": null,
            "max_width": null,
            "min_height": null,
            "min_width": null,
            "object_fit": null,
            "object_position": null,
            "order": null,
            "overflow": null,
            "overflow_x": null,
            "overflow_y": null,
            "padding": null,
            "right": null,
            "top": null,
            "visibility": null,
            "width": null
          }
        },
        "8027ff64ba6747a5b32391bcaaaa1172": {
          "model_module": "@jupyter-widgets/base",
          "model_name": "LayoutModel",
          "model_module_version": "1.2.0",
          "state": {
            "_model_module": "@jupyter-widgets/base",
            "_model_module_version": "1.2.0",
            "_model_name": "LayoutModel",
            "_view_count": null,
            "_view_module": "@jupyter-widgets/base",
            "_view_module_version": "1.2.0",
            "_view_name": "LayoutView",
            "align_content": null,
            "align_items": null,
            "align_self": null,
            "border": null,
            "bottom": null,
            "display": null,
            "flex": null,
            "flex_flow": null,
            "grid_area": null,
            "grid_auto_columns": null,
            "grid_auto_flow": null,
            "grid_auto_rows": null,
            "grid_column": null,
            "grid_gap": null,
            "grid_row": null,
            "grid_template_areas": null,
            "grid_template_columns": null,
            "grid_template_rows": null,
            "height": null,
            "justify_content": null,
            "justify_items": null,
            "left": null,
            "margin": null,
            "max_height": null,
            "max_width": null,
            "min_height": null,
            "min_width": null,
            "object_fit": null,
            "object_position": null,
            "order": null,
            "overflow": null,
            "overflow_x": null,
            "overflow_y": null,
            "padding": null,
            "right": null,
            "top": null,
            "visibility": null,
            "width": null
          }
        },
        "e99010c9e7bc424fbb396ffc96bf4790": {
          "model_module": "@jupyter-widgets/controls",
          "model_name": "DescriptionStyleModel",
          "model_module_version": "1.5.0",
          "state": {
            "_model_module": "@jupyter-widgets/controls",
            "_model_module_version": "1.5.0",
            "_model_name": "DescriptionStyleModel",
            "_view_count": null,
            "_view_module": "@jupyter-widgets/base",
            "_view_module_version": "1.2.0",
            "_view_name": "StyleView",
            "description_width": ""
          }
        },
        "64b492d37fc24ecdbc100585f801ba39": {
          "model_module": "@jupyter-widgets/base",
          "model_name": "LayoutModel",
          "model_module_version": "1.2.0",
          "state": {
            "_model_module": "@jupyter-widgets/base",
            "_model_module_version": "1.2.0",
            "_model_name": "LayoutModel",
            "_view_count": null,
            "_view_module": "@jupyter-widgets/base",
            "_view_module_version": "1.2.0",
            "_view_name": "LayoutView",
            "align_content": null,
            "align_items": null,
            "align_self": null,
            "border": null,
            "bottom": null,
            "display": null,
            "flex": null,
            "flex_flow": null,
            "grid_area": null,
            "grid_auto_columns": null,
            "grid_auto_flow": null,
            "grid_auto_rows": null,
            "grid_column": null,
            "grid_gap": null,
            "grid_row": null,
            "grid_template_areas": null,
            "grid_template_columns": null,
            "grid_template_rows": null,
            "height": null,
            "justify_content": null,
            "justify_items": null,
            "left": null,
            "margin": null,
            "max_height": null,
            "max_width": null,
            "min_height": null,
            "min_width": null,
            "object_fit": null,
            "object_position": null,
            "order": null,
            "overflow": null,
            "overflow_x": null,
            "overflow_y": null,
            "padding": null,
            "right": null,
            "top": null,
            "visibility": null,
            "width": "20px"
          }
        },
        "e47f808362674fb3b77757cca4dd1efc": {
          "model_module": "@jupyter-widgets/controls",
          "model_name": "ProgressStyleModel",
          "model_module_version": "1.5.0",
          "state": {
            "_model_module": "@jupyter-widgets/controls",
            "_model_module_version": "1.5.0",
            "_model_name": "ProgressStyleModel",
            "_view_count": null,
            "_view_module": "@jupyter-widgets/base",
            "_view_module_version": "1.2.0",
            "_view_name": "StyleView",
            "bar_color": null,
            "description_width": ""
          }
        },
        "47aa2b00f275420f89af32ca952ab4b8": {
          "model_module": "@jupyter-widgets/base",
          "model_name": "LayoutModel",
          "model_module_version": "1.2.0",
          "state": {
            "_model_module": "@jupyter-widgets/base",
            "_model_module_version": "1.2.0",
            "_model_name": "LayoutModel",
            "_view_count": null,
            "_view_module": "@jupyter-widgets/base",
            "_view_module_version": "1.2.0",
            "_view_name": "LayoutView",
            "align_content": null,
            "align_items": null,
            "align_self": null,
            "border": null,
            "bottom": null,
            "display": null,
            "flex": null,
            "flex_flow": null,
            "grid_area": null,
            "grid_auto_columns": null,
            "grid_auto_flow": null,
            "grid_auto_rows": null,
            "grid_column": null,
            "grid_gap": null,
            "grid_row": null,
            "grid_template_areas": null,
            "grid_template_columns": null,
            "grid_template_rows": null,
            "height": null,
            "justify_content": null,
            "justify_items": null,
            "left": null,
            "margin": null,
            "max_height": null,
            "max_width": null,
            "min_height": null,
            "min_width": null,
            "object_fit": null,
            "object_position": null,
            "order": null,
            "overflow": null,
            "overflow_x": null,
            "overflow_y": null,
            "padding": null,
            "right": null,
            "top": null,
            "visibility": null,
            "width": null
          }
        },
        "4ec1fe9fff5f4d07adcd6a164af6ec3e": {
          "model_module": "@jupyter-widgets/controls",
          "model_name": "DescriptionStyleModel",
          "model_module_version": "1.5.0",
          "state": {
            "_model_module": "@jupyter-widgets/controls",
            "_model_module_version": "1.5.0",
            "_model_name": "DescriptionStyleModel",
            "_view_count": null,
            "_view_module": "@jupyter-widgets/base",
            "_view_module_version": "1.2.0",
            "_view_name": "StyleView",
            "description_width": ""
          }
        },
        "0a51783a94864db881b9955f1f94ade4": {
          "model_module": "@jupyter-widgets/controls",
          "model_name": "HBoxModel",
          "model_module_version": "1.5.0",
          "state": {
            "_dom_classes": [],
            "_model_module": "@jupyter-widgets/controls",
            "_model_module_version": "1.5.0",
            "_model_name": "HBoxModel",
            "_view_count": null,
            "_view_module": "@jupyter-widgets/controls",
            "_view_module_version": "1.5.0",
            "_view_name": "HBoxView",
            "box_style": "",
            "children": [
              "IPY_MODEL_3ee52207da5a472ab5112c250dda7561",
              "IPY_MODEL_1b531d6f5b404cf2bb7783387d5707c4",
              "IPY_MODEL_85fb043f5f9249e2a73e6f069bfe388a"
            ],
            "layout": "IPY_MODEL_eddb55c7fd314b758971cb42847507cb"
          }
        },
        "3ee52207da5a472ab5112c250dda7561": {
          "model_module": "@jupyter-widgets/controls",
          "model_name": "HTMLModel",
          "model_module_version": "1.5.0",
          "state": {
            "_dom_classes": [],
            "_model_module": "@jupyter-widgets/controls",
            "_model_module_version": "1.5.0",
            "_model_name": "HTMLModel",
            "_view_count": null,
            "_view_module": "@jupyter-widgets/controls",
            "_view_module_version": "1.5.0",
            "_view_name": "HTMLView",
            "description": "",
            "description_tooltip": null,
            "layout": "IPY_MODEL_640b07e761cc4a409c28ec024b4e2c48",
            "placeholder": "​",
            "style": "IPY_MODEL_836dfe462ebb461c8cdb8a3dc0095990",
            "value": "special_tokens_map.json: 100%"
          }
        },
        "1b531d6f5b404cf2bb7783387d5707c4": {
          "model_module": "@jupyter-widgets/controls",
          "model_name": "FloatProgressModel",
          "model_module_version": "1.5.0",
          "state": {
            "_dom_classes": [],
            "_model_module": "@jupyter-widgets/controls",
            "_model_module_version": "1.5.0",
            "_model_name": "FloatProgressModel",
            "_view_count": null,
            "_view_module": "@jupyter-widgets/controls",
            "_view_module_version": "1.5.0",
            "_view_name": "ProgressView",
            "bar_style": "success",
            "description": "",
            "description_tooltip": null,
            "layout": "IPY_MODEL_653f739699484dfc9bcdeff4c9b30f8c",
            "max": 112,
            "min": 0,
            "orientation": "horizontal",
            "style": "IPY_MODEL_a06c9d75ecec4b41b341f2f66d4e46e4",
            "value": 112
          }
        },
        "85fb043f5f9249e2a73e6f069bfe388a": {
          "model_module": "@jupyter-widgets/controls",
          "model_name": "HTMLModel",
          "model_module_version": "1.5.0",
          "state": {
            "_dom_classes": [],
            "_model_module": "@jupyter-widgets/controls",
            "_model_module_version": "1.5.0",
            "_model_name": "HTMLModel",
            "_view_count": null,
            "_view_module": "@jupyter-widgets/controls",
            "_view_module_version": "1.5.0",
            "_view_name": "HTMLView",
            "description": "",
            "description_tooltip": null,
            "layout": "IPY_MODEL_96121451e5034d12b52e445de8e47b53",
            "placeholder": "​",
            "style": "IPY_MODEL_72dd063fa2234b978f8fe69fbca5dc57",
            "value": " 112/112 [00:00&lt;00:00, 9.50kB/s]"
          }
        },
        "eddb55c7fd314b758971cb42847507cb": {
          "model_module": "@jupyter-widgets/base",
          "model_name": "LayoutModel",
          "model_module_version": "1.2.0",
          "state": {
            "_model_module": "@jupyter-widgets/base",
            "_model_module_version": "1.2.0",
            "_model_name": "LayoutModel",
            "_view_count": null,
            "_view_module": "@jupyter-widgets/base",
            "_view_module_version": "1.2.0",
            "_view_name": "LayoutView",
            "align_content": null,
            "align_items": null,
            "align_self": null,
            "border": null,
            "bottom": null,
            "display": null,
            "flex": null,
            "flex_flow": null,
            "grid_area": null,
            "grid_auto_columns": null,
            "grid_auto_flow": null,
            "grid_auto_rows": null,
            "grid_column": null,
            "grid_gap": null,
            "grid_row": null,
            "grid_template_areas": null,
            "grid_template_columns": null,
            "grid_template_rows": null,
            "height": null,
            "justify_content": null,
            "justify_items": null,
            "left": null,
            "margin": null,
            "max_height": null,
            "max_width": null,
            "min_height": null,
            "min_width": null,
            "object_fit": null,
            "object_position": null,
            "order": null,
            "overflow": null,
            "overflow_x": null,
            "overflow_y": null,
            "padding": null,
            "right": null,
            "top": null,
            "visibility": null,
            "width": null
          }
        },
        "640b07e761cc4a409c28ec024b4e2c48": {
          "model_module": "@jupyter-widgets/base",
          "model_name": "LayoutModel",
          "model_module_version": "1.2.0",
          "state": {
            "_model_module": "@jupyter-widgets/base",
            "_model_module_version": "1.2.0",
            "_model_name": "LayoutModel",
            "_view_count": null,
            "_view_module": "@jupyter-widgets/base",
            "_view_module_version": "1.2.0",
            "_view_name": "LayoutView",
            "align_content": null,
            "align_items": null,
            "align_self": null,
            "border": null,
            "bottom": null,
            "display": null,
            "flex": null,
            "flex_flow": null,
            "grid_area": null,
            "grid_auto_columns": null,
            "grid_auto_flow": null,
            "grid_auto_rows": null,
            "grid_column": null,
            "grid_gap": null,
            "grid_row": null,
            "grid_template_areas": null,
            "grid_template_columns": null,
            "grid_template_rows": null,
            "height": null,
            "justify_content": null,
            "justify_items": null,
            "left": null,
            "margin": null,
            "max_height": null,
            "max_width": null,
            "min_height": null,
            "min_width": null,
            "object_fit": null,
            "object_position": null,
            "order": null,
            "overflow": null,
            "overflow_x": null,
            "overflow_y": null,
            "padding": null,
            "right": null,
            "top": null,
            "visibility": null,
            "width": null
          }
        },
        "836dfe462ebb461c8cdb8a3dc0095990": {
          "model_module": "@jupyter-widgets/controls",
          "model_name": "DescriptionStyleModel",
          "model_module_version": "1.5.0",
          "state": {
            "_model_module": "@jupyter-widgets/controls",
            "_model_module_version": "1.5.0",
            "_model_name": "DescriptionStyleModel",
            "_view_count": null,
            "_view_module": "@jupyter-widgets/base",
            "_view_module_version": "1.2.0",
            "_view_name": "StyleView",
            "description_width": ""
          }
        },
        "653f739699484dfc9bcdeff4c9b30f8c": {
          "model_module": "@jupyter-widgets/base",
          "model_name": "LayoutModel",
          "model_module_version": "1.2.0",
          "state": {
            "_model_module": "@jupyter-widgets/base",
            "_model_module_version": "1.2.0",
            "_model_name": "LayoutModel",
            "_view_count": null,
            "_view_module": "@jupyter-widgets/base",
            "_view_module_version": "1.2.0",
            "_view_name": "LayoutView",
            "align_content": null,
            "align_items": null,
            "align_self": null,
            "border": null,
            "bottom": null,
            "display": null,
            "flex": null,
            "flex_flow": null,
            "grid_area": null,
            "grid_auto_columns": null,
            "grid_auto_flow": null,
            "grid_auto_rows": null,
            "grid_column": null,
            "grid_gap": null,
            "grid_row": null,
            "grid_template_areas": null,
            "grid_template_columns": null,
            "grid_template_rows": null,
            "height": null,
            "justify_content": null,
            "justify_items": null,
            "left": null,
            "margin": null,
            "max_height": null,
            "max_width": null,
            "min_height": null,
            "min_width": null,
            "object_fit": null,
            "object_position": null,
            "order": null,
            "overflow": null,
            "overflow_x": null,
            "overflow_y": null,
            "padding": null,
            "right": null,
            "top": null,
            "visibility": null,
            "width": null
          }
        },
        "a06c9d75ecec4b41b341f2f66d4e46e4": {
          "model_module": "@jupyter-widgets/controls",
          "model_name": "ProgressStyleModel",
          "model_module_version": "1.5.0",
          "state": {
            "_model_module": "@jupyter-widgets/controls",
            "_model_module_version": "1.5.0",
            "_model_name": "ProgressStyleModel",
            "_view_count": null,
            "_view_module": "@jupyter-widgets/base",
            "_view_module_version": "1.2.0",
            "_view_name": "StyleView",
            "bar_color": null,
            "description_width": ""
          }
        },
        "96121451e5034d12b52e445de8e47b53": {
          "model_module": "@jupyter-widgets/base",
          "model_name": "LayoutModel",
          "model_module_version": "1.2.0",
          "state": {
            "_model_module": "@jupyter-widgets/base",
            "_model_module_version": "1.2.0",
            "_model_name": "LayoutModel",
            "_view_count": null,
            "_view_module": "@jupyter-widgets/base",
            "_view_module_version": "1.2.0",
            "_view_name": "LayoutView",
            "align_content": null,
            "align_items": null,
            "align_self": null,
            "border": null,
            "bottom": null,
            "display": null,
            "flex": null,
            "flex_flow": null,
            "grid_area": null,
            "grid_auto_columns": null,
            "grid_auto_flow": null,
            "grid_auto_rows": null,
            "grid_column": null,
            "grid_gap": null,
            "grid_row": null,
            "grid_template_areas": null,
            "grid_template_columns": null,
            "grid_template_rows": null,
            "height": null,
            "justify_content": null,
            "justify_items": null,
            "left": null,
            "margin": null,
            "max_height": null,
            "max_width": null,
            "min_height": null,
            "min_width": null,
            "object_fit": null,
            "object_position": null,
            "order": null,
            "overflow": null,
            "overflow_x": null,
            "overflow_y": null,
            "padding": null,
            "right": null,
            "top": null,
            "visibility": null,
            "width": null
          }
        },
        "72dd063fa2234b978f8fe69fbca5dc57": {
          "model_module": "@jupyter-widgets/controls",
          "model_name": "DescriptionStyleModel",
          "model_module_version": "1.5.0",
          "state": {
            "_model_module": "@jupyter-widgets/controls",
            "_model_module_version": "1.5.0",
            "_model_name": "DescriptionStyleModel",
            "_view_count": null,
            "_view_module": "@jupyter-widgets/base",
            "_view_module_version": "1.2.0",
            "_view_name": "StyleView",
            "description_width": ""
          }
        },
        "abccfc97785d4f348567fcddb9e34e18": {
          "model_module": "@jupyter-widgets/controls",
          "model_name": "HBoxModel",
          "model_module_version": "1.5.0",
          "state": {
            "_dom_classes": [],
            "_model_module": "@jupyter-widgets/controls",
            "_model_module_version": "1.5.0",
            "_model_name": "HBoxModel",
            "_view_count": null,
            "_view_module": "@jupyter-widgets/controls",
            "_view_module_version": "1.5.0",
            "_view_name": "HBoxView",
            "box_style": "",
            "children": [
              "IPY_MODEL_c555691df3cf42b8b61ac9582646fb92",
              "IPY_MODEL_405eb89d7c97469bae1052c911b734b2",
              "IPY_MODEL_ce5e69c0d83547ce85e57c3dd3268af0"
            ],
            "layout": "IPY_MODEL_8b25010f54ea4685a6cc78676d5d8fc1"
          }
        },
        "c555691df3cf42b8b61ac9582646fb92": {
          "model_module": "@jupyter-widgets/controls",
          "model_name": "HTMLModel",
          "model_module_version": "1.5.0",
          "state": {
            "_dom_classes": [],
            "_model_module": "@jupyter-widgets/controls",
            "_model_module_version": "1.5.0",
            "_model_name": "HTMLModel",
            "_view_count": null,
            "_view_module": "@jupyter-widgets/controls",
            "_view_module_version": "1.5.0",
            "_view_name": "HTMLView",
            "description": "",
            "description_tooltip": null,
            "layout": "IPY_MODEL_b61d454f96b94968be757e4a701ff97f",
            "placeholder": "​",
            "style": "IPY_MODEL_d384c915cbf242c186282f72f305e728",
            "value": "config.json: 100%"
          }
        },
        "405eb89d7c97469bae1052c911b734b2": {
          "model_module": "@jupyter-widgets/controls",
          "model_name": "FloatProgressModel",
          "model_module_version": "1.5.0",
          "state": {
            "_dom_classes": [],
            "_model_module": "@jupyter-widgets/controls",
            "_model_module_version": "1.5.0",
            "_model_name": "FloatProgressModel",
            "_view_count": null,
            "_view_module": "@jupyter-widgets/controls",
            "_view_module_version": "1.5.0",
            "_view_name": "ProgressView",
            "bar_style": "success",
            "description": "",
            "description_tooltip": null,
            "layout": "IPY_MODEL_b4c510f98b894093adafbab28cfbbb17",
            "max": 190,
            "min": 0,
            "orientation": "horizontal",
            "style": "IPY_MODEL_34f0932c195240cbafe4e00e0f6b2172",
            "value": 190
          }
        },
        "ce5e69c0d83547ce85e57c3dd3268af0": {
          "model_module": "@jupyter-widgets/controls",
          "model_name": "HTMLModel",
          "model_module_version": "1.5.0",
          "state": {
            "_dom_classes": [],
            "_model_module": "@jupyter-widgets/controls",
            "_model_module_version": "1.5.0",
            "_model_name": "HTMLModel",
            "_view_count": null,
            "_view_module": "@jupyter-widgets/controls",
            "_view_module_version": "1.5.0",
            "_view_name": "HTMLView",
            "description": "",
            "description_tooltip": null,
            "layout": "IPY_MODEL_350aa678d3494667bdd46472851b598f",
            "placeholder": "​",
            "style": "IPY_MODEL_9c2ac4609de24fb0927dea2e331020ba",
            "value": " 190/190 [00:00&lt;00:00, 18.4kB/s]"
          }
        },
        "8b25010f54ea4685a6cc78676d5d8fc1": {
          "model_module": "@jupyter-widgets/base",
          "model_name": "LayoutModel",
          "model_module_version": "1.2.0",
          "state": {
            "_model_module": "@jupyter-widgets/base",
            "_model_module_version": "1.2.0",
            "_model_name": "LayoutModel",
            "_view_count": null,
            "_view_module": "@jupyter-widgets/base",
            "_view_module_version": "1.2.0",
            "_view_name": "LayoutView",
            "align_content": null,
            "align_items": null,
            "align_self": null,
            "border": null,
            "bottom": null,
            "display": null,
            "flex": null,
            "flex_flow": null,
            "grid_area": null,
            "grid_auto_columns": null,
            "grid_auto_flow": null,
            "grid_auto_rows": null,
            "grid_column": null,
            "grid_gap": null,
            "grid_row": null,
            "grid_template_areas": null,
            "grid_template_columns": null,
            "grid_template_rows": null,
            "height": null,
            "justify_content": null,
            "justify_items": null,
            "left": null,
            "margin": null,
            "max_height": null,
            "max_width": null,
            "min_height": null,
            "min_width": null,
            "object_fit": null,
            "object_position": null,
            "order": null,
            "overflow": null,
            "overflow_x": null,
            "overflow_y": null,
            "padding": null,
            "right": null,
            "top": null,
            "visibility": null,
            "width": null
          }
        },
        "b61d454f96b94968be757e4a701ff97f": {
          "model_module": "@jupyter-widgets/base",
          "model_name": "LayoutModel",
          "model_module_version": "1.2.0",
          "state": {
            "_model_module": "@jupyter-widgets/base",
            "_model_module_version": "1.2.0",
            "_model_name": "LayoutModel",
            "_view_count": null,
            "_view_module": "@jupyter-widgets/base",
            "_view_module_version": "1.2.0",
            "_view_name": "LayoutView",
            "align_content": null,
            "align_items": null,
            "align_self": null,
            "border": null,
            "bottom": null,
            "display": null,
            "flex": null,
            "flex_flow": null,
            "grid_area": null,
            "grid_auto_columns": null,
            "grid_auto_flow": null,
            "grid_auto_rows": null,
            "grid_column": null,
            "grid_gap": null,
            "grid_row": null,
            "grid_template_areas": null,
            "grid_template_columns": null,
            "grid_template_rows": null,
            "height": null,
            "justify_content": null,
            "justify_items": null,
            "left": null,
            "margin": null,
            "max_height": null,
            "max_width": null,
            "min_height": null,
            "min_width": null,
            "object_fit": null,
            "object_position": null,
            "order": null,
            "overflow": null,
            "overflow_x": null,
            "overflow_y": null,
            "padding": null,
            "right": null,
            "top": null,
            "visibility": null,
            "width": null
          }
        },
        "d384c915cbf242c186282f72f305e728": {
          "model_module": "@jupyter-widgets/controls",
          "model_name": "DescriptionStyleModel",
          "model_module_version": "1.5.0",
          "state": {
            "_model_module": "@jupyter-widgets/controls",
            "_model_module_version": "1.5.0",
            "_model_name": "DescriptionStyleModel",
            "_view_count": null,
            "_view_module": "@jupyter-widgets/base",
            "_view_module_version": "1.2.0",
            "_view_name": "StyleView",
            "description_width": ""
          }
        },
        "b4c510f98b894093adafbab28cfbbb17": {
          "model_module": "@jupyter-widgets/base",
          "model_name": "LayoutModel",
          "model_module_version": "1.2.0",
          "state": {
            "_model_module": "@jupyter-widgets/base",
            "_model_module_version": "1.2.0",
            "_model_name": "LayoutModel",
            "_view_count": null,
            "_view_module": "@jupyter-widgets/base",
            "_view_module_version": "1.2.0",
            "_view_name": "LayoutView",
            "align_content": null,
            "align_items": null,
            "align_self": null,
            "border": null,
            "bottom": null,
            "display": null,
            "flex": null,
            "flex_flow": null,
            "grid_area": null,
            "grid_auto_columns": null,
            "grid_auto_flow": null,
            "grid_auto_rows": null,
            "grid_column": null,
            "grid_gap": null,
            "grid_row": null,
            "grid_template_areas": null,
            "grid_template_columns": null,
            "grid_template_rows": null,
            "height": null,
            "justify_content": null,
            "justify_items": null,
            "left": null,
            "margin": null,
            "max_height": null,
            "max_width": null,
            "min_height": null,
            "min_width": null,
            "object_fit": null,
            "object_position": null,
            "order": null,
            "overflow": null,
            "overflow_x": null,
            "overflow_y": null,
            "padding": null,
            "right": null,
            "top": null,
            "visibility": null,
            "width": null
          }
        },
        "34f0932c195240cbafe4e00e0f6b2172": {
          "model_module": "@jupyter-widgets/controls",
          "model_name": "ProgressStyleModel",
          "model_module_version": "1.5.0",
          "state": {
            "_model_module": "@jupyter-widgets/controls",
            "_model_module_version": "1.5.0",
            "_model_name": "ProgressStyleModel",
            "_view_count": null,
            "_view_module": "@jupyter-widgets/base",
            "_view_module_version": "1.2.0",
            "_view_name": "StyleView",
            "bar_color": null,
            "description_width": ""
          }
        },
        "350aa678d3494667bdd46472851b598f": {
          "model_module": "@jupyter-widgets/base",
          "model_name": "LayoutModel",
          "model_module_version": "1.2.0",
          "state": {
            "_model_module": "@jupyter-widgets/base",
            "_model_module_version": "1.2.0",
            "_model_name": "LayoutModel",
            "_view_count": null,
            "_view_module": "@jupyter-widgets/base",
            "_view_module_version": "1.2.0",
            "_view_name": "LayoutView",
            "align_content": null,
            "align_items": null,
            "align_self": null,
            "border": null,
            "bottom": null,
            "display": null,
            "flex": null,
            "flex_flow": null,
            "grid_area": null,
            "grid_auto_columns": null,
            "grid_auto_flow": null,
            "grid_auto_rows": null,
            "grid_column": null,
            "grid_gap": null,
            "grid_row": null,
            "grid_template_areas": null,
            "grid_template_columns": null,
            "grid_template_rows": null,
            "height": null,
            "justify_content": null,
            "justify_items": null,
            "left": null,
            "margin": null,
            "max_height": null,
            "max_width": null,
            "min_height": null,
            "min_width": null,
            "object_fit": null,
            "object_position": null,
            "order": null,
            "overflow": null,
            "overflow_x": null,
            "overflow_y": null,
            "padding": null,
            "right": null,
            "top": null,
            "visibility": null,
            "width": null
          }
        },
        "9c2ac4609de24fb0927dea2e331020ba": {
          "model_module": "@jupyter-widgets/controls",
          "model_name": "DescriptionStyleModel",
          "model_module_version": "1.5.0",
          "state": {
            "_model_module": "@jupyter-widgets/controls",
            "_model_module_version": "1.5.0",
            "_model_name": "DescriptionStyleModel",
            "_view_count": null,
            "_view_module": "@jupyter-widgets/base",
            "_view_module_version": "1.2.0",
            "_view_name": "StyleView",
            "description_width": ""
          }
        },
        "a0402b98e1614c9dbac9157fa2de01bc": {
          "model_module": "@jupyter-widgets/controls",
          "model_name": "HBoxModel",
          "model_module_version": "1.5.0",
          "state": {
            "_dom_classes": [],
            "_model_module": "@jupyter-widgets/controls",
            "_model_module_version": "1.5.0",
            "_model_name": "HBoxModel",
            "_view_count": null,
            "_view_module": "@jupyter-widgets/controls",
            "_view_module_version": "1.5.0",
            "_view_name": "HBoxView",
            "box_style": "",
            "children": [
              "IPY_MODEL_264ddd38438a45f086e90ad501c65fec",
              "IPY_MODEL_b4528f650db545d3a902ab25b8c88819",
              "IPY_MODEL_2d9398b4de9d47889dfda0c5c19b35b0"
            ],
            "layout": "IPY_MODEL_a03d96fa51f34c51a02351624c87bf85"
          }
        },
        "264ddd38438a45f086e90ad501c65fec": {
          "model_module": "@jupyter-widgets/controls",
          "model_name": "HTMLModel",
          "model_module_version": "1.5.0",
          "state": {
            "_dom_classes": [],
            "_model_module": "@jupyter-widgets/controls",
            "_model_module_version": "1.5.0",
            "_model_name": "HTMLModel",
            "_view_count": null,
            "_view_module": "@jupyter-widgets/controls",
            "_view_module_version": "1.5.0",
            "_view_name": "HTMLView",
            "description": "",
            "description_tooltip": null,
            "layout": "IPY_MODEL_319343a7cc564a10b08989e4c554fc5b",
            "placeholder": "​",
            "style": "IPY_MODEL_6d61b149de654ada96c48d398048bb74",
            "value": "Batches: 100%"
          }
        },
        "b4528f650db545d3a902ab25b8c88819": {
          "model_module": "@jupyter-widgets/controls",
          "model_name": "FloatProgressModel",
          "model_module_version": "1.5.0",
          "state": {
            "_dom_classes": [],
            "_model_module": "@jupyter-widgets/controls",
            "_model_module_version": "1.5.0",
            "_model_name": "FloatProgressModel",
            "_view_count": null,
            "_view_module": "@jupyter-widgets/controls",
            "_view_module_version": "1.5.0",
            "_view_name": "ProgressView",
            "bar_style": "success",
            "description": "",
            "description_tooltip": null,
            "layout": "IPY_MODEL_189ebf166c274d0c878125af03a0106b",
            "max": 6,
            "min": 0,
            "orientation": "horizontal",
            "style": "IPY_MODEL_6c33d2d4d5ca4624b92a2ccacc1d5767",
            "value": 6
          }
        },
        "2d9398b4de9d47889dfda0c5c19b35b0": {
          "model_module": "@jupyter-widgets/controls",
          "model_name": "HTMLModel",
          "model_module_version": "1.5.0",
          "state": {
            "_dom_classes": [],
            "_model_module": "@jupyter-widgets/controls",
            "_model_module_version": "1.5.0",
            "_model_name": "HTMLModel",
            "_view_count": null,
            "_view_module": "@jupyter-widgets/controls",
            "_view_module_version": "1.5.0",
            "_view_name": "HTMLView",
            "description": "",
            "description_tooltip": null,
            "layout": "IPY_MODEL_c485cfb8e8794b62b7f6d86b486ef4f4",
            "placeholder": "​",
            "style": "IPY_MODEL_0a484f0f7cc848b89cfb8d94396c8e6d",
            "value": " 6/6 [00:01&lt;00:00,  3.71it/s]"
          }
        },
        "a03d96fa51f34c51a02351624c87bf85": {
          "model_module": "@jupyter-widgets/base",
          "model_name": "LayoutModel",
          "model_module_version": "1.2.0",
          "state": {
            "_model_module": "@jupyter-widgets/base",
            "_model_module_version": "1.2.0",
            "_model_name": "LayoutModel",
            "_view_count": null,
            "_view_module": "@jupyter-widgets/base",
            "_view_module_version": "1.2.0",
            "_view_name": "LayoutView",
            "align_content": null,
            "align_items": null,
            "align_self": null,
            "border": null,
            "bottom": null,
            "display": null,
            "flex": null,
            "flex_flow": null,
            "grid_area": null,
            "grid_auto_columns": null,
            "grid_auto_flow": null,
            "grid_auto_rows": null,
            "grid_column": null,
            "grid_gap": null,
            "grid_row": null,
            "grid_template_areas": null,
            "grid_template_columns": null,
            "grid_template_rows": null,
            "height": null,
            "justify_content": null,
            "justify_items": null,
            "left": null,
            "margin": null,
            "max_height": null,
            "max_width": null,
            "min_height": null,
            "min_width": null,
            "object_fit": null,
            "object_position": null,
            "order": null,
            "overflow": null,
            "overflow_x": null,
            "overflow_y": null,
            "padding": null,
            "right": null,
            "top": null,
            "visibility": null,
            "width": null
          }
        },
        "319343a7cc564a10b08989e4c554fc5b": {
          "model_module": "@jupyter-widgets/base",
          "model_name": "LayoutModel",
          "model_module_version": "1.2.0",
          "state": {
            "_model_module": "@jupyter-widgets/base",
            "_model_module_version": "1.2.0",
            "_model_name": "LayoutModel",
            "_view_count": null,
            "_view_module": "@jupyter-widgets/base",
            "_view_module_version": "1.2.0",
            "_view_name": "LayoutView",
            "align_content": null,
            "align_items": null,
            "align_self": null,
            "border": null,
            "bottom": null,
            "display": null,
            "flex": null,
            "flex_flow": null,
            "grid_area": null,
            "grid_auto_columns": null,
            "grid_auto_flow": null,
            "grid_auto_rows": null,
            "grid_column": null,
            "grid_gap": null,
            "grid_row": null,
            "grid_template_areas": null,
            "grid_template_columns": null,
            "grid_template_rows": null,
            "height": null,
            "justify_content": null,
            "justify_items": null,
            "left": null,
            "margin": null,
            "max_height": null,
            "max_width": null,
            "min_height": null,
            "min_width": null,
            "object_fit": null,
            "object_position": null,
            "order": null,
            "overflow": null,
            "overflow_x": null,
            "overflow_y": null,
            "padding": null,
            "right": null,
            "top": null,
            "visibility": null,
            "width": null
          }
        },
        "6d61b149de654ada96c48d398048bb74": {
          "model_module": "@jupyter-widgets/controls",
          "model_name": "DescriptionStyleModel",
          "model_module_version": "1.5.0",
          "state": {
            "_model_module": "@jupyter-widgets/controls",
            "_model_module_version": "1.5.0",
            "_model_name": "DescriptionStyleModel",
            "_view_count": null,
            "_view_module": "@jupyter-widgets/base",
            "_view_module_version": "1.2.0",
            "_view_name": "StyleView",
            "description_width": ""
          }
        },
        "189ebf166c274d0c878125af03a0106b": {
          "model_module": "@jupyter-widgets/base",
          "model_name": "LayoutModel",
          "model_module_version": "1.2.0",
          "state": {
            "_model_module": "@jupyter-widgets/base",
            "_model_module_version": "1.2.0",
            "_model_name": "LayoutModel",
            "_view_count": null,
            "_view_module": "@jupyter-widgets/base",
            "_view_module_version": "1.2.0",
            "_view_name": "LayoutView",
            "align_content": null,
            "align_items": null,
            "align_self": null,
            "border": null,
            "bottom": null,
            "display": null,
            "flex": null,
            "flex_flow": null,
            "grid_area": null,
            "grid_auto_columns": null,
            "grid_auto_flow": null,
            "grid_auto_rows": null,
            "grid_column": null,
            "grid_gap": null,
            "grid_row": null,
            "grid_template_areas": null,
            "grid_template_columns": null,
            "grid_template_rows": null,
            "height": null,
            "justify_content": null,
            "justify_items": null,
            "left": null,
            "margin": null,
            "max_height": null,
            "max_width": null,
            "min_height": null,
            "min_width": null,
            "object_fit": null,
            "object_position": null,
            "order": null,
            "overflow": null,
            "overflow_x": null,
            "overflow_y": null,
            "padding": null,
            "right": null,
            "top": null,
            "visibility": null,
            "width": null
          }
        },
        "6c33d2d4d5ca4624b92a2ccacc1d5767": {
          "model_module": "@jupyter-widgets/controls",
          "model_name": "ProgressStyleModel",
          "model_module_version": "1.5.0",
          "state": {
            "_model_module": "@jupyter-widgets/controls",
            "_model_module_version": "1.5.0",
            "_model_name": "ProgressStyleModel",
            "_view_count": null,
            "_view_module": "@jupyter-widgets/base",
            "_view_module_version": "1.2.0",
            "_view_name": "StyleView",
            "bar_color": null,
            "description_width": ""
          }
        },
        "c485cfb8e8794b62b7f6d86b486ef4f4": {
          "model_module": "@jupyter-widgets/base",
          "model_name": "LayoutModel",
          "model_module_version": "1.2.0",
          "state": {
            "_model_module": "@jupyter-widgets/base",
            "_model_module_version": "1.2.0",
            "_model_name": "LayoutModel",
            "_view_count": null,
            "_view_module": "@jupyter-widgets/base",
            "_view_module_version": "1.2.0",
            "_view_name": "LayoutView",
            "align_content": null,
            "align_items": null,
            "align_self": null,
            "border": null,
            "bottom": null,
            "display": null,
            "flex": null,
            "flex_flow": null,
            "grid_area": null,
            "grid_auto_columns": null,
            "grid_auto_flow": null,
            "grid_auto_rows": null,
            "grid_column": null,
            "grid_gap": null,
            "grid_row": null,
            "grid_template_areas": null,
            "grid_template_columns": null,
            "grid_template_rows": null,
            "height": null,
            "justify_content": null,
            "justify_items": null,
            "left": null,
            "margin": null,
            "max_height": null,
            "max_width": null,
            "min_height": null,
            "min_width": null,
            "object_fit": null,
            "object_position": null,
            "order": null,
            "overflow": null,
            "overflow_x": null,
            "overflow_y": null,
            "padding": null,
            "right": null,
            "top": null,
            "visibility": null,
            "width": null
          }
        },
        "0a484f0f7cc848b89cfb8d94396c8e6d": {
          "model_module": "@jupyter-widgets/controls",
          "model_name": "DescriptionStyleModel",
          "model_module_version": "1.5.0",
          "state": {
            "_model_module": "@jupyter-widgets/controls",
            "_model_module_version": "1.5.0",
            "_model_name": "DescriptionStyleModel",
            "_view_count": null,
            "_view_module": "@jupyter-widgets/base",
            "_view_module_version": "1.2.0",
            "_view_name": "StyleView",
            "description_width": ""
          }
        },
        "640c6d1ebbb44865960705eb06acd4e8": {
          "model_module": "@jupyter-widgets/controls",
          "model_name": "FloatProgressModel",
          "model_module_version": "1.5.0",
          "state": {
            "_dom_classes": [],
            "_model_module": "@jupyter-widgets/controls",
            "_model_module_version": "1.5.0",
            "_model_name": "FloatProgressModel",
            "_view_count": null,
            "_view_module": "@jupyter-widgets/controls",
            "_view_module_version": "1.5.0",
            "_view_name": "ProgressView",
            "bar_style": "",
            "description": "",
            "description_tooltip": null,
            "layout": "IPY_MODEL_3f9b6e0d65de4da681ebc2689d49310e",
            "max": 100,
            "min": 0,
            "orientation": "horizontal",
            "style": "IPY_MODEL_61fe09b38530467aacf6041afdc65de3",
            "value": 100
          }
        },
        "3f9b6e0d65de4da681ebc2689d49310e": {
          "model_module": "@jupyter-widgets/base",
          "model_name": "LayoutModel",
          "model_module_version": "1.2.0",
          "state": {
            "_model_module": "@jupyter-widgets/base",
            "_model_module_version": "1.2.0",
            "_model_name": "LayoutModel",
            "_view_count": null,
            "_view_module": "@jupyter-widgets/base",
            "_view_module_version": "1.2.0",
            "_view_name": "LayoutView",
            "align_content": null,
            "align_items": null,
            "align_self": null,
            "border": null,
            "bottom": null,
            "display": null,
            "flex": null,
            "flex_flow": null,
            "grid_area": null,
            "grid_auto_columns": null,
            "grid_auto_flow": null,
            "grid_auto_rows": null,
            "grid_column": null,
            "grid_gap": null,
            "grid_row": null,
            "grid_template_areas": null,
            "grid_template_columns": null,
            "grid_template_rows": null,
            "height": null,
            "justify_content": null,
            "justify_items": null,
            "left": null,
            "margin": null,
            "max_height": null,
            "max_width": null,
            "min_height": null,
            "min_width": null,
            "object_fit": null,
            "object_position": null,
            "order": null,
            "overflow": null,
            "overflow_x": null,
            "overflow_y": null,
            "padding": null,
            "right": null,
            "top": null,
            "visibility": null,
            "width": "auto"
          }
        },
        "61fe09b38530467aacf6041afdc65de3": {
          "model_module": "@jupyter-widgets/controls",
          "model_name": "ProgressStyleModel",
          "model_module_version": "1.5.0",
          "state": {
            "_model_module": "@jupyter-widgets/controls",
            "_model_module_version": "1.5.0",
            "_model_name": "ProgressStyleModel",
            "_view_count": null,
            "_view_module": "@jupyter-widgets/base",
            "_view_module_version": "1.2.0",
            "_view_name": "StyleView",
            "bar_color": "black",
            "description_width": ""
          }
        }
      }
    }
  },
  "cells": [
    {
      "cell_type": "markdown",
      "metadata": {
        "id": "view-in-github",
        "colab_type": "text"
      },
      "source": [
        "<a href=\"https://colab.research.google.com/github/ConstructoDestructo/Diabetes_AI_Instrument/blob/main/CDC_NHANES_Extractor.ipynb\" target=\"_parent\"><img src=\"https://colab.research.google.com/assets/colab-badge.svg\" alt=\"Open In Colab\"/></a>"
      ]
    },
    {
      "cell_type": "code",
      "source": [
        "import requests\n",
        "!pip install kneed\n",
        "from bs4 import BeautifulSoup\n",
        "import pandas as pd\n",
        "import time\n",
        "from tqdm import tqdm\n",
        "import re\n",
        "from sklearn.feature_extraction.text import TfidfVectorizer\n",
        "from sklearn.metrics.pairwise import cosine_similarity\n",
        "from sentence_transformers import SentenceTransformer\n",
        "from kneed import KneeLocator\n",
        "import numpy as np\n",
        "import matplotlib.pyplot as plt\n",
        "\n",
        "# --- CONFIG ---\n",
        "BASE_CYCLE_INDEX = \"https://wwwn.cdc.gov/nchs/nhanes/continuousnhanes/default.aspx\"\n",
        "COMPONENTS = [\"Demographics\", \"Dietary\", \"Examination\", \"Laboratory\", \"Questionnaire\"]\n",
        "OUTPUT_JSON = \"nhanes_catalog.json\"\n",
        "OUTPUT_CSV = \"nhanes_catalog.csv\"\n",
        "HEADERS = {\"User-Agent\": \"Mozilla/5.0 (Data Research Bot; +https://example.com)\"}\n",
        "EXCLUDE = [\"What We Eat in America\", \"Notice to Users\"]\n",
        "\n",
        "# --- Helper functions ---\n",
        "def get_available_cycles():\n",
        "    res = requests.get(BASE_CYCLE_INDEX, headers=HEADERS)\n",
        "    soup = BeautifulSoup(res.text, \"html.parser\")\n",
        "    cycles = []\n",
        "    for link in soup.find_all(\"a\", href=True):\n",
        "        href = link[\"href\"]\n",
        "        link_text = link.text.strip()\n",
        "        if (\"BeginYear=\" in href or \"Cycle=\" in href) and \"NHANES\" in link_text:\n",
        "            if any(exclude in link_text for exclude in EXCLUDE):\n",
        "                continue\n",
        "            if link_text not in cycles:\n",
        "                cycles.append(link_text)\n",
        "    return cycles\n",
        "\n",
        "def get_component_datasets(cycle, component):\n",
        "    url = f\"https://wwwn.cdc.gov/nchs/nhanes/search/datapage.aspx?Component={component}&Cycle={cycle}\"\n",
        "    res = requests.get(url, headers=HEADERS)\n",
        "    if res.status_code != 200:\n",
        "        print(f\"⚠️ Failed to fetch {component} data for {cycle} (status {res.status_code})\")\n",
        "        return []\n",
        "\n",
        "    soup = BeautifulSoup(res.text, \"html.parser\")\n",
        "    table = soup.find(\"table\", {\"id\": \"GridView1\"})\n",
        "    if not table:\n",
        "        return []\n",
        "\n",
        "    cycle_years_match = re.findall(r'\\d{4}', cycle)\n",
        "    if len(cycle_years_match) == 2:\n",
        "        cycle_start_year = int(cycle_years_match[0])\n",
        "        cycle_end_year = int(cycle_years_match[1])\n",
        "    elif len(cycle_years_match) == 1:\n",
        "        cycle_start_year = cycle_end_year = int(cycle_years_match[0])\n",
        "    else:\n",
        "        cycle_start_year = cycle_end_year = None\n",
        "\n",
        "    records = []\n",
        "    rows = table.find_all(\"tr\")[1:]  # skip header\n",
        "    for row in rows:\n",
        "        cols = row.find_all(\"td\")\n",
        "        if len(cols) < 4:\n",
        "            continue\n",
        "        dataset_name = cols[0].text.strip()\n",
        "        years = cols[1].text.strip()\n",
        "        data_link = cols[2].find(\"a\")[\"href\"] if cols[2].find(\"a\") else None\n",
        "        doc_link = cols[3].find(\"a\")[\"href\"] if cols[3].find(\"a\") else None\n",
        "\n",
        "        if re.match(r'\\d{4}-\\d{4}', dataset_name):\n",
        "            dataset_name, years = years, dataset_name\n",
        "\n",
        "        if data_link and data_link.startswith(\"/\"):\n",
        "            data_link = \"https://wwwn.cdc.gov\" + data_link\n",
        "        if doc_link and doc_link.startswith(\"/\"):\n",
        "            doc_link = \"https://wwwn.cdc.gov\" + doc_link\n",
        "\n",
        "        dataset_years_match = re.search(r'(\\d{4})-(\\d{4})', years)\n",
        "        if dataset_years_match:\n",
        "            dataset_start_year = int(dataset_years_match.group(1))\n",
        "            dataset_end_year = int(dataset_years_match.group(2))\n",
        "            if cycle_start_year and cycle_end_year:\n",
        "                if dataset_start_year < cycle_start_year or dataset_end_year > cycle_end_year:\n",
        "                    continue\n",
        "\n",
        "        print(f\"   [Found] {dataset_name} ({years})\")\n",
        "        records.append({\n",
        "            \"cycle\": cycle,\n",
        "            \"component\": component,\n",
        "            \"dataset_name\": dataset_name,\n",
        "            \"years\": years,\n",
        "            \"data_url\": doc_link,  # swapped on purpose\n",
        "            \"doc_url\": data_link\n",
        "        })\n",
        "    return records\n",
        "\n",
        "# --- Crawl NHANES ---\n",
        "def crawl_nhanes():\n",
        "    all_records = []\n",
        "    cycles = get_available_cycles()\n",
        "    print(f\"✅ Found {len(cycles)} valid NHANES cycles: {cycles}\")\n",
        "\n",
        "    for cycle in tqdm(cycles, desc=\"Crawling NHANES cycles\"):\n",
        "        print(f\"\\n🔹 Scanning cycle: {cycle}\")\n",
        "\n",
        "        # Always include Demographics first\n",
        "        try:\n",
        "            demographics_datasets = get_component_datasets(cycle, \"Demographics\")\n",
        "            if demographics_datasets:\n",
        "                all_records.extend(demographics_datasets)\n",
        "                print(f\"   [Added] Demographics dataset for {cycle}\")\n",
        "            time.sleep(1)\n",
        "        except Exception as e:\n",
        "            print(f\"⚠️ Error fetching demographics for {cycle}: {e}\")\n",
        "\n",
        "        # Add the rest\n",
        "        for component in COMPONENTS:\n",
        "            if component == \"Demographics\":\n",
        "                continue\n",
        "            try:\n",
        "                datasets = get_component_datasets(cycle, component)\n",
        "                all_records.extend(datasets)\n",
        "                time.sleep(1)\n",
        "            except Exception as e:\n",
        "                print(f\"⚠️ Error on {cycle} - {component}: {e}\")\n",
        "\n",
        "    df = pd.DataFrame(all_records)\n",
        "    df.to_json(OUTPUT_JSON, orient=\"records\", indent=2)\n",
        "    df.to_csv(OUTPUT_CSV, index=False)\n",
        "    print(f\"\\n✅ Crawling complete! Saved {len(df)} records to {OUTPUT_JSON} and {OUTPUT_CSV}.\")\n",
        "    return df\n",
        "\n",
        "# --- Run crawler ---\n",
        "if __name__ == \"__main__\":\n",
        "    df_catalog = crawl_nhanes()\n",
        "\n",
        "   # --- Separate demographics first ---\n",
        "df_demographics = df_catalog[df_catalog[\"component\"] == \"Demographics\"].copy()\n",
        "df_non_demographics = df_catalog[df_catalog[\"component\"] != \"Demographics\"].copy()\n",
        "\n",
        "print(f\"🔹 Demographics datasets preserved: {len(df_demographics)}\")\n",
        "print(f\"🔹 Non-demographics datasets to filter: {len(df_non_demographics)}\")\n",
        "\n",
        "# --- Step 1: AI Filter: Biomedical Expansion on non-demographics datasets ---\n",
        "SEED_KEYWORDS = [\n",
        "    \"diabetes\", \"prediabetes\", \"glucose\", \"fasting glucose\", \"hba1c\",\n",
        "    \"hemoglobin a1c\", \"insulin\", \"c-peptide\", \"triglyceride\", \"cholesterol\",\n",
        "    \"hdl\", \"ldl\", \"body mass index\", \"bmi\", \"waist\", \"weight\", \"obesity\",\n",
        "    \"hypertension\"\n",
        "]\n",
        "\n",
        "BIOMED_SYNONYMS = {\n",
        "    \"diabetes\": [\"type 2 diabetes\", \"type 1 diabetes\", \"hyperglycemia\", \"impaired glucose tolerance\", \"diabetic\", \"glucose intolerance\"],\n",
        "    \"prediabetes\": [\"impaired fasting glucose\", \"impaired glucose tolerance\", \"borderline diabetes\"],\n",
        "    \"glucose\": [\"blood sugar\", \"serum glucose\", \"fasting glucose\", \"plasma glucose\"],\n",
        "    \"hba1c\": [\"hemoglobin a1c\", \"glycated hemoglobin\", \"glycohemoglobin\", \"a1c\"],\n",
        "    \"insulin\": [\"fasting insulin\", \"serum insulin\", \"insulin resistance\", \"c-peptide\"],\n",
        "    \"cholesterol\": [\"hdl\", \"ldl\", \"triglyceride\", \"lipids\", \"total cholesterol\"],\n",
        "    \"obesity\": [\"overweight\", \"adiposity\", \"body mass index\", \"bmi\", \"waist circumference\"],\n",
        "    \"hypertension\": [\"high blood pressure\", \"systolic\", \"diastolic\"],\n",
        "    \"bmi\": [\"body mass index\", \"obesity indicator\"],\n",
        "    \"triglyceride\": [\"blood lipids\", \"fatty acids\", \"serum triglycerides\"],\n",
        "    \"hdl\": [\"good cholesterol\"],\n",
        "    \"ldl\": [\"bad cholesterol\"],\n",
        "}\n",
        "\n",
        "def expand_biomedical_keywords(seed_keywords, synonym_map):\n",
        "    expanded = set(seed_keywords)\n",
        "    for kw in seed_keywords:\n",
        "        if kw.lower() in synonym_map:\n",
        "            expanded.update(synonym_map[kw.lower()])\n",
        "    return list(expanded)\n",
        "\n",
        "expanded_keywords = expand_biomedical_keywords(SEED_KEYWORDS, BIOMED_SYNONYMS)\n",
        "print(f\"✅ Biomedical expansion complete: {len(expanded_keywords)} keywords\")\n",
        "\n",
        "NOISE_WORDS = set([\n",
        "    \"exam\", \"second\", \"file\", \"test\", \"data\", \"sheet\", \"survey\",\n",
        "    \"questionnaire\", \"study\", \"participant\", \"demographics\", \"sample\",\n",
        "    \"component\"\n",
        "])\n",
        "dataset_texts = (df_non_demographics[\"dataset_name\"] + \" \" + df_non_demographics[\"years\"]).tolist()\n",
        "\n",
        "# --- First-pass TF-IDF ---\n",
        "from sklearn.feature_extraction.text import TfidfVectorizer\n",
        "from sklearn.metrics.pairwise import cosine_similarity\n",
        "\n",
        "vectorizer = TfidfVectorizer(ngram_range=(1,1))\n",
        "tfidf_matrix = vectorizer.fit_transform(dataset_texts + [\" \".join(expanded_keywords)])\n",
        "seed_vector = tfidf_matrix[-1].toarray().flatten()\n",
        "vocab = vectorizer.get_feature_names_out()\n",
        "top_indices = seed_vector.argsort()[-50:][::-1]\n",
        "first_pass_candidates = [vocab[i] for i in top_indices if vocab[i].lower() not in NOISE_WORDS]\n",
        "first_pass_candidates = list(dict.fromkeys(first_pass_candidates))\n",
        "\n",
        "# --- Second-pass TF-IDF ---\n",
        "second_pass_doc = \" \".join(expanded_keywords + first_pass_candidates)\n",
        "vectorizer2 = TfidfVectorizer(ngram_range=(1,1))\n",
        "tfidf_matrix2 = vectorizer2.fit_transform(dataset_texts + [second_pass_doc])\n",
        "second_vector = tfidf_matrix2[-1].toarray().flatten()\n",
        "vocab2 = vectorizer2.get_feature_names_out()\n",
        "top_indices2 = second_vector.argsort()[-50:][::-1]\n",
        "second_pass_candidates = [vocab2[i] for i in top_indices2 if vocab2[i].lower() not in NOISE_WORDS]\n",
        "second_pass_candidates = list(dict.fromkeys(second_pass_candidates))\n",
        "\n",
        "# --- Combine candidates with expanded keywords ---\n",
        "final_keywords = list(dict.fromkeys(expanded_keywords + first_pass_candidates + second_pass_candidates))\n",
        "keyword_doc = \" \".join(expanded_keywords * 3 + first_pass_candidates + second_pass_candidates)\n",
        "vectorizer_final = TfidfVectorizer(ngram_range=(1,1))\n",
        "tfidf_final = vectorizer_final.fit_transform(dataset_texts + [keyword_doc])\n",
        "dataset_matrix_final = tfidf_final[:-1]\n",
        "keyword_vector_final = tfidf_final[-1]\n",
        "similarities = cosine_similarity(dataset_matrix_final, keyword_vector_final)\n",
        "df_non_demographics[\"relevance_score\"] = similarities.flatten()\n",
        "\n",
        "# --- Filter datasets using a threshold ---\n",
        "threshold = 0.05\n",
        "df_ai_filtered = df_non_demographics[df_non_demographics[\"relevance_score\"] >= threshold].sort_values(by=\"relevance_score\", ascending=False)\n",
        "print(f\"\\n✅ AI filter applied: {len(df_ai_filtered)} datasets selected (excluding demographics)\")\n",
        "\n",
        "# --- Step 2: Semantic Refinement ---\n",
        "from sentence_transformers import SentenceTransformer\n",
        "from kneed import KneeLocator\n",
        "import matplotlib.pyplot as plt\n",
        "import numpy as np\n",
        "\n",
        "apply_semantic_refinement = True\n",
        "min_datasets = 145\n",
        "plot_threshold = True\n",
        "\n",
        "if apply_semantic_refinement:\n",
        "    df_step2 = df_ai_filtered.copy()\n",
        "\n",
        "    print(\"🧠 Computing sentence embeddings...\")\n",
        "    model = SentenceTransformer('sentence-transformers/all-MiniLM-L6-v2')\n",
        "    dataset_texts_step2 = (df_step2[\"dataset_name\"] + \" \" + df_step2[\"years\"]).tolist()\n",
        "    embeddings = model.encode(dataset_texts_step2, batch_size=32, show_progress_bar=True)\n",
        "    keyword_embedding = model.encode(\" \".join(final_keywords))\n",
        "\n",
        "    cosine_similarities = np.dot(embeddings, keyword_embedding) / (\n",
        "        np.linalg.norm(embeddings, axis=1) * np.linalg.norm(keyword_embedding)\n",
        "    )\n",
        "    df_step2[\"semantic_score\"] = cosine_similarities\n",
        "\n",
        "    # Dynamic threshold via KneeLocator\n",
        "    scores_sorted = np.sort(df_step2[\"semantic_score\"].values)[::-1]\n",
        "    x = np.arange(len(scores_sorted))\n",
        "    y = scores_sorted\n",
        "    knee = KneeLocator(x, y, curve='convex', direction='decreasing')\n",
        "\n",
        "    if knee.knee is not None:\n",
        "        dynamic_threshold = y[knee.knee]\n",
        "    else:\n",
        "        dynamic_threshold = 0.0\n",
        "\n",
        "    df_dynamic_filtered = df_step2[df_step2[\"semantic_score\"] >= dynamic_threshold]\n",
        "\n",
        "    if len(df_dynamic_filtered) < min_datasets:\n",
        "        df_dynamic_filtered = df_step2.sort_values(by=\"semantic_score\", ascending=False).iloc[:min_datasets]\n",
        "\n",
        "    df_dynamic_filtered = df_dynamic_filtered.sort_values(by=\"semantic_score\", ascending=False)\n",
        "\n",
        "# --- Merge demographics back ---\n",
        "df_final = pd.concat([df_dynamic_filtered, df_demographics], ignore_index=True)\n",
        "df_final.to_csv(\"nhanes_ai_semantic_dynamic.csv\", index=False)\n",
        "print(f\"✅ Dynamic semantic refinement complete: {len(df_final)} datasets saved → nhanes_ai_semantic_dynamic.csv\")\n",
        "\n",
        "\n",
        "\n",
        "\n",
        "\n",
        "\n",
        "\n",
        "\n",
        "\n",
        "\n",
        "\n",
        "\n",
        "\n",
        "\n",
        "\n",
        "\n",
        "\n",
        "\n",
        "\n"
      ],
      "metadata": {
        "colab": {
          "base_uri": "https://localhost:8080/",
          "height": 1000,
          "referenced_widgets": [
            "5816654c47934b6a9616d07eee23b30b",
            "db052536361a4c1d95415ab9fc3880c1",
            "5b41b86a2df24956ae3de4da27027a7a",
            "6053630fd3fe4566813e79fdec1819cd",
            "c8a388e527124228ab55b8e0f6e0492d",
            "e6305282b9204e44a20d2e61a3dbde5b",
            "e8accdccfed54c3c9766584d7c5e6373",
            "b6d4ddea09da44b48d0a6bd1dc7e0e7f",
            "71ba217f88c04f0aa2d90c12a2557c56",
            "a3f8cafe9ecc4661acc3ddfc50c34315",
            "527025e98ae34352b83339da4c192945",
            "906bdd9e6b2c4178a5ee7748a6d9eebf",
            "6b7c495ef9724cfaa6d422eb308c2029",
            "afe38ccfda98443392794bad0cdc041c",
            "b9911e88c37e45008ca46026dc9ca028",
            "3a54a47d408b488c920aec676d35986c",
            "2f81130c56534c41bbd5eee498362f61",
            "181b855f01684e5e8846ba9b9c563cda",
            "eca9d28c62584d9bbe090b51c8d137bd",
            "b89636b85fb94a349a632b1c2afd462e",
            "0b72652ee60b4353b4d3057726783132",
            "31a1a31f5577441ead2bacd71bb88456",
            "97402c8c75714f13ae04b9a1fbf1bcfa",
            "556e436ab3684ec588a8219bee624638",
            "b6e220009b834fda84a2aafb9f81713b",
            "1f4c5a7e3fea46c680e88023e4013191",
            "49acca2247f3439fa729316ed8b2953b",
            "f4374ccd42024d93b00f68c50d6f2b0f",
            "7000c5e3b8104cc8a5209532fdcd3162",
            "56f7a5621b734dfbbfb7c86fb56b9a38",
            "5520193926804a45aa18d06a8184aa48",
            "afcd7777a24d425b91b4c6c224673255",
            "20d69d281f294ba082f5c3ad444c2545",
            "3a4934a9306745478396fe85972e0a4c",
            "119182c3884e44fda64882d17ac2f106",
            "ec6a6d29507b425483014b8e177f2841",
            "0dd87fb2683f4e8c8f04e3eef1505f6d",
            "24466217da604257b7821aebface6a41",
            "819b8249847e487caa97bc87c40b9018",
            "447c089012b641f8aa9ed46d56a0cb0f",
            "7d6764cbbe0c45988f37dcd4b78e2720",
            "649d9e6590ee410eafb6bcd8160d16e7",
            "754a84d7d90f4bc594576c9e5942919b",
            "90432d72e9b14d568b8b22881baaab54",
            "8d1c17941e454f27aede720246f4ef80",
            "bd675430a014401fb7b7049d150188d8",
            "e250459c0a1b48c1b839567333c61a8d",
            "27b7e909978a49cf9825f5eb9505b5ee",
            "ee08fdc57923461184cc343ad3f30c67",
            "740a45ca6dae4a1da066d05957afd7f5",
            "18b151a3e53c4a32866069d9ba4bb157",
            "fc935ad61dbd4f8abc8b0eb42990f318",
            "60c9eb39f0ca4c1cab52e20b18bef448",
            "3ea770e4d0fa4a9a982bc69b83e6478c",
            "33b923007ec849678e19dd864212a3ba",
            "d8e89f101730436e9a6f64bcfa285c8f",
            "e6d24a17caca40b09dbb100ee6f5bda6",
            "4dc708ff0c244e319728ef4332fa7188",
            "e1a5190f11b341c38f2f5a92f30ca4f2",
            "d6654c59a3ce4fb78ac1b1a7230c7406",
            "d9c0de7cb9a349328ba0e629e9bb714b",
            "91029761ed2449fdb5b70ed5a862214e",
            "77e65fa3393842d9a880497b450afe13",
            "e55b6fd101f144f59d9e09fb426ee46d",
            "7b8cb0aecb4748069cae450f513bc864",
            "9bd0a498503144bcbaa4e1c60c6b1fda",
            "2227edef3f3547d694c2dc8c89550973",
            "0ae41d10ae6741c2b8550ae4457d176f",
            "f96381dad2b94e1e9e59ffaca7a8bf6c",
            "44d98863676e44df873a8e8389aa4a19",
            "a9a7ffedfbfd471b9fec3cc84d6d1902",
            "e8e4d48f29df40219558ac0155c5f47f",
            "6248ec7644a842ad9c0dc0083e295b23",
            "849e09d4d5e448b99120150c335aadee",
            "396cb87b6e94495a9658ebc4a13d849b",
            "e265f2a019cf4201a356c16dbf56d0bb",
            "2db1b02192444bf9964fe12fc2813f27",
            "63541c37faae4942a7b34b9bd677c50c",
            "1fc36ff46acf41d6a608c7d0f1ea9e2f",
            "7d286b570ccf4e84a407cb67db767472",
            "c38547b9b3f146e0a84fa631300dbcdb",
            "730507583fc249ad820b77de272aede7",
            "bcc85b82e2b7437791f0683021ce00a9",
            "b87b029a6c71402cbf44bc19dd32758f",
            "a4a2c4ae3c574a56ab405544e479a5d8",
            "1c4847b2324b495783ff71c3cdc909f7",
            "efb64e969caf42aba341371b43a8a5ed",
            "1c9f062ac713471f9b8c5135b744f94f",
            "a3336edc7a8f429987a9be8c3b40f447",
            "f854c49407a3496282b55ec91ea50113",
            "e715e24a6422426da1514c49aa459911",
            "833e46936fb94ab8a114df08f0c86377",
            "32c129db863548cab2d5e71da7d9181b",
            "8027ff64ba6747a5b32391bcaaaa1172",
            "e99010c9e7bc424fbb396ffc96bf4790",
            "64b492d37fc24ecdbc100585f801ba39",
            "e47f808362674fb3b77757cca4dd1efc",
            "47aa2b00f275420f89af32ca952ab4b8",
            "4ec1fe9fff5f4d07adcd6a164af6ec3e",
            "0a51783a94864db881b9955f1f94ade4",
            "3ee52207da5a472ab5112c250dda7561",
            "1b531d6f5b404cf2bb7783387d5707c4",
            "85fb043f5f9249e2a73e6f069bfe388a",
            "eddb55c7fd314b758971cb42847507cb",
            "640b07e761cc4a409c28ec024b4e2c48",
            "836dfe462ebb461c8cdb8a3dc0095990",
            "653f739699484dfc9bcdeff4c9b30f8c",
            "a06c9d75ecec4b41b341f2f66d4e46e4",
            "96121451e5034d12b52e445de8e47b53",
            "72dd063fa2234b978f8fe69fbca5dc57",
            "abccfc97785d4f348567fcddb9e34e18",
            "c555691df3cf42b8b61ac9582646fb92",
            "405eb89d7c97469bae1052c911b734b2",
            "ce5e69c0d83547ce85e57c3dd3268af0",
            "8b25010f54ea4685a6cc78676d5d8fc1",
            "b61d454f96b94968be757e4a701ff97f",
            "d384c915cbf242c186282f72f305e728",
            "b4c510f98b894093adafbab28cfbbb17",
            "34f0932c195240cbafe4e00e0f6b2172",
            "350aa678d3494667bdd46472851b598f",
            "9c2ac4609de24fb0927dea2e331020ba",
            "a0402b98e1614c9dbac9157fa2de01bc",
            "264ddd38438a45f086e90ad501c65fec",
            "b4528f650db545d3a902ab25b8c88819",
            "2d9398b4de9d47889dfda0c5c19b35b0",
            "a03d96fa51f34c51a02351624c87bf85",
            "319343a7cc564a10b08989e4c554fc5b",
            "6d61b149de654ada96c48d398048bb74",
            "189ebf166c274d0c878125af03a0106b",
            "6c33d2d4d5ca4624b92a2ccacc1d5767",
            "c485cfb8e8794b62b7f6d86b486ef4f4",
            "0a484f0f7cc848b89cfb8d94396c8e6d"
          ]
        },
        "id": "YC8_pE-jbyia",
        "outputId": "167579f7-77fc-460a-e9be-a5296fe26d3f"
      },
      "execution_count": null,
      "outputs": [
        {
          "output_type": "stream",
          "name": "stdout",
          "text": [
            "Collecting kneed\n",
            "  Downloading kneed-0.8.5-py3-none-any.whl.metadata (5.5 kB)\n",
            "Requirement already satisfied: numpy>=1.14.2 in /usr/local/lib/python3.12/dist-packages (from kneed) (2.0.2)\n",
            "Requirement already satisfied: scipy>=1.0.0 in /usr/local/lib/python3.12/dist-packages (from kneed) (1.16.2)\n",
            "Downloading kneed-0.8.5-py3-none-any.whl (10 kB)\n",
            "Installing collected packages: kneed\n",
            "Successfully installed kneed-0.8.5\n",
            "✅ Found 13 valid NHANES cycles: ['NHANES 08/2021-08/2023', 'NHANES 2017-March 2020', 'NHANES 2019-2020', 'NHANES 2017-2018', 'NHANES 2015-2016', 'NHANES 2013-2014', 'NHANES 2011-2012', 'NHANES 2009-2010', 'NHANES 2007-2008', 'NHANES 2005-2006', 'NHANES 2003-2004', 'NHANES 2001-2002', 'NHANES 1999-2000']\n"
          ]
        },
        {
          "output_type": "stream",
          "name": "stderr",
          "text": [
            "\rCrawling NHANES cycles:   0%|          | 0/13 [00:00<?, ?it/s]"
          ]
        },
        {
          "output_type": "stream",
          "name": "stdout",
          "text": [
            "\n",
            "🔹 Scanning cycle: NHANES 08/2021-08/2023\n",
            "   [Found] Demographic Variables and Sample Weights (2021-2023)\n",
            "   [Added] Demographics dataset for NHANES 08/2021-08/2023\n",
            "   [Found] Dietary Interview - Individual Foods, First Day (2021-2023)\n",
            "   [Found] Dietary Interview - Individual Foods, Second Day (2021-2023)\n",
            "   [Found] Dietary Interview - Total Nutrient Intakes, First Day (2021-2023)\n",
            "   [Found] Dietary Interview - Total Nutrient Intakes, Second Day (2021-2023)\n",
            "   [Found] Dietary Interview Technical Support File - Food Codes (2021-2023)\n",
            "   [Found] Dietary Supplement Use 30-Day - Individual Dietary Supplements (2021-2023)\n",
            "   [Found] Dietary Supplement Use 30-Day - Total Dietary Supplements (2021-2023)\n",
            "   [Found] Balance (2021-2023)\n",
            "   [Found] Blood Pressure - Oscillometric Measurements (2021-2023)\n",
            "   [Found] Body Measures (2021-2023)\n",
            "   [Found] Liver Ultrasound Transient Elastography (2021-2023)\n",
            "   [Found] Albumin & Creatinine - Urine (2021-2023)\n",
            "   [Found] alpha-1-Acid Glycoprotein (2021-2023)\n",
            "   [Found] Cholesterol – High-Density Lipoprotein (2021-2023)\n",
            "   [Found] Cholesterol - Low-Density Lipoproteins (LDL) & Triglycerides (2021-2023)\n",
            "   [Found] Cholesterol - Total (2021-2023)\n",
            "   [Found] Complete Blood Count with 5-Part Differential in Whole Blood (2021-2023)\n",
            "   [Found] Fasting Questionnaire (2021-2023)\n",
            "   [Found] Ferritin (2021-2023)\n",
            "   [Found] Folate - RBC (2021-2023)\n",
            "   [Found] Glycohemoglobin (2021-2023)\n",
            "   [Found] Hepatitis A (2021-2023)\n",
            "   [Found] Hepatitis B Surface Antibody (2021-2023)\n",
            "   [Found] High-Sensitivity C-Reactive Protein (2021-2023)\n",
            "   [Found] Insulin (2021-2023)\n",
            "   [Found] Lead, Cadmium, Total Mercury, Selenium, & Manganese – Blood (2021-2023)\n",
            "   [Found] Mercury:  Inorganic, Ethyl, and Methyl - Blood (2021-2023)\n",
            "   [Found] Plasma Fasting Glucose (2021-2023)\n",
            "   [Found] Serum Folate Forms - Total & Individual - Serum (2021-2023)\n",
            "   [Found] Sex Steroid Hormone Panel - Serum (2021-2023)\n",
            "   [Found] Standard Biochemistry Profile (2021-2023)\n",
            "   [Found] Transferrin Receptor (2021-2023)\n",
            "   [Found] Urine Pregnancy Test (2021-2023)\n",
            "   [Found] Vitamin D (2021-2023)\n",
            "   [Found] Volatile Organic Compounds and Trihalomethanes/MTBE - Blood (2021-2023)\n",
            "   [Found] Audiometry (2021-2023)\n",
            "   [Found] Acculturation (2021-2023)\n",
            "   [Found] Alcohol Use (2021-2023)\n",
            "   [Found] Balance (2021-2023)\n",
            "   [Found] Blood Pressure & Cholesterol (2021-2023)\n",
            "   [Found] Current Health Status (2021-2023)\n",
            "   [Found] Dermatology (2021-2023)\n",
            "   [Found] Diabetes (2021-2023)\n",
            "   [Found] Diet Behavior & Nutrition (2021-2023)\n",
            "   [Found] Early Childhood (2021-2023)\n",
            "   [Found] Functioning (2021-2023)\n",
            "   [Found] Health Insurance (2021-2023)\n",
            "   [Found] Hepatitis (2021-2023)\n",
            "   [Found] Hospital Utilization & Access to Care (2021-2023)\n",
            "   [Found] Housing Characteristics (2021-2023)\n",
            "   [Found] Immunization (2021-2023)\n",
            "   [Found] Income (2021-2023)\n",
            "   [Found] Kidney Conditions - Urology (2021-2023)\n",
            "   [Found] Medical Conditions (2021-2023)\n",
            "   [Found] Mental Health - Depression Screener (2021-2023)\n",
            "   [Found] Occupation (2021-2023)\n",
            "   [Found] Oral Health (2021-2023)\n",
            "   [Found] Pesticide Use (2021-2023)\n",
            "   [Found] Physical Activity (2021-2023)\n",
            "   [Found] Physical Activity - Youth (2021-2023)\n",
            "   [Found] Prescription Medications (2021-2023)\n",
            "   [Found] Preventive Aspirin Use (2021-2023)\n",
            "   [Found] Reproductive Health (2021-2023)\n",
            "   [Found] Sleep Disorders (2021-2023)\n",
            "   [Found] Smoking - Cigarette Use (2021-2023)\n",
            "   [Found] Smoking - Household Smokers (2021-2023)\n",
            "   [Found] Smoking - Recent Tobacco Use (2021-2023)\n",
            "   [Found] Weight History (2021-2023)\n"
          ]
        },
        {
          "output_type": "stream",
          "name": "stderr",
          "text": [
            "\rCrawling NHANES cycles:   8%|▊         | 1/13 [00:07<01:29,  7.45s/it]"
          ]
        },
        {
          "output_type": "stream",
          "name": "stdout",
          "text": [
            "\n",
            "🔹 Scanning cycle: NHANES 2017-March 2020\n",
            "   [Found] Demographic Variables and Sample Weights (2017-2018)\n",
            "   [Found] Demographic Variables and Sample Weights (2017-2020)\n",
            "   [Added] Demographics dataset for NHANES 2017-March 2020\n",
            "   [Found] Dietary Interview - Individual Foods, First Day (2017-2018)\n",
            "   [Found] Dietary Interview - Individual Foods, First Day (2017-2020)\n",
            "   [Found] Dietary Interview - Individual Foods, Second Day (2017-2018)\n",
            "   [Found] Dietary Interview - Individual Foods, Second Day (2017-2020)\n",
            "   [Found] Dietary Interview - Total Nutrient Intakes, First Day (2017-2018)\n",
            "   [Found] Dietary Interview - Total Nutrient Intakes, First Day (2017-2020)\n",
            "   [Found] Dietary Interview - Total Nutrient Intakes, Second Day (2017-2018)\n",
            "   [Found] Dietary Interview - Total Nutrient Intakes, Second Day (2017-2020)\n",
            "   [Found] Dietary Interview Technical Support File - Food Codes (2017-2018)\n",
            "   [Found] Dietary Interview Technical Support File - Food Codes (2017-2020)\n",
            "   [Found] Dietary Supplement Use 24-Hour - Individual Dietary Supplements, First Day (2017-2018)\n",
            "   [Found] Dietary Supplement Use 24-Hour - Individual Dietary Supplements, First Day (2017-2020)\n",
            "   [Found] Dietary Supplement Use 24-Hour - Individual Dietary Supplements, Second Day (2017-2018)\n",
            "   [Found] Dietary Supplement Use 24-Hour - Individual Dietary Supplements, Second Day (2017-2020)\n",
            "   [Found] Dietary Supplement Use 24-Hour - Total Dietary Supplements, First Day (2017-2018)\n",
            "   [Found] Dietary Supplement Use 24-Hour - Total Dietary Supplements, First Day (2017-2020)\n",
            "   [Found] Dietary Supplement Use 24-Hour - Total Dietary Supplements, Second Day (2017-2018)\n",
            "   [Found] Dietary Supplement Use 24-Hour - Total Dietary Supplements, Second Day (2017-2020)\n",
            "   [Found] Dietary Supplement Use 30-Day - Individual Dietary Supplements (2017-2018)\n",
            "   [Found] Dietary Supplement Use 30-Day - Individual Dietary Supplements (2017-2020)\n",
            "   [Found] Dietary Supplement Use 30-Day - Total Dietary Supplements (2017-2018)\n",
            "   [Found] Dietary Supplement Use 30-Day - Total Dietary Supplements (2017-2020)\n",
            "   [Found] Audiometry (2017-2018)\n",
            "   [Found] Audiometry (2017-2020)\n",
            "   [Found] Audiometry - Acoustic Reflex (2017-2018)\n",
            "   [Found] Audiometry - Acoustic Reflex (2017-2020)\n",
            "   [Found] Audiometry - Tympanometry (2017-2018)\n",
            "   [Found] Audiometry - Tympanometry (2017-2020)\n",
            "   [Found] Audiometry - Wideband Reflectance (2017-2018)\n",
            "   [Found] Audiometry - Wideband Reflectance (2017-2020)\n",
            "   [Found] Blood Pressure (2017-2018)\n",
            "   [Found] Blood Pressure - Oscillometric Measurement (2017-2020)\n",
            "   [Found] Blood Pressure - Oscillometric Measurements (2017-2018)\n",
            "   [Found] Body Measures (2017-2018)\n",
            "   [Found] Body Measures (2017-2020)\n",
            "   [Found] Dual-Energy X-ray Absorptiometry - Android/Gynoid Measurements (2017-2018)\n",
            "   [Found] Dual-Energy X-ray Absorptiometry - Femur (2017-2018)\n",
            "   [Found] Dual-Energy X-ray Absorptiometry - Femur (2017-2020)\n",
            "   [Found] Dual-Energy X-ray Absorptiometry - Spine (2017-2018)\n",
            "   [Found] Dual-Energy X-ray Absorptiometry - Spine (2017-2020)\n",
            "   [Found] Dual-Energy X-ray Absorptiometry - Whole Body (2017-2018)\n",
            "   [Found] Liver Ultrasound Transient Elastography (2017-2018)\n",
            "   [Found] Liver Ultrasound Transient Elastography (2017-2020)\n",
            "   [Found] Oral Health - Dentition (2017-2018)\n",
            "   [Found] Oral Health - Dentition (2017-2020)\n",
            "   [Found] Oral Health - Recommendation of Care (2017-2018)\n",
            "   [Found] Oral Health - Recommendation of Care (2017-2020)\n",
            "   [Found] Albumin & Creatinine - Urine (2017-2018)\n",
            "   [Found] Albumin & Creatinine - Urine (2017-2020)\n",
            "   [Found] Alpha-1-Acid Glycoprotein - Serum (Surplus) (2017-2018)\n",
            "   [Found] Alpha-1-Acid Glycoprotein - Serum (Surplus) (2017-2020)\n",
            "   [Found] Arsenic - Total - Urine (2017-2018)\n",
            "   [Found] Arsenic - Total - Urine (2017-2020)\n",
            "   [Found] Arsenics - Speciated - Urine (2017-2018)\n",
            "   [Found] Arsenics - Speciated - Urine (2017-2020)\n",
            "   [Found] Cholesterol - High - Density Lipoprotein (HDL) (2017-2018)\n",
            "   [Found] Cholesterol - High - Density Lipoprotein (HDL) (2017-2020)\n",
            "   [Found] Cholesterol - Low-Density Lipoproteins (LDL) & Triglycerides (2017-2018)\n",
            "   [Found] Cholesterol - Low-Density Lipoproteins (LDL) & Triglycerides (2017-2020)\n",
            "   [Found] Cholesterol - Total (2017-2018)\n",
            "   [Found] Cholesterol - Total (2017-2020)\n",
            "   [Found] Chromium - Urine (2017-2018)\n",
            "   [Found] Chromium - Urine (2017-2020)\n",
            "   [Found] Chromium & Cobalt (2017-2018)\n",
            "   [Found] Chromium & Cobalt (2017-2020)\n",
            "   [Found] Complete Blood Count with 5-Part Differential (2017-2018)\n",
            "   [Found] Complete Blood Count with 5-Part Differential in Whole Blood (2017-2020)\n",
            "   [Found] Cotinine and Hydroxycotinine - Serum (2017-2018)\n",
            "   [Found] Cotinine and Hydroxycotinine - Serum (2017-2020)\n",
            "   [Found] Cotinine, Hydroxycotinine, & Other Nicotine Metabolites and Analogs - Urine (2017-2018)\n",
            "   [Found] Cytomegalovirus IgG & IgM Antibodies - Serum (2017-2018)\n",
            "   [Found] Cytomegalovirus IgG & IgM Antibodies - Serum (2017-2020)\n",
            "   [Found] Enterovirus D68 (EV-D68) - Serum (Surplus) (2017-2018)\n",
            "   [Found] Ethylene Oxide (2017-2018)\n",
            "   [Found] Ethylene Oxide (2017-2020)\n",
            "   [Found] Fasting Questionnaire (2017-2018)\n",
            "   [Found] Fasting Questionnaire (2017-2020)\n",
            "   [Found] Ferritin (2017-2018)\n",
            "   [Found] Ferritin (2017-2020)\n",
            "   [Found] Flame Retardants - Urine (2017-2018)\n",
            "   [Found] Flame Retardants - Urine (2017-2020)\n",
            "   [Found] Flame Retardants - Urine (Surplus) (2017-2018)\n",
            "   [Found] Flame Retardants - Urine (Surplus) (2017-2020)\n",
            "   [Found] Folate - RBC (2017-2018)\n",
            "   [Found] Folate - RBC (2017-2020)\n",
            "   [Found] Folate Forms - Total & Individual - Serum (2017-2018)\n",
            "   [Found] Folate Forms - Total & Individual - Serum (2017-2020)\n",
            "   [Found] Glycohemoglobin (2017-2018)\n",
            "   [Found] Glycohemoglobin (2017-2020)\n",
            "   [Found] Glyphosate (GLYP) - Urine (Surplus) (2017-2018)\n",
            "   [Found] Hepatitis A (2017-2018)\n",
            "   [Found] Hepatitis A (2017-2020)\n",
            "   [Found] Hepatitis B Surface Antibody (2017-2020)\n",
            "   [Found] Hepatitis B: Core antibody, Surface antigen, and Hepatitis D antibody (2017-2018)\n",
            "   [Found] Hepatitis B: Core antibody, Surface antigen, and Hepatitis D antibody (2017-2020)\n",
            "   [Found] Hepatitis B: Surface Antibody (2017-2018)\n",
            "   [Found] Hepatitis C: RNA (HCV-RNA), Confirmed Antibody (INNO-LIA), & Genotype (2017-2018)\n",
            "   [Found] Hepatitis C: RNA (HCV-RNA), Confirmed Antibody (INNO-LIA), & Genotype (2017-2020)\n",
            "   [Found] Hepatitis E: IgG & IgM Antibodies (2017-2018)\n",
            "   [Found] Hepatitis E: IgG & IgM Antibodies (2017-2020)\n",
            "   [Found] High-Sensitivity C-Reactive Protein (2017-2018)\n",
            "   [Found] High-Sensitivity C-Reactive Protein (2017-2020)\n",
            "   [Found] HIV Antibody Test (2017-2018)\n",
            "   [Found] Inorganic, Ethyl and Methyl - Blood (2017-2020)\n",
            "   [Found] Insulin (2017-2018)\n",
            "   [Found] Insulin (2017-2020)\n",
            "   [Found] Iodine - Urine (2017-2018)\n",
            "   [Found] Iodine - Urine (2017-2020)\n",
            "   [Found] Iron Status - Serum (2017-2018)\n",
            "   [Found] Iron Status - Serum (2017-2020)\n",
            "   [Found] Lead, Cadmium, Total Mercury, Selenium, & Manganese - Blood (2017-2018)\n",
            "   [Found] Lead, Cadmium, Total Mercury, Selenium, & Manganese - Blood (2017-2020)\n",
            "   [Found] Mercury: Inorganic - Urine (2017-2018)\n",
            "   [Found] Mercury: Inorganic - Urine (2017-2020)\n",
            "   [Found] Mercury: Inorganic, Ethyl and Methyl - Blood (2017-2018)\n",
            "   [Found] Metals - Urine (2017-2018)\n",
            "   [Found] Metals - Urine (2017-2020)\n",
            "   [Found] Neonicotinoids - Urine (Surplus) (2017-2018)\n",
            "   [Found] Nickel - Urine (2017-2018)\n",
            "   [Found] Nickel - Urine (2017-2020)\n",
            "   [Found] Organophosphate Insecticides - Dialkyl Phosphate Metabolites - Urine (2017-2018)\n",
            "   [Found] Organophosphate Insecticides - Dialkyl Phosphate Metabolites - Urine (2017-2020)\n",
            "   [Found] Perchlorate, Nitrate & Thiocyanate - Urine (2017-2018)\n",
            "   [Found] Perchlorate, Nitrate & Thiocyanate - Urine (2017-2020)\n",
            "   [Found] Perfluoroalkyl and Polyfluoroalkyl Substances (2017-2018)\n",
            "   [Found] Perfluoroalkyl and Polyfluoroalkyl Substances (2017-2020)\n",
            "   [Found] Perfluoroalkyl and Polyfluoroalkyl Substances (Surplus) (2017-2018)\n",
            "   [Found] Phthalates and Plasticizers Metabolites - Urine (2017-2018)\n",
            "   [Found] Plasma Fasting Glucose (2017-2018)\n",
            "   [Found] Plasma Fasting Glucose (2017-2020)\n",
            "   [Found] Pyrethroids, Herbicides, & Organophosphorus Metabolites – Urine (2017-2018)\n",
            "   [Found] Sex Steroid Hormone Panel - Serum (2017-2020)\n",
            "   [Found] Sex Steroid Hormone Panel - Serum (Surplus) (2017-2018)\n",
            "   [Found] Standard Biochemistry Profile (2017-2018)\n",
            "   [Found] Standard Biochemistry Profile (2017-2020)\n",
            "   [Found] Transferrin Receptor (2017-2018)\n",
            "   [Found] Transferrin Receptor (2017-2020)\n",
            "   [Found] Urine Flow Rate (2017-2018)\n",
            "   [Found] Urine Flow Rate (2017-2020)\n",
            "   [Found] Urine Pregnancy Test (2017-2018)\n",
            "   [Found] Urine Pregnancy Test (2017-2020)\n",
            "   [Found] Vitamin A, Vitamin E & Carotenoids (2017-2018)\n",
            "   [Found] Vitamin C (2017-2018)\n",
            "   [Found] Vitamin D (2017-2018)\n",
            "   [Found] Volatile Organic Compound (VOC) Metabolites - Urine (2017-2018)\n",
            "   [Found] Volatile Organic Compound (VOC) Metabolites - Urine (2017-2020)\n",
            "   [Found] Volatile Organic Compound (VOC) Metabolites II - Urine (2017-2020)\n",
            "   [Found] Volatile Organic Compound (VOC) Metabolites II - Urine (Surplus) (2017-2018)\n",
            "   [Found] Volatile Organic Compounds and Trihalomethanes/MTBE - Blood (2017-2018)\n",
            "   [Found] Volatile Organic Compounds and Trihalomethanes/MTBE - Blood (2017-2020)\n",
            "   [Found] Acculturation (2017-2018)\n",
            "   [Found] Acculturation (2017-2020)\n",
            "   [Found] Alcohol Use (2017-2018)\n",
            "   [Found] Alcohol Use (2017-2020)\n",
            "   [Found] Audiometry (2017-2018)\n",
            "   [Found] Audiometry (2017-2020)\n",
            "   [Found] Blood Pressure & Cholesterol (2017-2018)\n",
            "   [Found] Blood Pressure & Cholesterol (2017-2020)\n",
            "   [Found] Cardiovascular Health (2017-2018)\n",
            "   [Found] Cardiovascular Health (2017-2020)\n",
            "   [Found] Consumer Behavior (2017-2018)\n",
            "   [Found] Consumer Behavior Phone Follow-up Module - Adult (2017-2018)\n",
            "   [Found] Consumer Behavior Phone Follow-up Module - Adult (2017-2020)\n",
            "   [Found] Consumer Behavior Phone Follow-up Module - Child (2017-2018)\n",
            "   [Found] Consumer Behavior Phone Follow-up Module – Child (2017-2020)\n",
            "   [Found] Current Health Status (2017-2018)\n",
            "   [Found] Current Health Status (2017-2020)\n",
            "   [Found] Dermatology (2017-2018)\n",
            "   [Found] Dermatology (2017-2020)\n",
            "   [Found] Diabetes (2017-2018)\n",
            "   [Found] Diabetes (2017-2020)\n",
            "   [Found] Diet Behavior & Nutrition (2017-2018)\n",
            "   [Found] Diet Behavior & Nutrition (2017-2020)\n",
            "   [Found] Disability (2017-2018)\n",
            "   [Found] Drug Use (2017-2018)\n",
            "   [Found] Early Childhood (2017-2018)\n",
            "   [Found] Early Childhood (2017-2020)\n",
            "   [Found] Food Security (2017-2018)\n",
            "   [Found] Food Security (2017-2020)\n",
            "   [Found] Health Insurance (2017-2018)\n",
            "   [Found] Health Insurance (2017-2020)\n",
            "   [Found] Hepatitis (2017-2018)\n",
            "   [Found] Hepatitis (2017-2020)\n",
            "   [Found] Hospital Utilization & Access to Care (2017-2018)\n",
            "   [Found] Hospital Utilization & Access to Care (2017-2020)\n",
            "   [Found] Housing Characteristics (2017-2018)\n",
            "   [Found] Immunization (2017-2018)\n",
            "   [Found] Immunization (2017-2020)\n",
            "   [Found] Income (2017-2018)\n",
            "   [Found] Income (2017-2020)\n",
            "   [Found] Kidney Conditions - Urology (2017-2018)\n",
            "   [Found] Kidney Conditions - Urology (2017-2020)\n",
            "   [Found] Medical Conditions (2017-2018)\n",
            "   [Found] Medical Conditions (2017-2020)\n",
            "   [Found] Mental Health - Depression Screener (2017-2018)\n",
            "   [Found] Mental Health - Depression Screener (2017-2020)\n",
            "   [Found] Occupation (2017-2018)\n",
            "   [Found] Occupation (2017-2020)\n",
            "   [Found] Oral Health (2017-2018)\n",
            "   [Found] Oral Health (2017-2020)\n",
            "   [Found] Osteoporosis (2017-2018)\n",
            "   [Found] Osteoporosis (2017-2020)\n",
            "   [Found] Pesticide Use (2017-2018)\n",
            "   [Found] Pesticide Use (2017-2020)\n",
            "   [Found] Physical Activity (2017-2018)\n",
            "   [Found] Physical Activity (2017-2020)\n",
            "   [Found] Physical Activity - Youth (2017-2018)\n",
            "   [Found] Physical Activity - Youth (2017-2020)\n",
            "   [Found] Physical Functioning (2017-2018)\n",
            "   [Found] Prescription Medications (2017-2018)\n",
            "   [Found] Prescription Medications (2017-2020)\n",
            "   [Found] Preventive Aspirin Use (2017-2018)\n",
            "   [Found] Preventive Aspirin Use (2017-2020)\n",
            "   [Found] Reproductive Health (2017-2018)\n",
            "   [Found] Reproductive Health (2017-2020)\n",
            "   [Found] Sleep Disorders (2017-2018)\n",
            "   [Found] Sleep Disorders (2017-2020)\n",
            "   [Found] Smoking - Cigarette Use (2017-2018)\n",
            "   [Found] Smoking - Cigarette Use (2017-2020)\n",
            "   [Found] Smoking - Household Smokers (2017-2018)\n",
            "   [Found] Smoking - Household Smokers (2017-2020)\n",
            "   [Found] Smoking - Recent Tobacco Use (2017-2018)\n",
            "   [Found] Smoking - Recent Tobacco Use (2017-2020)\n",
            "   [Found] Smoking - Secondhand Smoke Exposure (2017-2018)\n",
            "   [Found] Smoking - Secondhand Smoke Exposure (2017-2020)\n",
            "   [Found] Volatile Toxicant (2017-2018)\n",
            "   [Found] Volatile Toxicant (2017-2020)\n",
            "   [Found] Weight History (2017-2018)\n",
            "   [Found] Weight History (2017-2020)\n",
            "   [Found] Weight History - Youth (2017-2018)\n",
            "   [Found] Weight History - Youth (2017-2020)\n"
          ]
        },
        {
          "output_type": "stream",
          "name": "stderr",
          "text": [
            "\rCrawling NHANES cycles:  15%|█▌        | 2/13 [00:15<01:26,  7.82s/it]"
          ]
        },
        {
          "output_type": "stream",
          "name": "stdout",
          "text": [
            "\n",
            "🔹 Scanning cycle: NHANES 2019-2020\n"
          ]
        },
        {
          "output_type": "stream",
          "name": "stderr",
          "text": [
            "\rCrawling NHANES cycles:  23%|██▎       | 3/13 [00:24<01:23,  8.32s/it]"
          ]
        },
        {
          "output_type": "stream",
          "name": "stdout",
          "text": [
            "\n",
            "🔹 Scanning cycle: NHANES 2017-2018\n",
            "   [Found] Demographic Variables and Sample Weights (2017-2018)\n",
            "   [Added] Demographics dataset for NHANES 2017-2018\n",
            "   [Found] Dietary Interview - Individual Foods, First Day (2017-2018)\n",
            "   [Found] Dietary Interview - Individual Foods, Second Day (2017-2018)\n",
            "   [Found] Dietary Interview - Total Nutrient Intakes, First Day (2017-2018)\n",
            "   [Found] Dietary Interview - Total Nutrient Intakes, Second Day (2017-2018)\n",
            "   [Found] Dietary Interview Technical Support File - Food Codes (2017-2018)\n",
            "   [Found] Dietary Supplement Use 24-Hour - Individual Dietary Supplements, First Day (2017-2018)\n",
            "   [Found] Dietary Supplement Use 24-Hour - Individual Dietary Supplements, Second Day (2017-2018)\n",
            "   [Found] Dietary Supplement Use 24-Hour - Total Dietary Supplements, First Day (2017-2018)\n",
            "   [Found] Dietary Supplement Use 24-Hour - Total Dietary Supplements, Second Day (2017-2018)\n",
            "   [Found] Dietary Supplement Use 30-Day - Individual Dietary Supplements (2017-2018)\n",
            "   [Found] Dietary Supplement Use 30-Day - Total Dietary Supplements (2017-2018)\n",
            "   [Found] Audiometry (2017-2018)\n",
            "   [Found] Audiometry - Acoustic Reflex (2017-2018)\n",
            "   [Found] Audiometry - Tympanometry (2017-2018)\n",
            "   [Found] Audiometry - Wideband Reflectance (2017-2018)\n",
            "   [Found] Blood Pressure (2017-2018)\n",
            "   [Found] Blood Pressure - Oscillometric Measurements (2017-2018)\n",
            "   [Found] Body Measures (2017-2018)\n",
            "   [Found] Dual-Energy X-ray Absorptiometry - Android/Gynoid Measurements (2017-2018)\n",
            "   [Found] Dual-Energy X-ray Absorptiometry - Femur (2017-2018)\n",
            "   [Found] Dual-Energy X-ray Absorptiometry - Spine (2017-2018)\n",
            "   [Found] Dual-Energy X-ray Absorptiometry - Whole Body (2017-2018)\n",
            "   [Found] Liver Ultrasound Transient Elastography (2017-2018)\n",
            "   [Found] Oral Health - Dentition (2017-2018)\n",
            "   [Found] Oral Health - Recommendation of Care (2017-2018)\n",
            "   [Found] Albumin & Creatinine - Urine (2017-2018)\n",
            "   [Found] Alpha-1-Acid Glycoprotein - Serum (Surplus) (2017-2018)\n",
            "   [Found] Arsenic - Total - Urine (2017-2018)\n",
            "   [Found] Arsenics - Speciated - Urine (2017-2018)\n",
            "   [Found] Cholesterol - High - Density Lipoprotein (HDL) (2017-2018)\n",
            "   [Found] Cholesterol - Low-Density Lipoproteins (LDL) & Triglycerides (2017-2018)\n",
            "   [Found] Cholesterol - Total (2017-2018)\n",
            "   [Found] Chromium - Urine (2017-2018)\n",
            "   [Found] Chromium & Cobalt (2017-2018)\n",
            "   [Found] Complete Blood Count with 5-Part Differential (2017-2018)\n",
            "   [Found] Cotinine and Hydroxycotinine - Serum (2017-2018)\n",
            "   [Found] Cotinine, Hydroxycotinine, & Other Nicotine Metabolites and Analogs - Urine (2017-2018)\n",
            "   [Found] Cytomegalovirus IgG & IgM Antibodies - Serum (2017-2018)\n",
            "   [Found] Enterovirus D68 (EV-D68) - Serum (Surplus) (2017-2018)\n",
            "   [Found] Ethylene Oxide (2017-2018)\n",
            "   [Found] Fasting Questionnaire (2017-2018)\n",
            "   [Found] Ferritin (2017-2018)\n",
            "   [Found] Flame Retardants - Urine (2017-2018)\n",
            "   [Found] Flame Retardants - Urine (Surplus) (2017-2018)\n",
            "   [Found] Folate - RBC (2017-2018)\n",
            "   [Found] Folate Forms - Total & Individual - Serum (2017-2018)\n",
            "   [Found] Glycohemoglobin (2017-2018)\n",
            "   [Found] Glyphosate (GLYP) - Urine (Surplus) (2017-2018)\n",
            "   [Found] Hepatitis A (2017-2018)\n",
            "   [Found] Hepatitis B: Core antibody, Surface antigen, and Hepatitis D antibody (2017-2018)\n",
            "   [Found] Hepatitis B: Surface Antibody (2017-2018)\n",
            "   [Found] Hepatitis C: RNA (HCV-RNA), Confirmed Antibody (INNO-LIA), & Genotype (2017-2018)\n",
            "   [Found] Hepatitis E: IgG & IgM Antibodies (2017-2018)\n",
            "   [Found] High-Sensitivity C-Reactive Protein (2017-2018)\n",
            "   [Found] HIV Antibody Test (2017-2018)\n",
            "   [Found] Insulin (2017-2018)\n",
            "   [Found] Iodine - Urine (2017-2018)\n",
            "   [Found] Iron Status - Serum (2017-2018)\n",
            "   [Found] Lead, Cadmium, Total Mercury, Selenium, & Manganese - Blood (2017-2018)\n",
            "   [Found] Mercury: Inorganic - Urine (2017-2018)\n",
            "   [Found] Mercury: Inorganic, Ethyl and Methyl - Blood (2017-2018)\n",
            "   [Found] Metals - Urine (2017-2018)\n",
            "   [Found] Neonicotinoids - Urine (Surplus) (2017-2018)\n",
            "   [Found] Nickel - Urine (2017-2018)\n",
            "   [Found] Organophosphate Insecticides - Dialkyl Phosphate Metabolites - Urine (2017-2018)\n",
            "   [Found] Perchlorate, Nitrate & Thiocyanate - Urine (2017-2018)\n",
            "   [Found] Perfluoroalkyl and Polyfluoroalkyl Substances (2017-2018)\n",
            "   [Found] Perfluoroalkyl and Polyfluoroalkyl Substances (Surplus) (2017-2018)\n",
            "   [Found] Phthalates and Plasticizers Metabolites - Urine (2017-2018)\n",
            "   [Found] Plasma Fasting Glucose (2017-2018)\n",
            "   [Found] Pyrethroids, Herbicides, & Organophosphorus Metabolites – Urine (2017-2018)\n",
            "   [Found] Sex Steroid Hormone Panel - Serum (Surplus) (2017-2018)\n",
            "   [Found] Standard Biochemistry Profile (2017-2018)\n",
            "   [Found] Transferrin Receptor (2017-2018)\n",
            "   [Found] Urine Flow Rate (2017-2018)\n",
            "   [Found] Urine Pregnancy Test (2017-2018)\n",
            "   [Found] Vitamin A, Vitamin E & Carotenoids (2017-2018)\n",
            "   [Found] Vitamin C (2017-2018)\n",
            "   [Found] Vitamin D (2017-2018)\n",
            "   [Found] Volatile Organic Compound (VOC) Metabolites - Urine (2017-2018)\n",
            "   [Found] Volatile Organic Compound (VOC) Metabolites II - Urine (Surplus) (2017-2018)\n",
            "   [Found] Volatile Organic Compounds and Trihalomethanes/MTBE - Blood (2017-2018)\n",
            "   [Found] Acculturation (2017-2018)\n",
            "   [Found] Alcohol Use (2017-2018)\n",
            "   [Found] Audiometry (2017-2018)\n",
            "   [Found] Blood Pressure & Cholesterol (2017-2018)\n",
            "   [Found] Cardiovascular Health (2017-2018)\n",
            "   [Found] Consumer Behavior (2017-2018)\n",
            "   [Found] Consumer Behavior Phone Follow-up Module - Adult (2017-2018)\n",
            "   [Found] Consumer Behavior Phone Follow-up Module - Child (2017-2018)\n",
            "   [Found] Current Health Status (2017-2018)\n",
            "   [Found] Dermatology (2017-2018)\n",
            "   [Found] Diabetes (2017-2018)\n",
            "   [Found] Diet Behavior & Nutrition (2017-2018)\n",
            "   [Found] Disability (2017-2018)\n",
            "   [Found] Drug Use (2017-2018)\n",
            "   [Found] Early Childhood (2017-2018)\n",
            "   [Found] Food Security (2017-2018)\n",
            "   [Found] Health Insurance (2017-2018)\n",
            "   [Found] Hepatitis (2017-2018)\n",
            "   [Found] Hospital Utilization & Access to Care (2017-2018)\n",
            "   [Found] Housing Characteristics (2017-2018)\n",
            "   [Found] Immunization (2017-2018)\n",
            "   [Found] Income (2017-2018)\n",
            "   [Found] Kidney Conditions - Urology (2017-2018)\n",
            "   [Found] Medical Conditions (2017-2018)\n",
            "   [Found] Mental Health - Depression Screener (2017-2018)\n",
            "   [Found] Occupation (2017-2018)\n",
            "   [Found] Oral Health (2017-2018)\n",
            "   [Found] Osteoporosis (2017-2018)\n",
            "   [Found] Pesticide Use (2017-2018)\n",
            "   [Found] Physical Activity (2017-2018)\n",
            "   [Found] Physical Activity - Youth (2017-2018)\n",
            "   [Found] Physical Functioning (2017-2018)\n",
            "   [Found] Prescription Medications (2017-2018)\n",
            "   [Found] Preventive Aspirin Use (2017-2018)\n",
            "   [Found] Reproductive Health (2017-2018)\n",
            "   [Found] Sleep Disorders (2017-2018)\n",
            "   [Found] Smoking - Cigarette Use (2017-2018)\n",
            "   [Found] Smoking - Household Smokers (2017-2018)\n",
            "   [Found] Smoking - Recent Tobacco Use (2017-2018)\n",
            "   [Found] Smoking - Secondhand Smoke Exposure (2017-2018)\n",
            "   [Found] Volatile Toxicant (2017-2018)\n",
            "   [Found] Weight History (2017-2018)\n",
            "   [Found] Weight History - Youth (2017-2018)\n"
          ]
        },
        {
          "output_type": "stream",
          "name": "stderr",
          "text": [
            "\rCrawling NHANES cycles:  31%|███       | 4/13 [00:32<01:12,  8.05s/it]"
          ]
        },
        {
          "output_type": "stream",
          "name": "stdout",
          "text": [
            "\n",
            "🔹 Scanning cycle: NHANES 2015-2016\n",
            "   [Found] Demographic Variables and Sample Weights (2015-2016)\n",
            "   [Added] Demographics dataset for NHANES 2015-2016\n",
            "   [Found] Dietary Interview - Individual Foods, First Day (2015-2016)\n",
            "   [Found] Dietary Interview - Individual Foods, Second Day (2015-2016)\n",
            "   [Found] Dietary Interview - Total Nutrient Intakes, First Day (2015-2016)\n",
            "   [Found] Dietary Interview - Total Nutrient Intakes, Second Day (2015-2016)\n",
            "   [Found] Dietary Interview Technical Support File - Food Codes (2015-2016)\n",
            "   [Found] Dietary Supplement Use 24-Hour - Individual Dietary Supplements, First Day (2015-2016)\n",
            "   [Found] Dietary Supplement Use 24-Hour - Individual Dietary Supplements, Second Day (2015-2016)\n",
            "   [Found] Dietary Supplement Use 24-Hour - Total Dietary Supplements, First Day (2015-2016)\n",
            "   [Found] Dietary Supplement Use 24-Hour - Total Dietary Supplements, Second Day (2015-2016)\n",
            "   [Found] Dietary Supplement Use 30-Day - Individual Dietary Supplements (2015-2016)\n",
            "   [Found] Dietary Supplement Use 30-Day - Total Dietary Supplements (2015-2016)\n",
            "   [Found] Audiometry (2015-2016)\n",
            "   [Found] Audiometry - Acoustic Reflex (2015-2016)\n",
            "   [Found] Audiometry - Tympanometry (2015-2016)\n",
            "   [Found] Audiometry – Wideband Reflectance (2015-2016)\n",
            "   [Found] Blood Pressure (2015-2016)\n",
            "   [Found] Body Measures (2015-2016)\n",
            "   [Found] Dual-Energy X-ray Absorptiometry - Android/Gynoid Measurements (2015-2016)\n",
            "   [Found] Dual-Energy X-ray Absorptiometry - Whole Body (2015-2016)\n",
            "   [Found] Fluorosis - Clinical (2015-2016)\n",
            "   [Found] Oral Health - Dentition (2015-2016)\n",
            "   [Found] Oral Health - Recommendation of Care (2015-2016)\n",
            "   [Found] Acrylamide & Glycidamide (2015-2016)\n",
            "   [Found] Albumin & Creatinine - Urine (2015-2016)\n",
            "   [Found] Alpha-1-Acid Glycoprotein - Serum (Surplus) (2015-2016)\n",
            "   [Found] Apolipoprotein B (2015-2016)\n",
            "   [Found] Aromatic Diamines - Urine (2015-2016)\n",
            "   [Found] Arsenic - Total - Urine (2015-2016)\n",
            "   [Found] Arsenic - Total - Urine - Special Sample (2015-2016)\n",
            "   [Found] Brominated Flame Retardants (BFRs) - Pooled Samples (2015-2016)\n",
            "   [Found] Chlamydia - Urine (2015-2016)\n",
            "   [Found] Chlamydia Pgp3 (plasmid gene product 3) ELISA (enzyme linked immunosorbent assay) and multiplex bead array (MBA) results (2015-2016)\n",
            "   [Found] Chlorinated Tyrosine – Serum (Surplus) (2015-2016)\n",
            "   [Found] Cholesterol - High-Density Lipoprotein (HDL) (2015-2016)\n",
            "   [Found] Cholesterol - Low - Density Lipoprotein (LDL) & Triglycerides (2015-2016)\n",
            "   [Found] Cholesterol - Total (2015-2016)\n",
            "   [Found] Chromium & Cobalt (2015-2016)\n",
            "   [Found] Complete Blood Count with 5-Part Differential - Whole Blood (2015-2016)\n",
            "   [Found] Copper, Selenium & Zinc - Serum (2015-2016)\n",
            "   [Found] Cotinine and Hydroxycotinine - Serum (2015-2016)\n",
            "   [Found] Cotinine, Hydroxycotinine, & Other Nicotine Metabolites and Analogs - Urine (2015-2016)\n",
            "   [Found] Cotinine, Hydroxycotinine, & Other Nicotine Metabolites and Analogs - Urine - Special Sample (2015-2016)\n",
            "   [Found] DEET Metabolite - Urine (2015-2016)\n",
            "   [Found] DEET Metabolites - Urine - Surplus (2015-2016)\n",
            "   [Found] Enterovirus D68 (EV-D68) - Serum (Surplus) (2015-2016)\n",
            "   [Found] Ethylene Oxide (2015-2016)\n",
            "   [Found] Fasting Questionnaire (2015-2016)\n",
            "   [Found] Ferritin (2015-2016)\n",
            "   [Found] Flame Retardants - Urine (Surplus) (2015-2016)\n",
            "   [Found] Fluoride - Plasma (2015-2016)\n",
            "   [Found] Fluoride - Urine (2015-2016)\n",
            "   [Found] Fluoride - Water (2015-2016)\n",
            "   [Found] Folate - RBC (2015-2016)\n",
            "   [Found] Folate Forms - Total & Individual - Serum (2015-2016)\n",
            "   [Found] Formaldehyde (2015-2016)\n",
            "   [Found] Glycohemoglobin (2015-2016)\n",
            "   [Found] Glyphosate (GLYP) - Urine (Surplus) (2015-2016)\n",
            "   [Found] Hepatitis A (2015-2016)\n",
            "   [Found] Hepatitis B: Core antibody, Surface antigen, and Hepatitis D antibody (2015-2016)\n",
            "   [Found] Hepatitis B: Surface Antibody (2015-2016)\n",
            "   [Found] Hepatitis C: RNA (HCV-RNA) and Hepatitis C Genotype (2015-2016)\n",
            "   [Found] Hepatitis E: IgG & IgM Antibodies (2015-2016)\n",
            "   [Found] Herpes Simplex Virus Type-1 & Type-2 (2015-2016)\n",
            "   [Found] High-Sensitivity C-Reactive Protein (hs-CRP) (2015-2016)\n",
            "   [Found] HIV Antibody Test (2015-2016)\n",
            "   [Found] Human Papillomavirus (HPV) - Oral Rinse (2015-2016)\n",
            "   [Found] Human Papillomavirus (HPV) DNA - Penile Swabs: Roche Linear Array (2015-2016)\n",
            "   [Found] Human Papillomavirus (HPV) DNA - Vaginal Swab: Roche Cobas High-Risk (2015-2016)\n",
            "   [Found] Human Papillomavirus (HPV) DNA - Vaginal Swab: Roche Linear Array (2015-2016)\n",
            "   [Found] Insulin (2015-2016)\n",
            "   [Found] Iodine - Urine (2015-2016)\n",
            "   [Found] Klotho - Serum (Surplus) (2015-2016)\n",
            "   [Found] Lead, Cadmium, Total Mercury, Selenium & Manganese - Blood (2015-2016)\n",
            "   [Found] Mercury: Inorganic - Urine (2015-2016)\n",
            "   [Found] Mercury: Inorganic, Ethyl and Methyl - Blood (2015-2016)\n",
            "   [Found] Metals - Urine (2015-2016)\n",
            "   [Found] Metals - Urine - Special Sample (2015-2016)\n",
            "   [Found] Mono-2-ethyl-5-hydroxyhexyl terephthalate, mono-2-ethyl-5-carboxypentyl terephthalate, and monooxoisononyl phthalate - Urine (Surplus) (2015-2016)\n",
            "   [Found] Neonicotinoids - Urine - Surplus (2015-2016)\n",
            "   [Found] Non-dioxin-like Polychlorinated Biphenyls & Mono-ortho-substituted Polychlorinated Biphenyls - Pooled Samples (2015-2016)\n",
            "   [Found] Oral Glucose Tolerance Test (2015-2016)\n",
            "   [Found] Organophosphate Insecticides - Dialkyl Phosphate Metabolites - Urine (2015-2016)\n",
            "   [Found] Perchlorate, Nitrate & Thiocyanate - Urine (2015-2016)\n",
            "   [Found] Perchlorate, Nitrate & Thiocyanate - Urine - Special Sample (2015-2016)\n",
            "   [Found] Perfluoroalkyl and Polyfluoroalkyl (2015-2016)\n",
            "   [Found] Personal Care and Consumer Product Chemicals and Metabolites (2015-2016)\n",
            "   [Found] Pertussis and tetanus – Serum (Surplus) (2015-2016)\n",
            "   [Found] Pesticides - Organochlorine Pesticides - Pooled Samples (2015-2016)\n",
            "   [Found] Phthalates and Plasticizers Metabolites - Urine (2015-2016)\n",
            "   [Found] Plasma Fasting Glucose (2015-2016)\n",
            "   [Found] Polychlorinated dibenzo-p-dioxins (PCDDs), Dibenzofurans (PCDFs) & Coplanar Polychlorinated Biphenyls (cPCBs) - Pooled Samples (2015-2016)\n",
            "   [Found] Polycyclic Aromatic Hydrocarbons (PAH) - Urine (2015-2016)\n",
            "   [Found] Polycyclic Aromatic Hydrocarbons (PAH) - Urine - Special Sample (2015-2016)\n",
            "   [Found] Pooled-Sample Technical Support File (2015-2016)\n",
            "   [Found] Pregnancy Test - Urine (2015-2016)\n",
            "   [Found] Pyrethroids, Herbicides, & Organophosphorus Metabolites - Urine (2015-2016)\n",
            "   [Found] Sex Steroid Hormone - Serum (2015-2016)\n",
            "   [Found] Speciated Arsenics - Urine (2015-2016)\n",
            "   [Found] Speciated Arsenics - Urine - Special Sample (2015-2016)\n",
            "   [Found] Standard Biochemistry Profile (2015-2016)\n",
            "   [Found] Transferrin Receptor (2015-2016)\n",
            "   [Found] Trichomonas - Urine (2015-2016)\n",
            "   [Found] Urine Flow Rate (2015-2016)\n",
            "   [Found] Vitamin D (2015-2016)\n",
            "   [Found] Volatile Organic Compound (VOC) Metabolites - Urine (2015-2016)\n",
            "   [Found] Volatile Organic Compound (VOC) Metabolites - Urine - Special Sample (2015-2016)\n",
            "   [Found] Volatile Organic Compounds and Trihalomethanes/MTBE - Blood (2015-2016)\n",
            "   [Found] Volatile Organic Compounds and Trihalomethanes/MTBE – Blood – Special Sample (2015-2016)\n",
            "   [Found] Acculturation (2015-2016)\n",
            "   [Found] Alcohol Use (2015-2016)\n",
            "   [Found] Audiometry (2015-2016)\n",
            "   [Found] Blood Pressure & Cholesterol (2015-2016)\n",
            "   [Found] Cardiovascular Health (2015-2016)\n",
            "   [Found] Consumer Behavior (2015-2016)\n",
            "   [Found] Current Health Status (2015-2016)\n",
            "   [Found] Dermatology (2015-2016)\n",
            "   [Found] Diabetes (2015-2016)\n",
            "   [Found] Diet Behavior & Nutrition (2015-2016)\n",
            "   [Found] Disability (2015-2016)\n",
            "   [Found] Drug Use (2015-2016)\n",
            "   [Found] Early Childhood (2015-2016)\n",
            "   [Found] Food Security (2015-2016)\n",
            "   [Found] Health Insurance (2015-2016)\n",
            "   [Found] Hepatitis (2015-2016)\n",
            "   [Found] Hospital Utilization & Access to Care (2015-2016)\n",
            "   [Found] Housing Characteristics (2015-2016)\n",
            "   [Found] Immunization (2015-2016)\n",
            "   [Found] Income (2015-2016)\n",
            "   [Found] Kidney Conditions - Urology (2015-2016)\n",
            "   [Found] Medical Conditions (2015-2016)\n",
            "   [Found] Mental Health - Depression Screener (2015-2016)\n",
            "   [Found] Occupation (2015-2016)\n",
            "   [Found] Oral Health (2015-2016)\n",
            "   [Found] Pesticide Use (2015-2016)\n",
            "   [Found] Physical Activity (2015-2016)\n",
            "   [Found] Physical Functioning (2015-2016)\n",
            "   [Found] Prescription Medications (2015-2016)\n",
            "   [Found] Preventive Aspirin Use (2015-2016)\n",
            "   [Found] Reproductive Health (2015-2016)\n",
            "   [Found] Sexual Behavior (2015-2016)\n",
            "   [Found] Sleep Disorders (2015-2016)\n",
            "   [Found] Smoking - Cigarette Use (2015-2016)\n",
            "   [Found] Smoking - Household Smokers (2015-2016)\n",
            "   [Found] Smoking - Recent Tobacco Use (2015-2016)\n",
            "   [Found] Smoking - Secondhand Smoke Exposure (2015-2016)\n",
            "   [Found] Volatile Toxicant (2015-2016)\n",
            "   [Found] Weight History (2015-2016)\n",
            "   [Found] Weight History - Youth (2015-2016)\n"
          ]
        },
        {
          "output_type": "stream",
          "name": "stderr",
          "text": [
            "\rCrawling NHANES cycles:  38%|███▊      | 5/13 [00:40<01:05,  8.23s/it]"
          ]
        },
        {
          "output_type": "stream",
          "name": "stdout",
          "text": [
            "\n",
            "🔹 Scanning cycle: NHANES 2013-2014\n",
            "   [Found] Demographic Variables and Sample Weights (2013-2014)\n",
            "   [Added] Demographics dataset for NHANES 2013-2014\n",
            "   [Found] Dietary Interview - Individual Foods, First Day (2013-2014)\n",
            "   [Found] Dietary Interview - Individual Foods, Second Day (2013-2014)\n",
            "   [Found] Dietary Interview - Total Nutrient Intakes, First Day (2013-2014)\n",
            "   [Found] Dietary Interview - Total Nutrient Intakes, Second Day (2013-2014)\n",
            "   [Found] Dietary Interview Technical Support File - Food Codes (2013-2014)\n",
            "   [Found] Dietary Supplement Use 24-Hour - Individual Dietary Supplements, First Day (2013-2014)\n",
            "   [Found] Dietary Supplement Use 24-Hour - Individual Dietary Supplements, Second Day (2013-2014)\n",
            "   [Found] Dietary Supplement Use 24-Hour - Total Dietary Supplements, First Day (2013-2014)\n",
            "   [Found] Dietary Supplement Use 24-Hour - Total Dietary Supplements, Second Day (2013-2014)\n",
            "   [Found] Dietary Supplement Use 30-Day - Individual Dietary Supplements (2013-2014)\n",
            "   [Found] Dietary Supplement Use 30-Day - Total Dietary Supplements (2013-2014)\n",
            "   [Found] Blood Pressure (2013-2014)\n",
            "   [Found] Body Measures (2013-2014)\n",
            "   [Found] Dual-Energy X-ray Absorptiometry - Abdominal Aortic Calcification (2013-2014)\n",
            "   [Found] Dual-Energy X-ray Absorptiometry - Android/Gynoid Measurements (2013-2014)\n",
            "   [Found] Dual-Energy X-ray Absorptiometry - Femur (2013-2014)\n",
            "   [Found] Dual-Energy X-ray Absorptiometry - FRAX Score (2013-2014)\n",
            "   [Found] Dual-Energy X-ray Absorptiometry - L1 Vertebrae Morphology (2013-2014)\n",
            "   [Found] Dual-Energy X-ray Absorptiometry - L2 Vertebrae Morphology (2013-2014)\n",
            "   [Found] Dual-Energy X-ray Absorptiometry - L3 Vertebrae Morphology (2013-2014)\n",
            "   [Found] Dual-Energy X-ray Absorptiometry - L4 Vertebrae Morphology (2013-2014)\n",
            "   [Found] Dual-Energy X-ray Absorptiometry - Spine (2013-2014)\n",
            "   [Found] Dual-Energy X-ray Absorptiometry - T10 Vertebrae Morphology (2013-2014)\n",
            "   [Found] Dual-Energy X-ray Absorptiometry - T11 Vertebrae Morphology (2013-2014)\n",
            "   [Found] Dual-Energy X-ray Absorptiometry - T12 Vertebrae Morphology (2013-2014)\n",
            "   [Found] Dual-Energy X-ray Absorptiometry - T4 Vertebrae Morphology (2013-2014)\n",
            "   [Found] Dual-Energy X-ray Absorptiometry - T5 Vertebrae Morphology (2013-2014)\n",
            "   [Found] Dual-Energy X-ray Absorptiometry - T6 Vertebrae Morphology (2013-2014)\n",
            "   [Found] Dual-Energy X-ray Absorptiometry - T7 Vertebrae Morphology (2013-2014)\n",
            "   [Found] Dual-Energy X-ray Absorptiometry - T8 Vertebrae Morphology (2013-2014)\n",
            "   [Found] Dual-Energy X-ray Absorptiometry - T9 Vertebrae Morphology (2013-2014)\n",
            "   [Found] Dual-Energy X-ray Absorptiometry - Vertebral Fracture Assessment (2013-2014)\n",
            "   [Found] Dual-Energy X-ray Absorptiometry - Whole Body (2013-2014)\n",
            "   [Found] Fluorosis - Clinical (2013-2014)\n",
            "   [Found] Muscle Strength - Grip Test (2013-2014)\n",
            "   [Found] Oral Health - Dentition (2013-2014)\n",
            "   [Found] Oral Health - Periodontal (2013-2014)\n",
            "   [Found] Oral Health - Recommendation of Care (2013-2014)\n",
            "   [Found] Physical Activity Monitor - Ambient Light Raw Data (2013-2014)\n",
            "   [Found] Physical Activity Monitor - Day (2013-2014)\n",
            "   [Found] Physical Activity Monitor - Header (2013-2014)\n",
            "   [Found] Physical Activity Monitor - Hour (2013-2014)\n",
            "   [Found] Physical Activity Monitor - Minute (2013-2014)\n",
            "   [Found] Physical Activity Monitor - Raw Data 80hz (2013-2014)\n",
            "   [Found] Taste & Smell (2013-2014)\n",
            "   [Found] Acrylamide & Glycidamide (2013-2014)\n",
            "   [Found] Acrylamide & Glycidamide - Special Sample (2013-2014)\n",
            "   [Found] Albumin & Creatinine - Urine (2013-2014)\n",
            "   [Found] Aldehydes - Serum (2013-2014)\n",
            "   [Found] Aldehydes - Serum - Special Sample (2013-2014)\n",
            "   [Found] Antibody to Toxocara spp. (Surplus) (2013-2014)\n",
            "   [Found] Apolipoprotein B (2013-2014)\n",
            "   [Found] Aromatic Amines - Urine (2013-2014)\n",
            "   [Found] Aromatic Amines - Urine - Special Sample (2013-2014)\n",
            "   [Found] Arsenic - Total - Urine (2013-2014)\n",
            "   [Found] Arsenic - Total - Urine - Special Sample (2013-2014)\n",
            "   [Found] Arsenics - Speciated - Urine (2013-2014)\n",
            "   [Found] Arsenics - Speciated - Urine - Special Sample (2013-2014)\n",
            "   [Found] Brominated Flame Retardants (BFRs) - Pooled Samples (2013-2014)\n",
            "   [Found] Caffeine & Caffeine Metabolites - Urine (2013-2014)\n",
            "   [Found] Chlamydia - Urine (2013-2014)\n",
            "   [Found] Chlamydia Pgp3 (plasmid gene product 3) ELISA (enzyme linked immunosorbent assay) and multiplex bead array (MBA) results (2013-2014)\n",
            "   [Found] Cholesterol - HDL (2013-2014)\n",
            "   [Found] Cholesterol - LDL & Triglycerides (2013-2014)\n",
            "   [Found] Cholesterol - Total (2013-2014)\n",
            "   [Found] Complete Blood Count with 5-part Differential - Whole Blood (2013-2014)\n",
            "   [Found] Copper, Selenium & Zinc - Serum (2013-2014)\n",
            "   [Found] Cotinine and Hydroxycotinine - Serum (2013-2014)\n",
            "   [Found] Cotinine, Hydroxycotinine, & Other Nicotine Metabolites and Analogs - Urine (2013-2014)\n",
            "   [Found] Cotinine, Hydroxycotinine, & Other Nicotine Metabolites and Analogs - Urine - Special Sample (2013-2014)\n",
            "   [Found] DEET and Metabolites (2013-2014)\n",
            "   [Found] Enterovirus D68 (EV-D68) - Serum (Surplus) (2013-2014)\n",
            "   [Found] Ethylene Oxide (2013-2014)\n",
            "   [Found] Ethylene Oxide - Special Sample (2013-2014)\n",
            "   [Found] Fasting Questionnaire (2013-2014)\n",
            "   [Found] Fatty Acids - Serum (2013-2014)\n",
            "   [Found] Flame Retardant Metabolites - Urine (Surplus) (2013-2014)\n",
            "   [Found] Fluoride - Plasma (2013-2014)\n",
            "   [Found] Fluoride - Water (2013-2014)\n",
            "   [Found] Folate - RBC (2013-2014)\n",
            "   [Found] Folate Forms - Total & Individual - Serum (2013-2014)\n",
            "   [Found] Formaldehyde (2013-2014)\n",
            "   [Found] Formaldehyde - Special Sample (2013-2014)\n",
            "   [Found] Glycohemoglobin (2013-2014)\n",
            "   [Found] Glyphosate (GLYP) - Urine (2013-2014)\n",
            "   [Found] Hepatitis A (2013-2014)\n",
            "   [Found] Hepatitis B: core antibody, surface antigen, and Hepatitis D antibody (2013-2014)\n",
            "   [Found] Hepatitis B: Surface Antibody (2013-2014)\n",
            "   [Found] Hepatitis C: Confirmed Antibody (INNO-LIA) (2013-2014)\n",
            "   [Found] Hepatitis C: RNA (HCV-RNA) and Hepatitis C Genotype (2013-2014)\n",
            "   [Found] Hepatitis E: IgG & IgM Antibodies (2013-2014)\n",
            "   [Found] Herpes Simplex Virus Type-1 & Type-2 (2013-2014)\n",
            "   [Found] Heterocyclic Aromatic Amines - Urine (2013-2014)\n",
            "   [Found] Heterocyclic Aromatic Amines (HCAA) - Urine - Special Sample (2013-2014)\n",
            "   [Found] HIV Antibody Test (2013-2014)\n",
            "   [Found] Human Papillomavirus (HPV) - Oral Rinse (2013-2014)\n",
            "   [Found] Human Papillomavirus (HPV) DNA - Vaginal Swab: Roche Cobas & Roche Linear Array (2013-2014)\n",
            "   [Found] Human Papillomavirus (HPV) DNA Results from Penile Swab Samples: Roche Linear Array (2013-2014)\n",
            "   [Found] Insulin (2013-2014)\n",
            "   [Found] Iodine - Urine (2013-2014)\n",
            "   [Found] Klotho - Serum (Surplus) (2013-2014)\n",
            "   [Found] Lead, Cadmium, Total Mercury, Selenium, and Manganese - Blood (2013-2014)\n",
            "   [Found] Mercury: Inorganic - Urine (2013-2014)\n",
            "   [Found] Mercury: Inorganic, Ethyl and Methyl - Blood (2013-2014)\n",
            "   [Found] Metals - Urine (2013-2014)\n",
            "   [Found] Metals - Urine - Special Sample (2013-2014)\n",
            "   [Found] Methylmalonic Acid (2013-2014)\n",
            "   [Found] Non-dioxin-like Polychlorinated Biphenyls & Mono-ortho-substituted Polychlorinated Biphenyls - Serum - Pooled Samples (2013-2014)\n",
            "   [Found] Oral Glucose Tolerance Test (2013-2014)\n",
            "   [Found] Perchlorate, Nitrate & Thiocyanate - Urine (2013-2014)\n",
            "   [Found] Perchlorate, Nitrate & Thiocyanate - Urine - Special Sample (2013-2014)\n",
            "   [Found] Perfluoroalkyl and Polyfluoroalkyl Substances (2013-2014)\n",
            "   [Found] Perfluoroalkyl and Polyfluoroalkyl Substances - Linear and Branched PFOS and PFOA Isomers (Surplus) (2013-2014)\n",
            "   [Found] Perfluoroalkyl and Polyfluoroalkyl Substances (formerly Polyfluoroalkyl Chemicals - PFC) (2013-2014)\n",
            "   [Found] Perfluoroalkyl and Polyfluoroalkyl Substances in US children 3-11 Years of Age (2013-2014)\n",
            "   [Found] Personal Care and Consumer Product Chemicals and Metabolites (2013-2014)\n",
            "   [Found] Pesticides - Organochlorine Pesticides - Pooled Samples (2013-2014)\n",
            "   [Found] Phthalates and Plasticizers Metabolites - Urine (2013-2014)\n",
            "   [Found] Phthalates and Plasticizers Metabolites - Urine (Surplus) (2013-2014)\n",
            "   [Found] Plasma Fasting Glucose (2013-2014)\n",
            "   [Found] Polychlorinated dibenzo-p-dioxins (PCDDs), Dibenzofurans (PCDFs) & Coplanar Polychlorinated Biphenyls (cPCBs) - Pooled Samples (2013-2014)\n",
            "   [Found] Polycyclic Aromatic Hydrocarbons (PAH) - Urine (2013-2014)\n",
            "   [Found] Polycyclic Aromatic Hydrocarbons (PAH) - Urine - Special Sample (2013-2014)\n",
            "   [Found] Pooled-Sample Technical Support File (2013-2014)\n",
            "   [Found] Pregnancy Test - Urine (2013-2014)\n",
            "   [Found] Pyrethroids, Herbicides, & Organophosphorus Metabolites - Urine (2013-2014)\n",
            "   [Found] Serum Neurofilament Light Chain - Serum (2013-2014)\n",
            "   [Found] Sex Steroid Hormone - Serum (2013-2014)\n",
            "   [Found] Standard Biochemistry Profile (2013-2014)\n",
            "   [Found] Terpenes – Serum (Surplus) (2013-2014)\n",
            "   [Found] Tissue Transglutaminase Assay (IgA-TTG) & IgA Endomyseal Antibody Assay (IgA EMA) (2013-2014)\n",
            "   [Found] Tobacco-specific Nitrosamines (TSNAs) - Urine (2013-2014)\n",
            "   [Found] Toxoplasma gondii Antibody - Serum (Surplus) (2013-2014)\n",
            "   [Found] Trichomonas - Urine (2013-2014)\n",
            "   [Found] Urine Flow Rate (2013-2014)\n",
            "   [Found] Vitamin B12 (2013-2014)\n",
            "   [Found] Vitamin D (2013-2014)\n",
            "   [Found] Volatile N-Nitrosamine Compounds (VNAs) - Urine (2013-2014)\n",
            "   [Found] Volatile N-Nitrosamine Compounds (VNAs) - Urine - Special Sample (2013-2014)\n",
            "   [Found] Volatile Organic Compound (VOC) Metabolites - Urine (2013-2014)\n",
            "   [Found] Volatile Organic Compound (VOC) Metabolites - Urine - Special Sample (2013-2014)\n",
            "   [Found] Volatile Organic Compounds (VOCs) and Trihalomethanes/MTBE - Blood - Special Sample (2013-2014)\n",
            "   [Found] Volatile Organic Compounds and Trihalomethanes/MTBE - Blood (2013-2014)\n",
            "   [Found] Acculturation (2013-2014)\n",
            "   [Found] Alcohol Use (2013-2014)\n",
            "   [Found] Blood Pressure & Cholesterol (2013-2014)\n",
            "   [Found] Cardiovascular Health (2013-2014)\n",
            "   [Found] Cognitive Functioning (2013-2014)\n",
            "   [Found] Consumer Behavior (2013-2014)\n",
            "   [Found] Creatine Kinase (2013-2014)\n",
            "   [Found] Current Health Status (2013-2014)\n",
            "   [Found] Dermatology (2013-2014)\n",
            "   [Found] Diabetes (2013-2014)\n",
            "   [Found] Diet Behavior & Nutrition (2013-2014)\n",
            "   [Found] Disability (2013-2014)\n",
            "   [Found] Drug Use (2013-2014)\n",
            "   [Found] Early Childhood (2013-2014)\n",
            "   [Found] Food Security (2013-2014)\n",
            "   [Found] Health Insurance (2013-2014)\n",
            "   [Found] Hepatitis (2013-2014)\n",
            "   [Found] Hospital Utilization & Access to Care (2013-2014)\n",
            "   [Found] Housing Characteristics (2013-2014)\n",
            "   [Found] Immunization (2013-2014)\n",
            "   [Found] Income (2013-2014)\n",
            "   [Found] Kidney Conditions - Urology (2013-2014)\n",
            "   [Found] Medical Conditions (2013-2014)\n",
            "   [Found] Mental Health - Depression Screener (2013-2014)\n",
            "   [Found] Occupation (2013-2014)\n",
            "   [Found] Oral Health (2013-2014)\n",
            "   [Found] Osteoporosis (2013-2014)\n",
            "   [Found] Pesticide Use (2013-2014)\n",
            "   [Found] Physical Activity (2013-2014)\n",
            "   [Found] Physical Functioning (2013-2014)\n",
            "   [Found] Prescription Medications (2013-2014)\n",
            "   [Found] Preventive Aspirin Use (2013-2014)\n",
            "   [Found] Reproductive Health (2013-2014)\n",
            "   [Found] Sexual Behavior (2013-2014)\n",
            "   [Found] Sleep Disorders (2013-2014)\n",
            "   [Found] Smoking - Cigarette Use (2013-2014)\n",
            "   [Found] Smoking - Household Smokers (2013-2014)\n",
            "   [Found] Smoking - Recent Tobacco Use (2013-2014)\n",
            "   [Found] Smoking - Secondhand Smoke Exposure (2013-2014)\n",
            "   [Found] Taste & Smell (2013-2014)\n",
            "   [Found] Volatile Toxicant (2013-2014)\n",
            "   [Found] Weight History (2013-2014)\n",
            "   [Found] Weight History - Youth (2013-2014)\n"
          ]
        },
        {
          "output_type": "stream",
          "name": "stderr",
          "text": [
            "\rCrawling NHANES cycles:  46%|████▌     | 6/13 [00:49<00:58,  8.32s/it]"
          ]
        },
        {
          "output_type": "stream",
          "name": "stdout",
          "text": [
            "\n",
            "🔹 Scanning cycle: NHANES 2011-2012\n",
            "   [Found] Demographic Variables & Sample Weights (2011-2012)\n",
            "   [Added] Demographics dataset for NHANES 2011-2012\n",
            "   [Found] Dietary Interview - Individual Foods, First Day (2011-2012)\n",
            "   [Found] Dietary Interview - Individual Foods, Second Day (2011-2012)\n",
            "   [Found] Dietary Interview - Total Nutrient Intakes, First Day (2011-2012)\n",
            "   [Found] Dietary Interview - Total Nutrient Intakes, Second Day (2011-2012)\n",
            "   [Found] Dietary Interview Technical Support File - Food Codes (2011-2012)\n",
            "   [Found] Dietary Interview Technical Support File - Modification Codes (2011-2012)\n",
            "   [Found] Dietary Supplement Use 24-Hour - Individual Dietary Supplements, First Day (2011-2012)\n",
            "   [Found] Dietary Supplement Use 24-Hour - Individual Dietary Supplements, Second Day (2011-2012)\n",
            "   [Found] Dietary Supplement Use 24-Hour - Total Dietary Supplements, First Day (2011-2012)\n",
            "   [Found] Dietary Supplement Use 24-Hour - Total Dietary Supplements, Second Day (2011-2012)\n",
            "   [Found] Dietary Supplement Use 30 Day - Individual Dietary Supplements (2011-2012)\n",
            "   [Found] Dietary Supplement Use 30-Day - Total Dietary Supplements (2011-2012)\n",
            "   [Found] Audiometry (2011-2012)\n",
            "   [Found] Audiometry - Acoustic Reflex (2011-2012)\n",
            "   [Found] Audiometry - Tympanometry (2011-2012)\n",
            "   [Found] Blood Pressure (2011-2012)\n",
            "   [Found] Body Measures (2011-2012)\n",
            "   [Found] Dual-Energy X-ray Absorptiometry - Android/Gynoid Measurements (2011-2012)\n",
            "   [Found] Dual-Energy X-ray Absorptiometry - Whole Body (2011-2012)\n",
            "   [Found] Exhaled Nitric Oxide (2011-2012)\n",
            "   [Found] Fluorosis - Clinical (2011-2012)\n",
            "   [Found] Muscle Strength - Grip Test (2011-2012)\n",
            "   [Found] Oral Health - Dentition (2011-2012)\n",
            "   [Found] Oral Health - Periodontal (2011-2012)\n",
            "   [Found] Oral Health - Recommendation of Care (2011-2012)\n",
            "   [Found] Physical Activity Monitor - Ambient Light Raw Data (2011-2012)\n",
            "   [Found] Physical Activity Monitor - Day (2011-2012)\n",
            "   [Found] Physical Activity Monitor - Header (2011-2012)\n",
            "   [Found] Physical Activity Monitor - Hour (2011-2012)\n",
            "   [Found] Physical Activity Monitor - Minute (2011-2012)\n",
            "   [Found] Physical Activity Monitor - Raw Data 80hz (2011-2012)\n",
            "   [Found] Spirometry - Pre and Post-Bronchodilator (2011-2012)\n",
            "   [Found] Spirometry - Raw Curve Data (2011-2012)\n",
            "   [Found] Tuberculosis (2011-2012)\n",
            "   [Found] Albumin & Creatinine - Urine (2011-2012)\n",
            "   [Found] Antibody to Toxocara spp. (Surplus) (2011-2012)\n",
            "   [Found] Apolipoprotein B (2011-2012)\n",
            "   [Found] Arsenics - Total & Speciated - Urine (2011-2012)\n",
            "   [Found] Arsenics - Total & Speciated - Urine - Special Sample (2011-2012)\n",
            "   [Found] Autoantibodies - Anti-DFS70 Autoantibody Analyses (Surplus) (2011-2012)\n",
            "   [Found] Autoantibodies - Immunofluorescence Analyses (Surplus) (2011-2012)\n",
            "   [Found] Brominated Flame Retardants (BFRs) - Pooled Samples (2011-2012)\n",
            "   [Found] Cadmium, Lead, Total Mercury, Selenium, & Manganese - Blood (2011-2012)\n",
            "   [Found] Caffeine & Caffeine Metabolites - Urine (2011-2012)\n",
            "   [Found] Chlamydia - Urine (2011-2012)\n",
            "   [Found] Cholesterol - HDL (2011-2012)\n",
            "   [Found] Cholesterol - LDL & Triglycerides (2011-2012)\n",
            "   [Found] Cholesterol - Total (2011-2012)\n",
            "   [Found] Complete Blood Count with 5-part Differential - Whole Blood (2011-2012)\n",
            "   [Found] Copper, Selenium & Zinc - Serum (2011-2012)\n",
            "   [Found] Cotinine - Serum & Total NNAL - Urine (2011-2012)\n",
            "   [Found] Cytomegalovirus IgG & IgM Antibodies - Serum (2011-2012)\n",
            "   [Found] DEET and Metabolites (2011-2012)\n",
            "   [Found] Enterovirus D68 (EV-D68) - Serum (Surplus) (2011-2012)\n",
            "   [Found] Environmental Phenols & Parabens (2011-2012)\n",
            "   [Found] Fasting Questionnaire (2011-2012)\n",
            "   [Found] Fatty Acids - Serum (2011-2012)\n",
            "   [Found] Flame Retardants - Urine  (Surplus) (2011-2012)\n",
            "   [Found] Folate - RBC (2011-2012)\n",
            "   [Found] Folate Forms - Total & Individual - Serum (2011-2012)\n",
            "   [Found] Glycohemoglobin (2011-2012)\n",
            "   [Found] Hepatitis A Antibody (2011-2012)\n",
            "   [Found] Hepatitis B Surface Antibody (2011-2012)\n",
            "   [Found] Hepatitis B: Core Antibody, Surface Antigen; Hepatitis D Antibody (2011-2012)\n",
            "   [Found] Hepatitis C: Confirmed Antibody, RNA (HCV-RNA), & Genotype (2011-2012)\n",
            "   [Found] Hepatitis E : IgG & IgM Antibodies (2011-2012)\n",
            "   [Found] Herpes Simplex Virus Type-1 & Type-2 (2011-2012)\n",
            "   [Found] HIV Antibody Test (2011-2012)\n",
            "   [Found] Human Papillomavirus (HPV) - Oral Rinse (2011-2012)\n",
            "   [Found] Human Papillomavirus (HPV) DNA - Vaginal Swab: Digene Hybrid Capture & Roche Linear Array (2011-2012)\n",
            "   [Found] Iodine - Urine (2011-2012)\n",
            "   [Found] Klotho - Serum (Surplus) (2011-2012)\n",
            "   [Found] Mercury: Inorganic - Urine (2011-2012)\n",
            "   [Found] Mercury: Inorganic, Ethyl and Methyl - Blood (2011-2012)\n",
            "   [Found] Metals - Urine (2011-2012)\n",
            "   [Found] Metals - Urine - Special Sample (2011-2012)\n",
            "   [Found] Methylmalonic Acid (2011-2012)\n",
            "   [Found] Non-dioxin-like Polychlorinated Biphenyls & Mono-ortho-substituted Polychlorinated Biphenyls - Pooled Samples (2011-2012)\n",
            "   [Found] Oral Glucose Tolerance Test (2011-2012)\n",
            "   [Found] Organophosphate Insecticides - Dialkyl Phosphate Metabolites - Urine (2011-2012)\n",
            "   [Found] Osmolality - Urine (2011-2012)\n",
            "   [Found] Perchlorate, Nitrate & Thiocyanate - Urine (2011-2012)\n",
            "   [Found] Perchlorate, Nitrate & Thiocyanate - Urine - Special Sample (2011-2012)\n",
            "   [Found] Pesticides - Environmental - Urine (2011-2012)\n",
            "   [Found] Pesticides - Organochlorine Pesticides - Pooled Samples (2011-2012)\n",
            "   [Found] Phthalates & Plasticizers Metabolites - Urine (2011-2012)\n",
            "   [Found] Plasma Fasting Glucose & Insulin (2011-2012)\n",
            "   [Found] Polyaromatic Hydrocarbons (PAHs) - Urine (2011-2012)\n",
            "   [Found] Polyaromatic Hydrocarbons (PAHs)- Urine - Special Sample (2011-2012)\n",
            "   [Found] Polychlorinated dibenzo-p-dioxins (PCDDs), Dibenzofurans (PCDFs) & Coplanar Polychlorinated Biphenyls (cPCBs) - Pooled Samples (2011-2012)\n",
            "   [Found] Polyfluoroalkyl Chemicals (2011-2012)\n",
            "   [Found] Pooled-Sample Technical Support File (2011-2012)\n",
            "   [Found] Pregnancy Test - Urine (2011-2012)\n",
            "   [Found] Pyrethroids, Herbicides, & Organophosphorus Metabolites - Urine (2011-2012)\n",
            "   [Found] Standard Biochemistry Profile (2011-2012)\n",
            "   [Found] Thyroid Profile (2011-2012)\n",
            "   [Found] Tissue Transglutaminase Assay (IgA-TTG) & IgA Endomyseal Antibody Assay (IgA EMA) (2011-2012)\n",
            "   [Found] Total Testosterone (2011-2012)\n",
            "   [Found] Toxoplasma gondii Antibody - Serum (Surplus) (2011-2012)\n",
            "   [Found] Tuberculosis - Quantiferon_In_Gold (2011-2012)\n",
            "   [Found] Urine Flow Rate (2011-2012)\n",
            "   [Found] Vitamin B12 (2011-2012)\n",
            "   [Found] Vitamin D (2011-2012)\n",
            "   [Found] Volatile Organic Compound (VOC) Metabolites - Urine (2011-2012)\n",
            "   [Found] Volatile Organic Compound (VOC) Metabolites - Urine - Special Sample (2011-2012)\n",
            "   [Found] Volatile Organic Compounds (VOCs) - Blood (2011-2012)\n",
            "   [Found] Volatile Organic Compounds (VOCs) - Trihalomethanes/MTBE/Nitromethane - Blood (2011-2012)\n",
            "   [Found] Acculturation (2011-2012)\n",
            "   [Found] Alcohol Use (2011-2012)\n",
            "   [Found] Audiometry (2011-2012)\n",
            "   [Found] Blood Pressure & Cholesterol (2011-2012)\n",
            "   [Found] Cardiovascular Health (2011-2012)\n",
            "   [Found] Cognitive Functioning (2011-2012)\n",
            "   [Found] Consumer Behavior (2011-2012)\n",
            "   [Found] Creatine Kinase (2011-2012)\n",
            "   [Found] Current Health Status (2011-2012)\n",
            "   [Found] Dermatology (2011-2012)\n",
            "   [Found] Diabetes (2011-2012)\n",
            "   [Found] Diet Behavior & Nutrition (2011-2012)\n",
            "   [Found] Drug Use (2011-2012)\n",
            "   [Found] Early Childhood (2011-2012)\n",
            "   [Found] Food Security (2011-2012)\n",
            "   [Found] Health Insurance (2011-2012)\n",
            "   [Found] Hepatitis C Follow Up (2011-2012)\n",
            "   [Found] Hospital Utilization & Access to Care (2011-2012)\n",
            "   [Found] Housing Characteristics (2011-2012)\n",
            "   [Found] Immunization (2011-2012)\n",
            "   [Found] Income (2011-2012)\n",
            "   [Found] Kidney Conditions - Urology (2011-2012)\n",
            "   [Found] Medical Conditions (2011-2012)\n",
            "   [Found] Mental Health - Depression Screener (2011-2012)\n",
            "   [Found] Occupation (2011-2012)\n",
            "   [Found] Oral Health (2011-2012)\n",
            "   [Found] Pesticide Use (2011-2012)\n",
            "   [Found] Physical Activity (2011-2012)\n",
            "   [Found] Physical Functioning (2011-2012)\n",
            "   [Found] Prescription Medications (2011-2012)\n",
            "   [Found] Preventive Aspirin Use (2011-2012)\n",
            "   [Found] Reproductive Health (2011-2012)\n",
            "   [Found] Respiratory Health (2011-2012)\n",
            "   [Found] Sexual Behavior (2011-2012)\n",
            "   [Found] Sleep Disorders (2011-2012)\n",
            "   [Found] Smoking - Cigarette Use (2011-2012)\n",
            "   [Found] Smoking - Household Smokers (2011-2012)\n",
            "   [Found] Smoking - Recent Tobacco Use (2011-2012)\n",
            "   [Found] Taste & Smell (2011-2012)\n",
            "   [Found] Tuberculosis (2011-2012)\n",
            "   [Found] Volatile Toxicant (2011-2012)\n",
            "   [Found] Weight History (2011-2012)\n",
            "   [Found] Weight History - Youth (2011-2012)\n"
          ]
        },
        {
          "output_type": "stream",
          "name": "stderr",
          "text": [
            "\rCrawling NHANES cycles:  54%|█████▍    | 7/13 [00:58<00:51,  8.52s/it]"
          ]
        },
        {
          "output_type": "stream",
          "name": "stdout",
          "text": [
            "\n",
            "🔹 Scanning cycle: NHANES 2009-2010\n",
            "   [Found] Demographic Variables & Sample Weights (2009-2010)\n",
            "   [Added] Demographics dataset for NHANES 2009-2010\n",
            "   [Found] Dietary Interview - Individual Foods, First Day (2009-2010)\n",
            "   [Found] Dietary Interview - Individual Foods, Second Day (2009-2010)\n",
            "   [Found] Dietary Interview - Total Nutrient Intakes, First Day (2009-2010)\n",
            "   [Found] Dietary Interview - Total Nutrient Intakes, Second Day (2009-2010)\n",
            "   [Found] Dietary Interview Technical Support File - Food Codes (2009-2010)\n",
            "   [Found] Dietary Interview Technical Support File - Modification Codes (2009-2010)\n",
            "   [Found] Dietary Screener Questionnaire (2009-2010)\n",
            "   [Found] Dietary Supplement Use 24-Hour - Individual Dietary Supplements, First Day (2009-2010)\n",
            "   [Found] Dietary Supplement Use 24-Hour - Individual Dietary Supplements, Second Day (2009-2010)\n",
            "   [Found] Dietary Supplement Use 24-Hour - Total Dietary Supplements, First Day (2009-2010)\n",
            "   [Found] Dietary Supplement Use 24-Hour - Total Dietary Supplements, Second Day (2009-2010)\n",
            "   [Found] Dietary Supplement Use 30 Day - Individual Dietary Supplements (2009-2010)\n",
            "   [Found] Dietary Supplement Use 30-Day - Total Dietary Supplements (2009-2010)\n",
            "   [Found] Arthritis Body Measures (2009-2010)\n",
            "   [Found] Audiometry (2009-2010)\n",
            "   [Found] Audiometry - Acoustic Reflex (2009-2010)\n",
            "   [Found] Audiometry - Tympanometry (2009-2010)\n",
            "   [Found] Blood Pressure (2009-2010)\n",
            "   [Found] Body Measures (2009-2010)\n",
            "   [Found] Dual Energy X-ray Absorptiometry - Femur (2009-2010)\n",
            "   [Found] Dual Energy X-ray Absorptiometry - Spine (2009-2010)\n",
            "   [Found] Exhaled Nitric Oxide (2009-2010)\n",
            "   [Found] Fluorosis - Clinical (2009-2010)\n",
            "   [Found] Oral Health - Dentition (2009-2010)\n",
            "   [Found] Oral Health - Periodontal (2009-2010)\n",
            "   [Found] Oral Health - Recommendation of Care (2009-2010)\n",
            "   [Found] Spirometry - Pre and Post-Bronchodilator (2009-2010)\n",
            "   [Found] Spirometry - Raw Curve Data (2009-2010)\n",
            "   [Found] Albumin & Creatinine - Urine (2009-2010)\n",
            "   [Found] Apolipoprotein B (2009-2010)\n",
            "   [Found] Arsenics - Total & Speciated - Urine (2009-2010)\n",
            "   [Found] Brominated Flame Retardants (BFRs) - Pooled Samples (2009-2010)\n",
            "   [Found] Cadmium, Lead, & Total Mercury - Blood (2009-2010)\n",
            "   [Found] Caffeine & Caffeine Metabolites - Urine (2009-2010)\n",
            "   [Found] Chlamydia - Urine (2009-2010)\n",
            "   [Found] Cholesterol - HDL (2009-2010)\n",
            "   [Found] Cholesterol - LDL & Triglycerides (2009-2010)\n",
            "   [Found] Cholesterol - Total (2009-2010)\n",
            "   [Found] Complete Blood Count with 5-part Differential - Whole Blood (2009-2010)\n",
            "   [Found] Cotinine - Serum & Total NNAL - Urine (2009-2010)\n",
            "   [Found] C-Reactive Protein (CRP) (2009-2010)\n",
            "   [Found] DEET and Metabolites (2009-2010)\n",
            "   [Found] Enterovirus D68 (EV-D68) - Serum (Surplus) (2009-2010)\n",
            "   [Found] Environmental Phenols (2009-2010)\n",
            "   [Found] Epstein-Barr Virus (VCA IgG) - Serum (Surplus) (2009-2010)\n",
            "   [Found] Fasting Questionnaire (2009-2010)\n",
            "   [Found] Ferritin (2009-2010)\n",
            "   [Found] Folate - RBC & Serum (2009-2010)\n",
            "   [Found] Glycohemoglobin (2009-2010)\n",
            "   [Found] Hepatitis A Antibody (2009-2010)\n",
            "   [Found] Hepatitis B Surface Antibody (2009-2010)\n",
            "   [Found] Hepatitis B: Core Antibody, Surface Antigen; Hepatitis D Antibody (2009-2010)\n",
            "   [Found] Hepatitis C: Confirmed Antibody, RNA (HCV-RNA), & Genotype (2009-2010)\n",
            "   [Found] Hepatitis E : IgG & IgM Antibodies (2009-2010)\n",
            "   [Found] Herpes Simplex Virus Type-1 & Type-2 (2009-2010)\n",
            "   [Found] HIV Antibody Test (2009-2010)\n",
            "   [Found] Human Papillomavirus (HPV) - 6, 11, 16 & 18 Antibody - Serum (2009-2010)\n",
            "   [Found] Human Papillomavirus (HPV) - Oral Rinse (2009-2010)\n",
            "   [Found] Human Papillomavirus (HPV) DNA - Vaginal Swab: Digene Hybrid Capture & Roche Linear Array (2009-2010)\n",
            "   [Found] Human Papillomavirus (HPV) Viral Load - Oral Rinse - Oral High-Risk HPV Infections (Surplus) (2009-2010)\n",
            "   [Found] Iodine - Urine (2009-2010)\n",
            "   [Found] Klotho - Serum (Surplus) (2009-2010)\n",
            "   [Found] Measles, Mumps, Rubella & Varicella (2009-2010)\n",
            "   [Found] Mercury: Inorganic - Blood (2009-2010)\n",
            "   [Found] Mercury: Inorganic - Urine (2009-2010)\n",
            "   [Found] Metals - Urine (2009-2010)\n",
            "   [Found] Non-dioxin-like Polychlorinated Biphenyls & Mono-ortho-substituted Polychlorinated Biphenyls - Pooled Samples (2009-2010)\n",
            "   [Found] Oral Glucose Tolerance Test (2009-2010)\n",
            "   [Found] Osmolality - Urine (2009-2010)\n",
            "   [Found] Perchlorate, Nitrate & Thiocyanate - Urine (2009-2010)\n",
            "   [Found] Pesticides - Environmental - Urine (2009-2010)\n",
            "   [Found] Pesticides - Organochlorine Pesticides - Pooled Samples (2009-2010)\n",
            "   [Found] Phthalates - Urine (2009-2010)\n",
            "   [Found] Phytoestrogens - Urine (2009-2010)\n",
            "   [Found] Plasma Fasting Glucose & Insulin (2009-2010)\n",
            "   [Found] Poliovirus Serotypes 1, 2, & 3 Antibodies - Serum (Surplus) (2009-2010)\n",
            "   [Found] Polyaromatic Hydrocarbons -Urine (2009-2010)\n",
            "   [Found] Polychlorinated dibenzo-p-dioxins (PCDDs), Dibenzofurans (PCDFs) & Coplanar Polychlorinated Biphenyls (cPCBs) - Pooled Samples (2009-2010)\n",
            "   [Found] Polyfluoroalkyl Chemicals (2009-2010)\n",
            "   [Found] Pooled-Sample Technical Support File (2009-2010)\n",
            "   [Found] Pregnancy Test - Urine (2009-2010)\n",
            "   [Found] Prostate Specific Antigen (PSA) (2009-2010)\n",
            "   [Found] Pyrethroids, Herbicides, & OP Metabolites - Urine (2009-2010)\n",
            "   [Found] Standard Biochemistry Profile (2009-2010)\n",
            "   [Found] Thyroid Profile (2009-2010)\n",
            "   [Found] Tissue Transglutaminase Assay (IgA-TTG) & IgA Endomyseal Antibody Assay (IgA EMA) (2009-2010)\n",
            "   [Found] Toxoplasma Gondii Antibody - Serum (Surplus) (2009-2010)\n",
            "   [Found] Trans Fatty Acids (2009-2010)\n",
            "   [Found] Transferrin Receptor (2009-2010)\n",
            "   [Found] Urine Flow Rate (2009-2010)\n",
            "   [Found] Vitamin B6 (2009-2010)\n",
            "   [Found] Vitamin D (2009-2010)\n",
            "   [Found] Volatile Organic Compounds (VOCs) - Blood (2009-2010)\n",
            "   [Found] Volatile Organic Compounds (VOCs) - Trihalomethanes/MTBE/Nitromethane - Blood (2009-2010)\n",
            "   [Found] Volatile Organic Compounds (VOCs) - Water (2009-2010)\n",
            "   [Found] Acculturation (2009-2010)\n",
            "   [Found] Air Quality (2009-2010)\n",
            "   [Found] Alcohol Use (2009-2010)\n",
            "   [Found] Alcohol Use (Ages 18-19) (2009-2010)\n",
            "   [Found] Arthritis (2009-2010)\n",
            "   [Found] Audiometry (2009-2010)\n",
            "   [Found] Blood Pressure & Cholesterol (2009-2010)\n",
            "   [Found] Bowel Health (2009-2010)\n",
            "   [Found] Cardiovascular Health (2009-2010)\n",
            "   [Found] Consumer Behavior (2009-2010)\n",
            "   [Found] Consumer Behavior Phone Follow-up Module - Adult (2009-2010)\n",
            "   [Found] Consumer Behavior Phone Follow-up Module - Child (2009-2010)\n",
            "   [Found] Current Health Status (2009-2010)\n",
            "   [Found] Dermatology (2009-2010)\n",
            "   [Found] Diabetes (2009-2010)\n",
            "   [Found] Diet Behavior & Nutrition (2009-2010)\n",
            "   [Found] Drug Use (2009-2010)\n",
            "   [Found] Early Childhood (2009-2010)\n",
            "   [Found] Food Security (2009-2010)\n",
            "   [Found] Health Insurance (2009-2010)\n",
            "   [Found] Hepatitis C Follow Up (2009-2010)\n",
            "   [Found] Hospital Utilization & Access to Care (2009-2010)\n",
            "   [Found] Housing Characteristics (2009-2010)\n",
            "   [Found] Immunization (2009-2010)\n",
            "   [Found] Income (2009-2010)\n",
            "   [Found] Kidney Conditions - Urology (2009-2010)\n",
            "   [Found] Medical Conditions (2009-2010)\n",
            "   [Found] Mental Health - Depression Screener (2009-2010)\n",
            "   [Found] Occupation (2009-2010)\n",
            "   [Found] Oral Health (2009-2010)\n",
            "   [Found] Osteoporosis (2009-2010)\n",
            "   [Found] Pesticide Use (2009-2010)\n",
            "   [Found] Physical Activity (2009-2010)\n",
            "   [Found] Physical Functioning (2009-2010)\n",
            "   [Found] Prescription Medications (2009-2010)\n",
            "   [Found] Reproductive Health (2009-2010)\n",
            "   [Found] Respiratory Health (2009-2010)\n",
            "   [Found] Sexual Behavior (2009-2010)\n",
            "   [Found] Sleep Disorders (2009-2010)\n",
            "   [Found] Smoking - Cigarette Use (2009-2010)\n",
            "   [Found] Smoking - Household Smokers (2009-2010)\n",
            "   [Found] Smoking - Recent Tobacco Use (2009-2010)\n",
            "   [Found] Volatile Toxicant (2009-2010)\n",
            "   [Found] Weight History (2009-2010)\n",
            "   [Found] Weight History - Youth (2009-2010)\n"
          ]
        },
        {
          "output_type": "stream",
          "name": "stderr",
          "text": [
            "\rCrawling NHANES cycles:  62%|██████▏   | 8/13 [01:06<00:42,  8.51s/it]"
          ]
        },
        {
          "output_type": "stream",
          "name": "stdout",
          "text": [
            "\n",
            "🔹 Scanning cycle: NHANES 2007-2008\n",
            "   [Found] Demographic Variables & Sample Weights (2007-2008)\n",
            "   [Added] Demographics dataset for NHANES 2007-2008\n",
            "   [Found] Dietary Interview - Individual Foods, First Day (2007-2008)\n",
            "   [Found] Dietary Interview - Individual Foods, Second Day (2007-2008)\n",
            "   [Found] Dietary Interview - Total Nutrient Intakes, First Day (2007-2008)\n",
            "   [Found] Dietary Interview - Total Nutrient Intakes, Second Day (2007-2008)\n",
            "   [Found] Dietary Interview Technical Support File - Food Codes (2007-2008)\n",
            "   [Found] Dietary Interview Technical Support File - Modification Codes (2007-2008)\n",
            "   [Found] Dietary Supplement Use 24-Hour - Individual Dietary Supplements, First Day (2007-2008)\n",
            "   [Found] Dietary Supplement Use 24-Hour - Individual Dietary Supplements, Second Day (2007-2008)\n",
            "   [Found] Dietary Supplement Use 24-Hour - Total Dietary Supplements, First Day (2007-2008)\n",
            "   [Found] Dietary Supplement Use 24-Hour - Total Dietary Supplements, Second Day (2007-2008)\n",
            "   [Found] Dietary Supplement Use 30 Day - Individual Dietary Supplements (2007-2008)\n",
            "   [Found] Dietary Supplement Use 30-Day - Total Dietary Supplements (2007-2008)\n",
            "   [Found] Audiometry (2007-2008)\n",
            "   [Found] Audiometry - Acoustic Reflex (2007-2008)\n",
            "   [Found] Audiometry - Tympanometry (2007-2008)\n",
            "   [Found] Blood Pressure (2007-2008)\n",
            "   [Found] Body Measures (2007-2008)\n",
            "   [Found] Dual Energy X-ray Absorptiometry - Femur (2007-2008)\n",
            "   [Found] Dual Energy X-ray Absorptiometry - Spine (2007-2008)\n",
            "   [Found] Exhaled Nitric Oxide (2007-2008)\n",
            "   [Found] Ophthalmology - Frequency Doubling Technology (2007-2008)\n",
            "   [Found] Ophthalmology - Retinal Imaging (2007-2008)\n",
            "   [Found] Oral Health (2007-2008)\n",
            "   [Found] Spirometry - Pre and Post-Bronchodilator (2007-2008)\n",
            "   [Found] Spirometry - Raw Curve Data (2007-2008)\n",
            "   [Found] Vision (2007-2008)\n",
            "   [Found] Albumin & Creatinine - Urine (2007-2008)\n",
            "   [Found] Apolipoprotein B (2007-2008)\n",
            "   [Found] Arsenics - Total & Speciated - Urine (2007-2008)\n",
            "   [Found] Atrazine and Metabolites (2007-2008)\n",
            "   [Found] Brominated Flame Retardants (BFRs) - Pooled Samples (2007-2008)\n",
            "   [Found] Cadmium, Lead, & Total Mercury - Blood (2007-2008)\n",
            "   [Found] Chlamydia & Gonorrhea - Urine (2007-2008)\n",
            "   [Found] Cholesterol - HDL (2007-2008)\n",
            "   [Found] Cholesterol - LDL & Triglycerides (2007-2008)\n",
            "   [Found] Cholesterol - Total (2007-2008)\n",
            "   [Found] Complete Blood Count with 5-part Differential - Whole Blood (2007-2008)\n",
            "   [Found] Cotinine - Serum & Total NNAL - Urine (2007-2008)\n",
            "   [Found] C-Reactive Protein (CRP) (2007-2008)\n",
            "   [Found] DEET and Metabolites (2007-2008)\n",
            "   [Found] Enterovirus D68 (EV-D68) - Serum (Surplus) (2007-2008)\n",
            "   [Found] Environmental Phenols (2007-2008)\n",
            "   [Found] Epstein-Barr Virus (VCA IgG) - Serum (Surplus) (2007-2008)\n",
            "   [Found] Fasting Questionnaire (2007-2008)\n",
            "   [Found] Ferritin (2007-2008)\n",
            "   [Found] Folate - RBC & Serum (2007-2008)\n",
            "   [Found] Folate Forms - Individual - Serum (2007-2008)\n",
            "   [Found] Glycohemoglobin (2007-2008)\n",
            "   [Found] Hepatitis A Antibody (2007-2008)\n",
            "   [Found] Hepatitis B Surface Antibody (2007-2008)\n",
            "   [Found] Hepatitis B: Core Antibody, Surface Antigen; Hepatitis D Antibody (2007-2008)\n",
            "   [Found] Hepatitis C: Confirmed Antibody, RNA (HCV-RNA), & Genotype (2007-2008)\n",
            "   [Found] Herpes Simplex Virus Type-1 & Type-2 (2007-2008)\n",
            "   [Found] HIV Antibody Test (2007-2008)\n",
            "   [Found] Human Papillomavirus (HPV) - 6, 11, 16 & 18 Antibody – Serum: 4-plex CLIA (2007-2008)\n",
            "   [Found] Human Papillomavirus (HPV) DNA - Vaginal Swab: Digene Hybrid Capture & Roche Linear Array (2007-2008)\n",
            "   [Found] Iodine - Urine (2007-2008)\n",
            "   [Found] Klotho - Serum (Surplus) (2007-2008)\n",
            "   [Found] Mercury: Inorganic - Blood (2007-2008)\n",
            "   [Found] Mercury: Inorganic - Urine (2007-2008)\n",
            "   [Found] Metals - Urine (2007-2008)\n",
            "   [Found] Non-dioxin-like Polychlorinated Biphenyls & Mono-ortho-substituted Polychlorinated Biphenyls - Pooled Samples (2007-2008)\n",
            "   [Found] Oral Glucose Tolerance Test (2007-2008)\n",
            "   [Found] Organophosphate Insecticides - Diakyl Phosphate Metabolites - Urine (2007-2008)\n",
            "   [Found] Perchlorate, Nitrate & Thiocyanate - Urine (2007-2008)\n",
            "   [Found] Pesticides - Carbamates & Organophosphorus Metabolites - Urine (2007-2008)\n",
            "   [Found] Pesticides - Current Use - Urine (Formerly Priority Pesticides, Non-persistent Pesticide Metabolites) (2007-2008)\n",
            "   [Found] Pesticides - Environmental - Urine (2007-2008)\n",
            "   [Found] Pesticides - Organochlorine Pesticides - Pooled Samples (2007-2008)\n",
            "   [Found] Phthalates - Urine (2007-2008)\n",
            "   [Found] Phytoestrogens - Urine (2007-2008)\n",
            "   [Found] Plasma Fasting Glucose & Insulin (2007-2008)\n",
            "   [Found] Polyaromatic Hydrocarbons (PAHs) - Urine (2007-2008)\n",
            "   [Found] Polychlorinated dibenzo-p-dioxins (PCDDs), Dibenzofurans (PCDFs) & Coplanar Polychlorinated Biphenyls (cPCBs) - Pooled Samples (2007-2008)\n",
            "   [Found] Polyfluoroalkyl Chemicals (2007-2008)\n",
            "   [Found] Pooled-Sample Technical Support File (2007-2008)\n",
            "   [Found] Pregnancy Test - Urine (2007-2008)\n",
            "   [Found] Prostate Specific Antigen (PSA) (2007-2008)\n",
            "   [Found] Pyrethroids, Herbicides, & OP Metabolites - Urine (2007-2008)\n",
            "   [Found] Standard Biochemistry Profile (2007-2008)\n",
            "   [Found] Thyroid Profile (2007-2008)\n",
            "   [Found] Transferrin Receptor (2007-2008)\n",
            "   [Found] Urine Specific Gravity Measurement (Surplus) (2007-2008)\n",
            "   [Found] Vitamin B6 (2007-2008)\n",
            "   [Found] Vitamin D (2007-2008)\n",
            "   [Found] Volatile Organic Compounds - Blood & Related Questionnaire Items (2007-2008)\n",
            "   [Found] Volatile Organic Compounds - Trihalomethanes/MTBE/Nitromethane - Blood (2007-2008)\n",
            "   [Found] Volatile Organic Compounds - Water & Related Questionnaire Items (2007-2008)\n",
            "   [Found] Acculturation (2007-2008)\n",
            "   [Found] Air Quality (2007-2008)\n",
            "   [Found] Alcohol Use (2007-2008)\n",
            "   [Found] Audiometry (2007-2008)\n",
            "   [Found] Blood Pressure & Cholesterol (2007-2008)\n",
            "   [Found] Bowel Health (2007-2008)\n",
            "   [Found] Cardiovascular Health (2007-2008)\n",
            "   [Found] Consumer Behavior (2007-2008)\n",
            "   [Found] Consumer Behavior Phone Follow-up Module - Adult (2007-2008)\n",
            "   [Found] Consumer Behavior Phone Follow-up Module - Child (2007-2008)\n",
            "   [Found] Current Health Status (2007-2008)\n",
            "   [Found] Diabetes (2007-2008)\n",
            "   [Found] Diet Behavior & Nutrition (2007-2008)\n",
            "   [Found] Drug Use (2007-2008)\n",
            "   [Found] Early Childhood (2007-2008)\n",
            "   [Found] Food Security (2007-2008)\n",
            "   [Found] Health Insurance (2007-2008)\n",
            "   [Found] Hepatitis C Follow Up (2007-2008)\n",
            "   [Found] Hospital Utilization & Access to Care (2007-2008)\n",
            "   [Found] Housing Characteristics (2007-2008)\n",
            "   [Found] Immunization (2007-2008)\n",
            "   [Found] Income (2007-2008)\n",
            "   [Found] Kidney Conditions - Urology (2007-2008)\n",
            "   [Found] Medical Conditions (2007-2008)\n",
            "   [Found] Mental Health - Depression Screener (2007-2008)\n",
            "   [Found] Occupation (2007-2008)\n",
            "   [Found] Oral Health (2007-2008)\n",
            "   [Found] Osteoporosis (2007-2008)\n",
            "   [Found] Pesticide Use (2007-2008)\n",
            "   [Found] Physical Activity (2007-2008)\n",
            "   [Found] Physical Functioning (2007-2008)\n",
            "   [Found] Prescription Medications (2007-2008)\n",
            "   [Found] Prostate Conditions (2007-2008)\n",
            "   [Found] Reproductive Health (2007-2008)\n",
            "   [Found] Respiratory Health (2007-2008)\n",
            "   [Found] Sexual Behavior (2007-2008)\n",
            "   [Found] Sleep Disorders (2007-2008)\n",
            "   [Found] Smoking - Cigarette Use (2007-2008)\n",
            "   [Found] Smoking - Household Smokers (2007-2008)\n",
            "   [Found] Smoking - Recent Tobacco Use (2007-2008)\n",
            "   [Found] Social Support (2007-2008)\n",
            "   [Found] Vision (2007-2008)\n",
            "   [Found] Weight History (2007-2008)\n",
            "   [Found] Weight History - Youth (2007-2008)\n"
          ]
        },
        {
          "output_type": "stream",
          "name": "stderr",
          "text": [
            "\rCrawling NHANES cycles:  69%|██████▉   | 9/13 [01:15<00:33,  8.50s/it]"
          ]
        },
        {
          "output_type": "stream",
          "name": "stdout",
          "text": [
            "\n",
            "🔹 Scanning cycle: NHANES 2005-2006\n",
            "   [Found] Demographic Variables & Sample Weights (2005-2006)\n",
            "   [Added] Demographics dataset for NHANES 2005-2006\n",
            "   [Found] Dietary Interview - Individual Foods, First Day (2005-2006)\n",
            "   [Found] Dietary Interview - Individual Foods, Second Day (2005-2006)\n",
            "   [Found] Dietary Interview - Total Nutrient Intakes, First Day (2005-2006)\n",
            "   [Found] Dietary Interview - Total Nutrient Intakes, Second Day (2005-2006)\n",
            "   [Found] Dietary Interview Technical Support File - Food Codes (2005-2006)\n",
            "   [Found] Dietary Interview Technical Support File - Modification Codes (2005-2006)\n",
            "   [Found] Dietary Supplement Use 30-Day - File 1, Supplement Counts (2005-2006)\n",
            "   [Found] Dietary Supplement Use 30-Day - File 2, Participant's Use of Supplements (2005-2006)\n",
            "   [Found] Food Frequency Questionnaire - Look-Up Table FOODLOOK (2005-2006)\n",
            "   [Found] Food Frequency Questionnaire - Look-Up Table VARLOOK (2005-2006)\n",
            "   [Found] Food Frequency Questionnaire - Output from DietCalc Software (2005-2006)\n",
            "   [Found] Food Frequency Questionnaire - Raw Questionnaire Responses (2005-2006)\n",
            "   [Found] Audiometry (2005-2006)\n",
            "   [Found] Audiometry - Acoustic Reflex (2005-2006)\n",
            "   [Found] Audiometry - Tympanometry (2005-2006)\n",
            "   [Found] Blood Pressure (2005-2006)\n",
            "   [Found] Body Measures (2005-2006)\n",
            "   [Found] Dual Energy X-ray Absorptiometry - Android/Gynoid (2005-2006)\n",
            "   [Found] Dual Energy X-ray Absorptiometry - Femur (2005-2006)\n",
            "   [Found] Dual Energy X-ray Absorptiometry - Spine (2005-2006)\n",
            "   [Found] Ophthalmology - Frequency Doubling Technology (2005-2006)\n",
            "   [Found] Ophthalmology - Retinal Imaging (2005-2006)\n",
            "   [Found] Oral Health (2005-2006)\n",
            "   [Found] Physical Activity Monitor (2005-2006)\n",
            "   [Found] Vision (2005-2006)\n",
            "   [Found] Acrylamide & Glycidamide (2005-2006)\n",
            "   [Found] Albumin & Creatinine - Urine (2005-2006)\n",
            "   [Found] Allergen Specific IgE(s) & Total IgE - Serum (2005-2006)\n",
            "   [Found] Allergens - Household Dust (2005-2006)\n",
            "   [Found] Arsenics - Total & Speciated - Urine (2005-2006)\n",
            "   [Found] Brominated Flame Retardants (BFRs) - Pooled Samples (2005-2006)\n",
            "   [Found] Cadmium, Lead, & Total Mercury - Blood (2005-2006)\n",
            "   [Found] Chlamydia & Gonorrhea - Urine (2005-2006)\n",
            "   [Found] Cholesterol - HDL (2005-2006)\n",
            "   [Found] Cholesterol - LDL, Triglyceride & Apoliprotein (ApoB) (2005-2006)\n",
            "   [Found] Cholesterol - Total (2005-2006)\n",
            "   [Found] Complete Blood Count with 5-Part Differential - Whole Blood (2005-2006)\n",
            "   [Found] Cotinine - Serum (2005-2006)\n",
            "   [Found] C-Reactive Protein (CRP) (2005-2006)\n",
            "   [Found] Enterovirus D68 (EV-D68) - Serum (Surplus) (2005-2006)\n",
            "   [Found] Environmental Phenols & Parabens (2005-2006)\n",
            "   [Found] Epstein-Barr Virus (VCA IgG) - Serum (Surplus) (2005-2006)\n",
            "   [Found] Erythrocyte Protoporphyrin (2005-2006)\n",
            "   [Found] Fasting Questionnaire (2005-2006)\n",
            "   [Found] Ferritin (2005-2006)\n",
            "   [Found] Folate - RBC & Serum (2005-2006)\n",
            "   [Found] Glycohemoglobin (2005-2006)\n",
            "   [Found] Hepatitis A Antibody (2005-2006)\n",
            "   [Found] Hepatitis B Surface Antibody (2005-2006)\n",
            "   [Found] Hepatitis B: Core Antibody, Surface Antigen; Hepatitis D Antibody (2005-2006)\n",
            "   [Found] Hepatitis C: Confirmed Antibody, RNA (HCV-RNA), & Genotype (2005-2006)\n",
            "   [Found] Herpes Simplex Virus Type-1 & Type-2 (2005-2006)\n",
            "   [Found] HIV Antibody Test, CD4+ T Lymphocytes & CD8+ T Cells (2005-2006)\n",
            "   [Found] Homocysteine (2005-2006)\n",
            "   [Found] Human Papillomavirus (HPV) - 6, 11, 16 & 18 Antibody – Serum: 4-plex CLIA (2005-2006)\n",
            "   [Found] Human Papillomavirus (HPV) - Multiplexed 6, 11, 16, 18, 31, 33, 45, 52 & 58 Antibody – Serum: 9-plex CLIA (2005-2006)\n",
            "   [Found] Human Papillomavirus (HPV) DNA - Vaginal Swab: Digene Hybrid Capture & Roche Linear Array (2005-2006)\n",
            "   [Found] Iodine - Urine (2005-2006)\n",
            "   [Found] Iron, Total Iron Binding Capacity (TIBC), & Transferrin Saturation (2005-2006)\n",
            "   [Found] Mercury: Inorganic - Blood (2005-2006)\n",
            "   [Found] Mercury: Inorganic - Urine (2005-2006)\n",
            "   [Found] Metals - Urine (2005-2006)\n",
            "   [Found] Non-dioxin-like Polychlorinated Biphenyls & Mono-ortho-substituted Polychlorinated Biphenyls - Pooled Samples (2005-2006)\n",
            "   [Found] Oral Glucose Tolerance Test (2005-2006)\n",
            "   [Found] Organophosphate Insecticides - Diakyl Phosphate Metabolites - Urine (2005-2006)\n",
            "   [Found] Parathyroid Hormone (2005-2006)\n",
            "   [Found] Perchlorate, Nitrate & Iodide - Tap Water (2005-2006)\n",
            "   [Found] Perchlorate, Nitrate & Thiocyanate - Urine (2005-2006)\n",
            "   [Found] Pesticides - Carbamates & Organophosphorus Metabolites - Urine (2005-2006)\n",
            "   [Found] Pesticides - Current Use - Urine (Formerly Priority Pesticides, Non-persistent Pesticide Metabolites) (2005-2006)\n",
            "   [Found] Pesticides - Environmental - Urine (2005-2006)\n",
            "   [Found] Pesticides - Organochlorine Pesticides - Pooled Samples (2005-2006)\n",
            "   [Found] Phthalates - Urine (2005-2006)\n",
            "   [Found] Phytoestrogens - Urine (2005-2006)\n",
            "   [Found] Plasma Fasting Glucose & Insulin (2005-2006)\n",
            "   [Found] Polyaromatic Hydrocarbons (PAHs) - Urine (2005-2006)\n",
            "   [Found] Polychlorinated dibenzo-p-dioxins (PCDDs), Dibenzofurans (PCDFs) & Coplanar Polychlorinated Biphenyls (cPCBs)  - Pooled Samples (2005-2006)\n",
            "   [Found] Polyfluoroalkyl Chemicals (2005-2006)\n",
            "   [Found] Pooled-Sample Technical Support File (2005-2006)\n",
            "   [Found] Pregnancy Test - Urine (2005-2006)\n",
            "   [Found] Prostate Specific Antigen (PSA) (2005-2006)\n",
            "   [Found] Salmonella & Campylobacter Antibodies (Surplus) (2005-2006)\n",
            "   [Found] Standard Biochemistry Profile (2005-2006)\n",
            "   [Found] Transferrin Receptor (2005-2006)\n",
            "   [Found] Vitamin A, Vitamin E & Carotenoids (2005-2006)\n",
            "   [Found] Vitamin B12 (2005-2006)\n",
            "   [Found] Vitamin B6 (2005-2006)\n",
            "   [Found] Vitamin C (2005-2006)\n",
            "   [Found] Vitamin D (2005-2006)\n",
            "   [Found] Volatile Organic Compound (VOC) Metabolites - Urine (Surplus) (2005-2006)\n",
            "   [Found] Volatile Organic Compounds - Blood & Related Questionnaire Items (2005-2006)\n",
            "   [Found] Volatile Organic Compounds - Water & Related Questionnaire Items (2005-2006)\n",
            "   [Found] Acculturation (2005-2006)\n",
            "   [Found] Alcohol Use (2005-2006)\n",
            "   [Found] Allergy (2005-2006)\n",
            "   [Found] Audiometry (2005-2006)\n",
            "   [Found] Blood Pressure & Cholesterol (2005-2006)\n",
            "   [Found] Bowel Health (2005-2006)\n",
            "   [Found] Cardiovascular Health (2005-2006)\n",
            "   [Found] Current Health Status (2005-2006)\n",
            "   [Found] Dermatology (2005-2006)\n",
            "   [Found] Diabetes (2005-2006)\n",
            "   [Found] Diet Behavior & Nutrition (2005-2006)\n",
            "   [Found] Drug Use (2005-2006)\n",
            "   [Found] Early Childhood (2005-2006)\n",
            "   [Found] Food Security (2005-2006)\n",
            "   [Found] Health Insurance (2005-2006)\n",
            "   [Found] Hepatitis C Follow Up (2005-2006)\n",
            "   [Found] Hospital Utilization & Access to Care (2005-2006)\n",
            "   [Found] Housing Characteristics (2005-2006)\n",
            "   [Found] Immunization (2005-2006)\n",
            "   [Found] Kidney Conditions - Urology (2005-2006)\n",
            "   [Found] Medical Conditions (2005-2006)\n",
            "   [Found] Mental Health - Depression Screener (2005-2006)\n",
            "   [Found] Occupation (2005-2006)\n",
            "   [Found] Oral Health (2005-2006)\n",
            "   [Found] Osteoporosis (2005-2006)\n",
            "   [Found] Pesticide Use (2005-2006)\n",
            "   [Found] Physical Activity (2005-2006)\n",
            "   [Found] Physical Activity - Individual Activities (2005-2006)\n",
            "   [Found] Physical Functioning (2005-2006)\n",
            "   [Found] Prescription Medications (2005-2006)\n",
            "   [Found] Prostate Conditions (2005-2006)\n",
            "   [Found] Prostate Specific Antigen Follow-up (2005-2006)\n",
            "   [Found] Reproductive Health (2005-2006)\n",
            "   [Found] Respiratory Health (2005-2006)\n",
            "   [Found] Sexual Behavior (2005-2006)\n",
            "   [Found] Sleep Disorders (2005-2006)\n",
            "   [Found] Smoking - Cigarette Use (2005-2006)\n",
            "   [Found] Smoking - Household Smokers (2005-2006)\n",
            "   [Found] Smoking - Recent Tobacco Use (2005-2006)\n",
            "   [Found] Social Support (2005-2006)\n",
            "   [Found] Vision (2005-2006)\n",
            "   [Found] Weight History (2005-2006)\n",
            "   [Found] Weight History - Youth (2005-2006)\n"
          ]
        },
        {
          "output_type": "stream",
          "name": "stderr",
          "text": [
            "\rCrawling NHANES cycles:  77%|███████▋  | 10/13 [01:23<00:25,  8.40s/it]"
          ]
        },
        {
          "output_type": "stream",
          "name": "stdout",
          "text": [
            "\n",
            "🔹 Scanning cycle: NHANES 2003-2004\n",
            "   [Found] Demographic Variables & Sample Weights (2003-2004)\n",
            "   [Added] Demographics dataset for NHANES 2003-2004\n",
            "   [Found] Dietary Interview - Individual Foods, First Day (2003-2004)\n",
            "   [Found] Dietary Interview - Individual Foods, Second Day (2003-2004)\n",
            "   [Found] Dietary Interview - Total Nutrient Intakes, First Day (2003-2004)\n",
            "   [Found] Dietary Interview - Total Nutrient Intakes, Second Day (2003-2004)\n",
            "   [Found] Dietary Interview Technical Support File - Food Codes (2003-2004)\n",
            "   [Found] Dietary Interview Technical Support File - Modification Codes (2003-2004)\n",
            "   [Found] Dietary Supplement Use 30-Day - File 1, Supplement Counts (2003-2004)\n",
            "   [Found] Dietary Supplement Use 30-Day - File 2, Participant's Use of Supplements (2003-2004)\n",
            "   [Found] Food Frequency Questionnaire - Look-Up Table FOODLOOK (2003-2004)\n",
            "   [Found] Food Frequency Questionnaire - Look-Up Table VARLOOK (2003-2004)\n",
            "   [Found] Food Frequency Questionnaire - Output from DietCalc Software (2003-2004)\n",
            "   [Found] Food Frequency Questionnaire - Raw Questionnaire Responses (2003-2004)\n",
            "   [Found] Audiometry (2003-2004)\n",
            "   [Found] Audiometry - Acoustic Reflex (2003-2004)\n",
            "   [Found] Audiometry - Tympanometry (2003-2004)\n",
            "   [Found] Balance (2003-2004)\n",
            "   [Found] Bioelectrical Impedance Analysis (2003-2004)\n",
            "   [Found] Blood Pressure (2003-2004)\n",
            "   [Found] Body Measures (2003-2004)\n",
            "   [Found] Cardiovascular Fitness (2003-2004)\n",
            "   [Found] Dermatology (2003-2004)\n",
            "   [Found] Dual Energy X-ray Absorptiometry - Android/Gynoid (2003-2004)\n",
            "   [Found] Lower Extremity Disease - Ankle Brachial Blood Pressure Index (2003-2004)\n",
            "   [Found] Lower Extremity Disease - Peripheral Neuropathy (2003-2004)\n",
            "   [Found] Oral Health - Addendum (2003-2004)\n",
            "   [Found] Oral Health - Dentition (2003-2004)\n",
            "   [Found] Oral Health - Periodontal/Lower (2003-2004)\n",
            "   [Found] Oral Health - Periodontal/Upper (2003-2004)\n",
            "   [Found] Oral Health - Recommendation of Care (2003-2004)\n",
            "   [Found] Physical Activity Monitor (2003-2004)\n",
            "   [Found] Vision (2003-2004)\n",
            "   [Found] Acrylamide & Glycidamide (2003-2004)\n",
            "   [Found] Albumin & Creatinine - Urine (2003-2004)\n",
            "   [Found] Anti-Mullerian Hormone (AMH) & Inhibin-B (Surplus) (2003-2004)\n",
            "   [Found] Arsenics - Total & Speciated - Urine (2003-2004)\n",
            "   [Found] Bacterial vaginosis (BV) & Trichomonas vaginalis (2003-2004)\n",
            "   [Found] Brominated Flame Retardants (BFRs) (2003-2004)\n",
            "   [Found] Cadmium, Lead, & Total Mercury - Blood (2003-2004)\n",
            "   [Found] Chlamydia & Gonorrhea - Urine (2003-2004)\n",
            "   [Found] Cholesterol - LDL & Triglycerides (2003-2004)\n",
            "   [Found] Cholesterol - Total & HDL (2003-2004)\n",
            "   [Found] Complete Blood Count with 5-part Differential - Whole Blood (2003-2004)\n",
            "   [Found] Cotinine - Serum (2003-2004)\n",
            "   [Found] Coxiella Burnetii (Q Fever) Antibodies - Serum (Surplus) (2003-2004)\n",
            "   [Found] C-Reactive Protein (CRP), Bone Alkaline Phosphatase (BAP) & Parathyroid Hormone (PTH) (2003-2004)\n",
            "   [Found] Cytomegalovirus Antibodies - Serum (Surplus) (2003-2004)\n",
            "   [Found] Dioxins, Furans, & Coplanar PCBs (2003-2004)\n",
            "   [Found] Enterovirus D68 (EV-D68) - Serum (Surplus) (2003-2004)\n",
            "   [Found] Environmental Phenols (2003-2004)\n",
            "   [Found] Epstein-Barr Virus (VCA IgG) - Serum (Surplus) (2003-2004)\n",
            "   [Found] Erythrocyte Protoporphyrin & Selenium (2003-2004)\n",
            "   [Found] Fasting Questionnaire (2003-2004)\n",
            "   [Found] Fatty Acids - Plasma (Surplus) (2003-2004)\n",
            "   [Found] Ferritin & Transferrin Receptor (2003-2004)\n",
            "   [Found] Folate - RBC & Serum, and Vitamin B12 (2003-2004)\n",
            "   [Found] Glycohemoglobin (2003-2004)\n",
            "   [Found] Hepatitis A Antibody (2003-2004)\n",
            "   [Found] Hepatitis B Surface Antibody (2003-2004)\n",
            "   [Found] Hepatitis B: Core Antibody & Surface Antigen; Hepatitis C: Confirmed Antibody & RNA (HCV-RNA); Hepatitis D Antibody (2003-2004)\n",
            "   [Found] Hepatitis C RNA (HCV-RNA) & HCV Genotype (Surplus) (2003-2004)\n",
            "   [Found] Herpes Simplex Virus Type-1 & Type-2 (2003-2004)\n",
            "   [Found] HIV Antibody Test, CD4+ T Lymphocytes & CD8+ T Cells (2003-2004)\n",
            "   [Found] Human Papillomavirus (HPV) - 6, 11, 16 & 18 Antibody - Serum: 4-plex CLIA (2003-2004)\n",
            "   [Found] Human Papillomavirus (HPV) DNA - Vaginal Swab: Digene Hybrid Capture & Prototype Line Blot Assay (2003-2004)\n",
            "   [Found] Human Papillomavirus (HPV) DNA - Vaginal Swab: Roche Linear Array (2003-2004)\n",
            "   [Found] Iodine - Urine (2003-2004)\n",
            "   [Found] Iron, Total Iron Binding Capacity (TIBC), & Transferrin Saturation (2003-2004)\n",
            "   [Found] Lead - Dust (2003-2004)\n",
            "   [Found] Measles, Rubella, & Varicella (2003-2004)\n",
            "   [Found] Melamine - Urine (Surplus) (2003-2004)\n",
            "   [Found] Mercury: Inorganic - Urine (2003-2004)\n",
            "   [Found] Metals - Urine (2003-2004)\n",
            "   [Found] Methicillin - Resistant Staphylococcus aureus (MRSA) (2003-2004)\n",
            "   [Found] Methylmalonic acid & Homocysteine (2003-2004)\n",
            "   [Found] Monoclonal gammopathy of undetermined significance (MGUS) (Surplus) (2003-2004)\n",
            "   [Found] Mumps Antibody - Serum (Surplus) (2003-2004)\n",
            "   [Found] Non-dioxin-like Polychlorinated Biphenyls (2003-2004)\n",
            "   [Found] Norovirus antibody - Serum (2003-2004)\n",
            "   [Found] Organophosphate Insecticides - Diakyl Phosphate Metabolites - Urine (2003-2004)\n",
            "   [Found] Perchlorate - Urine (2003-2004)\n",
            "   [Found] Pesticides - Current Use - Urine (Formerly Priority Pesticides, Non-persistent Pesticide Metabolites) (2003-2004)\n",
            "   [Found] Pesticides - Environmental - Urine (2003-2004)\n",
            "   [Found] Pesticides - Organochlorine Metabolites - Serum (Surplus) (2003-2004)\n",
            "   [Found] Phthalates - Urine (2003-2004)\n",
            "   [Found] Phytoestrogens - Urine (2003-2004)\n",
            "   [Found] Plasma Fasting Glucose, Serum C-peptide & Insulin (2003-2004)\n",
            "   [Found] Polyaromatic Hydrocarbons (PAHs) - Urine (2003-2004)\n",
            "   [Found] Polyfluoroalkyl Chemicals (2003-2004)\n",
            "   [Found] Pregnancy Test - Urine (2003-2004)\n",
            "   [Found] Prostate Specific Antigen (PSA) (2003-2004)\n",
            "   [Found] Sex Steroid Hormone - Men (Surplus) (2003-2004)\n",
            "   [Found] Standard Biochemistry Profile (2003-2004)\n",
            "   [Found] Syphilis-IgG, Syphilis Rapid Plasma Reagin (RPR) & Treponema pallidum Particle Agglutination (TP-PA) (2003-2004)\n",
            "   [Found] Toxoplasma (IgG) & Toxoplasma (IgM) (2003-2004)\n",
            "   [Found] Varicella-Zoster Virus Antibody (Surplus) (2003-2004)\n",
            "   [Found] Vitamin A, Vitamin E & Carotenoids (2003-2004)\n",
            "   [Found] Vitamin B6 (2003-2004)\n",
            "   [Found] Vitamin C (2003-2004)\n",
            "   [Found] Vitamin D (2003-2004)\n",
            "   [Found] Volatile Organic Compounds - Blood, Water, & Related Questionnaire Items (2003-2004)\n",
            "   [Found] Acculturation (2003-2004)\n",
            "   [Found] Alcohol Use (2003-2004)\n",
            "   [Found] Analgesic Pain Relievers (2003-2004)\n",
            "   [Found] Audiometry (2003-2004)\n",
            "   [Found] Balance (2003-2004)\n",
            "   [Found] Blood Pressure & Cholesterol (2003-2004)\n",
            "   [Found] Cardiovascular Health (2003-2004)\n",
            "   [Found] Current Health Status (2003-2004)\n",
            "   [Found] Dermatology (2003-2004)\n",
            "   [Found] Diabetes (2003-2004)\n",
            "   [Found] Diet Behavior & Nutrition (2003-2004)\n",
            "   [Found] Drug Use (2003-2004)\n",
            "   [Found] Early Childhood (2003-2004)\n",
            "   [Found] Food Security (2003-2004)\n",
            "   [Found] Health Insurance (2003-2004)\n",
            "   [Found] Hepatitis C Follow Up (2003-2004)\n",
            "   [Found] Hospital Utilization & Access to Care (2003-2004)\n",
            "   [Found] Housing Characteristics (2003-2004)\n",
            "   [Found] Immunization (2003-2004)\n",
            "   [Found] Kidney Conditions - Urology (2003-2004)\n",
            "   [Found] Medical Conditions (2003-2004)\n",
            "   [Found] Mental Health - Depression (2003-2004)\n",
            "   [Found] Mental Health - Generalized Anxiety Disorder (2003-2004)\n",
            "   [Found] Mental Health - Panic Disorder (2003-2004)\n",
            "   [Found] Miscellaneous Pain (2003-2004)\n",
            "   [Found] Occupation (2003-2004)\n",
            "   [Found] Oral Health (2003-2004)\n",
            "   [Found] Osteoporosis (2003-2004)\n",
            "   [Found] Pesticide Use (2003-2004)\n",
            "   [Found] Physical Activity (2003-2004)\n",
            "   [Found] Physical Activity - Individual Activities (2003-2004)\n",
            "   [Found] Physical Functioning (2003-2004)\n",
            "   [Found] Prescription Medications (2003-2004)\n",
            "   [Found] Prostate Conditions (2003-2004)\n",
            "   [Found] Prostate Specific Antigen Follow-up (2003-2004)\n",
            "   [Found] Reproductive Health (2003-2004)\n",
            "   [Found] Respiratory Health (2003-2004)\n",
            "   [Found] Sexual Behavior (2003-2004)\n",
            "   [Found] Smoking - Adult Recent Tobacco Use & Youth Cigarette/Tobacco Use (2003-2004)\n",
            "   [Found] Smoking - Cigarette/Tobacco Use - Adult (2003-2004)\n",
            "   [Found] Smoking - Household Smokers (2003-2004)\n",
            "   [Found] Social Support (2003-2004)\n",
            "   [Found] Vision (2003-2004)\n",
            "   [Found] Weight History (2003-2004)\n"
          ]
        },
        {
          "output_type": "stream",
          "name": "stderr",
          "text": [
            "\rCrawling NHANES cycles:  85%|████████▍ | 11/13 [01:31<00:16,  8.23s/it]"
          ]
        },
        {
          "output_type": "stream",
          "name": "stdout",
          "text": [
            "\n",
            "🔹 Scanning cycle: NHANES 2001-2002\n",
            "   [Found] Demographic Variables & Sample Weights (2001-2002)\n",
            "   [Added] Demographics dataset for NHANES 2001-2002\n",
            "   [Found] Dietary Interview - Individual Foods (2001-2002)\n",
            "   [Found] Dietary Interview - Total Nutrient Intakes (2001-2002)\n",
            "   [Found] Dietary Interview Technical Support File - Food Code Format File (2001-2002)\n",
            "   [Found] Dietary Supplement Use 30-Day - File 1, Supplement Counts (2001-2002)\n",
            "   [Found] Dietary Supplement Use 30-Day - File 2, Participant's Use of Supplements (2001-2002)\n",
            "   [Found] Audiometry (2001-2002)\n",
            "   [Found] Audiometry - Acoustic Reflex (2001-2002)\n",
            "   [Found] Audiometry - Tympanometry (2001-2002)\n",
            "   [Found] Balance (2001-2002)\n",
            "   [Found] Bioelectrical Impedance Analysis (2001-2002)\n",
            "   [Found] Blood Pressure (2001-2002)\n",
            "   [Found] Body Measures (2001-2002)\n",
            "   [Found] Cardiovascular Fitness (2001-2002)\n",
            "   [Found] Dual-Energy X-ray Absorptiometry - Whole Body, Second Exam (2001-2002)\n",
            "   [Found] Lower Extremity Disease - Ankle Brachial Blood Pressure Index (2001-2002)\n",
            "   [Found] Lower Extremity Disease - Peripheral Neuropathy (2001-2002)\n",
            "   [Found] Muscle Strength (2001-2002)\n",
            "   [Found] Oral Health - Dentition (2001-2002)\n",
            "   [Found] Oral Health - Periodontal/Lower (2001-2002)\n",
            "   [Found] Oral Health - Periodontal/Upper (2001-2002)\n",
            "   [Found] Oral Health - Recommendation of Care (2001-2002)\n",
            "   [Found] Vision (2001-2002)\n",
            "   [Found] Albumin & Creatinine - Urine (2001-2002)\n",
            "   [Found] Anti-Mullerian Hormone (AMH) & Inhibin-B (Surplus) (2001-2002)\n",
            "   [Found] Bacterial vaginosis (BV) & Trichomonas vaginalis (2001-2002)\n",
            "   [Found] Brominated Flame Retardants (BFRs) - Pooled Samples (Surplus) (2001-2002)\n",
            "   [Found] Cadmium, Lead, Mercury, Cotinine & Nutritional Biochemistries (2001-2002)\n",
            "   [Found] Cadmium, Lead, Total Mercury, Ferritin, Serum Folate, RBC Folate, Vitamin B12, Homocysteine, Methylmalonic acid, Cotinine - Blood, Second Exam (2001-2002)\n",
            "   [Found] Caffeine & Caffeine Metabolites - Urine (Surplus) (2001-2002)\n",
            "   [Found] Cancer antigen CA125 and CA15.3 - Serum (Surplus) (2001-2002)\n",
            "   [Found] Cancer antigen CA125, CA15.3 and HE4 IgG antibodies - Serum (Surplus) (2001-2002)\n",
            "   [Found] Chlamydia & Gonorrhea - Urine (2001-2002)\n",
            "   [Found] Cholesterol - LDL & Triglycerides (2001-2002)\n",
            "   [Found] Cholesterol - Total & HDL (2001-2002)\n",
            "   [Found] Cholesterol - Total, HDL, LDL  & Triglycerides, Second Exam (2001-2002)\n",
            "   [Found] Complete Blood Count with 5-part Differential - Whole Blood (2001-2002)\n",
            "   [Found] Complete Blood Count with 5-part Differential - Whole Blood, Second Exam (2001-2002)\n",
            "   [Found] C-Reactive Protein & Others, Second Exam (2001-2002)\n",
            "   [Found] C-Reactive protein (CRP), Fibrinogen, Bone Alkaline Phosphatase & Urinary N-telopeptides (2001-2002)\n",
            "   [Found] Creatinine & Albumin - Urine, Second Exam (2001-2002)\n",
            "   [Found] Cystatin C (Surplus) (2001-2002)\n",
            "   [Found] Cytomegalovirus Antibodies - Serum (Surplus) (2001-2002)\n",
            "   [Found] Dioxins, Furans, & Coplanar PCBs (2001-2002)\n",
            "   [Found] Enterovirus D68 (EV-D68) - Serum (Surplus) (2001-2002)\n",
            "   [Found] Erythrocyte Protoporphyrin (2001-2002)\n",
            "   [Found] Erythrocyte Protoporphyrin (2001-2002)\n",
            "   [Found] Fasting Questionnaire (2001-2002)\n",
            "   [Found] Glycohemoglobin (2001-2002)\n",
            "   [Found] Glycohemoglobin, Plasma Glucose, Serum C-peptide, & Insulin, Second Exam (2001-2002)\n",
            "   [Found] Hepatitis A Antibody (2001-2002)\n",
            "   [Found] Hepatitis B Surface Antibody (2001-2002)\n",
            "   [Found] Hepatitis B: Core Antibody & Surface Antigen; Hepatitis C: Confirmed Antibody & RNA (HCV-RNA); Hepatitis D Antibody (2001-2002)\n",
            "   [Found] Herpes Simplex Virus Type-1 & Type-2 (2001-2002)\n",
            "   [Found] Herpes Simplex Virus Type-1 (Surplus) (2001-2002)\n",
            "   [Found] HIV Antibody Test, CD4+ T Lymphocytes & CD8+ T Cells (2001-2002)\n",
            "   [Found] Human epididymal secretory protein E4 (HE4) - Serum (Surplus) (2001-2002)\n",
            "   [Found] Iodine - Urine (2001-2002)\n",
            "   [Found] Iron, Total Iron Binding Capacity (TIBC), & Transferrin Saturation (2001-2002)\n",
            "   [Found] Lead - Dust (2001-2002)\n",
            "   [Found] Measles, Rubella, & Varicella (2001-2002)\n",
            "   [Found] Measles, Rubella, & Varicella, Second Exam (2001-2002)\n",
            "   [Found] Metals - Urine (2001-2002)\n",
            "   [Found] Methicillin - Resistant Staphylococcus aureus (MRSA) (2001-2002)\n",
            "   [Found] Monoclonal gammopathy of undetermined significance (MGUS) (Surplus) (2001-2002)\n",
            "   [Found] Mumps Antibody - Serum (Surplus) (2001-2002)\n",
            "   [Found] Non-dioxin-like Polychlorinated Biphenyls - Pooled Samples (Surplus Sera) (2001-2002)\n",
            "   [Found] Perchlorate, Nitrate & Thiocyanate - Urine (Surplus) (2001-2002)\n",
            "   [Found] Pesticides - Current Use - Urine (Formerly Priority Pesticides, Non-persistent Pesticide Metabolites) (2001-2002)\n",
            "   [Found] Pesticides - Organochlorine Metabolites - Serum - Pooled Samples (Surplus) (2001-2002)\n",
            "   [Found] Phthalates, Phytoestrogens & PAHs - Urine (2001-2002)\n",
            "   [Found] Plasma Fasting Glucose, Serum C-peptide & Insulin (2001-2002)\n",
            "   [Found] Polyfluoroalkyl Chemicals - Pooled Samples (Surplus) (2001-2002)\n",
            "   [Found] Pregnancy Test - Urine (2001-2002)\n",
            "   [Found] Prostate specific antigen (PSA) (2001-2002)\n",
            "   [Found] Prostate-specific Antigen (PSA), Second Exam (2001-2002)\n",
            "   [Found] Sex Steroid Hormone - Men (Surplus) (2001-2002)\n",
            "   [Found] Standard Biochemistry Profile (2001-2002)\n",
            "   [Found] Standard Biochemistry Profile, Follicle Stimulating Hormone & Luteinizing Hormone, Second Exam (2001-2002)\n",
            "   [Found] Syphilis-IgG, Syphilis Rapid Plasma Reagin (RPR) & Treponema pallidum Particle Agglutination (TP-PA) (2001-2002)\n",
            "   [Found] Telomere Mean and Standard Deviation (Surplus) (2001-2002)\n",
            "   [Found] Thyroid - Stimulating Hormone & Thyroxine (TSH & T4) (2001-2002)\n",
            "   [Found] Thyroid Profile (Surplus) (2001-2002)\n",
            "   [Found] Toxoplasma (IgG), Toxoplasma (IgM),Toxoplasma (Dye),Toxoplasma Differential Agglutination, & Toxoplasma (Avidity) (2001-2002)\n",
            "   [Found] Transferrin Receptor - Pregnant Women (Surplus) (2001-2002)\n",
            "   [Found] Varicella-Zoster Virus Antibody (Surplus) (2001-2002)\n",
            "   [Found] Vitamin A, Vitamin E & Carotenoids (2001-2002)\n",
            "   [Found] Vitamin A, Vitamin E, & Carotenoids, Second Exam (2001-2002)\n",
            "   [Found] Vitamin D (2001-2002)\n",
            "   [Found] Volatile Organic Compounds - Blood & Water (2001-2002)\n",
            "   [Found] Acculturation (2001-2002)\n",
            "   [Found] Alcohol Use (2001-2002)\n",
            "   [Found] Analgesic Pain Relievers (2001-2002)\n",
            "   [Found] Audiometry (2001-2002)\n",
            "   [Found] Balance (2001-2002)\n",
            "   [Found] Blood Pressure & Cholesterol (2001-2002)\n",
            "   [Found] Cardiovascular Health (2001-2002)\n",
            "   [Found] Cognitive Functioning (2001-2002)\n",
            "   [Found] Current Health Status (2001-2002)\n",
            "   [Found] Dermatology (2001-2002)\n",
            "   [Found] Diabetes (2001-2002)\n",
            "   [Found] Diet Behavior & Nutrition (2001-2002)\n",
            "   [Found] Drug Use (2001-2002)\n",
            "   [Found] Early Childhood (2001-2002)\n",
            "   [Found] Food Security (2001-2002)\n",
            "   [Found] Health Insurance (2001-2002)\n",
            "   [Found] Hepatitis C Follow Up (2001-2002)\n",
            "   [Found] Hospital Utilization & Access to Care (2001-2002)\n",
            "   [Found] Housing Characteristics (2001-2002)\n",
            "   [Found] Immunization (2001-2002)\n",
            "   [Found] Kidney Conditions - Urology (2001-2002)\n",
            "   [Found] Medical Conditions (2001-2002)\n",
            "   [Found] Mental Health - Depression (2001-2002)\n",
            "   [Found] Mental Health - Generalized Anxiety Disorder (2001-2002)\n",
            "   [Found] Mental Health - Panic Disorder (2001-2002)\n",
            "   [Found] Miscellaneous Pain (2001-2002)\n",
            "   [Found] Occupation (2001-2002)\n",
            "   [Found] Oral Health (2001-2002)\n",
            "   [Found] Osteoporosis (2001-2002)\n",
            "   [Found] Pesticide Use (2001-2002)\n",
            "   [Found] Physical Activity (2001-2002)\n",
            "   [Found] Physical Activity - Individual Activities (2001-2002)\n",
            "   [Found] Physical Functioning (2001-2002)\n",
            "   [Found] Prescription Medications (2001-2002)\n",
            "   [Found] Prostate Conditions (2001-2002)\n",
            "   [Found] Reproductive Health (2001-2002)\n",
            "   [Found] Respiratory Health (2001-2002)\n",
            "   [Found] Sexual Behavior (2001-2002)\n",
            "   [Found] Smoking - Adult Recent Tobacco Use & Youth Cigarette/Tobacco Use (2001-2002)\n",
            "   [Found] Smoking - Cigarette/Tobacco Use - Adult (2001-2002)\n",
            "   [Found] Smoking - Household Smokers (2001-2002)\n",
            "   [Found] Social Support (2001-2002)\n",
            "   [Found] Vision (2001-2002)\n",
            "   [Found] Weight History (2001-2002)\n"
          ]
        },
        {
          "output_type": "stream",
          "name": "stderr",
          "text": [
            "\rCrawling NHANES cycles:  92%|█████████▏| 12/13 [01:39<00:08,  8.15s/it]"
          ]
        },
        {
          "output_type": "stream",
          "name": "stdout",
          "text": [
            "\n",
            "🔹 Scanning cycle: NHANES 1999-2000\n",
            "   [Found] Demographic Variables & Sample Weights (1999-2000)\n",
            "   [Added] Demographics dataset for NHANES 1999-2000\n",
            "   [Found] Dietary Interview - Individual Foods (1999-2000)\n",
            "   [Found] Dietary Interview - Total Nutrient Intakes (1999-2000)\n",
            "   [Found] Dietary Interview Technical Support File - Food Code Format File (1999-2000)\n",
            "   [Found] Dietary Supplement Use 30-Day - File 1, Supplement Counts (1999-2000)\n",
            "   [Found] Dietary Supplement Use 30-Day - File 2, Participant's Use of Supplements (1999-2000)\n",
            "   [Found] Audiometry (1999-2000)\n",
            "   [Found] Audiometry - Acoustic Reflex (1999-2000)\n",
            "   [Found] Audiometry - Tympanometry (1999-2000)\n",
            "   [Found] Balance (1999-2000)\n",
            "   [Found] Bioelectrical Impedance Analysis (1999-2000)\n",
            "   [Found] Blood Pressure (1999-2000)\n",
            "   [Found] Body Measures (1999-2000)\n",
            "   [Found] Cardiovascular Fitness (1999-2000)\n",
            "   [Found] Lower Extremity Disease - Ankle Brachial Blood Pressure Index (1999-2000)\n",
            "   [Found] Lower Extremity Disease - Peripheral Neuropathy (1999-2000)\n",
            "   [Found] Muscle Strength (1999-2000)\n",
            "   [Found] Oral Health - Dentition (1999-2000)\n",
            "   [Found] Oral Health - Periodontal (1999-2000)\n",
            "   [Found] Oral Health - Recommendation of Care (1999-2000)\n",
            "   [Found] Shared Exclusion Questions (1999-2000)\n",
            "   [Found] Tuberculosis (1999-2000)\n",
            "   [Found] Vision (1999-2000)\n",
            "   [Found] Aflatoxin B1-lysine - Serum (Surplus) (1999-2000)\n",
            "   [Found] Albumin & Creatinine - Urine (1999-2000)\n",
            "   [Found] Anti-Mullerian Hormone (AMH) & Inhibin-B (Surplus) (1999-2000)\n",
            "   [Found] Cadmium, Lead, Mercury, Cotinine & Nutritional Biochemistries (1999-2000)\n",
            "   [Found] Caffeine & Caffeine Metabolites - Urine (Surplus) (1999-2000)\n",
            "   [Found] Chlamydia & Gonorrhea - Urine (1999-2000)\n",
            "   [Found] Cholesterol - LDL & Triglycerides (1999-2000)\n",
            "   [Found] Cholesterol - Total & HDL (1999-2000)\n",
            "   [Found] Complete Blood Count with 5-part Differential - Whole Blood (1999-2000)\n",
            "   [Found] C-Reactive Protein (CRP) (1999-2000)\n",
            "   [Found] Cryptosporidum & Toxoplasma (1999-2000)\n",
            "   [Found] Cystatin C - Serum (Surplus) (1999-2000)\n",
            "   [Found] Cytomegalovirus Antibodies - Serum (Surplus) (1999-2000)\n",
            "   [Found] Dioxins, Furans, & Coplanar PCBs (1999-2000)\n",
            "   [Found] Enterovirus D68 (EV-D68) - Serum (Surplus) (1999-2000)\n",
            "   [Found] Fasting Questionnaire (1999-2000)\n",
            "   [Found] Folic Acid - Unmetabolized (Surplus) (1999-2000)\n",
            "   [Found] Glycohemoglobin (1999-2000)\n",
            "   [Found] Hepatitis A Antibody (1999-2000)\n",
            "   [Found] Hepatitis B Surface Antibody (1999-2000)\n",
            "   [Found] Hepatitis B: Core Antibody & Surface Antigen; Hepatitis C: Confirmed Antibody & RNA (HCV-RNA); Hepatitis D Antibody (1999-2000)\n",
            "   [Found] Herpes Simplex Virus Type-1 & Type-2 (1999-2000)\n",
            "   [Found] Herpes Simplex Virus Type-1 (Surplus) (1999-2000)\n",
            "   [Found] HIV Antibody Test, CD4+ T Lymphocytes & CD8+ T Cells (1999-2000)\n",
            "   [Found] Latex (1999-2000)\n",
            "   [Found] Lead - Dust (1999-2000)\n",
            "   [Found] Measles, Rubella, & Varicella (1999-2000)\n",
            "   [Found] Mercury - Hair (1999-2000)\n",
            "   [Found] Metals - Urine (1999-2000)\n",
            "   [Found] Monoclonal gammopathy of undetermined significance (MGUS) (Surplus) (1999-2000)\n",
            "   [Found] Mumps Antibody - Serum (Surplus) (1999-2000)\n",
            "   [Found] Norovirus antibody - Serum (1999-2000)\n",
            "   [Found] Perfluoroalkyl Chemicals - Serum (Surplus) (1999-2000)\n",
            "   [Found] Pesticides - Current Use - Urine (Formerly Priority Pesticides, Non-persistent Pesticide Metabolites) (1999-2000)\n",
            "   [Found] Phthalates, Phytoestrogens & PAHs - Urine PHPYPA Urinary Phthalates (1999-2000)\n",
            "   [Found] Plasma Fasting Glucose, Serum C-peptide & Insulin (1999-2000)\n",
            "   [Found] Pregnancy Test - Urine (1999-2000)\n",
            "   [Found] Sex Steroid Hormone - Men (Surplus) (1999-2000)\n",
            "   [Found] Standard Biochemistry Profile & Hormones (1999-2000)\n",
            "   [Found] Telomere Mean and Standard Deviation (Surplus) (1999-2000)\n",
            "   [Found] Thyroid - Stimulating Hormone & Thyroxine (TSH & T4) (1999-2000)\n",
            "   [Found] Trans Fatty Acids (1999-2000)\n",
            "   [Found] Transferrin Receptor - Pregnant Women (Surplus) (1999-2000)\n",
            "   [Found] Varicella-Zoster Virus Antibody (Surplus) (1999-2000)\n",
            "   [Found] Volatile Organic Compounds - Blood & Water (1999-2000)\n",
            "   [Found] Volatile Organic Compounds (VOC) - Personal Exposure Badge (1999-2000)\n",
            "   [Found] Acculturation (1999-2000)\n",
            "   [Found] Alcohol Use (1999-2000)\n",
            "   [Found] Analgesic Pain Relievers (1999-2000)\n",
            "   [Found] Audiometry (1999-2000)\n",
            "   [Found] Balance (1999-2000)\n",
            "   [Found] Blood Pressure & Cholesterol (1999-2000)\n",
            "   [Found] Cardiovascular Health (1999-2000)\n",
            "   [Found] Cognitive Functioning (1999-2000)\n",
            "   [Found] Current Health Status (1999-2000)\n",
            "   [Found] Dermatology (1999-2000)\n",
            "   [Found] Diabetes (1999-2000)\n",
            "   [Found] Diet Behavior & Nutrition (1999-2000)\n",
            "   [Found] Drug Use (1999-2000)\n",
            "   [Found] Early Childhood (1999-2000)\n",
            "   [Found] Food Security (1999-2000)\n",
            "   [Found] Health Insurance (1999-2000)\n",
            "   [Found] Hospital Utilization & Access to Care (1999-2000)\n",
            "   [Found] Housing Characteristics (1999-2000)\n",
            "   [Found] Immunization (1999-2000)\n",
            "   [Found] Kidney Conditions (1999-2000)\n",
            "   [Found] Medical Conditions (1999-2000)\n",
            "   [Found] Mental Health - Depression (1999-2000)\n",
            "   [Found] Mental Health - Generalized Anxiety Disorder (1999-2000)\n",
            "   [Found] Mental Health - Panic Disorder (1999-2000)\n",
            "   [Found] Miscellaneous Pain (1999-2000)\n",
            "   [Found] Occupation (1999-2000)\n",
            "   [Found] Oral Health (1999-2000)\n",
            "   [Found] Osteoporosis (1999-2000)\n",
            "   [Found] Pesticide Use (1999-2000)\n",
            "   [Found] Physical Activity (1999-2000)\n",
            "   [Found] Physical Activity - Individual Activities (1999-2000)\n",
            "   [Found] Physical Functioning (1999-2000)\n",
            "   [Found] Prescription Medications (1999-2000)\n",
            "   [Found] Reproductive Health (1999-2000)\n",
            "   [Found] Respiratory Health (1999-2000)\n",
            "   [Found] Sexual Behavior (1999-2000)\n",
            "   [Found] Smoking - Adult Recent Tobacco Use & Youth Cigarette/Tobacco Use (1999-2000)\n",
            "   [Found] Smoking - Cigarette/Tobacco Use - Adult (1999-2000)\n",
            "   [Found] Smoking - Household Smokers (1999-2000)\n",
            "   [Found] Social Support (1999-2000)\n",
            "   [Found] Tuberculosis (1999-2000)\n",
            "   [Found] Vision (1999-2000)\n",
            "   [Found] Weight History (1999-2000)\n"
          ]
        },
        {
          "output_type": "stream",
          "name": "stderr",
          "text": [
            "Crawling NHANES cycles: 100%|██████████| 13/13 [01:46<00:00,  8.23s/it]\n"
          ]
        },
        {
          "output_type": "stream",
          "name": "stdout",
          "text": [
            "\n",
            "✅ Crawling complete! Saved 1716 records to nhanes_catalog.json and nhanes_catalog.csv.\n",
            "🔹 Demographics datasets preserved: 13\n",
            "🔹 Non-demographics datasets to filter: 1703\n",
            "✅ Biomedical expansion complete: 49 keywords\n",
            "\n",
            "✅ AI filter applied: 189 datasets selected (excluding demographics)\n",
            "🧠 Computing sentence embeddings...\n"
          ]
        },
        {
          "output_type": "stream",
          "name": "stderr",
          "text": [
            "/usr/local/lib/python3.12/dist-packages/huggingface_hub/utils/_auth.py:94: UserWarning: \n",
            "The secret `HF_TOKEN` does not exist in your Colab secrets.\n",
            "To authenticate with the Hugging Face Hub, create a token in your settings tab (https://huggingface.co/settings/tokens), set it as secret in your Google Colab and restart your session.\n",
            "You will be able to reuse this secret in all of your notebooks.\n",
            "Please note that authentication is recommended but still optional to access public models or datasets.\n",
            "  warnings.warn(\n"
          ]
        },
        {
          "output_type": "display_data",
          "data": {
            "text/plain": [
              "modules.json:   0%|          | 0.00/349 [00:00<?, ?B/s]"
            ],
            "application/vnd.jupyter.widget-view+json": {
              "version_major": 2,
              "version_minor": 0,
              "model_id": "5816654c47934b6a9616d07eee23b30b"
            }
          },
          "metadata": {}
        },
        {
          "output_type": "display_data",
          "data": {
            "text/plain": [
              "config_sentence_transformers.json:   0%|          | 0.00/116 [00:00<?, ?B/s]"
            ],
            "application/vnd.jupyter.widget-view+json": {
              "version_major": 2,
              "version_minor": 0,
              "model_id": "906bdd9e6b2c4178a5ee7748a6d9eebf"
            }
          },
          "metadata": {}
        },
        {
          "output_type": "display_data",
          "data": {
            "text/plain": [
              "README.md: 0.00B [00:00, ?B/s]"
            ],
            "application/vnd.jupyter.widget-view+json": {
              "version_major": 2,
              "version_minor": 0,
              "model_id": "97402c8c75714f13ae04b9a1fbf1bcfa"
            }
          },
          "metadata": {}
        },
        {
          "output_type": "display_data",
          "data": {
            "text/plain": [
              "sentence_bert_config.json:   0%|          | 0.00/53.0 [00:00<?, ?B/s]"
            ],
            "application/vnd.jupyter.widget-view+json": {
              "version_major": 2,
              "version_minor": 0,
              "model_id": "3a4934a9306745478396fe85972e0a4c"
            }
          },
          "metadata": {}
        },
        {
          "output_type": "display_data",
          "data": {
            "text/plain": [
              "config.json:   0%|          | 0.00/612 [00:00<?, ?B/s]"
            ],
            "application/vnd.jupyter.widget-view+json": {
              "version_major": 2,
              "version_minor": 0,
              "model_id": "8d1c17941e454f27aede720246f4ef80"
            }
          },
          "metadata": {}
        },
        {
          "output_type": "display_data",
          "data": {
            "text/plain": [
              "model.safetensors:   0%|          | 0.00/90.9M [00:00<?, ?B/s]"
            ],
            "application/vnd.jupyter.widget-view+json": {
              "version_major": 2,
              "version_minor": 0,
              "model_id": "d8e89f101730436e9a6f64bcfa285c8f"
            }
          },
          "metadata": {}
        },
        {
          "output_type": "display_data",
          "data": {
            "text/plain": [
              "tokenizer_config.json:   0%|          | 0.00/350 [00:00<?, ?B/s]"
            ],
            "application/vnd.jupyter.widget-view+json": {
              "version_major": 2,
              "version_minor": 0,
              "model_id": "2227edef3f3547d694c2dc8c89550973"
            }
          },
          "metadata": {}
        },
        {
          "output_type": "display_data",
          "data": {
            "text/plain": [
              "vocab.txt: 0.00B [00:00, ?B/s]"
            ],
            "application/vnd.jupyter.widget-view+json": {
              "version_major": 2,
              "version_minor": 0,
              "model_id": "63541c37faae4942a7b34b9bd677c50c"
            }
          },
          "metadata": {}
        },
        {
          "output_type": "display_data",
          "data": {
            "text/plain": [
              "tokenizer.json: 0.00B [00:00, ?B/s]"
            ],
            "application/vnd.jupyter.widget-view+json": {
              "version_major": 2,
              "version_minor": 0,
              "model_id": "a3336edc7a8f429987a9be8c3b40f447"
            }
          },
          "metadata": {}
        },
        {
          "output_type": "display_data",
          "data": {
            "text/plain": [
              "special_tokens_map.json:   0%|          | 0.00/112 [00:00<?, ?B/s]"
            ],
            "application/vnd.jupyter.widget-view+json": {
              "version_major": 2,
              "version_minor": 0,
              "model_id": "0a51783a94864db881b9955f1f94ade4"
            }
          },
          "metadata": {}
        },
        {
          "output_type": "display_data",
          "data": {
            "text/plain": [
              "config.json:   0%|          | 0.00/190 [00:00<?, ?B/s]"
            ],
            "application/vnd.jupyter.widget-view+json": {
              "version_major": 2,
              "version_minor": 0,
              "model_id": "abccfc97785d4f348567fcddb9e34e18"
            }
          },
          "metadata": {}
        },
        {
          "output_type": "display_data",
          "data": {
            "text/plain": [
              "Batches:   0%|          | 0/6 [00:00<?, ?it/s]"
            ],
            "application/vnd.jupyter.widget-view+json": {
              "version_major": 2,
              "version_minor": 0,
              "model_id": "a0402b98e1614c9dbac9157fa2de01bc"
            }
          },
          "metadata": {}
        },
        {
          "output_type": "stream",
          "name": "stdout",
          "text": [
            "✅ Dynamic semantic refinement complete: 158 datasets saved → nhanes_ai_semantic_dynamic.csv\n"
          ]
        }
      ]
    },
    {
      "cell_type": "code",
      "source": [
        "import os\n",
        "!pip install pyreadstat\n",
        "import requests\n",
        "import pyreadstat\n",
        "import pandas as pd\n",
        "from tqdm import tqdm\n",
        "import time\n",
        "\n",
        "OUTPUT_DIR = \"nhanes_data\"\n",
        "os.makedirs(OUTPUT_DIR, exist_ok=True)\n",
        "\n",
        "df_filtered = pd.read_csv(\"nhanes_ai_semantic_dynamic.csv\")\n",
        "\n",
        "MAX_RETRIES = 5\n",
        "RETRY_DELAY = 2\n",
        "\n",
        "for idx, row in tqdm(df_filtered.iterrows(), total=len(df_filtered), desc=\"Downloading NHANES datasets\"):\n",
        "    dataset_name = row[\"dataset_name\"]\n",
        "    xpt_url = row[\"data_url\"]\n",
        "\n",
        "    if not isinstance(xpt_url, str) or not xpt_url.strip():\n",
        "        print(f\"⚠️ Skipping {dataset_name}: No URL provided\")\n",
        "        continue\n",
        "\n",
        "    # Clean URL thoroughly\n",
        "    xpt_url = xpt_url.strip().replace(\"\\n\", \"\").replace(\"\\r\", \"\")\n",
        "    if xpt_url.startswith(\"/\"):\n",
        "        xpt_url = \"https://wwwn.cdc.gov\" + xpt_url\n",
        "\n",
        "    # Use cycle/component in filename to prevent collisions\n",
        "    cycle = row.get(\"cycle\", \"UnknownCycle\")\n",
        "    component = row.get(\"component\", \"UnknownComponent\")\n",
        "    filename = f\"{cycle}_{component}_{dataset_name}\".replace(\"/\", \"_\").replace(\" \", \"_\") + \".csv\"\n",
        "    filepath = os.path.join(OUTPUT_DIR, filename)\n",
        "\n",
        "    if os.path.exists(filepath):\n",
        "        continue\n",
        "\n",
        "    success = False\n",
        "    for attempt in range(1, MAX_RETRIES + 1):\n",
        "        try:\n",
        "            resp = requests.get(xpt_url, timeout=30, allow_redirects=True)\n",
        "            resp.raise_for_status()\n",
        "\n",
        "            # Save temp .XPT\n",
        "            with open(\"temp.xpt\", \"wb\") as f:\n",
        "                f.write(resp.content)\n",
        "\n",
        "                # Convert to CSV\n",
        "                df_xpt, meta = pyreadstat.read_xport(\"temp.xpt\", encoding=\"latin1\")\n",
        "\n",
        "            # Add metadata\n",
        "            df_xpt[\"NHANES_Cycle\"] = cycle\n",
        "            df_xpt[\"Component\"] = component\n",
        "            df_xpt[\"Dataset_Name\"] = dataset_name\n",
        "            df_xpt[\"Doc_URL\"] = row.get(\"doc_url\", \"\")\n",
        "\n",
        "            df_xpt.to_csv(filepath, index=False)\n",
        "            os.remove(\"temp.xpt\")\n",
        "\n",
        "            print(f\"✅ Saved {filename}\")\n",
        "            success = True\n",
        "            time.sleep(0.2)\n",
        "            break\n",
        "\n",
        "        except Exception as e:\n",
        "            print(f\"⚠️ Attempt {attempt} failed for {dataset_name}: {e}\")\n",
        "            time.sleep(RETRY_DELAY)\n",
        "\n",
        "    if not success:\n",
        "        print(f\"❌ Failed to download {dataset_name}\")\n",
        "\n",
        "print(f\"\\n✅ Download complete. Files saved in '{OUTPUT_DIR}'\")\n",
        "\n",
        "\n",
        "\n",
        "\n",
        "\n",
        "\n"
      ],
      "metadata": {
        "colab": {
          "base_uri": "https://localhost:8080/"
        },
        "id": "hXcDTeXnRanN",
        "outputId": "792b4adb-e127-4acd-ea2d-7e19997073f4"
      },
      "execution_count": null,
      "outputs": [
        {
          "output_type": "stream",
          "name": "stdout",
          "text": [
            "Collecting pyreadstat\n",
            "  Downloading pyreadstat-1.3.1-cp312-cp312-manylinux2014_x86_64.manylinux_2_17_x86_64.whl.metadata (1.2 kB)\n",
            "Requirement already satisfied: narwhals>=1.47 in /usr/local/lib/python3.12/dist-packages (from pyreadstat) (2.8.0)\n",
            "Requirement already satisfied: numpy in /usr/local/lib/python3.12/dist-packages (from pyreadstat) (2.0.2)\n",
            "Downloading pyreadstat-1.3.1-cp312-cp312-manylinux2014_x86_64.manylinux_2_17_x86_64.whl (666 kB)\n",
            "\u001b[2K   \u001b[90m━━━━━━━━━━━━━━━━━━━━━━━━━━━━━━━━━━━━━━━━\u001b[0m \u001b[32m666.4/666.4 kB\u001b[0m \u001b[31m11.8 MB/s\u001b[0m eta \u001b[36m0:00:00\u001b[0m\n",
            "\u001b[?25hInstalling collected packages: pyreadstat\n",
            "Successfully installed pyreadstat-1.3.1\n"
          ]
        },
        {
          "output_type": "stream",
          "name": "stderr",
          "text": [
            "\rDownloading NHANES datasets:   0%|          | 0/158 [00:00<?, ?it/s]"
          ]
        },
        {
          "output_type": "stream",
          "name": "stdout",
          "text": [
            "✅ Saved NHANES_2001-2002_Laboratory_Glycohemoglobin,_Plasma_Glucose,_Serum_C-peptide,_&_Insulin,_Second_Exam.csv\n"
          ]
        },
        {
          "output_type": "stream",
          "name": "stderr",
          "text": [
            "Downloading NHANES datasets:   1%|▏         | 2/158 [00:00<01:15,  2.05it/s]"
          ]
        },
        {
          "output_type": "stream",
          "name": "stdout",
          "text": [
            "✅ Saved NHANES_2001-2002_Laboratory_Plasma_Fasting_Glucose,_Serum_C-peptide_&_Insulin.csv\n"
          ]
        },
        {
          "output_type": "stream",
          "name": "stderr",
          "text": [
            "\rDownloading NHANES datasets:   2%|▏         | 3/158 [00:01<01:05,  2.35it/s]"
          ]
        },
        {
          "output_type": "stream",
          "name": "stdout",
          "text": [
            "✅ Saved NHANES_2001-2002_Laboratory_Cholesterol_-_Total,_HDL,_LDL__&_Triglycerides,_Second_Exam.csv\n"
          ]
        },
        {
          "output_type": "stream",
          "name": "stderr",
          "text": [
            "\rDownloading NHANES datasets:   3%|▎         | 4/158 [00:01<01:07,  2.29it/s]"
          ]
        },
        {
          "output_type": "stream",
          "name": "stdout",
          "text": [
            "✅ Saved NHANES_2003-2004_Laboratory_Plasma_Fasting_Glucose,_Serum_C-peptide_&_Insulin.csv\n"
          ]
        },
        {
          "output_type": "stream",
          "name": "stderr",
          "text": [
            "\rDownloading NHANES datasets:   3%|▎         | 5/158 [00:02<01:11,  2.14it/s]"
          ]
        },
        {
          "output_type": "stream",
          "name": "stdout",
          "text": [
            "✅ Saved NHANES_1999-2000_Laboratory_Plasma_Fasting_Glucose,_Serum_C-peptide_&_Insulin.csv\n"
          ]
        },
        {
          "output_type": "stream",
          "name": "stderr",
          "text": [
            "\rDownloading NHANES datasets:   4%|▍         | 6/158 [00:02<01:11,  2.12it/s]"
          ]
        },
        {
          "output_type": "stream",
          "name": "stdout",
          "text": [
            "✅ Saved NHANES_2013-2014_Laboratory_Cholesterol_-_LDL_&_Triglycerides.csv\n",
            "✅ Saved NHANES_2009-2010_Laboratory_Cholesterol_-_LDL_&_Triglycerides.csv\n"
          ]
        },
        {
          "output_type": "stream",
          "name": "stderr",
          "text": [
            "Downloading NHANES datasets:   5%|▌         | 8/158 [00:03<01:07,  2.24it/s]"
          ]
        },
        {
          "output_type": "stream",
          "name": "stdout",
          "text": [
            "✅ Saved NHANES_2011-2012_Laboratory_Cholesterol_-_LDL_&_Triglycerides.csv\n"
          ]
        },
        {
          "output_type": "stream",
          "name": "stderr",
          "text": [
            "\rDownloading NHANES datasets:   6%|▌         | 9/158 [00:04<01:05,  2.29it/s]"
          ]
        },
        {
          "output_type": "stream",
          "name": "stdout",
          "text": [
            "✅ Saved NHANES_2007-2008_Laboratory_Cholesterol_-_LDL_&_Triglycerides.csv\n"
          ]
        },
        {
          "output_type": "stream",
          "name": "stderr",
          "text": [
            "\rDownloading NHANES datasets:   6%|▋         | 10/158 [00:04<01:05,  2.27it/s]"
          ]
        },
        {
          "output_type": "stream",
          "name": "stdout",
          "text": [
            "✅ Saved NHANES_2011-2012_Laboratory_Plasma_Fasting_Glucose_&_Insulin.csv\n"
          ]
        },
        {
          "output_type": "stream",
          "name": "stderr",
          "text": [
            "\rDownloading NHANES datasets:   7%|▋         | 11/158 [00:04<01:05,  2.24it/s]"
          ]
        },
        {
          "output_type": "stream",
          "name": "stdout",
          "text": [
            "✅ Saved NHANES_2009-2010_Laboratory_Plasma_Fasting_Glucose_&_Insulin.csv\n"
          ]
        },
        {
          "output_type": "stream",
          "name": "stderr",
          "text": [
            "\rDownloading NHANES datasets:   8%|▊         | 12/158 [00:05<01:04,  2.27it/s]"
          ]
        },
        {
          "output_type": "stream",
          "name": "stdout",
          "text": [
            "✅ Saved NHANES_2005-2006_Laboratory_Cholesterol_-_LDL,_Triglyceride_&_Apoliprotein_(ApoB).csv\n"
          ]
        },
        {
          "output_type": "stream",
          "name": "stderr",
          "text": [
            "\rDownloading NHANES datasets:   8%|▊         | 13/158 [00:05<01:03,  2.29it/s]"
          ]
        },
        {
          "output_type": "stream",
          "name": "stdout",
          "text": [
            "✅ Saved NHANES_2005-2006_Laboratory_Plasma_Fasting_Glucose_&_Insulin.csv\n"
          ]
        },
        {
          "output_type": "stream",
          "name": "stderr",
          "text": [
            "\rDownloading NHANES datasets:   9%|▉         | 14/158 [00:06<01:05,  2.21it/s]"
          ]
        },
        {
          "output_type": "stream",
          "name": "stdout",
          "text": [
            "✅ Saved NHANES_2007-2008_Laboratory_Plasma_Fasting_Glucose_&_Insulin.csv\n"
          ]
        },
        {
          "output_type": "stream",
          "name": "stderr",
          "text": [
            "\rDownloading NHANES datasets:   9%|▉         | 15/158 [00:07<01:16,  1.88it/s]"
          ]
        },
        {
          "output_type": "stream",
          "name": "stdout",
          "text": [
            "✅ Saved NHANES_2005-2006_Laboratory_Fasting_Questionnaire.csv\n"
          ]
        },
        {
          "output_type": "stream",
          "name": "stderr",
          "text": [
            "\rDownloading NHANES datasets:  10%|█         | 16/158 [00:07<01:12,  1.97it/s]"
          ]
        },
        {
          "output_type": "stream",
          "name": "stdout",
          "text": [
            "✅ Saved NHANES_2001-2002_Laboratory_Cholesterol_-_LDL_&_Triglycerides.csv\n"
          ]
        },
        {
          "output_type": "stream",
          "name": "stderr",
          "text": [
            "\rDownloading NHANES datasets:  11%|█         | 17/158 [00:08<01:15,  1.88it/s]"
          ]
        },
        {
          "output_type": "stream",
          "name": "stdout",
          "text": [
            "✅ Saved NHANES_2017-2018_Laboratory_Fasting_Questionnaire.csv\n"
          ]
        },
        {
          "output_type": "stream",
          "name": "stderr",
          "text": [
            "\rDownloading NHANES datasets:  11%|█▏        | 18/158 [00:08<01:18,  1.79it/s]"
          ]
        },
        {
          "output_type": "stream",
          "name": "stdout",
          "text": [
            "✅ Saved NHANES_2017-March_2020_Laboratory_Fasting_Questionnaire.csv\n"
          ]
        },
        {
          "output_type": "stream",
          "name": "stderr",
          "text": [
            "\rDownloading NHANES datasets:  12%|█▏        | 19/158 [00:09<01:23,  1.67it/s]"
          ]
        },
        {
          "output_type": "stream",
          "name": "stdout",
          "text": [
            "✅ Saved NHANES_08_2021-08_2023_Laboratory_Fasting_Questionnaire.csv\n"
          ]
        },
        {
          "output_type": "stream",
          "name": "stderr",
          "text": [
            "\rDownloading NHANES datasets:  13%|█▎        | 20/158 [00:10<01:30,  1.52it/s]"
          ]
        },
        {
          "output_type": "stream",
          "name": "stdout",
          "text": [
            "✅ Saved NHANES_2011-2012_Laboratory_Fasting_Questionnaire.csv\n"
          ]
        },
        {
          "output_type": "stream",
          "name": "stderr",
          "text": [
            "\rDownloading NHANES datasets:  13%|█▎        | 21/158 [00:11<02:06,  1.08it/s]"
          ]
        },
        {
          "output_type": "stream",
          "name": "stdout",
          "text": [
            "✅ Saved NHANES_1999-2000_Laboratory_Fasting_Questionnaire.csv\n"
          ]
        },
        {
          "output_type": "stream",
          "name": "stderr",
          "text": [
            "\rDownloading NHANES datasets:  14%|█▍        | 22/158 [00:12<02:02,  1.11it/s]"
          ]
        },
        {
          "output_type": "stream",
          "name": "stdout",
          "text": [
            "✅ Saved NHANES_2007-2008_Laboratory_Fasting_Questionnaire.csv\n"
          ]
        },
        {
          "output_type": "stream",
          "name": "stderr",
          "text": [
            "\rDownloading NHANES datasets:  15%|█▍        | 23/158 [00:13<01:50,  1.22it/s]"
          ]
        },
        {
          "output_type": "stream",
          "name": "stdout",
          "text": [
            "✅ Saved NHANES_2015-2016_Laboratory_Fasting_Questionnaire.csv\n"
          ]
        },
        {
          "output_type": "stream",
          "name": "stderr",
          "text": [
            "\rDownloading NHANES datasets:  15%|█▌        | 24/158 [00:13<01:35,  1.41it/s]"
          ]
        },
        {
          "output_type": "stream",
          "name": "stdout",
          "text": [
            "✅ Saved NHANES_1999-2000_Laboratory_Cholesterol_-_LDL_&_Triglycerides.csv\n"
          ]
        },
        {
          "output_type": "stream",
          "name": "stderr",
          "text": [
            "\rDownloading NHANES datasets:  16%|█▌        | 25/158 [00:14<01:25,  1.55it/s]"
          ]
        },
        {
          "output_type": "stream",
          "name": "stdout",
          "text": [
            "✅ Saved NHANES_2003-2004_Laboratory_Cholesterol_-_LDL_&_Triglycerides.csv\n"
          ]
        },
        {
          "output_type": "stream",
          "name": "stderr",
          "text": [
            "\rDownloading NHANES datasets:  16%|█▋        | 26/158 [00:14<01:26,  1.53it/s]"
          ]
        },
        {
          "output_type": "stream",
          "name": "stdout",
          "text": [
            "✅ Saved NHANES_2013-2014_Laboratory_Plasma_Fasting_Glucose.csv\n"
          ]
        },
        {
          "output_type": "stream",
          "name": "stderr",
          "text": [
            "\rDownloading NHANES datasets:  17%|█▋        | 27/158 [00:15<01:34,  1.38it/s]"
          ]
        },
        {
          "output_type": "stream",
          "name": "stdout",
          "text": [
            "✅ Saved NHANES_2009-2010_Laboratory_Fasting_Questionnaire.csv\n"
          ]
        },
        {
          "output_type": "stream",
          "name": "stderr",
          "text": [
            "\rDownloading NHANES datasets:  18%|█▊        | 28/158 [00:17<02:13,  1.02s/it]"
          ]
        },
        {
          "output_type": "stream",
          "name": "stdout",
          "text": [
            "✅ Saved NHANES_2013-2014_Laboratory_Fasting_Questionnaire.csv\n"
          ]
        },
        {
          "output_type": "stream",
          "name": "stderr",
          "text": [
            "\rDownloading NHANES datasets:  18%|█▊        | 29/158 [00:18<02:11,  1.02s/it]"
          ]
        },
        {
          "output_type": "stream",
          "name": "stdout",
          "text": [
            "✅ Saved NHANES_2001-2002_Laboratory_Fasting_Questionnaire.csv\n"
          ]
        },
        {
          "output_type": "stream",
          "name": "stderr",
          "text": [
            "\rDownloading NHANES datasets:  20%|█▉        | 31/158 [00:18<01:23,  1.51it/s]"
          ]
        },
        {
          "output_type": "stream",
          "name": "stdout",
          "text": [
            "✅ Saved NHANES_08_2021-08_2023_Laboratory_Cholesterol_-_Low-Density_Lipoproteins_(LDL)_&_Triglycerides.csv\n"
          ]
        },
        {
          "output_type": "stream",
          "name": "stderr",
          "text": [
            "\rDownloading NHANES datasets:  20%|██        | 32/158 [00:19<01:22,  1.53it/s]"
          ]
        },
        {
          "output_type": "stream",
          "name": "stdout",
          "text": [
            "✅ Saved NHANES_2003-2004_Laboratory_Fasting_Questionnaire.csv\n"
          ]
        },
        {
          "output_type": "stream",
          "name": "stderr",
          "text": [
            "\rDownloading NHANES datasets:  21%|██        | 33/158 [00:20<01:37,  1.28it/s]"
          ]
        },
        {
          "output_type": "stream",
          "name": "stdout",
          "text": [
            "✅ Saved NHANES_2013-2014_Questionnaire_Diabetes.csv\n",
            "✅ Saved NHANES_2015-2016_Laboratory_Cholesterol_-_Low_-_Density_Lipoprotein_(LDL)_&_Triglycerides.csv\n"
          ]
        },
        {
          "output_type": "stream",
          "name": "stderr",
          "text": [
            "Downloading NHANES datasets:  22%|██▏       | 35/158 [00:22<01:33,  1.31it/s]"
          ]
        },
        {
          "output_type": "stream",
          "name": "stdout",
          "text": [
            "✅ Saved NHANES_2007-2008_Questionnaire_Diabetes.csv\n"
          ]
        },
        {
          "output_type": "stream",
          "name": "stderr",
          "text": [
            "\rDownloading NHANES datasets:  23%|██▎       | 36/158 [00:22<01:34,  1.30it/s]"
          ]
        },
        {
          "output_type": "stream",
          "name": "stdout",
          "text": [
            "✅ Saved NHANES_2013-2014_Questionnaire_Blood_Pressure_&_Cholesterol.csv\n"
          ]
        },
        {
          "output_type": "stream",
          "name": "stderr",
          "text": [
            "\rDownloading NHANES datasets:  23%|██▎       | 37/158 [00:24<01:51,  1.08it/s]"
          ]
        },
        {
          "output_type": "stream",
          "name": "stdout",
          "text": [
            "✅ Saved NHANES_2011-2012_Questionnaire_Diabetes.csv\n",
            "✅ Saved NHANES_2017-2018_Laboratory_Plasma_Fasting_Glucose.csv\n"
          ]
        },
        {
          "output_type": "stream",
          "name": "stderr",
          "text": [
            "Downloading NHANES datasets:  25%|██▍       | 39/158 [00:25<01:20,  1.49it/s]"
          ]
        },
        {
          "output_type": "stream",
          "name": "stdout",
          "text": [
            "✅ Saved NHANES_2017-March_2020_Laboratory_Plasma_Fasting_Glucose.csv\n"
          ]
        },
        {
          "output_type": "stream",
          "name": "stderr",
          "text": [
            "\rDownloading NHANES datasets:  25%|██▌       | 40/158 [00:25<01:09,  1.69it/s]"
          ]
        },
        {
          "output_type": "stream",
          "name": "stdout",
          "text": [
            "✅ Saved NHANES_2015-2016_Laboratory_Plasma_Fasting_Glucose.csv\n"
          ]
        },
        {
          "output_type": "stream",
          "name": "stderr",
          "text": [
            "\rDownloading NHANES datasets:  27%|██▋       | 42/158 [00:25<00:48,  2.40it/s]"
          ]
        },
        {
          "output_type": "stream",
          "name": "stdout",
          "text": [
            "✅ Saved NHANES_2017-March_2020_Laboratory_Cholesterol_-_Low-Density_Lipoproteins_(LDL)_&_Triglycerides.csv\n"
          ]
        },
        {
          "output_type": "stream",
          "name": "stderr",
          "text": [
            "\rDownloading NHANES datasets:  27%|██▋       | 43/158 [00:26<00:48,  2.40it/s]"
          ]
        },
        {
          "output_type": "stream",
          "name": "stdout",
          "text": [
            "✅ Saved NHANES_2017-2018_Laboratory_Cholesterol_-_Low-Density_Lipoproteins_(LDL)_&_Triglycerides.csv\n"
          ]
        },
        {
          "output_type": "stream",
          "name": "stderr",
          "text": [
            "\rDownloading NHANES datasets:  28%|██▊       | 44/158 [00:26<00:51,  2.23it/s]"
          ]
        },
        {
          "output_type": "stream",
          "name": "stdout",
          "text": [
            "✅ Saved NHANES_2011-2012_Questionnaire_Blood_Pressure_&_Cholesterol.csv\n",
            "✅ Saved NHANES_2005-2006_Questionnaire_Diabetes.csv\n"
          ]
        },
        {
          "output_type": "stream",
          "name": "stderr",
          "text": [
            "Downloading NHANES datasets:  29%|██▉       | 46/158 [00:28<01:01,  1.82it/s]"
          ]
        },
        {
          "output_type": "stream",
          "name": "stdout",
          "text": [
            "✅ Saved NHANES_08_2021-08_2023_Laboratory_Plasma_Fasting_Glucose.csv\n"
          ]
        },
        {
          "output_type": "stream",
          "name": "stderr",
          "text": [
            "\rDownloading NHANES datasets:  30%|███       | 48/158 [00:28<00:48,  2.29it/s]"
          ]
        },
        {
          "output_type": "stream",
          "name": "stdout",
          "text": [
            "✅ Saved NHANES_2009-2010_Questionnaire_Blood_Pressure_&_Cholesterol.csv\n"
          ]
        },
        {
          "output_type": "stream",
          "name": "stderr",
          "text": [
            "\rDownloading NHANES datasets:  31%|███       | 49/158 [00:29<00:53,  2.04it/s]"
          ]
        },
        {
          "output_type": "stream",
          "name": "stdout",
          "text": [
            "✅ Saved NHANES_2009-2010_Questionnaire_Diabetes.csv\n"
          ]
        },
        {
          "output_type": "stream",
          "name": "stderr",
          "text": [
            "\rDownloading NHANES datasets:  32%|███▏      | 50/158 [00:29<00:50,  2.15it/s]"
          ]
        },
        {
          "output_type": "stream",
          "name": "stdout",
          "text": [
            "✅ Saved NHANES_2013-2014_Laboratory_Insulin.csv\n"
          ]
        },
        {
          "output_type": "stream",
          "name": "stderr",
          "text": [
            "\rDownloading NHANES datasets:  32%|███▏      | 51/158 [00:30<00:51,  2.07it/s]"
          ]
        },
        {
          "output_type": "stream",
          "name": "stdout",
          "text": [
            "✅ Saved NHANES_2007-2008_Questionnaire_Blood_Pressure_&_Cholesterol.csv\n"
          ]
        },
        {
          "output_type": "stream",
          "name": "stderr",
          "text": [
            "\rDownloading NHANES datasets:  33%|███▎      | 52/158 [00:31<01:05,  1.61it/s]"
          ]
        },
        {
          "output_type": "stream",
          "name": "stdout",
          "text": [
            "✅ Saved NHANES_2017-March_2020_Questionnaire_Diabetes.csv\n"
          ]
        },
        {
          "output_type": "stream",
          "name": "stderr",
          "text": [
            "\rDownloading NHANES datasets:  34%|███▎      | 53/158 [00:32<01:14,  1.41it/s]"
          ]
        },
        {
          "output_type": "stream",
          "name": "stdout",
          "text": [
            "✅ Saved NHANES_2017-2018_Questionnaire_Diabetes.csv\n"
          ]
        },
        {
          "output_type": "stream",
          "name": "stderr",
          "text": [
            "\rDownloading NHANES datasets:  34%|███▍      | 54/158 [00:32<01:07,  1.53it/s]"
          ]
        },
        {
          "output_type": "stream",
          "name": "stdout",
          "text": [
            "✅ Saved NHANES_2005-2006_Questionnaire_Blood_Pressure_&_Cholesterol.csv\n"
          ]
        },
        {
          "output_type": "stream",
          "name": "stderr",
          "text": [
            "\rDownloading NHANES datasets:  35%|███▍      | 55/158 [00:33<01:01,  1.68it/s]"
          ]
        },
        {
          "output_type": "stream",
          "name": "stdout",
          "text": [
            "✅ Saved NHANES_2013-2014_Laboratory_Cholesterol_-_Total.csv\n",
            "✅ Saved NHANES_2011-2012_Laboratory_Cholesterol_-_Total.csv\n"
          ]
        },
        {
          "output_type": "stream",
          "name": "stderr",
          "text": [
            "Downloading NHANES datasets:  37%|███▋      | 58/158 [00:35<01:12,  1.37it/s]"
          ]
        },
        {
          "output_type": "stream",
          "name": "stdout",
          "text": [
            "✅ Saved NHANES_2001-2002_Questionnaire_Blood_Pressure_&_Cholesterol.csv\n"
          ]
        },
        {
          "output_type": "stream",
          "name": "stderr",
          "text": [
            "\rDownloading NHANES datasets:  37%|███▋      | 59/158 [00:36<01:14,  1.33it/s]"
          ]
        },
        {
          "output_type": "stream",
          "name": "stdout",
          "text": [
            "✅ Saved NHANES_1999-2000_Questionnaire_Blood_Pressure_&_Cholesterol.csv\n"
          ]
        },
        {
          "output_type": "stream",
          "name": "stderr",
          "text": [
            "\rDownloading NHANES datasets:  38%|███▊      | 60/158 [00:36<01:10,  1.38it/s]"
          ]
        },
        {
          "output_type": "stream",
          "name": "stdout",
          "text": [
            "✅ Saved NHANES_2015-2016_Questionnaire_Blood_Pressure_&_Cholesterol.csv\n"
          ]
        },
        {
          "output_type": "stream",
          "name": "stderr",
          "text": [
            "\rDownloading NHANES datasets:  39%|███▊      | 61/158 [00:38<01:24,  1.15it/s]"
          ]
        },
        {
          "output_type": "stream",
          "name": "stdout",
          "text": [
            "✅ Saved NHANES_2015-2016_Questionnaire_Diabetes.csv\n",
            "✅ Saved NHANES_2013-2014_Laboratory_Fatty_Acids_-_Serum.csv\n"
          ]
        },
        {
          "output_type": "stream",
          "name": "stderr",
          "text": [
            "Downloading NHANES datasets:  40%|███▉      | 63/158 [00:39<01:15,  1.27it/s]"
          ]
        },
        {
          "output_type": "stream",
          "name": "stdout",
          "text": [
            "✅ Saved NHANES_1999-2000_Laboratory_Cholesterol_-_Total_&_HDL.csv\n",
            "✅ Saved NHANES_2009-2010_Laboratory_Cholesterol_-_Total.csv\n"
          ]
        },
        {
          "output_type": "stream",
          "name": "stderr",
          "text": [
            "\rDownloading NHANES datasets:  41%|████      | 64/158 [00:40<01:05,  1.44it/s]"
          ]
        },
        {
          "output_type": "stream",
          "name": "stdout",
          "text": [
            "✅ Saved NHANES_2013-2014_Laboratory_Cholesterol_-_HDL.csv\n"
          ]
        },
        {
          "output_type": "stream",
          "name": "stderr",
          "text": [
            "Downloading NHANES datasets:  42%|████▏     | 66/158 [00:40<00:51,  1.77it/s]"
          ]
        },
        {
          "output_type": "stream",
          "name": "stdout",
          "text": [
            "✅ Saved NHANES_2005-2006_Laboratory_Cholesterol_-_Total.csv\n"
          ]
        },
        {
          "output_type": "stream",
          "name": "stderr",
          "text": [
            "\rDownloading NHANES datasets:  42%|████▏     | 67/158 [00:41<00:51,  1.78it/s]"
          ]
        },
        {
          "output_type": "stream",
          "name": "stdout",
          "text": [
            "✅ Saved NHANES_08_2021-08_2023_Questionnaire_Blood_Pressure_&_Cholesterol.csv\n"
          ]
        },
        {
          "output_type": "stream",
          "name": "stderr",
          "text": [
            "\rDownloading NHANES datasets:  43%|████▎     | 68/158 [00:41<00:47,  1.90it/s]"
          ]
        },
        {
          "output_type": "stream",
          "name": "stdout",
          "text": [
            "✅ Saved NHANES_2007-2008_Laboratory_Cholesterol_-_Total.csv\n",
            "✅ Saved NHANES_2003-2004_Laboratory_Fatty_Acids_-_Plasma_(Surplus).csv\n"
          ]
        },
        {
          "output_type": "stream",
          "name": "stderr",
          "text": [
            "Downloading NHANES datasets:  44%|████▍     | 70/158 [00:42<00:44,  1.98it/s]"
          ]
        },
        {
          "output_type": "stream",
          "name": "stdout",
          "text": [
            "✅ Saved NHANES_2017-2018_Questionnaire_Blood_Pressure_&_Cholesterol.csv\n"
          ]
        },
        {
          "output_type": "stream",
          "name": "stderr",
          "text": [
            "\rDownloading NHANES datasets:  45%|████▍     | 71/158 [00:43<00:44,  1.97it/s]"
          ]
        },
        {
          "output_type": "stream",
          "name": "stdout",
          "text": [
            "✅ Saved NHANES_2017-March_2020_Questionnaire_Blood_Pressure_&_Cholesterol.csv\n"
          ]
        },
        {
          "output_type": "stream",
          "name": "stderr",
          "text": [
            "\rDownloading NHANES datasets:  46%|████▌     | 72/158 [00:44<00:47,  1.81it/s]"
          ]
        },
        {
          "output_type": "stream",
          "name": "stdout",
          "text": [
            "✅ Saved NHANES_2003-2004_Questionnaire_Blood_Pressure_&_Cholesterol.csv\n"
          ]
        },
        {
          "output_type": "stream",
          "name": "stderr",
          "text": [
            "\rDownloading NHANES datasets:  46%|████▌     | 73/158 [00:44<00:43,  1.96it/s]"
          ]
        },
        {
          "output_type": "stream",
          "name": "stdout",
          "text": [
            "✅ Saved NHANES_2011-2012_Laboratory_Cholesterol_-_HDL.csv\n"
          ]
        },
        {
          "output_type": "stream",
          "name": "stderr",
          "text": [
            "\rDownloading NHANES datasets:  47%|████▋     | 74/158 [00:45<00:44,  1.90it/s]"
          ]
        },
        {
          "output_type": "stream",
          "name": "stdout",
          "text": [
            "✅ Saved NHANES_1999-2000_Questionnaire_Diabetes.csv\n"
          ]
        },
        {
          "output_type": "stream",
          "name": "stderr",
          "text": [
            "\rDownloading NHANES datasets:  47%|████▋     | 75/158 [00:45<00:42,  1.94it/s]"
          ]
        },
        {
          "output_type": "stream",
          "name": "stdout",
          "text": [
            "✅ Saved NHANES_2001-2002_Laboratory_Cholesterol_-_Total_&_HDL.csv\n"
          ]
        },
        {
          "output_type": "stream",
          "name": "stderr",
          "text": [
            "\rDownloading NHANES datasets:  48%|████▊     | 76/158 [00:46<00:43,  1.86it/s]"
          ]
        },
        {
          "output_type": "stream",
          "name": "stdout",
          "text": [
            "✅ Saved NHANES_2001-2002_Questionnaire_Diabetes.csv\n",
            "✅ Saved NHANES_2009-2010_Laboratory_Cholesterol_-_HDL.csv\n"
          ]
        },
        {
          "output_type": "stream",
          "name": "stderr",
          "text": [
            "Downloading NHANES datasets:  49%|████▉     | 78/158 [00:47<00:50,  1.57it/s]"
          ]
        },
        {
          "output_type": "stream",
          "name": "stdout",
          "text": [
            "✅ Saved NHANES_2011-2012_Laboratory_Fatty_Acids_-_Serum.csv\n"
          ]
        },
        {
          "output_type": "stream",
          "name": "stderr",
          "text": [
            "\rDownloading NHANES datasets:  50%|█████     | 79/158 [00:47<00:45,  1.73it/s]"
          ]
        },
        {
          "output_type": "stream",
          "name": "stdout",
          "text": [
            "✅ Saved NHANES_2005-2006_Laboratory_Cholesterol_-_HDL.csv\n"
          ]
        },
        {
          "output_type": "stream",
          "name": "stderr",
          "text": [
            "\rDownloading NHANES datasets:  51%|█████     | 80/158 [00:48<00:41,  1.88it/s]"
          ]
        },
        {
          "output_type": "stream",
          "name": "stdout",
          "text": [
            "✅ Saved NHANES_2007-2008_Laboratory_Oral_Glucose_Tolerance_Test.csv\n"
          ]
        },
        {
          "output_type": "stream",
          "name": "stderr",
          "text": [
            "\rDownloading NHANES datasets:  51%|█████▏    | 81/158 [00:49<00:44,  1.73it/s]"
          ]
        },
        {
          "output_type": "stream",
          "name": "stdout",
          "text": [
            "✅ Saved NHANES_2013-2014_Laboratory_Oral_Glucose_Tolerance_Test.csv\n",
            "✅ Saved NHANES_2007-2008_Laboratory_Cholesterol_-_HDL.csv\n"
          ]
        },
        {
          "output_type": "stream",
          "name": "stderr",
          "text": [
            "\rDownloading NHANES datasets:  53%|█████▎    | 83/158 [00:49<00:32,  2.33it/s]"
          ]
        },
        {
          "output_type": "stream",
          "name": "stdout",
          "text": [
            "✅ Saved NHANES_2003-2004_Laboratory_Cholesterol_-_Total_&_HDL.csv\n"
          ]
        },
        {
          "output_type": "stream",
          "name": "stderr",
          "text": [
            "\rDownloading NHANES datasets:  53%|█████▎    | 84/158 [00:50<00:33,  2.19it/s]"
          ]
        },
        {
          "output_type": "stream",
          "name": "stdout",
          "text": [
            "✅ Saved NHANES_2009-2010_Laboratory_Oral_Glucose_Tolerance_Test.csv\n"
          ]
        },
        {
          "output_type": "stream",
          "name": "stderr",
          "text": [
            "Downloading NHANES datasets:  54%|█████▍    | 86/158 [00:51<00:41,  1.73it/s]"
          ]
        },
        {
          "output_type": "stream",
          "name": "stdout",
          "text": [
            "✅ Saved NHANES_2017-March_2020_Laboratory_Insulin.csv\n"
          ]
        },
        {
          "output_type": "stream",
          "name": "stderr",
          "text": [
            "\rDownloading NHANES datasets:  55%|█████▌    | 87/158 [00:52<00:37,  1.89it/s]"
          ]
        },
        {
          "output_type": "stream",
          "name": "stdout",
          "text": [
            "✅ Saved NHANES_2017-2018_Laboratory_Insulin.csv\n"
          ]
        },
        {
          "output_type": "stream",
          "name": "stderr",
          "text": [
            "\rDownloading NHANES datasets:  56%|█████▋    | 89/158 [00:52<00:26,  2.60it/s]"
          ]
        },
        {
          "output_type": "stream",
          "name": "stdout",
          "text": [
            "✅ Saved NHANES_2015-2016_Laboratory_Insulin.csv\n",
            "✅ Saved NHANES_2003-2004_Questionnaire_Diabetes.csv\n"
          ]
        },
        {
          "output_type": "stream",
          "name": "stderr",
          "text": [
            "Downloading NHANES datasets:  58%|█████▊    | 91/158 [00:53<00:30,  2.18it/s]"
          ]
        },
        {
          "output_type": "stream",
          "name": "stdout",
          "text": [
            "✅ Saved NHANES_2015-2016_Laboratory_Cholesterol_-_High-Density_Lipoprotein_(HDL).csv\n"
          ]
        },
        {
          "output_type": "stream",
          "name": "stderr",
          "text": [
            "\rDownloading NHANES datasets:  58%|█████▊    | 92/158 [00:54<00:29,  2.24it/s]"
          ]
        },
        {
          "output_type": "stream",
          "name": "stdout",
          "text": [
            "✅ Saved NHANES_2005-2006_Laboratory_Oral_Glucose_Tolerance_Test.csv\n"
          ]
        },
        {
          "output_type": "stream",
          "name": "stderr",
          "text": [
            "\rDownloading NHANES datasets:  59%|█████▉    | 93/158 [00:54<00:28,  2.25it/s]"
          ]
        },
        {
          "output_type": "stream",
          "name": "stdout",
          "text": [
            "✅ Saved NHANES_2011-2012_Laboratory_Oral_Glucose_Tolerance_Test.csv\n"
          ]
        },
        {
          "output_type": "stream",
          "name": "stderr",
          "text": [
            "\rDownloading NHANES datasets:  59%|█████▉    | 94/158 [00:55<00:29,  2.13it/s]"
          ]
        },
        {
          "output_type": "stream",
          "name": "stdout",
          "text": [
            "✅ Saved NHANES_2015-2016_Laboratory_Cholesterol_-_Total.csv\n",
            "✅ Saved NHANES_08_2021-08_2023_Questionnaire_Diabetes.csv\n"
          ]
        },
        {
          "output_type": "stream",
          "name": "stderr",
          "text": [
            "\rDownloading NHANES datasets:  60%|██████    | 95/158 [00:55<00:30,  2.05it/s]"
          ]
        },
        {
          "output_type": "stream",
          "name": "stdout",
          "text": [
            "✅ Saved NHANES_08_2021-08_2023_Laboratory_Cholesterol_–_High-Density_Lipoprotein.csv\n"
          ]
        },
        {
          "output_type": "stream",
          "name": "stderr",
          "text": [
            "\rDownloading NHANES datasets:  61%|██████    | 96/158 [00:56<00:32,  1.91it/s]"
          ]
        },
        {
          "output_type": "stream",
          "name": "stdout",
          "text": [
            "✅ Saved NHANES_2015-2016_Laboratory_Oral_Glucose_Tolerance_Test.csv\n"
          ]
        },
        {
          "output_type": "stream",
          "name": "stderr",
          "text": [
            "\rDownloading NHANES datasets:  61%|██████▏   | 97/158 [00:56<00:30,  2.02it/s]"
          ]
        },
        {
          "output_type": "stream",
          "name": "stdout",
          "text": [
            "✅ Saved NHANES_2017-2018_Laboratory_Cholesterol_-_Total.csv\n"
          ]
        },
        {
          "output_type": "stream",
          "name": "stderr",
          "text": [
            "Downloading NHANES datasets:  63%|██████▎   | 99/158 [00:57<00:27,  2.16it/s]"
          ]
        },
        {
          "output_type": "stream",
          "name": "stdout",
          "text": [
            "✅ Saved NHANES_2017-March_2020_Laboratory_Cholesterol_-_Total.csv\n"
          ]
        },
        {
          "output_type": "stream",
          "name": "stderr",
          "text": [
            "\rDownloading NHANES datasets:  63%|██████▎   | 100/158 [00:57<00:26,  2.19it/s]"
          ]
        },
        {
          "output_type": "stream",
          "name": "stdout",
          "text": [
            "✅ Saved NHANES_08_2021-08_2023_Laboratory_Cholesterol_-_Total.csv\n"
          ]
        },
        {
          "output_type": "stream",
          "name": "stderr",
          "text": [
            "\rDownloading NHANES datasets:  64%|██████▍   | 101/158 [00:58<00:25,  2.22it/s]"
          ]
        },
        {
          "output_type": "stream",
          "name": "stdout",
          "text": [
            "✅ Saved NHANES_2017-2018_Laboratory_Cholesterol_-_High_-_Density_Lipoprotein_(HDL).csv\n"
          ]
        },
        {
          "output_type": "stream",
          "name": "stderr",
          "text": [
            "\rDownloading NHANES datasets:  65%|██████▍   | 102/158 [00:58<00:28,  1.98it/s]"
          ]
        },
        {
          "output_type": "stream",
          "name": "stdout",
          "text": [
            "✅ Saved NHANES_2017-March_2020_Laboratory_Cholesterol_-_High_-_Density_Lipoprotein_(HDL).csv\n",
            "✅ Saved NHANES_2005-2006_Laboratory_Glycohemoglobin.csv\n"
          ]
        },
        {
          "output_type": "stream",
          "name": "stderr",
          "text": [
            "Downloading NHANES datasets:  67%|██████▋   | 106/158 [00:59<00:16,  3.08it/s]"
          ]
        },
        {
          "output_type": "stream",
          "name": "stdout",
          "text": [
            "✅ Saved NHANES_2007-2008_Laboratory_Glycohemoglobin.csv\n"
          ]
        },
        {
          "output_type": "stream",
          "name": "stderr",
          "text": [
            "\rDownloading NHANES datasets:  68%|██████▊   | 107/158 [01:00<00:17,  2.89it/s]"
          ]
        },
        {
          "output_type": "stream",
          "name": "stdout",
          "text": [
            "✅ Saved NHANES_08_2021-08_2023_Laboratory_Insulin.csv\n"
          ]
        },
        {
          "output_type": "stream",
          "name": "stderr",
          "text": [
            "\rDownloading NHANES datasets:  68%|██████▊   | 108/158 [01:00<00:18,  2.65it/s]"
          ]
        },
        {
          "output_type": "stream",
          "name": "stdout",
          "text": [
            "✅ Saved NHANES_2013-2014_Laboratory_Glycohemoglobin.csv\n"
          ]
        },
        {
          "output_type": "stream",
          "name": "stderr",
          "text": [
            "\rDownloading NHANES datasets:  69%|██████▉   | 109/158 [01:01<00:18,  2.61it/s]"
          ]
        },
        {
          "output_type": "stream",
          "name": "stdout",
          "text": [
            "✅ Saved NHANES_2009-2010_Laboratory_Glycohemoglobin.csv\n"
          ]
        },
        {
          "output_type": "stream",
          "name": "stderr",
          "text": [
            "\rDownloading NHANES datasets:  70%|██████▉   | 110/158 [01:01<00:22,  2.11it/s]"
          ]
        },
        {
          "output_type": "stream",
          "name": "stdout",
          "text": [
            "✅ Saved NHANES_2013-2014_Laboratory_Folate_Forms_-_Total_&_Individual_-_Serum.csv\n"
          ]
        },
        {
          "output_type": "stream",
          "name": "stderr",
          "text": [
            "\rDownloading NHANES datasets:  70%|███████   | 111/158 [01:02<00:22,  2.11it/s]"
          ]
        },
        {
          "output_type": "stream",
          "name": "stdout",
          "text": [
            "✅ Saved NHANES_2011-2012_Laboratory_Glycohemoglobin.csv\n"
          ]
        },
        {
          "output_type": "stream",
          "name": "stderr",
          "text": [
            "\rDownloading NHANES datasets:  71%|███████   | 112/158 [01:03<00:25,  1.81it/s]"
          ]
        },
        {
          "output_type": "stream",
          "name": "stdout",
          "text": [
            "✅ Saved NHANES_08_2021-08_2023_Examination_Blood_Pressure_-_Oscillometric_Measurements.csv\n"
          ]
        },
        {
          "output_type": "stream",
          "name": "stderr",
          "text": [
            "\rDownloading NHANES datasets:  72%|███████▏  | 113/158 [01:03<00:24,  1.86it/s]"
          ]
        },
        {
          "output_type": "stream",
          "name": "stdout",
          "text": [
            "✅ Saved NHANES_08_2021-08_2023_Laboratory_Glycohemoglobin.csv\n"
          ]
        },
        {
          "output_type": "stream",
          "name": "stderr",
          "text": [
            "\rDownloading NHANES datasets:  72%|███████▏  | 114/158 [01:04<00:29,  1.48it/s]"
          ]
        },
        {
          "output_type": "stream",
          "name": "stdout",
          "text": [
            "✅ Saved NHANES_2017-March_2020_Examination_Blood_Pressure_-_Oscillometric_Measurements.csv\n"
          ]
        },
        {
          "output_type": "stream",
          "name": "stderr",
          "text": [
            "\rDownloading NHANES datasets:  73%|███████▎  | 115/158 [01:05<00:27,  1.55it/s]"
          ]
        },
        {
          "output_type": "stream",
          "name": "stdout",
          "text": [
            "✅ Saved NHANES_2017-2018_Examination_Blood_Pressure_-_Oscillometric_Measurements.csv\n"
          ]
        },
        {
          "output_type": "stream",
          "name": "stderr",
          "text": [
            "\rDownloading NHANES datasets:  73%|███████▎  | 116/158 [01:05<00:24,  1.71it/s]"
          ]
        },
        {
          "output_type": "stream",
          "name": "stdout",
          "text": [
            "✅ Saved NHANES_2017-March_2020_Laboratory_Glycohemoglobin.csv\n"
          ]
        },
        {
          "output_type": "stream",
          "name": "stderr",
          "text": [
            "\rDownloading NHANES datasets:  74%|███████▍  | 117/158 [01:06<00:25,  1.58it/s]"
          ]
        },
        {
          "output_type": "stream",
          "name": "stdout",
          "text": [
            "✅ Saved NHANES_2013-2014_Examination_Blood_Pressure.csv\n"
          ]
        },
        {
          "output_type": "stream",
          "name": "stderr",
          "text": [
            "\rDownloading NHANES datasets:  75%|███████▍  | 118/158 [01:06<00:22,  1.78it/s]"
          ]
        },
        {
          "output_type": "stream",
          "name": "stdout",
          "text": [
            "✅ Saved NHANES_2015-2016_Laboratory_Glycohemoglobin.csv\n",
            "✅ Saved NHANES_2017-2018_Laboratory_Glycohemoglobin.csv\n"
          ]
        },
        {
          "output_type": "stream",
          "name": "stderr",
          "text": [
            "Downloading NHANES datasets:  77%|███████▋  | 121/158 [01:07<00:13,  2.68it/s]"
          ]
        },
        {
          "output_type": "stream",
          "name": "stdout",
          "text": [
            "✅ Saved NHANES_2003-2004_Laboratory_Glycohemoglobin.csv\n"
          ]
        },
        {
          "output_type": "stream",
          "name": "stderr",
          "text": [
            "\rDownloading NHANES datasets:  77%|███████▋  | 122/158 [01:08<00:17,  2.00it/s]"
          ]
        },
        {
          "output_type": "stream",
          "name": "stdout",
          "text": [
            "✅ Saved NHANES_2011-2012_Examination_Blood_Pressure.csv\n"
          ]
        },
        {
          "output_type": "stream",
          "name": "stderr",
          "text": [
            "\rDownloading NHANES datasets:  78%|███████▊  | 123/158 [01:08<00:17,  2.02it/s]"
          ]
        },
        {
          "output_type": "stream",
          "name": "stdout",
          "text": [
            "✅ Saved NHANES_2009-2010_Laboratory_Trans_Fatty_Acids.csv\n"
          ]
        },
        {
          "output_type": "stream",
          "name": "stderr",
          "text": [
            "\rDownloading NHANES datasets:  78%|███████▊  | 124/158 [01:09<00:16,  2.09it/s]"
          ]
        },
        {
          "output_type": "stream",
          "name": "stdout",
          "text": [
            "✅ Saved NHANES_1999-2000_Laboratory_Trans_Fatty_Acids.csv\n"
          ]
        },
        {
          "output_type": "stream",
          "name": "stderr",
          "text": [
            "\rDownloading NHANES datasets:  79%|███████▉  | 125/158 [01:09<00:17,  1.87it/s]"
          ]
        },
        {
          "output_type": "stream",
          "name": "stdout",
          "text": [
            "✅ Saved NHANES_08_2021-08_2023_Laboratory_Serum_Folate_Forms_-_Total_&_Individual_-_Serum.csv\n"
          ]
        },
        {
          "output_type": "stream",
          "name": "stderr",
          "text": [
            "\rDownloading NHANES datasets:  80%|███████▉  | 126/158 [01:10<00:15,  2.01it/s]"
          ]
        },
        {
          "output_type": "stream",
          "name": "stdout",
          "text": [
            "✅ Saved NHANES_2001-2002_Laboratory_Glycohemoglobin.csv\n"
          ]
        },
        {
          "output_type": "stream",
          "name": "stderr",
          "text": [
            "\rDownloading NHANES datasets:  80%|████████  | 127/158 [01:11<00:16,  1.88it/s]"
          ]
        },
        {
          "output_type": "stream",
          "name": "stdout",
          "text": [
            "✅ Saved NHANES_2011-2012_Laboratory_Folate_Forms_-_Total_&_Individual_-_Serum.csv\n"
          ]
        },
        {
          "output_type": "stream",
          "name": "stderr",
          "text": [
            "\rDownloading NHANES datasets:  81%|████████  | 128/158 [01:11<00:18,  1.61it/s]"
          ]
        },
        {
          "output_type": "stream",
          "name": "stdout",
          "text": [
            "✅ Saved NHANES_2007-2008_Examination_Blood_Pressure.csv\n"
          ]
        },
        {
          "output_type": "stream",
          "name": "stderr",
          "text": [
            "\rDownloading NHANES datasets:  82%|████████▏ | 129/158 [01:12<00:16,  1.80it/s]"
          ]
        },
        {
          "output_type": "stream",
          "name": "stdout",
          "text": [
            "✅ Saved NHANES_1999-2000_Laboratory_Glycohemoglobin.csv\n"
          ]
        },
        {
          "output_type": "stream",
          "name": "stderr",
          "text": [
            "\rDownloading NHANES datasets:  82%|████████▏ | 130/158 [01:13<00:17,  1.61it/s]"
          ]
        },
        {
          "output_type": "stream",
          "name": "stdout",
          "text": [
            "✅ Saved NHANES_2017-March_2020_Questionnaire_Weight_History.csv\n"
          ]
        },
        {
          "output_type": "stream",
          "name": "stderr",
          "text": [
            "\rDownloading NHANES datasets:  83%|████████▎ | 131/158 [01:13<00:18,  1.48it/s]"
          ]
        },
        {
          "output_type": "stream",
          "name": "stdout",
          "text": [
            "✅ Saved NHANES_2017-2018_Questionnaire_Weight_History.csv\n"
          ]
        },
        {
          "output_type": "stream",
          "name": "stderr",
          "text": [
            "\rDownloading NHANES datasets:  84%|████████▎ | 132/158 [01:14<00:19,  1.34it/s]"
          ]
        },
        {
          "output_type": "stream",
          "name": "stdout",
          "text": [
            "✅ Saved NHANES_2005-2006_Examination_Blood_Pressure.csv\n"
          ]
        },
        {
          "output_type": "stream",
          "name": "stderr",
          "text": [
            "\rDownloading NHANES datasets:  84%|████████▍ | 133/158 [01:15<00:20,  1.25it/s]"
          ]
        },
        {
          "output_type": "stream",
          "name": "stdout",
          "text": [
            "✅ Saved NHANES_2017-March_2020_Examination_Blood_Pressure_-_Oscillometric_Measurement.csv\n"
          ]
        },
        {
          "output_type": "stream",
          "name": "stderr",
          "text": [
            "\rDownloading NHANES datasets:  85%|████████▍ | 134/158 [01:16<00:22,  1.08it/s]"
          ]
        },
        {
          "output_type": "stream",
          "name": "stdout",
          "text": [
            "✅ Saved NHANES_2009-2010_Examination_Blood_Pressure.csv\n",
            "✅ Saved NHANES_2015-2016_Laboratory_Folate_Forms_-_Total_&_Individual_-_Serum.csv\n"
          ]
        },
        {
          "output_type": "stream",
          "name": "stderr",
          "text": [
            "Downloading NHANES datasets:  86%|████████▌ | 136/158 [01:18<00:17,  1.27it/s]"
          ]
        },
        {
          "output_type": "stream",
          "name": "stdout",
          "text": [
            "✅ Saved NHANES_2017-March_2020_Laboratory_Folate_Forms_-_Total_&_Individual_-_Serum.csv\n"
          ]
        },
        {
          "output_type": "stream",
          "name": "stderr",
          "text": [
            "\rDownloading NHANES datasets:  87%|████████▋ | 137/158 [01:18<00:14,  1.41it/s]"
          ]
        },
        {
          "output_type": "stream",
          "name": "stdout",
          "text": [
            "✅ Saved NHANES_2017-2018_Laboratory_Folate_Forms_-_Total_&_Individual_-_Serum.csv\n"
          ]
        },
        {
          "output_type": "stream",
          "name": "stderr",
          "text": [
            "\rDownloading NHANES datasets:  88%|████████▊ | 139/158 [01:19<00:11,  1.72it/s]"
          ]
        },
        {
          "output_type": "stream",
          "name": "stdout",
          "text": [
            "✅ Saved NHANES_1999-2000_Examination_Blood_Pressure.csv\n"
          ]
        },
        {
          "output_type": "stream",
          "name": "stderr",
          "text": [
            "\rDownloading NHANES datasets:  89%|████████▊ | 140/158 [01:20<00:11,  1.62it/s]"
          ]
        },
        {
          "output_type": "stream",
          "name": "stdout",
          "text": [
            "✅ Saved NHANES_2015-2016_Examination_Blood_Pressure.csv\n"
          ]
        },
        {
          "output_type": "stream",
          "name": "stderr",
          "text": [
            "\rDownloading NHANES datasets:  89%|████████▉ | 141/158 [01:21<00:12,  1.35it/s]"
          ]
        },
        {
          "output_type": "stream",
          "name": "stdout",
          "text": [
            "✅ Saved NHANES_2001-2002_Examination_Blood_Pressure.csv\n"
          ]
        },
        {
          "output_type": "stream",
          "name": "stderr",
          "text": [
            "\rDownloading NHANES datasets:  90%|████████▉ | 142/158 [01:22<00:11,  1.38it/s]"
          ]
        },
        {
          "output_type": "stream",
          "name": "stdout",
          "text": [
            "✅ Saved NHANES_2017-2018_Examination_Blood_Pressure.csv\n"
          ]
        },
        {
          "output_type": "stream",
          "name": "stderr",
          "text": [
            "\rDownloading NHANES datasets:  91%|█████████ | 143/158 [01:22<00:10,  1.38it/s]"
          ]
        },
        {
          "output_type": "stream",
          "name": "stdout",
          "text": [
            "✅ Saved NHANES_2017-March_2020_Examination_Blood_Pressure.csv\n"
          ]
        },
        {
          "output_type": "stream",
          "name": "stderr",
          "text": [
            "\rDownloading NHANES datasets:  91%|█████████ | 144/158 [01:23<00:08,  1.59it/s]"
          ]
        },
        {
          "output_type": "stream",
          "name": "stdout",
          "text": [
            "✅ Saved NHANES_2001-2002_Laboratory_Complete_Blood_Count_with_5-part_Differential_-_Whole_Blood,_Second_Exam.csv\n",
            "✅ Saved NHANES_2013-2014_Laboratory_Complete_Blood_Count_with_5-part_Differential_-_Whole_Blood.csv\n"
          ]
        },
        {
          "output_type": "stream",
          "name": "stderr",
          "text": [
            "\rDownloading NHANES datasets:  92%|█████████▏| 145/158 [01:24<00:10,  1.21it/s]"
          ]
        },
        {
          "output_type": "stream",
          "name": "stdout",
          "text": [
            "✅ Saved NHANES_08_2021-08_2023_Demographics_Demographic_Variables_and_Sample_Weights.csv\n"
          ]
        },
        {
          "output_type": "stream",
          "name": "stderr",
          "text": [
            "Downloading NHANES datasets:  93%|█████████▎| 147/158 [01:26<00:11,  1.00s/it]"
          ]
        },
        {
          "output_type": "stream",
          "name": "stdout",
          "text": [
            "✅ Saved NHANES_2017-March_2020_Demographics_Demographic_Variables_and_Sample_Weights.csv\n"
          ]
        },
        {
          "output_type": "stream",
          "name": "stderr",
          "text": [
            "\rDownloading NHANES datasets:  94%|█████████▍| 149/158 [01:28<00:08,  1.02it/s]"
          ]
        },
        {
          "output_type": "stream",
          "name": "stdout",
          "text": [
            "✅ Saved NHANES_2017-2018_Demographics_Demographic_Variables_and_Sample_Weights.csv\n"
          ]
        },
        {
          "output_type": "stream",
          "name": "stderr",
          "text": [
            "\rDownloading NHANES datasets:  95%|█████████▍| 150/158 [01:30<00:09,  1.19s/it]"
          ]
        },
        {
          "output_type": "stream",
          "name": "stdout",
          "text": [
            "✅ Saved NHANES_2015-2016_Demographics_Demographic_Variables_and_Sample_Weights.csv\n"
          ]
        },
        {
          "output_type": "stream",
          "name": "stderr",
          "text": [
            "\rDownloading NHANES datasets:  96%|█████████▌| 151/158 [01:32<00:08,  1.27s/it]"
          ]
        },
        {
          "output_type": "stream",
          "name": "stdout",
          "text": [
            "✅ Saved NHANES_2013-2014_Demographics_Demographic_Variables_and_Sample_Weights.csv\n"
          ]
        },
        {
          "output_type": "stream",
          "name": "stderr",
          "text": [
            "\rDownloading NHANES datasets:  96%|█████████▌| 152/158 [01:33<00:07,  1.28s/it]"
          ]
        },
        {
          "output_type": "stream",
          "name": "stdout",
          "text": [
            "✅ Saved NHANES_2011-2012_Demographics_Demographic_Variables_&_Sample_Weights.csv\n"
          ]
        },
        {
          "output_type": "stream",
          "name": "stderr",
          "text": [
            "\rDownloading NHANES datasets:  97%|█████████▋| 153/158 [01:34<00:06,  1.28s/it]"
          ]
        },
        {
          "output_type": "stream",
          "name": "stdout",
          "text": [
            "✅ Saved NHANES_2009-2010_Demographics_Demographic_Variables_&_Sample_Weights.csv\n",
            "✅ Saved NHANES_2007-2008_Demographics_Demographic_Variables_&_Sample_Weights.csv\n"
          ]
        },
        {
          "output_type": "stream",
          "name": "stderr",
          "text": [
            "Downloading NHANES datasets:  98%|█████████▊| 155/158 [01:37<00:03,  1.31s/it]"
          ]
        },
        {
          "output_type": "stream",
          "name": "stdout",
          "text": [
            "✅ Saved NHANES_2005-2006_Demographics_Demographic_Variables_&_Sample_Weights.csv\n"
          ]
        },
        {
          "output_type": "stream",
          "name": "stderr",
          "text": [
            "\rDownloading NHANES datasets:  99%|█████████▊| 156/158 [01:38<00:02,  1.30s/it]"
          ]
        },
        {
          "output_type": "stream",
          "name": "stdout",
          "text": [
            "✅ Saved NHANES_2003-2004_Demographics_Demographic_Variables_&_Sample_Weights.csv\n",
            "✅ Saved NHANES_2001-2002_Demographics_Demographic_Variables_&_Sample_Weights.csv\n"
          ]
        },
        {
          "output_type": "stream",
          "name": "stderr",
          "text": [
            "Downloading NHANES datasets: 100%|██████████| 158/158 [01:46<00:00,  2.88s/it]"
          ]
        },
        {
          "output_type": "stream",
          "name": "stdout",
          "text": [
            "✅ Saved NHANES_1999-2000_Demographics_Demographic_Variables_&_Sample_Weights.csv\n"
          ]
        },
        {
          "output_type": "stream",
          "name": "stderr",
          "text": [
            "\rDownloading NHANES datasets: 100%|██████████| 158/158 [01:46<00:00,  1.48it/s]"
          ]
        },
        {
          "output_type": "stream",
          "name": "stdout",
          "text": [
            "\n",
            "✅ Download complete. Files saved in 'nhanes_data'\n"
          ]
        },
        {
          "output_type": "stream",
          "name": "stderr",
          "text": [
            "\n"
          ]
        }
      ]
    },
    {
      "cell_type": "code",
      "source": [
        "import shutil\n",
        "\n",
        "shutil.rmtree(\"nhanes_data\", ignore_errors=True)\n",
        "print(\"✅ Deleted 'nhanes_data' folder and all its contents.\")\n"
      ],
      "metadata": {
        "colab": {
          "base_uri": "https://localhost:8080/"
        },
        "id": "pl1TzmwXa_9K",
        "outputId": "2cbfc361-d6bc-47a2-e88e-3582ec1dbc2b"
      },
      "execution_count": null,
      "outputs": [
        {
          "output_type": "stream",
          "name": "stdout",
          "text": [
            "✅ Deleted 'nhanes_data' folder and all its contents.\n"
          ]
        }
      ]
    },
    {
      "cell_type": "code",
      "source": [
        "import pandas as pd\n",
        "import os\n",
        "import re\n",
        "from tqdm import tqdm\n",
        "\n",
        "DATA_DIR = \"nhanes_data\"\n",
        "OUTPUT_FILE = \"nhanes_patient_flattened.csv\"\n",
        "SUMMARY_FILE = \"nhanes_column_summary.csv\"\n",
        "\n",
        "# Columns to drop before merging (metadata)\n",
        "METADATA_COLS = ['Dataset_Name', 'Doc_URL', 'Component', 'NHANES_Cycle']\n",
        "\n",
        "# Track files missing SEQN\n",
        "missing_seqn_files = []\n",
        "\n",
        "# Function to extract NHANES cycle from filename\n",
        "def extract_cycle(filename):\n",
        "    match = re.search(r'(\\d{4})[-_](\\d{4})', filename)\n",
        "    if match:\n",
        "        return f\"{match.group(1)}-{match.group(2)}\"\n",
        "    numbers = re.findall(r'\\d{4}', filename)\n",
        "    if len(numbers) >= 2:\n",
        "        return f\"{numbers[0]}-{numbers[1]}\"\n",
        "    return \"unknown\"\n",
        "\n",
        "# 1️⃣ Group datasets by NHANES cycle\n",
        "cycle_files = {}\n",
        "for file in os.listdir(DATA_DIR):\n",
        "    if file.endswith(\".csv\"):\n",
        "        cycle = extract_cycle(file)\n",
        "        cycle_files.setdefault(cycle, []).append(file)\n",
        "\n",
        "# 2️⃣ Process each cycle\n",
        "flattened_dfs = []\n",
        "missing_datasets = {}\n",
        "column_sources = []  # Track each column's origin\n",
        "\n",
        "for cycle, files in tqdm(cycle_files.items(), desc=\"Processing NHANES cycles\"):\n",
        "    missing_datasets[cycle] = []\n",
        "\n",
        "    # Find demographics file\n",
        "    demog_file = [f for f in files if \"Demographics\" in f]\n",
        "    if not demog_file:\n",
        "        print(f\"⚠️ No demographics file found for cycle {cycle}. Skipping cycle.\")\n",
        "        missing_datasets[cycle].append(\"Demographics\")\n",
        "        continue\n",
        "\n",
        "    # Read demographics\n",
        "    df_cycle = pd.read_csv(os.path.join(DATA_DIR, demog_file[0]), low_memory=False)\n",
        "    print(f\"✅ Demographics loaded for {cycle}: {len(df_cycle)} patients, {len(df_cycle.columns)} columns\")\n",
        "\n",
        "    # Track column origins for demographics\n",
        "    for col in df_cycle.columns:\n",
        "        column_sources.append({\n",
        "            \"Column\": col,\n",
        "            \"Cycle\": cycle,\n",
        "            \"Source_File\": demog_file[0]\n",
        "        })\n",
        "\n",
        "    # Merge all other datasets\n",
        "    for f in files:\n",
        "        if f == demog_file[0]:\n",
        "            continue\n",
        "\n",
        "        df_other = pd.read_csv(os.path.join(DATA_DIR, f), low_memory=False)\n",
        "\n",
        "        if 'SEQN' not in df_other.columns:\n",
        "            print(f\"⚠️ {f} has no SEQN. Skipping merge.\")\n",
        "            missing_datasets[cycle].append(f)\n",
        "            missing_seqn_files.append(f\"{cycle}: {f}\")\n",
        "            continue\n",
        "\n",
        "        # Drop metadata columns\n",
        "        df_other_clean = df_other.drop(columns=[c for c in METADATA_COLS if c in df_other.columns])\n",
        "\n",
        "        # Rename columns to avoid collisions\n",
        "        rename_map = {col: f\"{col}_{os.path.splitext(f)[0]}\" for col in df_other_clean.columns if col != 'SEQN'}\n",
        "        df_other_clean = df_other_clean.rename(columns=rename_map)\n",
        "\n",
        "        # Track column origins\n",
        "        for col in df_other_clean.columns:\n",
        "            if col != 'SEQN':\n",
        "                column_sources.append({\n",
        "                    \"Column\": col,\n",
        "                    \"Cycle\": cycle,\n",
        "                    \"Source_File\": f\n",
        "                })\n",
        "\n",
        "        try:\n",
        "            df_cycle = df_cycle.merge(df_other_clean, on=\"SEQN\", how=\"left\")\n",
        "            print(f\"🔹 Merged {f} into {cycle}: +{len(rename_map)} columns\")\n",
        "        except Exception as e:\n",
        "            print(f\"⚠️ Failed to merge {f} into {cycle}: {e}\")\n",
        "            missing_datasets[cycle].append(f)\n",
        "\n",
        "    flattened_dfs.append(df_cycle)\n",
        "\n",
        "# 3️⃣ Combine all cycles\n",
        "all_patients_df = pd.concat(flattened_dfs, ignore_index=True, sort=False)\n",
        "\n",
        "# 4️⃣ Save flattened dataset\n",
        "all_patients_df.to_csv(OUTPUT_FILE, index=False)\n",
        "print(f\"\\n✅ Flattened dataset ready: {OUTPUT_FILE}\")\n",
        "print(f\"Shape: {all_patients_df.shape[0]} patients, {all_patients_df.shape[1]} variables\")\n",
        "\n",
        "# 5️⃣ Save column summary\n",
        "df_summary = pd.DataFrame(column_sources)\n",
        "df_summary.to_csv(SUMMARY_FILE, index=False)\n",
        "print(f\"📊 Column summary saved: {SUMMARY_FILE}\")\n",
        "\n",
        "# 6️⃣ Report missing datasets\n",
        "print(\"\\n📋 Missing datasets per cycle:\")\n",
        "for cycle, missing in missing_datasets.items():\n",
        "    if missing:\n",
        "        print(f\"- {cycle}: {missing}\")\n",
        "\n",
        "# 7️⃣ Report files skipped due to missing SEQN\n",
        "if missing_seqn_files:\n",
        "    print(\"\\n⚠️ Files skipped due to missing SEQN:\")\n",
        "    for f in missing_seqn_files:\n",
        "        print(f\"  - {f}\")\n",
        "\n",
        "\n",
        "\n",
        "\n",
        "\n"
      ],
      "metadata": {
        "colab": {
          "base_uri": "https://localhost:8080/"
        },
        "id": "j6PkrxnG5f_K",
        "outputId": "9349b507-8365-48fd-b9e9-dd9e2115d175"
      },
      "execution_count": null,
      "outputs": [
        {
          "output_type": "stream",
          "name": "stderr",
          "text": [
            "\rProcessing NHANES cycles:   0%|          | 0/12 [00:00<?, ?it/s]"
          ]
        },
        {
          "output_type": "stream",
          "name": "stdout",
          "text": [
            "✅ Demographics loaded for 2017-2018: 9254 patients, 50 columns\n",
            "🔹 Merged NHANES_2017-2018_Laboratory_Plasma_Fasting_Glucose.csv into 2017-2018: +3 columns\n",
            "🔹 Merged NHANES_2017-2018_Questionnaire_Blood_Pressure_&_Cholesterol.csv into 2017-2018: +10 columns\n",
            "🔹 Merged NHANES_2017-2018_Laboratory_Folate_Forms_-_Total_&_Individual_-_Serum.csv into 2017-2018: +15 columns\n",
            "🔹 Merged NHANES_2017-2018_Laboratory_Cholesterol_-_Total.csv into 2017-2018: +2 columns\n",
            "🔹 Merged NHANES_2017-2018_Laboratory_Fasting_Questionnaire.csv into 2017-2018: +18 columns\n",
            "🔹 Merged NHANES_2017-2018_Questionnaire_Diabetes.csv into 2017-2018: +53 columns\n"
          ]
        },
        {
          "output_type": "stream",
          "name": "stderr",
          "text": [
            "\rProcessing NHANES cycles:   8%|▊         | 1/12 [00:00<00:05,  2.15it/s]"
          ]
        },
        {
          "output_type": "stream",
          "name": "stdout",
          "text": [
            "🔹 Merged NHANES_2017-2018_Examination_Blood_Pressure.csv into 2017-2018: +20 columns\n",
            "🔹 Merged NHANES_2017-2018_Laboratory_Cholesterol_-_Low-Density_Lipoproteins_(LDL)_&_Triglycerides.csv into 2017-2018: +9 columns\n",
            "🔹 Merged NHANES_2017-2018_Laboratory_Glycohemoglobin.csv into 2017-2018: +1 columns\n",
            "🔹 Merged NHANES_2017-2018_Questionnaire_Weight_History.csv into 2017-2018: +36 columns\n",
            "🔹 Merged NHANES_2017-2018_Examination_Blood_Pressure_-_Oscillometric_Measurements.csv into 2017-2018: +12 columns\n",
            "🔹 Merged NHANES_2017-2018_Laboratory_Insulin.csv into 2017-2018: +4 columns\n",
            "🔹 Merged NHANES_2017-2018_Laboratory_Cholesterol_-_High_-_Density_Lipoprotein_(HDL).csv into 2017-2018: +2 columns\n",
            "✅ Demographics loaded for 2021-2023: 11933 patients, 31 columns\n",
            "🔹 Merged NHANES_08_2021-08_2023_Examination_Blood_Pressure_-_Oscillometric_Measurements.csv into 2021-2023: +11 columns\n",
            "🔹 Merged NHANES_08_2021-08_2023_Laboratory_Glycohemoglobin.csv into 2021-2023: +2 columns\n",
            "🔹 Merged NHANES_08_2021-08_2023_Questionnaire_Blood_Pressure_&_Cholesterol.csv into 2021-2023: +5 columns\n",
            "🔹 Merged NHANES_08_2021-08_2023_Laboratory_Cholesterol_-_Total.csv into 2021-2023: +3 columns\n",
            "🔹 Merged NHANES_08_2021-08_2023_Laboratory_Plasma_Fasting_Glucose.csv into 2021-2023: +3 columns\n",
            "🔹 Merged NHANES_08_2021-08_2023_Questionnaire_Diabetes.csv into 2021-2023: +8 columns\n",
            "🔹 Merged NHANES_08_2021-08_2023_Laboratory_Insulin.csv into 2021-2023: +4 columns\n",
            "🔹 Merged NHANES_08_2021-08_2023_Laboratory_Fasting_Questionnaire.csv into 2021-2023: +18 columns\n"
          ]
        },
        {
          "output_type": "stream",
          "name": "stderr",
          "text": [
            "\rProcessing NHANES cycles:  17%|█▋        | 2/12 [00:00<00:03,  2.53it/s]"
          ]
        },
        {
          "output_type": "stream",
          "name": "stdout",
          "text": [
            "🔹 Merged NHANES_08_2021-08_2023_Laboratory_Cholesterol_–_High-Density_Lipoprotein.csv into 2021-2023: +3 columns\n",
            "🔹 Merged NHANES_08_2021-08_2023_Laboratory_Serum_Folate_Forms_-_Total_&_Individual_-_Serum.csv into 2021-2023: +15 columns\n",
            "🔹 Merged NHANES_08_2021-08_2023_Laboratory_Cholesterol_-_Low-Density_Lipoproteins_(LDL)_&_Triglycerides.csv into 2021-2023: +9 columns\n",
            "✅ Demographics loaded for 2017-2020: 9254 patients, 50 columns\n",
            "🔹 Merged NHANES_2017-March_2020_Questionnaire_Diabetes.csv into 2017-2020: +53 columns\n",
            "🔹 Merged NHANES_2017-March_2020_Laboratory_Cholesterol_-_High_-_Density_Lipoprotein_(HDL).csv into 2017-2020: +2 columns\n",
            "🔹 Merged NHANES_2017-March_2020_Laboratory_Fasting_Questionnaire.csv into 2017-2020: +18 columns\n",
            "🔹 Merged NHANES_2017-March_2020_Laboratory_Folate_Forms_-_Total_&_Individual_-_Serum.csv into 2017-2020: +15 columns\n",
            "🔹 Merged NHANES_2017-March_2020_Questionnaire_Weight_History.csv into 2017-2020: +36 columns\n",
            "🔹 Merged NHANES_2017-March_2020_Laboratory_Glycohemoglobin.csv into 2017-2020: +1 columns\n",
            "🔹 Merged NHANES_2017-March_2020_Laboratory_Cholesterol_-_Low-Density_Lipoproteins_(LDL)_&_Triglycerides.csv into 2017-2020: +9 columns\n",
            "🔹 Merged NHANES_2017-March_2020_Examination_Blood_Pressure_-_Oscillometric_Measurement.csv into 2017-2020: +11 columns\n",
            "🔹 Merged NHANES_2017-March_2020_Laboratory_Plasma_Fasting_Glucose.csv into 2017-2020: +3 columns\n"
          ]
        },
        {
          "output_type": "stream",
          "name": "stderr",
          "text": [
            "\rProcessing NHANES cycles:  25%|██▌       | 3/12 [00:01<00:04,  2.13it/s]"
          ]
        },
        {
          "output_type": "stream",
          "name": "stdout",
          "text": [
            "🔹 Merged NHANES_2017-March_2020_Laboratory_Cholesterol_-_Total.csv into 2017-2020: +2 columns\n",
            "🔹 Merged NHANES_2017-March_2020_Examination_Blood_Pressure_-_Oscillometric_Measurements.csv into 2017-2020: +12 columns\n",
            "🔹 Merged NHANES_2017-March_2020_Examination_Blood_Pressure.csv into 2017-2020: +20 columns\n",
            "🔹 Merged NHANES_2017-March_2020_Laboratory_Insulin.csv into 2017-2020: +4 columns\n",
            "🔹 Merged NHANES_2017-March_2020_Questionnaire_Blood_Pressure_&_Cholesterol.csv into 2017-2020: +10 columns\n",
            "✅ Demographics loaded for 2007-2008: 10149 patients, 47 columns\n",
            "🔹 Merged NHANES_2007-2008_Laboratory_Glycohemoglobin.csv into 2007-2008: +1 columns\n",
            "🔹 Merged NHANES_2007-2008_Examination_Blood_Pressure.csv into 2007-2008: +26 columns\n",
            "🔹 Merged NHANES_2007-2008_Questionnaire_Blood_Pressure_&_Cholesterol.csv into 2007-2008: +18 columns\n",
            "🔹 Merged NHANES_2007-2008_Laboratory_Cholesterol_-_HDL.csv into 2007-2008: +2 columns\n",
            "🔹 Merged NHANES_2007-2008_Laboratory_Cholesterol_-_Total.csv into 2007-2008: +2 columns\n",
            "🔹 Merged NHANES_2007-2008_Questionnaire_Diabetes.csv into 2007-2008: +35 columns\n",
            "🔹 Merged NHANES_2007-2008_Laboratory_Plasma_Fasting_Glucose_&_Insulin.csv into 2007-2008: +7 columns\n"
          ]
        },
        {
          "output_type": "stream",
          "name": "stderr",
          "text": [
            "\rProcessing NHANES cycles:  33%|███▎      | 4/12 [00:01<00:03,  2.38it/s]"
          ]
        },
        {
          "output_type": "stream",
          "name": "stdout",
          "text": [
            "🔹 Merged NHANES_2007-2008_Laboratory_Oral_Glucose_Tolerance_Test.csv into 2007-2008: +11 columns\n",
            "🔹 Merged NHANES_2007-2008_Laboratory_Fasting_Questionnaire.csv into 2007-2008: +18 columns\n",
            "🔹 Merged NHANES_2007-2008_Laboratory_Cholesterol_-_LDL_&_Triglycerides.csv into 2007-2008: +5 columns\n",
            "✅ Demographics loaded for 2005-2006: 10348 patients, 47 columns\n",
            "🔹 Merged NHANES_2005-2006_Laboratory_Cholesterol_-_Total.csv into 2005-2006: +2 columns\n",
            "🔹 Merged NHANES_2005-2006_Examination_Blood_Pressure.csv into 2005-2006: +27 columns\n",
            "🔹 Merged NHANES_2005-2006_Laboratory_Glycohemoglobin.csv into 2005-2006: +1 columns\n"
          ]
        },
        {
          "output_type": "stream",
          "name": "stderr",
          "text": [
            "\rProcessing NHANES cycles:  42%|████▏     | 5/12 [00:02<00:02,  2.57it/s]"
          ]
        },
        {
          "output_type": "stream",
          "name": "stdout",
          "text": [
            "🔹 Merged NHANES_2005-2006_Questionnaire_Diabetes.csv into 2005-2006: +35 columns\n",
            "🔹 Merged NHANES_2005-2006_Laboratory_Cholesterol_-_LDL,_Triglyceride_&_Apoliprotein_(ApoB).csv into 2005-2006: +7 columns\n",
            "🔹 Merged NHANES_2005-2006_Laboratory_Cholesterol_-_HDL.csv into 2005-2006: +2 columns\n",
            "🔹 Merged NHANES_2005-2006_Laboratory_Plasma_Fasting_Glucose_&_Insulin.csv into 2005-2006: +7 columns\n",
            "🔹 Merged NHANES_2005-2006_Questionnaire_Blood_Pressure_&_Cholesterol.csv into 2005-2006: +15 columns\n",
            "🔹 Merged NHANES_2005-2006_Laboratory_Oral_Glucose_Tolerance_Test.csv into 2005-2006: +5 columns\n",
            "🔹 Merged NHANES_2005-2006_Laboratory_Fasting_Questionnaire.csv into 2005-2006: +18 columns\n",
            "✅ Demographics loaded for 2009-2010: 10537 patients, 47 columns\n",
            "🔹 Merged NHANES_2009-2010_Laboratory_Glycohemoglobin.csv into 2009-2010: +1 columns\n",
            "🔹 Merged NHANES_2009-2010_Laboratory_Cholesterol_-_LDL_&_Triglycerides.csv into 2009-2010: +5 columns\n",
            "🔹 Merged NHANES_2009-2010_Laboratory_Oral_Glucose_Tolerance_Test.csv into 2009-2010: +11 columns\n",
            "🔹 Merged NHANES_2009-2010_Laboratory_Cholesterol_-_Total.csv into 2009-2010: +2 columns\n",
            "🔹 Merged NHANES_2009-2010_Questionnaire_Blood_Pressure_&_Cholesterol.csv into 2009-2010: +20 columns\n",
            "🔹 Merged NHANES_2009-2010_Laboratory_Cholesterol_-_HDL.csv into 2009-2010: +2 columns\n",
            "🔹 Merged NHANES_2009-2010_Laboratory_Fasting_Questionnaire.csv into 2009-2010: +18 columns\n",
            "🔹 Merged NHANES_2009-2010_Laboratory_Trans_Fatty_Acids.csv into 2009-2010: +9 columns\n",
            "🔹 Merged NHANES_2009-2010_Examination_Blood_Pressure.csv into 2009-2010: +26 columns\n",
            "🔹 Merged NHANES_2009-2010_Laboratory_Plasma_Fasting_Glucose_&_Insulin.csv into 2009-2010: +7 columns\n"
          ]
        },
        {
          "output_type": "stream",
          "name": "stderr",
          "text": [
            "\rProcessing NHANES cycles:  50%|█████     | 6/12 [00:02<00:02,  2.28it/s]"
          ]
        },
        {
          "output_type": "stream",
          "name": "stdout",
          "text": [
            "🔹 Merged NHANES_2009-2010_Questionnaire_Diabetes.csv into 2009-2010: +19 columns\n",
            "✅ Demographics loaded for 2011-2012: 9756 patients, 52 columns\n",
            "🔹 Merged NHANES_2011-2012_Examination_Blood_Pressure.csv into 2011-2012: +26 columns\n",
            "🔹 Merged NHANES_2011-2012_Questionnaire_Diabetes.csv into 2011-2012: +52 columns\n",
            "🔹 Merged NHANES_2011-2012_Laboratory_Glycohemoglobin.csv into 2011-2012: +1 columns\n",
            "🔹 Merged NHANES_2011-2012_Laboratory_Cholesterol_-_Total.csv into 2011-2012: +2 columns\n",
            "🔹 Merged NHANES_2011-2012_Laboratory_Folate_Forms_-_Total_&_Individual_-_Serum.csv into 2011-2012: +14 columns\n",
            "🔹 Merged NHANES_2011-2012_Laboratory_Plasma_Fasting_Glucose_&_Insulin.csv into 2011-2012: +7 columns\n",
            "🔹 Merged NHANES_2011-2012_Laboratory_Oral_Glucose_Tolerance_Test.csv into 2011-2012: +11 columns\n",
            "🔹 Merged NHANES_2011-2012_Laboratory_Fatty_Acids_-_Serum.csv into 2011-2012: +61 columns\n",
            "🔹 Merged NHANES_2011-2012_Laboratory_Cholesterol_-_LDL_&_Triglycerides.csv into 2011-2012: +5 columns\n",
            "🔹 Merged NHANES_2011-2012_Laboratory_Fasting_Questionnaire.csv into 2011-2012: +18 columns\n",
            "🔹 Merged NHANES_2011-2012_Questionnaire_Blood_Pressure_&_Cholesterol.csv into 2011-2012: +14 columns\n"
          ]
        },
        {
          "output_type": "stream",
          "name": "stderr",
          "text": [
            "\rProcessing NHANES cycles:  58%|█████▊    | 7/12 [00:03<00:02,  1.87it/s]"
          ]
        },
        {
          "output_type": "stream",
          "name": "stdout",
          "text": [
            "🔹 Merged NHANES_2011-2012_Laboratory_Cholesterol_-_HDL.csv into 2011-2012: +2 columns\n",
            "✅ Demographics loaded for 2001-2002: 11039 patients, 41 columns\n",
            "🔹 Merged NHANES_2001-2002_Laboratory_Glycohemoglobin,_Plasma_Glucose,_Serum_C-peptide,_&_Insulin,_Second_Exam.csv into 2001-2002: +8 columns\n",
            "🔹 Merged NHANES_2001-2002_Examination_Blood_Pressure.csv into 2001-2002: +29 columns\n",
            "🔹 Merged NHANES_2001-2002_Laboratory_Glycohemoglobin.csv into 2001-2002: +1 columns\n",
            "🔹 Merged NHANES_2001-2002_Laboratory_Complete_Blood_Count_with_5-part_Differential_-_Whole_Blood,_Second_Exam.csv into 2001-2002: +21 columns\n",
            "🔹 Merged NHANES_2001-2002_Laboratory_Cholesterol_-_Total_&_HDL.csv into 2001-2002: +4 columns\n",
            "🔹 Merged NHANES_2001-2002_Laboratory_Cholesterol_-_LDL_&_Triglycerides.csv into 2001-2002: +6 columns\n",
            "🔹 Merged NHANES_2001-2002_Questionnaire_Blood_Pressure_&_Cholesterol.csv into 2001-2002: +35 columns\n",
            "🔹 Merged NHANES_2001-2002_Laboratory_Cholesterol_-_Total,_HDL,_LDL__&_Triglycerides,_Second_Exam.csv into 2001-2002: +9 columns\n"
          ]
        },
        {
          "output_type": "stream",
          "name": "stderr",
          "text": [
            "\rProcessing NHANES cycles:  67%|██████▋   | 8/12 [00:03<00:02,  1.85it/s]"
          ]
        },
        {
          "output_type": "stream",
          "name": "stdout",
          "text": [
            "🔹 Merged NHANES_2001-2002_Laboratory_Fasting_Questionnaire.csv into 2001-2002: +18 columns\n",
            "🔹 Merged NHANES_2001-2002_Laboratory_Plasma_Fasting_Glucose,_Serum_C-peptide_&_Insulin.csv into 2001-2002: +7 columns\n",
            "🔹 Merged NHANES_2001-2002_Questionnaire_Diabetes.csv into 2001-2002: +16 columns\n",
            "✅ Demographics loaded for 2003-2004: 10122 patients, 48 columns\n",
            "🔹 Merged NHANES_2003-2004_Laboratory_Cholesterol_-_Total_&_HDL.csv into 2003-2004: +4 columns\n",
            "🔹 Merged NHANES_2003-2004_Laboratory_Plasma_Fasting_Glucose,_Serum_C-peptide_&_Insulin.csv into 2003-2004: +6 columns\n",
            "🔹 Merged NHANES_2003-2004_Questionnaire_Diabetes.csv into 2003-2004: +16 columns\n",
            "🔹 Merged NHANES_2003-2004_Laboratory_Cholesterol_-_LDL_&_Triglycerides.csv into 2003-2004: +5 columns\n",
            "🔹 Merged NHANES_2003-2004_Questionnaire_Blood_Pressure_&_Cholesterol.csv into 2003-2004: +35 columns\n",
            "🔹 Merged NHANES_2003-2004_Laboratory_Glycohemoglobin.csv into 2003-2004: +1 columns\n"
          ]
        },
        {
          "output_type": "stream",
          "name": "stderr",
          "text": [
            "\rProcessing NHANES cycles:  75%|███████▌  | 9/12 [00:04<00:01,  2.00it/s]"
          ]
        },
        {
          "output_type": "stream",
          "name": "stdout",
          "text": [
            "🔹 Merged NHANES_2003-2004_Laboratory_Fasting_Questionnaire.csv into 2003-2004: +18 columns\n",
            "🔹 Merged NHANES_2003-2004_Laboratory_Fatty_Acids_-_Plasma_(Surplus).csv into 2003-2004: +25 columns\n",
            "✅ Demographics loaded for 2015-2016: 9971 patients, 51 columns\n",
            "🔹 Merged NHANES_2015-2016_Laboratory_Cholesterol_-_High-Density_Lipoprotein_(HDL).csv into 2015-2016: +2 columns\n",
            "🔹 Merged NHANES_2015-2016_Laboratory_Cholesterol_-_Total.csv into 2015-2016: +2 columns\n",
            "🔹 Merged NHANES_2015-2016_Laboratory_Glycohemoglobin.csv into 2015-2016: +1 columns\n",
            "🔹 Merged NHANES_2015-2016_Laboratory_Oral_Glucose_Tolerance_Test.csv into 2015-2016: +9 columns\n",
            "🔹 Merged NHANES_2015-2016_Laboratory_Fasting_Questionnaire.csv into 2015-2016: +18 columns\n",
            "🔹 Merged NHANES_2015-2016_Questionnaire_Diabetes.csv into 2015-2016: +53 columns\n",
            "🔹 Merged NHANES_2015-2016_Laboratory_Insulin.csv into 2015-2016: +6 columns\n"
          ]
        },
        {
          "output_type": "stream",
          "name": "stderr",
          "text": [
            "\rProcessing NHANES cycles:  83%|████████▎ | 10/12 [00:04<00:01,  1.88it/s]"
          ]
        },
        {
          "output_type": "stream",
          "name": "stdout",
          "text": [
            "🔹 Merged NHANES_2015-2016_Examination_Blood_Pressure.csv into 2015-2016: +20 columns\n",
            "🔹 Merged NHANES_2015-2016_Laboratory_Cholesterol_-_Low_-_Density_Lipoprotein_(LDL)_&_Triglycerides.csv into 2015-2016: +5 columns\n",
            "🔹 Merged NHANES_2015-2016_Laboratory_Plasma_Fasting_Glucose.csv into 2015-2016: +3 columns\n",
            "🔹 Merged NHANES_2015-2016_Laboratory_Folate_Forms_-_Total_&_Individual_-_Serum.csv into 2015-2016: +14 columns\n",
            "🔹 Merged NHANES_2015-2016_Questionnaire_Blood_Pressure_&_Cholesterol.csv into 2015-2016: +10 columns\n",
            "✅ Demographics loaded for 1999-2000: 9965 patients, 148 columns\n",
            "🔹 Merged NHANES_1999-2000_Examination_Blood_Pressure.csv into 1999-2000: +29 columns\n",
            "🔹 Merged NHANES_1999-2000_Questionnaire_Blood_Pressure_&_Cholesterol.csv into 1999-2000: +35 columns\n",
            "🔹 Merged NHANES_1999-2000_Laboratory_Cholesterol_-_LDL_&_Triglycerides.csv into 1999-2000: +6 columns\n",
            "🔹 Merged NHANES_1999-2000_Laboratory_Glycohemoglobin.csv into 1999-2000: +1 columns\n",
            "🔹 Merged NHANES_1999-2000_Laboratory_Trans_Fatty_Acids.csv into 1999-2000: +9 columns\n",
            "🔹 Merged NHANES_1999-2000_Laboratory_Fasting_Questionnaire.csv into 1999-2000: +18 columns\n",
            "🔹 Merged NHANES_1999-2000_Questionnaire_Diabetes.csv into 1999-2000: +16 columns\n",
            "🔹 Merged NHANES_1999-2000_Laboratory_Cholesterol_-_Total_&_HDL.csv into 1999-2000: +4 columns\n"
          ]
        },
        {
          "output_type": "stream",
          "name": "stderr",
          "text": [
            "\rProcessing NHANES cycles:  92%|█████████▏| 11/12 [00:06<00:00,  1.31it/s]"
          ]
        },
        {
          "output_type": "stream",
          "name": "stdout",
          "text": [
            "🔹 Merged NHANES_1999-2000_Laboratory_Plasma_Fasting_Glucose,_Serum_C-peptide_&_Insulin.csv into 1999-2000: +7 columns\n",
            "✅ Demographics loaded for 2013-2014: 10175 patients, 51 columns\n",
            "🔹 Merged NHANES_2013-2014_Laboratory_Plasma_Fasting_Glucose.csv into 2013-2014: +5 columns\n",
            "🔹 Merged NHANES_2013-2014_Laboratory_Fasting_Questionnaire.csv into 2013-2014: +18 columns\n",
            "🔹 Merged NHANES_2013-2014_Laboratory_Folate_Forms_-_Total_&_Individual_-_Serum.csv into 2013-2014: +14 columns\n",
            "🔹 Merged NHANES_2013-2014_Laboratory_Complete_Blood_Count_with_5-part_Differential_-_Whole_Blood.csv into 2013-2014: +20 columns\n",
            "🔹 Merged NHANES_2013-2014_Laboratory_Cholesterol_-_HDL.csv into 2013-2014: +2 columns\n",
            "🔹 Merged NHANES_2013-2014_Questionnaire_Blood_Pressure_&_Cholesterol.csv into 2013-2014: +13 columns\n",
            "🔹 Merged NHANES_2013-2014_Questionnaire_Diabetes.csv into 2013-2014: +53 columns\n",
            "🔹 Merged NHANES_2013-2014_Laboratory_Cholesterol_-_LDL_&_Triglycerides.csv into 2013-2014: +5 columns\n",
            "🔹 Merged NHANES_2013-2014_Laboratory_Glycohemoglobin.csv into 2013-2014: +1 columns\n",
            "🔹 Merged NHANES_2013-2014_Laboratory_Fatty_Acids_-_Serum.csv into 2013-2014: +61 columns\n",
            "🔹 Merged NHANES_2013-2014_Examination_Blood_Pressure.csv into 2013-2014: +22 columns\n",
            "🔹 Merged NHANES_2013-2014_Laboratory_Oral_Glucose_Tolerance_Test.csv into 2013-2014: +11 columns\n"
          ]
        },
        {
          "output_type": "stream",
          "name": "stderr",
          "text": [
            "Processing NHANES cycles: 100%|██████████| 12/12 [00:06<00:00,  1.74it/s]"
          ]
        },
        {
          "output_type": "stream",
          "name": "stdout",
          "text": [
            "🔹 Merged NHANES_2013-2014_Laboratory_Cholesterol_-_Total.csv into 2013-2014: +2 columns\n",
            "🔹 Merged NHANES_2013-2014_Laboratory_Insulin.csv into 2013-2014: +5 columns\n"
          ]
        },
        {
          "output_type": "stream",
          "name": "stderr",
          "text": [
            "\n"
          ]
        },
        {
          "output_type": "stream",
          "name": "stdout",
          "text": [
            "\n",
            "✅ Flattened dataset ready: nhanes_patient_flattened.csv\n",
            "Shape: 122503 patients, 1983 variables\n",
            "📊 Column summary saved: nhanes_column_summary.csv\n",
            "\n",
            "📋 Missing datasets per cycle:\n"
          ]
        }
      ]
    },
    {
      "cell_type": "code",
      "source": [
        "!pip install duckdb psutil\n",
        "import duckdb\n",
        "import pandas as pd\n",
        "import time\n",
        "import os\n",
        "import re\n",
        "from datetime import datetime\n",
        "\n",
        "# ========== CONFIGURATION ==========\n",
        "INPUT_FILE = \"nhanes_patient_flattened.csv\"\n",
        "OUTPUT_FILE = \"nhanes_wide_aggregated.csv\"\n",
        "\n",
        "# ========== SETUP ==========\n",
        "print(\"=\" * 60)\n",
        "print(\"🚀 NHANES Wide Format Aggregation (One Row Per Patient)\")\n",
        "print(\"=\" * 60)\n",
        "print(f\"Input:  {INPUT_FILE}\")\n",
        "print(f\"Output: {OUTPUT_FILE}\")\n",
        "print(f\"Started: {datetime.now().strftime('%Y-%m-%d %H:%M:%S')}\\n\")\n",
        "\n",
        "start_time = time.time()\n",
        "\n",
        "# ========== STEP 1: Check Input File ==========\n",
        "if not os.path.exists(INPUT_FILE):\n",
        "    raise FileNotFoundError(f\"❌ Input file not found: {INPUT_FILE}\")\n",
        "\n",
        "file_size_mb = os.path.getsize(INPUT_FILE) / (1024 ** 2)\n",
        "print(f\"📁 Input file size: {file_size_mb:.2f} MB\\n\")\n",
        "\n",
        "# ========== STEP 2: Analyze Column Structure ==========\n",
        "print(\"🔍 Analyzing column structure...\")\n",
        "con = duckdb.connect()\n",
        "\n",
        "# Load first row to understand structure\n",
        "sample = con.execute(f\"\"\"\n",
        "    SELECT * FROM read_csv('{INPUT_FILE}', AUTO_DETECT=TRUE, SAMPLE_SIZE=1000)\n",
        "    LIMIT 1\n",
        "\"\"\").df()\n",
        "\n",
        "print(f\"✅ Found {len(sample.columns)} total columns\\n\")\n",
        "\n",
        "# ========== STEP 3: Extract Cycle and Base Variable from Column Names ==========\n",
        "print(\"🔨 Extracting base variables and cycle information...\")\n",
        "\n",
        "def parse_column_name(col):\n",
        "    \"\"\"\n",
        "    Parse column like: LBXGLU_NHANES_2017-2018_Laboratory_Glucose\n",
        "    Returns: (base_variable, cycle, full_name)\n",
        "    \"\"\"\n",
        "    if col == 'SEQN':\n",
        "        return ('SEQN', None, 'SEQN')\n",
        "\n",
        "    # Try to extract cycle (e.g., 2017-2018)\n",
        "    cycle_match = re.search(r'(\\d{4})[-_](\\d{4})', col)\n",
        "    cycle = f\"{cycle_match.group(1)}-{cycle_match.group(2)}\" if cycle_match else 'unknown'\n",
        "\n",
        "    # Base variable is the first part before underscore\n",
        "    parts = col.split('_')\n",
        "    base_var = parts[0] if parts else col\n",
        "\n",
        "    return (base_var, cycle, col)\n",
        "\n",
        "# Parse all columns\n",
        "column_info = {}\n",
        "for col in sample.columns:\n",
        "    if col == 'SEQN':\n",
        "        continue\n",
        "    base_var, cycle, full_name = parse_column_name(col)\n",
        "\n",
        "    if base_var not in column_info:\n",
        "        column_info[base_var] = []\n",
        "    column_info[base_var].append({\n",
        "        'full_name': full_name,\n",
        "        'cycle': cycle\n",
        "    })\n",
        "\n",
        "print(f\"✅ Identified {len(column_info)} unique base variables\")\n",
        "print(f\"   Example: {list(column_info.keys())[:5]}\\n\")\n",
        "\n",
        "# ========== STEP 4: Build Aggregation Query ==========\n",
        "print(\"⚙️  Building aggregation query...\")\n",
        "print(\"   Strategy: Group by SEQN, concatenate values with cycle info\\n\")\n",
        "\n",
        "# Build COALESCE statements for each base variable\n",
        "# Format: \"value1 [cycle1], value2 [cycle2]\"\n",
        "agg_statements = []\n",
        "\n",
        "for base_var, columns in column_info.items():\n",
        "    if len(columns) == 1:\n",
        "        # Only one column for this variable - just select it\n",
        "        col = columns[0]['full_name']\n",
        "        agg_statements.append(f'\"{col}\" AS \"{base_var}\"')\n",
        "    else:\n",
        "        # Multiple columns - concatenate with cycle info\n",
        "        # Build: CONCAT_WS(', ',\n",
        "        #          CASE WHEN col1 IS NOT NULL THEN col1 || ' [cycle1]' END,\n",
        "        #          CASE WHEN col2 IS NOT NULL THEN col2 || ' [cycle2]' END)\n",
        "        concat_parts = []\n",
        "        for col_info in columns:\n",
        "            col = col_info['full_name']\n",
        "            cycle = col_info['cycle']\n",
        "            concat_parts.append(\n",
        "                f'CASE WHEN \"{col}\" IS NOT NULL THEN CAST(\"{col}\" AS VARCHAR) || \\' [{cycle}]\\' END'\n",
        "            )\n",
        "\n",
        "        concat_expr = f\"CONCAT_WS(', ', {', '.join(concat_parts)})\"\n",
        "        agg_statements.append(f'{concat_expr} AS \"{base_var}\"')\n",
        "\n",
        "# Build final SELECT statement\n",
        "select_clause = \"SEQN, \" + \", \".join(agg_statements)\n",
        "\n",
        "query = f\"\"\"\n",
        "    COPY (\n",
        "        SELECT {select_clause}\n",
        "        FROM read_csv('{INPUT_FILE}',\n",
        "                     AUTO_DETECT=TRUE,\n",
        "                     SAMPLE_SIZE=50000,\n",
        "                     IGNORE_ERRORS=TRUE)\n",
        "        ORDER BY SEQN\n",
        "    ) TO '{OUTPUT_FILE}' (HEADER, DELIMITER ',')\n",
        "\"\"\"\n",
        "\n",
        "# ========== STEP 5: Execute Transformation ==========\n",
        "print(\"⚙️  Executing transformation...\")\n",
        "print(\"    (This may take 10-30 minutes depending on dataset size)\")\n",
        "print(\"    Processing all patients into single-row format...\\n\")\n",
        "\n",
        "try:\n",
        "    con.execute(query)\n",
        "    transform_time = time.time() - start_time\n",
        "    print(f\"✅ Transformation complete in {transform_time/60:.2f} minutes\\n\")\n",
        "\n",
        "    # ========== STEP 6: Get Statistics ==========\n",
        "    print(\"📊 Analyzing results...\")\n",
        "\n",
        "    result_df = pd.read_csv(OUTPUT_FILE, nrows=5)\n",
        "\n",
        "    print(f\"   Output columns: {len(result_df.columns)}\")\n",
        "    print(f\"   (One column per unique base variable)\\n\")\n",
        "\n",
        "    output_size_mb = os.path.getsize(OUTPUT_FILE) / (1024 ** 2)\n",
        "    print(f\"💾 Output file size: {output_size_mb:.2f} MB\\n\")\n",
        "\n",
        "    # ========== STEP 7: Show Sample Data ==========\n",
        "    print(\"🔬 Sample of first patient (first 5 columns):\")\n",
        "    print(result_df.iloc[0, :5].to_string())\n",
        "    print(\"\\n📋 Example of multi-cycle values:\")\n",
        "    # Find a column with commas (multiple values)\n",
        "    for col in result_df.columns[1:20]:  # Check first 20 columns\n",
        "        val = result_df.iloc[0][col]\n",
        "        if isinstance(val, str) and ',' in val:\n",
        "            print(f\"   {col}: {val[:100]}...\")\n",
        "            break\n",
        "    print()\n",
        "\n",
        "    # ========== STEP 8: Memory Usage Report ==========\n",
        "    import psutil\n",
        "    process = psutil.Process()\n",
        "    memory_mb = process.memory_info().rss / (1024 ** 2)\n",
        "    print(f\"💾 Peak memory usage: {memory_mb:.2f} MB\")\n",
        "\n",
        "except Exception as e:\n",
        "    print(f\"❌ Error during transformation: {e}\")\n",
        "    import traceback\n",
        "    traceback.print_exc()\n",
        "    raise\n",
        "\n",
        "finally:\n",
        "    con.close()\n",
        "\n",
        "# ========== SUMMARY ==========\n",
        "total_time = time.time() - start_time\n",
        "print(\"\\n\" + \"=\" * 60)\n",
        "print(\"✅ TRANSFORMATION COMPLETE!\")\n",
        "print(\"=\" * 60)\n",
        "print(f\"⏱️  Total time: {total_time/60:.2f} minutes\")\n",
        "print(f\"📁 Output file: {OUTPUT_FILE}\")\n",
        "print(f\"📊 Format: One row per patient (SEQN)\")\n",
        "print(f\"📋 Columns: {len(result_df.columns)} unique variables\")\n",
        "print(f\"💡 Multi-cycle values formatted as: value1 [2017-2018], value2 [2019-2020]\")\n",
        "print(\"=\" * 60)\n",
        "\n",
        "print(\"\\n💡 Excel Tips:\")\n",
        "print(\"   - This format is Excel-friendly (manageable column count)\")\n",
        "print(\"   - Each cell contains all values for that patient/variable\")\n",
        "print(\"   - Cycle info preserved in brackets: [2017-2018]\")\n",
        "print(\"   - AI can parse: 'value [cycle], value [cycle]' format\")\n",
        "\n",
        "\n",
        "\n",
        "\n"
      ],
      "metadata": {
        "colab": {
          "base_uri": "https://localhost:8080/",
          "height": 1000,
          "referenced_widgets": [
            "640c6d1ebbb44865960705eb06acd4e8",
            "3f9b6e0d65de4da681ebc2689d49310e",
            "61fe09b38530467aacf6041afdc65de3"
          ]
        },
        "id": "0DulDQd5FCGB",
        "outputId": "912e29d4-8d6d-4ff4-fe11-ff779f3d39c1"
      },
      "execution_count": null,
      "outputs": [
        {
          "output_type": "stream",
          "name": "stdout",
          "text": [
            "Requirement already satisfied: duckdb in /usr/local/lib/python3.12/dist-packages (1.3.2)\n",
            "Requirement already satisfied: psutil in /usr/local/lib/python3.12/dist-packages (5.9.5)\n",
            "============================================================\n",
            "🚀 NHANES Wide Format Aggregation (One Row Per Patient)\n",
            "============================================================\n",
            "Input:  nhanes_patient_flattened.csv\n",
            "Output: nhanes_wide_aggregated.csv\n",
            "Started: 2025-10-20 17:42:03\n",
            "\n",
            "📁 Input file size: 304.39 MB\n",
            "\n",
            "🔍 Analyzing column structure...\n",
            "✅ Found 1983 total columns\n",
            "\n",
            "🔨 Extracting base variables and cycle information...\n",
            "✅ Identified 607 unique base variables\n",
            "   Example: ['SDDSRVYR', 'RIDSTATR', 'RIAGENDR', 'RIDAGEYR', 'RIDAGEMN']\n",
            "\n",
            "⚙️  Building aggregation query...\n",
            "   Strategy: Group by SEQN, concatenate values with cycle info\n",
            "\n",
            "⚙️  Executing transformation...\n",
            "    (This may take 10-30 minutes depending on dataset size)\n",
            "    Processing all patients into single-row format...\n",
            "\n"
          ]
        },
        {
          "output_type": "display_data",
          "data": {
            "text/plain": [
              "FloatProgress(value=0.0, layout=Layout(width='auto'), style=ProgressStyle(bar_color='black'))"
            ],
            "application/vnd.jupyter.widget-view+json": {
              "version_major": 2,
              "version_minor": 0,
              "model_id": "640c6d1ebbb44865960705eb06acd4e8"
            }
          },
          "metadata": {}
        },
        {
          "output_type": "stream",
          "name": "stdout",
          "text": [
            "✅ Transformation complete in 0.56 minutes\n",
            "\n",
            "📊 Analyzing results...\n",
            "   Output columns: 608\n",
            "   (One column per unique base variable)\n",
            "\n",
            "💾 Output file size: 279.89 MB\n",
            "\n",
            "🔬 Sample of first patient (first 5 columns):\n",
            "SEQN        1.0\n",
            "SDDSRVYR    1.0\n",
            "RIDSTATR    2.0\n",
            "RIAGENDR    2.0\n",
            "RIDAGEYR    2.0\n",
            "\n",
            "📋 Example of multi-cycle values:\n",
            "\n",
            "💾 Peak memory usage: 4828.82 MB\n",
            "\n",
            "============================================================\n",
            "✅ TRANSFORMATION COMPLETE!\n",
            "============================================================\n",
            "⏱️  Total time: 0.57 minutes\n",
            "📁 Output file: nhanes_wide_aggregated.csv\n",
            "📊 Format: One row per patient (SEQN)\n",
            "📋 Columns: 608 unique variables\n",
            "💡 Multi-cycle values formatted as: value1 [2017-2018], value2 [2019-2020]\n",
            "============================================================\n",
            "\n",
            "💡 Excel Tips:\n",
            "   - This format is Excel-friendly (manageable column count)\n",
            "   - Each cell contains all values for that patient/variable\n",
            "   - Cycle info preserved in brackets: [2017-2018]\n",
            "   - AI can parse: 'value [cycle], value [cycle]' format\n"
          ]
        }
      ]
    },
    {
      "cell_type": "code",
      "source": [
        "import pandas as pd\n",
        "import requests\n",
        "from bs4 import BeautifulSoup\n",
        "import time\n",
        "import re\n",
        "from tqdm import tqdm\n",
        "import json\n",
        "import os\n",
        "\n",
        "# Configuration\n",
        "WIDE_FILE = \"nhanes_wide_aggregated.csv\"\n",
        "OUTPUT_DICT = \"nhanes_auto_dictionary.csv\"\n",
        "CACHE_FILE = \"nhanes_scrape_cache.json\"\n",
        "DATA_DIR = \"nhanes_data\"\n",
        "\n",
        "print(\"=\" * 70)\n",
        "print(\"SIMPLE NHANES DICTIONARY SCRAPER\")\n",
        "print(\"=\" * 70)\n",
        "\n",
        "# Step 1: Get list of variables we need\n",
        "print(\"\\nStep 1: Loading variable list from wide file...\")\n",
        "wide_df = pd.read_csv(WIDE_FILE, nrows=0)\n",
        "needed_vars = set()\n",
        "for col in wide_df.columns:\n",
        "    base_var = col.split('_')[0] if '_' in col else col\n",
        "    needed_vars.add(base_var)\n",
        "\n",
        "print(f\"   Need definitions for {len(needed_vars)} variables\")\n",
        "print()\n",
        "\n",
        "# Step 2: Find URLs\n",
        "print(\"Step 2: Finding documentation URLs...\")\n",
        "doc_urls = []\n",
        "\n",
        "if os.path.exists(DATA_DIR):\n",
        "    for csv_file in os.listdir(DATA_DIR):\n",
        "        if csv_file.endswith('.csv'):\n",
        "            try:\n",
        "                df = pd.read_csv(os.path.join(DATA_DIR, csv_file), nrows=1)\n",
        "                for col in ['Doc', 'Doc_URL', 'doc']:\n",
        "                    if col in df.columns and not df[col].isna().all():\n",
        "                        url = df[col].iloc[0]\n",
        "                        if url and str(url).startswith('http') and url not in doc_urls:\n",
        "                            doc_urls.append(url)\n",
        "                        break\n",
        "            except:\n",
        "                continue\n",
        "\n",
        "print(f\"   Found {len(doc_urls)} URLs\")\n",
        "print()\n",
        "\n",
        "# Step 3: Load cache\n",
        "cache = {}\n",
        "try:\n",
        "    with open(CACHE_FILE, 'r') as f:\n",
        "        cache = json.load(f)\n",
        "    print(f\"Loaded cache with {len(cache)} pages\")\n",
        "except:\n",
        "    print(\"No cache found\")\n",
        "\n",
        "print()\n",
        "\n",
        "# Step 4: Simple scraping approach\n",
        "def simple_scrape(url):\n",
        "    \"\"\"Dead simple: extract all text and find variable descriptions\"\"\"\n",
        "\n",
        "    if url in cache:\n",
        "        return cache[url]\n",
        "\n",
        "    try:\n",
        "        time.sleep(1)\n",
        "        response = requests.get(url, timeout=30)\n",
        "        response.raise_for_status()\n",
        "        soup = BeautifulSoup(response.content, 'html.parser')\n",
        "\n",
        "        # Get all text from the page\n",
        "        page_text = soup.get_text()\n",
        "\n",
        "        # Split into lines\n",
        "        lines = [line.strip() for line in page_text.split('\\n') if line.strip()]\n",
        "\n",
        "        variables = {}\n",
        "\n",
        "        # Look for patterns like:\n",
        "        # \"VARNAME - Description\"\n",
        "        # \"Variable Name: VARNAME\"\n",
        "        # \"SAS Label: Description\"\n",
        "        # \"English Text: Description\"\n",
        "\n",
        "        i = 0\n",
        "        while i < len(lines):\n",
        "            line = lines[i]\n",
        "\n",
        "            # Pattern 1: \"VARNAME - Description\" (in TOC or heading)\n",
        "            match = re.match(r'^([A-Z][A-Z0-9_]{2,15})\\s*[-–—]\\s*(.+)$', line)\n",
        "            if match:\n",
        "                var_name = match.group(1).strip()\n",
        "                var_desc = match.group(2).strip()\n",
        "\n",
        "                if var_name not in variables:\n",
        "                    variables[var_name] = {\n",
        "                        'description': var_desc,\n",
        "                        'source_url': url\n",
        "                    }\n",
        "\n",
        "            # Pattern 2: \"Variable Name: VARNAME\" followed by description\n",
        "            if 'Variable Name:' in line:\n",
        "                match = re.search(r'Variable Name:\\s*([A-Z][A-Z0-9_]+)', line, re.IGNORECASE)\n",
        "                if match:\n",
        "                    var_name = match.group(1).strip()\n",
        "                    var_desc = None\n",
        "\n",
        "                    # Look ahead for SAS Label or English Text\n",
        "                    for j in range(i+1, min(i+10, len(lines))):\n",
        "                        next_line = lines[j]\n",
        "\n",
        "                        # Get English Text (preferred)\n",
        "                        if 'English Text:' in next_line:\n",
        "                            desc_match = re.search(r'English Text:\\s*(.+)', next_line, re.IGNORECASE)\n",
        "                            if desc_match:\n",
        "                                var_desc = desc_match.group(1).strip()\n",
        "                                break\n",
        "\n",
        "                        # Get SAS Label (fallback)\n",
        "                        if not var_desc and 'SAS Label:' in next_line:\n",
        "                            desc_match = re.search(r'SAS Label:\\s*(.+)', next_line, re.IGNORECASE)\n",
        "                            if desc_match:\n",
        "                                var_desc = desc_match.group(1).strip()\n",
        "\n",
        "                    if var_name and var_desc:\n",
        "                        variables[var_name] = {\n",
        "                            'description': var_desc,\n",
        "                            'source_url': url\n",
        "                        }\n",
        "\n",
        "            i += 1\n",
        "\n",
        "        cache[url] = variables\n",
        "        return variables\n",
        "\n",
        "    except Exception as e:\n",
        "        print(f\"Error: {url} - {e}\")\n",
        "        return {}\n",
        "\n",
        "# Step 5: Scrape all URLs\n",
        "print(\"Step 3: Scraping (simple text extraction)...\")\n",
        "all_variables = {}\n",
        "\n",
        "for url in tqdm(doc_urls, desc=\"Scraping\"):\n",
        "    vars_found = simple_scrape(url)\n",
        "    all_variables.update(vars_found)\n",
        "\n",
        "# Save cache\n",
        "with open(CACHE_FILE, 'w') as f:\n",
        "    json.dump(cache, f, indent=2)\n",
        "\n",
        "print(f\"\\nFound {len(all_variables)} variable definitions\")\n",
        "print()\n",
        "\n",
        "# Step 6: Map to columns\n",
        "print(\"Step 4: Creating dictionary...\")\n",
        "records = []\n",
        "\n",
        "for col in wide_df.columns:\n",
        "    base_var = col.split('_')[0] if '_' in col else col\n",
        "\n",
        "    if base_var in all_variables:\n",
        "        info = all_variables[base_var]\n",
        "        records.append({\n",
        "            'column_name': col,\n",
        "            'base_variable': base_var,\n",
        "            'description': info['description'],\n",
        "            'source_url': info['source_url'],\n",
        "            'data_source': 'CDC Documentation'\n",
        "        })\n",
        "    else:\n",
        "        records.append({\n",
        "            'column_name': col,\n",
        "            'base_variable': base_var,\n",
        "            'description': f'NHANES variable {base_var}',\n",
        "            'source_url': '',\n",
        "            'data_source': 'Auto-generated'\n",
        "        })\n",
        "\n",
        "dict_df = pd.DataFrame(records)\n",
        "\n",
        "# Save\n",
        "dict_df.to_csv(OUTPUT_DICT, index=False)\n",
        "\n",
        "print(f\"Saved: {OUTPUT_DICT}\")\n",
        "print(f\"   Total: {len(dict_df)} columns\")\n",
        "print(f\"   From CDC: {len(dict_df[dict_df['data_source']=='CDC Documentation'])}\")\n",
        "print(f\"   Coverage: {len(dict_df[dict_df['data_source']=='CDC Documentation']) / len(dict_df) * 100:.1f}%\")\n",
        "print()\n",
        "\n",
        "# Show samples\n",
        "print(\"Sample descriptions:\")\n",
        "print(\"-\" * 70)\n",
        "samples = dict_df[dict_df['data_source']=='CDC Documentation'].head(15)\n",
        "for _, row in samples.iterrows():\n",
        "    print(f\"{row['base_variable']:12} : {row['description'][:80]}\")\n",
        "\n",
        "print(\"\\n\" + \"=\" * 70)\n",
        "print(\"DONE!\")\n",
        "print(\"=\" * 70)"
      ],
      "metadata": {
        "colab": {
          "base_uri": "https://localhost:8080/"
        },
        "id": "RAwD1ghhR3Ic",
        "outputId": "71d0bfa1-878e-4627-d1a9-d1c68b21d07d"
      },
      "execution_count": null,
      "outputs": [
        {
          "output_type": "stream",
          "name": "stdout",
          "text": [
            "======================================================================\n",
            "SIMPLE NHANES DICTIONARY SCRAPER\n",
            "======================================================================\n",
            "\n",
            "Step 1: Loading variable list from wide file...\n",
            "   Need definitions for 608 variables\n",
            "\n",
            "Step 2: Finding documentation URLs...\n",
            "   Found 134 URLs\n",
            "\n",
            "Loaded cache with 134 pages\n",
            "\n",
            "Step 3: Scraping (simple text extraction)...\n"
          ]
        },
        {
          "output_type": "stream",
          "name": "stderr",
          "text": [
            "Scraping: 100%|██████████| 134/134 [00:00<00:00, 54329.31it/s]"
          ]
        },
        {
          "output_type": "stream",
          "name": "stdout",
          "text": [
            "\n",
            "Found 605 variable definitions\n",
            "\n",
            "Step 4: Creating dictionary...\n",
            "Saved: nhanes_auto_dictionary.csv\n",
            "   Total: 608 columns\n",
            "   From CDC: 1\n",
            "   Coverage: 0.2%\n",
            "\n",
            "Sample descriptions:\n",
            "----------------------------------------------------------------------\n",
            "DMDEDUC      : Respondent sequence number.Target:Both males and females 0 YEARS -\n",
            "\n",
            "======================================================================\n",
            "DONE!\n",
            "======================================================================\n"
          ]
        },
        {
          "output_type": "stream",
          "name": "stderr",
          "text": [
            "\n"
          ]
        }
      ]
    }
  ]
}